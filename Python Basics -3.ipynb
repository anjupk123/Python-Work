{
 "cells": [
  {
   "cell_type": "code",
   "execution_count": 5,
   "id": "d34f1ac7",
   "metadata": {},
   "outputs": [
    {
     "data": {
      "text/plain": [
       "'EzyMentor'"
      ]
     },
     "execution_count": 5,
     "metadata": {},
     "output_type": "execute_result"
    }
   ],
   "source": [
    "# String in python are used to represent unicode character values.a single character is also considered as a string.\n",
    "# We denote or declare the string values inside single quotes or double quotes.\n",
    "# To access the values is a string, we use the indexes and square brackets.\n",
    "\n",
    "string='EzyMentor'\n",
    "\n",
    "string"
   ]
  },
  {
   "cell_type": "code",
   "execution_count": 6,
   "id": "9f6caade",
   "metadata": {},
   "outputs": [
    {
     "data": {
      "text/plain": [
       "'e'"
      ]
     },
     "execution_count": 6,
     "metadata": {},
     "output_type": "execute_result"
    }
   ],
   "source": [
    "# To Input for strings\n",
    "\n",
    "string[4]"
   ]
  },
  {
   "cell_type": "code",
   "execution_count": 7,
   "id": "82e25d97",
   "metadata": {},
   "outputs": [
    {
     "data": {
      "text/plain": [
       "'E'"
      ]
     },
     "execution_count": 7,
     "metadata": {},
     "output_type": "execute_result"
    }
   ],
   "source": [
    "string[0]"
   ]
  },
  {
   "cell_type": "code",
   "execution_count": 8,
   "id": "fbfc8162",
   "metadata": {},
   "outputs": [
    {
     "data": {
      "text/plain": [
       "'r'"
      ]
     },
     "execution_count": 8,
     "metadata": {},
     "output_type": "execute_result"
    }
   ],
   "source": [
    "string[8]"
   ]
  },
  {
   "cell_type": "code",
   "execution_count": 1,
   "id": "69ccc3c7",
   "metadata": {},
   "outputs": [
    {
     "name": "stdout",
     "output_type": "stream",
     "text": [
      "EzyMentor\n"
     ]
    }
   ],
   "source": [
    "# To Input for strings\n",
    "\n",
    "x=input()"
   ]
  },
  {
   "cell_type": "code",
   "execution_count": 2,
   "id": "b814ffb9",
   "metadata": {},
   "outputs": [
    {
     "name": "stdout",
     "output_type": "stream",
     "text": [
      "Hi All my Viewers\n"
     ]
    }
   ],
   "source": [
    "z=input()\n"
   ]
  },
  {
   "cell_type": "markdown",
   "id": "af5f1e4a",
   "metadata": {},
   "source": [
    "## Basic Operations Using String"
   ]
  },
  {
   "cell_type": "code",
   "execution_count": 3,
   "id": "f4111640",
   "metadata": {},
   "outputs": [
    {
     "data": {
      "text/plain": [
       "'HAI FROM EZYMENTOR'"
      ]
     },
     "execution_count": 3,
     "metadata": {},
     "output_type": "execute_result"
    }
   ],
   "source": [
    "string='Hai From EzyMentor'\n",
    "\n",
    "# Will make the letters to uppercase\n",
    "\n",
    "string.upper()"
   ]
  },
  {
   "cell_type": "code",
   "execution_count": 4,
   "id": "d17d3059",
   "metadata": {},
   "outputs": [
    {
     "data": {
      "text/plain": [
       "'hai from ezymentor'"
      ]
     },
     "execution_count": 4,
     "metadata": {},
     "output_type": "execute_result"
    }
   ],
   "source": [
    "# Will make the letters to lowercase\n",
    "\n",
    "string.lower()"
   ]
  },
  {
   "cell_type": "code",
   "execution_count": 5,
   "id": "0d5d81b1",
   "metadata": {},
   "outputs": [
    {
     "data": {
      "text/plain": [
       "'i From EzyMent'"
      ]
     },
     "execution_count": 5,
     "metadata": {},
     "output_type": "execute_result"
    }
   ],
   "source": [
    "# Will return the strings starting at index 2 until the index 16.\n",
    "\n",
    "string[2:16]"
   ]
  },
  {
   "cell_type": "code",
   "execution_count": 6,
   "id": "54939f28",
   "metadata": {},
   "outputs": [
    {
     "data": {
      "text/plain": [
       "'From EzyMentor'"
      ]
     },
     "execution_count": 6,
     "metadata": {},
     "output_type": "execute_result"
    }
   ],
   "source": [
    "string[4:18]"
   ]
  }
 ],
 "metadata": {
  "kernelspec": {
   "display_name": "Python 3 (ipykernel)",
   "language": "python",
   "name": "python3"
  },
  "language_info": {
   "codemirror_mode": {
    "name": "ipython",
    "version": 3
   },
   "file_extension": ".py",
   "mimetype": "text/x-python",
   "name": "python",
   "nbconvert_exporter": "python",
   "pygments_lexer": "ipython3",
   "version": "3.9.12"
  }
 },
 "nbformat": 4,
 "nbformat_minor": 5
}
