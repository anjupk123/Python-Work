{
 "cells": [
  {
   "cell_type": "code",
   "execution_count": 87,
   "id": "f3188a57",
   "metadata": {},
   "outputs": [],
   "source": [
    "#Import library \n",
    "import pandas as pd\n",
    "import numpy as np\n",
    "import seaborn as sns\n",
    "import matplotlib.pyplot as plt\n",
    "\n",
    "#data importing"
   ]
  },
  {
   "cell_type": "code",
   "execution_count": 88,
   "id": "94b47b05",
   "metadata": {},
   "outputs": [
    {
     "data": {
      "text/html": [
       "<div>\n",
       "<style scoped>\n",
       "    .dataframe tbody tr th:only-of-type {\n",
       "        vertical-align: middle;\n",
       "    }\n",
       "\n",
       "    .dataframe tbody tr th {\n",
       "        vertical-align: top;\n",
       "    }\n",
       "\n",
       "    .dataframe thead th {\n",
       "        text-align: right;\n",
       "    }\n",
       "</style>\n",
       "<table border=\"1\" class=\"dataframe\">\n",
       "  <thead>\n",
       "    <tr style=\"text-align: right;\">\n",
       "      <th></th>\n",
       "      <th>Restaurant ID</th>\n",
       "      <th>Restaurant Name</th>\n",
       "      <th>Country</th>\n",
       "      <th>City</th>\n",
       "      <th>Address</th>\n",
       "      <th>Locality</th>\n",
       "      <th>Locality Verbose</th>\n",
       "      <th>Longitude</th>\n",
       "      <th>Latitude</th>\n",
       "      <th>Cuisines</th>\n",
       "      <th>...</th>\n",
       "      <th>Has Table booking</th>\n",
       "      <th>Has Online delivery</th>\n",
       "      <th>Is delivering now</th>\n",
       "      <th>Switch to order menu</th>\n",
       "      <th>Price range</th>\n",
       "      <th>Aggregate rating</th>\n",
       "      <th>Rating color</th>\n",
       "      <th>Rating text</th>\n",
       "      <th>Votes</th>\n",
       "      <th>Country.1</th>\n",
       "    </tr>\n",
       "  </thead>\n",
       "  <tbody>\n",
       "    <tr>\n",
       "      <th>0</th>\n",
       "      <td>6317637.0</td>\n",
       "      <td>Le Petit Souffle</td>\n",
       "      <td>Phillipines</td>\n",
       "      <td>Makati City</td>\n",
       "      <td>Third Floor, Century City Mall, Kalayaan Avenu...</td>\n",
       "      <td>Century City Mall, Poblacion, Makati City</td>\n",
       "      <td>Century City Mall, Poblacion, Makati City, Mak...</td>\n",
       "      <td>121.027535</td>\n",
       "      <td>14.565443</td>\n",
       "      <td>French, Japanese, Desserts</td>\n",
       "      <td>...</td>\n",
       "      <td>Yes</td>\n",
       "      <td>No</td>\n",
       "      <td>No</td>\n",
       "      <td>No</td>\n",
       "      <td>3.0</td>\n",
       "      <td>4.8</td>\n",
       "      <td>Dark Green</td>\n",
       "      <td>Excellent</td>\n",
       "      <td>314.0</td>\n",
       "      <td>Phillipines</td>\n",
       "    </tr>\n",
       "    <tr>\n",
       "      <th>1</th>\n",
       "      <td>6304287.0</td>\n",
       "      <td>Izakaya Kikufuji</td>\n",
       "      <td>Phillipines</td>\n",
       "      <td>Makati City</td>\n",
       "      <td>Little Tokyo, 2277 Chino Roces Avenue, Legaspi...</td>\n",
       "      <td>Little Tokyo, Legaspi Village, Makati City</td>\n",
       "      <td>Little Tokyo, Legaspi Village, Makati City, Ma...</td>\n",
       "      <td>121.014101</td>\n",
       "      <td>14.553708</td>\n",
       "      <td>Japanese</td>\n",
       "      <td>...</td>\n",
       "      <td>Yes</td>\n",
       "      <td>No</td>\n",
       "      <td>No</td>\n",
       "      <td>No</td>\n",
       "      <td>3.0</td>\n",
       "      <td>4.5</td>\n",
       "      <td>Dark Green</td>\n",
       "      <td>Excellent</td>\n",
       "      <td>591.0</td>\n",
       "      <td>Phillipines</td>\n",
       "    </tr>\n",
       "    <tr>\n",
       "      <th>2</th>\n",
       "      <td>6300002.0</td>\n",
       "      <td>Heat - Edsa Shangri-La</td>\n",
       "      <td>Phillipines</td>\n",
       "      <td>Mandaluyong City</td>\n",
       "      <td>Edsa Shangri-La, 1 Garden Way, Ortigas, Mandal...</td>\n",
       "      <td>Edsa Shangri-La, Ortigas, Mandaluyong City</td>\n",
       "      <td>Edsa Shangri-La, Ortigas, Mandaluyong City, Ma...</td>\n",
       "      <td>121.056831</td>\n",
       "      <td>14.581404</td>\n",
       "      <td>Seafood, Asian, Filipino, Indian</td>\n",
       "      <td>...</td>\n",
       "      <td>Yes</td>\n",
       "      <td>No</td>\n",
       "      <td>No</td>\n",
       "      <td>No</td>\n",
       "      <td>4.0</td>\n",
       "      <td>4.4</td>\n",
       "      <td>Green</td>\n",
       "      <td>Very Good</td>\n",
       "      <td>270.0</td>\n",
       "      <td>Phillipines</td>\n",
       "    </tr>\n",
       "  </tbody>\n",
       "</table>\n",
       "<p>3 rows × 22 columns</p>\n",
       "</div>"
      ],
      "text/plain": [
       "   Restaurant ID         Restaurant Name      Country              City  \\\n",
       "0      6317637.0        Le Petit Souffle  Phillipines       Makati City   \n",
       "1      6304287.0        Izakaya Kikufuji  Phillipines       Makati City   \n",
       "2      6300002.0  Heat - Edsa Shangri-La  Phillipines  Mandaluyong City   \n",
       "\n",
       "                                             Address  \\\n",
       "0  Third Floor, Century City Mall, Kalayaan Avenu...   \n",
       "1  Little Tokyo, 2277 Chino Roces Avenue, Legaspi...   \n",
       "2  Edsa Shangri-La, 1 Garden Way, Ortigas, Mandal...   \n",
       "\n",
       "                                     Locality  \\\n",
       "0   Century City Mall, Poblacion, Makati City   \n",
       "1  Little Tokyo, Legaspi Village, Makati City   \n",
       "2  Edsa Shangri-La, Ortigas, Mandaluyong City   \n",
       "\n",
       "                                    Locality Verbose   Longitude   Latitude  \\\n",
       "0  Century City Mall, Poblacion, Makati City, Mak...  121.027535  14.565443   \n",
       "1  Little Tokyo, Legaspi Village, Makati City, Ma...  121.014101  14.553708   \n",
       "2  Edsa Shangri-La, Ortigas, Mandaluyong City, Ma...  121.056831  14.581404   \n",
       "\n",
       "                           Cuisines  ...  Has Table booking  \\\n",
       "0        French, Japanese, Desserts  ...                Yes   \n",
       "1                          Japanese  ...                Yes   \n",
       "2  Seafood, Asian, Filipino, Indian  ...                Yes   \n",
       "\n",
       "  Has Online delivery Is delivering now Switch to order menu Price range  \\\n",
       "0                  No                No                   No         3.0   \n",
       "1                  No                No                   No         3.0   \n",
       "2                  No                No                   No         4.0   \n",
       "\n",
       "  Aggregate rating  Rating color  Rating text  Votes    Country.1  \n",
       "0              4.8    Dark Green    Excellent  314.0  Phillipines  \n",
       "1              4.5    Dark Green    Excellent  591.0  Phillipines  \n",
       "2              4.4         Green    Very Good  270.0  Phillipines  \n",
       "\n",
       "[3 rows x 22 columns]"
      ]
     },
     "execution_count": 88,
     "metadata": {},
     "output_type": "execute_result"
    }
   ],
   "source": [
    "zomato=pd.read_excel('zomato - merged.xlsx')\n",
    "\n",
    "zomato.head(3)"
   ]
  },
  {
   "cell_type": "code",
   "execution_count": 89,
   "id": "4df49973",
   "metadata": {},
   "outputs": [
    {
     "data": {
      "text/plain": [
       "(9551, 22)"
      ]
     },
     "execution_count": 89,
     "metadata": {},
     "output_type": "execute_result"
    }
   ],
   "source": [
    "zomato.shape"
   ]
  },
  {
   "cell_type": "code",
   "execution_count": 90,
   "id": "9fff42a1",
   "metadata": {},
   "outputs": [
    {
     "data": {
      "text/plain": [
       "Index(['Restaurant ID', 'Restaurant Name', 'Country', 'City', 'Address',\n",
       "       'Locality', 'Locality Verbose', 'Longitude', 'Latitude', 'Cuisines',\n",
       "       'Average Cost for two', 'Currency', 'Has Table booking',\n",
       "       'Has Online delivery', 'Is delivering now', 'Switch to order menu',\n",
       "       'Price range', 'Aggregate rating', 'Rating color', 'Rating text',\n",
       "       'Votes', 'Country.1'],\n",
       "      dtype='object')"
      ]
     },
     "execution_count": 90,
     "metadata": {},
     "output_type": "execute_result"
    }
   ],
   "source": [
    "# Checking column names\n",
    "zomato.columns"
   ]
  },
  {
   "cell_type": "code",
   "execution_count": 91,
   "id": "ab63c9c4",
   "metadata": {},
   "outputs": [],
   "source": [
    "#Check is there any null values in the data. Yes/ No\n",
    "# Checking datatype"
   ]
  },
  {
   "cell_type": "code",
   "execution_count": 92,
   "id": "1ec19c8f",
   "metadata": {},
   "outputs": [
    {
     "name": "stdout",
     "output_type": "stream",
     "text": [
      "<class 'pandas.core.frame.DataFrame'>\n",
      "RangeIndex: 9551 entries, 0 to 9550\n",
      "Data columns (total 22 columns):\n",
      " #   Column                Non-Null Count  Dtype  \n",
      "---  ------                --------------  -----  \n",
      " 0   Restaurant ID         9551 non-null   float64\n",
      " 1   Restaurant Name       9551 non-null   object \n",
      " 2   Country               9551 non-null   object \n",
      " 3   City                  9551 non-null   object \n",
      " 4   Address               9551 non-null   object \n",
      " 5   Locality              9551 non-null   object \n",
      " 6   Locality Verbose      9551 non-null   object \n",
      " 7   Longitude             9551 non-null   float64\n",
      " 8   Latitude              9551 non-null   float64\n",
      " 9   Cuisines              9542 non-null   object \n",
      " 10  Average Cost for two  9551 non-null   float64\n",
      " 11  Currency              9551 non-null   object \n",
      " 12  Has Table booking     9551 non-null   object \n",
      " 13  Has Online delivery   9551 non-null   object \n",
      " 14  Is delivering now     9551 non-null   object \n",
      " 15  Switch to order menu  9551 non-null   object \n",
      " 16  Price range           9551 non-null   float64\n",
      " 17  Aggregate rating      9551 non-null   float64\n",
      " 18  Rating color          9551 non-null   object \n",
      " 19  Rating text           9551 non-null   object \n",
      " 20  Votes                 9551 non-null   float64\n",
      " 21  Country.1             9551 non-null   object \n",
      "dtypes: float64(7), object(15)\n",
      "memory usage: 1.6+ MB\n"
     ]
    }
   ],
   "source": [
    "zomato.info()"
   ]
  },
  {
   "cell_type": "code",
   "execution_count": 93,
   "id": "d4a2cfa7",
   "metadata": {},
   "outputs": [
    {
     "data": {
      "text/plain": [
       "Restaurant ID           0\n",
       "Restaurant Name         0\n",
       "Country                 0\n",
       "City                    0\n",
       "Address                 0\n",
       "Locality                0\n",
       "Locality Verbose        0\n",
       "Longitude               0\n",
       "Latitude                0\n",
       "Cuisines                9\n",
       "Average Cost for two    0\n",
       "Currency                0\n",
       "Has Table booking       0\n",
       "Has Online delivery     0\n",
       "Is delivering now       0\n",
       "Switch to order menu    0\n",
       "Price range             0\n",
       "Aggregate rating        0\n",
       "Rating color            0\n",
       "Rating text             0\n",
       "Votes                   0\n",
       "Country.1               0\n",
       "dtype: int64"
      ]
     },
     "execution_count": 93,
     "metadata": {},
     "output_type": "execute_result"
    }
   ],
   "source": [
    "# Checking Nan value and removing from dataset\n",
    "zomato.isnull().sum()"
   ]
  },
  {
   "cell_type": "code",
   "execution_count": 161,
   "id": "c0960ae4",
   "metadata": {},
   "outputs": [
    {
     "data": {
      "text/plain": [
       "array(['Phillipines', 'Brazil', 'United States', 'Australia', 'Canada',\n",
       "       'Singapore', 'UAE', 'India', 'Indonesia', 'New Zealand',\n",
       "       'United Kingdom', 'Qatar', 'South Africa', 'Sri Lanka', 'Turkey'],\n",
       "      dtype=object)"
      ]
     },
     "execution_count": 161,
     "metadata": {},
     "output_type": "execute_result"
    }
   ],
   "source": [
    "# Reading Country of dataset\n",
    "zomato['Country'].unique()"
   ]
  },
  {
   "cell_type": "code",
   "execution_count": 94,
   "id": "3cd7964a",
   "metadata": {},
   "outputs": [
    {
     "data": {
      "text/html": [
       "<div>\n",
       "<style scoped>\n",
       "    .dataframe tbody tr th:only-of-type {\n",
       "        vertical-align: middle;\n",
       "    }\n",
       "\n",
       "    .dataframe tbody tr th {\n",
       "        vertical-align: top;\n",
       "    }\n",
       "\n",
       "    .dataframe thead th {\n",
       "        text-align: right;\n",
       "    }\n",
       "</style>\n",
       "<table border=\"1\" class=\"dataframe\">\n",
       "  <thead>\n",
       "    <tr style=\"text-align: right;\">\n",
       "      <th></th>\n",
       "      <th>Restaurant ID</th>\n",
       "      <th>Longitude</th>\n",
       "      <th>Latitude</th>\n",
       "      <th>Average Cost for two</th>\n",
       "      <th>Price range</th>\n",
       "      <th>Aggregate rating</th>\n",
       "      <th>Votes</th>\n",
       "    </tr>\n",
       "  </thead>\n",
       "  <tbody>\n",
       "    <tr>\n",
       "      <th>count</th>\n",
       "      <td>9.551000e+03</td>\n",
       "      <td>9551.000000</td>\n",
       "      <td>9551.000000</td>\n",
       "      <td>9551.000000</td>\n",
       "      <td>9551.000000</td>\n",
       "      <td>9551.000000</td>\n",
       "      <td>9551.000000</td>\n",
       "    </tr>\n",
       "    <tr>\n",
       "      <th>mean</th>\n",
       "      <td>9.051128e+06</td>\n",
       "      <td>64.126574</td>\n",
       "      <td>25.854381</td>\n",
       "      <td>1199.210763</td>\n",
       "      <td>1.804837</td>\n",
       "      <td>2.666370</td>\n",
       "      <td>156.909748</td>\n",
       "    </tr>\n",
       "    <tr>\n",
       "      <th>std</th>\n",
       "      <td>8.791521e+06</td>\n",
       "      <td>41.467058</td>\n",
       "      <td>11.007935</td>\n",
       "      <td>16121.183073</td>\n",
       "      <td>0.905609</td>\n",
       "      <td>1.516378</td>\n",
       "      <td>430.169145</td>\n",
       "    </tr>\n",
       "    <tr>\n",
       "      <th>min</th>\n",
       "      <td>5.300000e+01</td>\n",
       "      <td>-157.948486</td>\n",
       "      <td>-41.330428</td>\n",
       "      <td>0.000000</td>\n",
       "      <td>1.000000</td>\n",
       "      <td>0.000000</td>\n",
       "      <td>0.000000</td>\n",
       "    </tr>\n",
       "    <tr>\n",
       "      <th>25%</th>\n",
       "      <td>3.019625e+05</td>\n",
       "      <td>77.081343</td>\n",
       "      <td>28.478713</td>\n",
       "      <td>250.000000</td>\n",
       "      <td>1.000000</td>\n",
       "      <td>2.500000</td>\n",
       "      <td>5.000000</td>\n",
       "    </tr>\n",
       "    <tr>\n",
       "      <th>50%</th>\n",
       "      <td>6.004089e+06</td>\n",
       "      <td>77.191964</td>\n",
       "      <td>28.570469</td>\n",
       "      <td>400.000000</td>\n",
       "      <td>2.000000</td>\n",
       "      <td>3.200000</td>\n",
       "      <td>31.000000</td>\n",
       "    </tr>\n",
       "    <tr>\n",
       "      <th>75%</th>\n",
       "      <td>1.835229e+07</td>\n",
       "      <td>77.282006</td>\n",
       "      <td>28.642758</td>\n",
       "      <td>700.000000</td>\n",
       "      <td>2.000000</td>\n",
       "      <td>3.700000</td>\n",
       "      <td>131.000000</td>\n",
       "    </tr>\n",
       "    <tr>\n",
       "      <th>max</th>\n",
       "      <td>1.850065e+07</td>\n",
       "      <td>174.832089</td>\n",
       "      <td>55.976980</td>\n",
       "      <td>800000.000000</td>\n",
       "      <td>4.000000</td>\n",
       "      <td>4.900000</td>\n",
       "      <td>10934.000000</td>\n",
       "    </tr>\n",
       "  </tbody>\n",
       "</table>\n",
       "</div>"
      ],
      "text/plain": [
       "       Restaurant ID    Longitude     Latitude  Average Cost for two  \\\n",
       "count   9.551000e+03  9551.000000  9551.000000           9551.000000   \n",
       "mean    9.051128e+06    64.126574    25.854381           1199.210763   \n",
       "std     8.791521e+06    41.467058    11.007935          16121.183073   \n",
       "min     5.300000e+01  -157.948486   -41.330428              0.000000   \n",
       "25%     3.019625e+05    77.081343    28.478713            250.000000   \n",
       "50%     6.004089e+06    77.191964    28.570469            400.000000   \n",
       "75%     1.835229e+07    77.282006    28.642758            700.000000   \n",
       "max     1.850065e+07   174.832089    55.976980         800000.000000   \n",
       "\n",
       "       Price range  Aggregate rating         Votes  \n",
       "count  9551.000000       9551.000000   9551.000000  \n",
       "mean      1.804837          2.666370    156.909748  \n",
       "std       0.905609          1.516378    430.169145  \n",
       "min       1.000000          0.000000      0.000000  \n",
       "25%       1.000000          2.500000      5.000000  \n",
       "50%       2.000000          3.200000     31.000000  \n",
       "75%       2.000000          3.700000    131.000000  \n",
       "max       4.000000          4.900000  10934.000000  "
      ]
     },
     "execution_count": 94,
     "metadata": {},
     "output_type": "execute_result"
    }
   ],
   "source": [
    "#this will show some basic Statistics, summary statistics of the fields in the data\n",
    "zomato.describe()"
   ]
  },
  {
   "cell_type": "code",
   "execution_count": 95,
   "id": "f14939ac",
   "metadata": {},
   "outputs": [
    {
     "data": {
      "text/html": [
       "<div>\n",
       "<style scoped>\n",
       "    .dataframe tbody tr th:only-of-type {\n",
       "        vertical-align: middle;\n",
       "    }\n",
       "\n",
       "    .dataframe tbody tr th {\n",
       "        vertical-align: top;\n",
       "    }\n",
       "\n",
       "    .dataframe thead th {\n",
       "        text-align: right;\n",
       "    }\n",
       "</style>\n",
       "<table border=\"1\" class=\"dataframe\">\n",
       "  <thead>\n",
       "    <tr style=\"text-align: right;\">\n",
       "      <th></th>\n",
       "      <th>Restaurant ID</th>\n",
       "      <th>Restaurant Name</th>\n",
       "      <th>Country</th>\n",
       "      <th>City</th>\n",
       "      <th>Address</th>\n",
       "      <th>Locality</th>\n",
       "      <th>Locality Verbose</th>\n",
       "      <th>Longitude</th>\n",
       "      <th>Latitude</th>\n",
       "      <th>Cuisines</th>\n",
       "      <th>...</th>\n",
       "      <th>Has Table booking</th>\n",
       "      <th>Has Online delivery</th>\n",
       "      <th>Is delivering now</th>\n",
       "      <th>Switch to order menu</th>\n",
       "      <th>Price range</th>\n",
       "      <th>Aggregate rating</th>\n",
       "      <th>Rating color</th>\n",
       "      <th>Rating text</th>\n",
       "      <th>Votes</th>\n",
       "      <th>Country.1</th>\n",
       "    </tr>\n",
       "  </thead>\n",
       "  <tbody>\n",
       "    <tr>\n",
       "      <th>9548</th>\n",
       "      <td>5915807.0</td>\n",
       "      <td>Huqqa</td>\n",
       "      <td>Turkey</td>\n",
       "      <td>ÛÁstanbul</td>\n",
       "      <td>Kuruí_e�ôme Mahallesi, Muallim Naci Caddesi, N...</td>\n",
       "      <td>Kuruí_e�ôme</td>\n",
       "      <td>Kuruí_e�ôme, ÛÁstanbul</td>\n",
       "      <td>29.034640</td>\n",
       "      <td>41.055817</td>\n",
       "      <td>Italian, World Cuisine</td>\n",
       "      <td>...</td>\n",
       "      <td>No</td>\n",
       "      <td>No</td>\n",
       "      <td>No</td>\n",
       "      <td>No</td>\n",
       "      <td>4.0</td>\n",
       "      <td>3.7</td>\n",
       "      <td>Yellow</td>\n",
       "      <td>Good</td>\n",
       "      <td>661.0</td>\n",
       "      <td>Turkey</td>\n",
       "    </tr>\n",
       "    <tr>\n",
       "      <th>9549</th>\n",
       "      <td>5916112.0</td>\n",
       "      <td>A�ô�ôk Kahve</td>\n",
       "      <td>Turkey</td>\n",
       "      <td>ÛÁstanbul</td>\n",
       "      <td>Kuruí_e�ôme Mahallesi, Muallim Naci Caddesi, N...</td>\n",
       "      <td>Kuruí_e�ôme</td>\n",
       "      <td>Kuruí_e�ôme, ÛÁstanbul</td>\n",
       "      <td>29.036019</td>\n",
       "      <td>41.057979</td>\n",
       "      <td>Restaurant Cafe</td>\n",
       "      <td>...</td>\n",
       "      <td>No</td>\n",
       "      <td>No</td>\n",
       "      <td>No</td>\n",
       "      <td>No</td>\n",
       "      <td>4.0</td>\n",
       "      <td>4.0</td>\n",
       "      <td>Green</td>\n",
       "      <td>Very Good</td>\n",
       "      <td>901.0</td>\n",
       "      <td>Turkey</td>\n",
       "    </tr>\n",
       "    <tr>\n",
       "      <th>9550</th>\n",
       "      <td>5927402.0</td>\n",
       "      <td>Walter's Coffee Roastery</td>\n",
       "      <td>Turkey</td>\n",
       "      <td>ÛÁstanbul</td>\n",
       "      <td>CafeaÛôa Mahallesi, BademaltÛ± Sokak, No 21/B,...</td>\n",
       "      <td>Moda</td>\n",
       "      <td>Moda, ÛÁstanbul</td>\n",
       "      <td>29.026016</td>\n",
       "      <td>40.984776</td>\n",
       "      <td>Cafe</td>\n",
       "      <td>...</td>\n",
       "      <td>No</td>\n",
       "      <td>No</td>\n",
       "      <td>No</td>\n",
       "      <td>No</td>\n",
       "      <td>2.0</td>\n",
       "      <td>4.0</td>\n",
       "      <td>Green</td>\n",
       "      <td>Very Good</td>\n",
       "      <td>591.0</td>\n",
       "      <td>Turkey</td>\n",
       "    </tr>\n",
       "  </tbody>\n",
       "</table>\n",
       "<p>3 rows × 22 columns</p>\n",
       "</div>"
      ],
      "text/plain": [
       "      Restaurant ID           Restaurant Name Country       City  \\\n",
       "9548      5915807.0                     Huqqa  Turkey  ÛÁstanbul   \n",
       "9549      5916112.0              A�ô�ôk Kahve  Turkey  ÛÁstanbul   \n",
       "9550      5927402.0  Walter's Coffee Roastery  Turkey  ÛÁstanbul   \n",
       "\n",
       "                                                Address     Locality  \\\n",
       "9548  Kuruí_e�ôme Mahallesi, Muallim Naci Caddesi, N...  Kuruí_e�ôme   \n",
       "9549  Kuruí_e�ôme Mahallesi, Muallim Naci Caddesi, N...  Kuruí_e�ôme   \n",
       "9550  CafeaÛôa Mahallesi, BademaltÛ± Sokak, No 21/B,...         Moda   \n",
       "\n",
       "            Locality Verbose  Longitude   Latitude                Cuisines  \\\n",
       "9548  Kuruí_e�ôme, ÛÁstanbul  29.034640  41.055817  Italian, World Cuisine   \n",
       "9549  Kuruí_e�ôme, ÛÁstanbul  29.036019  41.057979         Restaurant Cafe   \n",
       "9550         Moda, ÛÁstanbul  29.026016  40.984776                    Cafe   \n",
       "\n",
       "      ...  Has Table booking Has Online delivery Is delivering now  \\\n",
       "9548  ...                 No                  No                No   \n",
       "9549  ...                 No                  No                No   \n",
       "9550  ...                 No                  No                No   \n",
       "\n",
       "     Switch to order menu Price range Aggregate rating  Rating color  \\\n",
       "9548                   No         4.0              3.7        Yellow   \n",
       "9549                   No         4.0              4.0         Green   \n",
       "9550                   No         2.0              4.0         Green   \n",
       "\n",
       "      Rating text  Votes Country.1  \n",
       "9548         Good  661.0    Turkey  \n",
       "9549    Very Good  901.0    Turkey  \n",
       "9550    Very Good  591.0    Turkey  \n",
       "\n",
       "[3 rows x 22 columns]"
      ]
     },
     "execution_count": 95,
     "metadata": {},
     "output_type": "execute_result"
    }
   ],
   "source": [
    "zomato.tail(3)"
   ]
  },
  {
   "cell_type": "code",
   "execution_count": 96,
   "id": "3bbd39cc",
   "metadata": {},
   "outputs": [
    {
     "data": {
      "text/plain": [
       "17238.0"
      ]
     },
     "execution_count": 96,
     "metadata": {},
     "output_type": "execute_result"
    }
   ],
   "source": [
    "# Find total Price range\n",
    "c10=zomato['Price range'].sum()\n",
    "c10"
   ]
  },
  {
   "cell_type": "code",
   "execution_count": 97,
   "id": "4519c37a",
   "metadata": {},
   "outputs": [
    {
     "data": {
      "text/plain": [
       "1498645.0"
      ]
     },
     "execution_count": 97,
     "metadata": {},
     "output_type": "execute_result"
    }
   ],
   "source": [
    "#Find total Votes\n",
    "c11=zomato['Votes'].sum()\n",
    "c11"
   ]
  },
  {
   "cell_type": "code",
   "execution_count": 98,
   "id": "9a5d2241",
   "metadata": {},
   "outputs": [
    {
     "data": {
      "text/plain": [
       "1.804837189823055"
      ]
     },
     "execution_count": 98,
     "metadata": {},
     "output_type": "execute_result"
    }
   ],
   "source": [
    "# Find average Price range\n",
    "c10=zomato['Price range'].mean()\n",
    "c10"
   ]
  },
  {
   "cell_type": "code",
   "execution_count": 99,
   "id": "a90afaf6",
   "metadata": {},
   "outputs": [
    {
     "data": {
      "text/plain": [
       "156.909747670401"
      ]
     },
     "execution_count": 99,
     "metadata": {},
     "output_type": "execute_result"
    }
   ],
   "source": [
    "#Find average Votes\n",
    "c11=zomato['Votes'].mean()\n",
    "c11"
   ]
  },
  {
   "cell_type": "code",
   "execution_count": 100,
   "id": "24ce3b7c",
   "metadata": {},
   "outputs": [
    {
     "data": {
      "text/plain": [
       "10934.0"
      ]
     },
     "execution_count": 100,
     "metadata": {},
     "output_type": "execute_result"
    }
   ],
   "source": [
    "#Find maximum votes\n",
    "\n",
    "c12=zomato['Votes'].max()\n",
    "c12"
   ]
  },
  {
   "cell_type": "code",
   "execution_count": 101,
   "id": "cc9bcaa6",
   "metadata": {},
   "outputs": [
    {
     "data": {
      "text/plain": [
       "0.0"
      ]
     },
     "execution_count": 101,
     "metadata": {},
     "output_type": "execute_result"
    }
   ],
   "source": [
    "#Find maximum votes\n",
    "\n",
    "c13=zomato['Votes'].min()\n",
    "c13"
   ]
  },
  {
   "cell_type": "code",
   "execution_count": 102,
   "id": "f7de953b",
   "metadata": {},
   "outputs": [
    {
     "data": {
      "text/plain": [
       "11453662.0"
      ]
     },
     "execution_count": 102,
     "metadata": {},
     "output_type": "execute_result"
    }
   ],
   "source": [
    "#Find Average Cost for two\n",
    "\n",
    "c14=zomato['Average Cost for two'].sum()\n",
    "c14"
   ]
  },
  {
   "cell_type": "code",
   "execution_count": 103,
   "id": "441d644d",
   "metadata": {},
   "outputs": [
    {
     "data": {
      "text/plain": [
       "25.8543807000748"
      ]
     },
     "execution_count": 103,
     "metadata": {},
     "output_type": "execute_result"
    }
   ],
   "source": [
    "# Find average Latitude\n",
    "\n",
    "c15=zomato['Latitude'].mean()\n",
    "c15"
   ]
  },
  {
   "cell_type": "code",
   "execution_count": 104,
   "id": "2b08fad4",
   "metadata": {},
   "outputs": [],
   "source": [
    "# Find total number of country"
   ]
  },
  {
   "cell_type": "code",
   "execution_count": 105,
   "id": "acb50ba5",
   "metadata": {},
   "outputs": [
    {
     "data": {
      "text/plain": [
       "India             8652\n",
       "United States      434\n",
       "United Kingdom      80\n",
       "Brazil              60\n",
       "UAE                 60\n",
       "South Africa        60\n",
       "New Zealand         40\n",
       "Turkey              34\n",
       "Australia           24\n",
       "Phillipines         22\n",
       "Indonesia           21\n",
       "Singapore           20\n",
       "Qatar               20\n",
       "Sri Lanka           20\n",
       "Canada               4\n",
       "Name: Country, dtype: int64"
      ]
     },
     "execution_count": 105,
     "metadata": {},
     "output_type": "execute_result"
    }
   ],
   "source": [
    "a=zomato['Country'].value_counts()\n",
    "a"
   ]
  },
  {
   "cell_type": "code",
   "execution_count": 106,
   "id": "28041222",
   "metadata": {},
   "outputs": [
    {
     "data": {
      "text/plain": [
       "Text(0.5, 1.0, 'Country')"
      ]
     },
     "execution_count": 106,
     "metadata": {},
     "output_type": "execute_result"
    },
    {
     "data": {
      "image/png": "[encoded data removed]",
      "text/plain": [
       "<Figure size 432x288 with 1 Axes>"
      ]
     },
     "metadata": {
      "needs_background": "light"
     },
     "output_type": "display_data"
    }
   ],
   "source": [
    "# Bar plot of Country\n",
    "\n",
    "a.plot(kind='bar', color='blue')\n",
    "plt.title('Country')"
   ]
  },
  {
   "cell_type": "code",
   "execution_count": 107,
   "id": "f7022d7b",
   "metadata": {},
   "outputs": [
    {
     "data": {
      "text/plain": [
       "Cafe Coffee Day             83\n",
       "Domino's Pizza              79\n",
       "Subway                      63\n",
       "Green Chick Chop            51\n",
       "McDonald's                  48\n",
       "                            ..\n",
       "Odeon Social                 1\n",
       "Johnny Rockets               1\n",
       "House of Commons             1\n",
       "HotMess                      1\n",
       "Walter's Coffee Roastery     1\n",
       "Name: Restaurant Name, Length: 7446, dtype: int64"
      ]
     },
     "execution_count": 107,
     "metadata": {},
     "output_type": "execute_result"
    }
   ],
   "source": [
    "#Find total number of Restaurant Name\n",
    "\n",
    "a=zomato['Restaurant Name'].value_counts()\n",
    "a"
   ]
  },
  {
   "cell_type": "code",
   "execution_count": 108,
   "id": "e77d8a82",
   "metadata": {},
   "outputs": [
    {
     "data": {
      "text/plain": [
       "New Delhi           5473\n",
       "Gurgaon             1118\n",
       "Noida               1080\n",
       "Faridabad            251\n",
       "Ghaziabad             25\n",
       "                    ... \n",
       "Panchkula              1\n",
       "Mc Millan              1\n",
       "Mayfield               1\n",
       "Macedon                1\n",
       "Vineland Station       1\n",
       "Name: City, Length: 141, dtype: int64"
      ]
     },
     "execution_count": 108,
     "metadata": {},
     "output_type": "execute_result"
    }
   ],
   "source": [
    "#Find total number of City\n",
    "\n",
    "a=zomato['City'].value_counts()\n",
    "a"
   ]
  },
  {
   "cell_type": "code",
   "execution_count": 109,
   "id": "50467119",
   "metadata": {},
   "outputs": [
    {
     "data": {
      "text/plain": [
       "North Indian                                             936\n",
       "North Indian, Chinese                                    511\n",
       "Chinese                                                  354\n",
       "Fast Food                                                354\n",
       "North Indian, Mughlai                                    334\n",
       "                                                        ... \n",
       "Bengali, Fast Food                                         1\n",
       "North Indian, Rajasthani, Asian                            1\n",
       "Chinese, Thai, Malaysian, Indonesian                       1\n",
       "Bakery, Desserts, North Indian, Bengali, South Indian      1\n",
       "Italian, World Cuisine                                     1\n",
       "Name: Cuisines, Length: 1825, dtype: int64"
      ]
     },
     "execution_count": 109,
     "metadata": {},
     "output_type": "execute_result"
    }
   ],
   "source": [
    "#Find total number of cuisines\n",
    "\n",
    "a=zomato['Cuisines'].value_counts()\n",
    "a"
   ]
  },
  {
   "cell_type": "code",
   "execution_count": 110,
   "id": "b5522e92",
   "metadata": {},
   "outputs": [
    {
     "data": {
      "text/plain": [
       "Indian Rupees(Rs.)        8652\n",
       "Dollar($)                  482\n",
       "Pounds(Œ£)                  80\n",
       "Brazilian Real(R$)          60\n",
       "Emirati Diram(AED)          60\n",
       "Rand(R)                     60\n",
       "NewZealand($)               40\n",
       "Turkish Lira(TL)            34\n",
       "Botswana Pula(P)            22\n",
       "Indonesian Rupiah(IDR)      21\n",
       "Qatari Rial(QR)             20\n",
       "Sri Lankan Rupee(LKR)       20\n",
       "Name: Currency, dtype: int64"
      ]
     },
     "execution_count": 110,
     "metadata": {},
     "output_type": "execute_result"
    }
   ],
   "source": [
    "# Find the number of currency\n",
    "\n",
    "a=zomato['Currency'].value_counts()\n",
    "a"
   ]
  },
  {
   "cell_type": "code",
   "execution_count": 111,
   "id": "eadcc882",
   "metadata": {},
   "outputs": [
    {
     "data": {
      "text/plain": [
       "Text(0.5, 1.0, 'Currency')"
      ]
     },
     "execution_count": 111,
     "metadata": {},
     "output_type": "execute_result"
    },
    {
     "data": {
      "image/png": "[encoded data removed]",
      "text/plain": [
       "<Figure size 432x288 with 1 Axes>"
      ]
     },
     "metadata": {
      "needs_background": "light"
     },
     "output_type": "display_data"
    }
   ],
   "source": [
    "# Bar plot of Currency\n",
    "a.plot(kind='bar', color='blue')\n",
    "plt.title('Currency')"
   ]
  },
  {
   "cell_type": "code",
   "execution_count": 112,
   "id": "efdc1695",
   "metadata": {},
   "outputs": [
    {
     "data": {
      "text/plain": [
       "No     8393\n",
       "Yes    1158\n",
       "Name: Has Table booking, dtype: int64"
      ]
     },
     "execution_count": 112,
     "metadata": {},
     "output_type": "execute_result"
    }
   ],
   "source": [
    "# Find the number of table booking\n",
    "\n",
    "a1=zomato['Has Table booking'].value_counts()\n",
    "a1"
   ]
  },
  {
   "cell_type": "code",
   "execution_count": 113,
   "id": "795c2b86",
   "metadata": {},
   "outputs": [
    {
     "data": {
      "image/png": "[encoded data removed]",
      "text/plain": [
       "<Figure size 432x288 with 1 Axes>"
      ]
     },
     "metadata": {
      "needs_background": "light"
     },
     "output_type": "display_data"
    }
   ],
   "source": [
    "#Bar Plot of Has Table booking\n",
    "\n",
    "s1=zomato['Has Table booking'].value_counts(dropna = False).plot.bar(color = 'green')\n",
    "plt.title('Has Table booking')\n",
    "plt.xlabel('Has Table booking')\n",
    "plt.ylabel('count')\n",
    "plt.show()"
   ]
  },
  {
   "cell_type": "code",
   "execution_count": 114,
   "id": "385b8eaa",
   "metadata": {},
   "outputs": [
    {
     "data": {
      "text/plain": [
       "No     0.878756\n",
       "Yes    0.121244\n",
       "Name: Has Table booking, dtype: float64"
      ]
     },
     "execution_count": 114,
     "metadata": {},
     "output_type": "execute_result"
    }
   ],
   "source": [
    "#Find the number of table booking\n",
    "\n",
    "a2=zomato['Has Table booking'].value_counts(normalize = True)\n",
    "a2"
   ]
  },
  {
   "cell_type": "code",
   "execution_count": 115,
   "id": "74fe1989",
   "metadata": {},
   "outputs": [
    {
     "data": {
      "text/plain": [
       "<AxesSubplot:ylabel='Has Table booking'>"
      ]
     },
     "execution_count": 115,
     "metadata": {},
     "output_type": "execute_result"
    },
    {
     "data": {
      "image/png": "[encoded data removed]",
      "text/plain": [
       "<Figure size 432x288 with 1 Axes>"
      ]
     },
     "metadata": {},
     "output_type": "display_data"
    }
   ],
   "source": [
    "# Pie plot of Has Table booking\n",
    "\n",
    "a2.plot(kind=\"pie\", colors=['lawngreen', 'cyan'], autopct='%1.2f%%')"
   ]
  },
  {
   "cell_type": "code",
   "execution_count": 116,
   "id": "f5394c51",
   "metadata": {},
   "outputs": [
    {
     "data": {
      "text/plain": [
       "No     0.743378\n",
       "Yes    0.256622\n",
       "Name: Has Online delivery, dtype: float64"
      ]
     },
     "execution_count": 116,
     "metadata": {},
     "output_type": "execute_result"
    }
   ],
   "source": [
    "#Find the number of Online delivery\n",
    "# Pie plot of Has Online delivery\n",
    "\n",
    "a3=zomato['Has Online delivery'].value_counts(normalize = True)\n",
    "a3\n"
   ]
  },
  {
   "cell_type": "code",
   "execution_count": 117,
   "id": "87114a04",
   "metadata": {},
   "outputs": [
    {
     "data": {
      "text/plain": [
       "<AxesSubplot:ylabel='Has Online delivery'>"
      ]
     },
     "execution_count": 117,
     "metadata": {},
     "output_type": "execute_result"
    },
    {
     "data": {
      "image/png": "[encoded data removed]",
      "text/plain": [
       "<Figure size 432x288 with 1 Axes>"
      ]
     },
     "metadata": {},
     "output_type": "display_data"
    }
   ],
   "source": [
    "a3.plot(kind=\"pie\", colors=['lawngreen', 'cyan'], autopct='%1.2f%%')"
   ]
  },
  {
   "cell_type": "code",
   "execution_count": 118,
   "id": "9cd24df7",
   "metadata": {},
   "outputs": [
    {
     "data": {
      "text/plain": [
       "No     0.99644\n",
       "Yes    0.00356\n",
       "Name: Is delivering now, dtype: float64"
      ]
     },
     "execution_count": 118,
     "metadata": {},
     "output_type": "execute_result"
    }
   ],
   "source": [
    "# Find the number of delivering now\n",
    "# Pie plot of delivering now\n",
    "\n",
    "a4=zomato['Is delivering now'].value_counts(normalize = True)\n",
    "a4"
   ]
  },
  {
   "cell_type": "code",
   "execution_count": 119,
   "id": "43e9341b",
   "metadata": {},
   "outputs": [
    {
     "data": {
      "text/plain": [
       "<AxesSubplot:ylabel='Is delivering now'>"
      ]
     },
     "execution_count": 119,
     "metadata": {},
     "output_type": "execute_result"
    },
    {
     "data": {
      "image/png": "[encoded data removed]",
      "text/plain": [
       "<Figure size 432x288 with 1 Axes>"
      ]
     },
     "metadata": {},
     "output_type": "display_data"
    }
   ],
   "source": [
    "# Pie plot of delivering now\n",
    "\n",
    "a4.plot(kind=\"pie\", colors=['blue', 'cyan'], autopct='%1.2f%%')"
   ]
  },
  {
   "cell_type": "code",
   "execution_count": 120,
   "id": "29bac888",
   "metadata": {},
   "outputs": [
    {
     "data": {
      "text/plain": [
       "No    1.0\n",
       "Name: Switch to order menu, dtype: float64"
      ]
     },
     "execution_count": 120,
     "metadata": {},
     "output_type": "execute_result"
    }
   ],
   "source": [
    "# Find total number of Switch to order menu\n",
    "\n",
    "\n",
    "a5=zomato['Switch to order menu'].value_counts(normalize = True)\n",
    "a5"
   ]
  },
  {
   "cell_type": "code",
   "execution_count": 121,
   "id": "985145b8",
   "metadata": {},
   "outputs": [
    {
     "data": {
      "text/plain": [
       "Average      3737\n",
       "Not rated    2148\n",
       "Good         2100\n",
       "Very Good    1079\n",
       "Excellent     301\n",
       "Poor          186\n",
       "Name: Rating text, dtype: int64"
      ]
     },
     "execution_count": 121,
     "metadata": {},
     "output_type": "execute_result"
    }
   ],
   "source": [
    "#Find total number of Rating text\n",
    "\n",
    "a6=zomato['Rating text'].value_counts()\n",
    "a6"
   ]
  },
  {
   "cell_type": "code",
   "execution_count": 122,
   "id": "3b6df678",
   "metadata": {},
   "outputs": [
    {
     "data": {
      "text/plain": [
       "Text(0.5, 1.0, 'Rating text')"
      ]
     },
     "execution_count": 122,
     "metadata": {},
     "output_type": "execute_result"
    },
    {
     "data": {
      "image/png": "[encoded data removed]",
      "text/plain": [
       "<Figure size 432x288 with 1 Axes>"
      ]
     },
     "metadata": {
      "needs_background": "light"
     },
     "output_type": "display_data"
    }
   ],
   "source": [
    "# Bar plot of Rating text\n",
    "\n",
    "a6.plot(kind='bar', color='blue')\n",
    "plt.title('Rating text')"
   ]
  },
  {
   "cell_type": "code",
   "execution_count": 123,
   "id": "b2960e88",
   "metadata": {},
   "outputs": [],
   "source": [
    " #Find the total number of Rating text and country"
   ]
  },
  {
   "cell_type": "code",
   "execution_count": 124,
   "id": "7a9eb678",
   "metadata": {},
   "outputs": [
    {
     "data": {
      "text/plain": [
       "Country\n",
       "Australia           24\n",
       "Brazil              60\n",
       "Canada               4\n",
       "India             8652\n",
       "Indonesia           21\n",
       "New Zealand         40\n",
       "Phillipines         22\n",
       "Qatar               20\n",
       "Singapore           20\n",
       "South Africa        60\n",
       "Sri Lanka           20\n",
       "Turkey              34\n",
       "UAE                 60\n",
       "United Kingdom      80\n",
       "United States      434\n",
       "Name: Rating text, dtype: int64"
      ]
     },
     "execution_count": 124,
     "metadata": {},
     "output_type": "execute_result"
    }
   ],
   "source": [
    "c1=zomato.groupby('Country').count()['Rating text']\n",
    "c1"
   ]
  },
  {
   "cell_type": "code",
   "execution_count": 125,
   "id": "ee0dcf96",
   "metadata": {},
   "outputs": [],
   "source": [
    " #Find the total number of Rating text and Rating color"
   ]
  },
  {
   "cell_type": "code",
   "execution_count": 126,
   "id": "8e6a1513",
   "metadata": {},
   "outputs": [
    {
     "data": {
      "text/plain": [
       "Country\n",
       "Australia           24\n",
       "Brazil              60\n",
       "Canada               4\n",
       "India             8652\n",
       "Indonesia           21\n",
       "New Zealand         40\n",
       "Phillipines         22\n",
       "Qatar               20\n",
       "Singapore           20\n",
       "South Africa        60\n",
       "Sri Lanka           20\n",
       "Turkey              34\n",
       "UAE                 60\n",
       "United Kingdom      80\n",
       "United States      434\n",
       "Name: Rating color, dtype: int64"
      ]
     },
     "execution_count": 126,
     "metadata": {},
     "output_type": "execute_result"
    }
   ],
   "source": [
    "c2=zomato.groupby('Country').count()['Rating color']\n",
    "c2"
   ]
  },
  {
   "cell_type": "code",
   "execution_count": 127,
   "id": "7a99144d",
   "metadata": {},
   "outputs": [],
   "source": [
    " #Find the total number of country and Price range"
   ]
  },
  {
   "cell_type": "code",
   "execution_count": 128,
   "id": "18cfba5e",
   "metadata": {},
   "outputs": [
    {
     "data": {
      "text/plain": [
       "Country\n",
       "Australia           24\n",
       "Brazil              60\n",
       "Canada               4\n",
       "India             8652\n",
       "Indonesia           21\n",
       "New Zealand         40\n",
       "Phillipines         22\n",
       "Qatar               20\n",
       "Singapore           20\n",
       "South Africa        60\n",
       "Sri Lanka           20\n",
       "Turkey              34\n",
       "UAE                 60\n",
       "United Kingdom      80\n",
       "United States      434\n",
       "Name: Price range, dtype: int64"
      ]
     },
     "execution_count": 128,
     "metadata": {},
     "output_type": "execute_result"
    }
   ],
   "source": [
    "c3=zomato.groupby('Country').count()['Price range']\n",
    "c3"
   ]
  },
  {
   "cell_type": "code",
   "execution_count": 129,
   "id": "36988180",
   "metadata": {},
   "outputs": [],
   "source": [
    "#Find the total number of Cuisines and Price range"
   ]
  },
  {
   "cell_type": "code",
   "execution_count": 130,
   "id": "693be231",
   "metadata": {},
   "outputs": [
    {
     "data": {
      "text/plain": [
       "Cuisines\n",
       "Afghani                                      4\n",
       "Afghani, Mughlai, Chinese                    1\n",
       "Afghani, North Indian                        1\n",
       "Afghani, North Indian, Pakistani, Arabian    1\n",
       "African                                      1\n",
       "                                            ..\n",
       "Western, Asian, Cafe                         1\n",
       "Western, Fusion, Fast Food                   1\n",
       "World Cuisine                                1\n",
       "World Cuisine, Mexican, Italian              1\n",
       "World Cuisine, Patisserie, Cafe              1\n",
       "Name: Price range, Length: 1825, dtype: int64"
      ]
     },
     "execution_count": 130,
     "metadata": {},
     "output_type": "execute_result"
    }
   ],
   "source": [
    "c4=zomato.groupby('Cuisines').count()['Price range']\n",
    "c4"
   ]
  },
  {
   "cell_type": "code",
   "execution_count": 131,
   "id": "9b741f4c",
   "metadata": {},
   "outputs": [],
   "source": [
    "#Find the total Price range and Restaurant Name"
   ]
  },
  {
   "cell_type": "code",
   "execution_count": 132,
   "id": "efa42caf",
   "metadata": {},
   "outputs": [
    {
     "data": {
      "text/plain": [
       "Restaurant Name\n",
       "12212.0                 2.0\n",
       "#45                     2.0\n",
       "#Dilliwaala6            3.0\n",
       "#InstaFreeze            1.0\n",
       "#OFF Campus             2.0\n",
       "                       ... \n",
       "t Lounge by Dilmah      2.0\n",
       "tashas                  4.0\n",
       "wagamama                4.0\n",
       "{Niche} - Cafe & Bar    3.0\n",
       "íˆukuraÛôa SofrasÛ±     3.0\n",
       "Name: Price range, Length: 7446, dtype: float64"
      ]
     },
     "execution_count": 132,
     "metadata": {},
     "output_type": "execute_result"
    }
   ],
   "source": [
    "c5=zomato.groupby('Restaurant Name').sum()['Price range']\n",
    "c5"
   ]
  },
  {
   "cell_type": "code",
   "execution_count": 133,
   "id": "faaf0e32",
   "metadata": {},
   "outputs": [],
   "source": [
    " #Find the total number of country and City"
   ]
  },
  {
   "cell_type": "code",
   "execution_count": 134,
   "id": "9205df73",
   "metadata": {},
   "outputs": [
    {
     "data": {
      "text/plain": [
       "City\n",
       "Abu Dhabi          20\n",
       "Agra               20\n",
       "Ahmedabad          21\n",
       "Albany             20\n",
       "Allahabad          20\n",
       "                   ..\n",
       "Weirton             1\n",
       "Wellington City    20\n",
       "Winchester Bay      1\n",
       "Yorkton             1\n",
       "ÛÁstanbul          14\n",
       "Name: Country, Length: 141, dtype: int64"
      ]
     },
     "execution_count": 134,
     "metadata": {},
     "output_type": "execute_result"
    }
   ],
   "source": [
    "c6=zomato.groupby('City').count()['Country']\n",
    "c6"
   ]
  },
  {
   "cell_type": "code",
   "execution_count": 135,
   "id": "17084fb7",
   "metadata": {},
   "outputs": [],
   "source": [
    " #Find the total number of country and Currency"
   ]
  },
  {
   "cell_type": "code",
   "execution_count": 136,
   "id": "53b10756",
   "metadata": {},
   "outputs": [
    {
     "data": {
      "text/plain": [
       "Currency\n",
       "Botswana Pula(P)            22\n",
       "Brazilian Real(R$)          60\n",
       "Dollar($)                  482\n",
       "Emirati Diram(AED)          60\n",
       "Indian Rupees(Rs.)        8652\n",
       "Indonesian Rupiah(IDR)      21\n",
       "NewZealand($)               40\n",
       "Pounds(Œ£)                  80\n",
       "Qatari Rial(QR)             20\n",
       "Rand(R)                     60\n",
       "Sri Lankan Rupee(LKR)       20\n",
       "Turkish Lira(TL)            34\n",
       "Name: Country, dtype: int64"
      ]
     },
     "execution_count": 136,
     "metadata": {},
     "output_type": "execute_result"
    }
   ],
   "source": [
    "c7=zomato.groupby('Currency').count()['Country']\n",
    "c7"
   ]
  },
  {
   "cell_type": "code",
   "execution_count": 137,
   "id": "8c4370c0",
   "metadata": {},
   "outputs": [],
   "source": [
    " #Find the total number of country and Table booking"
   ]
  },
  {
   "cell_type": "code",
   "execution_count": 138,
   "id": "05624a6e",
   "metadata": {},
   "outputs": [
    {
     "data": {
      "text/plain": [
       "Has Table booking\n",
       "No     8393\n",
       "Yes    1158\n",
       "Name: Country, dtype: int64"
      ]
     },
     "execution_count": 138,
     "metadata": {},
     "output_type": "execute_result"
    }
   ],
   "source": [
    "c7=zomato.groupby('Has Table booking').count()['Country']\n",
    "c7"
   ]
  },
  {
   "cell_type": "code",
   "execution_count": 139,
   "id": "43946b78",
   "metadata": {},
   "outputs": [],
   "source": [
    " #Find the total number of country and Has Online delivery"
   ]
  },
  {
   "cell_type": "code",
   "execution_count": 140,
   "id": "bf51784f",
   "metadata": {},
   "outputs": [
    {
     "data": {
      "text/plain": [
       "Has Online delivery\n",
       "No     7100\n",
       "Yes    2451\n",
       "Name: Country, dtype: int64"
      ]
     },
     "execution_count": 140,
     "metadata": {},
     "output_type": "execute_result"
    }
   ],
   "source": [
    "c8=zomato.groupby('Has Online delivery').count()['Country']\n",
    "c8"
   ]
  },
  {
   "cell_type": "code",
   "execution_count": 141,
   "id": "1b33d597",
   "metadata": {},
   "outputs": [],
   "source": [
    " #Find the total number of country and delivering now"
   ]
  },
  {
   "cell_type": "code",
   "execution_count": 142,
   "id": "474aca6c",
   "metadata": {},
   "outputs": [
    {
     "data": {
      "text/plain": [
       "Is delivering now\n",
       "No     9517\n",
       "Yes      34\n",
       "Name: Country, dtype: int64"
      ]
     },
     "execution_count": 142,
     "metadata": {},
     "output_type": "execute_result"
    }
   ],
   "source": [
    "c8=zomato.groupby('Is delivering now').count()['Country']\n",
    "c8"
   ]
  },
  {
   "cell_type": "code",
   "execution_count": 143,
   "id": "43170a46",
   "metadata": {},
   "outputs": [],
   "source": [
    " #Find the total number of country and Switch to order menu"
   ]
  },
  {
   "cell_type": "code",
   "execution_count": 144,
   "id": "5e88bed1",
   "metadata": {},
   "outputs": [
    {
     "data": {
      "text/plain": [
       "Switch to order menu\n",
       "No    9551\n",
       "Name: Country, dtype: int64"
      ]
     },
     "execution_count": 144,
     "metadata": {},
     "output_type": "execute_result"
    }
   ],
   "source": [
    "c8=zomato.groupby('Switch to order menu').count()['Country']\n",
    "c8"
   ]
  },
  {
   "cell_type": "code",
   "execution_count": 145,
   "id": "2985fec6",
   "metadata": {},
   "outputs": [],
   "source": [
    " #Find the total number of country and Rating text"
   ]
  },
  {
   "cell_type": "code",
   "execution_count": 146,
   "id": "ca3e450e",
   "metadata": {},
   "outputs": [
    {
     "data": {
      "text/plain": [
       "Rating text\n",
       "Average      3737\n",
       "Excellent     301\n",
       "Good         2100\n",
       "Not rated    2148\n",
       "Poor          186\n",
       "Very Good    1079\n",
       "Name: Country, dtype: int64"
      ]
     },
     "execution_count": 146,
     "metadata": {},
     "output_type": "execute_result"
    }
   ],
   "source": [
    "c9=zomato.groupby('Rating text').count()['Country']\n",
    "c9"
   ]
  },
  {
   "cell_type": "code",
   "execution_count": 147,
   "id": "a2b87579",
   "metadata": {},
   "outputs": [
    {
     "data": {
      "text/plain": [
       "Has Table booking\n",
       "No     8393\n",
       "Yes    1158\n",
       "Name: City, dtype: int64"
      ]
     },
     "execution_count": 147,
     "metadata": {},
     "output_type": "execute_result"
    }
   ],
   "source": [
    "#Find total number of city and table booking\n",
    "d1=zomato.groupby('Has Table booking').count()['City']\n",
    "d1"
   ]
  },
  {
   "cell_type": "code",
   "execution_count": 148,
   "id": "dcf3eccf",
   "metadata": {},
   "outputs": [
    {
     "data": {
      "text/plain": [
       "Currency\n",
       "Botswana Pula(P)            35350.0\n",
       "Brazilian Real(R$)           8080.0\n",
       "Dollar($)                   15188.0\n",
       "Emirati Diram(AED)           9985.0\n",
       "Indian Rupees(Rs.)        5393400.0\n",
       "Indonesian Rupiah(IDR)    5905000.0\n",
       "NewZealand($)                2790.0\n",
       "Pounds(Œ£)                   3825.0\n",
       "Qatari Rial(QR)              4475.0\n",
       "Rand(R)                     25184.0\n",
       "Sri Lankan Rupee(LKR)       47500.0\n",
       "Turkish Lira(TL)             2885.0\n",
       "Name: Average Cost for two, dtype: float64"
      ]
     },
     "execution_count": 148,
     "metadata": {},
     "output_type": "execute_result"
    }
   ],
   "source": [
    "#Find total number of Longitude and Average Cost for two\n",
    "d2=zomato.groupby('Currency').sum()['Average Cost for two']\n",
    "d2"
   ]
  },
  {
   "cell_type": "code",
   "execution_count": 149,
   "id": "87932af9",
   "metadata": {},
   "outputs": [
    {
     "data": {
      "text/plain": [
       "Currency\n",
       "Botswana Pula(P)            2662.794782\n",
       "Brazilian Real(R$)         -2755.962201\n",
       "Dollar($)                 -35175.463500\n",
       "Emirati Diram(AED)          3301.565147\n",
       "Indian Rupees(Rs.)        630356.914840\n",
       "Indonesian Rupiah(IDR)      2136.902576\n",
       "NewZealand($)               6990.800727\n",
       "Pounds(Œ£)                  -149.275964\n",
       "Qatari Rial(QR)             1030.257324\n",
       "Rand(R)                     1494.305800\n",
       "Sri Lankan Rupee(LKR)       1517.358992\n",
       "Turkish Lira(TL)            1062.714161\n",
       "Name: Longitude, dtype: float64"
      ]
     },
     "execution_count": 149,
     "metadata": {},
     "output_type": "execute_result"
    }
   ],
   "source": [
    "#Find total number of Longitude and Currency\n",
    "d2=zomato.groupby('Currency').sum()['Longitude']\n",
    "d2"
   ]
  },
  {
   "cell_type": "code",
   "execution_count": 150,
   "id": "267d808d",
   "metadata": {},
   "outputs": [
    {
     "data": {
      "text/html": [
       "<div>\n",
       "<style scoped>\n",
       "    .dataframe tbody tr th:only-of-type {\n",
       "        vertical-align: middle;\n",
       "    }\n",
       "\n",
       "    .dataframe tbody tr th {\n",
       "        vertical-align: top;\n",
       "    }\n",
       "\n",
       "    .dataframe thead th {\n",
       "        text-align: right;\n",
       "    }\n",
       "</style>\n",
       "<table border=\"1\" class=\"dataframe\">\n",
       "  <thead>\n",
       "    <tr style=\"text-align: right;\">\n",
       "      <th></th>\n",
       "      <th>Restaurant ID</th>\n",
       "      <th>Longitude</th>\n",
       "      <th>Latitude</th>\n",
       "      <th>Average Cost for two</th>\n",
       "      <th>Price range</th>\n",
       "      <th>Aggregate rating</th>\n",
       "      <th>Votes</th>\n",
       "    </tr>\n",
       "  </thead>\n",
       "  <tbody>\n",
       "    <tr>\n",
       "      <th>Restaurant ID</th>\n",
       "      <td>1.000000</td>\n",
       "      <td>-0.226081</td>\n",
       "      <td>-0.052081</td>\n",
       "      <td>-0.001693</td>\n",
       "      <td>-0.134540</td>\n",
       "      <td>-0.326212</td>\n",
       "      <td>-0.147023</td>\n",
       "    </tr>\n",
       "    <tr>\n",
       "      <th>Longitude</th>\n",
       "      <td>-0.226081</td>\n",
       "      <td>1.000000</td>\n",
       "      <td>0.043207</td>\n",
       "      <td>0.045891</td>\n",
       "      <td>-0.078939</td>\n",
       "      <td>-0.116818</td>\n",
       "      <td>-0.085101</td>\n",
       "    </tr>\n",
       "    <tr>\n",
       "      <th>Latitude</th>\n",
       "      <td>-0.052081</td>\n",
       "      <td>0.043207</td>\n",
       "      <td>1.000000</td>\n",
       "      <td>-0.111088</td>\n",
       "      <td>-0.166688</td>\n",
       "      <td>0.000516</td>\n",
       "      <td>-0.022962</td>\n",
       "    </tr>\n",
       "    <tr>\n",
       "      <th>Average Cost for two</th>\n",
       "      <td>-0.001693</td>\n",
       "      <td>0.045891</td>\n",
       "      <td>-0.111088</td>\n",
       "      <td>1.000000</td>\n",
       "      <td>0.075083</td>\n",
       "      <td>0.051792</td>\n",
       "      <td>0.067783</td>\n",
       "    </tr>\n",
       "    <tr>\n",
       "      <th>Price range</th>\n",
       "      <td>-0.134540</td>\n",
       "      <td>-0.078939</td>\n",
       "      <td>-0.166688</td>\n",
       "      <td>0.075083</td>\n",
       "      <td>1.000000</td>\n",
       "      <td>0.437944</td>\n",
       "      <td>0.309444</td>\n",
       "    </tr>\n",
       "    <tr>\n",
       "      <th>Aggregate rating</th>\n",
       "      <td>-0.326212</td>\n",
       "      <td>-0.116818</td>\n",
       "      <td>0.000516</td>\n",
       "      <td>0.051792</td>\n",
       "      <td>0.437944</td>\n",
       "      <td>1.000000</td>\n",
       "      <td>0.313691</td>\n",
       "    </tr>\n",
       "    <tr>\n",
       "      <th>Votes</th>\n",
       "      <td>-0.147023</td>\n",
       "      <td>-0.085101</td>\n",
       "      <td>-0.022962</td>\n",
       "      <td>0.067783</td>\n",
       "      <td>0.309444</td>\n",
       "      <td>0.313691</td>\n",
       "      <td>1.000000</td>\n",
       "    </tr>\n",
       "  </tbody>\n",
       "</table>\n",
       "</div>"
      ],
      "text/plain": [
       "                      Restaurant ID  Longitude  Latitude  \\\n",
       "Restaurant ID              1.000000  -0.226081 -0.052081   \n",
       "Longitude                 -0.226081   1.000000  0.043207   \n",
       "Latitude                  -0.052081   0.043207  1.000000   \n",
       "Average Cost for two      -0.001693   0.045891 -0.111088   \n",
       "Price range               -0.134540  -0.078939 -0.166688   \n",
       "Aggregate rating          -0.326212  -0.116818  0.000516   \n",
       "Votes                     -0.147023  -0.085101 -0.022962   \n",
       "\n",
       "                      Average Cost for two  Price range  Aggregate rating  \\\n",
       "Restaurant ID                    -0.001693    -0.134540         -0.326212   \n",
       "Longitude                         0.045891    -0.078939         -0.116818   \n",
       "Latitude                         -0.111088    -0.166688          0.000516   \n",
       "Average Cost for two              1.000000     0.075083          0.051792   \n",
       "Price range                       0.075083     1.000000          0.437944   \n",
       "Aggregate rating                  0.051792     0.437944          1.000000   \n",
       "Votes                             0.067783     0.309444          0.313691   \n",
       "\n",
       "                         Votes  \n",
       "Restaurant ID        -0.147023  \n",
       "Longitude            -0.085101  \n",
       "Latitude             -0.022962  \n",
       "Average Cost for two  0.067783  \n",
       "Price range           0.309444  \n",
       "Aggregate rating      0.313691  \n",
       "Votes                 1.000000  "
      ]
     },
     "execution_count": 150,
     "metadata": {},
     "output_type": "execute_result"
    }
   ],
   "source": [
    "#correlation\n",
    "zomato.corr()"
   ]
  },
  {
   "cell_type": "code",
   "execution_count": 151,
   "id": "dd7b17a9",
   "metadata": {},
   "outputs": [
    {
     "data": {
      "text/plain": [
       "<AxesSubplot:>"
      ]
     },
     "execution_count": 151,
     "metadata": {},
     "output_type": "execute_result"
    },
    {
     "data": {
      "image/png": "[encoded data removed]",
      "text/plain": [
       "<Figure size 1080x864 with 2 Axes>"
      ]
     },
     "metadata": {
      "needs_background": "light"
     },
     "output_type": "display_data"
    }
   ],
   "source": [
    "# Heatmap\n",
    "plt.figure(figsize=(15,12))\n",
    "cor=zomato.corr()\n",
    "sns.heatmap(cor,annot=True,cmap='cividis')"
   ]
  },
  {
   "cell_type": "code",
   "execution_count": 152,
   "id": "9b2ddfb7",
   "metadata": {},
   "outputs": [
    {
     "data": {
      "text/html": [
       "<div>\n",
       "<style scoped>\n",
       "    .dataframe tbody tr th:only-of-type {\n",
       "        vertical-align: middle;\n",
       "    }\n",
       "\n",
       "    .dataframe tbody tr th {\n",
       "        vertical-align: top;\n",
       "    }\n",
       "\n",
       "    .dataframe thead th {\n",
       "        text-align: right;\n",
       "    }\n",
       "</style>\n",
       "<table border=\"1\" class=\"dataframe\">\n",
       "  <thead>\n",
       "    <tr style=\"text-align: right;\">\n",
       "      <th>Rating text</th>\n",
       "      <th>Average</th>\n",
       "      <th>Excellent</th>\n",
       "      <th>Good</th>\n",
       "      <th>Not rated</th>\n",
       "      <th>Poor</th>\n",
       "      <th>Very Good</th>\n",
       "    </tr>\n",
       "    <tr>\n",
       "      <th>Has Online delivery</th>\n",
       "      <th></th>\n",
       "      <th></th>\n",
       "      <th></th>\n",
       "      <th></th>\n",
       "      <th></th>\n",
       "      <th></th>\n",
       "    </tr>\n",
       "  </thead>\n",
       "  <tbody>\n",
       "    <tr>\n",
       "      <th>No</th>\n",
       "      <td>2632</td>\n",
       "      <td>262</td>\n",
       "      <td>1282</td>\n",
       "      <td>2052</td>\n",
       "      <td>70</td>\n",
       "      <td>802</td>\n",
       "    </tr>\n",
       "    <tr>\n",
       "      <th>Yes</th>\n",
       "      <td>1105</td>\n",
       "      <td>39</td>\n",
       "      <td>818</td>\n",
       "      <td>96</td>\n",
       "      <td>116</td>\n",
       "      <td>277</td>\n",
       "    </tr>\n",
       "  </tbody>\n",
       "</table>\n",
       "</div>"
      ],
      "text/plain": [
       "Rating text          Average  Excellent  Good  Not rated  Poor  Very Good\n",
       "Has Online delivery                                                      \n",
       "No                      2632        262  1282       2052    70        802\n",
       "Yes                     1105         39   818         96   116        277"
      ]
     },
     "execution_count": 152,
     "metadata": {},
     "output_type": "execute_result"
    }
   ],
   "source": [
    "#comparison of Has Online delivery and Rating text\n",
    "aa=pd.crosstab(zomato['Has Online delivery'],zomato['Rating text'])\n",
    "aa"
   ]
  },
  {
   "cell_type": "code",
   "execution_count": 153,
   "id": "3e0aa5a1",
   "metadata": {},
   "outputs": [
    {
     "data": {
      "text/plain": [
       "<AxesSubplot:xlabel='Has Online delivery'>"
      ]
     },
     "execution_count": 153,
     "metadata": {},
     "output_type": "execute_result"
    },
    {
     "data": {
      "image/png": "[encoded data removed]",
      "text/plain": [
       "<Figure size 432x288 with 1 Axes>"
      ]
     },
     "metadata": {
      "needs_background": "light"
     },
     "output_type": "display_data"
    }
   ],
   "source": [
    "aa.plot(kind='bar', cmap='copper')"
   ]
  },
  {
   "cell_type": "code",
   "execution_count": 154,
   "id": "5f6f1f47",
   "metadata": {},
   "outputs": [
    {
     "data": {
      "text/html": [
       "<div>\n",
       "<style scoped>\n",
       "    .dataframe tbody tr th:only-of-type {\n",
       "        vertical-align: middle;\n",
       "    }\n",
       "\n",
       "    .dataframe tbody tr th {\n",
       "        vertical-align: top;\n",
       "    }\n",
       "\n",
       "    .dataframe thead th {\n",
       "        text-align: right;\n",
       "    }\n",
       "</style>\n",
       "<table border=\"1\" class=\"dataframe\">\n",
       "  <thead>\n",
       "    <tr style=\"text-align: right;\">\n",
       "      <th>Rating text</th>\n",
       "      <th>Average</th>\n",
       "      <th>Excellent</th>\n",
       "      <th>Good</th>\n",
       "      <th>Not rated</th>\n",
       "      <th>Poor</th>\n",
       "      <th>Very Good</th>\n",
       "    </tr>\n",
       "    <tr>\n",
       "      <th>Is delivering now</th>\n",
       "      <th></th>\n",
       "      <th></th>\n",
       "      <th></th>\n",
       "      <th></th>\n",
       "      <th></th>\n",
       "      <th></th>\n",
       "    </tr>\n",
       "  </thead>\n",
       "  <tbody>\n",
       "    <tr>\n",
       "      <th>No</th>\n",
       "      <td>3717</td>\n",
       "      <td>300</td>\n",
       "      <td>2089</td>\n",
       "      <td>2147</td>\n",
       "      <td>185</td>\n",
       "      <td>1079</td>\n",
       "    </tr>\n",
       "    <tr>\n",
       "      <th>Yes</th>\n",
       "      <td>20</td>\n",
       "      <td>1</td>\n",
       "      <td>11</td>\n",
       "      <td>1</td>\n",
       "      <td>1</td>\n",
       "      <td>0</td>\n",
       "    </tr>\n",
       "  </tbody>\n",
       "</table>\n",
       "</div>"
      ],
      "text/plain": [
       "Rating text        Average  Excellent  Good  Not rated  Poor  Very Good\n",
       "Is delivering now                                                      \n",
       "No                    3717        300  2089       2147   185       1079\n",
       "Yes                     20          1    11          1     1          0"
      ]
     },
     "execution_count": 154,
     "metadata": {},
     "output_type": "execute_result"
    }
   ],
   "source": [
    "#comparison of Is delivering now and Rating text\n",
    "bb=pd.crosstab(zomato['Is delivering now'],zomato['Rating text'])\n",
    "bb"
   ]
  },
  {
   "cell_type": "code",
   "execution_count": 155,
   "id": "4f5b53b4",
   "metadata": {},
   "outputs": [
    {
     "data": {
      "text/plain": [
       "<AxesSubplot:xlabel='Is delivering now'>"
      ]
     },
     "execution_count": 155,
     "metadata": {},
     "output_type": "execute_result"
    },
    {
     "data": {
      "image/png": "[encoded data removed]",
      "text/plain": [
       "<Figure size 432x288 with 1 Axes>"
      ]
     },
     "metadata": {
      "needs_background": "light"
     },
     "output_type": "display_data"
    }
   ],
   "source": [
    "bb.plot(kind='bar', cmap='copper')"
   ]
  },
  {
   "cell_type": "code",
   "execution_count": 156,
   "id": "7b6cb306",
   "metadata": {},
   "outputs": [
    {
     "data": {
      "image/png": "[encoded data removed]",
      "text/plain": [
       "<Figure size 720x504 with 1 Axes>"
      ]
     },
     "metadata": {
      "needs_background": "light"
     },
     "output_type": "display_data"
    }
   ],
   "source": [
    "#count plot of Rating text\n",
    "\n",
    "countplt, a = plt.subplots(figsize = (10,7))\n",
    "a=sns.countplot(x='Rating text',data=zomato)\n"
   ]
  },
  {
   "cell_type": "code",
   "execution_count": 163,
   "id": "8743ce77",
   "metadata": {},
   "outputs": [
    {
     "data": {
      "text/plain": [
       "Text(0.5, 1.0, 'Restaurants deliverying online or Not')"
      ]
     },
     "execution_count": 163,
     "metadata": {},
     "output_type": "execute_result"
    },
    {
     "data": {
      "image/png": "[encoded data removed]",
      "text/plain": [
       "<Figure size 720x432 with 1 Axes>"
      ]
     },
     "metadata": {
      "needs_background": "light"
     },
     "output_type": "display_data"
    }
   ],
   "source": [
    "# Restaurants deliverying online or not\n",
    "plt.figure(figsize=[10,6])\n",
    "sns.countplot(x=zomato['Is delivering now'])\n",
    "plt.title(\"Restaurants deliverying online or Not\")"
   ]
  },
  {
   "cell_type": "code",
   "execution_count": 164,
   "id": "01436f66",
   "metadata": {},
   "outputs": [
    {
     "data": {
      "text/plain": [
       "Text(0.5, 1.0, 'Restaurants allowig booking table or not')"
      ]
     },
     "execution_count": 164,
     "metadata": {},
     "output_type": "execute_result"
    },
    {
     "data": {
      "image/png": "[encoded data removed]",
      "text/plain": [
       "<Figure size 720x432 with 1 Axes>"
      ]
     },
     "metadata": {
      "needs_background": "light"
     },
     "output_type": "display_data"
    }
   ],
   "source": [
    "# Restaurants allowig booking table or not\n",
    "plt.figure(figsize=[10,6])\n",
    "sns.countplot(x=zomato['Has Table booking'])\n",
    "plt.title(\"Restaurants allowig booking table or not\")"
   ]
  },
  {
   "cell_type": "code",
   "execution_count": 157,
   "id": "79dd77c3",
   "metadata": {},
   "outputs": [
    {
     "data": {
      "text/plain": [
       "<AxesSubplot:xlabel='Longitude', ylabel='Density'>"
      ]
     },
     "execution_count": 157,
     "metadata": {},
     "output_type": "execute_result"
    },
    {
     "data": {
      "image/png": "[encoded data removed]",
      "text/plain": [
       "<Figure size 432x288 with 1 Axes>"
      ]
     },
     "metadata": {
      "needs_background": "light"
     },
     "output_type": "display_data"
    }
   ],
   "source": [
    "sns.kdeplot(zomato['Longitude'])"
   ]
  },
  {
   "cell_type": "code",
   "execution_count": 158,
   "id": "c371931a",
   "metadata": {},
   "outputs": [
    {
     "data": {
      "text/plain": [
       "<AxesSubplot:xlabel='Latitude', ylabel='Density'>"
      ]
     },
     "execution_count": 158,
     "metadata": {},
     "output_type": "execute_result"
    },
    {
     "data": {
      "image/png": "[encoded data removed]",
      "text/plain": [
       "<Figure size 432x288 with 1 Axes>"
      ]
     },
     "metadata": {
      "needs_background": "light"
     },
     "output_type": "display_data"
    }
   ],
   "source": [
    "sns.kdeplot(zomato['Latitude'])"
   ]
  },
  {
   "cell_type": "code",
   "execution_count": 159,
   "id": "de07a330",
   "metadata": {},
   "outputs": [
    {
     "data": {
      "text/plain": [
       "<AxesSubplot:xlabel='Aggregate rating', ylabel='Density'>"
      ]
     },
     "execution_count": 159,
     "metadata": {},
     "output_type": "execute_result"
    },
    {
     "data": {
      "image/png": "[encoded data removed]",
      "text/plain": [
       "<Figure size 432x288 with 1 Axes>"
      ]
     },
     "metadata": {
      "needs_background": "light"
     },
     "output_type": "display_data"
    }
   ],
   "source": [
    "sns.kdeplot(zomato['Aggregate rating'])"
   ]
  },
  {
   "cell_type": "code",
   "execution_count": 160,
   "id": "02a228db",
   "metadata": {},
   "outputs": [
    {
     "data": {
      "image/png": "[encoded data removed]",
      "text/plain": [
       "<Figure size 1440x1080 with 9 Axes>"
      ]
     },
     "metadata": {
      "needs_background": "light"
     },
     "output_type": "display_data"
    }
   ],
   "source": [
    "#histogram display numerical data by grouping data into bins of equal width\n",
    "num_bins = 10\n",
    "\n",
    "zomato.hist(bins=num_bins, figsize=(20,15))\n",
    "plt.savefig(\"hr_histogram_plots\")\n",
    "plt.show()"
   ]
  },
  {
   "cell_type": "markdown",
   "id": "5c8028ec",
   "metadata": {},
   "source": [
    "# Conclusion\n",
    "\n",
    "This is Zomato Data Analysis.\n",
    "\n",
    "There are 9551 rows and 22 columns.\n",
    "\n",
    "There are any null values in the data -N0\n",
    "\n",
    "This will show some basic Statistics and summary statistics of the fields in the Zomato data.\n",
    "\n",
    "The total price range is 17238.\n",
    "\n",
    "The total number of votes is 1498645.\n",
    "\n",
    "The average price range is 1.804837189823055.\n",
    "\n",
    "The average vote is 156.9097470401.\n",
    "\n",
    "The maximum number of votes is 10934.\n",
    "\n",
    "The minimum number of votes is 0.0.\n",
    "\n",
    "The total average cost for the two is 11453662.\n",
    "\n",
    "The average latitude is 25.8543.\n",
    "\n",
    "The most of country is India (8652).\n",
    "\n",
    "The few countries are Canada (4).\n",
    "\n",
    "The total number of Restaurants’ Names is Café Coffee Day (83).\n",
    "\n",
    "The total number of Cities is New Delhi (5473).\n",
    "\n",
    "The total number of cuisines: North Indian (936).\n",
    "\n",
    "The maximum currency is Indian Rupees (Rs):8652.\n",
    "\n",
    "This is Zomato in, table booking in Yes and No.\n",
    "\n",
    "The maximum table booking is No\n",
    "\n",
    "\n",
    "\n",
    "\n",
    "\n",
    "\n"
   ]
  },
  {
   "cell_type": "code",
   "execution_count": null,
   "id": "494a45e1",
   "metadata": {},
   "outputs": [],
   "source": []
  }
 ],
 "metadata": {
  "kernelspec": {
   "display_name": "Python 3 (ipykernel)",
   "language": "python",
   "name": "python3"
  },
  "language_info": {
   "codemirror_mode": {
    "name": "ipython",
    "version": 3
   },
   "file_extension": ".py",
   "mimetype": "text/x-python",
   "name": "python",
   "nbconvert_exporter": "python",
   "pygments_lexer": "ipython3",
   "version": "3.9.12"
  }
 },
 "nbformat": 4,
 "nbformat_minor": 5
}
