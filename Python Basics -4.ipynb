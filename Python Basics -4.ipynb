{
 "cells": [
  {
   "cell_type": "markdown",
   "id": "9745fd4d",
   "metadata": {},
   "source": [
    "## Complex data types"
   ]
  },
  {
   "cell_type": "markdown",
   "id": "826437a3",
   "metadata": {},
   "source": [
    "### Lists"
   ]
  },
  {
   "cell_type": "markdown",
   "id": "b98745f8",
   "metadata": {},
   "source": [
    "Tuple ,set and dictionary are the other collection data type is python\n",
    "\n",
    "A list is ordered and changeable\n",
    "\n",
    "To declare a list we use the square brackets."
   ]
  },
  {
   "cell_type": "code",
   "execution_count": 11,
   "id": "4ba4834c",
   "metadata": {},
   "outputs": [
    {
     "data": {
      "text/plain": [
       "[15, 25, 10, 30]"
      ]
     },
     "execution_count": 11,
     "metadata": {},
     "output_type": "execute_result"
    }
   ],
   "source": [
    "list=[20,15,25,10,30,5,'pinki','brownie']\n",
    "\n",
    "#Will get the values from index 1 until index 5\n",
    "\n",
    "list[1:5]\n"
   ]
  },
  {
   "cell_type": "code",
   "execution_count": 12,
   "id": "e3acf92a",
   "metadata": {},
   "outputs": [
    {
     "data": {
      "text/plain": [
       "[25, 10, 30, 5]"
      ]
     },
     "execution_count": 12,
     "metadata": {},
     "output_type": "execute_result"
    }
   ],
   "source": [
    "list[2:6]"
   ]
  },
  {
   "cell_type": "code",
   "execution_count": 13,
   "id": "af0bc8a1",
   "metadata": {},
   "outputs": [
    {
     "data": {
      "text/plain": [
       "[30, 5, 'pinki', 'brownie']"
      ]
     },
     "execution_count": 13,
     "metadata": {},
     "output_type": "execute_result"
    }
   ],
   "source": [
    "list[4:8]"
   ]
  },
  {
   "cell_type": "code",
   "execution_count": 14,
   "id": "3e101466",
   "metadata": {},
   "outputs": [
    {
     "data": {
      "text/plain": [
       "[20, 15, 25, 10, 30, 5, 'zimba', 'brownie']"
      ]
     },
     "execution_count": 14,
     "metadata": {},
     "output_type": "execute_result"
    }
   ],
   "source": [
    "#Will replace the value at the index 6.\n",
    "\n",
    "list[6]='zimba'\n",
    "\n",
    "list"
   ]
  },
  {
   "cell_type": "code",
   "execution_count": 15,
   "id": "6b337a6a",
   "metadata": {},
   "outputs": [
    {
     "data": {
      "text/plain": [
       "[20, 15, 25, 10, 30, 5, 'jimmy', 'brownie']"
      ]
     },
     "execution_count": 15,
     "metadata": {},
     "output_type": "execute_result"
    }
   ],
   "source": [
    "list[6]='jimmy'\n",
    "\n",
    "list"
   ]
  },
  {
   "cell_type": "code",
   "execution_count": 16,
   "id": "8c783225",
   "metadata": {},
   "outputs": [
    {
     "data": {
      "text/plain": [
       "[20, 15, 25, 10, 30, 5, 'jimmy', 'brownie', 'blacky']"
      ]
     },
     "execution_count": 16,
     "metadata": {},
     "output_type": "execute_result"
    }
   ],
   "source": [
    "# Will add the value at the end of the list\n",
    "\n",
    "list.append('blacky')\n",
    "\n",
    "list"
   ]
  },
  {
   "cell_type": "code",
   "execution_count": 17,
   "id": "e6f31c35",
   "metadata": {},
   "outputs": [
    {
     "data": {
      "text/plain": [
       "[20, 15, 25, 10, 'pekky', 30, 5, 'jimmy', 'brownie', 'blacky']"
      ]
     },
     "execution_count": 17,
     "metadata": {},
     "output_type": "execute_result"
    }
   ],
   "source": [
    "#will add the value at the index 4.\n",
    "list.insert(4,'pekky')\n",
    "list"
   ]
  },
  {
   "cell_type": "code",
   "execution_count": 19,
   "id": "67cf32b4",
   "metadata": {},
   "outputs": [
    {
     "data": {
      "text/plain": [
       "[20, 15, 25, 10, 'pekky', 30, 'pinki', 5, 'jimmy', 'brownie', 'blacky']"
      ]
     },
     "execution_count": 19,
     "metadata": {},
     "output_type": "execute_result"
    }
   ],
   "source": [
    "list.insert(6,'pinki')\n",
    "list"
   ]
  }
 ],
 "metadata": {
  "kernelspec": {
   "display_name": "Python 3 (ipykernel)",
   "language": "python",
   "name": "python3"
  },
  "language_info": {
   "codemirror_mode": {
    "name": "ipython",
    "version": 3
   },
   "file_extension": ".py",
   "mimetype": "text/x-python",
   "name": "python",
   "nbconvert_exporter": "python",
   "pygments_lexer": "ipython3",
   "version": "3.9.12"
  }
 },
 "nbformat": 4,
 "nbformat_minor": 5
}
