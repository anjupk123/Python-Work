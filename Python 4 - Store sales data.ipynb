{
 "cells": [
  {
   "cell_type": "code",
   "execution_count": 30,
   "id": "0ab690d9",
   "metadata": {},
   "outputs": [
    {
     "data": {
      "text/html": [
       "<div>\n",
       "<style scoped>\n",
       "    .dataframe tbody tr th:only-of-type {\n",
       "        vertical-align: middle;\n",
       "    }\n",
       "\n",
       "    .dataframe tbody tr th {\n",
       "        vertical-align: top;\n",
       "    }\n",
       "\n",
       "    .dataframe thead th {\n",
       "        text-align: right;\n",
       "    }\n",
       "</style>\n",
       "<table border=\"1\" class=\"dataframe\">\n",
       "  <thead>\n",
       "    <tr style=\"text-align: right;\">\n",
       "      <th></th>\n",
       "      <th>Row ID</th>\n",
       "      <th>Order Priority</th>\n",
       "      <th>Discount</th>\n",
       "      <th>Unit Price</th>\n",
       "      <th>Shipping Cost</th>\n",
       "      <th>Customer ID</th>\n",
       "      <th>Customer Name</th>\n",
       "      <th>Ship Mode</th>\n",
       "      <th>Customer Segment</th>\n",
       "      <th>Product Category</th>\n",
       "      <th>...</th>\n",
       "      <th>State or Province</th>\n",
       "      <th>City</th>\n",
       "      <th>Postal Code</th>\n",
       "      <th>Order Date</th>\n",
       "      <th>Ship Date</th>\n",
       "      <th>Profit</th>\n",
       "      <th>Quantity ordered new</th>\n",
       "      <th>Sales</th>\n",
       "      <th>Order ID</th>\n",
       "      <th>Cost</th>\n",
       "    </tr>\n",
       "  </thead>\n",
       "  <tbody>\n",
       "    <tr>\n",
       "      <th>0</th>\n",
       "      <td>18606.0</td>\n",
       "      <td>Not Specified</td>\n",
       "      <td>0.01</td>\n",
       "      <td>2.88</td>\n",
       "      <td>0.50</td>\n",
       "      <td>2.0</td>\n",
       "      <td>Janice Fletcher</td>\n",
       "      <td>Regular Air</td>\n",
       "      <td>Corporate</td>\n",
       "      <td>Office Supplies</td>\n",
       "      <td>...</td>\n",
       "      <td>Illinois</td>\n",
       "      <td>Addison</td>\n",
       "      <td>60101.0</td>\n",
       "      <td>41057.0</td>\n",
       "      <td>41059.0</td>\n",
       "      <td>1.3200</td>\n",
       "      <td>2.0</td>\n",
       "      <td>5.90</td>\n",
       "      <td>88525.0</td>\n",
       "      <td>5.76</td>\n",
       "    </tr>\n",
       "    <tr>\n",
       "      <th>1</th>\n",
       "      <td>20847.0</td>\n",
       "      <td>High</td>\n",
       "      <td>0.01</td>\n",
       "      <td>2.84</td>\n",
       "      <td>0.93</td>\n",
       "      <td>3.0</td>\n",
       "      <td>Bonnie Potter</td>\n",
       "      <td>Express Air</td>\n",
       "      <td>Corporate</td>\n",
       "      <td>Office Supplies</td>\n",
       "      <td>...</td>\n",
       "      <td>Washington</td>\n",
       "      <td>Anacortes</td>\n",
       "      <td>98221.0</td>\n",
       "      <td>40366.0</td>\n",
       "      <td>40367.0</td>\n",
       "      <td>4.5600</td>\n",
       "      <td>4.0</td>\n",
       "      <td>13.01</td>\n",
       "      <td>88522.0</td>\n",
       "      <td>11.36</td>\n",
       "    </tr>\n",
       "    <tr>\n",
       "      <th>2</th>\n",
       "      <td>23086.0</td>\n",
       "      <td>Not Specified</td>\n",
       "      <td>0.03</td>\n",
       "      <td>6.68</td>\n",
       "      <td>6.15</td>\n",
       "      <td>3.0</td>\n",
       "      <td>Bonnie Potter</td>\n",
       "      <td>Express Air</td>\n",
       "      <td>Corporate</td>\n",
       "      <td>Office Supplies</td>\n",
       "      <td>...</td>\n",
       "      <td>Washington</td>\n",
       "      <td>Anacortes</td>\n",
       "      <td>98221.0</td>\n",
       "      <td>40751.0</td>\n",
       "      <td>40752.0</td>\n",
       "      <td>-47.6400</td>\n",
       "      <td>7.0</td>\n",
       "      <td>49.92</td>\n",
       "      <td>88523.0</td>\n",
       "      <td>46.76</td>\n",
       "    </tr>\n",
       "    <tr>\n",
       "      <th>3</th>\n",
       "      <td>23087.0</td>\n",
       "      <td>Not Specified</td>\n",
       "      <td>0.01</td>\n",
       "      <td>5.68</td>\n",
       "      <td>3.60</td>\n",
       "      <td>3.0</td>\n",
       "      <td>Bonnie Potter</td>\n",
       "      <td>Regular Air</td>\n",
       "      <td>Corporate</td>\n",
       "      <td>Office Supplies</td>\n",
       "      <td>...</td>\n",
       "      <td>Washington</td>\n",
       "      <td>Anacortes</td>\n",
       "      <td>98221.0</td>\n",
       "      <td>40751.0</td>\n",
       "      <td>40752.0</td>\n",
       "      <td>-30.5100</td>\n",
       "      <td>7.0</td>\n",
       "      <td>41.64</td>\n",
       "      <td>88523.0</td>\n",
       "      <td>39.76</td>\n",
       "    </tr>\n",
       "    <tr>\n",
       "      <th>4</th>\n",
       "      <td>23088.0</td>\n",
       "      <td>Not Specified</td>\n",
       "      <td>0.00</td>\n",
       "      <td>205.99</td>\n",
       "      <td>2.50</td>\n",
       "      <td>3.0</td>\n",
       "      <td>Bonnie Potter</td>\n",
       "      <td>Express Air</td>\n",
       "      <td>Corporate</td>\n",
       "      <td>Technology</td>\n",
       "      <td>...</td>\n",
       "      <td>Washington</td>\n",
       "      <td>Anacortes</td>\n",
       "      <td>98221.0</td>\n",
       "      <td>40751.0</td>\n",
       "      <td>40751.0</td>\n",
       "      <td>998.2023</td>\n",
       "      <td>8.0</td>\n",
       "      <td>2893.34</td>\n",
       "      <td>88523.0</td>\n",
       "      <td>1647.92</td>\n",
       "    </tr>\n",
       "  </tbody>\n",
       "</table>\n",
       "<p>5 rows × 24 columns</p>\n",
       "</div>"
      ],
      "text/plain": [
       "    Row ID Order Priority  Discount  Unit Price  Shipping Cost  Customer ID  \\\n",
       "0  18606.0  Not Specified      0.01        2.88           0.50          2.0   \n",
       "1  20847.0           High      0.01        2.84           0.93          3.0   \n",
       "2  23086.0  Not Specified      0.03        6.68           6.15          3.0   \n",
       "3  23087.0  Not Specified      0.01        5.68           3.60          3.0   \n",
       "4  23088.0  Not Specified      0.00      205.99           2.50          3.0   \n",
       "\n",
       "     Customer Name    Ship Mode Customer Segment Product Category  ...  \\\n",
       "0  Janice Fletcher  Regular Air        Corporate  Office Supplies  ...   \n",
       "1    Bonnie Potter  Express Air        Corporate  Office Supplies  ...   \n",
       "2    Bonnie Potter  Express Air        Corporate  Office Supplies  ...   \n",
       "3    Bonnie Potter  Regular Air        Corporate  Office Supplies  ...   \n",
       "4    Bonnie Potter  Express Air        Corporate       Technology  ...   \n",
       "\n",
       "  State or Province       City  Postal Code Order Date Ship Date    Profit  \\\n",
       "0          Illinois    Addison      60101.0    41057.0   41059.0    1.3200   \n",
       "1        Washington  Anacortes      98221.0    40366.0   40367.0    4.5600   \n",
       "2        Washington  Anacortes      98221.0    40751.0   40752.0  -47.6400   \n",
       "3        Washington  Anacortes      98221.0    40751.0   40752.0  -30.5100   \n",
       "4        Washington  Anacortes      98221.0    40751.0   40751.0  998.2023   \n",
       "\n",
       "   Quantity ordered new    Sales  Order ID     Cost  \n",
       "0                   2.0     5.90   88525.0     5.76  \n",
       "1                   4.0    13.01   88522.0    11.36  \n",
       "2                   7.0    49.92   88523.0    46.76  \n",
       "3                   7.0    41.64   88523.0    39.76  \n",
       "4                   8.0  2893.34   88523.0  1647.92  \n",
       "\n",
       "[5 rows x 24 columns]"
      ]
     },
     "execution_count": 30,
     "metadata": {},
     "output_type": "execute_result"
    }
   ],
   "source": [
    "#Import library \n",
    "import pandas as pd\n",
    "import numpy as np\n",
    "import seaborn as sns\n",
    "import matplotlib.pyplot as plt\n",
    "\n",
    "#data importing\n",
    "\n",
    "SS=pd.read_excel('Store Sales.xlsx')\n",
    "\n",
    "SS.head(5)"
   ]
  },
  {
   "cell_type": "code",
   "execution_count": 31,
   "id": "4b8bebf6",
   "metadata": {},
   "outputs": [
    {
     "data": {
      "text/plain": [
       "(200, 24)"
      ]
     },
     "execution_count": 31,
     "metadata": {},
     "output_type": "execute_result"
    }
   ],
   "source": [
    "SS.shape"
   ]
  },
  {
   "cell_type": "markdown",
   "id": "51d92e9e",
   "metadata": {},
   "source": [
    "### 1. Find the Total Sales by region"
   ]
  },
  {
   "cell_type": "code",
   "execution_count": 32,
   "id": "92f1eec3",
   "metadata": {},
   "outputs": [
    {
     "data": {
      "text/plain": [
       "Region\n",
       "Central     25883.87\n",
       "East       172056.49\n",
       "South        4233.98\n",
       "West       119210.91\n",
       "Name: Sales, dtype: float64"
      ]
     },
     "execution_count": 32,
     "metadata": {},
     "output_type": "execute_result"
    }
   ],
   "source": [
    "a=SS.groupby('Region').sum()['Sales']\n",
    "a"
   ]
  },
  {
   "cell_type": "markdown",
   "id": "af367247",
   "metadata": {},
   "source": [
    "### 2. Find the Total sales by city"
   ]
  },
  {
   "cell_type": "code",
   "execution_count": 33,
   "id": "c5bd97fc",
   "metadata": {
    "scrolled": true
   },
   "outputs": [
    {
     "data": {
      "text/plain": [
       "City\n",
       "Addison                  5.90\n",
       "Alton                  312.31\n",
       "Anacortes             9985.91\n",
       "Bedford                705.47\n",
       "Bellevue              1678.51\n",
       "Burlington            2801.06\n",
       "Camden                3588.54\n",
       "Colonial Heights       463.01\n",
       "Coppell               1177.22\n",
       "Cranston                90.39\n",
       "Duxbury                526.36\n",
       "Eugene                  99.56\n",
       "Fall River             465.90\n",
       "Grants Pass          14713.55\n",
       "Great Falls             46.93\n",
       "Gresham              22978.90\n",
       "Helena                4041.16\n",
       "Hillsboro              346.79\n",
       "Iselin                 294.52\n",
       "Keizer                 125.18\n",
       "Laguna Hills          5113.07\n",
       "Laguna Niguel         4779.64\n",
       "Lake Elsinore         4040.79\n",
       "Lake Forest           1716.07\n",
       "Lakewood              5172.20\n",
       "Lancaster              229.44\n",
       "Lawndale               332.05\n",
       "Missoula               463.58\n",
       "Mountain View         4790.26\n",
       "Murrieta              4346.75\n",
       "Napa                 11320.74\n",
       "New York City       130910.17\n",
       "Pennsauken             413.90\n",
       "Port Arthur           2062.21\n",
       "Prior Lake            2445.42\n",
       "Puyallup              3268.86\n",
       "Redmond              10319.42\n",
       "Richardson             439.51\n",
       "Roselle                211.15\n",
       "Rosenberg             5984.39\n",
       "Round Rock             986.71\n",
       "Rowlett               3558.98\n",
       "Salem                 3770.97\n",
       "San Gabriel           6589.35\n",
       "San Jose              5037.39\n",
       "Smithfield            3670.18\n",
       "Smithtown              538.72\n",
       "Springfield           1562.24\n",
       "Streamwood            3373.24\n",
       "Syracuse              4994.80\n",
       "Tinley Park           2297.23\n",
       "Tonawanda            20311.57\n",
       "Troy                   120.64\n",
       "Wayne                 1526.30\n",
       "West Scarborough       240.14\n",
       "Name: Sales, dtype: float64"
      ]
     },
     "execution_count": 33,
     "metadata": {},
     "output_type": "execute_result"
    }
   ],
   "source": [
    "b=SS.groupby('City').sum()['Sales']\n",
    "b"
   ]
  },
  {
   "cell_type": "markdown",
   "id": "60d0f332",
   "metadata": {},
   "source": [
    "### 3. Find the Total sales by state or province"
   ]
  },
  {
   "cell_type": "code",
   "execution_count": 34,
   "id": "4cb93ffc",
   "metadata": {},
   "outputs": [
    {
     "data": {
      "text/plain": [
       "State or Province\n",
       "California        52821.07\n",
       "Illinois           7550.92\n",
       "Maine               240.14\n",
       "Massachusetts       992.26\n",
       "Minnesota          2445.42\n",
       "Montana            4551.67\n",
       "Nebraska           1678.51\n",
       "New Hampshire       705.47\n",
       "New Jersey         6681.09\n",
       "New York         156875.90\n",
       "Oregon            38263.98\n",
       "Rhode Island       3760.57\n",
       "Texas             14209.02\n",
       "Vermont            2801.06\n",
       "Virginia           4233.98\n",
       "Washington        23574.19\n",
       "Name: Sales, dtype: float64"
      ]
     },
     "execution_count": 34,
     "metadata": {},
     "output_type": "execute_result"
    }
   ],
   "source": [
    "c=SS.groupby('State or Province').sum()['Sales']\n",
    "c"
   ]
  },
  {
   "cell_type": "markdown",
   "id": "ce36ae21",
   "metadata": {},
   "source": [
    "### 4. Find the total profit by region\n"
   ]
  },
  {
   "cell_type": "code",
   "execution_count": 35,
   "id": "46e2fb8c",
   "metadata": {},
   "outputs": [
    {
     "data": {
      "text/plain": [
       "Region\n",
       "Central     3792.145476\n",
       "East        9239.878280\n",
       "South       -222.141400\n",
       "West       19246.948452\n",
       "Name: Profit, dtype: float64"
      ]
     },
     "execution_count": 35,
     "metadata": {},
     "output_type": "execute_result"
    }
   ],
   "source": [
    "d=SS.groupby('Region').sum()['Profit']\n",
    "d"
   ]
  },
  {
   "cell_type": "markdown",
   "id": "06599979",
   "metadata": {},
   "source": [
    "### 5. Find the total profit by city\n"
   ]
  },
  {
   "cell_type": "code",
   "execution_count": 36,
   "id": "18ee71f0",
   "metadata": {},
   "outputs": [
    {
     "data": {
      "text/plain": [
       "City\n",
       "Addison                1.320000\n",
       "Alton                -22.184000\n",
       "Anacortes           3242.669900\n",
       "Bedford             -158.740000\n",
       "Bellevue           -1025.284000\n",
       "Burlington         -2426.550000\n",
       "Camden              -346.615198\n",
       "Colonial Heights     -56.468000\n",
       "Coppell              287.374400\n",
       "Cranston              23.120000\n",
       "Duxbury              234.680000\n",
       "Eugene               -43.331600\n",
       "Fall River            72.992800\n",
       "Grants Pass         3317.767800\n",
       "Great Falls         -103.150000\n",
       "Gresham             2249.990340\n",
       "Helena               905.061600\n",
       "Hillsboro             77.084000\n",
       "Iselin                23.010000\n",
       "Keizer                 7.670000\n",
       "Laguna Hills        1580.802060\n",
       "Laguna Niguel       1344.720100\n",
       "Lake Elsinore       1317.296860\n",
       "Lake Forest          392.157348\n",
       "Lakewood            1035.933012\n",
       "Lancaster             26.602800\n",
       "Lawndale            -122.209440\n",
       "Missoula            -114.639900\n",
       "Mountain View       1312.038000\n",
       "Murrieta            1547.318100\n",
       "Napa                1396.506200\n",
       "New York City       4962.808600\n",
       "Pennsauken           142.795500\n",
       "Port Arthur        -1604.240000\n",
       "Prior Lake           697.160500\n",
       "Puyallup             675.098392\n",
       "Redmond            -7295.983620\n",
       "Richardson          -180.836960\n",
       "Roselle              -53.809600\n",
       "Rosenberg            962.484900\n",
       "Round Rock           239.210620\n",
       "Rowlett             1741.837600\n",
       "Salem               -165.673400\n",
       "San Gabriel         4249.106500\n",
       "San Jose            2265.693000\n",
       "Smithfield           947.313000\n",
       "Smithtown             25.852900\n",
       "Springfield          271.813236\n",
       "Streamwood           838.400480\n",
       "Syracuse           -1190.460746\n",
       "Tinley Park         1585.088700\n",
       "Tonawanda           6500.671024\n",
       "Troy                -143.864800\n",
       "Wayne                526.573500\n",
       "West Scarborough      82.848300\n",
       "Name: Profit, dtype: float64"
      ]
     },
     "execution_count": 36,
     "metadata": {},
     "output_type": "execute_result"
    }
   ],
   "source": [
    "e=SS.groupby('City').sum()['Profit']\n",
    "e"
   ]
  },
  {
   "cell_type": "markdown",
   "id": "5bfb16b8",
   "metadata": {},
   "source": [
    "### 6. Find the total profit by state or province\n"
   ]
  },
  {
   "cell_type": "code",
   "execution_count": 37,
   "id": "8443d85f",
   "metadata": {},
   "outputs": [
    {
     "data": {
      "text/plain": [
       "State or Province\n",
       "California       16328.711540\n",
       "Illinois          2674.438416\n",
       "Maine               82.848300\n",
       "Massachusetts      307.672800\n",
       "Minnesota          697.160500\n",
       "Montana            687.271700\n",
       "Nebraska         -1025.284000\n",
       "New Hampshire     -158.740000\n",
       "New Jersey         309.207202\n",
       "New York         10155.006978\n",
       "Oregon            5609.180540\n",
       "Rhode Island       970.433000\n",
       "Texas             1445.830560\n",
       "Vermont          -2426.550000\n",
       "Virginia          -222.141400\n",
       "Washington       -3378.215328\n",
       "Name: Profit, dtype: float64"
      ]
     },
     "execution_count": 37,
     "metadata": {},
     "output_type": "execute_result"
    }
   ],
   "source": [
    "f=SS.groupby('State or Province').sum()['Profit']\n",
    "f"
   ]
  },
  {
   "cell_type": "markdown",
   "id": "c5ecbcdf",
   "metadata": {},
   "source": [
    "### 7. Find out the total sales by customer"
   ]
  },
  {
   "cell_type": "code",
   "execution_count": 38,
   "id": "84fe3043",
   "metadata": {},
   "outputs": [
    {
     "data": {
      "text/plain": [
       "Customer Name\n",
       "Alexandra Fuller           1207.58\n",
       "Alice Capps                  99.56\n",
       "Amanda Hardy Singleton      240.14\n",
       "Anne Nguyen                 463.01\n",
       "Annette Boone              2801.06\n",
       "                            ...   \n",
       "Terri Lyons                3373.24\n",
       "Theodore Moran             3607.01\n",
       "Timothy Reese               538.72\n",
       "Tony Wilkins Winters      24618.11\n",
       "Virginia Hardison          4040.79\n",
       "Name: Sales, Length: 62, dtype: float64"
      ]
     },
     "execution_count": 38,
     "metadata": {},
     "output_type": "execute_result"
    }
   ],
   "source": [
    "g=SS.groupby('Customer Name').sum()['Sales']\n",
    "g"
   ]
  },
  {
   "cell_type": "markdown",
   "id": "24bb2e9a",
   "metadata": {},
   "source": [
    "### 8. Find out Which customer segment is more profitable"
   ]
  },
  {
   "cell_type": "code",
   "execution_count": 39,
   "id": "e74834c4",
   "metadata": {},
   "outputs": [
    {
     "data": {
      "text/plain": [
       "Customer Segment\n",
       "Consumer           5823.679946\n",
       "Corporate         16692.249676\n",
       "Home Office        4912.184506\n",
       "Small Business     4628.716680\n",
       "Name: Profit, dtype: float64"
      ]
     },
     "execution_count": 39,
     "metadata": {},
     "output_type": "execute_result"
    }
   ],
   "source": [
    "g=SS.groupby('Customer Segment').sum()['Profit']\n",
    "g"
   ]
  },
  {
   "cell_type": "markdown",
   "id": "5c2c2f9f",
   "metadata": {},
   "source": [
    "### 9. Find out the total number of orders by order priority"
   ]
  },
  {
   "cell_type": "code",
   "execution_count": 40,
   "id": "c90d3a7b",
   "metadata": {},
   "outputs": [
    {
     "data": {
      "text/plain": [
       "Order Priority\n",
       "Critical         38\n",
       "High             43\n",
       "Low              38\n",
       "Medium           35\n",
       "Not Specified    46\n",
       "Name: Order ID, dtype: int64"
      ]
     },
     "execution_count": 40,
     "metadata": {},
     "output_type": "execute_result"
    }
   ],
   "source": [
    "h=SS.groupby('Order Priority').count()['Order ID']\n",
    "h"
   ]
  },
  {
   "cell_type": "code",
   "execution_count": 41,
   "id": "9d00279a",
   "metadata": {},
   "outputs": [
    {
     "data": {
      "text/plain": [
       "35"
      ]
     },
     "execution_count": 41,
     "metadata": {},
     "output_type": "execute_result"
    }
   ],
   "source": [
    "h.min()"
   ]
  },
  {
   "cell_type": "markdown",
   "id": "33aa251d",
   "metadata": {},
   "source": [
    "### 10. Find out the total number of orders by ship mode"
   ]
  },
  {
   "cell_type": "code",
   "execution_count": 42,
   "id": "deb91112",
   "metadata": {},
   "outputs": [
    {
     "data": {
      "text/plain": [
       "Ship Mode\n",
       "Delivery Truck     25\n",
       "Express Air        27\n",
       "Regular Air       148\n",
       "Name: Order ID, dtype: int64"
      ]
     },
     "execution_count": 42,
     "metadata": {},
     "output_type": "execute_result"
    }
   ],
   "source": [
    "k=SS.groupby('Ship Mode').count()['Order ID']\n",
    "k"
   ]
  },
  {
   "cell_type": "markdown",
   "id": "279917fa",
   "metadata": {},
   "source": [
    "### 11. Find out the total sales by product category\n"
   ]
  },
  {
   "cell_type": "code",
   "execution_count": 43,
   "id": "5e143fa0",
   "metadata": {},
   "outputs": [
    {
     "data": {
      "text/plain": [
       "Product Category\n",
       "Furniture           75395.16\n",
       "Office Supplies    118421.10\n",
       "Technology         127568.99\n",
       "Name: Sales, dtype: float64"
      ]
     },
     "execution_count": 43,
     "metadata": {},
     "output_type": "execute_result"
    }
   ],
   "source": [
    "l=SS.groupby('Product Category').sum()['Sales']\n",
    "l"
   ]
  },
  {
   "cell_type": "markdown",
   "id": "94922bd1",
   "metadata": {},
   "source": [
    "### 12. Find out the total sales by product Sub-Category\n"
   ]
  },
  {
   "cell_type": "code",
   "execution_count": 44,
   "id": "a613a0d4",
   "metadata": {},
   "outputs": [
    {
     "data": {
      "text/plain": [
       "Product Sub-Category\n",
       "Appliances                         9800.85\n",
       "Binders and Binder Accessories    46282.84\n",
       "Bookcases                          6104.75\n",
       "Chairs & Chairmats                52905.09\n",
       "Computer Peripherals               4260.61\n",
       "Copiers and Fax                    4314.50\n",
       "Envelopes                         22185.52\n",
       "Labels                             1800.71\n",
       "Office Furnishings                 7276.81\n",
       "Office Machines                   36055.44\n",
       "Paper                             10482.01\n",
       "Pens & Art Supplies                2175.31\n",
       "Rubber Bands                        727.69\n",
       "Scissors, Rulers and Trimmers       298.05\n",
       "Storage & Organization            24668.12\n",
       "Tables                             9108.51\n",
       "Telephones and Communication      82938.44\n",
       "Name: Sales, dtype: float64"
      ]
     },
     "execution_count": 44,
     "metadata": {},
     "output_type": "execute_result"
    }
   ],
   "source": [
    "la=SS.groupby('Product Sub-Category').sum()['Sales']\n",
    "la"
   ]
  },
  {
   "cell_type": "markdown",
   "id": "fa7bb161",
   "metadata": {},
   "source": [
    "### 13. Find out the total profit by product category\n"
   ]
  },
  {
   "cell_type": "code",
   "execution_count": 45,
   "id": "9877169a",
   "metadata": {},
   "outputs": [
    {
     "data": {
      "text/plain": [
       "Product Category\n",
       "Furniture          -3388.408623\n",
       "Office Supplies    21496.538840\n",
       "Technology         13948.700592\n",
       "Name: Profit, dtype: float64"
      ]
     },
     "execution_count": 45,
     "metadata": {},
     "output_type": "execute_result"
    }
   ],
   "source": [
    "ka=SS.groupby('Product Category').sum()['Profit']\n",
    "ka"
   ]
  },
  {
   "cell_type": "markdown",
   "id": "7b3bd26f",
   "metadata": {},
   "source": [
    "### 14. Find out the Total profit by product subcategory\n",
    "\n"
   ]
  },
  {
   "cell_type": "code",
   "execution_count": 46,
   "id": "d88839b6",
   "metadata": {},
   "outputs": [
    {
     "data": {
      "text/plain": [
       "Product Sub-Category\n",
       "Appliances                         3189.057460\n",
       "Binders and Binder Accessories    11321.746600\n",
       "Bookcases                          -387.654000\n",
       "Chairs & Chairmats                -3065.547520\n",
       "Computer Peripherals               1690.071400\n",
       "Copiers and Fax                     345.000000\n",
       "Envelopes                          3881.970600\n",
       "Labels                              399.567600\n",
       "Office Furnishings                 1623.870780\n",
       "Office Machines                   -2765.862324\n",
       "Paper                              3204.024860\n",
       "Pens & Art Supplies                  27.419100\n",
       "Rubber Bands                         -6.938000\n",
       "Scissors, Rulers and Trimmers       -24.970000\n",
       "Storage & Organization             -495.339380\n",
       "Tables                            -1559.077884\n",
       "Telephones and Communication      14679.491516\n",
       "Name: Profit, dtype: float64"
      ]
     },
     "execution_count": 46,
     "metadata": {},
     "output_type": "execute_result"
    }
   ],
   "source": [
    "na=SS.groupby('Product Sub-Category').sum()['Profit']\n",
    "na"
   ]
  },
  {
   "cell_type": "markdown",
   "id": "0eb243c0",
   "metadata": {},
   "source": [
    "### 15. Find the total sales by order date\n"
   ]
  },
  {
   "cell_type": "code",
   "execution_count": 47,
   "id": "af79594a",
   "metadata": {},
   "outputs": [
    {
     "data": {
      "text/plain": [
       "Order Date\n",
       "40180.0    21661.40\n",
       "40206.0       69.74\n",
       "40211.0    14238.76\n",
       "40221.0     1910.78\n",
       "40231.0      849.36\n",
       "             ...   \n",
       "41596.0     3183.42\n",
       "41604.0      608.10\n",
       "41619.0      449.66\n",
       "41620.0      439.92\n",
       "41635.0    19221.06\n",
       "Name: Sales, Length: 119, dtype: float64"
      ]
     },
     "execution_count": 47,
     "metadata": {},
     "output_type": "execute_result"
    }
   ],
   "source": [
    "na1=SS.groupby('Order Date').sum()['Sales']\n",
    "na1"
   ]
  },
  {
   "cell_type": "markdown",
   "id": "fec57ace",
   "metadata": {},
   "source": [
    "### 16. Find the total profit by order date"
   ]
  },
  {
   "cell_type": "code",
   "execution_count": 48,
   "id": "22b832a1",
   "metadata": {},
   "outputs": [
    {
     "data": {
      "text/plain": [
       "Order Date\n",
       "40180.0    -567.628000\n",
       "40206.0     -33.604000\n",
       "40211.0   -4853.100000\n",
       "40221.0     655.363100\n",
       "40231.0     144.690000\n",
       "              ...     \n",
       "41596.0     353.772160\n",
       "41604.0     106.756192\n",
       "41619.0     -48.236352\n",
       "41620.0    -103.968480\n",
       "41635.0    6468.189324\n",
       "Name: Profit, Length: 119, dtype: float64"
      ]
     },
     "execution_count": 48,
     "metadata": {},
     "output_type": "execute_result"
    }
   ],
   "source": [
    "b2=SS.groupby('Order Date').sum()['Profit']\n",
    "b2"
   ]
  },
  {
   "cell_type": "markdown",
   "id": "0bf28a41",
   "metadata": {},
   "source": [
    "# Conclusion\n",
    "\n",
    "This is a Store Sales Data. \n",
    "\n",
    "The data contains 200 rows and 24 columns\n",
    "\n",
    "1) There are no null values in this data.\n",
    "\n",
    "2)To find total sales by region and the highest sales in the east region.\n",
    "\n",
    "3)To find total sales by region and the smallest sales in the South.\n",
    "\n",
    "4)To find total profit by region and the highest profit in the west.\n",
    "\n",
    "5)To find total profit by region and the smallest profit in the South.\n",
    "\n",
    "6)To find total profit by customer segment and the highest sales in the corporate.\n",
    "\n",
    "7)To find total profit by customer segment and the smallest profit in the small business.\n",
    "\n",
    "8)Find the Total sales by city give sales of Camden-3588.54\n",
    "\n",
    "9)Find the Total sales by state or province-52821.07\n",
    "\n",
    "10)Find the total profit by region (South) -222.141400\n",
    "\n",
    "11)Find the total profit by city (Iselin) -23.010000\n",
    "\n",
    "12)What is the total profit of province montana?\n",
    "\n",
    "The total profit of this sales in province Montana is 687.271700\n",
    "\n",
    "13) which state have got more profit in this sales?\n",
    "\n",
    "State have got more profit in California\n",
    "\n",
    "14) which region profit has not reached to a good level?\n",
    "\n",
    "region profit has not reached to a good level in South\n",
    "\n",
    "15) Which customer segment is more profitable\n",
    "\n",
    "customer segment is more profitable in Corporate\n",
    "\n",
    "16) which mode of order priority least orders has been taken place\n",
    "\n",
    "medium 35 is the answer\n",
    "\n",
    "17)which ship mode customers are mostly buying Products\n",
    "\n",
    "through which ship mode customers are mostly buying Products\n",
    "\n",
    "customers are mostly buying Products in regular air 148\n",
    "\n",
    "18)what is the total sales of paper\n",
    "\n",
    "Total sales of paper in 10482.01\n",
    "\n",
    "19)order priority, categorical or continues variable?\n",
    "\n",
    "order priority, categorical variable\n",
    "\n",
    "\n"
   ]
  }
 ],
 "metadata": {
  "kernelspec": {
   "display_name": "Python 3 (ipykernel)",
   "language": "python",
   "name": "python3"
  },
  "language_info": {
   "codemirror_mode": {
    "name": "ipython",
    "version": 3
   },
   "file_extension": ".py",
   "mimetype": "text/x-python",
   "name": "python",
   "nbconvert_exporter": "python",
   "pygments_lexer": "ipython3",
   "version": "3.9.12"
  }
 },
 "nbformat": 4,
 "nbformat_minor": 5
}
