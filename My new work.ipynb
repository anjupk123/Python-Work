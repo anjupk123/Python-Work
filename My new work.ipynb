{
 "cells": [
  {
   "cell_type": "markdown",
   "id": "adbeb529",
   "metadata": {},
   "source": [
    "# Python Basics"
   ]
  },
  {
   "cell_type": "markdown",
   "id": "126a1d62",
   "metadata": {},
   "source": [
    "### Python keywords"
   ]
  },
  {
   "cell_type": "code",
   "execution_count": null,
   "id": "45e2c704",
   "metadata": {},
   "outputs": [],
   "source": [
    "#this will get you the list of all keywords in python"
   ]
  },
  {
   "cell_type": "code",
   "execution_count": 6,
   "id": "6f7794b2",
   "metadata": {},
   "outputs": [
    {
     "data": {
      "text/plain": [
       "['False',\n",
       " 'None',\n",
       " 'True',\n",
       " '__peg_parser__',\n",
       " 'and',\n",
       " 'as',\n",
       " 'assert',\n",
       " 'async',\n",
       " 'await',\n",
       " 'break',\n",
       " 'class',\n",
       " 'continue',\n",
       " 'def',\n",
       " 'del',\n",
       " 'elif',\n",
       " 'else',\n",
       " 'except',\n",
       " 'finally',\n",
       " 'for',\n",
       " 'from',\n",
       " 'global',\n",
       " 'if',\n",
       " 'import',\n",
       " 'in',\n",
       " 'is',\n",
       " 'lambda',\n",
       " 'nonlocal',\n",
       " 'not',\n",
       " 'or',\n",
       " 'pass',\n",
       " 'raise',\n",
       " 'return',\n",
       " 'try',\n",
       " 'while',\n",
       " 'with',\n",
       " 'yield']"
      ]
     },
     "execution_count": 6,
     "metadata": {},
     "output_type": "execute_result"
    }
   ],
   "source": [
    "import keyword\n",
    "keyword.kwlist"
   ]
  },
  {
   "cell_type": "code",
   "execution_count": 8,
   "id": "153285ca",
   "metadata": {},
   "outputs": [],
   "source": [
    "# this will return true, if the mentioned name is a keyword."
   ]
  },
  {
   "cell_type": "code",
   "execution_count": 9,
   "id": "151fce5c",
   "metadata": {},
   "outputs": [
    {
     "data": {
      "text/plain": [
       "True"
      ]
     },
     "execution_count": 9,
     "metadata": {},
     "output_type": "execute_result"
    }
   ],
   "source": [
    "keyword.iskeyword('try')"
   ]
  },
  {
   "cell_type": "code",
   "execution_count": 10,
   "id": "902f4f0e",
   "metadata": {},
   "outputs": [
    {
     "data": {
      "text/plain": [
       "False"
      ]
     },
     "execution_count": 10,
     "metadata": {},
     "output_type": "execute_result"
    }
   ],
   "source": [
    "keyword.iskeyword('loop')"
   ]
  },
  {
   "cell_type": "markdown",
   "id": "855f622f",
   "metadata": {},
   "source": [
    "### Popular Python Libraries"
   ]
  },
  {
   "cell_type": "markdown",
   "id": "9654a17c",
   "metadata": {},
   "source": [
    "NumPy:for high level mathematical functions\n",
    "\n",
    "Pandas:for Data Analysis & Manipulation\n",
    "    \n",
    "Matplotlib:Plotting in Python"
   ]
  },
  {
   "cell_type": "markdown",
   "id": "fd3559a5",
   "metadata": {},
   "source": [
    "### Python Comments"
   ]
  },
  {
   "cell_type": "code",
   "execution_count": null,
   "id": "a481e5a9",
   "metadata": {},
   "outputs": [],
   "source": [
    "# a single line comment\n",
    "# a multi line comment\n",
    "\n",
    " \"\"\"\"Haii all it's me Anju P K from Kozhikode\"\"\""
   ]
  },
  {
   "cell_type": "code",
   "execution_count": 11,
   "id": "23d5cfc8",
   "metadata": {},
   "outputs": [
    {
     "data": {
      "text/plain": [
       "\"Yes I'm fine...\""
      ]
     },
     "execution_count": 11,
     "metadata": {},
     "output_type": "execute_result"
    }
   ],
   "source": [
    "# How are you?\n",
    "#\n",
    "\"Yes I'm fine...\""
   ]
  }
 ],
 "metadata": {
  "kernelspec": {
   "display_name": "Python 3 (ipykernel)",
   "language": "python",
   "name": "python3"
  },
  "language_info": {
   "codemirror_mode": {
    "name": "ipython",
    "version": 3
   },
   "file_extension": ".py",
   "mimetype": "text/x-python",
   "name": "python",
   "nbconvert_exporter": "python",
   "pygments_lexer": "ipython3",
   "version": "3.9.12"
  }
 },
 "nbformat": 4,
 "nbformat_minor": 5
}
