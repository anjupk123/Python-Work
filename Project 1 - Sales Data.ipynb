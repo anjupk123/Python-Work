{
 "cells": [
  {
   "cell_type": "code",
   "execution_count": 30,
   "id": "fb4df2a2",
   "metadata": {},
   "outputs": [
    {
     "data": {
      "text/html": [
       "<div>\n",
       "<style scoped>\n",
       "    .dataframe tbody tr th:only-of-type {\n",
       "        vertical-align: middle;\n",
       "    }\n",
       "\n",
       "    .dataframe tbody tr th {\n",
       "        vertical-align: top;\n",
       "    }\n",
       "\n",
       "    .dataframe thead th {\n",
       "        text-align: right;\n",
       "    }\n",
       "</style>\n",
       "<table border=\"1\" class=\"dataframe\">\n",
       "  <thead>\n",
       "    <tr style=\"text-align: right;\">\n",
       "      <th></th>\n",
       "      <th>Invoice Number</th>\n",
       "      <th>Date</th>\n",
       "      <th>Time</th>\n",
       "      <th>Zone</th>\n",
       "      <th>Manager</th>\n",
       "      <th>Customer</th>\n",
       "      <th>Product</th>\n",
       "      <th>price</th>\n",
       "      <th>Units Sold</th>\n",
       "      <th>sales</th>\n",
       "    </tr>\n",
       "  </thead>\n",
       "  <tbody>\n",
       "    <tr>\n",
       "      <th>0</th>\n",
       "      <td>102234.0</td>\n",
       "      <td>2010-01-07</td>\n",
       "      <td>10:25:37.200000</td>\n",
       "      <td>East</td>\n",
       "      <td>Bruce</td>\n",
       "      <td>Polo</td>\n",
       "      <td>A001</td>\n",
       "      <td>485.0</td>\n",
       "      <td>42.0</td>\n",
       "      <td>20370.0</td>\n",
       "    </tr>\n",
       "    <tr>\n",
       "      <th>1</th>\n",
       "      <td>102235.0</td>\n",
       "      <td>2010-01-07</td>\n",
       "      <td>12:00:00</td>\n",
       "      <td>East</td>\n",
       "      <td>Jacob</td>\n",
       "      <td>EEE</td>\n",
       "      <td>B227</td>\n",
       "      <td>292.0</td>\n",
       "      <td>71.0</td>\n",
       "      <td>20732.0</td>\n",
       "    </tr>\n",
       "    <tr>\n",
       "      <th>2</th>\n",
       "      <td>102235.0</td>\n",
       "      <td>2010-01-07</td>\n",
       "      <td>14:19:12</td>\n",
       "      <td>East</td>\n",
       "      <td>Melvin</td>\n",
       "      <td>Marco</td>\n",
       "      <td>A009</td>\n",
       "      <td>544.0</td>\n",
       "      <td>87.0</td>\n",
       "      <td>47328.0</td>\n",
       "    </tr>\n",
       "    <tr>\n",
       "      <th>3</th>\n",
       "      <td>102236.0</td>\n",
       "      <td>2010-01-07</td>\n",
       "      <td>12:57:00</td>\n",
       "      <td>South</td>\n",
       "      <td>Alicia</td>\n",
       "      <td>EEE</td>\n",
       "      <td>D440</td>\n",
       "      <td>385.0</td>\n",
       "      <td>51.0</td>\n",
       "      <td>19635.0</td>\n",
       "    </tr>\n",
       "    <tr>\n",
       "      <th>4</th>\n",
       "      <td>102236.0</td>\n",
       "      <td>2010-01-07</td>\n",
       "      <td>14:51:36</td>\n",
       "      <td>East</td>\n",
       "      <td>Paul</td>\n",
       "      <td>Zee</td>\n",
       "      <td>WP6</td>\n",
       "      <td>173.0</td>\n",
       "      <td>69.0</td>\n",
       "      <td>11937.0</td>\n",
       "    </tr>\n",
       "  </tbody>\n",
       "</table>\n",
       "</div>"
      ],
      "text/plain": [
       "   Invoice Number       Date             Time   Zone Manager Customer  \\\n",
       "0        102234.0 2010-01-07  10:25:37.200000   East   Bruce     Polo   \n",
       "1        102235.0 2010-01-07         12:00:00   East   Jacob      EEE   \n",
       "2        102235.0 2010-01-07         14:19:12   East  Melvin    Marco   \n",
       "3        102236.0 2010-01-07         12:57:00  South  Alicia      EEE   \n",
       "4        102236.0 2010-01-07         14:51:36   East    Paul      Zee   \n",
       "\n",
       "  Product   price  Units Sold    sales  \n",
       "0     A001  485.0        42.0  20370.0  \n",
       "1     B227  292.0        71.0  20732.0  \n",
       "2     A009  544.0        87.0  47328.0  \n",
       "3     D440  385.0        51.0  19635.0  \n",
       "4      WP6  173.0        69.0  11937.0  "
      ]
     },
     "execution_count": 30,
     "metadata": {},
     "output_type": "execute_result"
    }
   ],
   "source": [
    "#Import library \n",
    "import pandas as pd\n",
    "import numpy as np\n",
    "import seaborn as sns\n",
    "import matplotlib.pyplot as plt\n",
    "\n",
    "#data importing\n",
    "\n",
    "Sale=pd.read_excel('1 Sales Data.xlsx')\n",
    "\n",
    "Sale.head(5)"
   ]
  },
  {
   "cell_type": "markdown",
   "id": "8505d836",
   "metadata": {},
   "source": [
    "### Check is there any null values in the data. Yes/ No"
   ]
  },
  {
   "cell_type": "code",
   "execution_count": 31,
   "id": "33c6adc7",
   "metadata": {},
   "outputs": [
    {
     "name": "stdout",
     "output_type": "stream",
     "text": [
      "<class 'pandas.core.frame.DataFrame'>\n",
      "RangeIndex: 26083 entries, 0 to 26082\n",
      "Data columns (total 10 columns):\n",
      " #   Column          Non-Null Count  Dtype         \n",
      "---  ------          --------------  -----         \n",
      " 0   Invoice Number  26083 non-null  float64       \n",
      " 1   Date            26083 non-null  datetime64[ns]\n",
      " 2   Time            26083 non-null  object        \n",
      " 3   Zone            26083 non-null  object        \n",
      " 4   Manager         26083 non-null  object        \n",
      " 5   Customer        26083 non-null  object        \n",
      " 6   Product         26083 non-null  object        \n",
      " 7   price           26083 non-null  float64       \n",
      " 8   Units Sold      26083 non-null  float64       \n",
      " 9   sales           26083 non-null  float64       \n",
      "dtypes: datetime64[ns](1), float64(4), object(5)\n",
      "memory usage: 2.0+ MB\n"
     ]
    }
   ],
   "source": [
    "Sale.info()"
   ]
  },
  {
   "cell_type": "markdown",
   "id": "ad9d077a",
   "metadata": {},
   "source": [
    "### Find total sales."
   ]
  },
  {
   "cell_type": "code",
   "execution_count": 32,
   "id": "eacadc69",
   "metadata": {},
   "outputs": [
    {
     "data": {
      "text/plain": [
       "1085806200.0"
      ]
     },
     "execution_count": 32,
     "metadata": {},
     "output_type": "execute_result"
    }
   ],
   "source": [
    "a=Sale['sales'].sum()\n",
    "a"
   ]
  },
  {
   "cell_type": "markdown",
   "id": "3f177555",
   "metadata": {},
   "source": [
    "### Find total number of products sold."
   ]
  },
  {
   "cell_type": "code",
   "execution_count": 33,
   "id": "a6b50a36",
   "metadata": {},
   "outputs": [
    {
     "data": {
      "text/plain": [
       "26083"
      ]
     },
     "execution_count": 33,
     "metadata": {},
     "output_type": "execute_result"
    }
   ],
   "source": [
    "b=Sale['Product '].value_counts().sum()\n",
    "b"
   ]
  },
  {
   "cell_type": "markdown",
   "id": "8f1252b3",
   "metadata": {},
   "source": [
    "### Find maximum Sales"
   ]
  },
  {
   "cell_type": "code",
   "execution_count": 34,
   "id": "753375da",
   "metadata": {},
   "outputs": [
    {
     "data": {
      "text/plain": [
       "582000.0"
      ]
     },
     "execution_count": 34,
     "metadata": {},
     "output_type": "execute_result"
    }
   ],
   "source": [
    "c=Sale['sales'].max()\n",
    "c"
   ]
  },
  {
   "cell_type": "markdown",
   "id": "859dc955",
   "metadata": {},
   "source": [
    "### Find Minimum Sales"
   ]
  },
  {
   "cell_type": "code",
   "execution_count": 35,
   "id": "906b02e9",
   "metadata": {},
   "outputs": [
    {
     "data": {
      "text/plain": [
       "865.0"
      ]
     },
     "execution_count": 35,
     "metadata": {},
     "output_type": "execute_result"
    }
   ],
   "source": [
    "c=Sale['sales'].min()\n",
    "c"
   ]
  },
  {
   "cell_type": "markdown",
   "id": "356025e4",
   "metadata": {},
   "source": [
    "### Find the Average Sales"
   ]
  },
  {
   "cell_type": "code",
   "execution_count": 36,
   "id": "7aefcd04",
   "metadata": {},
   "outputs": [
    {
     "data": {
      "text/plain": [
       "41628.88471418165"
      ]
     },
     "execution_count": 36,
     "metadata": {},
     "output_type": "execute_result"
    }
   ],
   "source": [
    "d=Sale['sales'].mean()\n",
    "d"
   ]
  },
  {
   "cell_type": "markdown",
   "id": "23a0b1f5",
   "metadata": {},
   "source": [
    "### Find the Range of Sales"
   ]
  },
  {
   "cell_type": "code",
   "execution_count": 37,
   "id": "905e1014",
   "metadata": {},
   "outputs": [
    {
     "data": {
      "text/plain": [
       "581135.0"
      ]
     },
     "execution_count": 37,
     "metadata": {},
     "output_type": "execute_result"
    }
   ],
   "source": [
    "# Max- Min\n",
    "\n",
    "f=582000.0 -865.0\n",
    "f"
   ]
  },
  {
   "cell_type": "markdown",
   "id": "86385068",
   "metadata": {},
   "source": [
    "### Find the Standard Deviation of Sales"
   ]
  },
  {
   "cell_type": "code",
   "execution_count": 38,
   "id": "6d913a23",
   "metadata": {},
   "outputs": [
    {
     "data": {
      "text/plain": [
       "30413.734244059717"
      ]
     },
     "execution_count": 38,
     "metadata": {},
     "output_type": "execute_result"
    }
   ],
   "source": [
    "e=Sale['sales'].std()\n",
    "e"
   ]
  },
  {
   "cell_type": "markdown",
   "id": "1a388b32",
   "metadata": {},
   "source": [
    "### Find Average Sales by each zone"
   ]
  },
  {
   "cell_type": "code",
   "execution_count": 39,
   "id": "334857a8",
   "metadata": {},
   "outputs": [
    {
     "data": {
      "text/plain": [
       "Zone\n",
       "East     40856.468783\n",
       "North    41933.083101\n",
       "South    40869.279839\n",
       "West     42309.618582\n",
       "Name: sales, dtype: float64"
      ]
     },
     "execution_count": 39,
     "metadata": {},
     "output_type": "execute_result"
    }
   ],
   "source": [
    "g=Sale.groupby('Zone').mean()['sales']\n",
    "g"
   ]
  },
  {
   "cell_type": "markdown",
   "id": "50455cde",
   "metadata": {},
   "source": [
    "### Find maximum sales by each zone."
   ]
  },
  {
   "cell_type": "code",
   "execution_count": 40,
   "id": "1f77609e",
   "metadata": {},
   "outputs": [
    {
     "data": {
      "text/plain": [
       "Zone\n",
       "East     162656.0\n",
       "North    165300.0\n",
       "South    157760.0\n",
       "West     582000.0\n",
       "Name: sales, dtype: float64"
      ]
     },
     "execution_count": 40,
     "metadata": {},
     "output_type": "execute_result"
    }
   ],
   "source": [
    "g=Sale.groupby('Zone').max()['sales']\n",
    "g"
   ]
  },
  {
   "cell_type": "markdown",
   "id": "6ae7de80",
   "metadata": {},
   "source": [
    "### Find minimum sales by each zone."
   ]
  },
  {
   "cell_type": "code",
   "execution_count": 41,
   "id": "9c88f50d",
   "metadata": {},
   "outputs": [
    {
     "data": {
      "text/plain": [
       "Zone\n",
       "East     1015.0\n",
       "North    1038.0\n",
       "South     865.0\n",
       "West      865.0\n",
       "Name: sales, dtype: float64"
      ]
     },
     "execution_count": 41,
     "metadata": {},
     "output_type": "execute_result"
    }
   ],
   "source": [
    "g=Sale.groupby('Zone').min()['sales']\n",
    "g"
   ]
  },
  {
   "cell_type": "markdown",
   "id": "8394d1f8",
   "metadata": {},
   "source": [
    "### Find Manager Wise sales.\n"
   ]
  },
  {
   "cell_type": "code",
   "execution_count": 42,
   "id": "f56068c5",
   "metadata": {},
   "outputs": [
    {
     "data": {
      "text/plain": [
       "Manager\n",
       "Aaron         26849758.0\n",
       "Abbott        27098975.0\n",
       "Abel          28249474.0\n",
       "Alexandra     25981767.0\n",
       "Alice         26573341.0\n",
       "Alicia        25575993.0\n",
       "Allan         90291223.0\n",
       "Bruce         25533890.0\n",
       "Grace         25789066.0\n",
       "Hannah        27736138.0\n",
       "Jack          27608183.0\n",
       "Jacob         27505184.0\n",
       "Jim          267417319.0\n",
       "Lucy          24248866.0\n",
       "Lydia         24951596.0\n",
       "Malcolm       24938730.0\n",
       "Melvin        29764672.0\n",
       "Paul          28634113.0\n",
       "Paxton        26878183.0\n",
       "Rojer        116239848.0\n",
       "Sarah         23662807.0\n",
       "Tom          109184168.0\n",
       "Tony          25092906.0\n",
       "Name: sales, dtype: float64"
      ]
     },
     "execution_count": 42,
     "metadata": {},
     "output_type": "execute_result"
    }
   ],
   "source": [
    "h=Sale.groupby('Manager').sum()['sales']\n",
    "h"
   ]
  },
  {
   "cell_type": "markdown",
   "id": "c5a106b5",
   "metadata": {},
   "source": [
    "### Find product wise sales.\n",
    "\n"
   ]
  },
  {
   "cell_type": "code",
   "execution_count": 43,
   "id": "b66c3ca8",
   "metadata": {},
   "outputs": [
    {
     "data": {
      "text/plain": [
       "Product \n",
       "A001    71165990.0\n",
       "A002    83824255.0\n",
       "A003    95344384.0\n",
       "A009    80055584.0\n",
       "A010    36526140.0\n",
       "AL10    81071385.0\n",
       "AL9     63099648.0\n",
       "B227    43665096.0\n",
       "B228    78313572.0\n",
       "B229    59977816.0\n",
       "D440    55816915.0\n",
       "D441    50352855.0\n",
       "G224    52050360.0\n",
       "G225    73537764.0\n",
       "KKK     60218836.0\n",
       "WP6     25954152.0\n",
       "WP7     74831448.0\n",
       "Name: sales, dtype: float64"
      ]
     },
     "execution_count": 43,
     "metadata": {},
     "output_type": "execute_result"
    }
   ],
   "source": [
    "h1=Sale.groupby('Product ').sum()['sales']\n",
    "h1"
   ]
  },
  {
   "cell_type": "markdown",
   "id": "aaa5198b",
   "metadata": {},
   "source": [
    "### Find zone wise product sales.\n"
   ]
  },
  {
   "cell_type": "code",
   "execution_count": 44,
   "id": "3f432ff7",
   "metadata": {},
   "outputs": [
    {
     "data": {
      "text/plain": [
       "Zone  Product \n",
       "East  A001        17583190.0\n",
       "      A002        26627745.0\n",
       "      A003        23718990.0\n",
       "      A009        24735680.0\n",
       "      A010        11311020.0\n",
       "                     ...    \n",
       "West  G224        14399892.0\n",
       "      G225        22970988.0\n",
       "      KKK         16949557.0\n",
       "      WP6          6044793.0\n",
       "      WP7         24498808.0\n",
       "Name: sales, Length: 68, dtype: float64"
      ]
     },
     "execution_count": 44,
     "metadata": {},
     "output_type": "execute_result"
    }
   ],
   "source": [
    "h2=Sale.groupby(['Zone','Product ']).sum()['sales']\n",
    "h2"
   ]
  },
  {
   "cell_type": "markdown",
   "id": "461926b7",
   "metadata": {},
   "source": [
    "### Find Average units sold by each manager.\n"
   ]
  },
  {
   "cell_type": "code",
   "execution_count": 45,
   "id": "10e2cc91",
   "metadata": {},
   "outputs": [
    {
     "data": {
      "text/plain": [
       "Manager\n",
       "Aaron        115.607595\n",
       "Abbott       113.591772\n",
       "Abel         117.488924\n",
       "Alexandra    115.731013\n",
       "Alice        111.643987\n",
       "Alicia       114.828704\n",
       "Allan        112.941204\n",
       "Bruce        110.144817\n",
       "Grace        115.830696\n",
       "Hannah       116.110759\n",
       "Jack         113.547468\n",
       "Jacob        113.286585\n",
       "Jim          112.900398\n",
       "Lucy         110.412975\n",
       "Lydia        115.243671\n",
       "Malcolm      109.780063\n",
       "Melvin       118.268589\n",
       "Paul         119.487342\n",
       "Paxton       111.237342\n",
       "Rojer        112.920000\n",
       "Sarah        110.454114\n",
       "Tom          115.477492\n",
       "Tony         108.530063\n",
       "Name: Units Sold, dtype: float64"
      ]
     },
     "execution_count": 45,
     "metadata": {},
     "output_type": "execute_result"
    }
   ],
   "source": [
    "h3=Sale.groupby('Manager').mean()['Units Sold']\n",
    "h3"
   ]
  },
  {
   "cell_type": "markdown",
   "id": "ff5c0a2a",
   "metadata": {},
   "source": [
    "### Find average units sold by zone.\n"
   ]
  },
  {
   "cell_type": "code",
   "execution_count": 46,
   "id": "c3ffa963",
   "metadata": {},
   "outputs": [
    {
     "data": {
      "text/plain": [
       "Zone\n",
       "East     112.711743\n",
       "North    113.574048\n",
       "South    112.649597\n",
       "West     114.656522\n",
       "Name: Units Sold, dtype: float64"
      ]
     },
     "execution_count": 46,
     "metadata": {},
     "output_type": "execute_result"
    }
   ],
   "source": [
    "h4=Sale.groupby('Zone').mean()['Units Sold']\n",
    "h4"
   ]
  },
  {
   "cell_type": "markdown",
   "id": "8830bb92",
   "metadata": {},
   "source": [
    "### Find total sales by customer.\n"
   ]
  },
  {
   "cell_type": "code",
   "execution_count": 47,
   "id": "6b947cb5",
   "metadata": {},
   "outputs": [
    {
     "data": {
      "text/plain": [
       "Customer\n",
       "ABC      157258814.0\n",
       "AX       205881436.0\n",
       "EEE      204380240.0\n",
       "Marco    258936887.0\n",
       "Polo     153491179.0\n",
       "Zee      105857644.0\n",
       "Name: sales, dtype: float64"
      ]
     },
     "execution_count": 47,
     "metadata": {},
     "output_type": "execute_result"
    }
   ],
   "source": [
    "h5=Sale.groupby('Customer').sum()['sales']\n",
    "h5"
   ]
  },
  {
   "cell_type": "markdown",
   "id": "30e85b47",
   "metadata": {},
   "source": [
    "### Find total units sold by manager.\n"
   ]
  },
  {
   "cell_type": "code",
   "execution_count": 48,
   "id": "3b72e426",
   "metadata": {},
   "outputs": [
    {
     "data": {
      "text/plain": [
       "Manager\n",
       "Aaron         73064.0\n",
       "Abbott        71790.0\n",
       "Abel          74253.0\n",
       "Alexandra     73142.0\n",
       "Alice         70559.0\n",
       "Alicia        74409.0\n",
       "Allan        243953.0\n",
       "Bruce         72255.0\n",
       "Grace         73205.0\n",
       "Hannah        73382.0\n",
       "Jack          71762.0\n",
       "Jacob         74316.0\n",
       "Jim          737917.0\n",
       "Lucy          69781.0\n",
       "Lydia         72834.0\n",
       "Malcolm       69381.0\n",
       "Melvin        77939.0\n",
       "Paul          75516.0\n",
       "Paxton        70302.0\n",
       "Rojer        316176.0\n",
       "Sarah         69807.0\n",
       "Tom          287308.0\n",
       "Tony          68591.0\n",
       "Name: Units Sold, dtype: float64"
      ]
     },
     "execution_count": 48,
     "metadata": {},
     "output_type": "execute_result"
    }
   ],
   "source": [
    "h6=Sale.groupby('Manager').sum()['Units Sold']\n",
    "h6"
   ]
  },
  {
   "cell_type": "markdown",
   "id": "77f4d082",
   "metadata": {},
   "source": [
    "### Find Total Number of Orders"
   ]
  },
  {
   "cell_type": "code",
   "execution_count": 51,
   "id": "5b52529e",
   "metadata": {},
   "outputs": [
    {
     "data": {
      "text/plain": [
       "26083"
      ]
     },
     "execution_count": 51,
     "metadata": {},
     "output_type": "execute_result"
    }
   ],
   "source": [
    "h7=Sale['Invoice Number'].value_counts().sum()\n",
    "h7"
   ]
  },
  {
   "cell_type": "code",
   "execution_count": 52,
   "id": "f8dfe750",
   "metadata": {},
   "outputs": [
    {
     "data": {
      "text/plain": [
       "26083"
      ]
     },
     "execution_count": 52,
     "metadata": {},
     "output_type": "execute_result"
    }
   ],
   "source": [
    "h7=Sale['Invoice Number'].count()\n",
    "h7"
   ]
  },
  {
   "cell_type": "markdown",
   "id": "5d17f658",
   "metadata": {},
   "source": [
    "### Give an Inference from the data"
   ]
  },
  {
   "cell_type": "raw",
   "id": "4e8c5199",
   "metadata": {},
   "source": [
    "This is a Sale Data.The data contains 26083 rows and 10 columns\n",
    "\n",
    "1)There is No null values in this data.\n",
    "\n",
    "2) The total sales from 2010 to 2019 is 1085806200.0 \n"
   ]
  },
  {
   "cell_type": "markdown",
   "id": "411272f6",
   "metadata": {},
   "source": [
    "# Conclusion\n",
    "\n",
    "\n",
    "This is a Sale Data.The data contains 26083 rows and 10 columns\n",
    "\n",
    "Check is there any null values in the data.  No\n",
    "\n",
    "Find total sales.- 1085806200.0 \n",
    "\n",
    "Find total number of products sold. - 26083\n",
    "\n",
    "Find maximum Sales - 582000.0\n",
    "\n",
    "Find Minimum Sales - 865.0\n",
    "\n",
    "Find the Average Sales - 41628.88471418165\n",
    "\n",
    "Find the Range of Sales - -581135.0\n",
    "\n",
    "Find the Standard Deviation of Sales - 30413.734244059717\n",
    "\n",
    "Find Average Sales by each zone \n",
    "\n",
    " Zone\n",
    "\n",
    " East     40856.468783\n",
    "\n",
    " North    41933.083101\n",
    "\n",
    " South    40869.279839\n",
    "\n",
    " West     42309.618582\n",
    "\n",
    " Name: sales, dtype: float64\n",
    "\n",
    "Find maximum sales by each zone.\n",
    "\n",
    " Zone\n",
    "\n",
    " East     162656.0\n",
    "\n",
    " North    165300.0\n",
    "\n",
    " South    157760.0\n",
    "\n",
    " West     582000.0\n",
    "\n",
    " Name: sales, dtype: float64\n",
    "\n",
    "\n",
    "Find minimum sales by each zone.\n",
    "\n",
    "Zone\n",
    "\n",
    "East     1015.0\n",
    "\n",
    "North    1038.0\n",
    "\n",
    "South     865.0\n",
    "\n",
    "West      865.0\n",
    "\n",
    "Name: sales, dtype: float64\n"
   ]
  },
  {
   "cell_type": "code",
   "execution_count": null,
   "id": "a40c3e1c",
   "metadata": {},
   "outputs": [],
   "source": []
  }
 ],
 "metadata": {
  "kernelspec": {
   "display_name": "Python 3 (ipykernel)",
   "language": "python",
   "name": "python3"
  },
  "language_info": {
   "codemirror_mode": {
    "name": "ipython",
    "version": 3
   },
   "file_extension": ".py",
   "mimetype": "text/x-python",
   "name": "python",
   "nbconvert_exporter": "python",
   "pygments_lexer": "ipython3",
   "version": "3.9.12"
  }
 },
 "nbformat": 4,
 "nbformat_minor": 5
}
