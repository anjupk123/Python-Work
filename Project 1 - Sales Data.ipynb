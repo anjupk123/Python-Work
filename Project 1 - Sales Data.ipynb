{
 "cells": [
  {
   "cell_type": "code",
   "execution_count": 6,
   "id": "fb4df2a2",
   "metadata": {},
   "outputs": [
    {
     "data": {
      "text/html": [
       "<div>\n",
       "<style scoped>\n",
       "    .dataframe tbody tr th:only-of-type {\n",
       "        vertical-align: middle;\n",
       "    }\n",
       "\n",
       "    .dataframe tbody tr th {\n",
       "        vertical-align: top;\n",
       "    }\n",
       "\n",
       "    .dataframe thead th {\n",
       "        text-align: right;\n",
       "    }\n",
       "</style>\n",
       "<table border=\"1\" class=\"dataframe\">\n",
       "  <thead>\n",
       "    <tr style=\"text-align: right;\">\n",
       "      <th></th>\n",
       "      <th>Invoice Number</th>\n",
       "      <th>Date</th>\n",
       "      <th>Time</th>\n",
       "      <th>Zone</th>\n",
       "      <th>Manager</th>\n",
       "      <th>Customer</th>\n",
       "      <th>Product</th>\n",
       "      <th>price</th>\n",
       "      <th>Units Sold</th>\n",
       "      <th>sales</th>\n",
       "    </tr>\n",
       "  </thead>\n",
       "  <tbody>\n",
       "    <tr>\n",
       "      <th>0</th>\n",
       "      <td>102234.0</td>\n",
       "      <td>2010-01-07</td>\n",
       "      <td>10:25:37.200000</td>\n",
       "      <td>East</td>\n",
       "      <td>Bruce</td>\n",
       "      <td>Polo</td>\n",
       "      <td>A001</td>\n",
       "      <td>485.0</td>\n",
       "      <td>42.0</td>\n",
       "      <td>20370.0</td>\n",
       "    </tr>\n",
       "    <tr>\n",
       "      <th>1</th>\n",
       "      <td>102235.0</td>\n",
       "      <td>2010-01-07</td>\n",
       "      <td>12:00:00</td>\n",
       "      <td>East</td>\n",
       "      <td>Jacob</td>\n",
       "      <td>EEE</td>\n",
       "      <td>B227</td>\n",
       "      <td>292.0</td>\n",
       "      <td>71.0</td>\n",
       "      <td>20732.0</td>\n",
       "    </tr>\n",
       "    <tr>\n",
       "      <th>2</th>\n",
       "      <td>102235.0</td>\n",
       "      <td>2010-01-07</td>\n",
       "      <td>14:19:12</td>\n",
       "      <td>East</td>\n",
       "      <td>Melvin</td>\n",
       "      <td>Marco</td>\n",
       "      <td>A009</td>\n",
       "      <td>544.0</td>\n",
       "      <td>87.0</td>\n",
       "      <td>47328.0</td>\n",
       "    </tr>\n",
       "    <tr>\n",
       "      <th>3</th>\n",
       "      <td>102236.0</td>\n",
       "      <td>2010-01-07</td>\n",
       "      <td>12:57:00</td>\n",
       "      <td>South</td>\n",
       "      <td>Alicia</td>\n",
       "      <td>EEE</td>\n",
       "      <td>D440</td>\n",
       "      <td>385.0</td>\n",
       "      <td>51.0</td>\n",
       "      <td>19635.0</td>\n",
       "    </tr>\n",
       "    <tr>\n",
       "      <th>4</th>\n",
       "      <td>102236.0</td>\n",
       "      <td>2010-01-07</td>\n",
       "      <td>14:51:36</td>\n",
       "      <td>East</td>\n",
       "      <td>Paul</td>\n",
       "      <td>Zee</td>\n",
       "      <td>WP6</td>\n",
       "      <td>173.0</td>\n",
       "      <td>69.0</td>\n",
       "      <td>11937.0</td>\n",
       "    </tr>\n",
       "  </tbody>\n",
       "</table>\n",
       "</div>"
      ],
      "text/plain": [
       "   Invoice Number       Date             Time   Zone Manager Customer  \\\n",
       "0        102234.0 2010-01-07  10:25:37.200000   East   Bruce     Polo   \n",
       "1        102235.0 2010-01-07         12:00:00   East   Jacob      EEE   \n",
       "2        102235.0 2010-01-07         14:19:12   East  Melvin    Marco   \n",
       "3        102236.0 2010-01-07         12:57:00  South  Alicia      EEE   \n",
       "4        102236.0 2010-01-07         14:51:36   East    Paul      Zee   \n",
       "\n",
       "  Product   price  Units Sold    sales  \n",
       "0     A001  485.0        42.0  20370.0  \n",
       "1     B227  292.0        71.0  20732.0  \n",
       "2     A009  544.0        87.0  47328.0  \n",
       "3     D440  385.0        51.0  19635.0  \n",
       "4      WP6  173.0        69.0  11937.0  "
      ]
     },
     "execution_count": 6,
     "metadata": {},
     "output_type": "execute_result"
    }
   ],
   "source": [
    "#Import library \n",
    "import pandas as pd\n",
    "import numpy as np\n",
    "import seaborn as sns\n",
    "import matplotlib.pyplot as plt\n",
    "\n",
    "#data importing\n",
    "\n",
    "Sale=pd.read_excel('1 Sales Data.xlsx')\n",
    "\n",
    "Sale.head(5)"
   ]
  },
  {
   "cell_type": "markdown",
   "id": "8505d836",
   "metadata": {},
   "source": [
    "### Check is there any null values in the data. Yes/ No"
   ]
  },
  {
   "cell_type": "code",
   "execution_count": 7,
   "id": "33c6adc7",
   "metadata": {},
   "outputs": [
    {
     "data": {
      "text/plain": [
       "Invoice Number    False\n",
       "Date              False\n",
       "Time              False\n",
       "Zone              False\n",
       "Manager           False\n",
       "Customer          False\n",
       "Product           False\n",
       "price             False\n",
       "Units Sold        False\n",
       "sales             False\n",
       "dtype: bool"
      ]
     },
     "execution_count": 7,
     "metadata": {},
     "output_type": "execute_result"
    }
   ],
   "source": [
    "Sale.isnull().any()"
   ]
  },
  {
   "cell_type": "markdown",
   "id": "ad9d077a",
   "metadata": {},
   "source": [
    "### Find total sales."
   ]
  },
  {
   "cell_type": "code",
   "execution_count": 8,
   "id": "eacadc69",
   "metadata": {},
   "outputs": [
    {
     "data": {
      "text/plain": [
       "1085806200.0"
      ]
     },
     "execution_count": 8,
     "metadata": {},
     "output_type": "execute_result"
    }
   ],
   "source": [
    "a=Sale['sales'].sum()\n",
    "a"
   ]
  },
  {
   "cell_type": "markdown",
   "id": "3f177555",
   "metadata": {},
   "source": [
    "### Find total number of products sold."
   ]
  },
  {
   "cell_type": "code",
   "execution_count": 9,
   "id": "a6b50a36",
   "metadata": {},
   "outputs": [
    {
     "data": {
      "text/plain": [
       "26083"
      ]
     },
     "execution_count": 9,
     "metadata": {},
     "output_type": "execute_result"
    }
   ],
   "source": [
    "b=Sale['Product '].value_counts().sum()\n",
    "b"
   ]
  },
  {
   "cell_type": "markdown",
   "id": "8f1252b3",
   "metadata": {},
   "source": [
    "### Find maximum Sales"
   ]
  },
  {
   "cell_type": "code",
   "execution_count": 10,
   "id": "753375da",
   "metadata": {},
   "outputs": [
    {
     "data": {
      "text/plain": [
       "582000.0"
      ]
     },
     "execution_count": 10,
     "metadata": {},
     "output_type": "execute_result"
    }
   ],
   "source": [
    "c=Sale['sales'].max()\n",
    "c"
   ]
  },
  {
   "cell_type": "markdown",
   "id": "859dc955",
   "metadata": {},
   "source": [
    "### Find Minimum Sales"
   ]
  },
  {
   "cell_type": "code",
   "execution_count": 11,
   "id": "906b02e9",
   "metadata": {},
   "outputs": [
    {
     "data": {
      "text/plain": [
       "865.0"
      ]
     },
     "execution_count": 11,
     "metadata": {},
     "output_type": "execute_result"
    }
   ],
   "source": [
    "c=Sale['sales'].min()\n",
    "c"
   ]
  },
  {
   "cell_type": "markdown",
   "id": "356025e4",
   "metadata": {},
   "source": [
    "### Find the Average Sales"
   ]
  },
  {
   "cell_type": "code",
   "execution_count": 12,
   "id": "7aefcd04",
   "metadata": {},
   "outputs": [
    {
     "data": {
      "text/plain": [
       "41628.88471418165"
      ]
     },
     "execution_count": 12,
     "metadata": {},
     "output_type": "execute_result"
    }
   ],
   "source": [
    "d=Sale['sales'].mean()\n",
    "d"
   ]
  },
  {
   "cell_type": "markdown",
   "id": "23a0b1f5",
   "metadata": {},
   "source": [
    "### Find the Range of Sales"
   ]
  },
  {
   "cell_type": "code",
   "execution_count": 14,
   "id": "905e1014",
   "metadata": {},
   "outputs": [
    {
     "data": {
      "text/plain": [
       "-581135.0"
      ]
     },
     "execution_count": 14,
     "metadata": {},
     "output_type": "execute_result"
    }
   ],
   "source": [
    "f=865.0-582000.0\n",
    "f"
   ]
  },
  {
   "cell_type": "markdown",
   "id": "86385068",
   "metadata": {},
   "source": [
    "### Find the Standard Deviation of Sales"
   ]
  },
  {
   "cell_type": "code",
   "execution_count": 18,
   "id": "6d913a23",
   "metadata": {},
   "outputs": [
    {
     "data": {
      "text/plain": [
       "30413.734244059717"
      ]
     },
     "execution_count": 18,
     "metadata": {},
     "output_type": "execute_result"
    }
   ],
   "source": [
    "e=Sale['sales'].std()\n",
    "e"
   ]
  },
  {
   "cell_type": "markdown",
   "id": "1a388b32",
   "metadata": {},
   "source": [
    "### Find Average Sales by each zone"
   ]
  },
  {
   "cell_type": "code",
   "execution_count": 19,
   "id": "334857a8",
   "metadata": {},
   "outputs": [
    {
     "data": {
      "text/plain": [
       "Zone\n",
       "East     40856.468783\n",
       "North    41933.083101\n",
       "South    40869.279839\n",
       "West     42309.618582\n",
       "Name: sales, dtype: float64"
      ]
     },
     "execution_count": 19,
     "metadata": {},
     "output_type": "execute_result"
    }
   ],
   "source": [
    "g=Sale.groupby('Zone').mean()['sales']\n",
    "g"
   ]
  },
  {
   "cell_type": "markdown",
   "id": "50455cde",
   "metadata": {},
   "source": [
    "### Find maximum sales by each zone."
   ]
  },
  {
   "cell_type": "code",
   "execution_count": 20,
   "id": "1f77609e",
   "metadata": {},
   "outputs": [
    {
     "data": {
      "text/plain": [
       "Zone\n",
       "East     162656.0\n",
       "North    165300.0\n",
       "South    157760.0\n",
       "West     582000.0\n",
       "Name: sales, dtype: float64"
      ]
     },
     "execution_count": 20,
     "metadata": {},
     "output_type": "execute_result"
    }
   ],
   "source": [
    "g=Sale.groupby('Zone').max()['sales']\n",
    "g"
   ]
  },
  {
   "cell_type": "markdown",
   "id": "6ae7de80",
   "metadata": {},
   "source": [
    "### Find minimum sales by each zone."
   ]
  },
  {
   "cell_type": "code",
   "execution_count": 21,
   "id": "9c88f50d",
   "metadata": {},
   "outputs": [
    {
     "data": {
      "text/plain": [
       "Zone\n",
       "East     1015.0\n",
       "North    1038.0\n",
       "South     865.0\n",
       "West      865.0\n",
       "Name: sales, dtype: float64"
      ]
     },
     "execution_count": 21,
     "metadata": {},
     "output_type": "execute_result"
    }
   ],
   "source": [
    "g=Sale.groupby('Zone').min()['sales']\n",
    "g"
   ]
  },
  {
   "cell_type": "markdown",
   "id": "5d17f658",
   "metadata": {},
   "source": [
    "### Give an Inference from the data"
   ]
  },
  {
   "cell_type": "raw",
   "id": "4e8c5199",
   "metadata": {},
   "source": [
    "data are taken from the sample and allows you to generalize the population."
   ]
  },
  {
   "cell_type": "markdown",
   "id": "411272f6",
   "metadata": {},
   "source": [
    "# Conclusion\n",
    "\n",
    "\n",
    "Check is there any null values in the data. Yes/ No\n",
    "\n",
    "Find total sales.- 1085806200.0\n",
    "\n",
    "Find total number of products sold. - 26083\n",
    "\n",
    "Find maximum Sales - 582000.0\n",
    "\n",
    "Find Minimum Sales - 865.0\n",
    "\n",
    "Find the Average Sales - 41628.88471418165\n",
    "\n",
    "Find the Range of Sales - -581135.0\n",
    "\n",
    "Find the Standard Deviation of Sales - 30413.734244059717\n",
    "\n",
    "Find Average Sales by each zone \n",
    "\n",
    " Zone\n",
    "\n",
    " East     40856.468783\n",
    "\n",
    " North    41933.083101\n",
    "\n",
    " South    40869.279839\n",
    "\n",
    " West     42309.618582\n",
    "\n",
    " Name: sales, dtype: float64\n",
    "\n",
    "Find maximum sales by each zone.\n",
    "\n",
    " Zone\n",
    "\n",
    " East     162656.0\n",
    "\n",
    " North    165300.0\n",
    "\n",
    " South    157760.0\n",
    "\n",
    " West     582000.0\n",
    "\n",
    " Name: sales, dtype: float64\n",
    "\n",
    "\n",
    "Find minimum sales by each zone.\n",
    "\n",
    "Zone\n",
    "\n",
    "East     1015.0\n",
    "\n",
    "North    1038.0\n",
    "\n",
    "South     865.0\n",
    "\n",
    "West      865.0\n",
    "\n",
    "Name: sales, dtype: float64\n"
   ]
  }
 ],
 "metadata": {
  "kernelspec": {
   "display_name": "Python 3 (ipykernel)",
   "language": "python",
   "name": "python3"
  },
  "language_info": {
   "codemirror_mode": {
    "name": "ipython",
    "version": 3
   },
   "file_extension": ".py",
   "mimetype": "text/x-python",
   "name": "python",
   "nbconvert_exporter": "python",
   "pygments_lexer": "ipython3",
   "version": "3.9.12"
  }
 },
 "nbformat": 4,
 "nbformat_minor": 5
}
