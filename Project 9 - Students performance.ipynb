{
 "cells": [
  {
   "cell_type": "code",
   "execution_count": 60,
   "id": "9b912648",
   "metadata": {},
   "outputs": [
    {
     "data": {
      "text/html": [
       "<div>\n",
       "<style scoped>\n",
       "    .dataframe tbody tr th:only-of-type {\n",
       "        vertical-align: middle;\n",
       "    }\n",
       "\n",
       "    .dataframe tbody tr th {\n",
       "        vertical-align: top;\n",
       "    }\n",
       "\n",
       "    .dataframe thead th {\n",
       "        text-align: right;\n",
       "    }\n",
       "</style>\n",
       "<table border=\"1\" class=\"dataframe\">\n",
       "  <thead>\n",
       "    <tr style=\"text-align: right;\">\n",
       "      <th></th>\n",
       "      <th>Student ID</th>\n",
       "      <th>gender</th>\n",
       "      <th>race/ethnicity</th>\n",
       "      <th>parental level of education</th>\n",
       "      <th>lunch</th>\n",
       "      <th>Column</th>\n",
       "      <th>Column.1</th>\n",
       "      <th>test preparation course</th>\n",
       "      <th>math score</th>\n",
       "      <th>reading score</th>\n",
       "      <th>writing score</th>\n",
       "    </tr>\n",
       "  </thead>\n",
       "  <tbody>\n",
       "    <tr>\n",
       "      <th>0</th>\n",
       "      <td>1.0</td>\n",
       "      <td>female</td>\n",
       "      <td>group B</td>\n",
       "      <td>bachelor's degree</td>\n",
       "      <td>standard</td>\n",
       "      <td>NaN</td>\n",
       "      <td>NaN</td>\n",
       "      <td>none</td>\n",
       "      <td>72.0</td>\n",
       "      <td>72.0</td>\n",
       "      <td>74.0</td>\n",
       "    </tr>\n",
       "    <tr>\n",
       "      <th>1</th>\n",
       "      <td>2.0</td>\n",
       "      <td>female</td>\n",
       "      <td>group C</td>\n",
       "      <td>Diploma</td>\n",
       "      <td>standard</td>\n",
       "      <td>NaN</td>\n",
       "      <td>NaN</td>\n",
       "      <td>completed</td>\n",
       "      <td>69.0</td>\n",
       "      <td>90.0</td>\n",
       "      <td>88.0</td>\n",
       "    </tr>\n",
       "    <tr>\n",
       "      <th>2</th>\n",
       "      <td>3.0</td>\n",
       "      <td>female</td>\n",
       "      <td>group B</td>\n",
       "      <td>master's degree</td>\n",
       "      <td>standard</td>\n",
       "      <td>NaN</td>\n",
       "      <td>NaN</td>\n",
       "      <td>none</td>\n",
       "      <td>90.0</td>\n",
       "      <td>95.0</td>\n",
       "      <td>93.0</td>\n",
       "    </tr>\n",
       "    <tr>\n",
       "      <th>3</th>\n",
       "      <td>4.0</td>\n",
       "      <td>male</td>\n",
       "      <td>group A</td>\n",
       "      <td>associate's degree</td>\n",
       "      <td>free/reduced</td>\n",
       "      <td>NaN</td>\n",
       "      <td>NaN</td>\n",
       "      <td>none</td>\n",
       "      <td>47.0</td>\n",
       "      <td>57.0</td>\n",
       "      <td>44.0</td>\n",
       "    </tr>\n",
       "    <tr>\n",
       "      <th>4</th>\n",
       "      <td>5.0</td>\n",
       "      <td>male</td>\n",
       "      <td>group C</td>\n",
       "      <td>Diploma</td>\n",
       "      <td>standard</td>\n",
       "      <td>NaN</td>\n",
       "      <td>NaN</td>\n",
       "      <td>none</td>\n",
       "      <td>76.0</td>\n",
       "      <td>78.0</td>\n",
       "      <td>75.0</td>\n",
       "    </tr>\n",
       "  </tbody>\n",
       "</table>\n",
       "</div>"
      ],
      "text/plain": [
       "   Student ID  gender race/ethnicity parental level of education  \\\n",
       "0         1.0  female        group B           bachelor's degree   \n",
       "1         2.0  female        group C                     Diploma   \n",
       "2         3.0  female        group B             master's degree   \n",
       "3         4.0    male        group A          associate's degree   \n",
       "4         5.0    male        group C                     Diploma   \n",
       "\n",
       "          lunch  Column  Column.1 test preparation course  math score  \\\n",
       "0      standard     NaN       NaN                    none        72.0   \n",
       "1      standard     NaN       NaN               completed        69.0   \n",
       "2      standard     NaN       NaN                    none        90.0   \n",
       "3  free/reduced     NaN       NaN                    none        47.0   \n",
       "4      standard     NaN       NaN                    none        76.0   \n",
       "\n",
       "   reading score  writing score  \n",
       "0           72.0           74.0  \n",
       "1           90.0           88.0  \n",
       "2           95.0           93.0  \n",
       "3           57.0           44.0  \n",
       "4           78.0           75.0  "
      ]
     },
     "execution_count": 60,
     "metadata": {},
     "output_type": "execute_result"
    }
   ],
   "source": [
    "#Import library \n",
    "import pandas as pd\n",
    "import numpy as np\n",
    "import seaborn as sns\n",
    "import matplotlib.pyplot as plt\n",
    "\n",
    "#data importing\n",
    "\n",
    "student=pd.read_csv('StudentsPerformance.csv')\n",
    "\n",
    "student.head(5)"
   ]
  },
  {
   "cell_type": "code",
   "execution_count": 61,
   "id": "6c251a66",
   "metadata": {},
   "outputs": [],
   "source": [
    "# Pandas drop multiple columns \n",
    "\n",
    "student.drop(['Column','Column.1'],axis=1,inplace=True)"
   ]
  },
  {
   "cell_type": "code",
   "execution_count": 62,
   "id": "c6438c4f",
   "metadata": {},
   "outputs": [
    {
     "data": {
      "text/html": [
       "<div>\n",
       "<style scoped>\n",
       "    .dataframe tbody tr th:only-of-type {\n",
       "        vertical-align: middle;\n",
       "    }\n",
       "\n",
       "    .dataframe tbody tr th {\n",
       "        vertical-align: top;\n",
       "    }\n",
       "\n",
       "    .dataframe thead th {\n",
       "        text-align: right;\n",
       "    }\n",
       "</style>\n",
       "<table border=\"1\" class=\"dataframe\">\n",
       "  <thead>\n",
       "    <tr style=\"text-align: right;\">\n",
       "      <th></th>\n",
       "      <th>Student ID</th>\n",
       "      <th>gender</th>\n",
       "      <th>race/ethnicity</th>\n",
       "      <th>parental level of education</th>\n",
       "      <th>lunch</th>\n",
       "      <th>test preparation course</th>\n",
       "      <th>math score</th>\n",
       "      <th>reading score</th>\n",
       "      <th>writing score</th>\n",
       "    </tr>\n",
       "  </thead>\n",
       "  <tbody>\n",
       "    <tr>\n",
       "      <th>0</th>\n",
       "      <td>1.0</td>\n",
       "      <td>female</td>\n",
       "      <td>group B</td>\n",
       "      <td>bachelor's degree</td>\n",
       "      <td>standard</td>\n",
       "      <td>none</td>\n",
       "      <td>72.0</td>\n",
       "      <td>72.0</td>\n",
       "      <td>74.0</td>\n",
       "    </tr>\n",
       "    <tr>\n",
       "      <th>1</th>\n",
       "      <td>2.0</td>\n",
       "      <td>female</td>\n",
       "      <td>group C</td>\n",
       "      <td>Diploma</td>\n",
       "      <td>standard</td>\n",
       "      <td>completed</td>\n",
       "      <td>69.0</td>\n",
       "      <td>90.0</td>\n",
       "      <td>88.0</td>\n",
       "    </tr>\n",
       "    <tr>\n",
       "      <th>2</th>\n",
       "      <td>3.0</td>\n",
       "      <td>female</td>\n",
       "      <td>group B</td>\n",
       "      <td>master's degree</td>\n",
       "      <td>standard</td>\n",
       "      <td>none</td>\n",
       "      <td>90.0</td>\n",
       "      <td>95.0</td>\n",
       "      <td>93.0</td>\n",
       "    </tr>\n",
       "    <tr>\n",
       "      <th>3</th>\n",
       "      <td>4.0</td>\n",
       "      <td>male</td>\n",
       "      <td>group A</td>\n",
       "      <td>associate's degree</td>\n",
       "      <td>free/reduced</td>\n",
       "      <td>none</td>\n",
       "      <td>47.0</td>\n",
       "      <td>57.0</td>\n",
       "      <td>44.0</td>\n",
       "    </tr>\n",
       "    <tr>\n",
       "      <th>4</th>\n",
       "      <td>5.0</td>\n",
       "      <td>male</td>\n",
       "      <td>group C</td>\n",
       "      <td>Diploma</td>\n",
       "      <td>standard</td>\n",
       "      <td>none</td>\n",
       "      <td>76.0</td>\n",
       "      <td>78.0</td>\n",
       "      <td>75.0</td>\n",
       "    </tr>\n",
       "  </tbody>\n",
       "</table>\n",
       "</div>"
      ],
      "text/plain": [
       "   Student ID  gender race/ethnicity parental level of education  \\\n",
       "0         1.0  female        group B           bachelor's degree   \n",
       "1         2.0  female        group C                     Diploma   \n",
       "2         3.0  female        group B             master's degree   \n",
       "3         4.0    male        group A          associate's degree   \n",
       "4         5.0    male        group C                     Diploma   \n",
       "\n",
       "          lunch test preparation course  math score  reading score  \\\n",
       "0      standard                    none        72.0           72.0   \n",
       "1      standard               completed        69.0           90.0   \n",
       "2      standard                    none        90.0           95.0   \n",
       "3  free/reduced                    none        47.0           57.0   \n",
       "4      standard                    none        76.0           78.0   \n",
       "\n",
       "   writing score  \n",
       "0           74.0  \n",
       "1           88.0  \n",
       "2           93.0  \n",
       "3           44.0  \n",
       "4           75.0  "
      ]
     },
     "execution_count": 62,
     "metadata": {},
     "output_type": "execute_result"
    }
   ],
   "source": [
    "student.head(5)"
   ]
  },
  {
   "cell_type": "code",
   "execution_count": 63,
   "id": "617ff085",
   "metadata": {},
   "outputs": [
    {
     "data": {
      "text/html": [
       "<div>\n",
       "<style scoped>\n",
       "    .dataframe tbody tr th:only-of-type {\n",
       "        vertical-align: middle;\n",
       "    }\n",
       "\n",
       "    .dataframe tbody tr th {\n",
       "        vertical-align: top;\n",
       "    }\n",
       "\n",
       "    .dataframe thead th {\n",
       "        text-align: right;\n",
       "    }\n",
       "</style>\n",
       "<table border=\"1\" class=\"dataframe\">\n",
       "  <thead>\n",
       "    <tr style=\"text-align: right;\">\n",
       "      <th></th>\n",
       "      <th>Student ID</th>\n",
       "      <th>gender</th>\n",
       "      <th>race/ethnicity</th>\n",
       "      <th>parental level of education</th>\n",
       "      <th>lunch</th>\n",
       "      <th>test preparation course</th>\n",
       "      <th>math score</th>\n",
       "      <th>reading score</th>\n",
       "      <th>writing score</th>\n",
       "    </tr>\n",
       "  </thead>\n",
       "  <tbody>\n",
       "    <tr>\n",
       "      <th>1013</th>\n",
       "      <td>1001.0</td>\n",
       "      <td>female</td>\n",
       "      <td>group E</td>\n",
       "      <td>master's degree</td>\n",
       "      <td>standard</td>\n",
       "      <td>completed</td>\n",
       "      <td>88.0</td>\n",
       "      <td>99.0</td>\n",
       "      <td>95.0</td>\n",
       "    </tr>\n",
       "    <tr>\n",
       "      <th>1014</th>\n",
       "      <td>1002.0</td>\n",
       "      <td>male</td>\n",
       "      <td>group C</td>\n",
       "      <td>high school</td>\n",
       "      <td>free/reduced</td>\n",
       "      <td>none</td>\n",
       "      <td>62.0</td>\n",
       "      <td>55.0</td>\n",
       "      <td>55.0</td>\n",
       "    </tr>\n",
       "    <tr>\n",
       "      <th>1015</th>\n",
       "      <td>1003.0</td>\n",
       "      <td>female</td>\n",
       "      <td>group C</td>\n",
       "      <td>high school</td>\n",
       "      <td>free/reduced</td>\n",
       "      <td>completed</td>\n",
       "      <td>59.0</td>\n",
       "      <td>71.0</td>\n",
       "      <td>65.0</td>\n",
       "    </tr>\n",
       "    <tr>\n",
       "      <th>1016</th>\n",
       "      <td>1004.0</td>\n",
       "      <td>female</td>\n",
       "      <td>group D</td>\n",
       "      <td>Diploma</td>\n",
       "      <td>standard</td>\n",
       "      <td>completed</td>\n",
       "      <td>68.0</td>\n",
       "      <td>78.0</td>\n",
       "      <td>77.0</td>\n",
       "    </tr>\n",
       "    <tr>\n",
       "      <th>1017</th>\n",
       "      <td>1005.0</td>\n",
       "      <td>female</td>\n",
       "      <td>group D</td>\n",
       "      <td>Diploma</td>\n",
       "      <td>free/reduced</td>\n",
       "      <td>none</td>\n",
       "      <td>77.0</td>\n",
       "      <td>86.0</td>\n",
       "      <td>86.0</td>\n",
       "    </tr>\n",
       "  </tbody>\n",
       "</table>\n",
       "</div>"
      ],
      "text/plain": [
       "      Student ID  gender race/ethnicity parental level of education  \\\n",
       "1013      1001.0  female        group E             master's degree   \n",
       "1014      1002.0    male        group C                 high school   \n",
       "1015      1003.0  female        group C                 high school   \n",
       "1016      1004.0  female        group D                     Diploma   \n",
       "1017      1005.0  female        group D                     Diploma   \n",
       "\n",
       "             lunch test preparation course  math score  reading score  \\\n",
       "1013      standard               completed        88.0           99.0   \n",
       "1014  free/reduced                    none        62.0           55.0   \n",
       "1015  free/reduced               completed        59.0           71.0   \n",
       "1016      standard               completed        68.0           78.0   \n",
       "1017  free/reduced                    none        77.0           86.0   \n",
       "\n",
       "      writing score  \n",
       "1013           95.0  \n",
       "1014           55.0  \n",
       "1015           65.0  \n",
       "1016           77.0  \n",
       "1017           86.0  "
      ]
     },
     "execution_count": 63,
     "metadata": {},
     "output_type": "execute_result"
    }
   ],
   "source": [
    "student.tail(5)"
   ]
  },
  {
   "cell_type": "code",
   "execution_count": 64,
   "id": "98ac8d6b",
   "metadata": {},
   "outputs": [
    {
     "data": {
      "text/plain": [
       "(1018, 9)"
      ]
     },
     "execution_count": 64,
     "metadata": {},
     "output_type": "execute_result"
    }
   ],
   "source": [
    "student.shape"
   ]
  },
  {
   "cell_type": "code",
   "execution_count": 65,
   "id": "752dddae",
   "metadata": {},
   "outputs": [
    {
     "data": {
      "text/plain": [
       "Student ID                     13\n",
       "gender                         13\n",
       "race/ethnicity                 13\n",
       "parental level of education    13\n",
       "lunch                          13\n",
       "test preparation course        13\n",
       "math score                     18\n",
       "reading score                  18\n",
       "writing score                  18\n",
       "dtype: int64"
      ]
     },
     "execution_count": 65,
     "metadata": {},
     "output_type": "execute_result"
    }
   ],
   "source": [
    "student.isnull().sum()"
   ]
  },
  {
   "cell_type": "code",
   "execution_count": 66,
   "id": "027fd21d",
   "metadata": {},
   "outputs": [
    {
     "data": {
      "text/plain": [
       "Index(['Student ID', 'gender', 'race/ethnicity', 'parental level of education',\n",
       "       'lunch', 'test preparation course', 'math score', 'reading score',\n",
       "       'writing score'],\n",
       "      dtype='object')"
      ]
     },
     "execution_count": 66,
     "metadata": {},
     "output_type": "execute_result"
    }
   ],
   "source": [
    "student.columns"
   ]
  },
  {
   "cell_type": "code",
   "execution_count": 67,
   "id": "5c6796e8",
   "metadata": {},
   "outputs": [],
   "source": [
    "student['Score']=student['math score']+student['reading score']+student['writing score']\n"
   ]
  },
  {
   "cell_type": "code",
   "execution_count": 68,
   "id": "157243f1",
   "metadata": {},
   "outputs": [
    {
     "data": {
      "text/html": [
       "<div>\n",
       "<style scoped>\n",
       "    .dataframe tbody tr th:only-of-type {\n",
       "        vertical-align: middle;\n",
       "    }\n",
       "\n",
       "    .dataframe tbody tr th {\n",
       "        vertical-align: top;\n",
       "    }\n",
       "\n",
       "    .dataframe thead th {\n",
       "        text-align: right;\n",
       "    }\n",
       "</style>\n",
       "<table border=\"1\" class=\"dataframe\">\n",
       "  <thead>\n",
       "    <tr style=\"text-align: right;\">\n",
       "      <th></th>\n",
       "      <th>Student ID</th>\n",
       "      <th>gender</th>\n",
       "      <th>race/ethnicity</th>\n",
       "      <th>parental level of education</th>\n",
       "      <th>lunch</th>\n",
       "      <th>test preparation course</th>\n",
       "      <th>math score</th>\n",
       "      <th>reading score</th>\n",
       "      <th>writing score</th>\n",
       "      <th>Score</th>\n",
       "    </tr>\n",
       "  </thead>\n",
       "  <tbody>\n",
       "    <tr>\n",
       "      <th>0</th>\n",
       "      <td>1.0</td>\n",
       "      <td>female</td>\n",
       "      <td>group B</td>\n",
       "      <td>bachelor's degree</td>\n",
       "      <td>standard</td>\n",
       "      <td>none</td>\n",
       "      <td>72.0</td>\n",
       "      <td>72.0</td>\n",
       "      <td>74.0</td>\n",
       "      <td>218.0</td>\n",
       "    </tr>\n",
       "    <tr>\n",
       "      <th>1</th>\n",
       "      <td>2.0</td>\n",
       "      <td>female</td>\n",
       "      <td>group C</td>\n",
       "      <td>Diploma</td>\n",
       "      <td>standard</td>\n",
       "      <td>completed</td>\n",
       "      <td>69.0</td>\n",
       "      <td>90.0</td>\n",
       "      <td>88.0</td>\n",
       "      <td>247.0</td>\n",
       "    </tr>\n",
       "    <tr>\n",
       "      <th>2</th>\n",
       "      <td>3.0</td>\n",
       "      <td>female</td>\n",
       "      <td>group B</td>\n",
       "      <td>master's degree</td>\n",
       "      <td>standard</td>\n",
       "      <td>none</td>\n",
       "      <td>90.0</td>\n",
       "      <td>95.0</td>\n",
       "      <td>93.0</td>\n",
       "      <td>278.0</td>\n",
       "    </tr>\n",
       "    <tr>\n",
       "      <th>3</th>\n",
       "      <td>4.0</td>\n",
       "      <td>male</td>\n",
       "      <td>group A</td>\n",
       "      <td>associate's degree</td>\n",
       "      <td>free/reduced</td>\n",
       "      <td>none</td>\n",
       "      <td>47.0</td>\n",
       "      <td>57.0</td>\n",
       "      <td>44.0</td>\n",
       "      <td>148.0</td>\n",
       "    </tr>\n",
       "    <tr>\n",
       "      <th>4</th>\n",
       "      <td>5.0</td>\n",
       "      <td>male</td>\n",
       "      <td>group C</td>\n",
       "      <td>Diploma</td>\n",
       "      <td>standard</td>\n",
       "      <td>none</td>\n",
       "      <td>76.0</td>\n",
       "      <td>78.0</td>\n",
       "      <td>75.0</td>\n",
       "      <td>229.0</td>\n",
       "    </tr>\n",
       "    <tr>\n",
       "      <th>...</th>\n",
       "      <td>...</td>\n",
       "      <td>...</td>\n",
       "      <td>...</td>\n",
       "      <td>...</td>\n",
       "      <td>...</td>\n",
       "      <td>...</td>\n",
       "      <td>...</td>\n",
       "      <td>...</td>\n",
       "      <td>...</td>\n",
       "      <td>...</td>\n",
       "    </tr>\n",
       "    <tr>\n",
       "      <th>1013</th>\n",
       "      <td>1001.0</td>\n",
       "      <td>female</td>\n",
       "      <td>group E</td>\n",
       "      <td>master's degree</td>\n",
       "      <td>standard</td>\n",
       "      <td>completed</td>\n",
       "      <td>88.0</td>\n",
       "      <td>99.0</td>\n",
       "      <td>95.0</td>\n",
       "      <td>282.0</td>\n",
       "    </tr>\n",
       "    <tr>\n",
       "      <th>1014</th>\n",
       "      <td>1002.0</td>\n",
       "      <td>male</td>\n",
       "      <td>group C</td>\n",
       "      <td>high school</td>\n",
       "      <td>free/reduced</td>\n",
       "      <td>none</td>\n",
       "      <td>62.0</td>\n",
       "      <td>55.0</td>\n",
       "      <td>55.0</td>\n",
       "      <td>172.0</td>\n",
       "    </tr>\n",
       "    <tr>\n",
       "      <th>1015</th>\n",
       "      <td>1003.0</td>\n",
       "      <td>female</td>\n",
       "      <td>group C</td>\n",
       "      <td>high school</td>\n",
       "      <td>free/reduced</td>\n",
       "      <td>completed</td>\n",
       "      <td>59.0</td>\n",
       "      <td>71.0</td>\n",
       "      <td>65.0</td>\n",
       "      <td>195.0</td>\n",
       "    </tr>\n",
       "    <tr>\n",
       "      <th>1016</th>\n",
       "      <td>1004.0</td>\n",
       "      <td>female</td>\n",
       "      <td>group D</td>\n",
       "      <td>Diploma</td>\n",
       "      <td>standard</td>\n",
       "      <td>completed</td>\n",
       "      <td>68.0</td>\n",
       "      <td>78.0</td>\n",
       "      <td>77.0</td>\n",
       "      <td>223.0</td>\n",
       "    </tr>\n",
       "    <tr>\n",
       "      <th>1017</th>\n",
       "      <td>1005.0</td>\n",
       "      <td>female</td>\n",
       "      <td>group D</td>\n",
       "      <td>Diploma</td>\n",
       "      <td>free/reduced</td>\n",
       "      <td>none</td>\n",
       "      <td>77.0</td>\n",
       "      <td>86.0</td>\n",
       "      <td>86.0</td>\n",
       "      <td>249.0</td>\n",
       "    </tr>\n",
       "  </tbody>\n",
       "</table>\n",
       "<p>1018 rows × 10 columns</p>\n",
       "</div>"
      ],
      "text/plain": [
       "      Student ID  gender race/ethnicity parental level of education  \\\n",
       "0            1.0  female        group B           bachelor's degree   \n",
       "1            2.0  female        group C                     Diploma   \n",
       "2            3.0  female        group B             master's degree   \n",
       "3            4.0    male        group A          associate's degree   \n",
       "4            5.0    male        group C                     Diploma   \n",
       "...          ...     ...            ...                         ...   \n",
       "1013      1001.0  female        group E             master's degree   \n",
       "1014      1002.0    male        group C                 high school   \n",
       "1015      1003.0  female        group C                 high school   \n",
       "1016      1004.0  female        group D                     Diploma   \n",
       "1017      1005.0  female        group D                     Diploma   \n",
       "\n",
       "             lunch test preparation course  math score  reading score  \\\n",
       "0         standard                    none        72.0           72.0   \n",
       "1         standard               completed        69.0           90.0   \n",
       "2         standard                    none        90.0           95.0   \n",
       "3     free/reduced                    none        47.0           57.0   \n",
       "4         standard                    none        76.0           78.0   \n",
       "...            ...                     ...         ...            ...   \n",
       "1013      standard               completed        88.0           99.0   \n",
       "1014  free/reduced                    none        62.0           55.0   \n",
       "1015  free/reduced               completed        59.0           71.0   \n",
       "1016      standard               completed        68.0           78.0   \n",
       "1017  free/reduced                    none        77.0           86.0   \n",
       "\n",
       "      writing score  Score  \n",
       "0              74.0  218.0  \n",
       "1              88.0  247.0  \n",
       "2              93.0  278.0  \n",
       "3              44.0  148.0  \n",
       "4              75.0  229.0  \n",
       "...             ...    ...  \n",
       "1013           95.0  282.0  \n",
       "1014           55.0  172.0  \n",
       "1015           65.0  195.0  \n",
       "1016           77.0  223.0  \n",
       "1017           86.0  249.0  \n",
       "\n",
       "[1018 rows x 10 columns]"
      ]
     },
     "execution_count": 68,
     "metadata": {},
     "output_type": "execute_result"
    }
   ],
   "source": [
    "student"
   ]
  },
  {
   "cell_type": "markdown",
   "id": "a3d08b13",
   "metadata": {},
   "source": [
    "### 1.check whether null values are present in the given data."
   ]
  },
  {
   "cell_type": "code",
   "execution_count": 69,
   "id": "5273916f",
   "metadata": {},
   "outputs": [
    {
     "name": "stdout",
     "output_type": "stream",
     "text": [
      "<class 'pandas.core.frame.DataFrame'>\n",
      "RangeIndex: 1018 entries, 0 to 1017\n",
      "Data columns (total 10 columns):\n",
      " #   Column                       Non-Null Count  Dtype  \n",
      "---  ------                       --------------  -----  \n",
      " 0   Student ID                   1005 non-null   float64\n",
      " 1   gender                       1005 non-null   object \n",
      " 2   race/ethnicity               1005 non-null   object \n",
      " 3   parental level of education  1005 non-null   object \n",
      " 4   lunch                        1005 non-null   object \n",
      " 5   test preparation course      1005 non-null   object \n",
      " 6   math score                   1000 non-null   float64\n",
      " 7   reading score                1000 non-null   float64\n",
      " 8   writing score                1000 non-null   float64\n",
      " 9   Score                        1000 non-null   float64\n",
      "dtypes: float64(5), object(5)\n",
      "memory usage: 79.7+ KB\n"
     ]
    }
   ],
   "source": [
    "student.info()"
   ]
  },
  {
   "cell_type": "markdown",
   "id": "93d5fa8e",
   "metadata": {},
   "source": [
    "### 2.find the total number of students."
   ]
  },
  {
   "cell_type": "code",
   "execution_count": 70,
   "id": "4b046e83",
   "metadata": {},
   "outputs": [
    {
     "data": {
      "text/plain": [
       "1005"
      ]
     },
     "execution_count": 70,
     "metadata": {},
     "output_type": "execute_result"
    }
   ],
   "source": [
    "A=student['Student ID'].count()\n",
    "A"
   ]
  },
  {
   "cell_type": "markdown",
   "id": "9921ab79",
   "metadata": {},
   "source": [
    "### 3. find the average for reading score."
   ]
  },
  {
   "cell_type": "code",
   "execution_count": 71,
   "id": "77448a8b",
   "metadata": {},
   "outputs": [
    {
     "data": {
      "text/plain": [
       "69.169"
      ]
     },
     "execution_count": 71,
     "metadata": {},
     "output_type": "execute_result"
    }
   ],
   "source": [
    "A=student['reading score'].mean()\n",
    "A"
   ]
  },
  {
   "cell_type": "markdown",
   "id": "b5569010",
   "metadata": {},
   "source": [
    "### 4.check the descriptive statistics for writing score."
   ]
  },
  {
   "cell_type": "code",
   "execution_count": 72,
   "id": "51a1b115",
   "metadata": {
    "scrolled": true
   },
   "outputs": [
    {
     "name": "stderr",
     "output_type": "stream",
     "text": [
      "C:\\Users\\user\\AppData\\Local\\Temp\\ipykernel_5292\\262002444.py:1: FutureWarning: Dropping of nuisance columns in DataFrame reductions (with 'numeric_only=None') is deprecated; in a future version this will raise TypeError.  Select only valid columns before calling the reduction.\n",
      "  student.mean()\n"
     ]
    },
    {
     "data": {
      "text/plain": [
       "Student ID       503.000\n",
       "math score        66.089\n",
       "reading score     69.169\n",
       "writing score     68.054\n",
       "Score            203.312\n",
       "dtype: float64"
      ]
     },
     "execution_count": 72,
     "metadata": {},
     "output_type": "execute_result"
    }
   ],
   "source": [
    "student.mean()"
   ]
  },
  {
   "cell_type": "code",
   "execution_count": 73,
   "id": "a1d74fa6",
   "metadata": {},
   "outputs": [
    {
     "name": "stderr",
     "output_type": "stream",
     "text": [
      "C:\\Users\\user\\AppData\\Local\\Temp\\ipykernel_5292\\3256656841.py:1: FutureWarning: Dropping of nuisance columns in DataFrame reductions (with 'numeric_only=None') is deprecated; in a future version this will raise TypeError.  Select only valid columns before calling the reduction.\n",
      "  student.median()\n"
     ]
    },
    {
     "data": {
      "text/plain": [
       "Student ID       503.0\n",
       "math score        66.0\n",
       "reading score     70.0\n",
       "writing score     69.0\n",
       "Score            205.0\n",
       "dtype: float64"
      ]
     },
     "execution_count": 73,
     "metadata": {},
     "output_type": "execute_result"
    }
   ],
   "source": [
    "student.median()"
   ]
  },
  {
   "cell_type": "markdown",
   "id": "e69ba7e2",
   "metadata": {},
   "source": [
    "### 5.find how many students had completed the test preparation."
   ]
  },
  {
   "cell_type": "code",
   "execution_count": 74,
   "id": "f2d87d6e",
   "metadata": {},
   "outputs": [
    {
     "data": {
      "text/plain": [
       "none         644\n",
       "completed    361\n",
       "Name: test preparation course, dtype: int64"
      ]
     },
     "execution_count": 74,
     "metadata": {},
     "output_type": "execute_result"
    }
   ],
   "source": [
    "A2=student['test preparation course'].value_counts()\n",
    "A2"
   ]
  },
  {
   "cell_type": "markdown",
   "id": "1cafef23",
   "metadata": {},
   "source": [
    "### 6.find the min score in math."
   ]
  },
  {
   "cell_type": "code",
   "execution_count": 75,
   "id": "86896a2f",
   "metadata": {},
   "outputs": [
    {
     "data": {
      "text/plain": [
       "0.0"
      ]
     },
     "execution_count": 75,
     "metadata": {},
     "output_type": "execute_result"
    }
   ],
   "source": [
    "A2=student['math score'].min()\n",
    "A2"
   ]
  },
  {
   "cell_type": "markdown",
   "id": "713b33d5",
   "metadata": {},
   "source": [
    "### 7.find the max score in writing."
   ]
  },
  {
   "cell_type": "code",
   "execution_count": 76,
   "id": "e9771bb5",
   "metadata": {},
   "outputs": [
    {
     "data": {
      "text/plain": [
       "100.0"
      ]
     },
     "execution_count": 76,
     "metadata": {},
     "output_type": "execute_result"
    }
   ],
   "source": [
    "A2=student['writing score'].max()\n",
    "A2"
   ]
  },
  {
   "cell_type": "markdown",
   "id": "c229009e",
   "metadata": {},
   "source": [
    "### 8.find the number of students by lunch."
   ]
  },
  {
   "cell_type": "code",
   "execution_count": 77,
   "id": "968f9d1f",
   "metadata": {},
   "outputs": [
    {
     "data": {
      "text/plain": [
       "lunch\n",
       "free/reduced    356\n",
       "standard        649\n",
       "Name: Student ID, dtype: int64"
      ]
     },
     "execution_count": 77,
     "metadata": {},
     "output_type": "execute_result"
    }
   ],
   "source": [
    "A3=student.groupby('lunch').count()['Student ID']\n",
    "A3"
   ]
  },
  {
   "cell_type": "markdown",
   "id": "1de0c247",
   "metadata": {},
   "source": [
    "### 9.find the average score for each by race/ethnicity."
   ]
  },
  {
   "cell_type": "code",
   "execution_count": 78,
   "id": "b2ed48dc",
   "metadata": {},
   "outputs": [
    {
     "data": {
      "text/plain": [
       "race/ethnicity\n",
       "group A    188.977528\n",
       "group B    196.405263\n",
       "group C    201.394984\n",
       "group D    207.538168\n",
       "group E    218.257143\n",
       "Name: Score, dtype: float64"
      ]
     },
     "execution_count": 78,
     "metadata": {},
     "output_type": "execute_result"
    }
   ],
   "source": [
    "A3=student.groupby('race/ethnicity').mean()['Score']\n",
    "A3"
   ]
  },
  {
   "cell_type": "markdown",
   "id": "e9a3a829",
   "metadata": {},
   "source": [
    "### 10.create a count plot for parental level of education."
   ]
  },
  {
   "cell_type": "code",
   "execution_count": 79,
   "id": "456dfcd0",
   "metadata": {},
   "outputs": [
    {
     "data": {
      "text/plain": [
       "<AxesSubplot:xlabel='parental level of education', ylabel='count'>"
      ]
     },
     "execution_count": 79,
     "metadata": {},
     "output_type": "execute_result"
    },
    {
     "data": {
      "image/png": "[encoded data removed]",
      "text/plain": [
       "<Figure size 432x288 with 1 Axes>"
      ]
     },
     "metadata": {
      "needs_background": "light"
     },
     "output_type": "display_data"
    }
   ],
   "source": [
    "sns.countplot(x='parental level of education',data=student)\n"
   ]
  },
  {
   "cell_type": "markdown",
   "id": "6f6af153",
   "metadata": {},
   "source": [
    "### 11. Find the total score of each student"
   ]
  },
  {
   "cell_type": "code",
   "execution_count": 80,
   "id": "e049d402",
   "metadata": {},
   "outputs": [
    {
     "data": {
      "text/plain": [
       "203312.0"
      ]
     },
     "execution_count": 80,
     "metadata": {},
     "output_type": "execute_result"
    }
   ],
   "source": [
    "S=student['Score'].sum()\n",
    "S"
   ]
  },
  {
   "cell_type": "markdown",
   "id": "f1515dc1",
   "metadata": {},
   "source": [
    "### 12.What is the average of total score for male and female students?\n"
   ]
  },
  {
   "cell_type": "code",
   "execution_count": 81,
   "id": "580c4199",
   "metadata": {},
   "outputs": [
    {
     "data": {
      "text/plain": [
       "gender\n",
       "female    208.708494\n",
       "male      197.512448\n",
       "Name: Score, dtype: float64"
      ]
     },
     "execution_count": 81,
     "metadata": {},
     "output_type": "execute_result"
    }
   ],
   "source": [
    "S1=student.groupby('gender').mean()['Score']\n",
    "S1"
   ]
  },
  {
   "cell_type": "markdown",
   "id": "e38fdb8e",
   "metadata": {},
   "source": [
    "### 13. What is the average of total score by gender and parental education level?\n"
   ]
  },
  {
   "cell_type": "code",
   "execution_count": 82,
   "id": "8a862b2d",
   "metadata": {},
   "outputs": [
    {
     "data": {
      "text/plain": [
       "gender  parental level of education\n",
       "female  Diploma                        213.008475\n",
       "        associate's degree             213.370690\n",
       "        bachelor's degree              224.015873\n",
       "        high school                    195.448649\n",
       "        master's degree                220.944444\n",
       "male    Diploma                        197.148148\n",
       "        associate's degree             203.603774\n",
       "        bachelor's degree              206.327273\n",
       "        high school                    188.978947\n",
       "        master's degree                220.565217\n",
       "Name: Score, dtype: float64"
      ]
     },
     "execution_count": 82,
     "metadata": {},
     "output_type": "execute_result"
    }
   ],
   "source": [
    "S1=student.groupby(['gender','parental level of education']).mean()['Score']\n",
    "S1"
   ]
  },
  {
   "cell_type": "markdown",
   "id": "76ffedd8",
   "metadata": {},
   "source": [
    "### 14. What is the average math score by race/ethnicity?\n"
   ]
  },
  {
   "cell_type": "code",
   "execution_count": 83,
   "id": "504e3677",
   "metadata": {},
   "outputs": [
    {
     "data": {
      "text/plain": [
       "race/ethnicity\n",
       "group A    188.977528\n",
       "group B    196.405263\n",
       "group C    201.394984\n",
       "group D    207.538168\n",
       "group E    218.257143\n",
       "Name: Score, dtype: float64"
      ]
     },
     "execution_count": 83,
     "metadata": {},
     "output_type": "execute_result"
    }
   ],
   "source": [
    "S1=student.groupby('race/ethnicity').mean()['Score']\n",
    "S1"
   ]
  },
  {
   "cell_type": "markdown",
   "id": "35c94e14",
   "metadata": {},
   "source": [
    "### 15.Find the number of Students by test preparation course\n"
   ]
  },
  {
   "cell_type": "code",
   "execution_count": 84,
   "id": "254c8a3f",
   "metadata": {},
   "outputs": [
    {
     "data": {
      "text/plain": [
       "test preparation course\n",
       "completed    361\n",
       "none         644\n",
       "Name: Student ID, dtype: int64"
      ]
     },
     "execution_count": 84,
     "metadata": {},
     "output_type": "execute_result"
    }
   ],
   "source": [
    "S2=student.groupby('test preparation course').count()['Student ID']\n",
    "S2"
   ]
  },
  {
   "cell_type": "markdown",
   "id": "8bd3940a",
   "metadata": {},
   "source": [
    "### 16. Find the average total score by test preparation course\n"
   ]
  },
  {
   "cell_type": "code",
   "execution_count": 85,
   "id": "b8c21336",
   "metadata": {},
   "outputs": [
    {
     "data": {
      "text/plain": [
       "test preparation course\n",
       "completed    218.008380\n",
       "none         195.116822\n",
       "Name: Score, dtype: float64"
      ]
     },
     "execution_count": 85,
     "metadata": {},
     "output_type": "execute_result"
    }
   ],
   "source": [
    "S1=student.groupby('test preparation course').mean()['Score']\n",
    "S1"
   ]
  },
  {
   "cell_type": "markdown",
   "id": "91087246",
   "metadata": {},
   "source": [
    "### 17. create a new variable as, 'Score', and the values in the column should be the sum of all the three papers.\n"
   ]
  },
  {
   "cell_type": "markdown",
   "id": "82770930",
   "metadata": {},
   "source": [
    "### 18. create a new variable as, \" Percentage\", and find the percentage for the score \n"
   ]
  },
  {
   "cell_type": "code",
   "execution_count": 93,
   "id": "85cb9631",
   "metadata": {},
   "outputs": [
    {
     "data": {
      "text/html": [
       "<div>\n",
       "<style scoped>\n",
       "    .dataframe tbody tr th:only-of-type {\n",
       "        vertical-align: middle;\n",
       "    }\n",
       "\n",
       "    .dataframe tbody tr th {\n",
       "        vertical-align: top;\n",
       "    }\n",
       "\n",
       "    .dataframe thead th {\n",
       "        text-align: right;\n",
       "    }\n",
       "</style>\n",
       "<table border=\"1\" class=\"dataframe\">\n",
       "  <thead>\n",
       "    <tr style=\"text-align: right;\">\n",
       "      <th></th>\n",
       "      <th>Student ID</th>\n",
       "      <th>gender</th>\n",
       "      <th>race/ethnicity</th>\n",
       "      <th>parental level of education</th>\n",
       "      <th>lunch</th>\n",
       "      <th>test preparation course</th>\n",
       "      <th>math score</th>\n",
       "      <th>reading score</th>\n",
       "      <th>writing score</th>\n",
       "      <th>Score</th>\n",
       "      <th>percentage</th>\n",
       "    </tr>\n",
       "  </thead>\n",
       "  <tbody>\n",
       "    <tr>\n",
       "      <th>0</th>\n",
       "      <td>1.0</td>\n",
       "      <td>female</td>\n",
       "      <td>group B</td>\n",
       "      <td>bachelor's degree</td>\n",
       "      <td>standard</td>\n",
       "      <td>none</td>\n",
       "      <td>72.0</td>\n",
       "      <td>72.0</td>\n",
       "      <td>74.0</td>\n",
       "      <td>218.0</td>\n",
       "      <td>72.666667</td>\n",
       "    </tr>\n",
       "    <tr>\n",
       "      <th>1</th>\n",
       "      <td>2.0</td>\n",
       "      <td>female</td>\n",
       "      <td>group C</td>\n",
       "      <td>Diploma</td>\n",
       "      <td>standard</td>\n",
       "      <td>completed</td>\n",
       "      <td>69.0</td>\n",
       "      <td>90.0</td>\n",
       "      <td>88.0</td>\n",
       "      <td>247.0</td>\n",
       "      <td>82.333333</td>\n",
       "    </tr>\n",
       "    <tr>\n",
       "      <th>2</th>\n",
       "      <td>3.0</td>\n",
       "      <td>female</td>\n",
       "      <td>group B</td>\n",
       "      <td>master's degree</td>\n",
       "      <td>standard</td>\n",
       "      <td>none</td>\n",
       "      <td>90.0</td>\n",
       "      <td>95.0</td>\n",
       "      <td>93.0</td>\n",
       "      <td>278.0</td>\n",
       "      <td>92.666667</td>\n",
       "    </tr>\n",
       "    <tr>\n",
       "      <th>3</th>\n",
       "      <td>4.0</td>\n",
       "      <td>male</td>\n",
       "      <td>group A</td>\n",
       "      <td>associate's degree</td>\n",
       "      <td>free/reduced</td>\n",
       "      <td>none</td>\n",
       "      <td>47.0</td>\n",
       "      <td>57.0</td>\n",
       "      <td>44.0</td>\n",
       "      <td>148.0</td>\n",
       "      <td>49.333333</td>\n",
       "    </tr>\n",
       "    <tr>\n",
       "      <th>4</th>\n",
       "      <td>5.0</td>\n",
       "      <td>male</td>\n",
       "      <td>group C</td>\n",
       "      <td>Diploma</td>\n",
       "      <td>standard</td>\n",
       "      <td>none</td>\n",
       "      <td>76.0</td>\n",
       "      <td>78.0</td>\n",
       "      <td>75.0</td>\n",
       "      <td>229.0</td>\n",
       "      <td>76.333333</td>\n",
       "    </tr>\n",
       "    <tr>\n",
       "      <th>...</th>\n",
       "      <td>...</td>\n",
       "      <td>...</td>\n",
       "      <td>...</td>\n",
       "      <td>...</td>\n",
       "      <td>...</td>\n",
       "      <td>...</td>\n",
       "      <td>...</td>\n",
       "      <td>...</td>\n",
       "      <td>...</td>\n",
       "      <td>...</td>\n",
       "      <td>...</td>\n",
       "    </tr>\n",
       "    <tr>\n",
       "      <th>1013</th>\n",
       "      <td>1001.0</td>\n",
       "      <td>female</td>\n",
       "      <td>group E</td>\n",
       "      <td>master's degree</td>\n",
       "      <td>standard</td>\n",
       "      <td>completed</td>\n",
       "      <td>88.0</td>\n",
       "      <td>99.0</td>\n",
       "      <td>95.0</td>\n",
       "      <td>282.0</td>\n",
       "      <td>94.000000</td>\n",
       "    </tr>\n",
       "    <tr>\n",
       "      <th>1014</th>\n",
       "      <td>1002.0</td>\n",
       "      <td>male</td>\n",
       "      <td>group C</td>\n",
       "      <td>high school</td>\n",
       "      <td>free/reduced</td>\n",
       "      <td>none</td>\n",
       "      <td>62.0</td>\n",
       "      <td>55.0</td>\n",
       "      <td>55.0</td>\n",
       "      <td>172.0</td>\n",
       "      <td>57.333333</td>\n",
       "    </tr>\n",
       "    <tr>\n",
       "      <th>1015</th>\n",
       "      <td>1003.0</td>\n",
       "      <td>female</td>\n",
       "      <td>group C</td>\n",
       "      <td>high school</td>\n",
       "      <td>free/reduced</td>\n",
       "      <td>completed</td>\n",
       "      <td>59.0</td>\n",
       "      <td>71.0</td>\n",
       "      <td>65.0</td>\n",
       "      <td>195.0</td>\n",
       "      <td>65.000000</td>\n",
       "    </tr>\n",
       "    <tr>\n",
       "      <th>1016</th>\n",
       "      <td>1004.0</td>\n",
       "      <td>female</td>\n",
       "      <td>group D</td>\n",
       "      <td>Diploma</td>\n",
       "      <td>standard</td>\n",
       "      <td>completed</td>\n",
       "      <td>68.0</td>\n",
       "      <td>78.0</td>\n",
       "      <td>77.0</td>\n",
       "      <td>223.0</td>\n",
       "      <td>74.333333</td>\n",
       "    </tr>\n",
       "    <tr>\n",
       "      <th>1017</th>\n",
       "      <td>1005.0</td>\n",
       "      <td>female</td>\n",
       "      <td>group D</td>\n",
       "      <td>Diploma</td>\n",
       "      <td>free/reduced</td>\n",
       "      <td>none</td>\n",
       "      <td>77.0</td>\n",
       "      <td>86.0</td>\n",
       "      <td>86.0</td>\n",
       "      <td>249.0</td>\n",
       "      <td>83.000000</td>\n",
       "    </tr>\n",
       "  </tbody>\n",
       "</table>\n",
       "<p>1018 rows × 11 columns</p>\n",
       "</div>"
      ],
      "text/plain": [
       "      Student ID  gender race/ethnicity parental level of education  \\\n",
       "0            1.0  female        group B           bachelor's degree   \n",
       "1            2.0  female        group C                     Diploma   \n",
       "2            3.0  female        group B             master's degree   \n",
       "3            4.0    male        group A          associate's degree   \n",
       "4            5.0    male        group C                     Diploma   \n",
       "...          ...     ...            ...                         ...   \n",
       "1013      1001.0  female        group E             master's degree   \n",
       "1014      1002.0    male        group C                 high school   \n",
       "1015      1003.0  female        group C                 high school   \n",
       "1016      1004.0  female        group D                     Diploma   \n",
       "1017      1005.0  female        group D                     Diploma   \n",
       "\n",
       "             lunch test preparation course  math score  reading score  \\\n",
       "0         standard                    none        72.0           72.0   \n",
       "1         standard               completed        69.0           90.0   \n",
       "2         standard                    none        90.0           95.0   \n",
       "3     free/reduced                    none        47.0           57.0   \n",
       "4         standard                    none        76.0           78.0   \n",
       "...            ...                     ...         ...            ...   \n",
       "1013      standard               completed        88.0           99.0   \n",
       "1014  free/reduced                    none        62.0           55.0   \n",
       "1015  free/reduced               completed        59.0           71.0   \n",
       "1016      standard               completed        68.0           78.0   \n",
       "1017  free/reduced                    none        77.0           86.0   \n",
       "\n",
       "      writing score  Score  percentage  \n",
       "0              74.0  218.0   72.666667  \n",
       "1              88.0  247.0   82.333333  \n",
       "2              93.0  278.0   92.666667  \n",
       "3              44.0  148.0   49.333333  \n",
       "4              75.0  229.0   76.333333  \n",
       "...             ...    ...         ...  \n",
       "1013           95.0  282.0   94.000000  \n",
       "1014           55.0  172.0   57.333333  \n",
       "1015           65.0  195.0   65.000000  \n",
       "1016           77.0  223.0   74.333333  \n",
       "1017           86.0  249.0   83.000000  \n",
       "\n",
       "[1018 rows x 11 columns]"
      ]
     },
     "execution_count": 93,
     "metadata": {},
     "output_type": "execute_result"
    }
   ],
   "source": [
    "\n",
    "# computing percentage for each of the students\n",
    "\n",
    "# importing math library to use ceil\n",
    "from math import * \n",
    "\n",
    "student['percentage'] = student['Score']/3\n",
    "\n",
    "student"
   ]
  },
  {
   "cell_type": "markdown",
   "id": "2a5d0f33",
   "metadata": {},
   "source": [
    "### 19. create a new variable called, 'status'. Inside this column, find the status as Pass \\ Fail, those who score above 40 % will pass the exam\n"
   ]
  },
  {
   "cell_type": "code",
   "execution_count": 94,
   "id": "59cdc62b",
   "metadata": {},
   "outputs": [
    {
     "data": {
      "text/html": [
       "<div>\n",
       "<style scoped>\n",
       "    .dataframe tbody tr th:only-of-type {\n",
       "        vertical-align: middle;\n",
       "    }\n",
       "\n",
       "    .dataframe tbody tr th {\n",
       "        vertical-align: top;\n",
       "    }\n",
       "\n",
       "    .dataframe thead th {\n",
       "        text-align: right;\n",
       "    }\n",
       "</style>\n",
       "<table border=\"1\" class=\"dataframe\">\n",
       "  <thead>\n",
       "    <tr style=\"text-align: right;\">\n",
       "      <th></th>\n",
       "      <th>Student ID</th>\n",
       "      <th>gender</th>\n",
       "      <th>race/ethnicity</th>\n",
       "      <th>parental level of education</th>\n",
       "      <th>lunch</th>\n",
       "      <th>test preparation course</th>\n",
       "      <th>math score</th>\n",
       "      <th>reading score</th>\n",
       "      <th>writing score</th>\n",
       "      <th>Score</th>\n",
       "      <th>percentage</th>\n",
       "      <th>Status</th>\n",
       "    </tr>\n",
       "  </thead>\n",
       "  <tbody>\n",
       "    <tr>\n",
       "      <th>0</th>\n",
       "      <td>1.0</td>\n",
       "      <td>female</td>\n",
       "      <td>group B</td>\n",
       "      <td>bachelor's degree</td>\n",
       "      <td>standard</td>\n",
       "      <td>none</td>\n",
       "      <td>72.0</td>\n",
       "      <td>72.0</td>\n",
       "      <td>74.0</td>\n",
       "      <td>218.0</td>\n",
       "      <td>72.666667</td>\n",
       "      <td>Pass</td>\n",
       "    </tr>\n",
       "    <tr>\n",
       "      <th>1</th>\n",
       "      <td>2.0</td>\n",
       "      <td>female</td>\n",
       "      <td>group C</td>\n",
       "      <td>Diploma</td>\n",
       "      <td>standard</td>\n",
       "      <td>completed</td>\n",
       "      <td>69.0</td>\n",
       "      <td>90.0</td>\n",
       "      <td>88.0</td>\n",
       "      <td>247.0</td>\n",
       "      <td>82.333333</td>\n",
       "      <td>Pass</td>\n",
       "    </tr>\n",
       "    <tr>\n",
       "      <th>2</th>\n",
       "      <td>3.0</td>\n",
       "      <td>female</td>\n",
       "      <td>group B</td>\n",
       "      <td>master's degree</td>\n",
       "      <td>standard</td>\n",
       "      <td>none</td>\n",
       "      <td>90.0</td>\n",
       "      <td>95.0</td>\n",
       "      <td>93.0</td>\n",
       "      <td>278.0</td>\n",
       "      <td>92.666667</td>\n",
       "      <td>Pass</td>\n",
       "    </tr>\n",
       "    <tr>\n",
       "      <th>3</th>\n",
       "      <td>4.0</td>\n",
       "      <td>male</td>\n",
       "      <td>group A</td>\n",
       "      <td>associate's degree</td>\n",
       "      <td>free/reduced</td>\n",
       "      <td>none</td>\n",
       "      <td>47.0</td>\n",
       "      <td>57.0</td>\n",
       "      <td>44.0</td>\n",
       "      <td>148.0</td>\n",
       "      <td>49.333333</td>\n",
       "      <td>Pass</td>\n",
       "    </tr>\n",
       "    <tr>\n",
       "      <th>4</th>\n",
       "      <td>5.0</td>\n",
       "      <td>male</td>\n",
       "      <td>group C</td>\n",
       "      <td>Diploma</td>\n",
       "      <td>standard</td>\n",
       "      <td>none</td>\n",
       "      <td>76.0</td>\n",
       "      <td>78.0</td>\n",
       "      <td>75.0</td>\n",
       "      <td>229.0</td>\n",
       "      <td>76.333333</td>\n",
       "      <td>Pass</td>\n",
       "    </tr>\n",
       "    <tr>\n",
       "      <th>...</th>\n",
       "      <td>...</td>\n",
       "      <td>...</td>\n",
       "      <td>...</td>\n",
       "      <td>...</td>\n",
       "      <td>...</td>\n",
       "      <td>...</td>\n",
       "      <td>...</td>\n",
       "      <td>...</td>\n",
       "      <td>...</td>\n",
       "      <td>...</td>\n",
       "      <td>...</td>\n",
       "      <td>...</td>\n",
       "    </tr>\n",
       "    <tr>\n",
       "      <th>1013</th>\n",
       "      <td>1001.0</td>\n",
       "      <td>female</td>\n",
       "      <td>group E</td>\n",
       "      <td>master's degree</td>\n",
       "      <td>standard</td>\n",
       "      <td>completed</td>\n",
       "      <td>88.0</td>\n",
       "      <td>99.0</td>\n",
       "      <td>95.0</td>\n",
       "      <td>282.0</td>\n",
       "      <td>94.000000</td>\n",
       "      <td>Pass</td>\n",
       "    </tr>\n",
       "    <tr>\n",
       "      <th>1014</th>\n",
       "      <td>1002.0</td>\n",
       "      <td>male</td>\n",
       "      <td>group C</td>\n",
       "      <td>high school</td>\n",
       "      <td>free/reduced</td>\n",
       "      <td>none</td>\n",
       "      <td>62.0</td>\n",
       "      <td>55.0</td>\n",
       "      <td>55.0</td>\n",
       "      <td>172.0</td>\n",
       "      <td>57.333333</td>\n",
       "      <td>Pass</td>\n",
       "    </tr>\n",
       "    <tr>\n",
       "      <th>1015</th>\n",
       "      <td>1003.0</td>\n",
       "      <td>female</td>\n",
       "      <td>group C</td>\n",
       "      <td>high school</td>\n",
       "      <td>free/reduced</td>\n",
       "      <td>completed</td>\n",
       "      <td>59.0</td>\n",
       "      <td>71.0</td>\n",
       "      <td>65.0</td>\n",
       "      <td>195.0</td>\n",
       "      <td>65.000000</td>\n",
       "      <td>Pass</td>\n",
       "    </tr>\n",
       "    <tr>\n",
       "      <th>1016</th>\n",
       "      <td>1004.0</td>\n",
       "      <td>female</td>\n",
       "      <td>group D</td>\n",
       "      <td>Diploma</td>\n",
       "      <td>standard</td>\n",
       "      <td>completed</td>\n",
       "      <td>68.0</td>\n",
       "      <td>78.0</td>\n",
       "      <td>77.0</td>\n",
       "      <td>223.0</td>\n",
       "      <td>74.333333</td>\n",
       "      <td>Pass</td>\n",
       "    </tr>\n",
       "    <tr>\n",
       "      <th>1017</th>\n",
       "      <td>1005.0</td>\n",
       "      <td>female</td>\n",
       "      <td>group D</td>\n",
       "      <td>Diploma</td>\n",
       "      <td>free/reduced</td>\n",
       "      <td>none</td>\n",
       "      <td>77.0</td>\n",
       "      <td>86.0</td>\n",
       "      <td>86.0</td>\n",
       "      <td>249.0</td>\n",
       "      <td>83.000000</td>\n",
       "      <td>Pass</td>\n",
       "    </tr>\n",
       "  </tbody>\n",
       "</table>\n",
       "<p>1018 rows × 12 columns</p>\n",
       "</div>"
      ],
      "text/plain": [
       "      Student ID  gender race/ethnicity parental level of education  \\\n",
       "0            1.0  female        group B           bachelor's degree   \n",
       "1            2.0  female        group C                     Diploma   \n",
       "2            3.0  female        group B             master's degree   \n",
       "3            4.0    male        group A          associate's degree   \n",
       "4            5.0    male        group C                     Diploma   \n",
       "...          ...     ...            ...                         ...   \n",
       "1013      1001.0  female        group E             master's degree   \n",
       "1014      1002.0    male        group C                 high school   \n",
       "1015      1003.0  female        group C                 high school   \n",
       "1016      1004.0  female        group D                     Diploma   \n",
       "1017      1005.0  female        group D                     Diploma   \n",
       "\n",
       "             lunch test preparation course  math score  reading score  \\\n",
       "0         standard                    none        72.0           72.0   \n",
       "1         standard               completed        69.0           90.0   \n",
       "2         standard                    none        90.0           95.0   \n",
       "3     free/reduced                    none        47.0           57.0   \n",
       "4         standard                    none        76.0           78.0   \n",
       "...            ...                     ...         ...            ...   \n",
       "1013      standard               completed        88.0           99.0   \n",
       "1014  free/reduced                    none        62.0           55.0   \n",
       "1015  free/reduced               completed        59.0           71.0   \n",
       "1016      standard               completed        68.0           78.0   \n",
       "1017  free/reduced                    none        77.0           86.0   \n",
       "\n",
       "      writing score  Score  percentage Status  \n",
       "0              74.0  218.0   72.666667   Pass  \n",
       "1              88.0  247.0   82.333333   Pass  \n",
       "2              93.0  278.0   92.666667   Pass  \n",
       "3              44.0  148.0   49.333333   Pass  \n",
       "4              75.0  229.0   76.333333   Pass  \n",
       "...             ...    ...         ...    ...  \n",
       "1013           95.0  282.0   94.000000   Pass  \n",
       "1014           55.0  172.0   57.333333   Pass  \n",
       "1015           65.0  195.0   65.000000   Pass  \n",
       "1016           77.0  223.0   74.333333   Pass  \n",
       "1017           86.0  249.0   83.000000   Pass  \n",
       "\n",
       "[1018 rows x 12 columns]"
      ]
     },
     "execution_count": 94,
     "metadata": {},
     "output_type": "execute_result"
    }
   ],
   "source": [
    "passmarks=40\n",
    "\n",
    "student['Status'] = np.where(student['Score']< passmarks, 'Fail', 'Pass')\n",
    "student"
   ]
  },
  {
   "cell_type": "markdown",
   "id": "c694f7f1",
   "metadata": {},
   "source": [
    "# Conclusion\n",
    "\n",
    "This is Students performance\n",
    "\n",
    "There are 1018 rows and 9 columns.\n",
    "\n",
    "The total number of students is 1005.\n",
    "\n",
    "The average reading score is 69.169.\n",
    "\n",
    "361 had students complete the test preparation.\n",
    "\n",
    "0.0 is the least of math scores.\n",
    "\n",
    "The max score in writing is 100.\n",
    "\n",
    "Most of the parental leave of education is high school.\n",
    "\n"
   ]
  },
  {
   "cell_type": "code",
   "execution_count": null,
   "id": "79029254",
   "metadata": {},
   "outputs": [],
   "source": []
  }
 ],
 "metadata": {
  "kernelspec": {
   "display_name": "Python 3 (ipykernel)",
   "language": "python",
   "name": "python3"
  },
  "language_info": {
   "codemirror_mode": {
    "name": "ipython",
    "version": 3
   },
   "file_extension": ".py",
   "mimetype": "text/x-python",
   "name": "python",
   "nbconvert_exporter": "python",
   "pygments_lexer": "ipython3",
   "version": "3.9.12"
  }
 },
 "nbformat": 4,
 "nbformat_minor": 5
}
