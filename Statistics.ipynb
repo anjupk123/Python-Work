{
 "cells": [
  {
   "cell_type": "markdown",
   "id": "a3796c50",
   "metadata": {},
   "source": [
    "### Statistcs :  2 types, descriptive and Inferential statistics"
   ]
  },
  {
   "cell_type": "code",
   "execution_count": 158,
   "id": "ff60ff7a",
   "metadata": {},
   "outputs": [],
   "source": [
    "\n",
    "#Descriptive Statistics \n",
    "#In measure of central tendency\n",
    "#mean, median, mode"
   ]
  },
  {
   "cell_type": "markdown",
   "id": "c44d147e",
   "metadata": {},
   "source": [
    "# Measure of central tendency"
   ]
  },
  {
   "cell_type": "code",
   "execution_count": 159,
   "id": "abdca4d9",
   "metadata": {},
   "outputs": [
    {
     "data": {
      "text/plain": [
       "4.2"
      ]
     },
     "execution_count": 159,
     "metadata": {},
     "output_type": "execute_result"
    }
   ],
   "source": [
    "\n",
    "#mean \n",
    "\n",
    "import numpy as np\n",
    "X=[1,2,3,1,2,3,4,5,2,6,7,5,4,8,10]\n",
    "\n",
    "#using numpy\n",
    "np.mean(X)"
   ]
  },
  {
   "cell_type": "code",
   "execution_count": 160,
   "id": "1e1bf779",
   "metadata": {},
   "outputs": [
    {
     "name": "stdout",
     "output_type": "stream",
     "text": [
      "mean :  4.2\n"
     ]
    }
   ],
   "source": [
    "\n",
    "print(\"mean : \", np.mean(X))\n",
    "     "
   ]
  },
  {
   "cell_type": "code",
   "execution_count": 161,
   "id": "1fdbffe0",
   "metadata": {},
   "outputs": [
    {
     "data": {
      "text/html": [
       "<div>\n",
       "<style scoped>\n",
       "    .dataframe tbody tr th:only-of-type {\n",
       "        vertical-align: middle;\n",
       "    }\n",
       "\n",
       "    .dataframe tbody tr th {\n",
       "        vertical-align: top;\n",
       "    }\n",
       "\n",
       "    .dataframe thead th {\n",
       "        text-align: right;\n",
       "    }\n",
       "</style>\n",
       "<table border=\"1\" class=\"dataframe\">\n",
       "  <thead>\n",
       "    <tr style=\"text-align: right;\">\n",
       "      <th></th>\n",
       "      <th>values</th>\n",
       "    </tr>\n",
       "  </thead>\n",
       "  <tbody>\n",
       "    <tr>\n",
       "      <th>0</th>\n",
       "      <td>1</td>\n",
       "    </tr>\n",
       "    <tr>\n",
       "      <th>1</th>\n",
       "      <td>2</td>\n",
       "    </tr>\n",
       "    <tr>\n",
       "      <th>2</th>\n",
       "      <td>3</td>\n",
       "    </tr>\n",
       "    <tr>\n",
       "      <th>3</th>\n",
       "      <td>1</td>\n",
       "    </tr>\n",
       "    <tr>\n",
       "      <th>4</th>\n",
       "      <td>2</td>\n",
       "    </tr>\n",
       "    <tr>\n",
       "      <th>5</th>\n",
       "      <td>3</td>\n",
       "    </tr>\n",
       "    <tr>\n",
       "      <th>6</th>\n",
       "      <td>4</td>\n",
       "    </tr>\n",
       "    <tr>\n",
       "      <th>7</th>\n",
       "      <td>5</td>\n",
       "    </tr>\n",
       "    <tr>\n",
       "      <th>8</th>\n",
       "      <td>2</td>\n",
       "    </tr>\n",
       "    <tr>\n",
       "      <th>9</th>\n",
       "      <td>6</td>\n",
       "    </tr>\n",
       "    <tr>\n",
       "      <th>10</th>\n",
       "      <td>7</td>\n",
       "    </tr>\n",
       "    <tr>\n",
       "      <th>11</th>\n",
       "      <td>5</td>\n",
       "    </tr>\n",
       "    <tr>\n",
       "      <th>12</th>\n",
       "      <td>4</td>\n",
       "    </tr>\n",
       "    <tr>\n",
       "      <th>13</th>\n",
       "      <td>8</td>\n",
       "    </tr>\n",
       "    <tr>\n",
       "      <th>14</th>\n",
       "      <td>10</td>\n",
       "    </tr>\n",
       "  </tbody>\n",
       "</table>\n",
       "</div>"
      ],
      "text/plain": [
       "    values\n",
       "0        1\n",
       "1        2\n",
       "2        3\n",
       "3        1\n",
       "4        2\n",
       "5        3\n",
       "6        4\n",
       "7        5\n",
       "8        2\n",
       "9        6\n",
       "10       7\n",
       "11       5\n",
       "12       4\n",
       "13       8\n",
       "14      10"
      ]
     },
     "execution_count": 161,
     "metadata": {},
     "output_type": "execute_result"
    }
   ],
   "source": [
    "#created the list into a table format\n",
    "import pandas as pd\n",
    "z=pd.DataFrame(data={'values': [1,2,3,1,2,3,4,5,2,6,7,5,4,8,10]})\n",
    "z"
   ]
  },
  {
   "cell_type": "code",
   "execution_count": 162,
   "id": "baf6d250",
   "metadata": {},
   "outputs": [
    {
     "data": {
      "text/plain": [
       "values    4.2\n",
       "dtype: float64"
      ]
     },
     "execution_count": 162,
     "metadata": {},
     "output_type": "execute_result"
    }
   ],
   "source": [
    "\n",
    "#mean using pandas\n",
    "z.mean()"
   ]
  },
  {
   "cell_type": "code",
   "execution_count": 163,
   "id": "87413fe2",
   "metadata": {},
   "outputs": [
    {
     "data": {
      "text/html": [
       "<div>\n",
       "<style scoped>\n",
       "    .dataframe tbody tr th:only-of-type {\n",
       "        vertical-align: middle;\n",
       "    }\n",
       "\n",
       "    .dataframe tbody tr th {\n",
       "        vertical-align: top;\n",
       "    }\n",
       "\n",
       "    .dataframe thead th {\n",
       "        text-align: right;\n",
       "    }\n",
       "</style>\n",
       "<table border=\"1\" class=\"dataframe\">\n",
       "  <thead>\n",
       "    <tr style=\"text-align: right;\">\n",
       "      <th></th>\n",
       "      <th>values</th>\n",
       "    </tr>\n",
       "  </thead>\n",
       "  <tbody>\n",
       "    <tr>\n",
       "      <th>count</th>\n",
       "      <td>15.000000</td>\n",
       "    </tr>\n",
       "    <tr>\n",
       "      <th>mean</th>\n",
       "      <td>4.200000</td>\n",
       "    </tr>\n",
       "    <tr>\n",
       "      <th>std</th>\n",
       "      <td>2.651145</td>\n",
       "    </tr>\n",
       "    <tr>\n",
       "      <th>min</th>\n",
       "      <td>1.000000</td>\n",
       "    </tr>\n",
       "    <tr>\n",
       "      <th>25%</th>\n",
       "      <td>2.000000</td>\n",
       "    </tr>\n",
       "    <tr>\n",
       "      <th>50%</th>\n",
       "      <td>4.000000</td>\n",
       "    </tr>\n",
       "    <tr>\n",
       "      <th>75%</th>\n",
       "      <td>5.500000</td>\n",
       "    </tr>\n",
       "    <tr>\n",
       "      <th>max</th>\n",
       "      <td>10.000000</td>\n",
       "    </tr>\n",
       "  </tbody>\n",
       "</table>\n",
       "</div>"
      ],
      "text/plain": [
       "          values\n",
       "count  15.000000\n",
       "mean    4.200000\n",
       "std     2.651145\n",
       "min     1.000000\n",
       "25%     2.000000\n",
       "50%     4.000000\n",
       "75%     5.500000\n",
       "max    10.000000"
      ]
     },
     "execution_count": 163,
     "metadata": {},
     "output_type": "execute_result"
    }
   ],
   "source": [
    "\n",
    "z.describe()"
   ]
  },
  {
   "cell_type": "code",
   "execution_count": 164,
   "id": "b9973ce3",
   "metadata": {},
   "outputs": [
    {
     "data": {
      "text/plain": [
       "4.0"
      ]
     },
     "execution_count": 164,
     "metadata": {},
     "output_type": "execute_result"
    }
   ],
   "source": [
    "#median\n",
    "X=[1,2,3,1,2,3,4,5,2,6,7,5,4,8,10]\n",
    "\n",
    "#using numpy\n",
    "np.median(X)\n",
    "     "
   ]
  },
  {
   "cell_type": "code",
   "execution_count": 165,
   "id": "0f09473a",
   "metadata": {},
   "outputs": [
    {
     "name": "stdout",
     "output_type": "stream",
     "text": [
      "median :  4.0\n"
     ]
    }
   ],
   "source": [
    "\n",
    "print(\"median : \", np.median(X))"
   ]
  },
  {
   "cell_type": "code",
   "execution_count": 166,
   "id": "0caf7a76",
   "metadata": {},
   "outputs": [
    {
     "data": {
      "text/plain": [
       "values    4.0\n",
       "dtype: float64"
      ]
     },
     "execution_count": 166,
     "metadata": {},
     "output_type": "execute_result"
    }
   ],
   "source": [
    "#using pandas\n",
    "z.median()"
   ]
  },
  {
   "cell_type": "code",
   "execution_count": 167,
   "id": "7fb6cc4d",
   "metadata": {},
   "outputs": [
    {
     "data": {
      "text/html": [
       "<div>\n",
       "<style scoped>\n",
       "    .dataframe tbody tr th:only-of-type {\n",
       "        vertical-align: middle;\n",
       "    }\n",
       "\n",
       "    .dataframe tbody tr th {\n",
       "        vertical-align: top;\n",
       "    }\n",
       "\n",
       "    .dataframe thead th {\n",
       "        text-align: right;\n",
       "    }\n",
       "</style>\n",
       "<table border=\"1\" class=\"dataframe\">\n",
       "  <thead>\n",
       "    <tr style=\"text-align: right;\">\n",
       "      <th></th>\n",
       "      <th>values</th>\n",
       "    </tr>\n",
       "  </thead>\n",
       "  <tbody>\n",
       "    <tr>\n",
       "      <th>count</th>\n",
       "      <td>15.000000</td>\n",
       "    </tr>\n",
       "    <tr>\n",
       "      <th>mean</th>\n",
       "      <td>4.200000</td>\n",
       "    </tr>\n",
       "    <tr>\n",
       "      <th>std</th>\n",
       "      <td>2.651145</td>\n",
       "    </tr>\n",
       "    <tr>\n",
       "      <th>min</th>\n",
       "      <td>1.000000</td>\n",
       "    </tr>\n",
       "    <tr>\n",
       "      <th>25%</th>\n",
       "      <td>2.000000</td>\n",
       "    </tr>\n",
       "    <tr>\n",
       "      <th>50%</th>\n",
       "      <td>4.000000</td>\n",
       "    </tr>\n",
       "    <tr>\n",
       "      <th>75%</th>\n",
       "      <td>5.500000</td>\n",
       "    </tr>\n",
       "    <tr>\n",
       "      <th>max</th>\n",
       "      <td>10.000000</td>\n",
       "    </tr>\n",
       "  </tbody>\n",
       "</table>\n",
       "</div>"
      ],
      "text/plain": [
       "          values\n",
       "count  15.000000\n",
       "mean    4.200000\n",
       "std     2.651145\n",
       "min     1.000000\n",
       "25%     2.000000\n",
       "50%     4.000000\n",
       "75%     5.500000\n",
       "max    10.000000"
      ]
     },
     "execution_count": 167,
     "metadata": {},
     "output_type": "execute_result"
    }
   ],
   "source": [
    "\n",
    "z.describe()"
   ]
  },
  {
   "cell_type": "code",
   "execution_count": 168,
   "id": "73cde143",
   "metadata": {},
   "outputs": [],
   "source": [
    "\n",
    "#mode\n",
    "#numpy does not has an attribute mode"
   ]
  },
  {
   "cell_type": "code",
   "execution_count": 169,
   "id": "cdaf60b8",
   "metadata": {},
   "outputs": [
    {
     "data": {
      "text/html": [
       "<div>\n",
       "<style scoped>\n",
       "    .dataframe tbody tr th:only-of-type {\n",
       "        vertical-align: middle;\n",
       "    }\n",
       "\n",
       "    .dataframe tbody tr th {\n",
       "        vertical-align: top;\n",
       "    }\n",
       "\n",
       "    .dataframe thead th {\n",
       "        text-align: right;\n",
       "    }\n",
       "</style>\n",
       "<table border=\"1\" class=\"dataframe\">\n",
       "  <thead>\n",
       "    <tr style=\"text-align: right;\">\n",
       "      <th></th>\n",
       "      <th>values</th>\n",
       "    </tr>\n",
       "  </thead>\n",
       "  <tbody>\n",
       "    <tr>\n",
       "      <th>0</th>\n",
       "      <td>2</td>\n",
       "    </tr>\n",
       "  </tbody>\n",
       "</table>\n",
       "</div>"
      ],
      "text/plain": [
       "   values\n",
       "0       2"
      ]
     },
     "execution_count": 169,
     "metadata": {},
     "output_type": "execute_result"
    }
   ],
   "source": [
    "\n",
    "#using pandas\n",
    "z.mode()   "
   ]
  },
  {
   "cell_type": "markdown",
   "id": "32f5f563",
   "metadata": {},
   "source": [
    "# Measure of Dispersion"
   ]
  },
  {
   "cell_type": "code",
   "execution_count": 170,
   "id": "9b826c6b",
   "metadata": {},
   "outputs": [
    {
     "data": {
      "text/plain": [
       "6.5600000000000005"
      ]
     },
     "execution_count": 170,
     "metadata": {},
     "output_type": "execute_result"
    }
   ],
   "source": [
    "#variance\n",
    "X=[1,2,3,1,2,3,4,5,2,6,7,5,4,8,10]\n",
    "\n",
    "#using numpy\n",
    "np.var(X)"
   ]
  },
  {
   "cell_type": "code",
   "execution_count": 171,
   "id": "81d3db02",
   "metadata": {},
   "outputs": [
    {
     "name": "stdout",
     "output_type": "stream",
     "text": [
      "Variance :  6.5600000000000005\n"
     ]
    }
   ],
   "source": [
    "\n",
    "print(\"Variance : \", np.var(X))"
   ]
  },
  {
   "cell_type": "code",
   "execution_count": 172,
   "id": "5daea8ee",
   "metadata": {},
   "outputs": [
    {
     "data": {
      "text/plain": [
       "values    7.028571\n",
       "dtype: float64"
      ]
     },
     "execution_count": 172,
     "metadata": {},
     "output_type": "execute_result"
    }
   ],
   "source": [
    "#using pandas\n",
    "z.var()   "
   ]
  },
  {
   "cell_type": "code",
   "execution_count": 173,
   "id": "e1c6638f",
   "metadata": {},
   "outputs": [
    {
     "data": {
      "text/plain": [
       "2.5612496949731396"
      ]
     },
     "execution_count": 173,
     "metadata": {},
     "output_type": "execute_result"
    }
   ],
   "source": [
    "#standard deviation\n",
    "X=[1,2,3,1,2,3,4,5,2,6,7,5,4,8,10]\n",
    "\n",
    "#using numpy\n",
    "np.std(X)"
   ]
  },
  {
   "cell_type": "code",
   "execution_count": 174,
   "id": "3a18623a",
   "metadata": {},
   "outputs": [
    {
     "name": "stdout",
     "output_type": "stream",
     "text": [
      "Variance :  2.5612496949731396\n"
     ]
    }
   ],
   "source": [
    "\n",
    "print(\"Variance : \", np.std(X))"
   ]
  },
  {
   "cell_type": "code",
   "execution_count": 175,
   "id": "7d30855a",
   "metadata": {},
   "outputs": [
    {
     "data": {
      "text/plain": [
       "values    2.651145\n",
       "dtype: float64"
      ]
     },
     "execution_count": 175,
     "metadata": {},
     "output_type": "execute_result"
    }
   ],
   "source": [
    "#using pandas\n",
    "z.std()          \n",
    "     "
   ]
  },
  {
   "cell_type": "markdown",
   "id": "9cf5d85c",
   "metadata": {},
   "source": [
    "# 5 number Summary\n",
    "\n",
    "Minimum\n",
    "\n",
    "1st quartile -Q1\n",
    "\n",
    "2nd quartile -Q2(Median)\n",
    "\n",
    "3rd quartile -Q3\n",
    "\n",
    "Maximum"
   ]
  },
  {
   "cell_type": "code",
   "execution_count": 176,
   "id": "7d8064b5",
   "metadata": {},
   "outputs": [
    {
     "data": {
      "text/plain": [
       "1"
      ]
     },
     "execution_count": 176,
     "metadata": {},
     "output_type": "execute_result"
    }
   ],
   "source": [
    "#Minimum\n",
    "X=[1,2,3,1,2,3,4,5,2,6,7,5,4,8,10]\n",
    "\n",
    "#using numpy\n",
    "np.min(X)"
   ]
  },
  {
   "cell_type": "code",
   "execution_count": 177,
   "id": "11cdcecd",
   "metadata": {},
   "outputs": [
    {
     "name": "stdout",
     "output_type": "stream",
     "text": [
      "Minimum :  1\n"
     ]
    }
   ],
   "source": [
    "\n",
    "\n",
    "print(\"Minimum : \", np.min(X))"
   ]
  },
  {
   "cell_type": "code",
   "execution_count": 178,
   "id": "2b099eee",
   "metadata": {},
   "outputs": [
    {
     "data": {
      "text/plain": [
       "values    1\n",
       "dtype: int64"
      ]
     },
     "execution_count": 178,
     "metadata": {},
     "output_type": "execute_result"
    }
   ],
   "source": [
    "#using pandas\n",
    "z.min()          \n",
    "     "
   ]
  },
  {
   "cell_type": "code",
   "execution_count": 179,
   "id": "96949fe9",
   "metadata": {},
   "outputs": [
    {
     "data": {
      "text/plain": [
       "array([2. , 4. , 5.5])"
      ]
     },
     "execution_count": 179,
     "metadata": {},
     "output_type": "execute_result"
    }
   ],
   "source": [
    "\n",
    "#quartiles\n",
    "X=[1,2,3,1,2,3,4,5,2,6,7,5,4,8,10]\n",
    "\n",
    "#using numpy\n",
    "np.quantile(X,[0.25,0.50,0.75])"
   ]
  },
  {
   "cell_type": "code",
   "execution_count": 180,
   "id": "d62366f6",
   "metadata": {},
   "outputs": [
    {
     "name": "stdout",
     "output_type": "stream",
     "text": [
      "Q1 :  2.0 Q2 :  4.0 Q3 :  5.5\n"
     ]
    }
   ],
   "source": [
    "print(\"Q1 : \", np.quantile(X,0.25),\n",
    "      \"Q2 : \", np.quantile(X,0.50),\n",
    "      \"Q3 : \", np.quantile(X,0.75))"
   ]
  },
  {
   "cell_type": "code",
   "execution_count": 181,
   "id": "ab97a0cd",
   "metadata": {},
   "outputs": [
    {
     "data": {
      "text/html": [
       "<div>\n",
       "<style scoped>\n",
       "    .dataframe tbody tr th:only-of-type {\n",
       "        vertical-align: middle;\n",
       "    }\n",
       "\n",
       "    .dataframe tbody tr th {\n",
       "        vertical-align: top;\n",
       "    }\n",
       "\n",
       "    .dataframe thead th {\n",
       "        text-align: right;\n",
       "    }\n",
       "</style>\n",
       "<table border=\"1\" class=\"dataframe\">\n",
       "  <thead>\n",
       "    <tr style=\"text-align: right;\">\n",
       "      <th></th>\n",
       "      <th>values</th>\n",
       "    </tr>\n",
       "  </thead>\n",
       "  <tbody>\n",
       "    <tr>\n",
       "      <th>0.25</th>\n",
       "      <td>2.0</td>\n",
       "    </tr>\n",
       "    <tr>\n",
       "      <th>0.50</th>\n",
       "      <td>4.0</td>\n",
       "    </tr>\n",
       "    <tr>\n",
       "      <th>0.75</th>\n",
       "      <td>5.5</td>\n",
       "    </tr>\n",
       "  </tbody>\n",
       "</table>\n",
       "</div>"
      ],
      "text/plain": [
       "      values\n",
       "0.25     2.0\n",
       "0.50     4.0\n",
       "0.75     5.5"
      ]
     },
     "execution_count": 181,
     "metadata": {},
     "output_type": "execute_result"
    }
   ],
   "source": [
    "\n",
    "#using pandas\n",
    "z.quantile([0.25,0.50,0.75]) "
   ]
  },
  {
   "cell_type": "code",
   "execution_count": 182,
   "id": "2508f2fa",
   "metadata": {},
   "outputs": [
    {
     "data": {
      "text/html": [
       "<div>\n",
       "<style scoped>\n",
       "    .dataframe tbody tr th:only-of-type {\n",
       "        vertical-align: middle;\n",
       "    }\n",
       "\n",
       "    .dataframe tbody tr th {\n",
       "        vertical-align: top;\n",
       "    }\n",
       "\n",
       "    .dataframe thead th {\n",
       "        text-align: right;\n",
       "    }\n",
       "</style>\n",
       "<table border=\"1\" class=\"dataframe\">\n",
       "  <thead>\n",
       "    <tr style=\"text-align: right;\">\n",
       "      <th></th>\n",
       "      <th>values</th>\n",
       "    </tr>\n",
       "  </thead>\n",
       "  <tbody>\n",
       "    <tr>\n",
       "      <th>count</th>\n",
       "      <td>15.000000</td>\n",
       "    </tr>\n",
       "    <tr>\n",
       "      <th>mean</th>\n",
       "      <td>4.200000</td>\n",
       "    </tr>\n",
       "    <tr>\n",
       "      <th>std</th>\n",
       "      <td>2.651145</td>\n",
       "    </tr>\n",
       "    <tr>\n",
       "      <th>min</th>\n",
       "      <td>1.000000</td>\n",
       "    </tr>\n",
       "    <tr>\n",
       "      <th>25%</th>\n",
       "      <td>2.000000</td>\n",
       "    </tr>\n",
       "    <tr>\n",
       "      <th>50%</th>\n",
       "      <td>4.000000</td>\n",
       "    </tr>\n",
       "    <tr>\n",
       "      <th>75%</th>\n",
       "      <td>5.500000</td>\n",
       "    </tr>\n",
       "    <tr>\n",
       "      <th>max</th>\n",
       "      <td>10.000000</td>\n",
       "    </tr>\n",
       "  </tbody>\n",
       "</table>\n",
       "</div>"
      ],
      "text/plain": [
       "          values\n",
       "count  15.000000\n",
       "mean    4.200000\n",
       "std     2.651145\n",
       "min     1.000000\n",
       "25%     2.000000\n",
       "50%     4.000000\n",
       "75%     5.500000\n",
       "max    10.000000"
      ]
     },
     "execution_count": 182,
     "metadata": {},
     "output_type": "execute_result"
    }
   ],
   "source": [
    "\n",
    "z.describe()"
   ]
  },
  {
   "cell_type": "code",
   "execution_count": 183,
   "id": "e9eb91cb",
   "metadata": {},
   "outputs": [
    {
     "data": {
      "text/plain": [
       "10"
      ]
     },
     "execution_count": 183,
     "metadata": {},
     "output_type": "execute_result"
    }
   ],
   "source": [
    "#Maximum\n",
    "X=[1,2,3,1,2,3,4,5,2,6,7,5,4,8,10]\n",
    "\n",
    "#using numpy\n",
    "np.max(X)\n",
    "     "
   ]
  },
  {
   "cell_type": "code",
   "execution_count": 184,
   "id": "e957d79d",
   "metadata": {},
   "outputs": [
    {
     "name": "stdout",
     "output_type": "stream",
     "text": [
      "Maximum :  10\n"
     ]
    }
   ],
   "source": [
    "\n",
    "print(\"Maximum : \", np.max(X))"
   ]
  },
  {
   "cell_type": "code",
   "execution_count": 185,
   "id": "3577e2b2",
   "metadata": {},
   "outputs": [
    {
     "data": {
      "text/plain": [
       "values    10\n",
       "dtype: int64"
      ]
     },
     "execution_count": 185,
     "metadata": {},
     "output_type": "execute_result"
    }
   ],
   "source": [
    "\n",
    "#using pandas\n",
    "z.max()  "
   ]
  },
  {
   "cell_type": "markdown",
   "id": "fb53aac8",
   "metadata": {},
   "source": [
    "# Range"
   ]
  },
  {
   "cell_type": "code",
   "execution_count": 186,
   "id": "352a1f92",
   "metadata": {},
   "outputs": [
    {
     "data": {
      "text/plain": [
       "9"
      ]
     },
     "execution_count": 186,
     "metadata": {},
     "output_type": "execute_result"
    }
   ],
   "source": [
    "#Range\n",
    "#using numpy\n",
    "\n",
    "Ran=np.max(X) - np.min(X)\n",
    "Ran"
   ]
  },
  {
   "cell_type": "code",
   "execution_count": 187,
   "id": "b34ce6a5",
   "metadata": {},
   "outputs": [
    {
     "data": {
      "text/plain": [
       "values    9\n",
       "dtype: int64"
      ]
     },
     "execution_count": 187,
     "metadata": {},
     "output_type": "execute_result"
    }
   ],
   "source": [
    "#using pandas\n",
    "Range = z.max()-z.min()\n",
    "Range"
   ]
  },
  {
   "cell_type": "markdown",
   "id": "c303b160",
   "metadata": {},
   "source": [
    "# IQR"
   ]
  },
  {
   "cell_type": "code",
   "execution_count": 188,
   "id": "2d43028c",
   "metadata": {},
   "outputs": [
    {
     "data": {
      "text/plain": [
       "3.5"
      ]
     },
     "execution_count": 188,
     "metadata": {},
     "output_type": "execute_result"
    }
   ],
   "source": [
    "\n",
    "#IQR\n",
    "#using numpy\n",
    "IQR = np.quantile(X,0.75)-np.quantile(X,0.25)\n",
    "IQR"
   ]
  },
  {
   "cell_type": "code",
   "execution_count": 189,
   "id": "74aca605",
   "metadata": {},
   "outputs": [
    {
     "data": {
      "text/plain": [
       "values    3.5\n",
       "dtype: float64"
      ]
     },
     "execution_count": 189,
     "metadata": {},
     "output_type": "execute_result"
    }
   ],
   "source": [
    "\n",
    "#using pandas\n",
    "iqr=z.quantile(0.75)-z.quantile(0.25)\n",
    "iqr\n",
    "     "
   ]
  },
  {
   "cell_type": "markdown",
   "id": "1b3e7fc0",
   "metadata": {},
   "source": [
    "# QD"
   ]
  },
  {
   "cell_type": "code",
   "execution_count": 190,
   "id": "1c5d3081",
   "metadata": {},
   "outputs": [
    {
     "data": {
      "text/plain": [
       "1.75"
      ]
     },
     "execution_count": 190,
     "metadata": {},
     "output_type": "execute_result"
    }
   ],
   "source": [
    "#QD\n",
    "#using numpy\n",
    "QD = IQR/2\n",
    "QD"
   ]
  },
  {
   "cell_type": "code",
   "execution_count": 191,
   "id": "c174ed1e",
   "metadata": {},
   "outputs": [
    {
     "data": {
      "text/plain": [
       "values    1.75\n",
       "dtype: float64"
      ]
     },
     "execution_count": 191,
     "metadata": {},
     "output_type": "execute_result"
    }
   ],
   "source": [
    "\n",
    "#QD\n",
    "#using pandas\n",
    "qd =iqr/2\n",
    "qd"
   ]
  }
 ],
 "metadata": {
  "kernelspec": {
   "display_name": "Python 3 (ipykernel)",
   "language": "python",
   "name": "python3"
  },
  "language_info": {
   "codemirror_mode": {
    "name": "ipython",
    "version": 3
   },
   "file_extension": ".py",
   "mimetype": "text/x-python",
   "name": "python",
   "nbconvert_exporter": "python",
   "pygments_lexer": "ipython3",
   "version": "3.9.12"
  }
 },
 "nbformat": 4,
 "nbformat_minor": 5
}
