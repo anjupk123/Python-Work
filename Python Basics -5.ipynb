{
 "cells": [
  {
   "cell_type": "markdown",
   "id": "1c9f5f9b",
   "metadata": {},
   "source": [
    "### Tuples"
   ]
  },
  {
   "cell_type": "raw",
   "id": "fbbd14de",
   "metadata": {},
   "source": [
    "Collection which is unchangeable or immutable\n",
    "\n",
    "To declare a tuple we use the round brackets."
   ]
  },
  {
   "cell_type": "code",
   "execution_count": 2,
   "id": "a21e422d",
   "metadata": {},
   "outputs": [
    {
     "data": {
      "text/plain": [
       "3"
      ]
     },
     "execution_count": 2,
     "metadata": {},
     "output_type": "execute_result"
    }
   ],
   "source": [
    "tuple=(10,20,10,30,20,40,30,50,30)\n",
    "\n",
    "#To count the number of elements\n",
    "\n",
    "tuple.count(10)\n",
    "tuple.count(30)\n",
    "\n",
    "# To find the index"
   ]
  },
  {
   "cell_type": "code",
   "execution_count": 3,
   "id": "e022ec21",
   "metadata": {},
   "outputs": [
    {
     "data": {
      "text/plain": [
       "7"
      ]
     },
     "execution_count": 3,
     "metadata": {},
     "output_type": "execute_result"
    }
   ],
   "source": [
    "# To find the index\n",
    "tuple.index(50)"
   ]
  },
  {
   "cell_type": "code",
   "execution_count": 4,
   "id": "a5292920",
   "metadata": {},
   "outputs": [
    {
     "data": {
      "text/plain": [
       "3"
      ]
     },
     "execution_count": 4,
     "metadata": {},
     "output_type": "execute_result"
    }
   ],
   "source": [
    "# To find the index\n",
    "tuple.index(30)"
   ]
  },
  {
   "cell_type": "code",
   "execution_count": 5,
   "id": "866298ef",
   "metadata": {},
   "outputs": [
    {
     "data": {
      "text/plain": [
       "5"
      ]
     },
     "execution_count": 5,
     "metadata": {},
     "output_type": "execute_result"
    }
   ],
   "source": [
    "# To find the index\n",
    "tuple.index(40)"
   ]
  }
 ],
 "metadata": {
  "kernelspec": {
   "display_name": "Python 3 (ipykernel)",
   "language": "python",
   "name": "python3"
  },
  "language_info": {
   "codemirror_mode": {
    "name": "ipython",
    "version": 3
   },
   "file_extension": ".py",
   "mimetype": "text/x-python",
   "name": "python",
   "nbconvert_exporter": "python",
   "pygments_lexer": "ipython3",
   "version": "3.9.12"
  }
 },
 "nbformat": 4,
 "nbformat_minor": 5
}
