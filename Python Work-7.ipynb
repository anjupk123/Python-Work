{
 "cells": [
  {
   "cell_type": "markdown",
   "id": "8b2816b6",
   "metadata": {},
   "source": [
    "# Dictionary"
   ]
  },
  {
   "cell_type": "code",
   "execution_count": 26,
   "id": "1505b1e4",
   "metadata": {},
   "outputs": [],
   "source": [
    "# We created a dictionary now,with key: name,email,phone number\n",
    "# and values Anju,anjupk@gmail.com,7675656767"
   ]
  },
  {
   "cell_type": "code",
   "execution_count": 27,
   "id": "186a77ea",
   "metadata": {},
   "outputs": [
    {
     "data": {
      "text/plain": [
       "{'Name': 'Anju', 'Email': 'anjupk@gmail.com', 'Phone number': '7675656767'}"
      ]
     },
     "execution_count": 27,
     "metadata": {},
     "output_type": "execute_result"
    }
   ],
   "source": [
    "dict1={\"Name\":\"Anju\",\n",
    "       \"Email\":\"anjupk@gmail.com\",\n",
    "      \"Phone number\":\"7675656767\"\n",
    "       }\n",
    "      \n",
    "dict1"
   ]
  },
  {
   "cell_type": "code",
   "execution_count": 28,
   "id": "bd1ad30f",
   "metadata": {},
   "outputs": [
    {
     "data": {
      "text/plain": [
       "'7675656767'"
      ]
     },
     "execution_count": 28,
     "metadata": {},
     "output_type": "execute_result"
    }
   ],
   "source": [
    "#Now to seperately calleach key from the dictionary we can use the code\n",
    "\n",
    "a=dict1['Phone number']\n",
    "a"
   ]
  },
  {
   "cell_type": "code",
   "execution_count": 29,
   "id": "c6ef3cf9",
   "metadata": {},
   "outputs": [
    {
     "name": "stdout",
     "output_type": "stream",
     "text": [
      "{'Name': 'Catherine', 'Email': 'anjupk@gmail.com', 'Phone number': '7675656767'}\n"
     ]
    }
   ],
   "source": [
    "# Change value in the dictionary\n",
    "\n",
    "dict1[\"Name\"]=\"Catherine\"\n",
    "\n",
    "print(dict1)"
   ]
  },
  {
   "cell_type": "code",
   "execution_count": 30,
   "id": "96de15c5",
   "metadata": {},
   "outputs": [
    {
     "name": "stdout",
     "output_type": "stream",
     "text": [
      "{'Name': 'Catherine', 'Email': 'kathieee2gmail.com', 'Phone number': '7675656767'}\n"
     ]
    }
   ],
   "source": [
    "dict1[\"Email\"]=\"kathieee2gmail.com\"\n",
    "\n",
    "print(dict1)"
   ]
  },
  {
   "cell_type": "code",
   "execution_count": 31,
   "id": "9ae1d5fc",
   "metadata": {},
   "outputs": [],
   "source": [
    "# To get Key words headings"
   ]
  },
  {
   "cell_type": "code",
   "execution_count": 33,
   "id": "a8090554",
   "metadata": {},
   "outputs": [
    {
     "name": "stdout",
     "output_type": "stream",
     "text": [
      "Name\n",
      "Email\n",
      "Phone number\n"
     ]
    }
   ],
   "source": [
    " for x in dict1:\n",
    "        print(x)"
   ]
  },
  {
   "cell_type": "code",
   "execution_count": 34,
   "id": "09d02c47",
   "metadata": {},
   "outputs": [
    {
     "name": "stdout",
     "output_type": "stream",
     "text": [
      "Catherine\n",
      "kathieee2gmail.com\n",
      "7675656767\n"
     ]
    }
   ],
   "source": [
    "# To get value\n",
    "for x in dict1:\n",
    "    print(dict1[x])"
   ]
  },
  {
   "cell_type": "code",
   "execution_count": 35,
   "id": "b1f1e333",
   "metadata": {},
   "outputs": [
    {
     "name": "stdout",
     "output_type": "stream",
     "text": [
      "Name Catherine\n",
      "Email kathieee2gmail.com\n",
      "Phone number 7675656767\n"
     ]
    }
   ],
   "source": [
    "# To get both key and values\n",
    "for x,y in dict1.items():\n",
    "    print(x,y)"
   ]
  },
  {
   "cell_type": "code",
   "execution_count": 36,
   "id": "de44fafe",
   "metadata": {},
   "outputs": [
    {
     "name": "stdout",
     "output_type": "stream",
     "text": [
      "3\n"
     ]
    }
   ],
   "source": [
    "# To get the length of dictionary\n",
    "print(len(dict1))"
   ]
  },
  {
   "cell_type": "code",
   "execution_count": 37,
   "id": "d1cdd701",
   "metadata": {},
   "outputs": [
    {
     "name": "stdout",
     "output_type": "stream",
     "text": [
      "{'Name': 'Catherine', 'Email': 'kathieee2gmail.com', 'Phone number': '7675656767', 'Age': 20}\n"
     ]
    }
   ],
   "source": [
    "# To add some more key and values into dictionary\n",
    "\n",
    "dict1[\"Age\"]=20\n",
    "\n",
    "print(dict1)"
   ]
  },
  {
   "cell_type": "code",
   "execution_count": 38,
   "id": "9c375e17",
   "metadata": {},
   "outputs": [
    {
     "name": "stdout",
     "output_type": "stream",
     "text": [
      "4\n"
     ]
    }
   ],
   "source": [
    "print(len(dict1))"
   ]
  },
  {
   "cell_type": "code",
   "execution_count": 40,
   "id": "1803c9f2",
   "metadata": {},
   "outputs": [
    {
     "data": {
      "text/plain": [
       "{'Name': 'Catherine',\n",
       " 'Email': 'kathieee2gmail.com',\n",
       " 'Phone number': '7675656767',\n",
       " 'Age': 20,\n",
       " 'Place': 'Angamaly'}"
      ]
     },
     "execution_count": 40,
     "metadata": {},
     "output_type": "execute_result"
    }
   ],
   "source": [
    "dict1[\"Place\"]=\"Angamaly\"\n",
    "dict1"
   ]
  },
  {
   "cell_type": "code",
   "execution_count": 41,
   "id": "12821dca",
   "metadata": {},
   "outputs": [
    {
     "name": "stdout",
     "output_type": "stream",
     "text": [
      "5\n"
     ]
    }
   ],
   "source": [
    "print(len(dict1))"
   ]
  },
  {
   "cell_type": "code",
   "execution_count": 42,
   "id": "1b57b660",
   "metadata": {},
   "outputs": [
    {
     "data": {
      "text/plain": [
       "{'Name': 'Catherine',\n",
       " 'Phone number': '7675656767',\n",
       " 'Age': 20,\n",
       " 'Place': 'Angamaly'}"
      ]
     },
     "execution_count": 42,
     "metadata": {},
     "output_type": "execute_result"
    }
   ],
   "source": [
    "# To remove value\n",
    "\n",
    "dict1.pop(\"Email\")\n",
    "dict1"
   ]
  },
  {
   "cell_type": "code",
   "execution_count": 43,
   "id": "c74f28c9",
   "metadata": {},
   "outputs": [
    {
     "data": {
      "text/plain": [
       "{'Name': 'Catherine', 'Phone number': '7675656767', 'Age': 20}"
      ]
     },
     "execution_count": 43,
     "metadata": {},
     "output_type": "execute_result"
    }
   ],
   "source": [
    "# To delet from dictionary\n",
    "\n",
    "del dict1[\"Place\"]\n",
    "dict1"
   ]
  },
  {
   "cell_type": "code",
   "execution_count": 44,
   "id": "7b8d1a14",
   "metadata": {},
   "outputs": [
    {
     "data": {
      "text/plain": [
       "{}"
      ]
     },
     "execution_count": 44,
     "metadata": {},
     "output_type": "execute_result"
    }
   ],
   "source": [
    "# To clear all the values form dictionary\n",
    "\n",
    "dict1.clear()\n",
    "\n",
    "dict1"
   ]
  }
 ],
 "metadata": {
  "kernelspec": {
   "display_name": "Python 3 (ipykernel)",
   "language": "python",
   "name": "python3"
  },
  "language_info": {
   "codemirror_mode": {
    "name": "ipython",
    "version": 3
   },
   "file_extension": ".py",
   "mimetype": "text/x-python",
   "name": "python",
   "nbconvert_exporter": "python",
   "pygments_lexer": "ipython3",
   "version": "3.9.12"
  }
 },
 "nbformat": 4,
 "nbformat_minor": 5
}
