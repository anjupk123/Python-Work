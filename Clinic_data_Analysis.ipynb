{
 "cells": [
  {
   "cell_type": "code",
   "execution_count": 19,
   "id": "b0f97ef8",
   "metadata": {},
   "outputs": [],
   "source": [
    "import pandas as pd"
   ]
  },
  {
   "cell_type": "code",
   "execution_count": 24,
   "id": "1c8a9f83",
   "metadata": {},
   "outputs": [
    {
     "name": "stderr",
     "output_type": "stream",
     "text": [
      "C:\\Users\\user\\anaconda3\\lib\\site-packages\\openpyxl\\worksheet\\_reader.py:211: UserWarning: Cell B14 is marked as a date but the serial value 16032022.0 is outside the limits for dates. The cell will be treated as an error.\n",
      "  warn(msg)\n"
     ]
    },
    {
     "data": {
      "text/html": [
       "<div>\n",
       "<style scoped>\n",
       "    .dataframe tbody tr th:only-of-type {\n",
       "        vertical-align: middle;\n",
       "    }\n",
       "\n",
       "    .dataframe tbody tr th {\n",
       "        vertical-align: top;\n",
       "    }\n",
       "\n",
       "    .dataframe thead th {\n",
       "        text-align: right;\n",
       "    }\n",
       "</style>\n",
       "<table border=\"1\" class=\"dataframe\">\n",
       "  <thead>\n",
       "    <tr style=\"text-align: right;\">\n",
       "      <th></th>\n",
       "      <th>Duration</th>\n",
       "      <th>Date</th>\n",
       "      <th>Gender</th>\n",
       "      <th>Height</th>\n",
       "      <th>Weight</th>\n",
       "      <th>Pulse</th>\n",
       "      <th>Maxpulse</th>\n",
       "      <th>Calories</th>\n",
       "      <th>Name Doctor</th>\n",
       "    </tr>\n",
       "  </thead>\n",
       "  <tbody>\n",
       "    <tr>\n",
       "      <th>0</th>\n",
       "      <td>60.0</td>\n",
       "      <td>2022-03-16</td>\n",
       "      <td>Male</td>\n",
       "      <td>174.0</td>\n",
       "      <td>96.0</td>\n",
       "      <td>104.0</td>\n",
       "      <td>132.0</td>\n",
       "      <td>379.3</td>\n",
       "      <td>Christy, Catherine</td>\n",
       "    </tr>\n",
       "    <tr>\n",
       "      <th>1</th>\n",
       "      <td>60.0</td>\n",
       "      <td>2022-03-16</td>\n",
       "      <td>Female</td>\n",
       "      <td>189.0</td>\n",
       "      <td>87.0</td>\n",
       "      <td>98.0</td>\n",
       "      <td>123.0</td>\n",
       "      <td>275.0</td>\n",
       "      <td>Mukund, Catherine</td>\n",
       "    </tr>\n",
       "    <tr>\n",
       "      <th>2</th>\n",
       "      <td>60.0</td>\n",
       "      <td>2022-03-16</td>\n",
       "      <td>Female</td>\n",
       "      <td>185.0</td>\n",
       "      <td>110.0</td>\n",
       "      <td>98.0</td>\n",
       "      <td>120.0</td>\n",
       "      <td>215.2</td>\n",
       "      <td>Aswathy, Catherine</td>\n",
       "    </tr>\n",
       "    <tr>\n",
       "      <th>3</th>\n",
       "      <td>500.0</td>\n",
       "      <td>2022-03-16</td>\n",
       "      <td>Male</td>\n",
       "      <td>195.0</td>\n",
       "      <td>104.0</td>\n",
       "      <td>100.0</td>\n",
       "      <td>120.0</td>\n",
       "      <td>300.0</td>\n",
       "      <td>Phil, Catherine</td>\n",
       "    </tr>\n",
       "    <tr>\n",
       "      <th>4</th>\n",
       "      <td>60.0</td>\n",
       "      <td>2022-03-16</td>\n",
       "      <td>Male</td>\n",
       "      <td>149.0</td>\n",
       "      <td>61.0</td>\n",
       "      <td>90.0</td>\n",
       "      <td>112.0</td>\n",
       "      <td>NaN</td>\n",
       "      <td>Vince, Catherine</td>\n",
       "    </tr>\n",
       "    <tr>\n",
       "      <th>5</th>\n",
       "      <td>60.0</td>\n",
       "      <td>2022-03-16</td>\n",
       "      <td>Male</td>\n",
       "      <td>189.0</td>\n",
       "      <td>104.0</td>\n",
       "      <td>103.0</td>\n",
       "      <td>123.0</td>\n",
       "      <td>323.0</td>\n",
       "      <td>Akshaya, Jony</td>\n",
       "    </tr>\n",
       "    <tr>\n",
       "      <th>6</th>\n",
       "      <td>60.0</td>\n",
       "      <td>2022-03-16</td>\n",
       "      <td>Male</td>\n",
       "      <td>147.0</td>\n",
       "      <td>NaN</td>\n",
       "      <td>97.0</td>\n",
       "      <td>125.0</td>\n",
       "      <td>243.0</td>\n",
       "      <td>Ajay, Jony</td>\n",
       "    </tr>\n",
       "    <tr>\n",
       "      <th>7</th>\n",
       "      <td>60.0</td>\n",
       "      <td>2022-03-16</td>\n",
       "      <td>Male</td>\n",
       "      <td>NaN</td>\n",
       "      <td>101.0</td>\n",
       "      <td>108.0</td>\n",
       "      <td>131.0</td>\n",
       "      <td>364.2</td>\n",
       "      <td>Jay, Jony</td>\n",
       "    </tr>\n",
       "    <tr>\n",
       "      <th>8</th>\n",
       "      <td>45.0</td>\n",
       "      <td>2022-03-16</td>\n",
       "      <td>Female</td>\n",
       "      <td>174.0</td>\n",
       "      <td>90.0</td>\n",
       "      <td>100.0</td>\n",
       "      <td>119.0</td>\n",
       "      <td>282.0</td>\n",
       "      <td>Shyam, Catherine</td>\n",
       "    </tr>\n",
       "    <tr>\n",
       "      <th>9</th>\n",
       "      <td>50.0</td>\n",
       "      <td>2022-03-16</td>\n",
       "      <td>Male</td>\n",
       "      <td>169.0</td>\n",
       "      <td>NaN</td>\n",
       "      <td>130.0</td>\n",
       "      <td>101.0</td>\n",
       "      <td>300.0</td>\n",
       "      <td>Neha, Catherine</td>\n",
       "    </tr>\n",
       "    <tr>\n",
       "      <th>10</th>\n",
       "      <td>450.0</td>\n",
       "      <td>2022-03-16</td>\n",
       "      <td>Female</td>\n",
       "      <td>NaN</td>\n",
       "      <td>81.0</td>\n",
       "      <td>105.0</td>\n",
       "      <td>132.0</td>\n",
       "      <td>246.0</td>\n",
       "      <td>Mehru, Catherine</td>\n",
       "    </tr>\n",
       "    <tr>\n",
       "      <th>11</th>\n",
       "      <td>60.0</td>\n",
       "      <td>NaT</td>\n",
       "      <td>Female</td>\n",
       "      <td>159.0</td>\n",
       "      <td>80.0</td>\n",
       "      <td>102.0</td>\n",
       "      <td>126.0</td>\n",
       "      <td>334.5</td>\n",
       "      <td>Dipa, Catherine</td>\n",
       "    </tr>\n",
       "    <tr>\n",
       "      <th>12</th>\n",
       "      <td>450.0</td>\n",
       "      <td>2022-03-16</td>\n",
       "      <td>Male</td>\n",
       "      <td>192.0</td>\n",
       "      <td>91.0</td>\n",
       "      <td>100.0</td>\n",
       "      <td>120.0</td>\n",
       "      <td>250.0</td>\n",
       "      <td>Jim, Jony</td>\n",
       "    </tr>\n",
       "    <tr>\n",
       "      <th>13</th>\n",
       "      <td>45.0</td>\n",
       "      <td>2022-03-16</td>\n",
       "      <td>Male</td>\n",
       "      <td>155.0</td>\n",
       "      <td>51.0</td>\n",
       "      <td>92.0</td>\n",
       "      <td>118.0</td>\n",
       "      <td>241.0</td>\n",
       "      <td>Divya, Catherine</td>\n",
       "    </tr>\n",
       "    <tr>\n",
       "      <th>14</th>\n",
       "      <td>50.0</td>\n",
       "      <td>2022-03-16</td>\n",
       "      <td>Gender</td>\n",
       "      <td>191.0</td>\n",
       "      <td>79.0</td>\n",
       "      <td>103.0</td>\n",
       "      <td>132.0</td>\n",
       "      <td>NaN</td>\n",
       "      <td>Liya, Catherine</td>\n",
       "    </tr>\n",
       "    <tr>\n",
       "      <th>15</th>\n",
       "      <td>60.0</td>\n",
       "      <td>2022-03-16</td>\n",
       "      <td>Male</td>\n",
       "      <td>153.0</td>\n",
       "      <td>70.0</td>\n",
       "      <td>97.0</td>\n",
       "      <td>132.0</td>\n",
       "      <td>280.0</td>\n",
       "      <td>Jack, Jony</td>\n",
       "    </tr>\n",
       "  </tbody>\n",
       "</table>\n",
       "</div>"
      ],
      "text/plain": [
       "    Duration       Date  Gender  Height  Weight  Pulse  Maxpulse  Calories  \\\n",
       "0       60.0 2022-03-16    Male   174.0    96.0  104.0     132.0     379.3   \n",
       "1       60.0 2022-03-16  Female   189.0    87.0   98.0     123.0     275.0   \n",
       "2       60.0 2022-03-16  Female   185.0   110.0   98.0     120.0     215.2   \n",
       "3      500.0 2022-03-16    Male   195.0   104.0  100.0     120.0     300.0   \n",
       "4       60.0 2022-03-16    Male   149.0    61.0   90.0     112.0       NaN   \n",
       "5       60.0 2022-03-16    Male   189.0   104.0  103.0     123.0     323.0   \n",
       "6       60.0 2022-03-16    Male   147.0     NaN   97.0     125.0     243.0   \n",
       "7       60.0 2022-03-16    Male     NaN   101.0  108.0     131.0     364.2   \n",
       "8       45.0 2022-03-16  Female   174.0    90.0  100.0     119.0     282.0   \n",
       "9       50.0 2022-03-16    Male   169.0     NaN  130.0     101.0     300.0   \n",
       "10     450.0 2022-03-16  Female     NaN    81.0  105.0     132.0     246.0   \n",
       "11      60.0        NaT  Female   159.0    80.0  102.0     126.0     334.5   \n",
       "12     450.0 2022-03-16    Male   192.0    91.0  100.0     120.0     250.0   \n",
       "13      45.0 2022-03-16    Male   155.0    51.0   92.0     118.0     241.0   \n",
       "14      50.0 2022-03-16  Gender   191.0    79.0  103.0     132.0       NaN   \n",
       "15      60.0 2022-03-16    Male   153.0    70.0   97.0     132.0     280.0   \n",
       "\n",
       "           Name Doctor  \n",
       "0   Christy, Catherine  \n",
       "1    Mukund, Catherine  \n",
       "2   Aswathy, Catherine  \n",
       "3      Phil, Catherine  \n",
       "4     Vince, Catherine  \n",
       "5        Akshaya, Jony  \n",
       "6           Ajay, Jony  \n",
       "7            Jay, Jony  \n",
       "8     Shyam, Catherine  \n",
       "9      Neha, Catherine  \n",
       "10    Mehru, Catherine  \n",
       "11     Dipa, Catherine  \n",
       "12           Jim, Jony  \n",
       "13    Divya, Catherine  \n",
       "14     Liya, Catherine  \n",
       "15          Jack, Jony  "
      ]
     },
     "execution_count": 24,
     "metadata": {},
     "output_type": "execute_result"
    }
   ],
   "source": [
    "data=pd.read_excel('Clinical data analysis.xlsx',skiprows=1)\n",
    "data"
   ]
  },
  {
   "cell_type": "code",
   "execution_count": 25,
   "id": "518eae38",
   "metadata": {},
   "outputs": [
    {
     "data": {
      "text/plain": [
       "(16, 9)"
      ]
     },
     "execution_count": 25,
     "metadata": {},
     "output_type": "execute_result"
    }
   ],
   "source": [
    "data.shape"
   ]
  },
  {
   "cell_type": "code",
   "execution_count": 26,
   "id": "f3638784",
   "metadata": {},
   "outputs": [
    {
     "name": "stdout",
     "output_type": "stream",
     "text": [
      "<class 'pandas.core.frame.DataFrame'>\n",
      "RangeIndex: 16 entries, 0 to 15\n",
      "Data columns (total 9 columns):\n",
      " #   Column       Non-Null Count  Dtype         \n",
      "---  ------       --------------  -----         \n",
      " 0   Duration     16 non-null     float64       \n",
      " 1   Date         15 non-null     datetime64[ns]\n",
      " 2   Gender       16 non-null     object        \n",
      " 3   Height       14 non-null     float64       \n",
      " 4   Weight       14 non-null     float64       \n",
      " 5   Pulse        16 non-null     float64       \n",
      " 6   Maxpulse     16 non-null     float64       \n",
      " 7   Calories     14 non-null     float64       \n",
      " 8   Name Doctor  16 non-null     object        \n",
      "dtypes: datetime64[ns](1), float64(6), object(2)\n",
      "memory usage: 1.2+ KB\n"
     ]
    }
   ],
   "source": [
    "data.info()"
   ]
  },
  {
   "cell_type": "code",
   "execution_count": 27,
   "id": "c0e15586",
   "metadata": {},
   "outputs": [
    {
     "data": {
      "text/plain": [
       "Duration       0\n",
       "Date           1\n",
       "Gender         0\n",
       "Height         2\n",
       "Weight         2\n",
       "Pulse          0\n",
       "Maxpulse       0\n",
       "Calories       2\n",
       "Name Doctor    0\n",
       "dtype: int64"
      ]
     },
     "execution_count": 27,
     "metadata": {},
     "output_type": "execute_result"
    }
   ],
   "source": [
    "data.isna().sum()"
   ]
  },
  {
   "cell_type": "code",
   "execution_count": 28,
   "id": "047eaf4d",
   "metadata": {},
   "outputs": [
    {
     "data": {
      "text/html": [
       "<div>\n",
       "<style scoped>\n",
       "    .dataframe tbody tr th:only-of-type {\n",
       "        vertical-align: middle;\n",
       "    }\n",
       "\n",
       "    .dataframe tbody tr th {\n",
       "        vertical-align: top;\n",
       "    }\n",
       "\n",
       "    .dataframe thead th {\n",
       "        text-align: right;\n",
       "    }\n",
       "</style>\n",
       "<table border=\"1\" class=\"dataframe\">\n",
       "  <thead>\n",
       "    <tr style=\"text-align: right;\">\n",
       "      <th></th>\n",
       "      <th>Duration</th>\n",
       "      <th>Date</th>\n",
       "      <th>Gender</th>\n",
       "      <th>Height</th>\n",
       "      <th>Weight</th>\n",
       "      <th>Pulse</th>\n",
       "      <th>Maxpulse</th>\n",
       "      <th>Calories</th>\n",
       "      <th>Name Doctor</th>\n",
       "    </tr>\n",
       "  </thead>\n",
       "  <tbody>\n",
       "    <tr>\n",
       "      <th>0</th>\n",
       "      <td>60.0</td>\n",
       "      <td>2022-03-16</td>\n",
       "      <td>Male</td>\n",
       "      <td>174.0</td>\n",
       "      <td>96.0</td>\n",
       "      <td>104.0</td>\n",
       "      <td>132.0</td>\n",
       "      <td>379.3</td>\n",
       "      <td>Christy, Catherine</td>\n",
       "    </tr>\n",
       "    <tr>\n",
       "      <th>1</th>\n",
       "      <td>60.0</td>\n",
       "      <td>2022-03-16</td>\n",
       "      <td>Female</td>\n",
       "      <td>189.0</td>\n",
       "      <td>87.0</td>\n",
       "      <td>98.0</td>\n",
       "      <td>123.0</td>\n",
       "      <td>275.0</td>\n",
       "      <td>Mukund, Catherine</td>\n",
       "    </tr>\n",
       "    <tr>\n",
       "      <th>2</th>\n",
       "      <td>60.0</td>\n",
       "      <td>2022-03-16</td>\n",
       "      <td>Female</td>\n",
       "      <td>185.0</td>\n",
       "      <td>110.0</td>\n",
       "      <td>98.0</td>\n",
       "      <td>120.0</td>\n",
       "      <td>215.2</td>\n",
       "      <td>Aswathy, Catherine</td>\n",
       "    </tr>\n",
       "    <tr>\n",
       "      <th>3</th>\n",
       "      <td>500.0</td>\n",
       "      <td>2022-03-16</td>\n",
       "      <td>Male</td>\n",
       "      <td>195.0</td>\n",
       "      <td>104.0</td>\n",
       "      <td>100.0</td>\n",
       "      <td>120.0</td>\n",
       "      <td>300.0</td>\n",
       "      <td>Phil, Catherine</td>\n",
       "    </tr>\n",
       "    <tr>\n",
       "      <th>4</th>\n",
       "      <td>60.0</td>\n",
       "      <td>2022-03-16</td>\n",
       "      <td>Male</td>\n",
       "      <td>149.0</td>\n",
       "      <td>61.0</td>\n",
       "      <td>90.0</td>\n",
       "      <td>112.0</td>\n",
       "      <td>NaN</td>\n",
       "      <td>Vince, Catherine</td>\n",
       "    </tr>\n",
       "    <tr>\n",
       "      <th>5</th>\n",
       "      <td>60.0</td>\n",
       "      <td>2022-03-16</td>\n",
       "      <td>Male</td>\n",
       "      <td>189.0</td>\n",
       "      <td>104.0</td>\n",
       "      <td>103.0</td>\n",
       "      <td>123.0</td>\n",
       "      <td>323.0</td>\n",
       "      <td>Akshaya, Jony</td>\n",
       "    </tr>\n",
       "    <tr>\n",
       "      <th>6</th>\n",
       "      <td>60.0</td>\n",
       "      <td>2022-03-16</td>\n",
       "      <td>Male</td>\n",
       "      <td>147.0</td>\n",
       "      <td>NaN</td>\n",
       "      <td>97.0</td>\n",
       "      <td>125.0</td>\n",
       "      <td>243.0</td>\n",
       "      <td>Ajay, Jony</td>\n",
       "    </tr>\n",
       "    <tr>\n",
       "      <th>7</th>\n",
       "      <td>60.0</td>\n",
       "      <td>2022-03-16</td>\n",
       "      <td>Male</td>\n",
       "      <td>NaN</td>\n",
       "      <td>101.0</td>\n",
       "      <td>108.0</td>\n",
       "      <td>131.0</td>\n",
       "      <td>364.2</td>\n",
       "      <td>Jay, Jony</td>\n",
       "    </tr>\n",
       "    <tr>\n",
       "      <th>8</th>\n",
       "      <td>45.0</td>\n",
       "      <td>2022-03-16</td>\n",
       "      <td>Female</td>\n",
       "      <td>174.0</td>\n",
       "      <td>90.0</td>\n",
       "      <td>100.0</td>\n",
       "      <td>119.0</td>\n",
       "      <td>282.0</td>\n",
       "      <td>Shyam, Catherine</td>\n",
       "    </tr>\n",
       "    <tr>\n",
       "      <th>9</th>\n",
       "      <td>50.0</td>\n",
       "      <td>2022-03-16</td>\n",
       "      <td>Male</td>\n",
       "      <td>169.0</td>\n",
       "      <td>NaN</td>\n",
       "      <td>130.0</td>\n",
       "      <td>101.0</td>\n",
       "      <td>300.0</td>\n",
       "      <td>Neha, Catherine</td>\n",
       "    </tr>\n",
       "    <tr>\n",
       "      <th>10</th>\n",
       "      <td>450.0</td>\n",
       "      <td>2022-03-16</td>\n",
       "      <td>Female</td>\n",
       "      <td>NaN</td>\n",
       "      <td>81.0</td>\n",
       "      <td>105.0</td>\n",
       "      <td>132.0</td>\n",
       "      <td>246.0</td>\n",
       "      <td>Mehru, Catherine</td>\n",
       "    </tr>\n",
       "    <tr>\n",
       "      <th>11</th>\n",
       "      <td>60.0</td>\n",
       "      <td>2022-03-16</td>\n",
       "      <td>Female</td>\n",
       "      <td>159.0</td>\n",
       "      <td>80.0</td>\n",
       "      <td>102.0</td>\n",
       "      <td>126.0</td>\n",
       "      <td>334.5</td>\n",
       "      <td>Dipa, Catherine</td>\n",
       "    </tr>\n",
       "    <tr>\n",
       "      <th>12</th>\n",
       "      <td>450.0</td>\n",
       "      <td>2022-03-16</td>\n",
       "      <td>Male</td>\n",
       "      <td>192.0</td>\n",
       "      <td>91.0</td>\n",
       "      <td>100.0</td>\n",
       "      <td>120.0</td>\n",
       "      <td>250.0</td>\n",
       "      <td>Jim, Jony</td>\n",
       "    </tr>\n",
       "    <tr>\n",
       "      <th>13</th>\n",
       "      <td>45.0</td>\n",
       "      <td>2022-03-16</td>\n",
       "      <td>Male</td>\n",
       "      <td>155.0</td>\n",
       "      <td>51.0</td>\n",
       "      <td>92.0</td>\n",
       "      <td>118.0</td>\n",
       "      <td>241.0</td>\n",
       "      <td>Divya, Catherine</td>\n",
       "    </tr>\n",
       "    <tr>\n",
       "      <th>14</th>\n",
       "      <td>50.0</td>\n",
       "      <td>2022-03-16</td>\n",
       "      <td>Gender</td>\n",
       "      <td>191.0</td>\n",
       "      <td>79.0</td>\n",
       "      <td>103.0</td>\n",
       "      <td>132.0</td>\n",
       "      <td>NaN</td>\n",
       "      <td>Liya, Catherine</td>\n",
       "    </tr>\n",
       "    <tr>\n",
       "      <th>15</th>\n",
       "      <td>60.0</td>\n",
       "      <td>2022-03-16</td>\n",
       "      <td>Male</td>\n",
       "      <td>153.0</td>\n",
       "      <td>70.0</td>\n",
       "      <td>97.0</td>\n",
       "      <td>132.0</td>\n",
       "      <td>280.0</td>\n",
       "      <td>Jack, Jony</td>\n",
       "    </tr>\n",
       "  </tbody>\n",
       "</table>\n",
       "</div>"
      ],
      "text/plain": [
       "    Duration       Date  Gender  Height  Weight  Pulse  Maxpulse  Calories  \\\n",
       "0       60.0 2022-03-16    Male   174.0    96.0  104.0     132.0     379.3   \n",
       "1       60.0 2022-03-16  Female   189.0    87.0   98.0     123.0     275.0   \n",
       "2       60.0 2022-03-16  Female   185.0   110.0   98.0     120.0     215.2   \n",
       "3      500.0 2022-03-16    Male   195.0   104.0  100.0     120.0     300.0   \n",
       "4       60.0 2022-03-16    Male   149.0    61.0   90.0     112.0       NaN   \n",
       "5       60.0 2022-03-16    Male   189.0   104.0  103.0     123.0     323.0   \n",
       "6       60.0 2022-03-16    Male   147.0     NaN   97.0     125.0     243.0   \n",
       "7       60.0 2022-03-16    Male     NaN   101.0  108.0     131.0     364.2   \n",
       "8       45.0 2022-03-16  Female   174.0    90.0  100.0     119.0     282.0   \n",
       "9       50.0 2022-03-16    Male   169.0     NaN  130.0     101.0     300.0   \n",
       "10     450.0 2022-03-16  Female     NaN    81.0  105.0     132.0     246.0   \n",
       "11      60.0 2022-03-16  Female   159.0    80.0  102.0     126.0     334.5   \n",
       "12     450.0 2022-03-16    Male   192.0    91.0  100.0     120.0     250.0   \n",
       "13      45.0 2022-03-16    Male   155.0    51.0   92.0     118.0     241.0   \n",
       "14      50.0 2022-03-16  Gender   191.0    79.0  103.0     132.0       NaN   \n",
       "15      60.0 2022-03-16    Male   153.0    70.0   97.0     132.0     280.0   \n",
       "\n",
       "           Name Doctor  \n",
       "0   Christy, Catherine  \n",
       "1    Mukund, Catherine  \n",
       "2   Aswathy, Catherine  \n",
       "3      Phil, Catherine  \n",
       "4     Vince, Catherine  \n",
       "5        Akshaya, Jony  \n",
       "6           Ajay, Jony  \n",
       "7            Jay, Jony  \n",
       "8     Shyam, Catherine  \n",
       "9      Neha, Catherine  \n",
       "10    Mehru, Catherine  \n",
       "11     Dipa, Catherine  \n",
       "12           Jim, Jony  \n",
       "13    Divya, Catherine  \n",
       "14     Liya, Catherine  \n",
       "15          Jack, Jony  "
      ]
     },
     "execution_count": 28,
     "metadata": {},
     "output_type": "execute_result"
    }
   ],
   "source": [
    "data['Date']=data['Date'].fillna(data['Date'].mode()[0])#filling null value in Date with mode.\n",
    "data\n",
    "     "
   ]
  },
  {
   "cell_type": "code",
   "execution_count": 29,
   "id": "8756608e",
   "metadata": {},
   "outputs": [
    {
     "data": {
      "text/html": [
       "<div>\n",
       "<style scoped>\n",
       "    .dataframe tbody tr th:only-of-type {\n",
       "        vertical-align: middle;\n",
       "    }\n",
       "\n",
       "    .dataframe tbody tr th {\n",
       "        vertical-align: top;\n",
       "    }\n",
       "\n",
       "    .dataframe thead th {\n",
       "        text-align: right;\n",
       "    }\n",
       "</style>\n",
       "<table border=\"1\" class=\"dataframe\">\n",
       "  <thead>\n",
       "    <tr style=\"text-align: right;\">\n",
       "      <th></th>\n",
       "      <th>Duration</th>\n",
       "      <th>Date</th>\n",
       "      <th>Gender</th>\n",
       "      <th>Height</th>\n",
       "      <th>Weight</th>\n",
       "      <th>Pulse</th>\n",
       "      <th>Maxpulse</th>\n",
       "      <th>Calories</th>\n",
       "      <th>Name Doctor</th>\n",
       "    </tr>\n",
       "  </thead>\n",
       "  <tbody>\n",
       "    <tr>\n",
       "      <th>0</th>\n",
       "      <td>60.0</td>\n",
       "      <td>2022-03-16</td>\n",
       "      <td>Male</td>\n",
       "      <td>174.000000</td>\n",
       "      <td>96.000000</td>\n",
       "      <td>104.0</td>\n",
       "      <td>132.0</td>\n",
       "      <td>379.300000</td>\n",
       "      <td>Christy, Catherine</td>\n",
       "    </tr>\n",
       "    <tr>\n",
       "      <th>1</th>\n",
       "      <td>60.0</td>\n",
       "      <td>2022-03-16</td>\n",
       "      <td>Female</td>\n",
       "      <td>189.000000</td>\n",
       "      <td>87.000000</td>\n",
       "      <td>98.0</td>\n",
       "      <td>123.0</td>\n",
       "      <td>275.000000</td>\n",
       "      <td>Mukund, Catherine</td>\n",
       "    </tr>\n",
       "    <tr>\n",
       "      <th>2</th>\n",
       "      <td>60.0</td>\n",
       "      <td>2022-03-16</td>\n",
       "      <td>Female</td>\n",
       "      <td>185.000000</td>\n",
       "      <td>110.000000</td>\n",
       "      <td>98.0</td>\n",
       "      <td>120.0</td>\n",
       "      <td>215.200000</td>\n",
       "      <td>Aswathy, Catherine</td>\n",
       "    </tr>\n",
       "    <tr>\n",
       "      <th>3</th>\n",
       "      <td>500.0</td>\n",
       "      <td>2022-03-16</td>\n",
       "      <td>Male</td>\n",
       "      <td>195.000000</td>\n",
       "      <td>104.000000</td>\n",
       "      <td>100.0</td>\n",
       "      <td>120.0</td>\n",
       "      <td>300.000000</td>\n",
       "      <td>Phil, Catherine</td>\n",
       "    </tr>\n",
       "    <tr>\n",
       "      <th>4</th>\n",
       "      <td>60.0</td>\n",
       "      <td>2022-03-16</td>\n",
       "      <td>Male</td>\n",
       "      <td>149.000000</td>\n",
       "      <td>61.000000</td>\n",
       "      <td>90.0</td>\n",
       "      <td>112.0</td>\n",
       "      <td>288.085714</td>\n",
       "      <td>Vince, Catherine</td>\n",
       "    </tr>\n",
       "    <tr>\n",
       "      <th>5</th>\n",
       "      <td>60.0</td>\n",
       "      <td>2022-03-16</td>\n",
       "      <td>Male</td>\n",
       "      <td>189.000000</td>\n",
       "      <td>104.000000</td>\n",
       "      <td>103.0</td>\n",
       "      <td>123.0</td>\n",
       "      <td>323.000000</td>\n",
       "      <td>Akshaya, Jony</td>\n",
       "    </tr>\n",
       "    <tr>\n",
       "      <th>6</th>\n",
       "      <td>60.0</td>\n",
       "      <td>2022-03-16</td>\n",
       "      <td>Male</td>\n",
       "      <td>147.000000</td>\n",
       "      <td>86.071429</td>\n",
       "      <td>97.0</td>\n",
       "      <td>125.0</td>\n",
       "      <td>243.000000</td>\n",
       "      <td>Ajay, Jony</td>\n",
       "    </tr>\n",
       "    <tr>\n",
       "      <th>7</th>\n",
       "      <td>60.0</td>\n",
       "      <td>2022-03-16</td>\n",
       "      <td>Male</td>\n",
       "      <td>172.928571</td>\n",
       "      <td>101.000000</td>\n",
       "      <td>108.0</td>\n",
       "      <td>131.0</td>\n",
       "      <td>364.200000</td>\n",
       "      <td>Jay, Jony</td>\n",
       "    </tr>\n",
       "    <tr>\n",
       "      <th>8</th>\n",
       "      <td>45.0</td>\n",
       "      <td>2022-03-16</td>\n",
       "      <td>Female</td>\n",
       "      <td>174.000000</td>\n",
       "      <td>90.000000</td>\n",
       "      <td>100.0</td>\n",
       "      <td>119.0</td>\n",
       "      <td>282.000000</td>\n",
       "      <td>Shyam, Catherine</td>\n",
       "    </tr>\n",
       "    <tr>\n",
       "      <th>9</th>\n",
       "      <td>50.0</td>\n",
       "      <td>2022-03-16</td>\n",
       "      <td>Male</td>\n",
       "      <td>169.000000</td>\n",
       "      <td>86.071429</td>\n",
       "      <td>130.0</td>\n",
       "      <td>101.0</td>\n",
       "      <td>300.000000</td>\n",
       "      <td>Neha, Catherine</td>\n",
       "    </tr>\n",
       "    <tr>\n",
       "      <th>10</th>\n",
       "      <td>450.0</td>\n",
       "      <td>2022-03-16</td>\n",
       "      <td>Female</td>\n",
       "      <td>172.928571</td>\n",
       "      <td>81.000000</td>\n",
       "      <td>105.0</td>\n",
       "      <td>132.0</td>\n",
       "      <td>246.000000</td>\n",
       "      <td>Mehru, Catherine</td>\n",
       "    </tr>\n",
       "    <tr>\n",
       "      <th>11</th>\n",
       "      <td>60.0</td>\n",
       "      <td>2022-03-16</td>\n",
       "      <td>Female</td>\n",
       "      <td>159.000000</td>\n",
       "      <td>80.000000</td>\n",
       "      <td>102.0</td>\n",
       "      <td>126.0</td>\n",
       "      <td>334.500000</td>\n",
       "      <td>Dipa, Catherine</td>\n",
       "    </tr>\n",
       "    <tr>\n",
       "      <th>12</th>\n",
       "      <td>450.0</td>\n",
       "      <td>2022-03-16</td>\n",
       "      <td>Male</td>\n",
       "      <td>192.000000</td>\n",
       "      <td>91.000000</td>\n",
       "      <td>100.0</td>\n",
       "      <td>120.0</td>\n",
       "      <td>250.000000</td>\n",
       "      <td>Jim, Jony</td>\n",
       "    </tr>\n",
       "    <tr>\n",
       "      <th>13</th>\n",
       "      <td>45.0</td>\n",
       "      <td>2022-03-16</td>\n",
       "      <td>Male</td>\n",
       "      <td>155.000000</td>\n",
       "      <td>51.000000</td>\n",
       "      <td>92.0</td>\n",
       "      <td>118.0</td>\n",
       "      <td>241.000000</td>\n",
       "      <td>Divya, Catherine</td>\n",
       "    </tr>\n",
       "    <tr>\n",
       "      <th>14</th>\n",
       "      <td>50.0</td>\n",
       "      <td>2022-03-16</td>\n",
       "      <td>Gender</td>\n",
       "      <td>191.000000</td>\n",
       "      <td>79.000000</td>\n",
       "      <td>103.0</td>\n",
       "      <td>132.0</td>\n",
       "      <td>288.085714</td>\n",
       "      <td>Liya, Catherine</td>\n",
       "    </tr>\n",
       "    <tr>\n",
       "      <th>15</th>\n",
       "      <td>60.0</td>\n",
       "      <td>2022-03-16</td>\n",
       "      <td>Male</td>\n",
       "      <td>153.000000</td>\n",
       "      <td>70.000000</td>\n",
       "      <td>97.0</td>\n",
       "      <td>132.0</td>\n",
       "      <td>280.000000</td>\n",
       "      <td>Jack, Jony</td>\n",
       "    </tr>\n",
       "  </tbody>\n",
       "</table>\n",
       "</div>"
      ],
      "text/plain": [
       "    Duration       Date  Gender      Height      Weight  Pulse  Maxpulse  \\\n",
       "0       60.0 2022-03-16    Male  174.000000   96.000000  104.0     132.0   \n",
       "1       60.0 2022-03-16  Female  189.000000   87.000000   98.0     123.0   \n",
       "2       60.0 2022-03-16  Female  185.000000  110.000000   98.0     120.0   \n",
       "3      500.0 2022-03-16    Male  195.000000  104.000000  100.0     120.0   \n",
       "4       60.0 2022-03-16    Male  149.000000   61.000000   90.0     112.0   \n",
       "5       60.0 2022-03-16    Male  189.000000  104.000000  103.0     123.0   \n",
       "6       60.0 2022-03-16    Male  147.000000   86.071429   97.0     125.0   \n",
       "7       60.0 2022-03-16    Male  172.928571  101.000000  108.0     131.0   \n",
       "8       45.0 2022-03-16  Female  174.000000   90.000000  100.0     119.0   \n",
       "9       50.0 2022-03-16    Male  169.000000   86.071429  130.0     101.0   \n",
       "10     450.0 2022-03-16  Female  172.928571   81.000000  105.0     132.0   \n",
       "11      60.0 2022-03-16  Female  159.000000   80.000000  102.0     126.0   \n",
       "12     450.0 2022-03-16    Male  192.000000   91.000000  100.0     120.0   \n",
       "13      45.0 2022-03-16    Male  155.000000   51.000000   92.0     118.0   \n",
       "14      50.0 2022-03-16  Gender  191.000000   79.000000  103.0     132.0   \n",
       "15      60.0 2022-03-16    Male  153.000000   70.000000   97.0     132.0   \n",
       "\n",
       "      Calories         Name Doctor  \n",
       "0   379.300000  Christy, Catherine  \n",
       "1   275.000000   Mukund, Catherine  \n",
       "2   215.200000  Aswathy, Catherine  \n",
       "3   300.000000     Phil, Catherine  \n",
       "4   288.085714    Vince, Catherine  \n",
       "5   323.000000       Akshaya, Jony  \n",
       "6   243.000000          Ajay, Jony  \n",
       "7   364.200000           Jay, Jony  \n",
       "8   282.000000    Shyam, Catherine  \n",
       "9   300.000000     Neha, Catherine  \n",
       "10  246.000000    Mehru, Catherine  \n",
       "11  334.500000     Dipa, Catherine  \n",
       "12  250.000000           Jim, Jony  \n",
       "13  241.000000    Divya, Catherine  \n",
       "14  288.085714     Liya, Catherine  \n",
       "15  280.000000          Jack, Jony  "
      ]
     },
     "execution_count": 29,
     "metadata": {},
     "output_type": "execute_result"
    }
   ],
   "source": [
    "data.fillna(data[['Height','Weight','Calories']].mean(),inplace=True)\n",
    "#filling null values in Height,Weight and Calories with mean.\n",
    "data"
   ]
  },
  {
   "cell_type": "code",
   "execution_count": 30,
   "id": "71046cdb",
   "metadata": {},
   "outputs": [
    {
     "data": {
      "text/html": [
       "<div>\n",
       "<style scoped>\n",
       "    .dataframe tbody tr th:only-of-type {\n",
       "        vertical-align: middle;\n",
       "    }\n",
       "\n",
       "    .dataframe tbody tr th {\n",
       "        vertical-align: top;\n",
       "    }\n",
       "\n",
       "    .dataframe thead th {\n",
       "        text-align: right;\n",
       "    }\n",
       "</style>\n",
       "<table border=\"1\" class=\"dataframe\">\n",
       "  <thead>\n",
       "    <tr style=\"text-align: right;\">\n",
       "      <th></th>\n",
       "      <th>Duration</th>\n",
       "      <th>Date</th>\n",
       "      <th>Gender</th>\n",
       "      <th>Height</th>\n",
       "      <th>Weight</th>\n",
       "      <th>Pulse</th>\n",
       "      <th>Maxpulse</th>\n",
       "      <th>Calories</th>\n",
       "      <th>Name Doctor</th>\n",
       "      <th>Name</th>\n",
       "      <th>Doctor</th>\n",
       "    </tr>\n",
       "  </thead>\n",
       "  <tbody>\n",
       "    <tr>\n",
       "      <th>0</th>\n",
       "      <td>60.0</td>\n",
       "      <td>2022-03-16</td>\n",
       "      <td>Male</td>\n",
       "      <td>174.000000</td>\n",
       "      <td>96.000000</td>\n",
       "      <td>104.0</td>\n",
       "      <td>132.0</td>\n",
       "      <td>379.300000</td>\n",
       "      <td>Christy, Catherine</td>\n",
       "      <td>Christy</td>\n",
       "      <td>Catherine</td>\n",
       "    </tr>\n",
       "    <tr>\n",
       "      <th>1</th>\n",
       "      <td>60.0</td>\n",
       "      <td>2022-03-16</td>\n",
       "      <td>Female</td>\n",
       "      <td>189.000000</td>\n",
       "      <td>87.000000</td>\n",
       "      <td>98.0</td>\n",
       "      <td>123.0</td>\n",
       "      <td>275.000000</td>\n",
       "      <td>Mukund, Catherine</td>\n",
       "      <td>Mukund</td>\n",
       "      <td>Catherine</td>\n",
       "    </tr>\n",
       "    <tr>\n",
       "      <th>2</th>\n",
       "      <td>60.0</td>\n",
       "      <td>2022-03-16</td>\n",
       "      <td>Female</td>\n",
       "      <td>185.000000</td>\n",
       "      <td>110.000000</td>\n",
       "      <td>98.0</td>\n",
       "      <td>120.0</td>\n",
       "      <td>215.200000</td>\n",
       "      <td>Aswathy, Catherine</td>\n",
       "      <td>Aswathy</td>\n",
       "      <td>Catherine</td>\n",
       "    </tr>\n",
       "    <tr>\n",
       "      <th>3</th>\n",
       "      <td>500.0</td>\n",
       "      <td>2022-03-16</td>\n",
       "      <td>Male</td>\n",
       "      <td>195.000000</td>\n",
       "      <td>104.000000</td>\n",
       "      <td>100.0</td>\n",
       "      <td>120.0</td>\n",
       "      <td>300.000000</td>\n",
       "      <td>Phil, Catherine</td>\n",
       "      <td>Phil</td>\n",
       "      <td>Catherine</td>\n",
       "    </tr>\n",
       "    <tr>\n",
       "      <th>4</th>\n",
       "      <td>60.0</td>\n",
       "      <td>2022-03-16</td>\n",
       "      <td>Male</td>\n",
       "      <td>149.000000</td>\n",
       "      <td>61.000000</td>\n",
       "      <td>90.0</td>\n",
       "      <td>112.0</td>\n",
       "      <td>288.085714</td>\n",
       "      <td>Vince, Catherine</td>\n",
       "      <td>Vince</td>\n",
       "      <td>Catherine</td>\n",
       "    </tr>\n",
       "    <tr>\n",
       "      <th>5</th>\n",
       "      <td>60.0</td>\n",
       "      <td>2022-03-16</td>\n",
       "      <td>Male</td>\n",
       "      <td>189.000000</td>\n",
       "      <td>104.000000</td>\n",
       "      <td>103.0</td>\n",
       "      <td>123.0</td>\n",
       "      <td>323.000000</td>\n",
       "      <td>Akshaya, Jony</td>\n",
       "      <td>Akshaya</td>\n",
       "      <td>Jony</td>\n",
       "    </tr>\n",
       "    <tr>\n",
       "      <th>6</th>\n",
       "      <td>60.0</td>\n",
       "      <td>2022-03-16</td>\n",
       "      <td>Male</td>\n",
       "      <td>147.000000</td>\n",
       "      <td>86.071429</td>\n",
       "      <td>97.0</td>\n",
       "      <td>125.0</td>\n",
       "      <td>243.000000</td>\n",
       "      <td>Ajay, Jony</td>\n",
       "      <td>Ajay</td>\n",
       "      <td>Jony</td>\n",
       "    </tr>\n",
       "    <tr>\n",
       "      <th>7</th>\n",
       "      <td>60.0</td>\n",
       "      <td>2022-03-16</td>\n",
       "      <td>Male</td>\n",
       "      <td>172.928571</td>\n",
       "      <td>101.000000</td>\n",
       "      <td>108.0</td>\n",
       "      <td>131.0</td>\n",
       "      <td>364.200000</td>\n",
       "      <td>Jay, Jony</td>\n",
       "      <td>Jay</td>\n",
       "      <td>Jony</td>\n",
       "    </tr>\n",
       "    <tr>\n",
       "      <th>8</th>\n",
       "      <td>45.0</td>\n",
       "      <td>2022-03-16</td>\n",
       "      <td>Female</td>\n",
       "      <td>174.000000</td>\n",
       "      <td>90.000000</td>\n",
       "      <td>100.0</td>\n",
       "      <td>119.0</td>\n",
       "      <td>282.000000</td>\n",
       "      <td>Shyam, Catherine</td>\n",
       "      <td>Shyam</td>\n",
       "      <td>Catherine</td>\n",
       "    </tr>\n",
       "    <tr>\n",
       "      <th>9</th>\n",
       "      <td>50.0</td>\n",
       "      <td>2022-03-16</td>\n",
       "      <td>Male</td>\n",
       "      <td>169.000000</td>\n",
       "      <td>86.071429</td>\n",
       "      <td>130.0</td>\n",
       "      <td>101.0</td>\n",
       "      <td>300.000000</td>\n",
       "      <td>Neha, Catherine</td>\n",
       "      <td>Neha</td>\n",
       "      <td>Catherine</td>\n",
       "    </tr>\n",
       "    <tr>\n",
       "      <th>10</th>\n",
       "      <td>450.0</td>\n",
       "      <td>2022-03-16</td>\n",
       "      <td>Female</td>\n",
       "      <td>172.928571</td>\n",
       "      <td>81.000000</td>\n",
       "      <td>105.0</td>\n",
       "      <td>132.0</td>\n",
       "      <td>246.000000</td>\n",
       "      <td>Mehru, Catherine</td>\n",
       "      <td>Mehru</td>\n",
       "      <td>Catherine</td>\n",
       "    </tr>\n",
       "    <tr>\n",
       "      <th>11</th>\n",
       "      <td>60.0</td>\n",
       "      <td>2022-03-16</td>\n",
       "      <td>Female</td>\n",
       "      <td>159.000000</td>\n",
       "      <td>80.000000</td>\n",
       "      <td>102.0</td>\n",
       "      <td>126.0</td>\n",
       "      <td>334.500000</td>\n",
       "      <td>Dipa, Catherine</td>\n",
       "      <td>Dipa</td>\n",
       "      <td>Catherine</td>\n",
       "    </tr>\n",
       "    <tr>\n",
       "      <th>12</th>\n",
       "      <td>450.0</td>\n",
       "      <td>2022-03-16</td>\n",
       "      <td>Male</td>\n",
       "      <td>192.000000</td>\n",
       "      <td>91.000000</td>\n",
       "      <td>100.0</td>\n",
       "      <td>120.0</td>\n",
       "      <td>250.000000</td>\n",
       "      <td>Jim, Jony</td>\n",
       "      <td>Jim</td>\n",
       "      <td>Jony</td>\n",
       "    </tr>\n",
       "    <tr>\n",
       "      <th>13</th>\n",
       "      <td>45.0</td>\n",
       "      <td>2022-03-16</td>\n",
       "      <td>Male</td>\n",
       "      <td>155.000000</td>\n",
       "      <td>51.000000</td>\n",
       "      <td>92.0</td>\n",
       "      <td>118.0</td>\n",
       "      <td>241.000000</td>\n",
       "      <td>Divya, Catherine</td>\n",
       "      <td>Divya</td>\n",
       "      <td>Catherine</td>\n",
       "    </tr>\n",
       "    <tr>\n",
       "      <th>14</th>\n",
       "      <td>50.0</td>\n",
       "      <td>2022-03-16</td>\n",
       "      <td>Gender</td>\n",
       "      <td>191.000000</td>\n",
       "      <td>79.000000</td>\n",
       "      <td>103.0</td>\n",
       "      <td>132.0</td>\n",
       "      <td>288.085714</td>\n",
       "      <td>Liya, Catherine</td>\n",
       "      <td>Liya</td>\n",
       "      <td>Catherine</td>\n",
       "    </tr>\n",
       "    <tr>\n",
       "      <th>15</th>\n",
       "      <td>60.0</td>\n",
       "      <td>2022-03-16</td>\n",
       "      <td>Male</td>\n",
       "      <td>153.000000</td>\n",
       "      <td>70.000000</td>\n",
       "      <td>97.0</td>\n",
       "      <td>132.0</td>\n",
       "      <td>280.000000</td>\n",
       "      <td>Jack, Jony</td>\n",
       "      <td>Jack</td>\n",
       "      <td>Jony</td>\n",
       "    </tr>\n",
       "  </tbody>\n",
       "</table>\n",
       "</div>"
      ],
      "text/plain": [
       "    Duration       Date  Gender      Height      Weight  Pulse  Maxpulse  \\\n",
       "0       60.0 2022-03-16    Male  174.000000   96.000000  104.0     132.0   \n",
       "1       60.0 2022-03-16  Female  189.000000   87.000000   98.0     123.0   \n",
       "2       60.0 2022-03-16  Female  185.000000  110.000000   98.0     120.0   \n",
       "3      500.0 2022-03-16    Male  195.000000  104.000000  100.0     120.0   \n",
       "4       60.0 2022-03-16    Male  149.000000   61.000000   90.0     112.0   \n",
       "5       60.0 2022-03-16    Male  189.000000  104.000000  103.0     123.0   \n",
       "6       60.0 2022-03-16    Male  147.000000   86.071429   97.0     125.0   \n",
       "7       60.0 2022-03-16    Male  172.928571  101.000000  108.0     131.0   \n",
       "8       45.0 2022-03-16  Female  174.000000   90.000000  100.0     119.0   \n",
       "9       50.0 2022-03-16    Male  169.000000   86.071429  130.0     101.0   \n",
       "10     450.0 2022-03-16  Female  172.928571   81.000000  105.0     132.0   \n",
       "11      60.0 2022-03-16  Female  159.000000   80.000000  102.0     126.0   \n",
       "12     450.0 2022-03-16    Male  192.000000   91.000000  100.0     120.0   \n",
       "13      45.0 2022-03-16    Male  155.000000   51.000000   92.0     118.0   \n",
       "14      50.0 2022-03-16  Gender  191.000000   79.000000  103.0     132.0   \n",
       "15      60.0 2022-03-16    Male  153.000000   70.000000   97.0     132.0   \n",
       "\n",
       "      Calories         Name Doctor     Name      Doctor  \n",
       "0   379.300000  Christy, Catherine  Christy   Catherine  \n",
       "1   275.000000   Mukund, Catherine   Mukund   Catherine  \n",
       "2   215.200000  Aswathy, Catherine  Aswathy   Catherine  \n",
       "3   300.000000     Phil, Catherine     Phil   Catherine  \n",
       "4   288.085714    Vince, Catherine    Vince   Catherine  \n",
       "5   323.000000       Akshaya, Jony  Akshaya        Jony  \n",
       "6   243.000000          Ajay, Jony     Ajay        Jony  \n",
       "7   364.200000           Jay, Jony      Jay        Jony  \n",
       "8   282.000000    Shyam, Catherine    Shyam   Catherine  \n",
       "9   300.000000     Neha, Catherine     Neha   Catherine  \n",
       "10  246.000000    Mehru, Catherine    Mehru   Catherine  \n",
       "11  334.500000     Dipa, Catherine     Dipa   Catherine  \n",
       "12  250.000000           Jim, Jony      Jim        Jony  \n",
       "13  241.000000    Divya, Catherine    Divya   Catherine  \n",
       "14  288.085714     Liya, Catherine     Liya   Catherine  \n",
       "15  280.000000          Jack, Jony     Jack        Jony  "
      ]
     },
     "execution_count": 30,
     "metadata": {},
     "output_type": "execute_result"
    }
   ],
   "source": [
    "data['Name Doctor'.split(' ')]=data['Name Doctor'].str.split(',',expand=True)\n",
    "#splitting patient name and Doctor into two columns\n",
    "data"
   ]
  },
  {
   "cell_type": "code",
   "execution_count": 31,
   "id": "d0967291",
   "metadata": {},
   "outputs": [
    {
     "data": {
      "text/html": [
       "<div>\n",
       "<style scoped>\n",
       "    .dataframe tbody tr th:only-of-type {\n",
       "        vertical-align: middle;\n",
       "    }\n",
       "\n",
       "    .dataframe tbody tr th {\n",
       "        vertical-align: top;\n",
       "    }\n",
       "\n",
       "    .dataframe thead th {\n",
       "        text-align: right;\n",
       "    }\n",
       "</style>\n",
       "<table border=\"1\" class=\"dataframe\">\n",
       "  <thead>\n",
       "    <tr style=\"text-align: right;\">\n",
       "      <th></th>\n",
       "      <th>Duration</th>\n",
       "      <th>Date</th>\n",
       "      <th>Gender</th>\n",
       "      <th>Height</th>\n",
       "      <th>Weight</th>\n",
       "      <th>Pulse</th>\n",
       "      <th>Maxpulse</th>\n",
       "      <th>Calories</th>\n",
       "      <th>Name</th>\n",
       "      <th>Doctor</th>\n",
       "    </tr>\n",
       "  </thead>\n",
       "  <tbody>\n",
       "    <tr>\n",
       "      <th>0</th>\n",
       "      <td>60.0</td>\n",
       "      <td>2022-03-16</td>\n",
       "      <td>Male</td>\n",
       "      <td>174.000000</td>\n",
       "      <td>96.000000</td>\n",
       "      <td>104.0</td>\n",
       "      <td>132.0</td>\n",
       "      <td>379.300000</td>\n",
       "      <td>Christy</td>\n",
       "      <td>Catherine</td>\n",
       "    </tr>\n",
       "    <tr>\n",
       "      <th>1</th>\n",
       "      <td>60.0</td>\n",
       "      <td>2022-03-16</td>\n",
       "      <td>Female</td>\n",
       "      <td>189.000000</td>\n",
       "      <td>87.000000</td>\n",
       "      <td>98.0</td>\n",
       "      <td>123.0</td>\n",
       "      <td>275.000000</td>\n",
       "      <td>Mukund</td>\n",
       "      <td>Catherine</td>\n",
       "    </tr>\n",
       "    <tr>\n",
       "      <th>2</th>\n",
       "      <td>60.0</td>\n",
       "      <td>2022-03-16</td>\n",
       "      <td>Female</td>\n",
       "      <td>185.000000</td>\n",
       "      <td>110.000000</td>\n",
       "      <td>98.0</td>\n",
       "      <td>120.0</td>\n",
       "      <td>215.200000</td>\n",
       "      <td>Aswathy</td>\n",
       "      <td>Catherine</td>\n",
       "    </tr>\n",
       "    <tr>\n",
       "      <th>3</th>\n",
       "      <td>500.0</td>\n",
       "      <td>2022-03-16</td>\n",
       "      <td>Male</td>\n",
       "      <td>195.000000</td>\n",
       "      <td>104.000000</td>\n",
       "      <td>100.0</td>\n",
       "      <td>120.0</td>\n",
       "      <td>300.000000</td>\n",
       "      <td>Phil</td>\n",
       "      <td>Catherine</td>\n",
       "    </tr>\n",
       "    <tr>\n",
       "      <th>4</th>\n",
       "      <td>60.0</td>\n",
       "      <td>2022-03-16</td>\n",
       "      <td>Male</td>\n",
       "      <td>149.000000</td>\n",
       "      <td>61.000000</td>\n",
       "      <td>90.0</td>\n",
       "      <td>112.0</td>\n",
       "      <td>288.085714</td>\n",
       "      <td>Vince</td>\n",
       "      <td>Catherine</td>\n",
       "    </tr>\n",
       "    <tr>\n",
       "      <th>5</th>\n",
       "      <td>60.0</td>\n",
       "      <td>2022-03-16</td>\n",
       "      <td>Male</td>\n",
       "      <td>189.000000</td>\n",
       "      <td>104.000000</td>\n",
       "      <td>103.0</td>\n",
       "      <td>123.0</td>\n",
       "      <td>323.000000</td>\n",
       "      <td>Akshaya</td>\n",
       "      <td>Jony</td>\n",
       "    </tr>\n",
       "    <tr>\n",
       "      <th>6</th>\n",
       "      <td>60.0</td>\n",
       "      <td>2022-03-16</td>\n",
       "      <td>Male</td>\n",
       "      <td>147.000000</td>\n",
       "      <td>86.071429</td>\n",
       "      <td>97.0</td>\n",
       "      <td>125.0</td>\n",
       "      <td>243.000000</td>\n",
       "      <td>Ajay</td>\n",
       "      <td>Jony</td>\n",
       "    </tr>\n",
       "    <tr>\n",
       "      <th>7</th>\n",
       "      <td>60.0</td>\n",
       "      <td>2022-03-16</td>\n",
       "      <td>Male</td>\n",
       "      <td>172.928571</td>\n",
       "      <td>101.000000</td>\n",
       "      <td>108.0</td>\n",
       "      <td>131.0</td>\n",
       "      <td>364.200000</td>\n",
       "      <td>Jay</td>\n",
       "      <td>Jony</td>\n",
       "    </tr>\n",
       "    <tr>\n",
       "      <th>8</th>\n",
       "      <td>45.0</td>\n",
       "      <td>2022-03-16</td>\n",
       "      <td>Female</td>\n",
       "      <td>174.000000</td>\n",
       "      <td>90.000000</td>\n",
       "      <td>100.0</td>\n",
       "      <td>119.0</td>\n",
       "      <td>282.000000</td>\n",
       "      <td>Shyam</td>\n",
       "      <td>Catherine</td>\n",
       "    </tr>\n",
       "    <tr>\n",
       "      <th>9</th>\n",
       "      <td>50.0</td>\n",
       "      <td>2022-03-16</td>\n",
       "      <td>Male</td>\n",
       "      <td>169.000000</td>\n",
       "      <td>86.071429</td>\n",
       "      <td>130.0</td>\n",
       "      <td>101.0</td>\n",
       "      <td>300.000000</td>\n",
       "      <td>Neha</td>\n",
       "      <td>Catherine</td>\n",
       "    </tr>\n",
       "    <tr>\n",
       "      <th>10</th>\n",
       "      <td>450.0</td>\n",
       "      <td>2022-03-16</td>\n",
       "      <td>Female</td>\n",
       "      <td>172.928571</td>\n",
       "      <td>81.000000</td>\n",
       "      <td>105.0</td>\n",
       "      <td>132.0</td>\n",
       "      <td>246.000000</td>\n",
       "      <td>Mehru</td>\n",
       "      <td>Catherine</td>\n",
       "    </tr>\n",
       "    <tr>\n",
       "      <th>11</th>\n",
       "      <td>60.0</td>\n",
       "      <td>2022-03-16</td>\n",
       "      <td>Female</td>\n",
       "      <td>159.000000</td>\n",
       "      <td>80.000000</td>\n",
       "      <td>102.0</td>\n",
       "      <td>126.0</td>\n",
       "      <td>334.500000</td>\n",
       "      <td>Dipa</td>\n",
       "      <td>Catherine</td>\n",
       "    </tr>\n",
       "    <tr>\n",
       "      <th>12</th>\n",
       "      <td>450.0</td>\n",
       "      <td>2022-03-16</td>\n",
       "      <td>Male</td>\n",
       "      <td>192.000000</td>\n",
       "      <td>91.000000</td>\n",
       "      <td>100.0</td>\n",
       "      <td>120.0</td>\n",
       "      <td>250.000000</td>\n",
       "      <td>Jim</td>\n",
       "      <td>Jony</td>\n",
       "    </tr>\n",
       "    <tr>\n",
       "      <th>13</th>\n",
       "      <td>45.0</td>\n",
       "      <td>2022-03-16</td>\n",
       "      <td>Male</td>\n",
       "      <td>155.000000</td>\n",
       "      <td>51.000000</td>\n",
       "      <td>92.0</td>\n",
       "      <td>118.0</td>\n",
       "      <td>241.000000</td>\n",
       "      <td>Divya</td>\n",
       "      <td>Catherine</td>\n",
       "    </tr>\n",
       "    <tr>\n",
       "      <th>14</th>\n",
       "      <td>50.0</td>\n",
       "      <td>2022-03-16</td>\n",
       "      <td>Gender</td>\n",
       "      <td>191.000000</td>\n",
       "      <td>79.000000</td>\n",
       "      <td>103.0</td>\n",
       "      <td>132.0</td>\n",
       "      <td>288.085714</td>\n",
       "      <td>Liya</td>\n",
       "      <td>Catherine</td>\n",
       "    </tr>\n",
       "    <tr>\n",
       "      <th>15</th>\n",
       "      <td>60.0</td>\n",
       "      <td>2022-03-16</td>\n",
       "      <td>Male</td>\n",
       "      <td>153.000000</td>\n",
       "      <td>70.000000</td>\n",
       "      <td>97.0</td>\n",
       "      <td>132.0</td>\n",
       "      <td>280.000000</td>\n",
       "      <td>Jack</td>\n",
       "      <td>Jony</td>\n",
       "    </tr>\n",
       "  </tbody>\n",
       "</table>\n",
       "</div>"
      ],
      "text/plain": [
       "    Duration       Date  Gender      Height      Weight  Pulse  Maxpulse  \\\n",
       "0       60.0 2022-03-16    Male  174.000000   96.000000  104.0     132.0   \n",
       "1       60.0 2022-03-16  Female  189.000000   87.000000   98.0     123.0   \n",
       "2       60.0 2022-03-16  Female  185.000000  110.000000   98.0     120.0   \n",
       "3      500.0 2022-03-16    Male  195.000000  104.000000  100.0     120.0   \n",
       "4       60.0 2022-03-16    Male  149.000000   61.000000   90.0     112.0   \n",
       "5       60.0 2022-03-16    Male  189.000000  104.000000  103.0     123.0   \n",
       "6       60.0 2022-03-16    Male  147.000000   86.071429   97.0     125.0   \n",
       "7       60.0 2022-03-16    Male  172.928571  101.000000  108.0     131.0   \n",
       "8       45.0 2022-03-16  Female  174.000000   90.000000  100.0     119.0   \n",
       "9       50.0 2022-03-16    Male  169.000000   86.071429  130.0     101.0   \n",
       "10     450.0 2022-03-16  Female  172.928571   81.000000  105.0     132.0   \n",
       "11      60.0 2022-03-16  Female  159.000000   80.000000  102.0     126.0   \n",
       "12     450.0 2022-03-16    Male  192.000000   91.000000  100.0     120.0   \n",
       "13      45.0 2022-03-16    Male  155.000000   51.000000   92.0     118.0   \n",
       "14      50.0 2022-03-16  Gender  191.000000   79.000000  103.0     132.0   \n",
       "15      60.0 2022-03-16    Male  153.000000   70.000000   97.0     132.0   \n",
       "\n",
       "      Calories     Name      Doctor  \n",
       "0   379.300000  Christy   Catherine  \n",
       "1   275.000000   Mukund   Catherine  \n",
       "2   215.200000  Aswathy   Catherine  \n",
       "3   300.000000     Phil   Catherine  \n",
       "4   288.085714    Vince   Catherine  \n",
       "5   323.000000  Akshaya        Jony  \n",
       "6   243.000000     Ajay        Jony  \n",
       "7   364.200000      Jay        Jony  \n",
       "8   282.000000    Shyam   Catherine  \n",
       "9   300.000000     Neha   Catherine  \n",
       "10  246.000000    Mehru   Catherine  \n",
       "11  334.500000     Dipa   Catherine  \n",
       "12  250.000000      Jim        Jony  \n",
       "13  241.000000    Divya   Catherine  \n",
       "14  288.085714     Liya   Catherine  \n",
       "15  280.000000     Jack        Jony  "
      ]
     },
     "execution_count": 31,
     "metadata": {},
     "output_type": "execute_result"
    }
   ],
   "source": [
    "\n",
    "data.drop('Name Doctor',axis=1,inplace=True)\n",
    "data"
   ]
  },
  {
   "cell_type": "code",
   "execution_count": 32,
   "id": "ffc7223a",
   "metadata": {},
   "outputs": [
    {
     "name": "stdout",
     "output_type": "stream",
     "text": [
      "<class 'pandas.core.frame.DataFrame'>\n",
      "RangeIndex: 16 entries, 0 to 15\n",
      "Data columns (total 10 columns):\n",
      " #   Column    Non-Null Count  Dtype         \n",
      "---  ------    --------------  -----         \n",
      " 0   Duration  16 non-null     float64       \n",
      " 1   Date      16 non-null     datetime64[ns]\n",
      " 2   Gender    16 non-null     object        \n",
      " 3   Height    16 non-null     float64       \n",
      " 4   Weight    16 non-null     float64       \n",
      " 5   Pulse     16 non-null     float64       \n",
      " 6   Maxpulse  16 non-null     float64       \n",
      " 7   Calories  16 non-null     float64       \n",
      " 8   Name      16 non-null     object        \n",
      " 9   Doctor    16 non-null     object        \n",
      "dtypes: datetime64[ns](1), float64(6), object(3)\n",
      "memory usage: 1.4+ KB\n"
     ]
    }
   ],
   "source": [
    "data.info()"
   ]
  },
  {
   "cell_type": "code",
   "execution_count": 33,
   "id": "94f63d3d",
   "metadata": {},
   "outputs": [
    {
     "data": {
      "text/html": [
       "<div>\n",
       "<style scoped>\n",
       "    .dataframe tbody tr th:only-of-type {\n",
       "        vertical-align: middle;\n",
       "    }\n",
       "\n",
       "    .dataframe tbody tr th {\n",
       "        vertical-align: top;\n",
       "    }\n",
       "\n",
       "    .dataframe thead th {\n",
       "        text-align: right;\n",
       "    }\n",
       "</style>\n",
       "<table border=\"1\" class=\"dataframe\">\n",
       "  <thead>\n",
       "    <tr style=\"text-align: right;\">\n",
       "      <th></th>\n",
       "      <th>Duration</th>\n",
       "      <th>Date</th>\n",
       "      <th>Gender</th>\n",
       "      <th>Height</th>\n",
       "      <th>Weight</th>\n",
       "      <th>Pulse</th>\n",
       "      <th>Maxpulse</th>\n",
       "      <th>Calories</th>\n",
       "      <th>Name</th>\n",
       "      <th>Doctor</th>\n",
       "    </tr>\n",
       "  </thead>\n",
       "  <tbody>\n",
       "    <tr>\n",
       "      <th>0</th>\n",
       "      <td>60.0</td>\n",
       "      <td>2022-03-16</td>\n",
       "      <td>Male</td>\n",
       "      <td>174.000000</td>\n",
       "      <td>96.000000</td>\n",
       "      <td>104.0</td>\n",
       "      <td>132.0</td>\n",
       "      <td>379.300000</td>\n",
       "      <td>Christy</td>\n",
       "      <td>Catherine</td>\n",
       "    </tr>\n",
       "    <tr>\n",
       "      <th>1</th>\n",
       "      <td>60.0</td>\n",
       "      <td>2022-03-16</td>\n",
       "      <td>Female</td>\n",
       "      <td>189.000000</td>\n",
       "      <td>87.000000</td>\n",
       "      <td>98.0</td>\n",
       "      <td>123.0</td>\n",
       "      <td>275.000000</td>\n",
       "      <td>Mukund</td>\n",
       "      <td>Catherine</td>\n",
       "    </tr>\n",
       "    <tr>\n",
       "      <th>2</th>\n",
       "      <td>60.0</td>\n",
       "      <td>2022-03-16</td>\n",
       "      <td>Female</td>\n",
       "      <td>185.000000</td>\n",
       "      <td>110.000000</td>\n",
       "      <td>98.0</td>\n",
       "      <td>120.0</td>\n",
       "      <td>215.200000</td>\n",
       "      <td>Aswathy</td>\n",
       "      <td>Catherine</td>\n",
       "    </tr>\n",
       "    <tr>\n",
       "      <th>3</th>\n",
       "      <td>50.0</td>\n",
       "      <td>2022-03-16</td>\n",
       "      <td>Male</td>\n",
       "      <td>195.000000</td>\n",
       "      <td>104.000000</td>\n",
       "      <td>100.0</td>\n",
       "      <td>120.0</td>\n",
       "      <td>300.000000</td>\n",
       "      <td>Phil</td>\n",
       "      <td>Catherine</td>\n",
       "    </tr>\n",
       "    <tr>\n",
       "      <th>4</th>\n",
       "      <td>60.0</td>\n",
       "      <td>2022-03-16</td>\n",
       "      <td>Male</td>\n",
       "      <td>149.000000</td>\n",
       "      <td>61.000000</td>\n",
       "      <td>90.0</td>\n",
       "      <td>112.0</td>\n",
       "      <td>288.085714</td>\n",
       "      <td>Vince</td>\n",
       "      <td>Catherine</td>\n",
       "    </tr>\n",
       "    <tr>\n",
       "      <th>5</th>\n",
       "      <td>60.0</td>\n",
       "      <td>2022-03-16</td>\n",
       "      <td>Male</td>\n",
       "      <td>189.000000</td>\n",
       "      <td>104.000000</td>\n",
       "      <td>103.0</td>\n",
       "      <td>123.0</td>\n",
       "      <td>323.000000</td>\n",
       "      <td>Akshaya</td>\n",
       "      <td>Jony</td>\n",
       "    </tr>\n",
       "    <tr>\n",
       "      <th>6</th>\n",
       "      <td>60.0</td>\n",
       "      <td>2022-03-16</td>\n",
       "      <td>Male</td>\n",
       "      <td>147.000000</td>\n",
       "      <td>86.071429</td>\n",
       "      <td>97.0</td>\n",
       "      <td>125.0</td>\n",
       "      <td>243.000000</td>\n",
       "      <td>Ajay</td>\n",
       "      <td>Jony</td>\n",
       "    </tr>\n",
       "    <tr>\n",
       "      <th>7</th>\n",
       "      <td>60.0</td>\n",
       "      <td>2022-03-16</td>\n",
       "      <td>Male</td>\n",
       "      <td>172.928571</td>\n",
       "      <td>101.000000</td>\n",
       "      <td>108.0</td>\n",
       "      <td>131.0</td>\n",
       "      <td>364.200000</td>\n",
       "      <td>Jay</td>\n",
       "      <td>Jony</td>\n",
       "    </tr>\n",
       "    <tr>\n",
       "      <th>8</th>\n",
       "      <td>45.0</td>\n",
       "      <td>2022-03-16</td>\n",
       "      <td>Female</td>\n",
       "      <td>174.000000</td>\n",
       "      <td>90.000000</td>\n",
       "      <td>100.0</td>\n",
       "      <td>119.0</td>\n",
       "      <td>282.000000</td>\n",
       "      <td>Shyam</td>\n",
       "      <td>Catherine</td>\n",
       "    </tr>\n",
       "    <tr>\n",
       "      <th>9</th>\n",
       "      <td>50.0</td>\n",
       "      <td>2022-03-16</td>\n",
       "      <td>Male</td>\n",
       "      <td>169.000000</td>\n",
       "      <td>86.071429</td>\n",
       "      <td>130.0</td>\n",
       "      <td>101.0</td>\n",
       "      <td>300.000000</td>\n",
       "      <td>Neha</td>\n",
       "      <td>Catherine</td>\n",
       "    </tr>\n",
       "    <tr>\n",
       "      <th>10</th>\n",
       "      <td>45.0</td>\n",
       "      <td>2022-03-16</td>\n",
       "      <td>Female</td>\n",
       "      <td>172.928571</td>\n",
       "      <td>81.000000</td>\n",
       "      <td>105.0</td>\n",
       "      <td>132.0</td>\n",
       "      <td>246.000000</td>\n",
       "      <td>Mehru</td>\n",
       "      <td>Catherine</td>\n",
       "    </tr>\n",
       "    <tr>\n",
       "      <th>11</th>\n",
       "      <td>60.0</td>\n",
       "      <td>2022-03-16</td>\n",
       "      <td>Female</td>\n",
       "      <td>159.000000</td>\n",
       "      <td>80.000000</td>\n",
       "      <td>102.0</td>\n",
       "      <td>126.0</td>\n",
       "      <td>334.500000</td>\n",
       "      <td>Dipa</td>\n",
       "      <td>Catherine</td>\n",
       "    </tr>\n",
       "    <tr>\n",
       "      <th>12</th>\n",
       "      <td>45.0</td>\n",
       "      <td>2022-03-16</td>\n",
       "      <td>Male</td>\n",
       "      <td>192.000000</td>\n",
       "      <td>91.000000</td>\n",
       "      <td>100.0</td>\n",
       "      <td>120.0</td>\n",
       "      <td>250.000000</td>\n",
       "      <td>Jim</td>\n",
       "      <td>Jony</td>\n",
       "    </tr>\n",
       "    <tr>\n",
       "      <th>13</th>\n",
       "      <td>45.0</td>\n",
       "      <td>2022-03-16</td>\n",
       "      <td>Male</td>\n",
       "      <td>155.000000</td>\n",
       "      <td>51.000000</td>\n",
       "      <td>92.0</td>\n",
       "      <td>118.0</td>\n",
       "      <td>241.000000</td>\n",
       "      <td>Divya</td>\n",
       "      <td>Catherine</td>\n",
       "    </tr>\n",
       "    <tr>\n",
       "      <th>14</th>\n",
       "      <td>50.0</td>\n",
       "      <td>2022-03-16</td>\n",
       "      <td>Gender</td>\n",
       "      <td>191.000000</td>\n",
       "      <td>79.000000</td>\n",
       "      <td>103.0</td>\n",
       "      <td>132.0</td>\n",
       "      <td>288.085714</td>\n",
       "      <td>Liya</td>\n",
       "      <td>Catherine</td>\n",
       "    </tr>\n",
       "    <tr>\n",
       "      <th>15</th>\n",
       "      <td>60.0</td>\n",
       "      <td>2022-03-16</td>\n",
       "      <td>Male</td>\n",
       "      <td>153.000000</td>\n",
       "      <td>70.000000</td>\n",
       "      <td>97.0</td>\n",
       "      <td>132.0</td>\n",
       "      <td>280.000000</td>\n",
       "      <td>Jack</td>\n",
       "      <td>Jony</td>\n",
       "    </tr>\n",
       "  </tbody>\n",
       "</table>\n",
       "</div>"
      ],
      "text/plain": [
       "    Duration       Date  Gender      Height      Weight  Pulse  Maxpulse  \\\n",
       "0       60.0 2022-03-16    Male  174.000000   96.000000  104.0     132.0   \n",
       "1       60.0 2022-03-16  Female  189.000000   87.000000   98.0     123.0   \n",
       "2       60.0 2022-03-16  Female  185.000000  110.000000   98.0     120.0   \n",
       "3       50.0 2022-03-16    Male  195.000000  104.000000  100.0     120.0   \n",
       "4       60.0 2022-03-16    Male  149.000000   61.000000   90.0     112.0   \n",
       "5       60.0 2022-03-16    Male  189.000000  104.000000  103.0     123.0   \n",
       "6       60.0 2022-03-16    Male  147.000000   86.071429   97.0     125.0   \n",
       "7       60.0 2022-03-16    Male  172.928571  101.000000  108.0     131.0   \n",
       "8       45.0 2022-03-16  Female  174.000000   90.000000  100.0     119.0   \n",
       "9       50.0 2022-03-16    Male  169.000000   86.071429  130.0     101.0   \n",
       "10      45.0 2022-03-16  Female  172.928571   81.000000  105.0     132.0   \n",
       "11      60.0 2022-03-16  Female  159.000000   80.000000  102.0     126.0   \n",
       "12      45.0 2022-03-16    Male  192.000000   91.000000  100.0     120.0   \n",
       "13      45.0 2022-03-16    Male  155.000000   51.000000   92.0     118.0   \n",
       "14      50.0 2022-03-16  Gender  191.000000   79.000000  103.0     132.0   \n",
       "15      60.0 2022-03-16    Male  153.000000   70.000000   97.0     132.0   \n",
       "\n",
       "      Calories     Name      Doctor  \n",
       "0   379.300000  Christy   Catherine  \n",
       "1   275.000000   Mukund   Catherine  \n",
       "2   215.200000  Aswathy   Catherine  \n",
       "3   300.000000     Phil   Catherine  \n",
       "4   288.085714    Vince   Catherine  \n",
       "5   323.000000  Akshaya        Jony  \n",
       "6   243.000000     Ajay        Jony  \n",
       "7   364.200000      Jay        Jony  \n",
       "8   282.000000    Shyam   Catherine  \n",
       "9   300.000000     Neha   Catherine  \n",
       "10  246.000000    Mehru   Catherine  \n",
       "11  334.500000     Dipa   Catherine  \n",
       "12  250.000000      Jim        Jony  \n",
       "13  241.000000    Divya   Catherine  \n",
       "14  288.085714     Liya   Catherine  \n",
       "15  280.000000     Jack        Jony  "
      ]
     },
     "execution_count": 33,
     "metadata": {},
     "output_type": "execute_result"
    }
   ],
   "source": [
    "data.loc[data['Duration']>100,'Duration']=(data.loc[data['Duration']>100,'Duration'].astype(float)/10).astype(int)\n",
    "#replacing incorrect values in Duration by correct values.\n",
    "data"
   ]
  },
  {
   "cell_type": "code",
   "execution_count": 34,
   "id": "0c4f226c",
   "metadata": {},
   "outputs": [
    {
     "data": {
      "text/html": [
       "<div>\n",
       "<style scoped>\n",
       "    .dataframe tbody tr th:only-of-type {\n",
       "        vertical-align: middle;\n",
       "    }\n",
       "\n",
       "    .dataframe tbody tr th {\n",
       "        vertical-align: top;\n",
       "    }\n",
       "\n",
       "    .dataframe thead th {\n",
       "        text-align: right;\n",
       "    }\n",
       "</style>\n",
       "<table border=\"1\" class=\"dataframe\">\n",
       "  <thead>\n",
       "    <tr style=\"text-align: right;\">\n",
       "      <th></th>\n",
       "      <th>Duration</th>\n",
       "      <th>Date</th>\n",
       "      <th>Gender</th>\n",
       "      <th>Height</th>\n",
       "      <th>Weight</th>\n",
       "      <th>Pulse</th>\n",
       "      <th>Maxpulse</th>\n",
       "      <th>Calories</th>\n",
       "      <th>Name</th>\n",
       "      <th>Doctor</th>\n",
       "    </tr>\n",
       "  </thead>\n",
       "  <tbody>\n",
       "    <tr>\n",
       "      <th>0</th>\n",
       "      <td>60.0</td>\n",
       "      <td>2022-03-16</td>\n",
       "      <td>Male</td>\n",
       "      <td>174.000000</td>\n",
       "      <td>96.000000</td>\n",
       "      <td>104.0</td>\n",
       "      <td>132.0</td>\n",
       "      <td>379.300000</td>\n",
       "      <td>Christy</td>\n",
       "      <td>Catherine</td>\n",
       "    </tr>\n",
       "    <tr>\n",
       "      <th>1</th>\n",
       "      <td>60.0</td>\n",
       "      <td>2022-03-16</td>\n",
       "      <td>Female</td>\n",
       "      <td>189.000000</td>\n",
       "      <td>87.000000</td>\n",
       "      <td>98.0</td>\n",
       "      <td>123.0</td>\n",
       "      <td>275.000000</td>\n",
       "      <td>Mukund</td>\n",
       "      <td>Catherine</td>\n",
       "    </tr>\n",
       "    <tr>\n",
       "      <th>2</th>\n",
       "      <td>60.0</td>\n",
       "      <td>2022-03-16</td>\n",
       "      <td>Female</td>\n",
       "      <td>185.000000</td>\n",
       "      <td>110.000000</td>\n",
       "      <td>98.0</td>\n",
       "      <td>120.0</td>\n",
       "      <td>215.200000</td>\n",
       "      <td>Aswathy</td>\n",
       "      <td>Catherine</td>\n",
       "    </tr>\n",
       "    <tr>\n",
       "      <th>3</th>\n",
       "      <td>50.0</td>\n",
       "      <td>2022-03-16</td>\n",
       "      <td>Male</td>\n",
       "      <td>195.000000</td>\n",
       "      <td>104.000000</td>\n",
       "      <td>100.0</td>\n",
       "      <td>120.0</td>\n",
       "      <td>300.000000</td>\n",
       "      <td>Phil</td>\n",
       "      <td>Catherine</td>\n",
       "    </tr>\n",
       "    <tr>\n",
       "      <th>4</th>\n",
       "      <td>60.0</td>\n",
       "      <td>2022-03-16</td>\n",
       "      <td>Male</td>\n",
       "      <td>149.000000</td>\n",
       "      <td>61.000000</td>\n",
       "      <td>90.0</td>\n",
       "      <td>112.0</td>\n",
       "      <td>288.085714</td>\n",
       "      <td>Vince</td>\n",
       "      <td>Catherine</td>\n",
       "    </tr>\n",
       "    <tr>\n",
       "      <th>5</th>\n",
       "      <td>60.0</td>\n",
       "      <td>2022-03-16</td>\n",
       "      <td>Male</td>\n",
       "      <td>189.000000</td>\n",
       "      <td>104.000000</td>\n",
       "      <td>103.0</td>\n",
       "      <td>123.0</td>\n",
       "      <td>323.000000</td>\n",
       "      <td>Akshaya</td>\n",
       "      <td>Jony</td>\n",
       "    </tr>\n",
       "    <tr>\n",
       "      <th>6</th>\n",
       "      <td>60.0</td>\n",
       "      <td>2022-03-16</td>\n",
       "      <td>Male</td>\n",
       "      <td>147.000000</td>\n",
       "      <td>86.071429</td>\n",
       "      <td>97.0</td>\n",
       "      <td>125.0</td>\n",
       "      <td>243.000000</td>\n",
       "      <td>Ajay</td>\n",
       "      <td>Jony</td>\n",
       "    </tr>\n",
       "    <tr>\n",
       "      <th>7</th>\n",
       "      <td>60.0</td>\n",
       "      <td>2022-03-16</td>\n",
       "      <td>Male</td>\n",
       "      <td>172.928571</td>\n",
       "      <td>101.000000</td>\n",
       "      <td>108.0</td>\n",
       "      <td>131.0</td>\n",
       "      <td>364.200000</td>\n",
       "      <td>Jay</td>\n",
       "      <td>Jony</td>\n",
       "    </tr>\n",
       "    <tr>\n",
       "      <th>8</th>\n",
       "      <td>45.0</td>\n",
       "      <td>2022-03-16</td>\n",
       "      <td>Female</td>\n",
       "      <td>174.000000</td>\n",
       "      <td>90.000000</td>\n",
       "      <td>100.0</td>\n",
       "      <td>119.0</td>\n",
       "      <td>282.000000</td>\n",
       "      <td>Shyam</td>\n",
       "      <td>Catherine</td>\n",
       "    </tr>\n",
       "    <tr>\n",
       "      <th>9</th>\n",
       "      <td>50.0</td>\n",
       "      <td>2022-03-16</td>\n",
       "      <td>Male</td>\n",
       "      <td>169.000000</td>\n",
       "      <td>86.071429</td>\n",
       "      <td>130.0</td>\n",
       "      <td>101.0</td>\n",
       "      <td>300.000000</td>\n",
       "      <td>Neha</td>\n",
       "      <td>Catherine</td>\n",
       "    </tr>\n",
       "    <tr>\n",
       "      <th>10</th>\n",
       "      <td>45.0</td>\n",
       "      <td>2022-03-16</td>\n",
       "      <td>Female</td>\n",
       "      <td>172.928571</td>\n",
       "      <td>81.000000</td>\n",
       "      <td>105.0</td>\n",
       "      <td>132.0</td>\n",
       "      <td>246.000000</td>\n",
       "      <td>Mehru</td>\n",
       "      <td>Catherine</td>\n",
       "    </tr>\n",
       "    <tr>\n",
       "      <th>11</th>\n",
       "      <td>60.0</td>\n",
       "      <td>2022-03-16</td>\n",
       "      <td>Female</td>\n",
       "      <td>159.000000</td>\n",
       "      <td>80.000000</td>\n",
       "      <td>102.0</td>\n",
       "      <td>126.0</td>\n",
       "      <td>334.500000</td>\n",
       "      <td>Dipa</td>\n",
       "      <td>Catherine</td>\n",
       "    </tr>\n",
       "    <tr>\n",
       "      <th>12</th>\n",
       "      <td>45.0</td>\n",
       "      <td>2022-03-16</td>\n",
       "      <td>Male</td>\n",
       "      <td>192.000000</td>\n",
       "      <td>91.000000</td>\n",
       "      <td>100.0</td>\n",
       "      <td>120.0</td>\n",
       "      <td>250.000000</td>\n",
       "      <td>Jim</td>\n",
       "      <td>Jony</td>\n",
       "    </tr>\n",
       "    <tr>\n",
       "      <th>13</th>\n",
       "      <td>45.0</td>\n",
       "      <td>2022-03-16</td>\n",
       "      <td>Male</td>\n",
       "      <td>155.000000</td>\n",
       "      <td>51.000000</td>\n",
       "      <td>92.0</td>\n",
       "      <td>118.0</td>\n",
       "      <td>241.000000</td>\n",
       "      <td>Divya</td>\n",
       "      <td>Catherine</td>\n",
       "    </tr>\n",
       "    <tr>\n",
       "      <th>14</th>\n",
       "      <td>50.0</td>\n",
       "      <td>2022-03-16</td>\n",
       "      <td>Female</td>\n",
       "      <td>191.000000</td>\n",
       "      <td>79.000000</td>\n",
       "      <td>103.0</td>\n",
       "      <td>132.0</td>\n",
       "      <td>288.085714</td>\n",
       "      <td>Liya</td>\n",
       "      <td>Catherine</td>\n",
       "    </tr>\n",
       "    <tr>\n",
       "      <th>15</th>\n",
       "      <td>60.0</td>\n",
       "      <td>2022-03-16</td>\n",
       "      <td>Male</td>\n",
       "      <td>153.000000</td>\n",
       "      <td>70.000000</td>\n",
       "      <td>97.0</td>\n",
       "      <td>132.0</td>\n",
       "      <td>280.000000</td>\n",
       "      <td>Jack</td>\n",
       "      <td>Jony</td>\n",
       "    </tr>\n",
       "  </tbody>\n",
       "</table>\n",
       "</div>"
      ],
      "text/plain": [
       "    Duration       Date  Gender      Height      Weight  Pulse  Maxpulse  \\\n",
       "0       60.0 2022-03-16    Male  174.000000   96.000000  104.0     132.0   \n",
       "1       60.0 2022-03-16  Female  189.000000   87.000000   98.0     123.0   \n",
       "2       60.0 2022-03-16  Female  185.000000  110.000000   98.0     120.0   \n",
       "3       50.0 2022-03-16    Male  195.000000  104.000000  100.0     120.0   \n",
       "4       60.0 2022-03-16    Male  149.000000   61.000000   90.0     112.0   \n",
       "5       60.0 2022-03-16    Male  189.000000  104.000000  103.0     123.0   \n",
       "6       60.0 2022-03-16    Male  147.000000   86.071429   97.0     125.0   \n",
       "7       60.0 2022-03-16    Male  172.928571  101.000000  108.0     131.0   \n",
       "8       45.0 2022-03-16  Female  174.000000   90.000000  100.0     119.0   \n",
       "9       50.0 2022-03-16    Male  169.000000   86.071429  130.0     101.0   \n",
       "10      45.0 2022-03-16  Female  172.928571   81.000000  105.0     132.0   \n",
       "11      60.0 2022-03-16  Female  159.000000   80.000000  102.0     126.0   \n",
       "12      45.0 2022-03-16    Male  192.000000   91.000000  100.0     120.0   \n",
       "13      45.0 2022-03-16    Male  155.000000   51.000000   92.0     118.0   \n",
       "14      50.0 2022-03-16  Female  191.000000   79.000000  103.0     132.0   \n",
       "15      60.0 2022-03-16    Male  153.000000   70.000000   97.0     132.0   \n",
       "\n",
       "      Calories     Name      Doctor  \n",
       "0   379.300000  Christy   Catherine  \n",
       "1   275.000000   Mukund   Catherine  \n",
       "2   215.200000  Aswathy   Catherine  \n",
       "3   300.000000     Phil   Catherine  \n",
       "4   288.085714    Vince   Catherine  \n",
       "5   323.000000  Akshaya        Jony  \n",
       "6   243.000000     Ajay        Jony  \n",
       "7   364.200000      Jay        Jony  \n",
       "8   282.000000    Shyam   Catherine  \n",
       "9   300.000000     Neha   Catherine  \n",
       "10  246.000000    Mehru   Catherine  \n",
       "11  334.500000     Dipa   Catherine  \n",
       "12  250.000000      Jim        Jony  \n",
       "13  241.000000    Divya   Catherine  \n",
       "14  288.085714     Liya   Catherine  \n",
       "15  280.000000     Jack        Jony  "
      ]
     },
     "execution_count": 34,
     "metadata": {},
     "output_type": "execute_result"
    }
   ],
   "source": [
    "data.loc[data['Gender']=='Gender','Gender']='Female'\n",
    "#replacing incorrect value in Gender by correct value.\n",
    "data"
   ]
  },
  {
   "cell_type": "markdown",
   "id": "d8fa6a0a",
   "metadata": {},
   "source": [
    "# Nominal Analysis"
   ]
  },
  {
   "cell_type": "code",
   "execution_count": 35,
   "id": "f4255aa0",
   "metadata": {},
   "outputs": [],
   "source": [
    "import seaborn as sns\n",
    "import matplotlib.pyplot as plt"
   ]
  },
  {
   "cell_type": "code",
   "execution_count": 36,
   "id": "0afc4373",
   "metadata": {},
   "outputs": [
    {
     "data": {
      "text/plain": [
       " Catherine    11\n",
       " Jony          5\n",
       "Name: Doctor, dtype: int64"
      ]
     },
     "execution_count": 36,
     "metadata": {},
     "output_type": "execute_result"
    }
   ],
   "source": [
    "data['Doctor'].value_counts() "
   ]
  },
  {
   "cell_type": "code",
   "execution_count": 37,
   "id": "02708ee7",
   "metadata": {},
   "outputs": [
    {
     "data": {
      "text/plain": [
       "<AxesSubplot:xlabel='Doctor', ylabel='count'>"
      ]
     },
     "execution_count": 37,
     "metadata": {},
     "output_type": "execute_result"
    },
    {
     "data": {
      "image/png": "[encoded data removed]",
      "text/plain": [
       "<Figure size 432x288 with 1 Axes>"
      ]
     },
     "metadata": {
      "needs_background": "light"
     },
     "output_type": "display_data"
    }
   ],
   "source": [
    "sns.countplot(x='Doctor',data=data)"
   ]
  },
  {
   "cell_type": "raw",
   "id": "08c3e38a",
   "metadata": {},
   "source": [
    "Catherine Doctor treated more patients than Jony Doctor."
   ]
  },
  {
   "cell_type": "code",
   "execution_count": 38,
   "id": "9c144730",
   "metadata": {},
   "outputs": [
    {
     "data": {
      "text/plain": [
       "<AxesSubplot:xlabel='Gender', ylabel='count'>"
      ]
     },
     "execution_count": 38,
     "metadata": {},
     "output_type": "execute_result"
    },
    {
     "data": {
      "image/png": "[encoded data removed]",
      "text/plain": [
       "<Figure size 432x288 with 1 Axes>"
      ]
     },
     "metadata": {
      "needs_background": "light"
     },
     "output_type": "display_data"
    }
   ],
   "source": [
    "sns.countplot(x='Gender',data=data)"
   ]
  },
  {
   "cell_type": "raw",
   "id": "236406e4",
   "metadata": {},
   "source": [
    "There are more Male patients than Female."
   ]
  },
  {
   "cell_type": "code",
   "execution_count": 39,
   "id": "f8c7c029",
   "metadata": {},
   "outputs": [
    {
     "data": {
      "text/plain": [
       "<AxesSubplot:xlabel='Duration', ylabel='count'>"
      ]
     },
     "execution_count": 39,
     "metadata": {},
     "output_type": "execute_result"
    },
    {
     "data": {
      "image/png": "[encoded data removed]",
      "text/plain": [
       "<Figure size 432x288 with 1 Axes>"
      ]
     },
     "metadata": {
      "needs_background": "light"
     },
     "output_type": "display_data"
    }
   ],
   "source": [
    "sns.countplot(x='Duration',data=data)"
   ]
  },
  {
   "cell_type": "code",
   "execution_count": 40,
   "id": "a3bc4025",
   "metadata": {},
   "outputs": [
    {
     "data": {
      "text/plain": [
       "<AxesSubplot:xlabel='Doctor', ylabel='count'>"
      ]
     },
     "execution_count": 40,
     "metadata": {},
     "output_type": "execute_result"
    },
    {
     "data": {
      "image/png": "[encoded data removed]",
      "text/plain": [
       "<Figure size 432x288 with 1 Axes>"
      ]
     },
     "metadata": {
      "needs_background": "light"
     },
     "output_type": "display_data"
    }
   ],
   "source": [
    "sns.countplot(x='Doctor',hue='Gender',data=data)"
   ]
  },
  {
   "cell_type": "raw",
   "id": "3454f20b",
   "metadata": {},
   "source": [
    "Catherine Doctor treated both Female and Male patients .Jony Doctor treated only Male patients."
   ]
  },
  {
   "cell_type": "code",
   "execution_count": 41,
   "id": "5310fe03",
   "metadata": {},
   "outputs": [
    {
     "data": {
      "text/plain": [
       "<AxesSubplot:xlabel='Gender', ylabel='count'>"
      ]
     },
     "execution_count": 41,
     "metadata": {},
     "output_type": "execute_result"
    },
    {
     "data": {
      "image/png": "[encoded data removed]",
      "text/plain": [
       "<Figure size 432x288 with 1 Axes>"
      ]
     },
     "metadata": {
      "needs_background": "light"
     },
     "output_type": "display_data"
    }
   ],
   "source": [
    "sns.countplot(x='Gender',hue='Duration',data=data)"
   ]
  },
  {
   "cell_type": "code",
   "execution_count": 42,
   "id": "fc828122",
   "metadata": {},
   "outputs": [
    {
     "data": {
      "text/plain": [
       "<AxesSubplot:xlabel='Doctor', ylabel='count'>"
      ]
     },
     "execution_count": 42,
     "metadata": {},
     "output_type": "execute_result"
    },
    {
     "data": {
      "image/png": "[encoded data removed]",
      "text/plain": [
       "<Figure size 432x288 with 1 Axes>"
      ]
     },
     "metadata": {
      "needs_background": "light"
     },
     "output_type": "display_data"
    }
   ],
   "source": [
    "sns.countplot(x='Doctor',hue='Duration',data=data)"
   ]
  },
  {
   "cell_type": "code",
   "execution_count": 43,
   "id": "fca388ad",
   "metadata": {},
   "outputs": [
    {
     "data": {
      "text/plain": [
       "<AxesSubplot:xlabel='Gender', ylabel='Height'>"
      ]
     },
     "execution_count": 43,
     "metadata": {},
     "output_type": "execute_result"
    },
    {
     "data": {
      "image/png": "[encoded data removed]",
      "text/plain": [
       "<Figure size 432x288 with 1 Axes>"
      ]
     },
     "metadata": {
      "needs_background": "light"
     },
     "output_type": "display_data"
    }
   ],
   "source": [
    "\n",
    "sns.barplot(x='Gender',y='Height',data=data)"
   ]
  },
  {
   "cell_type": "code",
   "execution_count": 44,
   "id": "e17221e6",
   "metadata": {},
   "outputs": [
    {
     "data": {
      "text/plain": [
       "<AxesSubplot:xlabel='Gender', ylabel='Weight'>"
      ]
     },
     "execution_count": 44,
     "metadata": {},
     "output_type": "execute_result"
    },
    {
     "data": {
      "image/png": "[encoded data removed]",
      "text/plain": [
       "<Figure size 432x288 with 1 Axes>"
      ]
     },
     "metadata": {
      "needs_background": "light"
     },
     "output_type": "display_data"
    }
   ],
   "source": [
    "sns.barplot(x='Gender',y='Weight',data=data)"
   ]
  },
  {
   "cell_type": "code",
   "execution_count": 45,
   "id": "68412099",
   "metadata": {},
   "outputs": [
    {
     "data": {
      "text/plain": [
       "<AxesSubplot:xlabel='Gender', ylabel='Pulse'>"
      ]
     },
     "execution_count": 45,
     "metadata": {},
     "output_type": "execute_result"
    },
    {
     "data": {
      "image/png": "[encoded data removed]",
      "text/plain": [
       "<Figure size 432x288 with 1 Axes>"
      ]
     },
     "metadata": {
      "needs_background": "light"
     },
     "output_type": "display_data"
    }
   ],
   "source": [
    "sns.barplot(x='Gender',y='Pulse',data=data)\n",
    "     "
   ]
  },
  {
   "cell_type": "code",
   "execution_count": 46,
   "id": "5ace50a2",
   "metadata": {},
   "outputs": [
    {
     "data": {
      "text/plain": [
       "<AxesSubplot:xlabel='Gender', ylabel='Maxpulse'>"
      ]
     },
     "execution_count": 46,
     "metadata": {},
     "output_type": "execute_result"
    },
    {
     "data": {
      "image/png": "[encoded data removed]",
      "text/plain": [
       "<Figure size 432x288 with 1 Axes>"
      ]
     },
     "metadata": {
      "needs_background": "light"
     },
     "output_type": "display_data"
    }
   ],
   "source": [
    "sns.barplot(x='Gender',y='Maxpulse',data=data)"
   ]
  },
  {
   "cell_type": "code",
   "execution_count": 47,
   "id": "998243ff",
   "metadata": {},
   "outputs": [
    {
     "data": {
      "text/plain": [
       "<AxesSubplot:xlabel='Gender', ylabel='Calories'>"
      ]
     },
     "execution_count": 47,
     "metadata": {},
     "output_type": "execute_result"
    },
    {
     "data": {
      "image/png": "[encoded data removed]",
      "text/plain": [
       "<Figure size 432x288 with 1 Axes>"
      ]
     },
     "metadata": {
      "needs_background": "light"
     },
     "output_type": "display_data"
    }
   ],
   "source": [
    "sns.barplot(x='Gender',y='Calories',data=data)\n",
    "     "
   ]
  },
  {
   "cell_type": "markdown",
   "id": "7db9dbc5",
   "metadata": {},
   "source": [
    "# Continuous Analysis"
   ]
  },
  {
   "cell_type": "code",
   "execution_count": 48,
   "id": "3fef68e6",
   "metadata": {},
   "outputs": [
    {
     "data": {
      "text/html": [
       "<div>\n",
       "<style scoped>\n",
       "    .dataframe tbody tr th:only-of-type {\n",
       "        vertical-align: middle;\n",
       "    }\n",
       "\n",
       "    .dataframe tbody tr th {\n",
       "        vertical-align: top;\n",
       "    }\n",
       "\n",
       "    .dataframe thead th {\n",
       "        text-align: right;\n",
       "    }\n",
       "</style>\n",
       "<table border=\"1\" class=\"dataframe\">\n",
       "  <thead>\n",
       "    <tr style=\"text-align: right;\">\n",
       "      <th></th>\n",
       "      <th>Duration</th>\n",
       "      <th>Height</th>\n",
       "      <th>Weight</th>\n",
       "      <th>Pulse</th>\n",
       "      <th>Maxpulse</th>\n",
       "      <th>Calories</th>\n",
       "    </tr>\n",
       "  </thead>\n",
       "  <tbody>\n",
       "    <tr>\n",
       "      <th>count</th>\n",
       "      <td>16.000000</td>\n",
       "      <td>16.000000</td>\n",
       "      <td>16.000000</td>\n",
       "      <td>16.000000</td>\n",
       "      <td>16.000000</td>\n",
       "      <td>16.000000</td>\n",
       "    </tr>\n",
       "    <tr>\n",
       "      <th>mean</th>\n",
       "      <td>54.375000</td>\n",
       "      <td>172.928571</td>\n",
       "      <td>86.071429</td>\n",
       "      <td>101.687500</td>\n",
       "      <td>122.875000</td>\n",
       "      <td>288.085714</td>\n",
       "    </tr>\n",
       "    <tr>\n",
       "      <th>std</th>\n",
       "      <td>6.800735</td>\n",
       "      <td>16.360376</td>\n",
       "      <td>15.930952</td>\n",
       "      <td>8.837185</td>\n",
       "      <td>8.460693</td>\n",
       "      <td>45.334400</td>\n",
       "    </tr>\n",
       "    <tr>\n",
       "      <th>min</th>\n",
       "      <td>45.000000</td>\n",
       "      <td>147.000000</td>\n",
       "      <td>51.000000</td>\n",
       "      <td>90.000000</td>\n",
       "      <td>101.000000</td>\n",
       "      <td>215.200000</td>\n",
       "    </tr>\n",
       "    <tr>\n",
       "      <th>25%</th>\n",
       "      <td>48.750000</td>\n",
       "      <td>158.000000</td>\n",
       "      <td>79.750000</td>\n",
       "      <td>97.750000</td>\n",
       "      <td>119.750000</td>\n",
       "      <td>249.000000</td>\n",
       "    </tr>\n",
       "    <tr>\n",
       "      <th>50%</th>\n",
       "      <td>60.000000</td>\n",
       "      <td>173.464286</td>\n",
       "      <td>86.535714</td>\n",
       "      <td>100.000000</td>\n",
       "      <td>123.000000</td>\n",
       "      <td>285.042857</td>\n",
       "    </tr>\n",
       "    <tr>\n",
       "      <th>75%</th>\n",
       "      <td>60.000000</td>\n",
       "      <td>189.000000</td>\n",
       "      <td>97.250000</td>\n",
       "      <td>103.250000</td>\n",
       "      <td>131.250000</td>\n",
       "      <td>305.750000</td>\n",
       "    </tr>\n",
       "    <tr>\n",
       "      <th>max</th>\n",
       "      <td>60.000000</td>\n",
       "      <td>195.000000</td>\n",
       "      <td>110.000000</td>\n",
       "      <td>130.000000</td>\n",
       "      <td>132.000000</td>\n",
       "      <td>379.300000</td>\n",
       "    </tr>\n",
       "  </tbody>\n",
       "</table>\n",
       "</div>"
      ],
      "text/plain": [
       "        Duration      Height      Weight       Pulse    Maxpulse    Calories\n",
       "count  16.000000   16.000000   16.000000   16.000000   16.000000   16.000000\n",
       "mean   54.375000  172.928571   86.071429  101.687500  122.875000  288.085714\n",
       "std     6.800735   16.360376   15.930952    8.837185    8.460693   45.334400\n",
       "min    45.000000  147.000000   51.000000   90.000000  101.000000  215.200000\n",
       "25%    48.750000  158.000000   79.750000   97.750000  119.750000  249.000000\n",
       "50%    60.000000  173.464286   86.535714  100.000000  123.000000  285.042857\n",
       "75%    60.000000  189.000000   97.250000  103.250000  131.250000  305.750000\n",
       "max    60.000000  195.000000  110.000000  130.000000  132.000000  379.300000"
      ]
     },
     "execution_count": 48,
     "metadata": {},
     "output_type": "execute_result"
    }
   ],
   "source": [
    "data.describe()"
   ]
  },
  {
   "cell_type": "code",
   "execution_count": 49,
   "id": "51221332",
   "metadata": {},
   "outputs": [
    {
     "data": {
      "text/plain": [
       "<AxesSubplot:ylabel='Frequency'>"
      ]
     },
     "execution_count": 49,
     "metadata": {},
     "output_type": "execute_result"
    },
    {
     "data": {
      "image/png": "[encoded data removed]",
      "text/plain": [
       "<Figure size 432x288 with 1 Axes>"
      ]
     },
     "metadata": {
      "needs_background": "light"
     },
     "output_type": "display_data"
    }
   ],
   "source": [
    "data['Height'].plot.hist()"
   ]
  },
  {
   "cell_type": "code",
   "execution_count": 50,
   "id": "66d0d141",
   "metadata": {},
   "outputs": [
    {
     "data": {
      "text/plain": [
       "<AxesSubplot:ylabel='Height'>"
      ]
     },
     "execution_count": 50,
     "metadata": {},
     "output_type": "execute_result"
    },
    {
     "data": {
      "image/png": "[encoded data removed]",
      "text/plain": [
       "<Figure size 432x288 with 1 Axes>"
      ]
     },
     "metadata": {
      "needs_background": "light"
     },
     "output_type": "display_data"
    }
   ],
   "source": [
    "sns.boxplot(y=data['Height'])"
   ]
  },
  {
   "cell_type": "raw",
   "id": "fa430185",
   "metadata": {},
   "source": [
    "There are no outliers in Height."
   ]
  },
  {
   "cell_type": "code",
   "execution_count": 51,
   "id": "f0a542ca",
   "metadata": {},
   "outputs": [
    {
     "data": {
      "text/plain": [
       "<AxesSubplot:ylabel='Frequency'>"
      ]
     },
     "execution_count": 51,
     "metadata": {},
     "output_type": "execute_result"
    },
    {
     "data": {
      "image/png": "[encoded data removed]",
      "text/plain": [
       "<Figure size 432x288 with 1 Axes>"
      ]
     },
     "metadata": {
      "needs_background": "light"
     },
     "output_type": "display_data"
    }
   ],
   "source": [
    "data['Weight'].plot.hist()"
   ]
  },
  {
   "cell_type": "code",
   "execution_count": 52,
   "id": "9e9a7292",
   "metadata": {},
   "outputs": [
    {
     "data": {
      "text/plain": [
       "<AxesSubplot:ylabel='Weight'>"
      ]
     },
     "execution_count": 52,
     "metadata": {},
     "output_type": "execute_result"
    },
    {
     "data": {
      "image/png": "[encoded data removed]",
      "text/plain": [
       "<Figure size 432x288 with 1 Axes>"
      ]
     },
     "metadata": {
      "needs_background": "light"
     },
     "output_type": "display_data"
    }
   ],
   "source": [
    "sns.boxplot(y=data['Weight'])"
   ]
  },
  {
   "cell_type": "raw",
   "id": "d29d346c",
   "metadata": {},
   "source": [
    "There is one outlier in Weight."
   ]
  },
  {
   "cell_type": "code",
   "execution_count": 53,
   "id": "6e185efe",
   "metadata": {},
   "outputs": [
    {
     "data": {
      "text/plain": [
       "<AxesSubplot:xlabel='Gender', ylabel='Calories'>"
      ]
     },
     "execution_count": 53,
     "metadata": {},
     "output_type": "execute_result"
    },
    {
     "data": {
      "image/png": "[encoded data removed]",
      "text/plain": [
       "<Figure size 432x288 with 1 Axes>"
      ]
     },
     "metadata": {
      "needs_background": "light"
     },
     "output_type": "display_data"
    }
   ],
   "source": [
    "sns.boxplot(y='Calories',data=data,x='Gender')"
   ]
  },
  {
   "cell_type": "code",
   "execution_count": 54,
   "id": "85e496b0",
   "metadata": {},
   "outputs": [
    {
     "data": {
      "text/plain": [
       "<AxesSubplot:xlabel='Gender', ylabel='Height'>"
      ]
     },
     "execution_count": 54,
     "metadata": {},
     "output_type": "execute_result"
    },
    {
     "data": {
      "image/png": "[encoded data removed]",
      "text/plain": [
       "<Figure size 432x288 with 1 Axes>"
      ]
     },
     "metadata": {
      "needs_background": "light"
     },
     "output_type": "display_data"
    }
   ],
   "source": [
    "sns.boxplot(y='Height',data=data,x='Gender')"
   ]
  },
  {
   "cell_type": "code",
   "execution_count": 55,
   "id": "135da811",
   "metadata": {},
   "outputs": [
    {
     "data": {
      "text/plain": [
       "<AxesSubplot:xlabel='Gender', ylabel='Weight'>"
      ]
     },
     "execution_count": 55,
     "metadata": {},
     "output_type": "execute_result"
    },
    {
     "data": {
      "image/png": "[encoded data removed]",
      "text/plain": [
       "<Figure size 432x288 with 1 Axes>"
      ]
     },
     "metadata": {
      "needs_background": "light"
     },
     "output_type": "display_data"
    }
   ],
   "source": [
    "sns.boxplot(y='Weight',data=data,x='Gender')"
   ]
  },
  {
   "cell_type": "code",
   "execution_count": 56,
   "id": "5521cb50",
   "metadata": {},
   "outputs": [
    {
     "data": {
      "text/plain": [
       "<AxesSubplot:xlabel='Gender', ylabel='Pulse'>"
      ]
     },
     "execution_count": 56,
     "metadata": {},
     "output_type": "execute_result"
    },
    {
     "data": {
      "image/png": "[encoded data removed]",
      "text/plain": [
       "<Figure size 432x288 with 1 Axes>"
      ]
     },
     "metadata": {
      "needs_background": "light"
     },
     "output_type": "display_data"
    }
   ],
   "source": [
    "sns.boxplot(y='Pulse',data=data,x='Gender')\n",
    "     "
   ]
  },
  {
   "cell_type": "code",
   "execution_count": 57,
   "id": "83091141",
   "metadata": {},
   "outputs": [
    {
     "data": {
      "text/plain": [
       "<AxesSubplot:xlabel='Gender', ylabel='Maxpulse'>"
      ]
     },
     "execution_count": 57,
     "metadata": {},
     "output_type": "execute_result"
    },
    {
     "data": {
      "image/png": "[encoded data removed]",
      "text/plain": [
       "<Figure size 432x288 with 1 Axes>"
      ]
     },
     "metadata": {
      "needs_background": "light"
     },
     "output_type": "display_data"
    }
   ],
   "source": [
    "\n",
    "sns.boxplot(y='Maxpulse',data=data,x='Gender')"
   ]
  },
  {
   "cell_type": "code",
   "execution_count": 58,
   "id": "f6303711",
   "metadata": {},
   "outputs": [
    {
     "data": {
      "text/plain": [
       "<seaborn.axisgrid.FacetGrid at 0x1970dfa33a0>"
      ]
     },
     "execution_count": 58,
     "metadata": {},
     "output_type": "execute_result"
    },
    {
     "data": {
      "image/png": "[encoded data removed]",
      "text/plain": [
       "<Figure size 360x360 with 1 Axes>"
      ]
     },
     "metadata": {
      "needs_background": "light"
     },
     "output_type": "display_data"
    }
   ],
   "source": [
    "sns.catplot(x='Duration',y='Pulse',kind=\"box\",data=data)"
   ]
  },
  {
   "cell_type": "code",
   "execution_count": 59,
   "id": "bb1a1507",
   "metadata": {},
   "outputs": [
    {
     "data": {
      "text/plain": [
       "<seaborn.axisgrid.FacetGrid at 0x1970df2f760>"
      ]
     },
     "execution_count": 59,
     "metadata": {},
     "output_type": "execute_result"
    },
    {
     "data": {
      "image/png": "[encoded data removed]",
      "text/plain": [
       "<Figure size 360x360 with 1 Axes>"
      ]
     },
     "metadata": {
      "needs_background": "light"
     },
     "output_type": "display_data"
    }
   ],
   "source": [
    "sns.catplot(x='Duration',y='Weight',kind=\"box\",data=data)"
   ]
  },
  {
   "cell_type": "code",
   "execution_count": 60,
   "id": "6ea6b01d",
   "metadata": {},
   "outputs": [
    {
     "data": {
      "text/plain": [
       "<seaborn.axisgrid.FacetGrid at 0x1970e11ae80>"
      ]
     },
     "execution_count": 60,
     "metadata": {},
     "output_type": "execute_result"
    },
    {
     "data": {
      "image/png": "[encoded data removed]",
      "text/plain": [
       "<Figure size 360x360 with 1 Axes>"
      ]
     },
     "metadata": {
      "needs_background": "light"
     },
     "output_type": "display_data"
    }
   ],
   "source": [
    "sns.catplot(x='Duration',y='Height',kind=\"box\",data=data)"
   ]
  },
  {
   "cell_type": "code",
   "execution_count": 61,
   "id": "e6a4a7b4",
   "metadata": {},
   "outputs": [
    {
     "data": {
      "text/plain": [
       "<seaborn.axisgrid.FacetGrid at 0x1970e0ad4c0>"
      ]
     },
     "execution_count": 61,
     "metadata": {},
     "output_type": "execute_result"
    },
    {
     "data": {
      "image/png": "[encoded data removed]",
      "text/plain": [
       "<Figure size 360x360 with 1 Axes>"
      ]
     },
     "metadata": {
      "needs_background": "light"
     },
     "output_type": "display_data"
    }
   ],
   "source": [
    "sns.catplot(x='Duration',y='Height',kind=\"violin\",data=data)"
   ]
  },
  {
   "cell_type": "code",
   "execution_count": 62,
   "id": "139bd43a",
   "metadata": {},
   "outputs": [
    {
     "data": {
      "text/plain": [
       "<seaborn.axisgrid.FacetGrid at 0x1970de41610>"
      ]
     },
     "execution_count": 62,
     "metadata": {},
     "output_type": "execute_result"
    },
    {
     "data": {
      "image/png": "[encoded data removed]",
      "text/plain": [
       "<Figure size 360x360 with 1 Axes>"
      ]
     },
     "metadata": {
      "needs_background": "light"
     },
     "output_type": "display_data"
    }
   ],
   "source": [
    "sns.catplot(x='Duration',y='Calories',kind=\"box\",data=data)"
   ]
  },
  {
   "cell_type": "markdown",
   "id": "ee6e9450",
   "metadata": {},
   "source": [
    "# Normality testing"
   ]
  },
  {
   "cell_type": "code",
   "execution_count": 63,
   "id": "a72fea77",
   "metadata": {},
   "outputs": [
    {
     "data": {
      "text/plain": [
       "<AxesSubplot:xlabel='Calories', ylabel='Density'>"
      ]
     },
     "execution_count": 63,
     "metadata": {},
     "output_type": "execute_result"
    },
    {
     "data": {
      "image/png": "[encoded data removed]",
      "text/plain": [
       "<Figure size 432x288 with 1 Axes>"
      ]
     },
     "metadata": {
      "needs_background": "light"
     },
     "output_type": "display_data"
    }
   ],
   "source": [
    "sns.kdeplot(data['Calories'])"
   ]
  },
  {
   "cell_type": "code",
   "execution_count": 64,
   "id": "d42f8a07",
   "metadata": {},
   "outputs": [
    {
     "data": {
      "text/plain": [
       "<AxesSubplot:xlabel='Height', ylabel='Density'>"
      ]
     },
     "execution_count": 64,
     "metadata": {},
     "output_type": "execute_result"
    },
    {
     "data": {
      "image/png": "[encoded data removed]",
      "text/plain": [
       "<Figure size 432x288 with 1 Axes>"
      ]
     },
     "metadata": {
      "needs_background": "light"
     },
     "output_type": "display_data"
    }
   ],
   "source": [
    "sns.kdeplot(data['Height'])"
   ]
  },
  {
   "cell_type": "code",
   "execution_count": 65,
   "id": "7e7916ac",
   "metadata": {},
   "outputs": [
    {
     "data": {
      "text/plain": [
       "<AxesSubplot:xlabel='Maxpulse', ylabel='Density'>"
      ]
     },
     "execution_count": 65,
     "metadata": {},
     "output_type": "execute_result"
    },
    {
     "data": {
      "image/png": "[encoded data removed]",
      "text/plain": [
       "<Figure size 432x288 with 1 Axes>"
      ]
     },
     "metadata": {
      "needs_background": "light"
     },
     "output_type": "display_data"
    }
   ],
   "source": [
    "\n",
    "sns.kdeplot(data['Maxpulse'])"
   ]
  },
  {
   "cell_type": "code",
   "execution_count": 66,
   "id": "80c45dba",
   "metadata": {},
   "outputs": [
    {
     "data": {
      "text/plain": [
       "<AxesSubplot:xlabel='Pulse', ylabel='Density'>"
      ]
     },
     "execution_count": 66,
     "metadata": {},
     "output_type": "execute_result"
    },
    {
     "data": {
      "image/png": "[encoded data removed]",
      "text/plain": [
       "<Figure size 432x288 with 1 Axes>"
      ]
     },
     "metadata": {
      "needs_background": "light"
     },
     "output_type": "display_data"
    }
   ],
   "source": [
    "sns.kdeplot(data['Pulse'])"
   ]
  },
  {
   "cell_type": "code",
   "execution_count": 67,
   "id": "63551162",
   "metadata": {},
   "outputs": [
    {
     "data": {
      "text/plain": [
       "<AxesSubplot:xlabel='Weight', ylabel='Density'>"
      ]
     },
     "execution_count": 67,
     "metadata": {},
     "output_type": "execute_result"
    },
    {
     "data": {
      "image/png": "[encoded data removed]",
      "text/plain": [
       "<Figure size 432x288 with 1 Axes>"
      ]
     },
     "metadata": {
      "needs_background": "light"
     },
     "output_type": "display_data"
    }
   ],
   "source": [
    "sns.kdeplot(data['Weight'])"
   ]
  },
  {
   "cell_type": "code",
   "execution_count": 68,
   "id": "7e121e85",
   "metadata": {},
   "outputs": [],
   "source": [
    "from scipy.stats import shapiro"
   ]
  },
  {
   "cell_type": "code",
   "execution_count": 69,
   "id": "24d61026",
   "metadata": {},
   "outputs": [
    {
     "data": {
      "text/plain": [
       "ShapiroResult(statistic=0.9579669833183289, pvalue=0.6250948309898376)"
      ]
     },
     "execution_count": 69,
     "metadata": {},
     "output_type": "execute_result"
    }
   ],
   "source": [
    "shapiro(data['Calories'])"
   ]
  },
  {
   "cell_type": "raw",
   "id": "166b2a50",
   "metadata": {},
   "source": [
    "As p value of shapiro test is >0.05 Calories is normally distributed."
   ]
  },
  {
   "cell_type": "code",
   "execution_count": 70,
   "id": "e800f505",
   "metadata": {},
   "outputs": [
    {
     "data": {
      "text/plain": [
       "ShapiroResult(statistic=0.9153414964675903, pvalue=0.1419045329093933)"
      ]
     },
     "execution_count": 70,
     "metadata": {},
     "output_type": "execute_result"
    }
   ],
   "source": [
    "shapiro(data['Height'])"
   ]
  },
  {
   "cell_type": "raw",
   "id": "6f3e69d6",
   "metadata": {},
   "source": [
    "As p value of shapiro test is >0.05 Height is normally distributed."
   ]
  },
  {
   "cell_type": "code",
   "execution_count": 71,
   "id": "d3b353ba",
   "metadata": {},
   "outputs": [
    {
     "data": {
      "text/plain": [
       "ShapiroResult(statistic=0.8833224773406982, pvalue=0.04372939467430115)"
      ]
     },
     "execution_count": 71,
     "metadata": {},
     "output_type": "execute_result"
    }
   ],
   "source": [
    "shapiro(data['Maxpulse'])"
   ]
  },
  {
   "cell_type": "raw",
   "id": "4e12ef86",
   "metadata": {},
   "source": [
    "As p value of shapiro test is < 0.05 Maxpulse is not normally distributed."
   ]
  },
  {
   "cell_type": "code",
   "execution_count": 72,
   "id": "720d8425",
   "metadata": {},
   "outputs": [
    {
     "data": {
      "text/plain": [
       "ShapiroResult(statistic=0.7790698409080505, pvalue=0.0014553023502230644)"
      ]
     },
     "execution_count": 72,
     "metadata": {},
     "output_type": "execute_result"
    }
   ],
   "source": [
    "shapiro(data['Pulse'])\n"
   ]
  },
  {
   "cell_type": "raw",
   "id": "4261d290",
   "metadata": {},
   "source": [
    "As p value of shapiro test is <0.05 Pulse is not normally distributed."
   ]
  },
  {
   "cell_type": "code",
   "execution_count": 75,
   "id": "49713ea1",
   "metadata": {},
   "outputs": [
    {
     "data": {
      "text/plain": [
       "ShapiroResult(statistic=0.9578626155853271, pvalue=0.6232258677482605)"
      ]
     },
     "execution_count": 75,
     "metadata": {},
     "output_type": "execute_result"
    }
   ],
   "source": [
    "shapiro(data['Weight'])"
   ]
  },
  {
   "cell_type": "raw",
   "id": "2942077b",
   "metadata": {},
   "source": [
    "As p value of shapiro test is >0.05 Weight is normally distributed."
   ]
  },
  {
   "cell_type": "code",
   "execution_count": null,
   "id": "e8e8a25f",
   "metadata": {},
   "outputs": [],
   "source": []
  }
 ],
 "metadata": {
  "kernelspec": {
   "display_name": "Python 3 (ipykernel)",
   "language": "python",
   "name": "python3"
  },
  "language_info": {
   "codemirror_mode": {
    "name": "ipython",
    "version": 3
   },
   "file_extension": ".py",
   "mimetype": "text/x-python",
   "name": "python",
   "nbconvert_exporter": "python",
   "pygments_lexer": "ipython3",
   "version": "3.9.12"
  }
 },
 "nbformat": 4,
 "nbformat_minor": 5
}
