{
 "cells": [
  {
   "cell_type": "code",
   "execution_count": 54,
   "id": "ad9c6f08",
   "metadata": {},
   "outputs": [],
   "source": [
    "#Import library \n",
    "import pandas as pd\n",
    "import numpy as np\n",
    "import seaborn as sns\n",
    "import matplotlib.pyplot as plt\n",
    "\n",
    "#data importing"
   ]
  },
  {
   "cell_type": "code",
   "execution_count": 55,
   "id": "578ee9ba",
   "metadata": {},
   "outputs": [
    {
     "data": {
      "text/html": [
       "<div>\n",
       "<style scoped>\n",
       "    .dataframe tbody tr th:only-of-type {\n",
       "        vertical-align: middle;\n",
       "    }\n",
       "\n",
       "    .dataframe tbody tr th {\n",
       "        vertical-align: top;\n",
       "    }\n",
       "\n",
       "    .dataframe thead th {\n",
       "        text-align: right;\n",
       "    }\n",
       "</style>\n",
       "<table border=\"1\" class=\"dataframe\">\n",
       "  <thead>\n",
       "    <tr style=\"text-align: right;\">\n",
       "      <th></th>\n",
       "      <th>Political Party</th>\n",
       "      <th>No of Candidates</th>\n",
       "      <th>Seats Won</th>\n",
       "      <th>Votes</th>\n",
       "      <th>Percentage</th>\n",
       "      <th>year</th>\n",
       "      <th>Unnamed: 6</th>\n",
       "      <th>Unnamed: 7</th>\n",
       "    </tr>\n",
       "  </thead>\n",
       "  <tbody>\n",
       "    <tr>\n",
       "      <th>0</th>\n",
       "      <td>Bharatiya Lok Dal BLD</td>\n",
       "      <td>3</td>\n",
       "      <td>0</td>\n",
       "      <td>637206</td>\n",
       "      <td>7.19</td>\n",
       "      <td>1977</td>\n",
       "      <td>NaN</td>\n",
       "      <td>NaN</td>\n",
       "    </tr>\n",
       "    <tr>\n",
       "      <th>1</th>\n",
       "      <td>Communist Party of India CPI</td>\n",
       "      <td>4</td>\n",
       "      <td>4</td>\n",
       "      <td>919359</td>\n",
       "      <td>10.38</td>\n",
       "      <td>1977</td>\n",
       "      <td>NaN</td>\n",
       "      <td>NaN</td>\n",
       "    </tr>\n",
       "    <tr>\n",
       "      <th>2</th>\n",
       "      <td>Communist Party of India (Marxist) CPM</td>\n",
       "      <td>9</td>\n",
       "      <td>0</td>\n",
       "      <td>1800193</td>\n",
       "      <td>20.33</td>\n",
       "      <td>1977</td>\n",
       "      <td>NaN</td>\n",
       "      <td>NaN</td>\n",
       "    </tr>\n",
       "    <tr>\n",
       "      <th>3</th>\n",
       "      <td>Indian National Congress (Indira) INCI</td>\n",
       "      <td>11</td>\n",
       "      <td>11</td>\n",
       "      <td>2579745</td>\n",
       "      <td>29.13</td>\n",
       "      <td>1977</td>\n",
       "      <td>NaN</td>\n",
       "      <td>NaN</td>\n",
       "    </tr>\n",
       "    <tr>\n",
       "      <th>4</th>\n",
       "      <td>Others / Independents IND</td>\n",
       "      <td>23</td>\n",
       "      <td>0</td>\n",
       "      <td>214261</td>\n",
       "      <td>2.42</td>\n",
       "      <td>1977</td>\n",
       "      <td>NaN</td>\n",
       "      <td>NaN</td>\n",
       "    </tr>\n",
       "  </tbody>\n",
       "</table>\n",
       "</div>"
      ],
      "text/plain": [
       "                          Political Party  No of Candidates  Seats Won  \\\n",
       "0                   Bharatiya Lok Dal BLD                 3          0   \n",
       "1            Communist Party of India CPI                 4          4   \n",
       "2  Communist Party of India (Marxist) CPM                 9          0   \n",
       "3  Indian National Congress (Indira) INCI                11         11   \n",
       "4               Others / Independents IND                23          0   \n",
       "\n",
       "     Votes  Percentage  year  Unnamed: 6 Unnamed: 7  \n",
       "0   637206        7.19  1977         NaN        NaN  \n",
       "1   919359       10.38  1977         NaN        NaN  \n",
       "2  1800193       20.33  1977         NaN        NaN  \n",
       "3  2579745       29.13  1977         NaN        NaN  \n",
       "4   214261        2.42  1977         NaN        NaN  "
      ]
     },
     "execution_count": 55,
     "metadata": {},
     "output_type": "execute_result"
    }
   ],
   "source": [
    "India=pd.read_excel('Indian_Parliament_elections.xlsx')\n",
    "\n",
    "India.head(5)"
   ]
  },
  {
   "cell_type": "code",
   "execution_count": 56,
   "id": "6b8f6566",
   "metadata": {},
   "outputs": [],
   "source": [
    "India.drop(['Unnamed: 6','Unnamed: 7'],axis=1, inplace=True)"
   ]
  },
  {
   "cell_type": "code",
   "execution_count": 57,
   "id": "ec9a0f13",
   "metadata": {},
   "outputs": [
    {
     "data": {
      "text/html": [
       "<div>\n",
       "<style scoped>\n",
       "    .dataframe tbody tr th:only-of-type {\n",
       "        vertical-align: middle;\n",
       "    }\n",
       "\n",
       "    .dataframe tbody tr th {\n",
       "        vertical-align: top;\n",
       "    }\n",
       "\n",
       "    .dataframe thead th {\n",
       "        text-align: right;\n",
       "    }\n",
       "</style>\n",
       "<table border=\"1\" class=\"dataframe\">\n",
       "  <thead>\n",
       "    <tr style=\"text-align: right;\">\n",
       "      <th></th>\n",
       "      <th>Political Party</th>\n",
       "      <th>No of Candidates</th>\n",
       "      <th>Seats Won</th>\n",
       "      <th>Votes</th>\n",
       "      <th>Percentage</th>\n",
       "      <th>year</th>\n",
       "    </tr>\n",
       "  </thead>\n",
       "  <tbody>\n",
       "    <tr>\n",
       "      <th>0</th>\n",
       "      <td>Bharatiya Lok Dal BLD</td>\n",
       "      <td>3</td>\n",
       "      <td>0</td>\n",
       "      <td>637206</td>\n",
       "      <td>7.19</td>\n",
       "      <td>1977</td>\n",
       "    </tr>\n",
       "    <tr>\n",
       "      <th>1</th>\n",
       "      <td>Communist Party of India CPI</td>\n",
       "      <td>4</td>\n",
       "      <td>4</td>\n",
       "      <td>919359</td>\n",
       "      <td>10.38</td>\n",
       "      <td>1977</td>\n",
       "    </tr>\n",
       "    <tr>\n",
       "      <th>2</th>\n",
       "      <td>Communist Party of India (Marxist) CPM</td>\n",
       "      <td>9</td>\n",
       "      <td>0</td>\n",
       "      <td>1800193</td>\n",
       "      <td>20.33</td>\n",
       "      <td>1977</td>\n",
       "    </tr>\n",
       "    <tr>\n",
       "      <th>3</th>\n",
       "      <td>Indian National Congress (Indira) INCI</td>\n",
       "      <td>11</td>\n",
       "      <td>11</td>\n",
       "      <td>2579745</td>\n",
       "      <td>29.13</td>\n",
       "      <td>1977</td>\n",
       "    </tr>\n",
       "    <tr>\n",
       "      <th>4</th>\n",
       "      <td>Others / Independents IND</td>\n",
       "      <td>23</td>\n",
       "      <td>0</td>\n",
       "      <td>214261</td>\n",
       "      <td>2.42</td>\n",
       "      <td>1977</td>\n",
       "    </tr>\n",
       "  </tbody>\n",
       "</table>\n",
       "</div>"
      ],
      "text/plain": [
       "                          Political Party  No of Candidates  Seats Won  \\\n",
       "0                   Bharatiya Lok Dal BLD                 3          0   \n",
       "1            Communist Party of India CPI                 4          4   \n",
       "2  Communist Party of India (Marxist) CPM                 9          0   \n",
       "3  Indian National Congress (Indira) INCI                11         11   \n",
       "4               Others / Independents IND                23          0   \n",
       "\n",
       "     Votes  Percentage  year  \n",
       "0   637206        7.19  1977  \n",
       "1   919359       10.38  1977  \n",
       "2  1800193       20.33  1977  \n",
       "3  2579745       29.13  1977  \n",
       "4   214261        2.42  1977  "
      ]
     },
     "execution_count": 57,
     "metadata": {},
     "output_type": "execute_result"
    }
   ],
   "source": [
    "India.head(5)"
   ]
  },
  {
   "cell_type": "code",
   "execution_count": 58,
   "id": "76ef3a60",
   "metadata": {},
   "outputs": [
    {
     "data": {
      "text/plain": [
       "Political Party     0\n",
       "No of Candidates    0\n",
       "Seats Won           0\n",
       "Votes               0\n",
       "Percentage          0\n",
       "year                0\n",
       "dtype: int64"
      ]
     },
     "execution_count": 58,
     "metadata": {},
     "output_type": "execute_result"
    }
   ],
   "source": [
    "# Checking Nan value and removing from dataset\n",
    "India.isnull().sum()"
   ]
  },
  {
   "cell_type": "code",
   "execution_count": 59,
   "id": "3d122779",
   "metadata": {},
   "outputs": [
    {
     "data": {
      "text/plain": [
       "(191, 6)"
      ]
     },
     "execution_count": 59,
     "metadata": {},
     "output_type": "execute_result"
    }
   ],
   "source": [
    "#The data contains 191 rows and 6 columns\n",
    "India.shape"
   ]
  },
  {
   "cell_type": "code",
   "execution_count": 60,
   "id": "f49b0da3",
   "metadata": {},
   "outputs": [
    {
     "data": {
      "text/plain": [
       "Index(['Political Party', 'No of Candidates', 'Seats Won', 'Votes',\n",
       "       'Percentage', 'year'],\n",
       "      dtype='object')"
      ]
     },
     "execution_count": 60,
     "metadata": {},
     "output_type": "execute_result"
    }
   ],
   "source": [
    "# Checking column names\n",
    "India.columns"
   ]
  },
  {
   "cell_type": "code",
   "execution_count": 61,
   "id": "b699cd8a",
   "metadata": {},
   "outputs": [
    {
     "name": "stdout",
     "output_type": "stream",
     "text": [
      "<class 'pandas.core.frame.DataFrame'>\n",
      "RangeIndex: 191 entries, 0 to 190\n",
      "Data columns (total 6 columns):\n",
      " #   Column            Non-Null Count  Dtype  \n",
      "---  ------            --------------  -----  \n",
      " 0   Political Party   191 non-null    object \n",
      " 1   No of Candidates  191 non-null    int64  \n",
      " 2   Seats Won         191 non-null    int64  \n",
      " 3   Votes             191 non-null    int64  \n",
      " 4   Percentage        191 non-null    float64\n",
      " 5   year              191 non-null    int64  \n",
      "dtypes: float64(1), int64(4), object(1)\n",
      "memory usage: 9.1+ KB\n"
     ]
    }
   ],
   "source": [
    "# Checking datatype\n",
    "India.info()"
   ]
  },
  {
   "cell_type": "code",
   "execution_count": 62,
   "id": "c59b74a6",
   "metadata": {},
   "outputs": [
    {
     "data": {
      "text/html": [
       "<div>\n",
       "<style scoped>\n",
       "    .dataframe tbody tr th:only-of-type {\n",
       "        vertical-align: middle;\n",
       "    }\n",
       "\n",
       "    .dataframe tbody tr th {\n",
       "        vertical-align: top;\n",
       "    }\n",
       "\n",
       "    .dataframe thead th {\n",
       "        text-align: right;\n",
       "    }\n",
       "</style>\n",
       "<table border=\"1\" class=\"dataframe\">\n",
       "  <thead>\n",
       "    <tr style=\"text-align: right;\">\n",
       "      <th></th>\n",
       "      <th>Political Party</th>\n",
       "      <th>No of Candidates</th>\n",
       "      <th>Seats Won</th>\n",
       "      <th>Votes</th>\n",
       "      <th>Percentage</th>\n",
       "      <th>year</th>\n",
       "    </tr>\n",
       "  </thead>\n",
       "  <tbody>\n",
       "    <tr>\n",
       "      <th>0</th>\n",
       "      <td>Bharatiya Lok Dal BLD</td>\n",
       "      <td>3</td>\n",
       "      <td>0</td>\n",
       "      <td>637206</td>\n",
       "      <td>7.19</td>\n",
       "      <td>1977</td>\n",
       "    </tr>\n",
       "    <tr>\n",
       "      <th>1</th>\n",
       "      <td>Communist Party of India CPI</td>\n",
       "      <td>4</td>\n",
       "      <td>4</td>\n",
       "      <td>919359</td>\n",
       "      <td>10.38</td>\n",
       "      <td>1977</td>\n",
       "    </tr>\n",
       "    <tr>\n",
       "      <th>2</th>\n",
       "      <td>Communist Party of India (Marxist) CPM</td>\n",
       "      <td>9</td>\n",
       "      <td>0</td>\n",
       "      <td>1800193</td>\n",
       "      <td>20.33</td>\n",
       "      <td>1977</td>\n",
       "    </tr>\n",
       "    <tr>\n",
       "      <th>3</th>\n",
       "      <td>Indian National Congress (Indira) INCI</td>\n",
       "      <td>11</td>\n",
       "      <td>11</td>\n",
       "      <td>2579745</td>\n",
       "      <td>29.13</td>\n",
       "      <td>1977</td>\n",
       "    </tr>\n",
       "    <tr>\n",
       "      <th>4</th>\n",
       "      <td>Others / Independents IND</td>\n",
       "      <td>23</td>\n",
       "      <td>0</td>\n",
       "      <td>214261</td>\n",
       "      <td>2.42</td>\n",
       "      <td>1977</td>\n",
       "    </tr>\n",
       "  </tbody>\n",
       "</table>\n",
       "</div>"
      ],
      "text/plain": [
       "                          Political Party  No of Candidates  Seats Won  \\\n",
       "0                   Bharatiya Lok Dal BLD                 3          0   \n",
       "1            Communist Party of India CPI                 4          4   \n",
       "2  Communist Party of India (Marxist) CPM                 9          0   \n",
       "3  Indian National Congress (Indira) INCI                11         11   \n",
       "4               Others / Independents IND                23          0   \n",
       "\n",
       "     Votes  Percentage  year  \n",
       "0   637206        7.19  1977  \n",
       "1   919359       10.38  1977  \n",
       "2  1800193       20.33  1977  \n",
       "3  2579745       29.13  1977  \n",
       "4   214261        2.42  1977  "
      ]
     },
     "execution_count": 62,
     "metadata": {},
     "output_type": "execute_result"
    }
   ],
   "source": [
    "# In the data first head\n",
    "India.head(5)"
   ]
  },
  {
   "cell_type": "code",
   "execution_count": 63,
   "id": "62e6fd85",
   "metadata": {},
   "outputs": [
    {
     "data": {
      "text/html": [
       "<div>\n",
       "<style scoped>\n",
       "    .dataframe tbody tr th:only-of-type {\n",
       "        vertical-align: middle;\n",
       "    }\n",
       "\n",
       "    .dataframe tbody tr th {\n",
       "        vertical-align: top;\n",
       "    }\n",
       "\n",
       "    .dataframe thead th {\n",
       "        text-align: right;\n",
       "    }\n",
       "</style>\n",
       "<table border=\"1\" class=\"dataframe\">\n",
       "  <thead>\n",
       "    <tr style=\"text-align: right;\">\n",
       "      <th></th>\n",
       "      <th>Political Party</th>\n",
       "      <th>No of Candidates</th>\n",
       "      <th>Seats Won</th>\n",
       "      <th>Votes</th>\n",
       "      <th>Percentage</th>\n",
       "      <th>year</th>\n",
       "    </tr>\n",
       "  </thead>\n",
       "  <tbody>\n",
       "    <tr>\n",
       "      <th>186</th>\n",
       "      <td>Secular Democratic Congress SDC</td>\n",
       "      <td>2</td>\n",
       "      <td>0</td>\n",
       "      <td>804</td>\n",
       "      <td>0.00</td>\n",
       "      <td>2019</td>\n",
       "    </tr>\n",
       "    <tr>\n",
       "      <th>187</th>\n",
       "      <td>Social Democratic Party of India SDPI</td>\n",
       "      <td>10</td>\n",
       "      <td>0</td>\n",
       "      <td>80111</td>\n",
       "      <td>0.39</td>\n",
       "      <td>2019</td>\n",
       "    </tr>\n",
       "    <tr>\n",
       "      <th>188</th>\n",
       "      <td>Samajwadi Forward Block SFB</td>\n",
       "      <td>1</td>\n",
       "      <td>0</td>\n",
       "      <td>932</td>\n",
       "      <td>0.00</td>\n",
       "      <td>2019</td>\n",
       "    </tr>\n",
       "    <tr>\n",
       "      <th>189</th>\n",
       "      <td>Socialist Unity Centre of India (Communist) S...</td>\n",
       "      <td>9</td>\n",
       "      <td>0</td>\n",
       "      <td>11527</td>\n",
       "      <td>0.06</td>\n",
       "      <td>2019</td>\n",
       "    </tr>\n",
       "    <tr>\n",
       "      <th>190</th>\n",
       "      <td>Viduthalai Chirutahikal Katchi VCK</td>\n",
       "      <td>1</td>\n",
       "      <td>0</td>\n",
       "      <td>1628</td>\n",
       "      <td>0.01</td>\n",
       "      <td>2019</td>\n",
       "    </tr>\n",
       "  </tbody>\n",
       "</table>\n",
       "</div>"
      ],
      "text/plain": [
       "                                       Political Party  No of Candidates  \\\n",
       "186                   Secular Democratic Congress SDC                  2   \n",
       "187             Social Democratic Party of India SDPI                 10   \n",
       "188                       Samajwadi Forward Block SFB                  1   \n",
       "189   Socialist Unity Centre of India (Communist) S...                 9   \n",
       "190                Viduthalai Chirutahikal Katchi VCK                  1   \n",
       "\n",
       "     Seats Won  Votes  Percentage  year  \n",
       "186          0    804        0.00  2019  \n",
       "187          0  80111        0.39  2019  \n",
       "188          0    932        0.00  2019  \n",
       "189          0  11527        0.06  2019  \n",
       "190          0   1628        0.01  2019  "
      ]
     },
     "execution_count": 63,
     "metadata": {},
     "output_type": "execute_result"
    }
   ],
   "source": [
    "# In the data last tail\n",
    "India.tail(5)"
   ]
  },
  {
   "cell_type": "code",
   "execution_count": 64,
   "id": "ff17530d",
   "metadata": {},
   "outputs": [
    {
     "data": {
      "text/html": [
       "<div>\n",
       "<style scoped>\n",
       "    .dataframe tbody tr th:only-of-type {\n",
       "        vertical-align: middle;\n",
       "    }\n",
       "\n",
       "    .dataframe tbody tr th {\n",
       "        vertical-align: top;\n",
       "    }\n",
       "\n",
       "    .dataframe thead th {\n",
       "        text-align: right;\n",
       "    }\n",
       "</style>\n",
       "<table border=\"1\" class=\"dataframe\">\n",
       "  <thead>\n",
       "    <tr style=\"text-align: right;\">\n",
       "      <th></th>\n",
       "      <th>No of Candidates</th>\n",
       "      <th>Seats Won</th>\n",
       "      <th>Votes</th>\n",
       "      <th>Percentage</th>\n",
       "      <th>year</th>\n",
       "    </tr>\n",
       "  </thead>\n",
       "  <tbody>\n",
       "    <tr>\n",
       "      <th>count</th>\n",
       "      <td>191.000000</td>\n",
       "      <td>191.000000</td>\n",
       "      <td>1.910000e+02</td>\n",
       "      <td>191.000000</td>\n",
       "      <td>191.000000</td>\n",
       "    </tr>\n",
       "    <tr>\n",
       "      <th>mean</th>\n",
       "      <td>9.089005</td>\n",
       "      <td>1.047120</td>\n",
       "      <td>7.415260e+05</td>\n",
       "      <td>26.485916</td>\n",
       "      <td>2000.958115</td>\n",
       "    </tr>\n",
       "    <tr>\n",
       "      <th>std</th>\n",
       "      <td>20.922097</td>\n",
       "      <td>2.715042</td>\n",
       "      <td>1.391167e+06</td>\n",
       "      <td>207.108900</td>\n",
       "      <td>13.680887</td>\n",
       "    </tr>\n",
       "    <tr>\n",
       "      <th>min</th>\n",
       "      <td>1.000000</td>\n",
       "      <td>0.000000</td>\n",
       "      <td>2.610000e+02</td>\n",
       "      <td>0.000000</td>\n",
       "      <td>1977.000000</td>\n",
       "    </tr>\n",
       "    <tr>\n",
       "      <th>25%</th>\n",
       "      <td>1.000000</td>\n",
       "      <td>0.000000</td>\n",
       "      <td>1.120250e+04</td>\n",
       "      <td>0.060000</td>\n",
       "      <td>1986.000000</td>\n",
       "    </tr>\n",
       "    <tr>\n",
       "      <th>50%</th>\n",
       "      <td>2.000000</td>\n",
       "      <td>0.000000</td>\n",
       "      <td>2.585910e+05</td>\n",
       "      <td>2.070000</td>\n",
       "      <td>2004.000000</td>\n",
       "    </tr>\n",
       "    <tr>\n",
       "      <th>75%</th>\n",
       "      <td>7.500000</td>\n",
       "      <td>1.000000</td>\n",
       "      <td>6.402860e+05</td>\n",
       "      <td>5.470000</td>\n",
       "      <td>2014.000000</td>\n",
       "    </tr>\n",
       "    <tr>\n",
       "      <th>max</th>\n",
       "      <td>131.000000</td>\n",
       "      <td>15.000000</td>\n",
       "      <td>7.596610e+06</td>\n",
       "      <td>2053.000000</td>\n",
       "      <td>2019.000000</td>\n",
       "    </tr>\n",
       "  </tbody>\n",
       "</table>\n",
       "</div>"
      ],
      "text/plain": [
       "       No of Candidates   Seats Won         Votes   Percentage         year\n",
       "count        191.000000  191.000000  1.910000e+02   191.000000   191.000000\n",
       "mean           9.089005    1.047120  7.415260e+05    26.485916  2000.958115\n",
       "std           20.922097    2.715042  1.391167e+06   207.108900    13.680887\n",
       "min            1.000000    0.000000  2.610000e+02     0.000000  1977.000000\n",
       "25%            1.000000    0.000000  1.120250e+04     0.060000  1986.000000\n",
       "50%            2.000000    0.000000  2.585910e+05     2.070000  2004.000000\n",
       "75%            7.500000    1.000000  6.402860e+05     5.470000  2014.000000\n",
       "max          131.000000   15.000000  7.596610e+06  2053.000000  2019.000000"
      ]
     },
     "execution_count": 64,
     "metadata": {},
     "output_type": "execute_result"
    }
   ],
   "source": [
    "#this will show some basic Statistics, summary statistics of the fields in the data\n",
    "\n",
    "India.describe()"
   ]
  },
  {
   "cell_type": "code",
   "execution_count": 65,
   "id": "55a577e7",
   "metadata": {},
   "outputs": [
    {
     "data": {
      "text/plain": [
       "array([ 637206,  919359, 1800193, 2579745,  214261,  533726,  491674,\n",
       "        526937,  319039,  561709,  272378,  196820,  532537, 1559044,\n",
       "       2150186,  215158, 1294480,  454235,  547454,  350537,  356997,\n",
       "        163523,  185562,  162104,  224155,  191120,  803206, 2425965,\n",
       "        110449,  477466, 3624315,  434825,  575754,  232339,  598113,\n",
       "        258591,  186353,  231052,  259371,  259437,  672441,   17762,\n",
       "        924994, 3410172,    3054,  370434, 6217161,  140079,  780322,\n",
       "        277682,   32361,   68619,  351519, 1278781,  359393,  656945,\n",
       "         23475, 1156798, 2952043,  393125, 5526181,  165718,  643366,\n",
       "         12074,  319933,  384255,    3024,  572285,  715222,  342796,\n",
       "          5441,  376182, 1008047,   14331, 1164157, 4290986,   23201,\n",
       "          8934, 6051905,  141751,  333023,  206950,  365313,  357402,\n",
       "        559765,  810135,    3101,   30779,    4700,    3496,    2158,\n",
       "       1567766,   74715, 1190522, 4755261,    3270,  256411, 4845735,\n",
       "        311789,  340111,    7806,  353905,  209880,  323042,    9173,\n",
       "        735573,   75775,    3485,   16240,    2987,    5402,    1606,\n",
       "       1011563,     457,  205337, 1193300, 4887333,   10156,    4345,\n",
       "         53387,    2910, 6434486,  208393,    1849,  404962,  333688,\n",
       "        303117,    3730,  813741,  116354,   19711,    3726,    5799,\n",
       "         11335,     585,    3014,  256662, 1865796,   71316, 1364010,\n",
       "       3880655,   11070,     546, 5590285, 1954291,  303595,    3865,\n",
       "        424194,   44357,  816226,   45018,    1028,     261,  408528,\n",
       "         43051,     682,  273849,  307597,    6512,   10818,   15247,\n",
       "          2879,    4299,   68332,     845,    3958,  380847, 2635810,\n",
       "         50153, 1233886, 5266510,    2754,     977,     320, 7596610,\n",
       "        161468, 1111697,  155135,  421046,  655991,     871,    2833,\n",
       "          3156,    1695,     379,  499677,     804,   80111,     932,\n",
       "         11527,    1628], dtype=int64)"
      ]
     },
     "execution_count": 65,
     "metadata": {},
     "output_type": "execute_result"
    }
   ],
   "source": [
    "# Find the Unique of Votes\n",
    "India.Votes.unique()\n"
   ]
  },
  {
   "cell_type": "code",
   "execution_count": 66,
   "id": "7bcad170",
   "metadata": {},
   "outputs": [
    {
     "data": {
      "text/plain": [
       "Political Party      object\n",
       "No of Candidates      int64\n",
       "Seats Won             int64\n",
       "Votes                 int64\n",
       "Percentage          float64\n",
       "year                  int64\n",
       "dtype: object"
      ]
     },
     "execution_count": 66,
     "metadata": {},
     "output_type": "execute_result"
    }
   ],
   "source": [
    "# Identifying the Data Type of the columns\n",
    "\n",
    "India.dtypes"
   ]
  },
  {
   "cell_type": "code",
   "execution_count": 67,
   "id": "7fd93aa5",
   "metadata": {},
   "outputs": [
    {
     "data": {
      "text/plain": [
       "Communist Party of India (Marxist) CPM                 4\n",
       "Indian National Congress (Indira) INCI                 4\n",
       "Others / Independents IND                              4\n",
       "Indian Union Muslim League IUML                        4\n",
       " Bharatiya Janata Party BJP                            4\n",
       "                                                      ..\n",
       "  Indian National Congress (Indira) INCI               1\n",
       " Independents DLP                                      1\n",
       "  Communist Party of India (Marxist-Leninist) CPML     1\n",
       " UDF supported Independents UDF                        1\n",
       " Samajwadi Forward Block SFB                           1\n",
       "Name: Political Party, Length: 122, dtype: int64"
      ]
     },
     "execution_count": 67,
     "metadata": {},
     "output_type": "execute_result"
    }
   ],
   "source": [
    "# Find the total number of Political Party\n",
    "\n",
    "a=India['Political Party'].value_counts()\n",
    "a"
   ]
  },
  {
   "cell_type": "code",
   "execution_count": 68,
   "id": "c510bbe0",
   "metadata": {},
   "outputs": [
    {
     "data": {
      "text/plain": [
       "131"
      ]
     },
     "execution_count": 68,
     "metadata": {},
     "output_type": "execute_result"
    }
   ],
   "source": [
    "#Find Maximum No of Candidates\n",
    "\n",
    "India['No of Candidates'].max()"
   ]
  },
  {
   "cell_type": "code",
   "execution_count": 69,
   "id": "e9ab07df",
   "metadata": {},
   "outputs": [
    {
     "data": {
      "text/plain": [
       "1"
      ]
     },
     "execution_count": 69,
     "metadata": {},
     "output_type": "execute_result"
    }
   ],
   "source": [
    "#Find Minimum No of Candidates\n",
    "\n",
    "India['No of Candidates'].min()"
   ]
  },
  {
   "cell_type": "code",
   "execution_count": 70,
   "id": "aea6e945",
   "metadata": {},
   "outputs": [
    {
     "data": {
      "text/plain": [
       "200"
      ]
     },
     "execution_count": 70,
     "metadata": {},
     "output_type": "execute_result"
    }
   ],
   "source": [
    "#Find total Seats Won\n",
    "\n",
    "India['Seats Won'].sum()"
   ]
  },
  {
   "cell_type": "code",
   "execution_count": 71,
   "id": "a3d0ac30",
   "metadata": {},
   "outputs": [
    {
     "data": {
      "text/plain": [
       "15"
      ]
     },
     "execution_count": 71,
     "metadata": {},
     "output_type": "execute_result"
    }
   ],
   "source": [
    "#Find Maximum Seats Won\n",
    "\n",
    "India['Seats Won'].max()"
   ]
  },
  {
   "cell_type": "code",
   "execution_count": 72,
   "id": "32c62e10",
   "metadata": {},
   "outputs": [
    {
     "data": {
      "text/plain": [
       "0"
      ]
     },
     "execution_count": 72,
     "metadata": {},
     "output_type": "execute_result"
    }
   ],
   "source": [
    "#Find Minimum Seats Won\n",
    "\n",
    "India['Seats Won'].min()"
   ]
  },
  {
   "cell_type": "code",
   "execution_count": 73,
   "id": "d9d950f7",
   "metadata": {},
   "outputs": [
    {
     "data": {
      "text/plain": [
       "1.0471204188481675"
      ]
     },
     "execution_count": 73,
     "metadata": {},
     "output_type": "execute_result"
    }
   ],
   "source": [
    "#Find average Seats Won\n",
    "\n",
    "India['Seats Won'].mean()"
   ]
  },
  {
   "cell_type": "code",
   "execution_count": 74,
   "id": "08db7b78",
   "metadata": {},
   "outputs": [
    {
     "data": {
      "text/plain": [
       "741526.0052356021"
      ]
     },
     "execution_count": 74,
     "metadata": {},
     "output_type": "execute_result"
    }
   ],
   "source": [
    "#Find average Votes\n",
    "\n",
    "India['Votes'].mean()"
   ]
  },
  {
   "cell_type": "code",
   "execution_count": 75,
   "id": "b588dc47",
   "metadata": {},
   "outputs": [
    {
     "data": {
      "text/plain": [
       "141631467"
      ]
     },
     "execution_count": 75,
     "metadata": {},
     "output_type": "execute_result"
    }
   ],
   "source": [
    "#Find total Votes\n",
    "\n",
    "India['Votes'].sum()"
   ]
  },
  {
   "cell_type": "code",
   "execution_count": 76,
   "id": "50bfefd8",
   "metadata": {},
   "outputs": [
    {
     "data": {
      "text/plain": [
       "7596610"
      ]
     },
     "execution_count": 76,
     "metadata": {},
     "output_type": "execute_result"
    }
   ],
   "source": [
    "#Find maximum Votes\n",
    "\n",
    "India['Votes'].max()"
   ]
  },
  {
   "cell_type": "code",
   "execution_count": 77,
   "id": "cf05ed84",
   "metadata": {},
   "outputs": [
    {
     "data": {
      "text/plain": [
       "261"
      ]
     },
     "execution_count": 77,
     "metadata": {},
     "output_type": "execute_result"
    }
   ],
   "source": [
    "#Find minimum Votes\n",
    "\n",
    "India['Votes'].min()"
   ]
  },
  {
   "cell_type": "code",
   "execution_count": 78,
   "id": "9e42a611",
   "metadata": {},
   "outputs": [
    {
     "data": {
      "text/plain": [
       "2014    28\n",
       "2019    27\n",
       "2009    25\n",
       "2004    21\n",
       "1999    18\n",
       "1998    17\n",
       "1984    16\n",
       "1986    15\n",
       "1980    13\n",
       "1977    11\n",
       "Name: year, dtype: int64"
      ]
     },
     "execution_count": 78,
     "metadata": {},
     "output_type": "execute_result"
    }
   ],
   "source": [
    "# Find the most of year\n",
    "\n",
    "a=India['year'].value_counts()\n",
    "a"
   ]
  },
  {
   "cell_type": "code",
   "execution_count": 79,
   "id": "a69d871e",
   "metadata": {},
   "outputs": [
    {
     "data": {
      "text/plain": [
       "5058.8099999999995"
      ]
     },
     "execution_count": 79,
     "metadata": {},
     "output_type": "execute_result"
    }
   ],
   "source": [
    "# Find total Percentage\n",
    "\n",
    "a=India['Percentage'].sum()\n",
    "a"
   ]
  },
  {
   "cell_type": "code",
   "execution_count": 80,
   "id": "cd6f7755",
   "metadata": {},
   "outputs": [
    {
     "data": {
      "text/plain": [
       "<AxesSubplot:>"
      ]
     },
     "execution_count": 80,
     "metadata": {},
     "output_type": "execute_result"
    },
    {
     "data": {
      "image/png": "[encoded data removed]",
      "text/plain": [
       "<Figure size 1440x360 with 1 Axes>"
      ]
     },
     "metadata": {
      "needs_background": "light"
     },
     "output_type": "display_data"
    }
   ],
   "source": [
    "I1=India['No of Candidates'].value_counts().plot.bar(figsize=(20,5))\n",
    "I1"
   ]
  },
  {
   "cell_type": "code",
   "execution_count": 81,
   "id": "26b59e03",
   "metadata": {},
   "outputs": [
    {
     "data": {
      "text/plain": [
       "<AxesSubplot:xlabel='Seats Won', ylabel='Density'>"
      ]
     },
     "execution_count": 81,
     "metadata": {},
     "output_type": "execute_result"
    },
    {
     "data": {
      "image/png": "[encoded data removed]",
      "text/plain": [
       "<Figure size 432x288 with 1 Axes>"
      ]
     },
     "metadata": {
      "needs_background": "light"
     },
     "output_type": "display_data"
    }
   ],
   "source": [
    "sns.kdeplot(India['Seats Won'])"
   ]
  },
  {
   "cell_type": "code",
   "execution_count": 82,
   "id": "c40bfe7f",
   "metadata": {},
   "outputs": [
    {
     "data": {
      "text/plain": [
       "<AxesSubplot:xlabel='Votes', ylabel='Density'>"
      ]
     },
     "execution_count": 82,
     "metadata": {},
     "output_type": "execute_result"
    },
    {
     "data": {
      "image/png": "[encoded data removed]",
      "text/plain": [
       "<Figure size 432x288 with 1 Axes>"
      ]
     },
     "metadata": {
      "needs_background": "light"
     },
     "output_type": "display_data"
    }
   ],
   "source": [
    "sns.kdeplot(India['Votes'])"
   ]
  },
  {
   "cell_type": "code",
   "execution_count": 83,
   "id": "0336642b",
   "metadata": {},
   "outputs": [
    {
     "data": {
      "text/html": [
       "<div>\n",
       "<style scoped>\n",
       "    .dataframe tbody tr th:only-of-type {\n",
       "        vertical-align: middle;\n",
       "    }\n",
       "\n",
       "    .dataframe tbody tr th {\n",
       "        vertical-align: top;\n",
       "    }\n",
       "\n",
       "    .dataframe thead th {\n",
       "        text-align: right;\n",
       "    }\n",
       "</style>\n",
       "<table border=\"1\" class=\"dataframe\">\n",
       "  <thead>\n",
       "    <tr style=\"text-align: right;\">\n",
       "      <th></th>\n",
       "      <th>No of Candidates</th>\n",
       "      <th>Seats Won</th>\n",
       "      <th>Votes</th>\n",
       "      <th>Percentage</th>\n",
       "      <th>year</th>\n",
       "    </tr>\n",
       "  </thead>\n",
       "  <tbody>\n",
       "    <tr>\n",
       "      <th>No of Candidates</th>\n",
       "      <td>1.000000</td>\n",
       "      <td>0.047828</td>\n",
       "      <td>0.107363</td>\n",
       "      <td>-0.035744</td>\n",
       "      <td>-0.003683</td>\n",
       "    </tr>\n",
       "    <tr>\n",
       "      <th>Seats Won</th>\n",
       "      <td>0.047828</td>\n",
       "      <td>1.000000</td>\n",
       "      <td>0.824325</td>\n",
       "      <td>0.016882</td>\n",
       "      <td>-0.112169</td>\n",
       "    </tr>\n",
       "    <tr>\n",
       "      <th>Votes</th>\n",
       "      <td>0.107363</td>\n",
       "      <td>0.824325</td>\n",
       "      <td>1.000000</td>\n",
       "      <td>0.011075</td>\n",
       "      <td>-0.025085</td>\n",
       "    </tr>\n",
       "    <tr>\n",
       "      <th>Percentage</th>\n",
       "      <td>-0.035744</td>\n",
       "      <td>0.016882</td>\n",
       "      <td>0.011075</td>\n",
       "      <td>1.000000</td>\n",
       "      <td>-0.040076</td>\n",
       "    </tr>\n",
       "    <tr>\n",
       "      <th>year</th>\n",
       "      <td>-0.003683</td>\n",
       "      <td>-0.112169</td>\n",
       "      <td>-0.025085</td>\n",
       "      <td>-0.040076</td>\n",
       "      <td>1.000000</td>\n",
       "    </tr>\n",
       "  </tbody>\n",
       "</table>\n",
       "</div>"
      ],
      "text/plain": [
       "                  No of Candidates  Seats Won     Votes  Percentage      year\n",
       "No of Candidates          1.000000   0.047828  0.107363   -0.035744 -0.003683\n",
       "Seats Won                 0.047828   1.000000  0.824325    0.016882 -0.112169\n",
       "Votes                     0.107363   0.824325  1.000000    0.011075 -0.025085\n",
       "Percentage               -0.035744   0.016882  0.011075    1.000000 -0.040076\n",
       "year                     -0.003683  -0.112169 -0.025085   -0.040076  1.000000"
      ]
     },
     "execution_count": 83,
     "metadata": {},
     "output_type": "execute_result"
    }
   ],
   "source": [
    "#correlation\n",
    "India.corr()"
   ]
  },
  {
   "cell_type": "code",
   "execution_count": 84,
   "id": "fc2eb6ef",
   "metadata": {},
   "outputs": [
    {
     "data": {
      "text/plain": [
       "<AxesSubplot:>"
      ]
     },
     "execution_count": 84,
     "metadata": {},
     "output_type": "execute_result"
    },
    {
     "data": {
      "image/png": "[encoded data removed]",
      "text/plain": [
       "<Figure size 1080x864 with 2 Axes>"
      ]
     },
     "metadata": {
      "needs_background": "light"
     },
     "output_type": "display_data"
    }
   ],
   "source": [
    "plt.figure(figsize=(15,12))\n",
    "cor=India.corr()\n",
    "sns.heatmap(cor,annot=True,cmap='cividis')"
   ]
  },
  {
   "cell_type": "code",
   "execution_count": 85,
   "id": "86f55924",
   "metadata": {},
   "outputs": [
    {
     "data": {
      "text/plain": [
       "Text(0, 0.5, 'Votes')"
      ]
     },
     "execution_count": 85,
     "metadata": {},
     "output_type": "execute_result"
    },
    {
     "data": {
      "image/png": "[encoded data removed]",
      "text/plain": [
       "<Figure size 432x288 with 1 Axes>"
      ]
     },
     "metadata": {
      "needs_background": "light"
     },
     "output_type": "display_data"
    }
   ],
   "source": [
    "plt.scatter(India['Seats Won'],India['Votes'])\n",
    "plt.xlabel(\"Seats Won\")\n",
    "plt.ylabel(\"Votes\")"
   ]
  },
  {
   "cell_type": "code",
   "execution_count": 86,
   "id": "7f140ece",
   "metadata": {},
   "outputs": [],
   "source": [
    "# line plot\n",
    "\n",
    "dict_line = {\n",
    "    'year': [1977,1980,1989,1998,1999,2004,2009,2014,2019],\n",
    "    'Seats Won': [1,2,3,4,5,6,8,11,12]\n",
    "}\n",
    "df_line = pd.DataFrame(dict_line)"
   ]
  },
  {
   "cell_type": "code",
   "execution_count": 87,
   "id": "8a21e3bf",
   "metadata": {},
   "outputs": [
    {
     "data": {
      "image/png": "[encoded data removed]",
      "text/plain": [
       "<Figure size 432x288 with 1 Axes>"
      ]
     },
     "metadata": {
      "needs_background": "light"
     },
     "output_type": "display_data"
    }
   ],
   "source": [
    "# use plot() method on the dataframe\n",
    "df_line.plot('year', 'Seats Won');"
   ]
  },
  {
   "cell_type": "markdown",
   "id": "46386390",
   "metadata": {},
   "source": [
    "# Conclusion\n",
    "\n",
    "This data contains Indian Parliament elections.\n",
    "\n",
    "It is a list of details of their Political Party, Political Party, Seats Won, Votes, Percentage, and year.\n",
    "\n",
    "There are 191 rows and 6 columns.\n",
    "\n",
    "The maximum No of Candidates is 131.\n",
    "\n",
    "The minimum No of Candidates is 1.\n",
    "\n",
    "The total Seats Won is 200.\n",
    "\n",
    "Maximum Seats Won is 15.\n",
    "\n",
    "The minimum Seats Won is 0.\n",
    "\n",
    "The average number of seats won is 1.0471204188481675.\n",
    "\n",
    "The average vote is 741526.\n",
    "\n",
    "The total vote is 141631467.\n",
    "\n",
    "The maximum vote is 7596610.\n",
    "\n",
    "The minimum vote is 261.\n",
    "\n",
    "The maximum year is 2014 (28).\n",
    "\n",
    "\n",
    "\n",
    "\n",
    "\n",
    "\n",
    "\n",
    "\n",
    "\n",
    "\n",
    "\n",
    "\n"
   ]
  },
  {
   "cell_type": "code",
   "execution_count": null,
   "id": "5127c906",
   "metadata": {},
   "outputs": [],
   "source": []
  }
 ],
 "metadata": {
  "kernelspec": {
   "display_name": "Python 3 (ipykernel)",
   "language": "python",
   "name": "python3"
  },
  "language_info": {
   "codemirror_mode": {
    "name": "ipython",
    "version": 3
   },
   "file_extension": ".py",
   "mimetype": "text/x-python",
   "name": "python",
   "nbconvert_exporter": "python",
   "pygments_lexer": "ipython3",
   "version": "3.9.12"
  }
 },
 "nbformat": 4,
 "nbformat_minor": 5
}
