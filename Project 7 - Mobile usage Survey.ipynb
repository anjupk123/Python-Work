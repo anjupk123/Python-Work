{
 "cells": [
  {
   "cell_type": "code",
   "execution_count": 14,
   "id": "93e0b8e8",
   "metadata": {},
   "outputs": [
    {
     "data": {
      "text/html": [
       "<div>\n",
       "<style scoped>\n",
       "    .dataframe tbody tr th:only-of-type {\n",
       "        vertical-align: middle;\n",
       "    }\n",
       "\n",
       "    .dataframe tbody tr th {\n",
       "        vertical-align: top;\n",
       "    }\n",
       "\n",
       "    .dataframe thead th {\n",
       "        text-align: right;\n",
       "    }\n",
       "</style>\n",
       "<table border=\"1\" class=\"dataframe\">\n",
       "  <thead>\n",
       "    <tr style=\"text-align: right;\">\n",
       "      <th></th>\n",
       "      <th>Question</th>\n",
       "      <th>Segment Type</th>\n",
       "      <th>Segment Description</th>\n",
       "      <th>App</th>\n",
       "      <th>Count</th>\n",
       "      <th>Percentage</th>\n",
       "    </tr>\n",
       "  </thead>\n",
       "  <tbody>\n",
       "    <tr>\n",
       "      <th>0</th>\n",
       "      <td>You open ur phone and have a notif badge on in...</td>\n",
       "      <td>Mobile</td>\n",
       "      <td>Mobile respondents</td>\n",
       "      <td>Instagram</td>\n",
       "      <td>2559.0</td>\n",
       "      <td>0.273</td>\n",
       "    </tr>\n",
       "    <tr>\n",
       "      <th>1</th>\n",
       "      <td>You open ur phone and have a notif badge on in...</td>\n",
       "      <td>Mobile</td>\n",
       "      <td>Mobile respondents</td>\n",
       "      <td>Facebook</td>\n",
       "      <td>1182.0</td>\n",
       "      <td>0.126</td>\n",
       "    </tr>\n",
       "    <tr>\n",
       "      <th>2</th>\n",
       "      <td>You open ur phone and have a notif badge on in...</td>\n",
       "      <td>Mobile</td>\n",
       "      <td>Mobile respondents</td>\n",
       "      <td>Snapchat</td>\n",
       "      <td>5423.0</td>\n",
       "      <td>0.579</td>\n",
       "    </tr>\n",
       "    <tr>\n",
       "      <th>3</th>\n",
       "      <td>You open ur phone and have a notif badge on in...</td>\n",
       "      <td>Mobile</td>\n",
       "      <td>Mobile respondents</td>\n",
       "      <td>Linkedin</td>\n",
       "      <td>210.0</td>\n",
       "      <td>0.022</td>\n",
       "    </tr>\n",
       "    <tr>\n",
       "      <th>4</th>\n",
       "      <td>You open ur phone and have a notif badge on in...</td>\n",
       "      <td>Web</td>\n",
       "      <td>Web-based respondents</td>\n",
       "      <td>Instagram</td>\n",
       "      <td>30.0</td>\n",
       "      <td>0.256</td>\n",
       "    </tr>\n",
       "  </tbody>\n",
       "</table>\n",
       "</div>"
      ],
      "text/plain": [
       "                                            Question Segment Type  \\\n",
       "0  You open ur phone and have a notif badge on in...       Mobile   \n",
       "1  You open ur phone and have a notif badge on in...       Mobile   \n",
       "2  You open ur phone and have a notif badge on in...       Mobile   \n",
       "3  You open ur phone and have a notif badge on in...       Mobile   \n",
       "4  You open ur phone and have a notif badge on in...          Web   \n",
       "\n",
       "     Segment Description        App   Count  Percentage  \n",
       "0     Mobile respondents  Instagram  2559.0       0.273  \n",
       "1     Mobile respondents   Facebook  1182.0       0.126  \n",
       "2     Mobile respondents   Snapchat  5423.0       0.579  \n",
       "3     Mobile respondents   Linkedin   210.0       0.022  \n",
       "4  Web-based respondents  Instagram    30.0       0.256  "
      ]
     },
     "execution_count": 14,
     "metadata": {},
     "output_type": "execute_result"
    }
   ],
   "source": [
    "#Import library \n",
    "import pandas as pd\n",
    "import numpy as np\n",
    "import seaborn as sns\n",
    "import matplotlib.pyplot as plt\n",
    "\n",
    "#data importing\n",
    "\n",
    "Mobile=pd.read_excel('Mobile Usage Survey.xlsx',skiprows=1)\n",
    "\n",
    "Mobile.head(5)"
   ]
  },
  {
   "cell_type": "code",
   "execution_count": 15,
   "id": "5c16ca8b",
   "metadata": {},
   "outputs": [
    {
     "data": {
      "text/plain": [
       "(516, 6)"
      ]
     },
     "execution_count": 15,
     "metadata": {},
     "output_type": "execute_result"
    }
   ],
   "source": [
    "Mobile.shape"
   ]
  },
  {
   "cell_type": "markdown",
   "id": "363691b6",
   "metadata": {},
   "source": [
    "### 1. Total Number of Responses"
   ]
  },
  {
   "cell_type": "code",
   "execution_count": 16,
   "id": "bbf03261",
   "metadata": {},
   "outputs": [
    {
     "data": {
      "text/plain": [
       "38008.0"
      ]
     },
     "execution_count": 16,
     "metadata": {},
     "output_type": "execute_result"
    }
   ],
   "source": [
    "A=Mobile['Count'].sum()\n",
    "A"
   ]
  },
  {
   "cell_type": "markdown",
   "id": "d4a2d401",
   "metadata": {},
   "source": [
    "### 2. Total number of Segments are there?"
   ]
  },
  {
   "cell_type": "code",
   "execution_count": 18,
   "id": "90dbdc59",
   "metadata": {},
   "outputs": [
    {
     "data": {
      "text/plain": [
       "University    308\n",
       "Custom        192\n",
       "Gender          8\n",
       "Mobile          4\n",
       "Web             4\n",
       "Name: Segment Type, dtype: int64"
      ]
     },
     "execution_count": 18,
     "metadata": {},
     "output_type": "execute_result"
    }
   ],
   "source": [
    "A1=Mobile['Segment Type'].value_counts()\n",
    "A1"
   ]
  },
  {
   "cell_type": "markdown",
   "id": "a6aeb759",
   "metadata": {},
   "source": [
    "### 3. Total Number of Responses by App\n"
   ]
  },
  {
   "cell_type": "code",
   "execution_count": 36,
   "id": "ed4ae95d",
   "metadata": {},
   "outputs": [
    {
     "data": {
      "text/plain": [
       "App\n",
       "Facebook      5497.0\n",
       "Instagram    10229.0\n",
       "Linkedin      1078.0\n",
       "Snapchat     21204.0\n",
       "Name: Count, dtype: float64"
      ]
     },
     "execution_count": 36,
     "metadata": {},
     "output_type": "execute_result"
    }
   ],
   "source": [
    "A2=Mobile.groupby('App').sum()['Count']\n",
    "A2"
   ]
  },
  {
   "cell_type": "markdown",
   "id": "57fe55c5",
   "metadata": {},
   "source": [
    "### 4. Draw question- 4 in a horizontal bar chart"
   ]
  },
  {
   "cell_type": "code",
   "execution_count": 24,
   "id": "d720018b",
   "metadata": {},
   "outputs": [
    {
     "data": {
      "text/plain": [
       "<AxesSubplot:ylabel='App'>"
      ]
     },
     "execution_count": 24,
     "metadata": {},
     "output_type": "execute_result"
    },
    {
     "data": {
      "image/png": "[encoded data removed]",
      "text/plain": [
       "<Figure size 432x288 with 1 Axes>"
      ]
     },
     "metadata": {
      "needs_background": "light"
     },
     "output_type": "display_data"
    }
   ],
   "source": [
    "A2.plot(kind='barh')"
   ]
  },
  {
   "cell_type": "markdown",
   "id": "4b2f6d60",
   "metadata": {},
   "source": [
    "### 5.  How many segment descriptions are there?"
   ]
  },
  {
   "cell_type": "code",
   "execution_count": 41,
   "id": "3c5476fb",
   "metadata": {},
   "outputs": [
    {
     "data": {
      "text/plain": [
       "Mobile respondents                       4\n",
       "Southern Methodist University            4\n",
       "is your age? 35 or older                 4\n",
       "your parents make? > $240K               4\n",
       "Graduation Year 2018                     4\n",
       "                                        ..\n",
       "Temple University                        4\n",
       "Louisiana State University               4\n",
       "University of California Riverside       4\n",
       "University of Wisconsin Stevens Point    4\n",
       "Mac or PC? Other ðŸ_x0090_§              4\n",
       "Name: Segment Description, Length: 129, dtype: int64"
      ]
     },
     "execution_count": 41,
     "metadata": {},
     "output_type": "execute_result"
    }
   ],
   "source": [
    "A3=Mobile['Segment Description'].value_counts()\n",
    "A3"
   ]
  },
  {
   "cell_type": "markdown",
   "id": "0d80ca5e",
   "metadata": {},
   "source": [
    "### 6. Draw a pie chart using the question 3"
   ]
  },
  {
   "cell_type": "code",
   "execution_count": 44,
   "id": "d49403a5",
   "metadata": {},
   "outputs": [
    {
     "data": {
      "text/plain": [
       "<AxesSubplot:ylabel='Count'>"
      ]
     },
     "execution_count": 44,
     "metadata": {},
     "output_type": "execute_result"
    },
    {
     "data": {
      "image/png": "[encoded data removed]",
      "text/plain": [
       "<Figure size 432x288 with 1 Axes>"
      ]
     },
     "metadata": {},
     "output_type": "display_data"
    }
   ],
   "source": [
    "A2.plot(kind='pie')"
   ]
  },
  {
   "cell_type": "markdown",
   "id": "3f51a431",
   "metadata": {},
   "source": [
    "### 7. Display percentage values inside pie chart"
   ]
  },
  {
   "cell_type": "code",
   "execution_count": 45,
   "id": "43619b6f",
   "metadata": {},
   "outputs": [
    {
     "data": {
      "text/plain": [
       "<AxesSubplot:ylabel='Count'>"
      ]
     },
     "execution_count": 45,
     "metadata": {},
     "output_type": "execute_result"
    },
    {
     "data": {
      "image/png": "[encoded data removed]",
      "text/plain": [
       "<Figure size 432x288 with 1 Axes>"
      ]
     },
     "metadata": {},
     "output_type": "display_data"
    }
   ],
   "source": [
    "A2.plot(kind='pie',autopct='%1.2f%%')"
   ]
  },
  {
   "cell_type": "markdown",
   "id": "04bc4f68",
   "metadata": {},
   "source": [
    "# Conclusion\n",
    "\n",
    "This is a Mobile usage Survey.\n",
    "\n",
    "The data contains 516 rows and 6 columns\n",
    "\n",
    "\n",
    "1. Total Number of Responses=38008.0\n",
    "2. Total number of Segments\n",
    "\n",
    "     University    308\n",
    "     \n",
    "     Custom        192\n",
    "     \n",
    "     Gender          8\n",
    "     \n",
    "     Mobile          4\n",
    "     \n",
    "     Web             4\n",
    "     \n",
    "     Name: Segment Type, dtype: int64\n",
    "\n",
    "3. Total Number of Responses by App in (Facebook) - 5497.0\n",
    "4. Total number of segment description-516\n"
   ]
  },
  {
   "cell_type": "code",
   "execution_count": null,
   "id": "d3855048",
   "metadata": {},
   "outputs": [],
   "source": []
  }
 ],
 "metadata": {
  "kernelspec": {
   "display_name": "Python 3 (ipykernel)",
   "language": "python",
   "name": "python3"
  },
  "language_info": {
   "codemirror_mode": {
    "name": "ipython",
    "version": 3
   },
   "file_extension": ".py",
   "mimetype": "text/x-python",
   "name": "python",
   "nbconvert_exporter": "python",
   "pygments_lexer": "ipython3",
   "version": "3.9.12"
  }
 },
 "nbformat": 4,
 "nbformat_minor": 5
}
