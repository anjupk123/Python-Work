{
 "cells": [
  {
   "cell_type": "markdown",
   "id": "435e736a",
   "metadata": {},
   "source": [
    "# Python Variables"
   ]
  },
  {
   "cell_type": "markdown",
   "id": "3a069c38",
   "metadata": {},
   "source": [
    "### Variable declaration"
   ]
  },
  {
   "cell_type": "code",
   "execution_count": 9,
   "id": "3f979e2c",
   "metadata": {},
   "outputs": [
    {
     "data": {
      "text/plain": [
       "5"
      ]
     },
     "execution_count": 9,
     "metadata": {},
     "output_type": "execute_result"
    }
   ],
   "source": [
    "# Variable is declaraed as the value 5 is assigned it.\n",
    "x=5\n",
    "x"
   ]
  },
  {
   "cell_type": "code",
   "execution_count": 10,
   "id": "2eedaa8c",
   "metadata": {},
   "outputs": [
    {
     "data": {
      "text/plain": [
       "100"
      ]
     },
     "execution_count": 10,
     "metadata": {},
     "output_type": "execute_result"
    }
   ],
   "source": [
    "XyZ=100\n",
    "XyZ"
   ]
  },
  {
   "cell_type": "markdown",
   "id": "5fcd279c",
   "metadata": {},
   "source": [
    "# Data Types in Python"
   ]
  },
  {
   "cell_type": "markdown",
   "id": "7282380e",
   "metadata": {},
   "source": [
    "1.Integers\n",
    "\n",
    "2.Float\n",
    "\n",
    "3.Complex Numbers\n",
    "\n",
    "4.Boolean"
   ]
  },
  {
   "cell_type": "code",
   "execution_count": 11,
   "id": "8263aa61",
   "metadata": {},
   "outputs": [
    {
     "data": {
      "text/plain": [
       "int"
      ]
     },
     "execution_count": 11,
     "metadata": {},
     "output_type": "execute_result"
    }
   ],
   "source": [
    "# 1.Integers= are used to represent whole number values.\n",
    "x=1000\n",
    "b=10000\n",
    "\n",
    "type(x)\n",
    "type(b)"
   ]
  },
  {
   "cell_type": "code",
   "execution_count": 12,
   "id": "e32d8d84",
   "metadata": {},
   "outputs": [
    {
     "data": {
      "text/plain": [
       "float"
      ]
     },
     "execution_count": 12,
     "metadata": {},
     "output_type": "execute_result"
    }
   ],
   "source": [
    "# 2. Float =data type is used to represent decimal point values.\n",
    "\n",
    "x=100.10\n",
    "y=13.13\n",
    "\n",
    "type(x)"
   ]
  },
  {
   "cell_type": "code",
   "execution_count": 13,
   "id": "f29431a7",
   "metadata": {},
   "outputs": [
    {
     "data": {
      "text/plain": [
       "complex"
      ]
     },
     "execution_count": 13,
     "metadata": {},
     "output_type": "execute_result"
    }
   ],
   "source": [
    "# 3. Complex =numbers are used to represent imaginary values.\n",
    "\n",
    "z=12+4j\n",
    "\n",
    "type(z)"
   ]
  },
  {
   "cell_type": "code",
   "execution_count": 14,
   "id": "acc51b16",
   "metadata": {},
   "outputs": [
    {
     "data": {
      "text/plain": [
       "complex"
      ]
     },
     "execution_count": 14,
     "metadata": {},
     "output_type": "execute_result"
    }
   ],
   "source": [
    "c=3+6j\n",
    "type(c)"
   ]
  },
  {
   "cell_type": "code",
   "execution_count": 15,
   "id": "8dbd2684",
   "metadata": {},
   "outputs": [],
   "source": [
    "# 4. Boolean = is used for categorical output ,since the output of boolean is either true or false"
   ]
  },
  {
   "cell_type": "code",
   "execution_count": 16,
   "id": "1a6be7ad",
   "metadata": {},
   "outputs": [],
   "source": [
    "Boo = 9>7\n",
    "# Boo is the boolean variable"
   ]
  },
  {
   "cell_type": "code",
   "execution_count": 17,
   "id": "46698b70",
   "metadata": {},
   "outputs": [
    {
     "data": {
      "text/plain": [
       "bool"
      ]
     },
     "execution_count": 17,
     "metadata": {},
     "output_type": "execute_result"
    }
   ],
   "source": [
    "type(Boo)\n",
    "#the output will be bool"
   ]
  },
  {
   "cell_type": "code",
   "execution_count": 18,
   "id": "0cc46c76",
   "metadata": {},
   "outputs": [
    {
     "name": "stdout",
     "output_type": "stream",
     "text": [
      "True\n"
     ]
    }
   ],
   "source": [
    "print(Boo)\n",
    "#this will print true."
   ]
  },
  {
   "cell_type": "code",
   "execution_count": 19,
   "id": "ab122fe6",
   "metadata": {},
   "outputs": [
    {
     "name": "stdout",
     "output_type": "stream",
     "text": [
      "False\n"
     ]
    }
   ],
   "source": [
    "l=20<10\n",
    "print(l)"
   ]
  }
 ],
 "metadata": {
  "kernelspec": {
   "display_name": "Python 3 (ipykernel)",
   "language": "python",
   "name": "python3"
  },
  "language_info": {
   "codemirror_mode": {
    "name": "ipython",
    "version": 3
   },
   "file_extension": ".py",
   "mimetype": "text/x-python",
   "name": "python",
   "nbconvert_exporter": "python",
   "pygments_lexer": "ipython3",
   "version": "3.9.12"
  }
 },
 "nbformat": 4,
 "nbformat_minor": 5
}
