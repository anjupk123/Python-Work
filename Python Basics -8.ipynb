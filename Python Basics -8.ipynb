{
 "cells": [
  {
   "cell_type": "markdown",
   "metadata": {
    "id": "XkNGBgQXdwjY"
   },
   "source": [
    "## Python Indentation"
   ]
  },
  {
   "cell_type": "code",
   "execution_count": 79,
   "metadata": {
    "colab": {
     "base_uri": "https://localhost:8080/"
    },
    "id": "Rw9pwYWAdxpG",
    "outputId": "50208389-4410-49d0-ea1e-7926ec58c206"
   },
   "outputs": [
    {
     "name": "stdout",
     "output_type": "stream",
     "text": [
      "Seven is greater than three!\n"
     ]
    }
   ],
   "source": [
    "#Python Indentation\n",
    "#if we give if statement, before printing the we should give space before next code\n",
    "\n",
    "if 7 > 3:\n",
    "  print(\"Seven is greater than three!\")"
   ]
  },
  {
   "cell_type": "code",
   "execution_count": 80,
   "metadata": {
    "colab": {
     "base_uri": "https://localhost:8080/"
    },
    "id": "B6IMv_CrCAJQ",
    "outputId": "f12b963f-266c-4772-c0ca-52a1af684932"
   },
   "outputs": [
    {
     "name": "stdout",
     "output_type": "stream",
     "text": [
      "Three is greater than one!\n",
      "Seven is greater than Five!\n"
     ]
    }
   ],
   "source": [
    "if 3 > 1:\n",
    " print(\"Three is greater than one!\") \n",
    "if 7 > 5:\n",
    "        print(\"Seven is greater than Five!\") \n"
   ]
  },
  {
   "cell_type": "markdown",
   "metadata": {
    "id": "jHUQ2i0neBW8"
   },
   "source": [
    "### Python Variable assigning"
   ]
  },
  {
   "cell_type": "code",
   "execution_count": 81,
   "metadata": {
    "colab": {
     "base_uri": "https://localhost:8080/"
    },
    "id": "T6H62S6CCDfD",
    "outputId": "b06c688a-4ef4-414d-ef84-fd45f24a84ce"
   },
   "outputs": [
    {
     "name": "stdout",
     "output_type": "stream",
     "text": [
      "7\n",
      "Hello\n"
     ]
    }
   ],
   "source": [
    "#Variables in Python\n",
    "x = 7\n",
    "y = \"Hello\"\n",
    "print(x)\n",
    "print(y)\n"
   ]
  },
  {
   "cell_type": "markdown",
   "metadata": {
    "id": "HCs59ZzreN6s"
   },
   "source": [
    "### Python Comments"
   ]
  },
  {
   "cell_type": "code",
   "execution_count": 82,
   "metadata": {
    "colab": {
     "base_uri": "https://localhost:8080/",
     "height": 36
    },
    "id": "1yUWaJVHCTk6",
    "outputId": "30644b63-de5e-4adc-ea48-c6428287794e"
   },
   "outputs": [
    {
     "data": {
      "text/plain": [
       "'\\nThis is a comment\\nwritten in\\nmore than just one line\\n'"
      ]
     },
     "execution_count": 82,
     "metadata": {},
     "output_type": "execute_result"
    }
   ],
   "source": [
    "#comments in python\n",
    "#It is a comment. \n",
    "\"\"\"\n",
    "This is a comment\n",
    "written in\n",
    "more than just one line\n",
    "\"\"\"\n",
    "\n"
   ]
  },
  {
   "cell_type": "markdown",
   "metadata": {
    "id": "aksY412ZeV3E"
   },
   "source": [
    "### Creating python variables"
   ]
  },
  {
   "cell_type": "code",
   "execution_count": 83,
   "metadata": {
    "colab": {
     "base_uri": "https://localhost:8080/"
    },
    "id": "Ozlit-mxCbKo",
    "outputId": "01013c39-410b-41a1-f9ab-7d3b4a8c29c5"
   },
   "outputs": [
    {
     "name": "stdout",
     "output_type": "stream",
     "text": [
      "3\n",
      "Johny\n"
     ]
    }
   ],
   "source": [
    "#Creating variables\n",
    "x=3\n",
    "y=\"Johny\"\n",
    "\n",
    "print(x)\n",
    "print(y)\n"
   ]
  },
  {
   "cell_type": "code",
   "execution_count": 84,
   "metadata": {
    "colab": {
     "base_uri": "https://localhost:8080/"
    },
    "id": "AKfzQNNJCjKT",
    "outputId": "393ec6fd-99ac-406d-8113-edb4c6eb72e4"
   },
   "outputs": [
    {
     "name": "stdout",
     "output_type": "stream",
     "text": [
      "Jitt\n"
     ]
    }
   ],
   "source": [
    "x = 321       # x is of type int\n",
    "x = \"Jitt\" # x is now of type str\n",
    "print(x)\n"
   ]
  },
  {
   "cell_type": "markdown",
   "metadata": {
    "id": "U58KW7jDekiL"
   },
   "source": [
    "### Python Casting"
   ]
  },
  {
   "cell_type": "code",
   "execution_count": 85,
   "metadata": {
    "colab": {
     "base_uri": "https://localhost:8080/"
    },
    "id": "bUq2hePBClyA",
    "outputId": "ea29a0a5-0fcc-40a3-8025-232394046aa4"
   },
   "outputs": [
    {
     "name": "stdout",
     "output_type": "stream",
     "text": [
      "12\n",
      "12\n",
      "12.0\n"
     ]
    }
   ],
   "source": [
    "#Casting\n",
    "\n",
    "x = str(12)    # x will be '12'\n",
    "y = int(12)    # y will be 12\n",
    "z = float(12)  # z will be 12.0\n",
    "\n",
    "print(x)\n",
    "print(y)\n",
    "print(z)\n"
   ]
  },
  {
   "cell_type": "markdown",
   "metadata": {
    "id": "lITSW-Uve3uZ"
   },
   "source": [
    "### Getting data type"
   ]
  },
  {
   "cell_type": "code",
   "execution_count": 86,
   "metadata": {
    "colab": {
     "base_uri": "https://localhost:8080/"
    },
    "id": "LzL1RMM-Cs2z",
    "outputId": "1b25dd0f-bea7-4cbd-c43b-2afb6c8620e4"
   },
   "outputs": [
    {
     "name": "stdout",
     "output_type": "stream",
     "text": [
      "<class 'int'>\n",
      "<class 'str'>\n"
     ]
    }
   ],
   "source": [
    "#get the type\n",
    "x = 3\n",
    "y = \"Yash\"\n",
    "print(type(x))\n",
    "print(type(y))\n"
   ]
  },
  {
   "cell_type": "markdown",
   "metadata": {
    "id": "HfSJi4lPfJb2"
   },
   "source": [
    "### We can use single or double quotes"
   ]
  },
  {
   "cell_type": "code",
   "execution_count": 87,
   "metadata": {
    "colab": {
     "base_uri": "https://localhost:8080/"
    },
    "id": "n4Y9ia8XCx5u",
    "outputId": "157fb3a2-cc7f-4c0f-d7bc-e50f1248a460"
   },
   "outputs": [
    {
     "name": "stdout",
     "output_type": "stream",
     "text": [
      "Johny\n",
      "Johny\n"
     ]
    }
   ],
   "source": [
    "#Single or Double Quotes?\n",
    "\n",
    "x = \"Johny\"\n",
    "print(x)\n",
    "# is the same as\n",
    "x = 'Johny'\n",
    "\n",
    "print(x)\n"
   ]
  },
  {
   "cell_type": "markdown",
   "metadata": {
    "id": "tsn2t1epfW1M"
   },
   "source": [
    "### Case sensitive"
   ]
  },
  {
   "cell_type": "code",
   "execution_count": 88,
   "metadata": {
    "colab": {
     "base_uri": "https://localhost:8080/"
    },
    "id": "z2bVcKgGC2IB",
    "outputId": "45874355-d7fa-4432-bbe0-bd56853ce092"
   },
   "outputs": [
    {
     "name": "stdout",
     "output_type": "stream",
     "text": [
      "3\n",
      "Yash\n"
     ]
    }
   ],
   "source": [
    "#Case-Sensitive\n",
    "\n",
    "a = 3\n",
    "A = \"Yash\"\n",
    "#A will not overwrite a\n",
    "\n",
    "print(a)\n",
    "print(A)\n"
   ]
  },
  {
   "cell_type": "markdown",
   "metadata": {
    "id": "LHfVmKVGhqsw"
   },
   "source": [
    "### Variable names should be"
   ]
  },
  {
   "cell_type": "code",
   "execution_count": 89,
   "metadata": {
    "colab": {
     "base_uri": "https://localhost:8080/"
    },
    "id": "eZ2fEvNDDCGm",
    "outputId": "258b0d3d-8cb6-4e56-bee8-9f9889bdf349"
   },
   "outputs": [
    {
     "name": "stdout",
     "output_type": "stream",
     "text": [
      "John\n",
      "John\n",
      "John\n"
     ]
    }
   ],
   "source": [
    "## **Python - Variable Names**\n",
    "\n",
    "#Legal variable names:\n",
    "\n",
    "myvar = \"John\"\n",
    "my_var = \"John\"\n",
    "_my_var = \"John\"\n",
    "myVar = \"John\"\n",
    "MYVAR = \"John\"\n",
    "myvar2 = \"John\"\n",
    "\n",
    "print(myvar)\n",
    "print(my_var)\n",
    "print(_my_var)"
   ]
  },
  {
   "cell_type": "code",
   "execution_count": 90,
   "metadata": {
    "colab": {
     "base_uri": "https://localhost:8080/",
     "height": 36
    },
    "id": "cTAm2VkxDUHm",
    "outputId": "8288486a-8db1-497a-c4f5-9ef38b80ec18"
   },
   "outputs": [
    {
     "data": {
      "text/plain": [
       "'\\nmyvar = \"John\"\\nmy-var = \"John\"\\nmy var = \"John\"\\n'"
      ]
     },
     "execution_count": 90,
     "metadata": {},
     "output_type": "execute_result"
    }
   ],
   "source": [
    "#Illegal variable names:\n",
    "\"\"\"\n",
    "myvar = \"John\"\n",
    "my-var = \"John\"\n",
    "my var = \"John\"\n",
    "\"\"\""
   ]
  },
  {
   "cell_type": "markdown",
   "metadata": {
    "id": "AwfNGOoVh4gU"
   },
   "source": [
    "### Many values to multiple variable"
   ]
  },
  {
   "cell_type": "code",
   "execution_count": 91,
   "metadata": {
    "colab": {
     "base_uri": "https://localhost:8080/"
    },
    "id": "bD7JbI31D4we",
    "outputId": "d99c12a9-2928-4f20-bdd1-1e90f1954521"
   },
   "outputs": [
    {
     "name": "stdout",
     "output_type": "stream",
     "text": [
      "accounting\n",
      "bank\n",
      "chemistry\n"
     ]
    }
   ],
   "source": [
    "#Many Values to Multiple Variables\n",
    "\n",
    "a, b, c = \"accounting\", \"bank\", \"chemistry\"\n",
    "print(a)\n",
    "print(b)\n",
    "print(c)"
   ]
  },
  {
   "cell_type": "markdown",
   "metadata": {
    "id": "aMrLHfjXiDX4"
   },
   "source": [
    "### One Value to Multiple Variables"
   ]
  },
  {
   "cell_type": "code",
   "execution_count": 92,
   "metadata": {
    "colab": {
     "base_uri": "https://localhost:8080/"
    },
    "id": "ueNoCW9gEioq",
    "outputId": "78e8d602-0ccb-4218-a9e7-f17918af2f76"
   },
   "outputs": [
    {
     "name": "stdout",
     "output_type": "stream",
     "text": [
      "Data Analysis\n",
      "Data Analysis\n",
      "Data Analysis\n"
     ]
    }
   ],
   "source": [
    "#One Value to Multiple Variables\n",
    "a = b = c = \"Data Analysis\"\n",
    "print(a)\n",
    "print(b)\n",
    "print(c)"
   ]
  },
  {
   "cell_type": "markdown",
   "metadata": {
    "id": "uowAXccBiGhq"
   },
   "source": [
    "### Unpack a Collection"
   ]
  },
  {
   "cell_type": "code",
   "execution_count": 93,
   "metadata": {
    "colab": {
     "base_uri": "https://localhost:8080/"
    },
    "id": "mUpMBstmFGCL",
    "outputId": "08ab9642-292d-4167-9844-81b60e551f96"
   },
   "outputs": [
    {
     "name": "stdout",
     "output_type": "stream",
     "text": [
      "Accounting\n",
      "Chemistry\n",
      "Data analysis\n"
     ]
    }
   ],
   "source": [
    "#Unpack a Collection\n",
    "courses = [\"Accounting\", \"Chemistry\", \"Data analysis\"]\n",
    "a, b, c = courses\n",
    "print(a)\n",
    "print(b)\n",
    "print(c)"
   ]
  },
  {
   "cell_type": "markdown",
   "metadata": {
    "id": "oEKke4lMiV1U"
   },
   "source": [
    "### Variables output"
   ]
  },
  {
   "cell_type": "code",
   "execution_count": 94,
   "metadata": {
    "colab": {
     "base_uri": "https://localhost:8080/"
    },
    "id": "0O0FRYzPFv2Y",
    "outputId": "813560a3-f226-4383-e4e3-3e630f887080"
   },
   "outputs": [
    {
     "name": "stdout",
     "output_type": "stream",
     "text": [
      "The course of python is so excellent\n"
     ]
    }
   ],
   "source": [
    "#Output Variables\n",
    "p = \"The course of python is so excellent\"\n",
    "print(p)"
   ]
  },
  {
   "cell_type": "code",
   "execution_count": 95,
   "metadata": {
    "colab": {
     "base_uri": "https://localhost:8080/"
    },
    "id": "xI9HZb0jGO7z",
    "outputId": "1b2021e1-2bd6-4ca2-c2b4-40beead0e590"
   },
   "outputs": [
    {
     "name": "stdout",
     "output_type": "stream",
     "text": [
      "This course is awesome\n"
     ]
    }
   ],
   "source": [
    "x = \"This course\"\n",
    "y = \"is\"\n",
    "z = \"awesome\"\n",
    "print(x, y, z)"
   ]
  },
  {
   "cell_type": "code",
   "execution_count": 96,
   "metadata": {
    "colab": {
     "base_uri": "https://localhost:8080/"
    },
    "id": "4o1VHYgVGfQK",
    "outputId": "b20c8e48-ed13-493a-bb52-64dd68bc36ee"
   },
   "outputs": [
    {
     "name": "stdout",
     "output_type": "stream",
     "text": [
      "This course is awesome\n"
     ]
    }
   ],
   "source": [
    "x = \"This course \"\n",
    "y = \"is \"\n",
    "z = \"awesome\"\n",
    "print(x + y + z)"
   ]
  },
  {
   "cell_type": "code",
   "execution_count": 97,
   "metadata": {
    "colab": {
     "base_uri": "https://localhost:8080/"
    },
    "id": "jRI4w9bzMkQU",
    "outputId": "a9e079ab-00c4-4788-a819-a6195d19add5"
   },
   "outputs": [
    {
     "name": "stdout",
     "output_type": "stream",
     "text": [
      "22\n"
     ]
    }
   ],
   "source": [
    "x = 7\n",
    "y = 15\n",
    "print(x + y)"
   ]
  },
  {
   "cell_type": "code",
   "execution_count": 98,
   "metadata": {
    "id": "UHbS8I5FO4dY"
   },
   "outputs": [],
   "source": [
    "x = 5\n",
    "y =\"John\"\n",
    "\n",
    "#print(x + y)\n",
    "\n",
    "#this result show as error"
   ]
  },
  {
   "cell_type": "code",
   "execution_count": 99,
   "metadata": {
    "colab": {
     "base_uri": "https://localhost:8080/"
    },
    "id": "2pORQVzbMqj2",
    "outputId": "8345ff67-ddc0-4d62-ae0f-9e8d8b39f903"
   },
   "outputs": [
    {
     "name": "stdout",
     "output_type": "stream",
     "text": [
      "5 Paul\n"
     ]
    }
   ],
   "source": [
    "x = 5\n",
    "y = \"Paul\"\n",
    "print(x, y)"
   ]
  },
  {
   "cell_type": "markdown",
   "metadata": {
    "id": "o_bjHtoEinGK"
   },
   "source": [
    "### Global Variables"
   ]
  },
  {
   "cell_type": "code",
   "execution_count": 100,
   "metadata": {
    "colab": {
     "base_uri": "https://localhost:8080/"
    },
    "id": "9vL-yAFfPtLe",
    "outputId": "d94d5c91-2f74-42d5-811e-847f0361a26e"
   },
   "outputs": [
    {
     "name": "stdout",
     "output_type": "stream",
     "text": [
      "Python is Exciting\n"
     ]
    }
   ],
   "source": [
    "#Global Variables\n",
    "x = \"Exciting\"\n",
    "\n",
    "def myfunc():\n",
    "  print(\"Python is \" + x)\n",
    "\n",
    "myfunc()"
   ]
  },
  {
   "cell_type": "code",
   "execution_count": 101,
   "metadata": {
    "colab": {
     "base_uri": "https://localhost:8080/"
    },
    "id": "4xBAzT6qP1WG",
    "outputId": "8a1f0a87-bc89-44fa-f11e-cf5f96d26a07"
   },
   "outputs": [
    {
     "name": "stdout",
     "output_type": "stream",
     "text": [
      "Python is fantastic\n",
      "Python is excellent\n"
     ]
    }
   ],
   "source": [
    "x = \"excellent\"\n",
    "\n",
    "def myfunc():\n",
    "  x = \"fantastic\"\n",
    "  print(\"Python is \" + x)\n",
    "\n",
    "myfunc()\n",
    "\n",
    "print(\"Python is \" + x)"
   ]
  },
  {
   "cell_type": "code",
   "execution_count": 102,
   "metadata": {
    "colab": {
     "base_uri": "https://localhost:8080/"
    },
    "id": "TgmrHgl0QQn9",
    "outputId": "dc01c761-a7b4-4f26-b093-e03b67319f91"
   },
   "outputs": [
    {
     "name": "stdout",
     "output_type": "stream",
     "text": [
      "Python is fantastic\n"
     ]
    }
   ],
   "source": [
    "#The global Keyword\n",
    "def myfunc():\n",
    "  global x\n",
    "  x = \"fantastic\"\n",
    "\n",
    "myfunc()\n",
    "\n",
    "print(\"Python is \" + x)"
   ]
  },
  {
   "cell_type": "code",
   "execution_count": 103,
   "metadata": {
    "colab": {
     "base_uri": "https://localhost:8080/"
    },
    "id": "oKyJLu8lQT_F",
    "outputId": "8d5b1660-86c1-4410-9912-aa42bc986dc7"
   },
   "outputs": [
    {
     "name": "stdout",
     "output_type": "stream",
     "text": [
      "Python is fantastic\n"
     ]
    }
   ],
   "source": [
    "x = \"awesome\"\n",
    "\n",
    "def myfunc():\n",
    "  global x\n",
    "  x = \"fantastic\"\n",
    "\n",
    "myfunc()\n",
    "\n",
    "print(\"Python is \" + x)"
   ]
  }
 ],
 "metadata": {
  "colab": {
   "name": "0.Basic Python.ipynb",
   "provenance": []
  },
  "kernelspec": {
   "display_name": "Python 3 (ipykernel)",
   "language": "python",
   "name": "python3"
  },
  "language_info": {
   "codemirror_mode": {
    "name": "ipython",
    "version": 3
   },
   "file_extension": ".py",
   "mimetype": "text/x-python",
   "name": "python",
   "nbconvert_exporter": "python",
   "pygments_lexer": "ipython3",
   "version": "3.9.12"
  }
 },
 "nbformat": 4,
 "nbformat_minor": 1
}
