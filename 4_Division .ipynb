{
 "cells": [
  {
   "cell_type": "markdown",
   "metadata": {
    "id": "qrpk13cQZYT5"
   },
   "source": [
    "### To Divide 2 numbers \n",
    "1st assign data into string\\\n",
    "input a number"
   ]
  },
  {
   "cell_type": "code",
   "execution_count": 1,
   "metadata": {
    "colab": {
     "base_uri": "https://localhost:8080/"
    },
    "id": "IzUiZK81baNl",
    "outputId": "39383630-8a30-4977-8e04-3fe6488c2251"
   },
   "outputs": [
    {
     "data": {
      "text/plain": [
       "5.0"
      ]
     },
     "execution_count": 1,
     "metadata": {},
     "output_type": "execute_result"
    }
   ],
   "source": [
    "a=2\n",
    "b=10\n",
    "c=b/a\n",
    "c"
   ]
  },
  {
   "cell_type": "markdown",
   "metadata": {
    "id": "y8Gj_tTNbhyt"
   },
   "source": [
    "## or"
   ]
  },
  {
   "cell_type": "code",
   "execution_count": 2,
   "metadata": {
    "colab": {
     "base_uri": "https://localhost:8080/"
    },
    "id": "jOAyb4x8ZzWF",
    "outputId": "2e2c4400-6e34-43c9-e0a7-16068aa86d12"
   },
   "outputs": [
    {
     "name": "stdout",
     "output_type": "stream",
     "text": [
      "first number:60\n"
     ]
    }
   ],
   "source": [
    "num1=input('first number:')\n"
   ]
  },
  {
   "cell_type": "code",
   "execution_count": 3,
   "metadata": {
    "colab": {
     "base_uri": "https://localhost:8080/"
    },
    "id": "EF1foG_YZ6HA",
    "outputId": "62e4c855-6242-4cac-a84e-d037f98fa1a5"
   },
   "outputs": [
    {
     "name": "stdout",
     "output_type": "stream",
     "text": [
      "\n",
      "Second number:2\n"
     ]
    }
   ],
   "source": [
    "#back slash is given to come to next line\n",
    "num2=input('\\nSecond number:')"
   ]
  },
  {
   "cell_type": "code",
   "execution_count": 4,
   "metadata": {
    "colab": {
     "base_uri": "https://localhost:8080/"
    },
    "id": "h6OF2SGvaCj1",
    "outputId": "44a230e5-30df-4d82-fc70-9fe4df9e4460"
   },
   "outputs": [
    {
     "data": {
      "text/plain": [
       "30.0"
      ]
     },
     "execution_count": 4,
     "metadata": {},
     "output_type": "execute_result"
    }
   ],
   "source": [
    "#string converting to float\n",
    "div=float(num1)/float(num2)\n",
    "div"
   ]
  },
  {
   "cell_type": "code",
   "execution_count": 5,
   "metadata": {
    "colab": {
     "base_uri": "https://localhost:8080/"
    },
    "id": "JrxdLtvBaQz2",
    "outputId": "1e3973b8-0591-4a96-e17a-0d037c094307"
   },
   "outputs": [
    {
     "name": "stdout",
     "output_type": "stream",
     "text": [
      "the divided value of 60 and 2 is 30.0\n"
     ]
    }
   ],
   "source": [
    "#to convert float into string format we give .format\n",
    "#here inside the curly brackets we give the index numbers of each code\n",
    "\n",
    "print('the divided value of {0} and {1} is {2}' .format(num1,num2,div))"
   ]
  }
 ],
 "metadata": {
  "colab": {
   "name": "4.Division.ipynb",
   "provenance": []
  },
  "kernelspec": {
   "display_name": "Python 3 (ipykernel)",
   "language": "python",
   "name": "python3"
  },
  "language_info": {
   "codemirror_mode": {
    "name": "ipython",
    "version": 3
   },
   "file_extension": ".py",
   "mimetype": "text/x-python",
   "name": "python",
   "nbconvert_exporter": "python",
   "pygments_lexer": "ipython3",
   "version": "3.9.12"
  }
 },
 "nbformat": 4,
 "nbformat_minor": 1
}
