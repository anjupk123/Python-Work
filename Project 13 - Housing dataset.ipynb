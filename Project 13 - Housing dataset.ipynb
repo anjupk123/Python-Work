{
 "cells": [
  {
   "cell_type": "code",
   "execution_count": 98,
   "id": "28f60eed",
   "metadata": {},
   "outputs": [],
   "source": [
    "#Import library \n",
    "import pandas as pd\n",
    "import numpy as np\n",
    "import seaborn as sns\n",
    "import matplotlib.pyplot as plt\n",
    "\n",
    "#data importing"
   ]
  },
  {
   "cell_type": "code",
   "execution_count": 99,
   "id": "792e51b3",
   "metadata": {},
   "outputs": [
    {
     "data": {
      "text/html": [
       "<div>\n",
       "<style scoped>\n",
       "    .dataframe tbody tr th:only-of-type {\n",
       "        vertical-align: middle;\n",
       "    }\n",
       "\n",
       "    .dataframe tbody tr th {\n",
       "        vertical-align: top;\n",
       "    }\n",
       "\n",
       "    .dataframe thead th {\n",
       "        text-align: right;\n",
       "    }\n",
       "</style>\n",
       "<table border=\"1\" class=\"dataframe\">\n",
       "  <thead>\n",
       "    <tr style=\"text-align: right;\">\n",
       "      <th></th>\n",
       "      <th>price</th>\n",
       "      <th>area</th>\n",
       "      <th>bedrooms</th>\n",
       "      <th>bathrooms</th>\n",
       "      <th>stories</th>\n",
       "      <th>mainroad</th>\n",
       "      <th>guestroom</th>\n",
       "      <th>basement</th>\n",
       "      <th>hotwaterheating</th>\n",
       "      <th>airconditioning</th>\n",
       "      <th>parking</th>\n",
       "      <th>prefarea</th>\n",
       "      <th>furnishingstatus</th>\n",
       "    </tr>\n",
       "  </thead>\n",
       "  <tbody>\n",
       "    <tr>\n",
       "      <th>0</th>\n",
       "      <td>13300000</td>\n",
       "      <td>7420</td>\n",
       "      <td>4</td>\n",
       "      <td>2</td>\n",
       "      <td>3</td>\n",
       "      <td>yes</td>\n",
       "      <td>no</td>\n",
       "      <td>no</td>\n",
       "      <td>no</td>\n",
       "      <td>yes</td>\n",
       "      <td>2</td>\n",
       "      <td>yes</td>\n",
       "      <td>furnished</td>\n",
       "    </tr>\n",
       "    <tr>\n",
       "      <th>1</th>\n",
       "      <td>12250000</td>\n",
       "      <td>8960</td>\n",
       "      <td>4</td>\n",
       "      <td>4</td>\n",
       "      <td>4</td>\n",
       "      <td>yes</td>\n",
       "      <td>no</td>\n",
       "      <td>no</td>\n",
       "      <td>no</td>\n",
       "      <td>yes</td>\n",
       "      <td>3</td>\n",
       "      <td>no</td>\n",
       "      <td>furnished</td>\n",
       "    </tr>\n",
       "    <tr>\n",
       "      <th>2</th>\n",
       "      <td>12250000</td>\n",
       "      <td>9960</td>\n",
       "      <td>3</td>\n",
       "      <td>2</td>\n",
       "      <td>2</td>\n",
       "      <td>yes</td>\n",
       "      <td>no</td>\n",
       "      <td>yes</td>\n",
       "      <td>no</td>\n",
       "      <td>no</td>\n",
       "      <td>2</td>\n",
       "      <td>yes</td>\n",
       "      <td>semi-furnished</td>\n",
       "    </tr>\n",
       "    <tr>\n",
       "      <th>3</th>\n",
       "      <td>12215000</td>\n",
       "      <td>7500</td>\n",
       "      <td>4</td>\n",
       "      <td>2</td>\n",
       "      <td>2</td>\n",
       "      <td>yes</td>\n",
       "      <td>no</td>\n",
       "      <td>yes</td>\n",
       "      <td>no</td>\n",
       "      <td>yes</td>\n",
       "      <td>3</td>\n",
       "      <td>yes</td>\n",
       "      <td>furnished</td>\n",
       "    </tr>\n",
       "    <tr>\n",
       "      <th>4</th>\n",
       "      <td>11410000</td>\n",
       "      <td>7420</td>\n",
       "      <td>4</td>\n",
       "      <td>1</td>\n",
       "      <td>2</td>\n",
       "      <td>yes</td>\n",
       "      <td>yes</td>\n",
       "      <td>yes</td>\n",
       "      <td>no</td>\n",
       "      <td>yes</td>\n",
       "      <td>2</td>\n",
       "      <td>no</td>\n",
       "      <td>furnished</td>\n",
       "    </tr>\n",
       "  </tbody>\n",
       "</table>\n",
       "</div>"
      ],
      "text/plain": [
       "      price  area  bedrooms  bathrooms  stories mainroad guestroom basement  \\\n",
       "0  13300000  7420         4          2        3      yes        no       no   \n",
       "1  12250000  8960         4          4        4      yes        no       no   \n",
       "2  12250000  9960         3          2        2      yes        no      yes   \n",
       "3  12215000  7500         4          2        2      yes        no      yes   \n",
       "4  11410000  7420         4          1        2      yes       yes      yes   \n",
       "\n",
       "  hotwaterheating airconditioning  parking prefarea furnishingstatus  \n",
       "0              no             yes        2      yes        furnished  \n",
       "1              no             yes        3       no        furnished  \n",
       "2              no              no        2      yes   semi-furnished  \n",
       "3              no             yes        3      yes        furnished  \n",
       "4              no             yes        2       no        furnished  "
      ]
     },
     "execution_count": 99,
     "metadata": {},
     "output_type": "execute_result"
    }
   ],
   "source": [
    "House=pd.read_excel('Housing dataset.xlsx')\n",
    "\n",
    "House.head(5)"
   ]
  },
  {
   "cell_type": "code",
   "execution_count": 100,
   "id": "d54dac25",
   "metadata": {},
   "outputs": [
    {
     "data": {
      "text/plain": [
       "(100, 13)"
      ]
     },
     "execution_count": 100,
     "metadata": {},
     "output_type": "execute_result"
    }
   ],
   "source": [
    "#The data contains 100 rows and 13 columns\n",
    "House.shape"
   ]
  },
  {
   "cell_type": "code",
   "execution_count": 101,
   "id": "0fac1735",
   "metadata": {},
   "outputs": [
    {
     "data": {
      "text/html": [
       "<div>\n",
       "<style scoped>\n",
       "    .dataframe tbody tr th:only-of-type {\n",
       "        vertical-align: middle;\n",
       "    }\n",
       "\n",
       "    .dataframe tbody tr th {\n",
       "        vertical-align: top;\n",
       "    }\n",
       "\n",
       "    .dataframe thead th {\n",
       "        text-align: right;\n",
       "    }\n",
       "</style>\n",
       "<table border=\"1\" class=\"dataframe\">\n",
       "  <thead>\n",
       "    <tr style=\"text-align: right;\">\n",
       "      <th></th>\n",
       "      <th>price</th>\n",
       "      <th>area</th>\n",
       "      <th>bedrooms</th>\n",
       "      <th>bathrooms</th>\n",
       "      <th>stories</th>\n",
       "      <th>mainroad</th>\n",
       "      <th>guestroom</th>\n",
       "      <th>basement</th>\n",
       "      <th>hotwaterheating</th>\n",
       "      <th>airconditioning</th>\n",
       "      <th>parking</th>\n",
       "      <th>prefarea</th>\n",
       "      <th>furnishingstatus</th>\n",
       "    </tr>\n",
       "  </thead>\n",
       "  <tbody>\n",
       "    <tr>\n",
       "      <th>0</th>\n",
       "      <td>13300000</td>\n",
       "      <td>7420</td>\n",
       "      <td>4</td>\n",
       "      <td>2</td>\n",
       "      <td>3</td>\n",
       "      <td>yes</td>\n",
       "      <td>no</td>\n",
       "      <td>no</td>\n",
       "      <td>no</td>\n",
       "      <td>yes</td>\n",
       "      <td>2</td>\n",
       "      <td>yes</td>\n",
       "      <td>furnished</td>\n",
       "    </tr>\n",
       "    <tr>\n",
       "      <th>1</th>\n",
       "      <td>12250000</td>\n",
       "      <td>8960</td>\n",
       "      <td>4</td>\n",
       "      <td>4</td>\n",
       "      <td>4</td>\n",
       "      <td>yes</td>\n",
       "      <td>no</td>\n",
       "      <td>no</td>\n",
       "      <td>no</td>\n",
       "      <td>yes</td>\n",
       "      <td>3</td>\n",
       "      <td>no</td>\n",
       "      <td>furnished</td>\n",
       "    </tr>\n",
       "    <tr>\n",
       "      <th>2</th>\n",
       "      <td>12250000</td>\n",
       "      <td>9960</td>\n",
       "      <td>3</td>\n",
       "      <td>2</td>\n",
       "      <td>2</td>\n",
       "      <td>yes</td>\n",
       "      <td>no</td>\n",
       "      <td>yes</td>\n",
       "      <td>no</td>\n",
       "      <td>no</td>\n",
       "      <td>2</td>\n",
       "      <td>yes</td>\n",
       "      <td>semi-furnished</td>\n",
       "    </tr>\n",
       "    <tr>\n",
       "      <th>3</th>\n",
       "      <td>12215000</td>\n",
       "      <td>7500</td>\n",
       "      <td>4</td>\n",
       "      <td>2</td>\n",
       "      <td>2</td>\n",
       "      <td>yes</td>\n",
       "      <td>no</td>\n",
       "      <td>yes</td>\n",
       "      <td>no</td>\n",
       "      <td>yes</td>\n",
       "      <td>3</td>\n",
       "      <td>yes</td>\n",
       "      <td>furnished</td>\n",
       "    </tr>\n",
       "    <tr>\n",
       "      <th>4</th>\n",
       "      <td>11410000</td>\n",
       "      <td>7420</td>\n",
       "      <td>4</td>\n",
       "      <td>1</td>\n",
       "      <td>2</td>\n",
       "      <td>yes</td>\n",
       "      <td>yes</td>\n",
       "      <td>yes</td>\n",
       "      <td>no</td>\n",
       "      <td>yes</td>\n",
       "      <td>2</td>\n",
       "      <td>no</td>\n",
       "      <td>furnished</td>\n",
       "    </tr>\n",
       "  </tbody>\n",
       "</table>\n",
       "</div>"
      ],
      "text/plain": [
       "      price  area  bedrooms  bathrooms  stories mainroad guestroom basement  \\\n",
       "0  13300000  7420         4          2        3      yes        no       no   \n",
       "1  12250000  8960         4          4        4      yes        no       no   \n",
       "2  12250000  9960         3          2        2      yes        no      yes   \n",
       "3  12215000  7500         4          2        2      yes        no      yes   \n",
       "4  11410000  7420         4          1        2      yes       yes      yes   \n",
       "\n",
       "  hotwaterheating airconditioning  parking prefarea furnishingstatus  \n",
       "0              no             yes        2      yes        furnished  \n",
       "1              no             yes        3       no        furnished  \n",
       "2              no              no        2      yes   semi-furnished  \n",
       "3              no             yes        3      yes        furnished  \n",
       "4              no             yes        2       no        furnished  "
      ]
     },
     "execution_count": 101,
     "metadata": {},
     "output_type": "execute_result"
    }
   ],
   "source": [
    "# In this data,first head\n",
    "House.head()"
   ]
  },
  {
   "cell_type": "code",
   "execution_count": 102,
   "id": "9f62000f",
   "metadata": {},
   "outputs": [
    {
     "data": {
      "text/html": [
       "<div>\n",
       "<style scoped>\n",
       "    .dataframe tbody tr th:only-of-type {\n",
       "        vertical-align: middle;\n",
       "    }\n",
       "\n",
       "    .dataframe tbody tr th {\n",
       "        vertical-align: top;\n",
       "    }\n",
       "\n",
       "    .dataframe thead th {\n",
       "        text-align: right;\n",
       "    }\n",
       "</style>\n",
       "<table border=\"1\" class=\"dataframe\">\n",
       "  <thead>\n",
       "    <tr style=\"text-align: right;\">\n",
       "      <th></th>\n",
       "      <th>price</th>\n",
       "      <th>area</th>\n",
       "      <th>bedrooms</th>\n",
       "      <th>bathrooms</th>\n",
       "      <th>stories</th>\n",
       "      <th>mainroad</th>\n",
       "      <th>guestroom</th>\n",
       "      <th>basement</th>\n",
       "      <th>hotwaterheating</th>\n",
       "      <th>airconditioning</th>\n",
       "      <th>parking</th>\n",
       "      <th>prefarea</th>\n",
       "      <th>furnishingstatus</th>\n",
       "    </tr>\n",
       "  </thead>\n",
       "  <tbody>\n",
       "    <tr>\n",
       "      <th>95</th>\n",
       "      <td>6300000</td>\n",
       "      <td>4100</td>\n",
       "      <td>3</td>\n",
       "      <td>2</td>\n",
       "      <td>3</td>\n",
       "      <td>yes</td>\n",
       "      <td>no</td>\n",
       "      <td>no</td>\n",
       "      <td>no</td>\n",
       "      <td>yes</td>\n",
       "      <td>2</td>\n",
       "      <td>no</td>\n",
       "      <td>semi-furnished</td>\n",
       "    </tr>\n",
       "    <tr>\n",
       "      <th>96</th>\n",
       "      <td>6300000</td>\n",
       "      <td>9000</td>\n",
       "      <td>3</td>\n",
       "      <td>1</td>\n",
       "      <td>1</td>\n",
       "      <td>yes</td>\n",
       "      <td>no</td>\n",
       "      <td>yes</td>\n",
       "      <td>no</td>\n",
       "      <td>no</td>\n",
       "      <td>1</td>\n",
       "      <td>yes</td>\n",
       "      <td>furnished</td>\n",
       "    </tr>\n",
       "    <tr>\n",
       "      <th>97</th>\n",
       "      <td>6300000</td>\n",
       "      <td>6400</td>\n",
       "      <td>3</td>\n",
       "      <td>1</td>\n",
       "      <td>1</td>\n",
       "      <td>yes</td>\n",
       "      <td>yes</td>\n",
       "      <td>yes</td>\n",
       "      <td>no</td>\n",
       "      <td>yes</td>\n",
       "      <td>1</td>\n",
       "      <td>yes</td>\n",
       "      <td>semi-furnished</td>\n",
       "    </tr>\n",
       "    <tr>\n",
       "      <th>98</th>\n",
       "      <td>6293000</td>\n",
       "      <td>6600</td>\n",
       "      <td>3</td>\n",
       "      <td>2</td>\n",
       "      <td>3</td>\n",
       "      <td>yes</td>\n",
       "      <td>no</td>\n",
       "      <td>no</td>\n",
       "      <td>no</td>\n",
       "      <td>yes</td>\n",
       "      <td>0</td>\n",
       "      <td>yes</td>\n",
       "      <td>unfurnished</td>\n",
       "    </tr>\n",
       "    <tr>\n",
       "      <th>99</th>\n",
       "      <td>6265000</td>\n",
       "      <td>6000</td>\n",
       "      <td>4</td>\n",
       "      <td>1</td>\n",
       "      <td>3</td>\n",
       "      <td>yes</td>\n",
       "      <td>yes</td>\n",
       "      <td>yes</td>\n",
       "      <td>no</td>\n",
       "      <td>no</td>\n",
       "      <td>0</td>\n",
       "      <td>yes</td>\n",
       "      <td>unfurnished</td>\n",
       "    </tr>\n",
       "  </tbody>\n",
       "</table>\n",
       "</div>"
      ],
      "text/plain": [
       "      price  area  bedrooms  bathrooms  stories mainroad guestroom basement  \\\n",
       "95  6300000  4100         3          2        3      yes        no       no   \n",
       "96  6300000  9000         3          1        1      yes        no      yes   \n",
       "97  6300000  6400         3          1        1      yes       yes      yes   \n",
       "98  6293000  6600         3          2        3      yes        no       no   \n",
       "99  6265000  6000         4          1        3      yes       yes      yes   \n",
       "\n",
       "   hotwaterheating airconditioning  parking prefarea furnishingstatus  \n",
       "95              no             yes        2       no   semi-furnished  \n",
       "96              no              no        1      yes        furnished  \n",
       "97              no             yes        1      yes   semi-furnished  \n",
       "98              no             yes        0      yes      unfurnished  \n",
       "99              no              no        0      yes      unfurnished  "
      ]
     },
     "execution_count": 102,
     "metadata": {},
     "output_type": "execute_result"
    }
   ],
   "source": [
    "#In this data, last tail\n",
    "\n",
    "House.tail()"
   ]
  },
  {
   "cell_type": "code",
   "execution_count": 103,
   "id": "e488623b",
   "metadata": {},
   "outputs": [
    {
     "data": {
      "text/plain": [
       "Index(['price', 'area', 'bedrooms', 'bathrooms', 'stories', 'mainroad',\n",
       "       'guestroom', 'basement', 'hotwaterheating', 'airconditioning',\n",
       "       'parking', 'prefarea', 'furnishingstatus'],\n",
       "      dtype='object')"
      ]
     },
     "execution_count": 103,
     "metadata": {},
     "output_type": "execute_result"
    }
   ],
   "source": [
    "# Checking column names\n",
    "\n",
    "House.columns"
   ]
  },
  {
   "cell_type": "code",
   "execution_count": 104,
   "id": "10e995da",
   "metadata": {},
   "outputs": [
    {
     "name": "stdout",
     "output_type": "stream",
     "text": [
      "<class 'pandas.core.frame.DataFrame'>\n",
      "RangeIndex: 100 entries, 0 to 99\n",
      "Data columns (total 13 columns):\n",
      " #   Column            Non-Null Count  Dtype \n",
      "---  ------            --------------  ----- \n",
      " 0   price             100 non-null    int64 \n",
      " 1   area              100 non-null    int64 \n",
      " 2   bedrooms          100 non-null    int64 \n",
      " 3   bathrooms         100 non-null    int64 \n",
      " 4   stories           100 non-null    int64 \n",
      " 5   mainroad          100 non-null    object\n",
      " 6   guestroom         100 non-null    object\n",
      " 7   basement          100 non-null    object\n",
      " 8   hotwaterheating   100 non-null    object\n",
      " 9   airconditioning   100 non-null    object\n",
      " 10  parking           100 non-null    int64 \n",
      " 11  prefarea          100 non-null    object\n",
      " 12  furnishingstatus  100 non-null    object\n",
      "dtypes: int64(6), object(7)\n",
      "memory usage: 10.3+ KB\n"
     ]
    }
   ],
   "source": [
    "#Check is there any null values in the data. Yes/ No\n",
    "\n",
    "House.info()"
   ]
  },
  {
   "cell_type": "code",
   "execution_count": 105,
   "id": "70c65132",
   "metadata": {},
   "outputs": [
    {
     "data": {
      "text/plain": [
       "price               0\n",
       "area                0\n",
       "bedrooms            0\n",
       "bathrooms           0\n",
       "stories             0\n",
       "mainroad            0\n",
       "guestroom           0\n",
       "basement            0\n",
       "hotwaterheating     0\n",
       "airconditioning     0\n",
       "parking             0\n",
       "prefarea            0\n",
       "furnishingstatus    0\n",
       "dtype: int64"
      ]
     },
     "execution_count": 105,
     "metadata": {},
     "output_type": "execute_result"
    }
   ],
   "source": [
    "# Checking Nan value and removing from dataset\n",
    "\n",
    "House.isnull().sum()"
   ]
  },
  {
   "cell_type": "code",
   "execution_count": 106,
   "id": "66b95102",
   "metadata": {},
   "outputs": [
    {
     "data": {
      "text/plain": [
       "array(['furnished', 'semi-furnished', 'unfurnished'], dtype=object)"
      ]
     },
     "execution_count": 106,
     "metadata": {},
     "output_type": "execute_result"
    }
   ],
   "source": [
    "# Reading furnishingstatus of dataset\n",
    "\n",
    "House['furnishingstatus'].unique()"
   ]
  },
  {
   "cell_type": "code",
   "execution_count": 107,
   "id": "d60f9eeb",
   "metadata": {},
   "outputs": [
    {
     "data": {
      "text/html": [
       "<div>\n",
       "<style scoped>\n",
       "    .dataframe tbody tr th:only-of-type {\n",
       "        vertical-align: middle;\n",
       "    }\n",
       "\n",
       "    .dataframe tbody tr th {\n",
       "        vertical-align: top;\n",
       "    }\n",
       "\n",
       "    .dataframe thead th {\n",
       "        text-align: right;\n",
       "    }\n",
       "</style>\n",
       "<table border=\"1\" class=\"dataframe\">\n",
       "  <thead>\n",
       "    <tr style=\"text-align: right;\">\n",
       "      <th></th>\n",
       "      <th>price</th>\n",
       "      <th>area</th>\n",
       "      <th>bedrooms</th>\n",
       "      <th>bathrooms</th>\n",
       "      <th>stories</th>\n",
       "      <th>parking</th>\n",
       "    </tr>\n",
       "  </thead>\n",
       "  <tbody>\n",
       "    <tr>\n",
       "      <th>count</th>\n",
       "      <td>1.000000e+02</td>\n",
       "      <td>100.000000</td>\n",
       "      <td>100.000000</td>\n",
       "      <td>100.000000</td>\n",
       "      <td>100.00000</td>\n",
       "      <td>100.000000</td>\n",
       "    </tr>\n",
       "    <tr>\n",
       "      <th>mean</th>\n",
       "      <td>7.859244e+06</td>\n",
       "      <td>6927.570000</td>\n",
       "      <td>3.330000</td>\n",
       "      <td>1.760000</td>\n",
       "      <td>2.54000</td>\n",
       "      <td>1.210000</td>\n",
       "    </tr>\n",
       "    <tr>\n",
       "      <th>std</th>\n",
       "      <td>1.486521e+06</td>\n",
       "      <td>2118.325855</td>\n",
       "      <td>0.620443</td>\n",
       "      <td>0.605029</td>\n",
       "      <td>1.10481</td>\n",
       "      <td>0.832363</td>\n",
       "    </tr>\n",
       "    <tr>\n",
       "      <th>min</th>\n",
       "      <td>6.265000e+06</td>\n",
       "      <td>3500.000000</td>\n",
       "      <td>2.000000</td>\n",
       "      <td>1.000000</td>\n",
       "      <td>1.00000</td>\n",
       "      <td>0.000000</td>\n",
       "    </tr>\n",
       "    <tr>\n",
       "      <th>25%</th>\n",
       "      <td>6.650000e+06</td>\n",
       "      <td>6000.000000</td>\n",
       "      <td>3.000000</td>\n",
       "      <td>1.000000</td>\n",
       "      <td>2.00000</td>\n",
       "      <td>1.000000</td>\n",
       "    </tr>\n",
       "    <tr>\n",
       "      <th>50%</th>\n",
       "      <td>7.420000e+06</td>\n",
       "      <td>6490.000000</td>\n",
       "      <td>3.000000</td>\n",
       "      <td>2.000000</td>\n",
       "      <td>2.00000</td>\n",
       "      <td>1.000000</td>\n",
       "    </tr>\n",
       "    <tr>\n",
       "      <th>75%</th>\n",
       "      <td>8.548750e+06</td>\n",
       "      <td>7685.000000</td>\n",
       "      <td>4.000000</td>\n",
       "      <td>2.000000</td>\n",
       "      <td>4.00000</td>\n",
       "      <td>2.000000</td>\n",
       "    </tr>\n",
       "    <tr>\n",
       "      <th>max</th>\n",
       "      <td>1.330000e+07</td>\n",
       "      <td>16200.000000</td>\n",
       "      <td>5.000000</td>\n",
       "      <td>4.000000</td>\n",
       "      <td>4.00000</td>\n",
       "      <td>3.000000</td>\n",
       "    </tr>\n",
       "  </tbody>\n",
       "</table>\n",
       "</div>"
      ],
      "text/plain": [
       "              price          area    bedrooms   bathrooms    stories  \\\n",
       "count  1.000000e+02    100.000000  100.000000  100.000000  100.00000   \n",
       "mean   7.859244e+06   6927.570000    3.330000    1.760000    2.54000   \n",
       "std    1.486521e+06   2118.325855    0.620443    0.605029    1.10481   \n",
       "min    6.265000e+06   3500.000000    2.000000    1.000000    1.00000   \n",
       "25%    6.650000e+06   6000.000000    3.000000    1.000000    2.00000   \n",
       "50%    7.420000e+06   6490.000000    3.000000    2.000000    2.00000   \n",
       "75%    8.548750e+06   7685.000000    4.000000    2.000000    4.00000   \n",
       "max    1.330000e+07  16200.000000    5.000000    4.000000    4.00000   \n",
       "\n",
       "          parking  \n",
       "count  100.000000  \n",
       "mean     1.210000  \n",
       "std      0.832363  \n",
       "min      0.000000  \n",
       "25%      1.000000  \n",
       "50%      1.000000  \n",
       "75%      2.000000  \n",
       "max      3.000000  "
      ]
     },
     "execution_count": 107,
     "metadata": {},
     "output_type": "execute_result"
    }
   ],
   "source": [
    "#this will show some basic Statistics, summary statistics of the fields in the data\n",
    "\n",
    "House.describe()"
   ]
  },
  {
   "cell_type": "code",
   "execution_count": 108,
   "id": "f0f4e2a7",
   "metadata": {},
   "outputs": [
    {
     "data": {
      "text/plain": [
       "furnished         45\n",
       "semi-furnished    35\n",
       "unfurnished       20\n",
       "Name: furnishingstatus, dtype: int64"
      ]
     },
     "execution_count": 108,
     "metadata": {},
     "output_type": "execute_result"
    }
   ],
   "source": [
    "# Find total number of furnishingstatus\n",
    "\n",
    "b=House['furnishingstatus'].value_counts()\n",
    "b"
   ]
  },
  {
   "cell_type": "code",
   "execution_count": 109,
   "id": "6964e7db",
   "metadata": {},
   "outputs": [
    {
     "data": {
      "text/plain": [
       "Text(0.5, 1.0, 'furnishingstatus')"
      ]
     },
     "execution_count": 109,
     "metadata": {},
     "output_type": "execute_result"
    },
    {
     "data": {
      "image/png": "[encoded data removed]",
      "text/plain": [
       "<Figure size 432x288 with 1 Axes>"
      ]
     },
     "metadata": {
      "needs_background": "light"
     },
     "output_type": "display_data"
    }
   ],
   "source": [
    "# Bar plot of furnishingstatus\n",
    "\n",
    "b.plot(kind='bar', color='green')\n",
    "plt.title('furnishingstatus')"
   ]
  },
  {
   "cell_type": "code",
   "execution_count": 110,
   "id": "aab412c2",
   "metadata": {},
   "outputs": [
    {
     "data": {
      "text/plain": [
       "furnished         0.45\n",
       "semi-furnished    0.35\n",
       "unfurnished       0.20\n",
       "Name: furnishingstatus, dtype: float64"
      ]
     },
     "execution_count": 110,
     "metadata": {},
     "output_type": "execute_result"
    }
   ],
   "source": [
    "a=House['furnishingstatus'].value_counts(normalize = True)\n",
    "a"
   ]
  },
  {
   "cell_type": "code",
   "execution_count": 111,
   "id": "a7c94cd5",
   "metadata": {},
   "outputs": [
    {
     "data": {
      "text/plain": [
       "<AxesSubplot:ylabel='furnishingstatus'>"
      ]
     },
     "execution_count": 111,
     "metadata": {},
     "output_type": "execute_result"
    },
    {
     "data": {
      "image/png": "[encoded data removed]",
      "text/plain": [
       "<Figure size 432x288 with 1 Axes>"
      ]
     },
     "metadata": {},
     "output_type": "display_data"
    }
   ],
   "source": [
    "# In this show pie plot in furnishingstatus\n",
    "\n",
    "a.plot(kind='pie',autopct='%1.2f%%')"
   ]
  },
  {
   "cell_type": "code",
   "execution_count": 112,
   "id": "d7444c49",
   "metadata": {},
   "outputs": [
    {
     "data": {
      "text/plain": [
       "no     58\n",
       "yes    42\n",
       "Name: prefarea, dtype: int64"
      ]
     },
     "execution_count": 112,
     "metadata": {},
     "output_type": "execute_result"
    }
   ],
   "source": [
    "# Find total number of prefarea\n",
    "\n",
    "a1=House['prefarea'].value_counts()\n",
    "a1"
   ]
  },
  {
   "cell_type": "code",
   "execution_count": 113,
   "id": "c192f4d0",
   "metadata": {},
   "outputs": [
    {
     "data": {
      "text/plain": [
       "Text(0.5, 1.0, 'Prefarea')"
      ]
     },
     "execution_count": 113,
     "metadata": {},
     "output_type": "execute_result"
    },
    {
     "data": {
      "image/png": "[encoded data removed]",
      "text/plain": [
       "<Figure size 432x288 with 1 Axes>"
      ]
     },
     "metadata": {
      "needs_background": "light"
     },
     "output_type": "display_data"
    }
   ],
   "source": [
    "# Bar plot of prefarea\n",
    "\n",
    "a1.plot(kind='bar', color='orange')\n",
    "plt.title('Prefarea',fontdict= {'fontsize':20, 'fontweight':5, 'color':'darkblue'})"
   ]
  },
  {
   "cell_type": "code",
   "execution_count": 114,
   "id": "d4ac69e1",
   "metadata": {},
   "outputs": [
    {
     "data": {
      "text/plain": [
       "<AxesSubplot:ylabel='prefarea'>"
      ]
     },
     "execution_count": 114,
     "metadata": {},
     "output_type": "execute_result"
    },
    {
     "data": {
      "image/png": "[encoded data removed]",
      "text/plain": [
       "<Figure size 432x288 with 1 Axes>"
      ]
     },
     "metadata": {},
     "output_type": "display_data"
    }
   ],
   "source": [
    "a1.plot(kind='pie',autopct='%1.2f%%')"
   ]
  },
  {
   "cell_type": "code",
   "execution_count": 115,
   "id": "df9955f4",
   "metadata": {},
   "outputs": [
    {
     "data": {
      "text/plain": [
       "yes    69\n",
       "no     31\n",
       "Name: airconditioning, dtype: int64"
      ]
     },
     "execution_count": 115,
     "metadata": {},
     "output_type": "execute_result"
    }
   ],
   "source": [
    "# Find total number of airconditioning\n",
    "\n",
    "a2=House['airconditioning'].value_counts()\n",
    "a2"
   ]
  },
  {
   "cell_type": "code",
   "execution_count": 116,
   "id": "91030a1e",
   "metadata": {},
   "outputs": [
    {
     "data": {
      "text/plain": [
       "<AxesSubplot:ylabel='airconditioning'>"
      ]
     },
     "execution_count": 116,
     "metadata": {},
     "output_type": "execute_result"
    },
    {
     "data": {
      "image/png": "[encoded data removed]",
      "text/plain": [
       "<Figure size 432x288 with 1 Axes>"
      ]
     },
     "metadata": {},
     "output_type": "display_data"
    }
   ],
   "source": [
    "a2.plot(kind='pie',autopct='%1.2f%%')"
   ]
  },
  {
   "cell_type": "code",
   "execution_count": 117,
   "id": "18250559",
   "metadata": {},
   "outputs": [
    {
     "data": {
      "text/plain": [
       "Text(0.5, 1.0, 'Airconditioning')"
      ]
     },
     "execution_count": 117,
     "metadata": {},
     "output_type": "execute_result"
    },
    {
     "data": {
      "image/png": "[encoded data removed]",
      "text/plain": [
       "<Figure size 432x288 with 1 Axes>"
      ]
     },
     "metadata": {
      "needs_background": "light"
     },
     "output_type": "display_data"
    }
   ],
   "source": [
    "# Bar plot of airconditioning\n",
    "\n",
    "a2.plot(kind='bar', color='blue')\n",
    "plt.title('Airconditioning' ,fontdict= {'fontsize':20, 'fontweight':5, 'color':'darkblue'})"
   ]
  },
  {
   "cell_type": "code",
   "execution_count": 118,
   "id": "47448f81",
   "metadata": {},
   "outputs": [
    {
     "data": {
      "text/plain": [
       "<AxesSubplot:ylabel='airconditioning'>"
      ]
     },
     "execution_count": 118,
     "metadata": {},
     "output_type": "execute_result"
    },
    {
     "data": {
      "image/png": "[encoded data removed]",
      "text/plain": [
       "<Figure size 432x288 with 1 Axes>"
      ]
     },
     "metadata": {},
     "output_type": "display_data"
    }
   ],
   "source": [
    "a2.plot(kind='pie',autopct='%1.2f%%')"
   ]
  },
  {
   "cell_type": "code",
   "execution_count": 119,
   "id": "80081ee6",
   "metadata": {},
   "outputs": [
    {
     "data": {
      "text/plain": [
       "no     90\n",
       "yes    10\n",
       "Name: hotwaterheating, dtype: int64"
      ]
     },
     "execution_count": 119,
     "metadata": {},
     "output_type": "execute_result"
    }
   ],
   "source": [
    "# Find total number of hotwaterheating\n",
    "\n",
    "a3=House['hotwaterheating'].value_counts()\n",
    "a3"
   ]
  },
  {
   "cell_type": "code",
   "execution_count": 120,
   "id": "dd78dbb6",
   "metadata": {},
   "outputs": [
    {
     "data": {
      "text/plain": [
       "Text(0.5, 1.0, 'Hotwaterheating')"
      ]
     },
     "execution_count": 120,
     "metadata": {},
     "output_type": "execute_result"
    },
    {
     "data": {
      "image/png": "[encoded data removed]",
      "text/plain": [
       "<Figure size 432x288 with 1 Axes>"
      ]
     },
     "metadata": {
      "needs_background": "light"
     },
     "output_type": "display_data"
    }
   ],
   "source": [
    "# Bar plot of hotwaterheating\n",
    "\n",
    "a3.plot(kind='bar', color='blue')\n",
    "plt.title('Hotwaterheating' ,fontdict= {'fontsize':20, 'fontweight':5, 'color':'darkblue'})"
   ]
  },
  {
   "cell_type": "code",
   "execution_count": 121,
   "id": "acfe3fc5",
   "metadata": {},
   "outputs": [
    {
     "data": {
      "text/plain": [
       "<AxesSubplot:ylabel='hotwaterheating'>"
      ]
     },
     "execution_count": 121,
     "metadata": {},
     "output_type": "execute_result"
    },
    {
     "data": {
      "image/png": "[encoded data removed]",
      "text/plain": [
       "<Figure size 432x288 with 1 Axes>"
      ]
     },
     "metadata": {},
     "output_type": "display_data"
    }
   ],
   "source": [
    "a3.plot(kind='pie',autopct='%1.2f%%')"
   ]
  },
  {
   "cell_type": "code",
   "execution_count": 122,
   "id": "37ba55c6",
   "metadata": {},
   "outputs": [
    {
     "data": {
      "text/plain": [
       "no     60\n",
       "yes    40\n",
       "Name: basement, dtype: int64"
      ]
     },
     "execution_count": 122,
     "metadata": {},
     "output_type": "execute_result"
    }
   ],
   "source": [
    "# Find total number of basement\n",
    "\n",
    "a4=House['basement'].value_counts()\n",
    "a4"
   ]
  },
  {
   "cell_type": "code",
   "execution_count": 123,
   "id": "0f507e82",
   "metadata": {},
   "outputs": [
    {
     "data": {
      "text/plain": [
       "Text(0.5, 1.0, 'Basement')"
      ]
     },
     "execution_count": 123,
     "metadata": {},
     "output_type": "execute_result"
    },
    {
     "data": {
      "image/png": "[encoded data removed]",
      "text/plain": [
       "<Figure size 432x288 with 1 Axes>"
      ]
     },
     "metadata": {
      "needs_background": "light"
     },
     "output_type": "display_data"
    }
   ],
   "source": [
    "# Bar plot of Basement\n",
    "\n",
    "a4.plot(kind='bar', color='blue')\n",
    "plt.title('Basement' ,fontdict= {'fontsize':20, 'fontweight':5, 'color':'darkblue'})"
   ]
  },
  {
   "cell_type": "code",
   "execution_count": 124,
   "id": "e477b19c",
   "metadata": {},
   "outputs": [
    {
     "data": {
      "text/plain": [
       "<AxesSubplot:ylabel='basement'>"
      ]
     },
     "execution_count": 124,
     "metadata": {},
     "output_type": "execute_result"
    },
    {
     "data": {
      "image/png": "[encoded data removed]",
      "text/plain": [
       "<Figure size 432x288 with 1 Axes>"
      ]
     },
     "metadata": {},
     "output_type": "display_data"
    }
   ],
   "source": [
    "a4.plot(kind='pie',autopct='%1.2f%%')"
   ]
  },
  {
   "cell_type": "code",
   "execution_count": 125,
   "id": "208a8798",
   "metadata": {},
   "outputs": [
    {
     "data": {
      "text/plain": [
       "no     72\n",
       "yes    28\n",
       "Name: guestroom, dtype: int64"
      ]
     },
     "execution_count": 125,
     "metadata": {},
     "output_type": "execute_result"
    }
   ],
   "source": [
    "# Find total number of guestroom\n",
    "\n",
    "a5=House['guestroom'].value_counts()\n",
    "a5"
   ]
  },
  {
   "cell_type": "code",
   "execution_count": 126,
   "id": "38b6ac60",
   "metadata": {},
   "outputs": [
    {
     "data": {
      "text/plain": [
       "<AxesSubplot:ylabel='guestroom'>"
      ]
     },
     "execution_count": 126,
     "metadata": {},
     "output_type": "execute_result"
    },
    {
     "data": {
      "image/png": "[encoded data removed]",
      "text/plain": [
       "<Figure size 432x288 with 1 Axes>"
      ]
     },
     "metadata": {},
     "output_type": "display_data"
    }
   ],
   "source": [
    "a5.plot(kind='pie',autopct='%1.2f%%')"
   ]
  },
  {
   "cell_type": "code",
   "execution_count": 127,
   "id": "095bed0b",
   "metadata": {},
   "outputs": [
    {
     "data": {
      "text/plain": [
       "Text(0.5, 1.0, 'Guestroom')"
      ]
     },
     "execution_count": 127,
     "metadata": {},
     "output_type": "execute_result"
    },
    {
     "data": {
      "image/png": "[encoded data removed]",
      "text/plain": [
       "<Figure size 432x288 with 1 Axes>"
      ]
     },
     "metadata": {
      "needs_background": "light"
     },
     "output_type": "display_data"
    }
   ],
   "source": [
    "# Bar plot of guestroom\n",
    "\n",
    "a5.plot(kind='bar', color='blue')\n",
    "plt.title('Guestroom' ,fontdict= {'fontsize':20, 'fontweight':5, 'color':'darkblue'})"
   ]
  },
  {
   "cell_type": "code",
   "execution_count": 128,
   "id": "ea4f54c1",
   "metadata": {},
   "outputs": [
    {
     "data": {
      "text/plain": [
       "yes    100\n",
       "Name: mainroad, dtype: int64"
      ]
     },
     "execution_count": 128,
     "metadata": {},
     "output_type": "execute_result"
    }
   ],
   "source": [
    "# Find total number of mainroad\n",
    "\n",
    "a6=House['mainroad'].value_counts()\n",
    "a6"
   ]
  },
  {
   "cell_type": "code",
   "execution_count": 129,
   "id": "fd6bad44",
   "metadata": {},
   "outputs": [
    {
     "data": {
      "text/plain": [
       "Text(0.5, 1.0, 'Mainroad')"
      ]
     },
     "execution_count": 129,
     "metadata": {},
     "output_type": "execute_result"
    },
    {
     "data": {
      "image/png": "[encoded data removed]",
      "text/plain": [
       "<Figure size 432x288 with 1 Axes>"
      ]
     },
     "metadata": {
      "needs_background": "light"
     },
     "output_type": "display_data"
    }
   ],
   "source": [
    "# Bar plot of mainroad\n",
    "\n",
    "a6.plot(kind='bar', color='blue')\n",
    "plt.title('Mainroad' ,fontdict= {'fontsize':20, 'fontweight':5, 'color':'darkblue'})"
   ]
  },
  {
   "cell_type": "code",
   "execution_count": 130,
   "id": "16445974",
   "metadata": {},
   "outputs": [
    {
     "data": {
      "text/plain": [
       "333"
      ]
     },
     "execution_count": 130,
     "metadata": {},
     "output_type": "execute_result"
    }
   ],
   "source": [
    "House['bedrooms'].sum()\n"
   ]
  },
  {
   "cell_type": "code",
   "execution_count": 131,
   "id": "c9ce11a5",
   "metadata": {},
   "outputs": [
    {
     "data": {
      "text/plain": [
       "3.33"
      ]
     },
     "execution_count": 131,
     "metadata": {},
     "output_type": "execute_result"
    }
   ],
   "source": [
    "House['bedrooms'].mean()"
   ]
  },
  {
   "cell_type": "code",
   "execution_count": 132,
   "id": "44f4cf7b",
   "metadata": {},
   "outputs": [
    {
     "data": {
      "text/plain": [
       "5"
      ]
     },
     "execution_count": 132,
     "metadata": {},
     "output_type": "execute_result"
    }
   ],
   "source": [
    "House['bedrooms'].max()"
   ]
  },
  {
   "cell_type": "code",
   "execution_count": 133,
   "id": "acdcbb6a",
   "metadata": {},
   "outputs": [
    {
     "data": {
      "text/plain": [
       "2"
      ]
     },
     "execution_count": 133,
     "metadata": {},
     "output_type": "execute_result"
    }
   ],
   "source": [
    "House['bedrooms'].min()"
   ]
  },
  {
   "cell_type": "code",
   "execution_count": 134,
   "id": "f93cd0ab",
   "metadata": {},
   "outputs": [
    {
     "data": {
      "text/plain": [
       "176"
      ]
     },
     "execution_count": 134,
     "metadata": {},
     "output_type": "execute_result"
    }
   ],
   "source": [
    "House['bathrooms'].sum()\n"
   ]
  },
  {
   "cell_type": "code",
   "execution_count": 135,
   "id": "33b86df2",
   "metadata": {},
   "outputs": [
    {
     "data": {
      "text/plain": [
       "1.76"
      ]
     },
     "execution_count": 135,
     "metadata": {},
     "output_type": "execute_result"
    }
   ],
   "source": [
    "House['bathrooms'].mean()"
   ]
  },
  {
   "cell_type": "code",
   "execution_count": 136,
   "id": "16f7816d",
   "metadata": {},
   "outputs": [
    {
     "data": {
      "text/plain": [
       "4"
      ]
     },
     "execution_count": 136,
     "metadata": {},
     "output_type": "execute_result"
    }
   ],
   "source": [
    "House['bathrooms'].max()"
   ]
  },
  {
   "cell_type": "code",
   "execution_count": 137,
   "id": "e0f61b45",
   "metadata": {},
   "outputs": [
    {
     "data": {
      "text/plain": [
       "1"
      ]
     },
     "execution_count": 137,
     "metadata": {},
     "output_type": "execute_result"
    }
   ],
   "source": [
    "House['bathrooms'].min()"
   ]
  },
  {
   "cell_type": "code",
   "execution_count": 138,
   "id": "ad832db3",
   "metadata": {},
   "outputs": [
    {
     "data": {
      "text/plain": [
       "254"
      ]
     },
     "execution_count": 138,
     "metadata": {},
     "output_type": "execute_result"
    }
   ],
   "source": [
    "House['stories'].sum()\n"
   ]
  },
  {
   "cell_type": "code",
   "execution_count": 139,
   "id": "d0214bdb",
   "metadata": {},
   "outputs": [
    {
     "data": {
      "text/plain": [
       "2.54"
      ]
     },
     "execution_count": 139,
     "metadata": {},
     "output_type": "execute_result"
    }
   ],
   "source": [
    "House['stories'].mean()"
   ]
  },
  {
   "cell_type": "code",
   "execution_count": 140,
   "id": "d2544202",
   "metadata": {},
   "outputs": [
    {
     "data": {
      "text/plain": [
       "4"
      ]
     },
     "execution_count": 140,
     "metadata": {},
     "output_type": "execute_result"
    }
   ],
   "source": [
    "House['stories'].max()"
   ]
  },
  {
   "cell_type": "code",
   "execution_count": 141,
   "id": "8f44a733",
   "metadata": {},
   "outputs": [
    {
     "data": {
      "text/plain": [
       "1"
      ]
     },
     "execution_count": 141,
     "metadata": {},
     "output_type": "execute_result"
    }
   ],
   "source": [
    "House['stories'].min()"
   ]
  },
  {
   "cell_type": "code",
   "execution_count": 142,
   "id": "ab7f6a9b",
   "metadata": {},
   "outputs": [
    {
     "data": {
      "text/plain": [
       "121"
      ]
     },
     "execution_count": 142,
     "metadata": {},
     "output_type": "execute_result"
    }
   ],
   "source": [
    "House['parking'].sum()\n"
   ]
  },
  {
   "cell_type": "code",
   "execution_count": 143,
   "id": "9984845a",
   "metadata": {},
   "outputs": [
    {
     "data": {
      "text/plain": [
       "1.21"
      ]
     },
     "execution_count": 143,
     "metadata": {},
     "output_type": "execute_result"
    }
   ],
   "source": [
    "House['parking'].mean()"
   ]
  },
  {
   "cell_type": "code",
   "execution_count": 144,
   "id": "313bd948",
   "metadata": {},
   "outputs": [
    {
     "data": {
      "text/plain": [
       "3"
      ]
     },
     "execution_count": 144,
     "metadata": {},
     "output_type": "execute_result"
    }
   ],
   "source": [
    "House['parking'].max()"
   ]
  },
  {
   "cell_type": "code",
   "execution_count": 145,
   "id": "2953123a",
   "metadata": {},
   "outputs": [
    {
     "data": {
      "text/plain": [
       "0"
      ]
     },
     "execution_count": 145,
     "metadata": {},
     "output_type": "execute_result"
    }
   ],
   "source": [
    "House['parking'].min()"
   ]
  },
  {
   "cell_type": "code",
   "execution_count": 146,
   "id": "87b03858",
   "metadata": {},
   "outputs": [
    {
     "data": {
      "text/plain": [
       "785924440"
      ]
     },
     "execution_count": 146,
     "metadata": {},
     "output_type": "execute_result"
    }
   ],
   "source": [
    "House['price'].sum()"
   ]
  },
  {
   "cell_type": "code",
   "execution_count": 147,
   "id": "7e57a944",
   "metadata": {},
   "outputs": [
    {
     "data": {
      "text/plain": [
       "7859244.4"
      ]
     },
     "execution_count": 147,
     "metadata": {},
     "output_type": "execute_result"
    }
   ],
   "source": [
    "House['price'].mean()"
   ]
  },
  {
   "cell_type": "code",
   "execution_count": 148,
   "id": "3e3108ce",
   "metadata": {},
   "outputs": [
    {
     "data": {
      "text/plain": [
       "13300000"
      ]
     },
     "execution_count": 148,
     "metadata": {},
     "output_type": "execute_result"
    }
   ],
   "source": [
    "House['price'].max()"
   ]
  },
  {
   "cell_type": "code",
   "execution_count": 149,
   "id": "47c1f3fe",
   "metadata": {},
   "outputs": [
    {
     "data": {
      "text/plain": [
       "6265000"
      ]
     },
     "execution_count": 149,
     "metadata": {},
     "output_type": "execute_result"
    }
   ],
   "source": [
    "House['price'].min()"
   ]
  },
  {
   "cell_type": "code",
   "execution_count": 150,
   "id": "1a8bd353",
   "metadata": {},
   "outputs": [
    {
     "data": {
      "text/plain": [
       "692757"
      ]
     },
     "execution_count": 150,
     "metadata": {},
     "output_type": "execute_result"
    }
   ],
   "source": [
    "m=House['area'].sum()\n",
    "m"
   ]
  },
  {
   "cell_type": "code",
   "execution_count": 151,
   "id": "cbf8a732",
   "metadata": {},
   "outputs": [
    {
     "data": {
      "text/plain": [
       "6927.57"
      ]
     },
     "execution_count": 151,
     "metadata": {},
     "output_type": "execute_result"
    }
   ],
   "source": [
    "House['area'].mean()"
   ]
  },
  {
   "cell_type": "code",
   "execution_count": 152,
   "id": "bb9e78f0",
   "metadata": {},
   "outputs": [
    {
     "data": {
      "text/plain": [
       "16200"
      ]
     },
     "execution_count": 152,
     "metadata": {},
     "output_type": "execute_result"
    }
   ],
   "source": [
    "House['area'].max()"
   ]
  },
  {
   "cell_type": "code",
   "execution_count": 153,
   "id": "88fa1719",
   "metadata": {},
   "outputs": [
    {
     "data": {
      "text/plain": [
       "3500"
      ]
     },
     "execution_count": 153,
     "metadata": {},
     "output_type": "execute_result"
    }
   ],
   "source": [
    "House['area'].min()"
   ]
  },
  {
   "cell_type": "code",
   "execution_count": 154,
   "id": "05f9c333",
   "metadata": {},
   "outputs": [
    {
     "data": {
      "text/plain": [
       "furnishingstatus\n",
       "furnished         7.959843e+06\n",
       "semi-furnished    7.822600e+06\n",
       "unfurnished       7.697025e+06\n",
       "Name: price, dtype: float64"
      ]
     },
     "execution_count": 154,
     "metadata": {},
     "output_type": "execute_result"
    }
   ],
   "source": [
    "n=House.groupby('furnishingstatus').mean()['price']\n",
    "n"
   ]
  },
  {
   "cell_type": "code",
   "execution_count": 155,
   "id": "7f25ec09",
   "metadata": {},
   "outputs": [
    {
     "data": {
      "text/plain": [
       "furnishingstatus\n",
       "furnished         358192940\n",
       "semi-furnished    273791000\n",
       "unfurnished       153940500\n",
       "Name: price, dtype: int64"
      ]
     },
     "execution_count": 155,
     "metadata": {},
     "output_type": "execute_result"
    }
   ],
   "source": [
    "n1=House.groupby('furnishingstatus').sum()['price']\n",
    "n1"
   ]
  },
  {
   "cell_type": "code",
   "execution_count": 156,
   "id": "d8dd33a3",
   "metadata": {},
   "outputs": [
    {
     "data": {
      "text/plain": [
       "Text(0.5, 1.0, 'Total price of each furnishingstatus')"
      ]
     },
     "execution_count": 156,
     "metadata": {},
     "output_type": "execute_result"
    },
    {
     "data": {
      "image/png": "[encoded data removed]",
      "text/plain": [
       "<Figure size 432x288 with 1 Axes>"
      ]
     },
     "metadata": {
      "needs_background": "light"
     },
     "output_type": "display_data"
    }
   ],
   "source": [
    "n1.plot(kind='bar')\n",
    "plt.title('Total price of each furnishingstatus', fontdict= {'fontsize':20, 'fontweight':5, 'color':'darkblue'})"
   ]
  },
  {
   "cell_type": "code",
   "execution_count": 157,
   "id": "e36b5db6",
   "metadata": {},
   "outputs": [
    {
     "data": {
      "text/plain": [
       "furnishingstatus\n",
       "furnished         331947\n",
       "semi-furnished    221775\n",
       "unfurnished       139035\n",
       "Name: area, dtype: int64"
      ]
     },
     "execution_count": 157,
     "metadata": {},
     "output_type": "execute_result"
    }
   ],
   "source": [
    "n2=House.groupby('furnishingstatus').sum()['area']\n",
    "n2"
   ]
  },
  {
   "cell_type": "code",
   "execution_count": 158,
   "id": "c464c604",
   "metadata": {},
   "outputs": [
    {
     "data": {
      "text/plain": [
       "Text(0.5, 1.0, 'Total area of each furnishingstatus')"
      ]
     },
     "execution_count": 158,
     "metadata": {},
     "output_type": "execute_result"
    },
    {
     "data": {
      "image/png": "[encoded data removed]",
      "text/plain": [
       "<Figure size 432x288 with 1 Axes>"
      ]
     },
     "metadata": {
      "needs_background": "light"
     },
     "output_type": "display_data"
    }
   ],
   "source": [
    "n2.plot(kind='bar')\n",
    "plt.title('Total area of each furnishingstatus', fontdict= {'fontsize':20, 'fontweight':5, 'color':'darkblue'})"
   ]
  },
  {
   "cell_type": "code",
   "execution_count": 159,
   "id": "ace22e7e",
   "metadata": {},
   "outputs": [
    {
     "data": {
      "text/plain": [
       "furnishingstatus\n",
       "furnished         151\n",
       "semi-furnished    115\n",
       "unfurnished        67\n",
       "Name: bedrooms, dtype: int64"
      ]
     },
     "execution_count": 159,
     "metadata": {},
     "output_type": "execute_result"
    }
   ],
   "source": [
    "n3=House.groupby('furnishingstatus').sum()['bedrooms']\n",
    "n3"
   ]
  },
  {
   "cell_type": "code",
   "execution_count": 160,
   "id": "f7fc308d",
   "metadata": {},
   "outputs": [
    {
     "data": {
      "text/plain": [
       "Text(0.5, 1.0, 'Total bedrooms of each furnishingstatus')"
      ]
     },
     "execution_count": 160,
     "metadata": {},
     "output_type": "execute_result"
    },
    {
     "data": {
      "image/png": "[encoded data removed]",
      "text/plain": [
       "<Figure size 432x288 with 1 Axes>"
      ]
     },
     "metadata": {
      "needs_background": "light"
     },
     "output_type": "display_data"
    }
   ],
   "source": [
    "n3.plot(kind='bar')\n",
    "plt.title('Total bedrooms of each furnishingstatus', fontdict= {'fontsize':20, 'fontweight':5, 'color':'darkblue'})"
   ]
  },
  {
   "cell_type": "code",
   "execution_count": 161,
   "id": "621036fc",
   "metadata": {},
   "outputs": [
    {
     "data": {
      "text/plain": [
       "furnishingstatus\n",
       "furnished         79\n",
       "semi-furnished    62\n",
       "unfurnished       35\n",
       "Name: bathrooms, dtype: int64"
      ]
     },
     "execution_count": 161,
     "metadata": {},
     "output_type": "execute_result"
    }
   ],
   "source": [
    "n4=House.groupby('furnishingstatus').sum()['bathrooms']\n",
    "n4"
   ]
  },
  {
   "cell_type": "code",
   "execution_count": 162,
   "id": "2d68cf87",
   "metadata": {},
   "outputs": [
    {
     "data": {
      "text/plain": [
       "Text(0.5, 1.0, 'Total bathrooms of each furnishingstatus')"
      ]
     },
     "execution_count": 162,
     "metadata": {},
     "output_type": "execute_result"
    },
    {
     "data": {
      "image/png": "[encoded data removed]",
      "text/plain": [
       "<Figure size 432x288 with 1 Axes>"
      ]
     },
     "metadata": {
      "needs_background": "light"
     },
     "output_type": "display_data"
    }
   ],
   "source": [
    "n4.plot(kind='bar')\n",
    "plt.title('Total bathrooms of each furnishingstatus', fontdict= {'fontsize':20, 'fontweight':5, 'color':'darkblue'})"
   ]
  },
  {
   "cell_type": "code",
   "execution_count": 163,
   "id": "ad2f892b",
   "metadata": {},
   "outputs": [
    {
     "data": {
      "text/plain": [
       "furnishingstatus\n",
       "furnished         115\n",
       "semi-furnished     83\n",
       "unfurnished        56\n",
       "Name: stories, dtype: int64"
      ]
     },
     "execution_count": 163,
     "metadata": {},
     "output_type": "execute_result"
    }
   ],
   "source": [
    "n5=House.groupby('furnishingstatus').sum()['stories']\n",
    "n5"
   ]
  },
  {
   "cell_type": "code",
   "execution_count": 164,
   "id": "5defe5b6",
   "metadata": {},
   "outputs": [
    {
     "data": {
      "text/plain": [
       "Text(0.5, 1.0, 'Total stories of each furnishingstatus')"
      ]
     },
     "execution_count": 164,
     "metadata": {},
     "output_type": "execute_result"
    },
    {
     "data": {
      "image/png": "[encoded data removed]",
      "text/plain": [
       "<Figure size 432x288 with 1 Axes>"
      ]
     },
     "metadata": {
      "needs_background": "light"
     },
     "output_type": "display_data"
    }
   ],
   "source": [
    "n5.plot(kind='bar')\n",
    "plt.title('Total stories of each furnishingstatus', fontdict= {'fontsize':20, 'fontweight':5, 'color':'darkblue'})"
   ]
  },
  {
   "cell_type": "code",
   "execution_count": 165,
   "id": "5a296fc2",
   "metadata": {},
   "outputs": [
    {
     "data": {
      "text/plain": [
       "guestroom\n",
       "no     563838940\n",
       "yes    222085500\n",
       "Name: price, dtype: int64"
      ]
     },
     "execution_count": 165,
     "metadata": {},
     "output_type": "execute_result"
    }
   ],
   "source": [
    "n6=House.groupby('guestroom').sum()['price']\n",
    "n6"
   ]
  },
  {
   "cell_type": "code",
   "execution_count": 166,
   "id": "fc72f131",
   "metadata": {},
   "outputs": [
    {
     "data": {
      "text/plain": [
       "basement\n",
       "no     464813440\n",
       "yes    321111000\n",
       "Name: price, dtype: int64"
      ]
     },
     "execution_count": 166,
     "metadata": {},
     "output_type": "execute_result"
    }
   ],
   "source": [
    "n7=House.groupby('basement').sum()['price']\n",
    "n7"
   ]
  },
  {
   "cell_type": "code",
   "execution_count": 167,
   "id": "cc661940",
   "metadata": {},
   "outputs": [
    {
     "data": {
      "text/plain": [
       "hotwaterheating\n",
       "no     708441440\n",
       "yes     77483000\n",
       "Name: price, dtype: int64"
      ]
     },
     "execution_count": 167,
     "metadata": {},
     "output_type": "execute_result"
    }
   ],
   "source": [
    "n8=House.groupby('hotwaterheating').sum()['price']\n",
    "n8"
   ]
  },
  {
   "cell_type": "code",
   "execution_count": 168,
   "id": "9aee451a",
   "metadata": {},
   "outputs": [
    {
     "data": {
      "text/plain": [
       "airconditioning\n",
       "no     236950000\n",
       "yes    548974440\n",
       "Name: price, dtype: int64"
      ]
     },
     "execution_count": 168,
     "metadata": {},
     "output_type": "execute_result"
    }
   ],
   "source": [
    "n9=House.groupby('airconditioning').sum()['price']\n",
    "n9"
   ]
  },
  {
   "cell_type": "code",
   "execution_count": 169,
   "id": "977e39cc",
   "metadata": {},
   "outputs": [
    {
     "data": {
      "text/plain": [
       "prefarea\n",
       "no     448034440\n",
       "yes    337890000\n",
       "Name: price, dtype: int64"
      ]
     },
     "execution_count": 169,
     "metadata": {},
     "output_type": "execute_result"
    }
   ],
   "source": [
    "n10=House.groupby('prefarea').sum()['price']\n",
    "n10"
   ]
  },
  {
   "cell_type": "code",
   "execution_count": 170,
   "id": "b2224c57",
   "metadata": {},
   "outputs": [
    {
     "data": {
      "text/plain": [
       "prefarea\n",
       "no     382950\n",
       "yes    309807\n",
       "Name: area, dtype: int64"
      ]
     },
     "execution_count": 170,
     "metadata": {},
     "output_type": "execute_result"
    }
   ],
   "source": [
    "n11=House.groupby('prefarea').sum()['area']\n",
    "n11"
   ]
  },
  {
   "cell_type": "code",
   "execution_count": 171,
   "id": "392e6192",
   "metadata": {},
   "outputs": [
    {
     "data": {
      "text/plain": [
       "airconditioning\n",
       "no     223837\n",
       "yes    468920\n",
       "Name: area, dtype: int64"
      ]
     },
     "execution_count": 171,
     "metadata": {},
     "output_type": "execute_result"
    }
   ],
   "source": [
    "n12=House.groupby('airconditioning').sum()['area']\n",
    "n12"
   ]
  },
  {
   "cell_type": "code",
   "execution_count": 172,
   "id": "0a3b82e1",
   "metadata": {},
   "outputs": [
    {
     "data": {
      "text/plain": [
       "hotwaterheating\n",
       "no     632245\n",
       "yes     60512\n",
       "Name: area, dtype: int64"
      ]
     },
     "execution_count": 172,
     "metadata": {},
     "output_type": "execute_result"
    }
   ],
   "source": [
    "n13=House.groupby('hotwaterheating').sum()['area']\n",
    "n13"
   ]
  },
  {
   "cell_type": "code",
   "execution_count": 173,
   "id": "d493fff4",
   "metadata": {},
   "outputs": [
    {
     "data": {
      "text/plain": [
       "basement\n",
       "no     406387\n",
       "yes    286370\n",
       "Name: area, dtype: int64"
      ]
     },
     "execution_count": 173,
     "metadata": {},
     "output_type": "execute_result"
    }
   ],
   "source": [
    "n14=House.groupby('basement').sum()['area']\n",
    "n14"
   ]
  },
  {
   "cell_type": "code",
   "execution_count": 174,
   "id": "e9b48d6c",
   "metadata": {},
   "outputs": [
    {
     "data": {
      "text/plain": [
       "guestroom\n",
       "no     512002\n",
       "yes    180755\n",
       "Name: area, dtype: int64"
      ]
     },
     "execution_count": 174,
     "metadata": {},
     "output_type": "execute_result"
    }
   ],
   "source": [
    "n15=House.groupby('guestroom').sum()['area']\n",
    "n15"
   ]
  },
  {
   "cell_type": "code",
   "execution_count": 175,
   "id": "6ffb6415",
   "metadata": {},
   "outputs": [
    {
     "data": {
      "text/html": [
       "<div>\n",
       "<style scoped>\n",
       "    .dataframe tbody tr th:only-of-type {\n",
       "        vertical-align: middle;\n",
       "    }\n",
       "\n",
       "    .dataframe tbody tr th {\n",
       "        vertical-align: top;\n",
       "    }\n",
       "\n",
       "    .dataframe thead th {\n",
       "        text-align: right;\n",
       "    }\n",
       "</style>\n",
       "<table border=\"1\" class=\"dataframe\">\n",
       "  <thead>\n",
       "    <tr style=\"text-align: right;\">\n",
       "      <th></th>\n",
       "      <th>price</th>\n",
       "      <th>area</th>\n",
       "      <th>bedrooms</th>\n",
       "      <th>bathrooms</th>\n",
       "      <th>stories</th>\n",
       "      <th>parking</th>\n",
       "    </tr>\n",
       "  </thead>\n",
       "  <tbody>\n",
       "    <tr>\n",
       "      <th>price</th>\n",
       "      <td>1.000000</td>\n",
       "      <td>0.241728</td>\n",
       "      <td>0.304300</td>\n",
       "      <td>0.319458</td>\n",
       "      <td>0.016764</td>\n",
       "      <td>0.411227</td>\n",
       "    </tr>\n",
       "    <tr>\n",
       "      <th>area</th>\n",
       "      <td>0.241728</td>\n",
       "      <td>1.000000</td>\n",
       "      <td>0.128502</td>\n",
       "      <td>0.073427</td>\n",
       "      <td>-0.171527</td>\n",
       "      <td>0.095275</td>\n",
       "    </tr>\n",
       "    <tr>\n",
       "      <th>bedrooms</th>\n",
       "      <td>0.304300</td>\n",
       "      <td>0.128502</td>\n",
       "      <td>1.000000</td>\n",
       "      <td>0.320747</td>\n",
       "      <td>0.120539</td>\n",
       "      <td>0.157842</td>\n",
       "    </tr>\n",
       "    <tr>\n",
       "      <th>bathrooms</th>\n",
       "      <td>0.319458</td>\n",
       "      <td>0.073427</td>\n",
       "      <td>0.320747</td>\n",
       "      <td>1.000000</td>\n",
       "      <td>0.271398</td>\n",
       "      <td>0.060975</td>\n",
       "    </tr>\n",
       "    <tr>\n",
       "      <th>stories</th>\n",
       "      <td>0.016764</td>\n",
       "      <td>-0.171527</td>\n",
       "      <td>0.120539</td>\n",
       "      <td>0.271398</td>\n",
       "      <td>1.000000</td>\n",
       "      <td>-0.113576</td>\n",
       "    </tr>\n",
       "    <tr>\n",
       "      <th>parking</th>\n",
       "      <td>0.411227</td>\n",
       "      <td>0.095275</td>\n",
       "      <td>0.157842</td>\n",
       "      <td>0.060975</td>\n",
       "      <td>-0.113576</td>\n",
       "      <td>1.000000</td>\n",
       "    </tr>\n",
       "  </tbody>\n",
       "</table>\n",
       "</div>"
      ],
      "text/plain": [
       "              price      area  bedrooms  bathrooms   stories   parking\n",
       "price      1.000000  0.241728  0.304300   0.319458  0.016764  0.411227\n",
       "area       0.241728  1.000000  0.128502   0.073427 -0.171527  0.095275\n",
       "bedrooms   0.304300  0.128502  1.000000   0.320747  0.120539  0.157842\n",
       "bathrooms  0.319458  0.073427  0.320747   1.000000  0.271398  0.060975\n",
       "stories    0.016764 -0.171527  0.120539   0.271398  1.000000 -0.113576\n",
       "parking    0.411227  0.095275  0.157842   0.060975 -0.113576  1.000000"
      ]
     },
     "execution_count": 175,
     "metadata": {},
     "output_type": "execute_result"
    }
   ],
   "source": [
    "#Correclation\n",
    "\n",
    "House.corr()"
   ]
  },
  {
   "cell_type": "code",
   "execution_count": 176,
   "id": "9b177c4f",
   "metadata": {},
   "outputs": [
    {
     "data": {
      "text/plain": [
       "<AxesSubplot:>"
      ]
     },
     "execution_count": 176,
     "metadata": {},
     "output_type": "execute_result"
    },
    {
     "data": {
      "image/png": "[encoded data removed]",
      "text/plain": [
       "<Figure size 1080x864 with 2 Axes>"
      ]
     },
     "metadata": {
      "needs_background": "light"
     },
     "output_type": "display_data"
    }
   ],
   "source": [
    "# Heatmap\n",
    "plt.figure(figsize=(15,12))\n",
    "cor=House.corr()\n",
    "sns.heatmap(cor,annot=True,cmap='copper')"
   ]
  },
  {
   "cell_type": "code",
   "execution_count": 177,
   "id": "fbdfa25e",
   "metadata": {},
   "outputs": [
    {
     "data": {
      "text/html": [
       "<div>\n",
       "<style scoped>\n",
       "    .dataframe tbody tr th:only-of-type {\n",
       "        vertical-align: middle;\n",
       "    }\n",
       "\n",
       "    .dataframe tbody tr th {\n",
       "        vertical-align: top;\n",
       "    }\n",
       "\n",
       "    .dataframe thead th {\n",
       "        text-align: right;\n",
       "    }\n",
       "</style>\n",
       "<table border=\"1\" class=\"dataframe\">\n",
       "  <thead>\n",
       "    <tr style=\"text-align: right;\">\n",
       "      <th>furnishingstatus</th>\n",
       "      <th>furnished</th>\n",
       "      <th>semi-furnished</th>\n",
       "      <th>unfurnished</th>\n",
       "    </tr>\n",
       "    <tr>\n",
       "      <th>guestroom</th>\n",
       "      <th></th>\n",
       "      <th></th>\n",
       "      <th></th>\n",
       "    </tr>\n",
       "  </thead>\n",
       "  <tbody>\n",
       "    <tr>\n",
       "      <th>no</th>\n",
       "      <td>31</td>\n",
       "      <td>28</td>\n",
       "      <td>13</td>\n",
       "    </tr>\n",
       "    <tr>\n",
       "      <th>yes</th>\n",
       "      <td>14</td>\n",
       "      <td>7</td>\n",
       "      <td>7</td>\n",
       "    </tr>\n",
       "  </tbody>\n",
       "</table>\n",
       "</div>"
      ],
      "text/plain": [
       "furnishingstatus  furnished  semi-furnished  unfurnished\n",
       "guestroom                                               \n",
       "no                       31              28           13\n",
       "yes                      14               7            7"
      ]
     },
     "execution_count": 177,
     "metadata": {},
     "output_type": "execute_result"
    }
   ],
   "source": [
    "#comparison of guestroom and furnishingstatus\n",
    "c=pd.crosstab(House['guestroom'],House['furnishingstatus'])\n",
    "c"
   ]
  },
  {
   "cell_type": "code",
   "execution_count": 178,
   "id": "1510c202",
   "metadata": {},
   "outputs": [
    {
     "data": {
      "text/plain": [
       "<AxesSubplot:xlabel='guestroom'>"
      ]
     },
     "execution_count": 178,
     "metadata": {},
     "output_type": "execute_result"
    },
    {
     "data": {
      "image/png": "[encoded data removed]",
      "text/plain": [
       "<Figure size 432x288 with 1 Axes>"
      ]
     },
     "metadata": {
      "needs_background": "light"
     },
     "output_type": "display_data"
    }
   ],
   "source": [
    "c.plot(kind='bar', cmap='copper')"
   ]
  },
  {
   "cell_type": "code",
   "execution_count": 179,
   "id": "ac0d2d5b",
   "metadata": {},
   "outputs": [
    {
     "data": {
      "text/html": [
       "<div>\n",
       "<style scoped>\n",
       "    .dataframe tbody tr th:only-of-type {\n",
       "        vertical-align: middle;\n",
       "    }\n",
       "\n",
       "    .dataframe tbody tr th {\n",
       "        vertical-align: top;\n",
       "    }\n",
       "\n",
       "    .dataframe thead th {\n",
       "        text-align: right;\n",
       "    }\n",
       "</style>\n",
       "<table border=\"1\" class=\"dataframe\">\n",
       "  <thead>\n",
       "    <tr style=\"text-align: right;\">\n",
       "      <th>furnishingstatus</th>\n",
       "      <th>furnished</th>\n",
       "      <th>semi-furnished</th>\n",
       "      <th>unfurnished</th>\n",
       "    </tr>\n",
       "    <tr>\n",
       "      <th>basement</th>\n",
       "      <th></th>\n",
       "      <th></th>\n",
       "      <th></th>\n",
       "    </tr>\n",
       "  </thead>\n",
       "  <tbody>\n",
       "    <tr>\n",
       "      <th>no</th>\n",
       "      <td>27</td>\n",
       "      <td>21</td>\n",
       "      <td>12</td>\n",
       "    </tr>\n",
       "    <tr>\n",
       "      <th>yes</th>\n",
       "      <td>18</td>\n",
       "      <td>14</td>\n",
       "      <td>8</td>\n",
       "    </tr>\n",
       "  </tbody>\n",
       "</table>\n",
       "</div>"
      ],
      "text/plain": [
       "furnishingstatus  furnished  semi-furnished  unfurnished\n",
       "basement                                                \n",
       "no                       27              21           12\n",
       "yes                      18              14            8"
      ]
     },
     "execution_count": 179,
     "metadata": {},
     "output_type": "execute_result"
    }
   ],
   "source": [
    "#comparison of basement and furnishingstatus\n",
    "c1=pd.crosstab(House['basement'],House['furnishingstatus'])\n",
    "c1"
   ]
  },
  {
   "cell_type": "code",
   "execution_count": 180,
   "id": "c92f99fc",
   "metadata": {},
   "outputs": [
    {
     "data": {
      "text/plain": [
       "<AxesSubplot:xlabel='basement'>"
      ]
     },
     "execution_count": 180,
     "metadata": {},
     "output_type": "execute_result"
    },
    {
     "data": {
      "image/png": "[encoded data removed]",
      "text/plain": [
       "<Figure size 432x288 with 1 Axes>"
      ]
     },
     "metadata": {
      "needs_background": "light"
     },
     "output_type": "display_data"
    }
   ],
   "source": [
    "c1.plot(kind='bar', cmap='copper')"
   ]
  },
  {
   "cell_type": "code",
   "execution_count": 181,
   "id": "1391c3aa",
   "metadata": {},
   "outputs": [
    {
     "data": {
      "text/html": [
       "<div>\n",
       "<style scoped>\n",
       "    .dataframe tbody tr th:only-of-type {\n",
       "        vertical-align: middle;\n",
       "    }\n",
       "\n",
       "    .dataframe tbody tr th {\n",
       "        vertical-align: top;\n",
       "    }\n",
       "\n",
       "    .dataframe thead th {\n",
       "        text-align: right;\n",
       "    }\n",
       "</style>\n",
       "<table border=\"1\" class=\"dataframe\">\n",
       "  <thead>\n",
       "    <tr style=\"text-align: right;\">\n",
       "      <th>furnishingstatus</th>\n",
       "      <th>furnished</th>\n",
       "      <th>semi-furnished</th>\n",
       "      <th>unfurnished</th>\n",
       "    </tr>\n",
       "    <tr>\n",
       "      <th>hotwaterheating</th>\n",
       "      <th></th>\n",
       "      <th></th>\n",
       "      <th></th>\n",
       "    </tr>\n",
       "  </thead>\n",
       "  <tbody>\n",
       "    <tr>\n",
       "      <th>no</th>\n",
       "      <td>41</td>\n",
       "      <td>30</td>\n",
       "      <td>19</td>\n",
       "    </tr>\n",
       "    <tr>\n",
       "      <th>yes</th>\n",
       "      <td>4</td>\n",
       "      <td>5</td>\n",
       "      <td>1</td>\n",
       "    </tr>\n",
       "  </tbody>\n",
       "</table>\n",
       "</div>"
      ],
      "text/plain": [
       "furnishingstatus  furnished  semi-furnished  unfurnished\n",
       "hotwaterheating                                         \n",
       "no                       41              30           19\n",
       "yes                       4               5            1"
      ]
     },
     "execution_count": 181,
     "metadata": {},
     "output_type": "execute_result"
    }
   ],
   "source": [
    "#comparison of hotwaterheating and furnishingstatus\n",
    "c2=pd.crosstab(House['hotwaterheating'],House['furnishingstatus'])\n",
    "c2"
   ]
  },
  {
   "cell_type": "code",
   "execution_count": 182,
   "id": "40cafed1",
   "metadata": {},
   "outputs": [
    {
     "data": {
      "text/plain": [
       "<AxesSubplot:xlabel='hotwaterheating'>"
      ]
     },
     "execution_count": 182,
     "metadata": {},
     "output_type": "execute_result"
    },
    {
     "data": {
      "image/png": "[encoded data removed]",
      "text/plain": [
       "<Figure size 432x288 with 1 Axes>"
      ]
     },
     "metadata": {
      "needs_background": "light"
     },
     "output_type": "display_data"
    }
   ],
   "source": [
    "c2.plot(kind='bar', cmap='copper')"
   ]
  },
  {
   "cell_type": "code",
   "execution_count": 183,
   "id": "ead50782",
   "metadata": {},
   "outputs": [
    {
     "data": {
      "text/html": [
       "<div>\n",
       "<style scoped>\n",
       "    .dataframe tbody tr th:only-of-type {\n",
       "        vertical-align: middle;\n",
       "    }\n",
       "\n",
       "    .dataframe tbody tr th {\n",
       "        vertical-align: top;\n",
       "    }\n",
       "\n",
       "    .dataframe thead th {\n",
       "        text-align: right;\n",
       "    }\n",
       "</style>\n",
       "<table border=\"1\" class=\"dataframe\">\n",
       "  <thead>\n",
       "    <tr style=\"text-align: right;\">\n",
       "      <th>furnishingstatus</th>\n",
       "      <th>furnished</th>\n",
       "      <th>semi-furnished</th>\n",
       "      <th>unfurnished</th>\n",
       "    </tr>\n",
       "    <tr>\n",
       "      <th>airconditioning</th>\n",
       "      <th></th>\n",
       "      <th></th>\n",
       "      <th></th>\n",
       "    </tr>\n",
       "  </thead>\n",
       "  <tbody>\n",
       "    <tr>\n",
       "      <th>no</th>\n",
       "      <td>9</td>\n",
       "      <td>14</td>\n",
       "      <td>8</td>\n",
       "    </tr>\n",
       "    <tr>\n",
       "      <th>yes</th>\n",
       "      <td>36</td>\n",
       "      <td>21</td>\n",
       "      <td>12</td>\n",
       "    </tr>\n",
       "  </tbody>\n",
       "</table>\n",
       "</div>"
      ],
      "text/plain": [
       "furnishingstatus  furnished  semi-furnished  unfurnished\n",
       "airconditioning                                         \n",
       "no                        9              14            8\n",
       "yes                      36              21           12"
      ]
     },
     "execution_count": 183,
     "metadata": {},
     "output_type": "execute_result"
    }
   ],
   "source": [
    "#comparison of hotwaterheating and furnishingstatus\n",
    "c3=pd.crosstab(House['airconditioning'],House['furnishingstatus'])\n",
    "c3"
   ]
  },
  {
   "cell_type": "code",
   "execution_count": 184,
   "id": "6268da18",
   "metadata": {},
   "outputs": [
    {
     "data": {
      "text/plain": [
       "<AxesSubplot:xlabel='airconditioning'>"
      ]
     },
     "execution_count": 184,
     "metadata": {},
     "output_type": "execute_result"
    },
    {
     "data": {
      "image/png": "[encoded data removed]",
      "text/plain": [
       "<Figure size 432x288 with 1 Axes>"
      ]
     },
     "metadata": {
      "needs_background": "light"
     },
     "output_type": "display_data"
    }
   ],
   "source": [
    "c3.plot(kind='bar', cmap='copper')"
   ]
  },
  {
   "cell_type": "code",
   "execution_count": 185,
   "id": "64cefc29",
   "metadata": {},
   "outputs": [
    {
     "data": {
      "text/html": [
       "<div>\n",
       "<style scoped>\n",
       "    .dataframe tbody tr th:only-of-type {\n",
       "        vertical-align: middle;\n",
       "    }\n",
       "\n",
       "    .dataframe tbody tr th {\n",
       "        vertical-align: top;\n",
       "    }\n",
       "\n",
       "    .dataframe thead th {\n",
       "        text-align: right;\n",
       "    }\n",
       "</style>\n",
       "<table border=\"1\" class=\"dataframe\">\n",
       "  <thead>\n",
       "    <tr style=\"text-align: right;\">\n",
       "      <th>furnishingstatus</th>\n",
       "      <th>furnished</th>\n",
       "      <th>semi-furnished</th>\n",
       "      <th>unfurnished</th>\n",
       "    </tr>\n",
       "    <tr>\n",
       "      <th>prefarea</th>\n",
       "      <th></th>\n",
       "      <th></th>\n",
       "      <th></th>\n",
       "    </tr>\n",
       "  </thead>\n",
       "  <tbody>\n",
       "    <tr>\n",
       "      <th>no</th>\n",
       "      <td>24</td>\n",
       "      <td>22</td>\n",
       "      <td>12</td>\n",
       "    </tr>\n",
       "    <tr>\n",
       "      <th>yes</th>\n",
       "      <td>21</td>\n",
       "      <td>13</td>\n",
       "      <td>8</td>\n",
       "    </tr>\n",
       "  </tbody>\n",
       "</table>\n",
       "</div>"
      ],
      "text/plain": [
       "furnishingstatus  furnished  semi-furnished  unfurnished\n",
       "prefarea                                                \n",
       "no                       24              22           12\n",
       "yes                      21              13            8"
      ]
     },
     "execution_count": 185,
     "metadata": {},
     "output_type": "execute_result"
    }
   ],
   "source": [
    "#comparison of hotwaterheating and furnishingstatus\n",
    "c4=pd.crosstab(House['prefarea'],House['furnishingstatus'])\n",
    "c4"
   ]
  },
  {
   "cell_type": "code",
   "execution_count": 186,
   "id": "fce02bd0",
   "metadata": {},
   "outputs": [
    {
     "data": {
      "text/plain": [
       "<AxesSubplot:xlabel='prefarea'>"
      ]
     },
     "execution_count": 186,
     "metadata": {},
     "output_type": "execute_result"
    },
    {
     "data": {
      "image/png": "[encoded data removed]",
      "text/plain": [
       "<Figure size 432x288 with 1 Axes>"
      ]
     },
     "metadata": {
      "needs_background": "light"
     },
     "output_type": "display_data"
    }
   ],
   "source": [
    "c4.plot(kind='bar', cmap='copper')"
   ]
  },
  {
   "cell_type": "code",
   "execution_count": 187,
   "id": "09fdd92c",
   "metadata": {},
   "outputs": [
    {
     "data": {
      "text/plain": [
       "<AxesSubplot:xlabel='parking', ylabel='Density'>"
      ]
     },
     "execution_count": 187,
     "metadata": {},
     "output_type": "execute_result"
    },
    {
     "data": {
      "image/png": "[encoded data removed]",
      "text/plain": [
       "<Figure size 432x288 with 1 Axes>"
      ]
     },
     "metadata": {
      "needs_background": "light"
     },
     "output_type": "display_data"
    }
   ],
   "source": [
    "sns.kdeplot(House['parking'])"
   ]
  },
  {
   "cell_type": "code",
   "execution_count": 188,
   "id": "ce060d1b",
   "metadata": {},
   "outputs": [
    {
     "data": {
      "text/plain": [
       "<AxesSubplot:xlabel='bedrooms', ylabel='Density'>"
      ]
     },
     "execution_count": 188,
     "metadata": {},
     "output_type": "execute_result"
    },
    {
     "data": {
      "image/png": "[encoded data removed]",
      "text/plain": [
       "<Figure size 432x288 with 1 Axes>"
      ]
     },
     "metadata": {
      "needs_background": "light"
     },
     "output_type": "display_data"
    }
   ],
   "source": [
    "sns.kdeplot(House['bedrooms'])"
   ]
  },
  {
   "cell_type": "code",
   "execution_count": 189,
   "id": "46b6f4c2",
   "metadata": {},
   "outputs": [
    {
     "data": {
      "text/plain": [
       "<AxesSubplot:xlabel='bathrooms', ylabel='Density'>"
      ]
     },
     "execution_count": 189,
     "metadata": {},
     "output_type": "execute_result"
    },
    {
     "data": {
      "image/png": "[encoded data removed]",
      "text/plain": [
       "<Figure size 432x288 with 1 Axes>"
      ]
     },
     "metadata": {
      "needs_background": "light"
     },
     "output_type": "display_data"
    }
   ],
   "source": [
    "sns.kdeplot(House['bathrooms'])"
   ]
  },
  {
   "cell_type": "code",
   "execution_count": 190,
   "id": "41681a7c",
   "metadata": {},
   "outputs": [
    {
     "data": {
      "image/png": "[encoded data removed]",
      "text/plain": [
       "<Figure size 432x288 with 6 Axes>"
      ]
     },
     "metadata": {
      "needs_background": "light"
     },
     "output_type": "display_data"
    }
   ],
   "source": [
    "#Histogram\n",
    "House.hist(color='brown')\n",
    "plt.show()"
   ]
  },
  {
   "cell_type": "code",
   "execution_count": 191,
   "id": "27e5a456",
   "metadata": {},
   "outputs": [
    {
     "data": {
      "text/plain": [
       "<AxesSubplot:xlabel='bedrooms', ylabel='count'>"
      ]
     },
     "execution_count": 191,
     "metadata": {},
     "output_type": "execute_result"
    },
    {
     "data": {
      "image/png": "[encoded data removed]",
      "text/plain": [
       "<Figure size 432x288 with 1 Axes>"
      ]
     },
     "metadata": {
      "needs_background": "light"
     },
     "output_type": "display_data"
    }
   ],
   "source": [
    "sns.countplot(x=House['bedrooms'], hue=House['furnishingstatus'],palette='crest')"
   ]
  },
  {
   "cell_type": "code",
   "execution_count": 192,
   "id": "c3cb7130",
   "metadata": {},
   "outputs": [
    {
     "data": {
      "text/plain": [
       "<AxesSubplot:xlabel='bathrooms', ylabel='count'>"
      ]
     },
     "execution_count": 192,
     "metadata": {},
     "output_type": "execute_result"
    },
    {
     "data": {
      "image/png": "[encoded data removed]",
      "text/plain": [
       "<Figure size 432x288 with 1 Axes>"
      ]
     },
     "metadata": {
      "needs_background": "light"
     },
     "output_type": "display_data"
    }
   ],
   "source": [
    "sns.countplot(x=House['bathrooms'], hue=House['furnishingstatus'],palette='brg')"
   ]
  },
  {
   "cell_type": "code",
   "execution_count": 193,
   "id": "69aa3cd2",
   "metadata": {},
   "outputs": [
    {
     "data": {
      "text/plain": [
       "<AxesSubplot:xlabel='stories', ylabel='count'>"
      ]
     },
     "execution_count": 193,
     "metadata": {},
     "output_type": "execute_result"
    },
    {
     "data": {
      "image/png": "[encoded data removed]",
      "text/plain": [
       "<Figure size 432x288 with 1 Axes>"
      ]
     },
     "metadata": {
      "needs_background": "light"
     },
     "output_type": "display_data"
    }
   ],
   "source": [
    "sns.countplot(x=House['stories'], hue=House['furnishingstatus'],palette='flag')"
   ]
  },
  {
   "cell_type": "code",
   "execution_count": 194,
   "id": "5a8dbf5b",
   "metadata": {},
   "outputs": [
    {
     "data": {
      "text/plain": [
       "<AxesSubplot:xlabel='parking', ylabel='count'>"
      ]
     },
     "execution_count": 194,
     "metadata": {},
     "output_type": "execute_result"
    },
    {
     "data": {
      "image/png": "[encoded data removed]",
      "text/plain": [
       "<Figure size 432x288 with 1 Axes>"
      ]
     },
     "metadata": {
      "needs_background": "light"
     },
     "output_type": "display_data"
    }
   ],
   "source": [
    "sns.countplot(x=House['parking'], hue=House['furnishingstatus'],palette='icefire')"
   ]
  },
  {
   "cell_type": "markdown",
   "id": "9634ab1f",
   "metadata": {},
   "source": [
    "# Conclusion\n",
    "\n",
    "This is Housing Dataset.\n",
    "\n",
    "There are 100 rows and 13 columns.\n",
    "\n",
    "Column names are price,area,bedrooms,bathrooms,stories,mainroguestroom, basement, hotwaterheating, airconditioning, parking, prefarea and furnishingstatus.\n",
    "\n",
    "There are any null values in the data.\n",
    "\n",
    "The most of furnishingstatus is furnished:45.\n",
    "\n",
    "The few of furnishingstatus is unfurnished:20.\n",
    "\n",
    "The most of prefarea is no: 58.\n",
    " \n",
    "The most of air-conditioning is yes (69).\n",
    "\n",
    "The few of air-conditioning is No (31).\n",
    "\n",
    "The most hot water heating is No (90).\n",
    "\n",
    "The few of hot water heating is Yes (10).\n",
    "\n",
    "The most of basement is No (60).\n",
    "\n",
    "The few of the basement is Yes (40).\n",
    "\n",
    "The most of guestrooms are No (72).\n",
    "\n",
    "A few of the guestrooms are Yes (28).\n",
    "\n",
    "Total number of bedrooms is 333.\n",
    "\n",
    "The average number of bedrooms is 3.33.\n",
    "\n",
    "The maximum number of bedrooms is 5.\n",
    "\n",
    "The minimum number of bedrooms is 2.\n",
    "\n",
    "Total number of bathrooms is 176.\n",
    "\n",
    "The average number of bathrooms is 1.76.\n",
    "\n",
    "The maximum number of bathrooms is 4.\n",
    "\n",
    "The minimum number of bathrooms is 1.\n",
    "\n",
    "Total number of stories is 254.\n",
    "\n",
    "The average number of stories is 2.54.\n",
    "\n",
    "The maximum of stories is 4.\n",
    "\n",
    "The minimum of stories is 1.\n",
    "\n",
    "Total number of parking is 121.\n",
    "\n",
    "The average number of parking is 1.21.\n",
    "\n",
    "The maximum of parking is 3.\n",
    "\n",
    "The minimum of parking is 0.\n",
    "\n",
    "Total number of price is 785924440.\n",
    "\n",
    "The average number of price is 7859244.4.\n",
    "\n",
    "The maximum of price  is 13300000.\n",
    "\n",
    "The minimum of price is 6265000.\n",
    "\n",
    "Total number of area is 692757 .\n",
    "\n",
    "The average number of area is 6927.57.\n",
    "\n",
    "The maximum of area  is 16200.\n",
    "\n",
    "The minimum of area is 3500.\n",
    "\n",
    "\n",
    "\n",
    "\n",
    "\n",
    "\n",
    "\n",
    "\n",
    "\n",
    "\n",
    "\n",
    "\n",
    "\n",
    "\n",
    "\n",
    "\n"
   ]
  },
  {
   "cell_type": "code",
   "execution_count": null,
   "id": "f4fea8f4",
   "metadata": {},
   "outputs": [],
   "source": []
  }
 ],
 "metadata": {
  "kernelspec": {
   "display_name": "Python 3 (ipykernel)",
   "language": "python",
   "name": "python3"
  },
  "language_info": {
   "codemirror_mode": {
    "name": "ipython",
    "version": 3
   },
   "file_extension": ".py",
   "mimetype": "text/x-python",
   "name": "python",
   "nbconvert_exporter": "python",
   "pygments_lexer": "ipython3",
   "version": "3.9.12"
  }
 },
 "nbformat": 4,
 "nbformat_minor": 5
}
