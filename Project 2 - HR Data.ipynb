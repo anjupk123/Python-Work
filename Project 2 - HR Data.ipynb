{
 "cells": [
  {
   "cell_type": "code",
   "execution_count": 2,
   "id": "fa92537d",
   "metadata": {},
   "outputs": [
    {
     "data": {
      "text/html": [
       "<div>\n",
       "<style scoped>\n",
       "    .dataframe tbody tr th:only-of-type {\n",
       "        vertical-align: middle;\n",
       "    }\n",
       "\n",
       "    .dataframe tbody tr th {\n",
       "        vertical-align: top;\n",
       "    }\n",
       "\n",
       "    .dataframe thead th {\n",
       "        text-align: right;\n",
       "    }\n",
       "</style>\n",
       "<table border=\"1\" class=\"dataframe\">\n",
       "  <thead>\n",
       "    <tr style=\"text-align: right;\">\n",
       "      <th></th>\n",
       "      <th>Employee Name</th>\n",
       "      <th>Department</th>\n",
       "      <th>Salary</th>\n",
       "      <th>Age</th>\n",
       "      <th>Gender</th>\n",
       "      <th>Date of Join</th>\n",
       "    </tr>\n",
       "  </thead>\n",
       "  <tbody>\n",
       "    <tr>\n",
       "      <th>0</th>\n",
       "      <td>Wilson  K Adinolfi</td>\n",
       "      <td>Production</td>\n",
       "      <td>62506.0</td>\n",
       "      <td>49.0</td>\n",
       "      <td>Male</td>\n",
       "      <td>07-05-2011</td>\n",
       "    </tr>\n",
       "    <tr>\n",
       "      <th>1</th>\n",
       "      <td>Karthikeyan Ait Sidi</td>\n",
       "      <td>IT/IS</td>\n",
       "      <td>104437.0</td>\n",
       "      <td>55.0</td>\n",
       "      <td>Male</td>\n",
       "      <td>30-03-2015</td>\n",
       "    </tr>\n",
       "    <tr>\n",
       "      <th>2</th>\n",
       "      <td>Sarah Akinkuolie</td>\n",
       "      <td>Production</td>\n",
       "      <td>64955.0</td>\n",
       "      <td>49.0</td>\n",
       "      <td>Female</td>\n",
       "      <td>07-05-2011</td>\n",
       "    </tr>\n",
       "    <tr>\n",
       "      <th>3</th>\n",
       "      <td>Trina Alagbe</td>\n",
       "      <td>Production</td>\n",
       "      <td>64991.0</td>\n",
       "      <td>49.0</td>\n",
       "      <td>Female</td>\n",
       "      <td>01-07-2008</td>\n",
       "    </tr>\n",
       "    <tr>\n",
       "      <th>4</th>\n",
       "      <td>Carol Anderson</td>\n",
       "      <td>Production</td>\n",
       "      <td>50825.0</td>\n",
       "      <td>31.0</td>\n",
       "      <td>Female</td>\n",
       "      <td>07-11-2011</td>\n",
       "    </tr>\n",
       "  </tbody>\n",
       "</table>\n",
       "</div>"
      ],
      "text/plain": [
       "          Employee Name         Department    Salary   Age  Gender  \\\n",
       "0    Wilson  K Adinolfi  Production          62506.0  49.0   Male    \n",
       "1  Karthikeyan Ait Sidi              IT/IS  104437.0  55.0   Male    \n",
       "2      Sarah Akinkuolie  Production          64955.0  49.0  Female   \n",
       "3          Trina Alagbe  Production          64991.0  49.0  Female   \n",
       "4        Carol Anderson  Production          50825.0  31.0  Female   \n",
       "\n",
       "  Date of Join  \n",
       "0   07-05-2011  \n",
       "1   30-03-2015  \n",
       "2   07-05-2011  \n",
       "3   01-07-2008  \n",
       "4   07-11-2011  "
      ]
     },
     "execution_count": 2,
     "metadata": {},
     "output_type": "execute_result"
    }
   ],
   "source": [
    "#Import library \n",
    "import pandas as pd\n",
    "import numpy as np\n",
    "import seaborn as sns\n",
    "import matplotlib.pyplot as plt\n",
    "\n",
    "#data importing\n",
    "\n",
    "HR=pd.read_excel('Human resource.xlsx')\n",
    "\n",
    "HR.head(5)"
   ]
  },
  {
   "cell_type": "code",
   "execution_count": 4,
   "id": "87dbd61b",
   "metadata": {},
   "outputs": [
    {
     "data": {
      "text/plain": [
       "(311, 6)"
      ]
     },
     "execution_count": 4,
     "metadata": {},
     "output_type": "execute_result"
    }
   ],
   "source": [
    "HR.shape"
   ]
  },
  {
   "cell_type": "markdown",
   "id": "e4d2246d",
   "metadata": {},
   "source": [
    "### 1. Find the Total Salary"
   ]
  },
  {
   "cell_type": "code",
   "execution_count": 23,
   "id": "3dc1f763",
   "metadata": {},
   "outputs": [
    {
     "data": {
      "text/plain": [
       "21465433.0"
      ]
     },
     "execution_count": 23,
     "metadata": {},
     "output_type": "execute_result"
    }
   ],
   "source": [
    "a=HR['Salary'].sum()\n",
    "a"
   ]
  },
  {
   "cell_type": "markdown",
   "id": "43bfc300",
   "metadata": {},
   "source": [
    "### 2. Find the average salary given in the company"
   ]
  },
  {
   "cell_type": "code",
   "execution_count": 24,
   "id": "162da501",
   "metadata": {},
   "outputs": [
    {
     "data": {
      "text/plain": [
       "69020.6848874598"
      ]
     },
     "execution_count": 24,
     "metadata": {},
     "output_type": "execute_result"
    }
   ],
   "source": [
    "P=HR['Salary'].mean()\n",
    "P"
   ]
  },
  {
   "cell_type": "markdown",
   "id": "44073bd6",
   "metadata": {},
   "source": [
    "### 3. Find the Maximum salary"
   ]
  },
  {
   "cell_type": "code",
   "execution_count": 25,
   "id": "8d82576e",
   "metadata": {},
   "outputs": [
    {
     "data": {
      "text/plain": [
       "250000.0"
      ]
     },
     "execution_count": 25,
     "metadata": {},
     "output_type": "execute_result"
    }
   ],
   "source": [
    "d=HR['Salary'].max()\n",
    "d"
   ]
  },
  {
   "cell_type": "markdown",
   "id": "5a877e13",
   "metadata": {},
   "source": [
    "### 4. Find the minimum Salary"
   ]
  },
  {
   "cell_type": "code",
   "execution_count": 7,
   "id": "b5b21f7f",
   "metadata": {},
   "outputs": [
    {
     "data": {
      "text/plain": [
       "45046.0"
      ]
     },
     "execution_count": 7,
     "metadata": {},
     "output_type": "execute_result"
    }
   ],
   "source": [
    "e=HR['Salary'].min()\n",
    "e"
   ]
  },
  {
   "cell_type": "markdown",
   "id": "5ee389b1",
   "metadata": {},
   "source": [
    "### 5. Find the range of salary"
   ]
  },
  {
   "cell_type": "code",
   "execution_count": 27,
   "id": "f47d5195",
   "metadata": {},
   "outputs": [
    {
     "data": {
      "text/plain": [
       "204954.0"
      ]
     },
     "execution_count": 27,
     "metadata": {},
     "output_type": "execute_result"
    }
   ],
   "source": [
    "# Max-Min of salary\n",
    "f=d-e\n",
    "f"
   ]
  },
  {
   "cell_type": "markdown",
   "id": "d9951bf6",
   "metadata": {},
   "source": [
    "### 6. Find the descriptive Statistics for the variable Salary and identify the Varience"
   ]
  },
  {
   "cell_type": "code",
   "execution_count": 9,
   "id": "a73f92f9",
   "metadata": {},
   "outputs": [
    {
     "name": "stderr",
     "output_type": "stream",
     "text": [
      "C:\\Users\\user\\AppData\\Local\\Temp\\ipykernel_9304\\158553025.py:1: FutureWarning: Dropping of nuisance columns in DataFrame reductions (with 'numeric_only=None') is deprecated; in a future version this will raise TypeError.  Select only valid columns before calling the reduction.\n",
      "  HR.var()\n"
     ]
    },
    {
     "data": {
      "text/plain": [
       "Salary    6.328564e+08\n",
       "Age       1.163185e+02\n",
       "dtype: float64"
      ]
     },
     "execution_count": 9,
     "metadata": {},
     "output_type": "execute_result"
    }
   ],
   "source": [
    "HR.var()"
   ]
  },
  {
   "cell_type": "code",
   "execution_count": 10,
   "id": "e9863839",
   "metadata": {},
   "outputs": [
    {
     "data": {
      "text/plain": [
       "632856381.6100614"
      ]
     },
     "execution_count": 10,
     "metadata": {},
     "output_type": "execute_result"
    }
   ],
   "source": [
    "# Or Varience\n",
    "\n",
    "k=HR['Salary'].var()\n",
    "k"
   ]
  },
  {
   "cell_type": "markdown",
   "id": "46e0a0e2",
   "metadata": {},
   "source": [
    "### 7. Find the average age of employees"
   ]
  },
  {
   "cell_type": "code",
   "execution_count": 8,
   "id": "ca1f780f",
   "metadata": {},
   "outputs": [
    {
     "data": {
      "text/plain": [
       "42.02893890675241"
      ]
     },
     "execution_count": 8,
     "metadata": {},
     "output_type": "execute_result"
    }
   ],
   "source": [
    "d1=HR['Age'].mean()\n",
    "d1"
   ]
  },
  {
   "cell_type": "markdown",
   "id": "5474d0bd",
   "metadata": {},
   "source": [
    "### 8. Find the minimum age of employees "
   ]
  },
  {
   "cell_type": "code",
   "execution_count": 9,
   "id": "6fbc88c4",
   "metadata": {},
   "outputs": [
    {
     "data": {
      "text/plain": [
       "24.0"
      ]
     },
     "execution_count": 9,
     "metadata": {},
     "output_type": "execute_result"
    }
   ],
   "source": [
    "d2=HR['Age'].min()\n",
    "d2"
   ]
  },
  {
   "cell_type": "markdown",
   "id": "b1d36692",
   "metadata": {},
   "source": [
    "### 9. Find the maximum age of employees"
   ]
  },
  {
   "cell_type": "code",
   "execution_count": 12,
   "id": "ad71eb3d",
   "metadata": {},
   "outputs": [
    {
     "data": {
      "text/plain": [
       "60.0"
      ]
     },
     "execution_count": 12,
     "metadata": {},
     "output_type": "execute_result"
    }
   ],
   "source": [
    "d3=HR['Age'].max()\n",
    "d3"
   ]
  },
  {
   "cell_type": "markdown",
   "id": "b4aec0f6",
   "metadata": {},
   "source": [
    "### 10. Find the descriptive Statistics for the variable Age and identify the Quartiles "
   ]
  },
  {
   "cell_type": "code",
   "execution_count": 13,
   "id": "1cd185de",
   "metadata": {},
   "outputs": [
    {
     "data": {
      "text/plain": [
       "Salary    55501.5\n",
       "Age          33.0\n",
       "Name: 0.25, dtype: float64"
      ]
     },
     "execution_count": 13,
     "metadata": {},
     "output_type": "execute_result"
    }
   ],
   "source": [
    "#Q1\n",
    "HR.quantile(0.25)"
   ]
  },
  {
   "cell_type": "code",
   "execution_count": 14,
   "id": "dc842bc8",
   "metadata": {},
   "outputs": [
    {
     "data": {
      "text/plain": [
       "Salary    62810.0\n",
       "Age          42.0\n",
       "Name: 0.5, dtype: float64"
      ]
     },
     "execution_count": 14,
     "metadata": {},
     "output_type": "execute_result"
    }
   ],
   "source": [
    "#Q2\n",
    "HR.quantile(0.5)"
   ]
  },
  {
   "cell_type": "code",
   "execution_count": 15,
   "id": "c10b2b5b",
   "metadata": {},
   "outputs": [
    {
     "data": {
      "text/plain": [
       "Salary    72036.0\n",
       "Age          51.5\n",
       "Name: 0.75, dtype: float64"
      ]
     },
     "execution_count": 15,
     "metadata": {},
     "output_type": "execute_result"
    }
   ],
   "source": [
    "#Q3\n",
    "HR.quantile(0.75)"
   ]
  },
  {
   "cell_type": "code",
   "execution_count": 16,
   "id": "f66bfdc3",
   "metadata": {},
   "outputs": [
    {
     "data": {
      "text/plain": [
       "18.0"
      ]
     },
     "execution_count": 16,
     "metadata": {},
     "output_type": "execute_result"
    }
   ],
   "source": [
    "#Q1 and Q3 Age\n",
    "\n",
    "IQRAge=51.0-33.0\n",
    "IQRAge"
   ]
  },
  {
   "cell_type": "code",
   "execution_count": 17,
   "id": "fac5de2b",
   "metadata": {},
   "outputs": [
    {
     "data": {
      "text/plain": [
       "9.0"
      ]
     },
     "execution_count": 17,
     "metadata": {},
     "output_type": "execute_result"
    }
   ],
   "source": [
    "#IQR\n",
    "\n",
    "QdAge=18.0/2\n",
    "QdAge"
   ]
  },
  {
   "cell_type": "markdown",
   "id": "6086817b",
   "metadata": {},
   "source": [
    "### 11.Find the count of Gender\n"
   ]
  },
  {
   "cell_type": "code",
   "execution_count": 18,
   "id": "8c3f90ba",
   "metadata": {},
   "outputs": [
    {
     "data": {
      "text/plain": [
       "Female    176\n",
       "Male      135\n",
       "Name: Gender, dtype: int64"
      ]
     },
     "execution_count": 18,
     "metadata": {},
     "output_type": "execute_result"
    }
   ],
   "source": [
    "b1=HR['Gender'].value_counts()\n",
    "b1"
   ]
  },
  {
   "cell_type": "markdown",
   "id": "61e1d124",
   "metadata": {},
   "source": [
    "### 12. Find the Frequency of gender in a Bar Chart. modify the chart\n"
   ]
  },
  {
   "cell_type": "code",
   "execution_count": 19,
   "id": "70ccee1d",
   "metadata": {},
   "outputs": [
    {
     "data": {
      "text/plain": [
       "Text(0.5, 1.0, 'Gender')"
      ]
     },
     "execution_count": 19,
     "metadata": {},
     "output_type": "execute_result"
    },
    {
     "data": {
      "image/png": "[encoded data removed]",
      "text/plain": [
       "<Figure size 432x288 with 1 Axes>"
      ]
     },
     "metadata": {
      "needs_background": "light"
     },
     "output_type": "display_data"
    }
   ],
   "source": [
    "b1.plot(kind='bar')\n",
    "plt.title('Gender', fontdict= {'fontsize':20, 'fontweight':5, 'color':'darkblue'})"
   ]
  },
  {
   "cell_type": "markdown",
   "id": "d2121361",
   "metadata": {},
   "source": [
    "### 13. obtain the percentage value of number of male and female employees \n"
   ]
  },
  {
   "cell_type": "code",
   "execution_count": 20,
   "id": "33a01aa8",
   "metadata": {},
   "outputs": [
    {
     "data": {
      "text/plain": [
       "Female    0.565916\n",
       "Male      0.434084\n",
       "Name: Gender, dtype: float64"
      ]
     },
     "execution_count": 20,
     "metadata": {},
     "output_type": "execute_result"
    }
   ],
   "source": [
    "b2=HR['Gender'].value_counts(normalize=True)\n",
    "b2"
   ]
  },
  {
   "cell_type": "markdown",
   "id": "bc1e2e44",
   "metadata": {},
   "source": [
    "### 14. obtain the percentage value of number of male and female employees in a pie chart. modify the chart\n"
   ]
  },
  {
   "cell_type": "code",
   "execution_count": 21,
   "id": "a898137b",
   "metadata": {},
   "outputs": [
    {
     "data": {
      "text/plain": [
       "<AxesSubplot:ylabel='Gender'>"
      ]
     },
     "execution_count": 21,
     "metadata": {},
     "output_type": "execute_result"
    },
    {
     "data": {
      "image/png": "[encoded data removed]",
      "text/plain": [
       "<Figure size 432x288 with 1 Axes>"
      ]
     },
     "metadata": {},
     "output_type": "display_data"
    }
   ],
   "source": [
    "b2.plot(kind='pie',autopct='%1.2f%%')"
   ]
  },
  {
   "cell_type": "markdown",
   "id": "678237fd",
   "metadata": {},
   "source": [
    "### 15. Find the average age of employees in each department\n",
    "\n"
   ]
  },
  {
   "cell_type": "code",
   "execution_count": 13,
   "id": "9c338556",
   "metadata": {},
   "outputs": [
    {
     "data": {
      "text/plain": [
       "Department\n",
       "Admin Offices           45.555556\n",
       "Executive Office        36.000000\n",
       "IT/IS                   42.360000\n",
       "Production              42.004785\n",
       "Sales                   41.516129\n",
       "Software Engineering    40.090909\n",
       "Name: Age, dtype: float64"
      ]
     },
     "execution_count": 13,
     "metadata": {},
     "output_type": "execute_result"
    }
   ],
   "source": [
    "H=HR.groupby('Department').mean()['Age']\n",
    "H"
   ]
  },
  {
   "cell_type": "markdown",
   "id": "7f220925",
   "metadata": {},
   "source": [
    "### 16. Find the minimum age of employees in each department\n"
   ]
  },
  {
   "cell_type": "code",
   "execution_count": 14,
   "id": "b1569ca5",
   "metadata": {},
   "outputs": [
    {
     "data": {
      "text/plain": [
       "Department\n",
       "Admin Offices           25.0\n",
       "Executive Office        36.0\n",
       "IT/IS                   24.0\n",
       "Production              24.0\n",
       "Sales                   25.0\n",
       "Software Engineering    25.0\n",
       "Name: Age, dtype: float64"
      ]
     },
     "execution_count": 14,
     "metadata": {},
     "output_type": "execute_result"
    }
   ],
   "source": [
    "H1=HR.groupby('Department').min()['Age']\n",
    "H1"
   ]
  },
  {
   "cell_type": "markdown",
   "id": "5f3d3d97",
   "metadata": {},
   "source": [
    "### 17. Find the maximum age of employees in each department\n"
   ]
  },
  {
   "cell_type": "code",
   "execution_count": 15,
   "id": "27c500f7",
   "metadata": {},
   "outputs": [
    {
     "data": {
      "text/plain": [
       "Department\n",
       "Admin Offices           58.0\n",
       "Executive Office        36.0\n",
       "IT/IS                   60.0\n",
       "Production              60.0\n",
       "Sales                   59.0\n",
       "Software Engineering    56.0\n",
       "Name: Age, dtype: float64"
      ]
     },
     "execution_count": 15,
     "metadata": {},
     "output_type": "execute_result"
    }
   ],
   "source": [
    "H=HR.groupby('Department').max()['Age']\n",
    "H"
   ]
  },
  {
   "cell_type": "markdown",
   "id": "98885fb9",
   "metadata": {},
   "source": [
    "### 18. Find the Total Salary of each department\n"
   ]
  },
  {
   "cell_type": "code",
   "execution_count": 16,
   "id": "864ce978",
   "metadata": {},
   "outputs": [
    {
     "data": {
      "text/plain": [
       "Department\n",
       "Admin Offices             646127.0\n",
       "Executive Office          250000.0\n",
       "IT/IS                    4853232.0\n",
       "Production              12530291.0\n",
       "Sales                    2140899.0\n",
       "Software Engineering     1044884.0\n",
       "Name: Salary, dtype: float64"
      ]
     },
     "execution_count": 16,
     "metadata": {},
     "output_type": "execute_result"
    }
   ],
   "source": [
    "H=HR.groupby('Department').sum()['Salary']\n",
    "H"
   ]
  },
  {
   "cell_type": "markdown",
   "id": "1ab09e27",
   "metadata": {},
   "source": [
    "### 19.Find the minimum salary of each department\n"
   ]
  },
  {
   "cell_type": "code",
   "execution_count": 17,
   "id": "ae0f0cd3",
   "metadata": {},
   "outputs": [
    {
     "data": {
      "text/plain": [
       "Department\n",
       "Admin Offices            49920.0\n",
       "Executive Office        250000.0\n",
       "IT/IS                    50178.0\n",
       "Production               45046.0\n",
       "Sales                    55875.0\n",
       "Software Engineering     77692.0\n",
       "Name: Salary, dtype: float64"
      ]
     },
     "execution_count": 17,
     "metadata": {},
     "output_type": "execute_result"
    }
   ],
   "source": [
    "H3=HR.groupby('Department').min()['Salary']\n",
    "H3"
   ]
  },
  {
   "cell_type": "code",
   "execution_count": 18,
   "id": "592798d1",
   "metadata": {},
   "outputs": [
    {
     "data": {
      "text/plain": [
       "Department\n",
       "Admin Offices           106367.0\n",
       "Executive Office        250000.0\n",
       "IT/IS                   220450.0\n",
       "Production              170500.0\n",
       "Sales                   180000.0\n",
       "Software Engineering    108987.0\n",
       "Name: Salary, dtype: float64"
      ]
     },
     "execution_count": 18,
     "metadata": {},
     "output_type": "execute_result"
    }
   ],
   "source": [
    "H4=HR.groupby('Department').max()['Salary']\n",
    "H4"
   ]
  },
  {
   "cell_type": "markdown",
   "id": "6794d047",
   "metadata": {},
   "source": [
    "### 20. Find the average salary of each department using clustered column chart"
   ]
  },
  {
   "cell_type": "code",
   "execution_count": 19,
   "id": "27e32b81",
   "metadata": {},
   "outputs": [
    {
     "data": {
      "text/plain": [
       "Department\n",
       "Admin Offices            71791.888889\n",
       "Executive Office        250000.000000\n",
       "IT/IS                    97064.640000\n",
       "Production               59953.545455\n",
       "Sales                    69061.258065\n",
       "Software Engineering     94989.454545\n",
       "Name: Salary, dtype: float64"
      ]
     },
     "execution_count": 19,
     "metadata": {},
     "output_type": "execute_result"
    }
   ],
   "source": [
    "H5=HR.groupby('Department').mean()['Salary']\n",
    "H5"
   ]
  },
  {
   "cell_type": "code",
   "execution_count": 20,
   "id": "e7317635",
   "metadata": {},
   "outputs": [
    {
     "data": {
      "text/plain": [
       "Text(0.5, 1.0, 'Average Salary by Department ')"
      ]
     },
     "execution_count": 20,
     "metadata": {},
     "output_type": "execute_result"
    },
    {
     "data": {
      "image/png": "[encoded data removed]",
      "text/plain": [
       "<Figure size 432x288 with 1 Axes>"
      ]
     },
     "metadata": {
      "needs_background": "light"
     },
     "output_type": "display_data"
    }
   ],
   "source": [
    "H5.plot(kind='bar')\n",
    "plt.title('Average Salary by Department ', fontdict= {'fontsize':20, 'fontweight':5, 'color':'darkblue'})"
   ]
  },
  {
   "cell_type": "markdown",
   "id": "262c3c0a",
   "metadata": {},
   "source": [
    "### 21. Find the employee count by department and gender using stacked bar chart\n"
   ]
  },
  {
   "cell_type": "code",
   "execution_count": 28,
   "id": "05196e94",
   "metadata": {},
   "outputs": [
    {
     "data": {
      "text/plain": [
       "Department            Gender\n",
       "Admin Offices         Female      6\n",
       "                      Male        3\n",
       "Executive Office      Female      1\n",
       "IT/IS                 Female     22\n",
       "                      Male       28\n",
       "Production            Female    126\n",
       "                      Male       83\n",
       "Sales                 Female     15\n",
       "                      Male       16\n",
       "Software Engineering  Female      6\n",
       "                      Male        5\n",
       "Name: Employee Name, dtype: int64"
      ]
     },
     "execution_count": 28,
     "metadata": {},
     "output_type": "execute_result"
    }
   ],
   "source": [
    "H6=HR.groupby(['Department','Gender']).count()['Employee Name']\n",
    "H6"
   ]
  },
  {
   "cell_type": "code",
   "execution_count": 13,
   "id": "03133ea5",
   "metadata": {},
   "outputs": [
    {
     "data": {
      "text/html": [
       "<div>\n",
       "<style scoped>\n",
       "    .dataframe tbody tr th:only-of-type {\n",
       "        vertical-align: middle;\n",
       "    }\n",
       "\n",
       "    .dataframe tbody tr th {\n",
       "        vertical-align: top;\n",
       "    }\n",
       "\n",
       "    .dataframe thead tr th {\n",
       "        text-align: left;\n",
       "    }\n",
       "\n",
       "    .dataframe thead tr:last-of-type th {\n",
       "        text-align: right;\n",
       "    }\n",
       "</style>\n",
       "<table border=\"1\" class=\"dataframe\">\n",
       "  <thead>\n",
       "    <tr>\n",
       "      <th></th>\n",
       "      <th colspan=\"2\" halign=\"left\">Employee Name</th>\n",
       "    </tr>\n",
       "    <tr>\n",
       "      <th>Gender</th>\n",
       "      <th>Female</th>\n",
       "      <th>Male</th>\n",
       "    </tr>\n",
       "    <tr>\n",
       "      <th>Department</th>\n",
       "      <th></th>\n",
       "      <th></th>\n",
       "    </tr>\n",
       "  </thead>\n",
       "  <tbody>\n",
       "    <tr>\n",
       "      <th>Admin Offices</th>\n",
       "      <td>6.0</td>\n",
       "      <td>3.0</td>\n",
       "    </tr>\n",
       "    <tr>\n",
       "      <th>Executive Office</th>\n",
       "      <td>1.0</td>\n",
       "      <td>NaN</td>\n",
       "    </tr>\n",
       "    <tr>\n",
       "      <th>IT/IS</th>\n",
       "      <td>22.0</td>\n",
       "      <td>28.0</td>\n",
       "    </tr>\n",
       "    <tr>\n",
       "      <th>Production</th>\n",
       "      <td>126.0</td>\n",
       "      <td>83.0</td>\n",
       "    </tr>\n",
       "    <tr>\n",
       "      <th>Sales</th>\n",
       "      <td>15.0</td>\n",
       "      <td>16.0</td>\n",
       "    </tr>\n",
       "    <tr>\n",
       "      <th>Software Engineering</th>\n",
       "      <td>6.0</td>\n",
       "      <td>5.0</td>\n",
       "    </tr>\n",
       "  </tbody>\n",
       "</table>\n",
       "</div>"
      ],
      "text/plain": [
       "                     Employee Name      \n",
       "Gender                      Female Male \n",
       "Department                              \n",
       "Admin Offices                  6.0   3.0\n",
       "Executive Office               1.0   NaN\n",
       "IT/IS                         22.0  28.0\n",
       "Production                   126.0  83.0\n",
       "Sales                         15.0  16.0\n",
       "Software Engineering           6.0   5.0"
      ]
     },
     "execution_count": 13,
     "metadata": {},
     "output_type": "execute_result"
    }
   ],
   "source": [
    "v=pd.pivot_table(HR, index=['Department'], columns=['Gender'], values=['Employee Name'], aggfunc='count')\n",
    "v "
   ]
  },
  {
   "cell_type": "code",
   "execution_count": 14,
   "id": "68ca3048",
   "metadata": {},
   "outputs": [
    {
     "data": {
      "text/plain": [
       "Text(0, 0.5, 'Gender')"
      ]
     },
     "execution_count": 14,
     "metadata": {},
     "output_type": "execute_result"
    },
    {
     "data": {
      "text/plain": [
       "<Figure size 432x288 with 0 Axes>"
      ]
     },
     "metadata": {},
     "output_type": "display_data"
    },
    {
     "data": {
      "image/png": "[encoded data removed]",
      "text/plain": [
       "<Figure size 432x288 with 1 Axes>"
      ]
     },
     "metadata": {
      "needs_background": "light"
     },
     "output_type": "display_data"
    }
   ],
   "source": [
    "plt.figure(); v.plot.bar(title='Fig.No. 4 : STACKED BAR CHART', stacked=True); plt.xlabel('Deopartment'); plt.ylabel('Gender') "
   ]
  },
  {
   "cell_type": "markdown",
   "id": "d6536db2",
   "metadata": {},
   "source": [
    "# Conclusion\n",
    "\n",
    "This is a HR Data.The data contains 311 rows and 6 columns\n",
    "\n",
    "1) There is No null values in this data.\n",
    "\n",
    "2) The total salary is 21465433.0 \n",
    "\n",
    "3) Find the average salary given in the company \n",
    "\n",
    "   Department\n",
    "\n",
    "   Admin Offices       -     71791.888889\n",
    "\n",
    "   Executive Office    -    250000.000000\n",
    "\n",
    "   IT/IS               -     97064.640000\n",
    "\n",
    "   Production          -     59953.545455\n",
    "\n",
    "   Sales               -     69061.258065\n",
    "\n",
    "   Software Engineering  -   94989.454545\n",
    "\n",
    "   Name: Salary, dtype: float64\n",
    "\n",
    "\n",
    "4) Find the Maximum salary - 250000.0\n",
    "\n",
    "5)Find the minimum Salary -  45046.0\n",
    "\n",
    "6)Find the range of salary - -204954.0\n",
    "\n",
    "7)Find the descriptive Statistics for the variable Salary and identify the Varience\n",
    "\n",
    "    Salary    6.328564e+08\n",
    "    \n",
    "    Age       1.163185e+02\n",
    "    \n",
    "    dtype: float64\n",
    "    \n",
    "8)Find the average age of employees - 42.02893890675241\n",
    "\n",
    "\n",
    "9)Find the minimum age of employees -  24.0\n",
    "\n",
    "10) Find the maximum age of employees -  60.0\n",
    "\n",
    "11) Find the descriptive Statistics for the variable Age and identify the Quartiles - 9.0\n",
    "\n",
    "12) Find the count of Gender\n",
    "\n",
    "\n",
    "   Female    176\n",
    "\n",
    "   Male      135\n",
    "\n",
    "   Name: Gender, dtype: int64\n",
    "\n",
    "\n",
    "12. Find the Frequency of gender in a Bar Chart. modify the chart \n",
    "\n",
    "  In the Human resource data, The most of gender is female 176 and the little gender is male 135 in the bar chart. \n",
    "  \n",
    "\n",
    "13. obtain the percentage value of number of male and female employees \n",
    "\n",
    " Female    0.565916\n",
    " \n",
    " Male      0.434084\n",
    " \n",
    " Name: Gender, dtype: float64\n",
    " \n",
    "\n",
    "14. obtain the percentage value of number of male and female employees in a pie chart. modify the chart\n",
    "\n"
   ]
  },
  {
   "cell_type": "code",
   "execution_count": null,
   "id": "171f0f0f",
   "metadata": {},
   "outputs": [],
   "source": []
  },
  {
   "cell_type": "code",
   "execution_count": null,
   "id": "61eb90ce",
   "metadata": {},
   "outputs": [],
   "source": []
  }
 ],
 "metadata": {
  "kernelspec": {
   "display_name": "Python 3 (ipykernel)",
   "language": "python",
   "name": "python3"
  },
  "language_info": {
   "codemirror_mode": {
    "name": "ipython",
    "version": 3
   },
   "file_extension": ".py",
   "mimetype": "text/x-python",
   "name": "python",
   "nbconvert_exporter": "python",
   "pygments_lexer": "ipython3",
   "version": "3.9.12"
  }
 },
 "nbformat": 4,
 "nbformat_minor": 5
}
