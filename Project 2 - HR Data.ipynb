{
 "cells": [
  {
   "cell_type": "code",
   "execution_count": 14,
   "id": "ebcacc1e",
   "metadata": {},
   "outputs": [
    {
     "data": {
      "text/html": [
       "<div>\n",
       "<style scoped>\n",
       "    .dataframe tbody tr th:only-of-type {\n",
       "        vertical-align: middle;\n",
       "    }\n",
       "\n",
       "    .dataframe tbody tr th {\n",
       "        vertical-align: top;\n",
       "    }\n",
       "\n",
       "    .dataframe thead th {\n",
       "        text-align: right;\n",
       "    }\n",
       "</style>\n",
       "<table border=\"1\" class=\"dataframe\">\n",
       "  <thead>\n",
       "    <tr style=\"text-align: right;\">\n",
       "      <th></th>\n",
       "      <th>Employee Name</th>\n",
       "      <th>Department</th>\n",
       "      <th>Salary</th>\n",
       "      <th>Age</th>\n",
       "      <th>Gender</th>\n",
       "      <th>Date of Join</th>\n",
       "    </tr>\n",
       "  </thead>\n",
       "  <tbody>\n",
       "    <tr>\n",
       "      <th>0</th>\n",
       "      <td>Wilson  K Adinolfi</td>\n",
       "      <td>Production</td>\n",
       "      <td>62506.0</td>\n",
       "      <td>49.0</td>\n",
       "      <td>Male</td>\n",
       "      <td>07-05-2011</td>\n",
       "    </tr>\n",
       "    <tr>\n",
       "      <th>1</th>\n",
       "      <td>Karthikeyan Ait Sidi</td>\n",
       "      <td>IT/IS</td>\n",
       "      <td>104437.0</td>\n",
       "      <td>55.0</td>\n",
       "      <td>Male</td>\n",
       "      <td>30-03-2015</td>\n",
       "    </tr>\n",
       "    <tr>\n",
       "      <th>2</th>\n",
       "      <td>Sarah Akinkuolie</td>\n",
       "      <td>Production</td>\n",
       "      <td>64955.0</td>\n",
       "      <td>49.0</td>\n",
       "      <td>Female</td>\n",
       "      <td>07-05-2011</td>\n",
       "    </tr>\n",
       "    <tr>\n",
       "      <th>3</th>\n",
       "      <td>Trina Alagbe</td>\n",
       "      <td>Production</td>\n",
       "      <td>64991.0</td>\n",
       "      <td>49.0</td>\n",
       "      <td>Female</td>\n",
       "      <td>01-07-2008</td>\n",
       "    </tr>\n",
       "    <tr>\n",
       "      <th>4</th>\n",
       "      <td>Carol Anderson</td>\n",
       "      <td>Production</td>\n",
       "      <td>50825.0</td>\n",
       "      <td>31.0</td>\n",
       "      <td>Female</td>\n",
       "      <td>07-11-2011</td>\n",
       "    </tr>\n",
       "  </tbody>\n",
       "</table>\n",
       "</div>"
      ],
      "text/plain": [
       "          Employee Name         Department    Salary   Age  Gender  \\\n",
       "0    Wilson  K Adinolfi  Production          62506.0  49.0   Male    \n",
       "1  Karthikeyan Ait Sidi              IT/IS  104437.0  55.0   Male    \n",
       "2      Sarah Akinkuolie  Production          64955.0  49.0  Female   \n",
       "3          Trina Alagbe  Production          64991.0  49.0  Female   \n",
       "4        Carol Anderson  Production          50825.0  31.0  Female   \n",
       "\n",
       "  Date of Join  \n",
       "0   07-05-2011  \n",
       "1   30-03-2015  \n",
       "2   07-05-2011  \n",
       "3   01-07-2008  \n",
       "4   07-11-2011  "
      ]
     },
     "execution_count": 14,
     "metadata": {},
     "output_type": "execute_result"
    }
   ],
   "source": [
    "#Import library \n",
    "import pandas as pd\n",
    "import numpy as np\n",
    "import seaborn as sns\n",
    "import matplotlib.pyplot as plt\n",
    "\n",
    "#data importing\n",
    "\n",
    "HR=pd.read_excel('Human resource.xlsx')\n",
    "\n",
    "HR.head(5)"
   ]
  },
  {
   "cell_type": "markdown",
   "id": "9f0dd50a",
   "metadata": {},
   "source": [
    "### 1. Find the Total Salary"
   ]
  },
  {
   "cell_type": "code",
   "execution_count": 15,
   "id": "593458d9",
   "metadata": {},
   "outputs": [
    {
     "data": {
      "text/plain": [
       "21465433.0"
      ]
     },
     "execution_count": 15,
     "metadata": {},
     "output_type": "execute_result"
    }
   ],
   "source": [
    "a=HR['Salary'].sum()\n",
    "a"
   ]
  },
  {
   "cell_type": "markdown",
   "id": "cf9b2537",
   "metadata": {},
   "source": [
    "### 2. Find the average salary given in the company"
   ]
  },
  {
   "cell_type": "code",
   "execution_count": 16,
   "id": "d35ae4d4",
   "metadata": {},
   "outputs": [
    {
     "data": {
      "text/plain": [
       "Department\n",
       "Admin Offices            71791.888889\n",
       "Executive Office        250000.000000\n",
       "IT/IS                    97064.640000\n",
       "Production               59953.545455\n",
       "Sales                    69061.258065\n",
       "Software Engineering     94989.454545\n",
       "Name: Salary, dtype: float64"
      ]
     },
     "execution_count": 16,
     "metadata": {},
     "output_type": "execute_result"
    }
   ],
   "source": [
    "b=HR.groupby('Department').mean()['Salary']\n",
    "b"
   ]
  },
  {
   "cell_type": "markdown",
   "id": "1ebe1e98",
   "metadata": {},
   "source": [
    "### 3. Find the Maximum salary"
   ]
  },
  {
   "cell_type": "code",
   "execution_count": 17,
   "id": "6e5adb3a",
   "metadata": {},
   "outputs": [
    {
     "data": {
      "text/plain": [
       "250000.0"
      ]
     },
     "execution_count": 17,
     "metadata": {},
     "output_type": "execute_result"
    }
   ],
   "source": [
    "d=HR['Salary'].max()\n",
    "d"
   ]
  },
  {
   "cell_type": "markdown",
   "id": "fd88e066",
   "metadata": {},
   "source": [
    "### 4. Find the minimum Salary"
   ]
  },
  {
   "cell_type": "code",
   "execution_count": 18,
   "id": "9593289a",
   "metadata": {},
   "outputs": [
    {
     "data": {
      "text/plain": [
       "45046.0"
      ]
     },
     "execution_count": 18,
     "metadata": {},
     "output_type": "execute_result"
    }
   ],
   "source": [
    "e=HR['Salary'].min()\n",
    "e"
   ]
  },
  {
   "cell_type": "markdown",
   "id": "b42d1e73",
   "metadata": {},
   "source": [
    "### 5. Find the range of salary"
   ]
  },
  {
   "cell_type": "code",
   "execution_count": 19,
   "id": "11b23d07",
   "metadata": {},
   "outputs": [
    {
     "data": {
      "text/plain": [
       "-204954.0"
      ]
     },
     "execution_count": 19,
     "metadata": {},
     "output_type": "execute_result"
    }
   ],
   "source": [
    "f=45046.0-250000.0\n",
    "f"
   ]
  },
  {
   "cell_type": "markdown",
   "id": "82578e81",
   "metadata": {},
   "source": [
    "### 6. Find the descriptive Statistics for the variable Salary and identify the Varience"
   ]
  },
  {
   "cell_type": "code",
   "execution_count": 20,
   "id": "204235fa",
   "metadata": {},
   "outputs": [
    {
     "name": "stderr",
     "output_type": "stream",
     "text": [
      "C:\\Users\\user\\AppData\\Local\\Temp\\ipykernel_8928\\158553025.py:1: FutureWarning: Dropping of nuisance columns in DataFrame reductions (with 'numeric_only=None') is deprecated; in a future version this will raise TypeError.  Select only valid columns before calling the reduction.\n",
      "  HR.var()\n"
     ]
    },
    {
     "data": {
      "text/plain": [
       "Salary    6.328564e+08\n",
       "Age       1.163185e+02\n",
       "dtype: float64"
      ]
     },
     "execution_count": 20,
     "metadata": {},
     "output_type": "execute_result"
    }
   ],
   "source": [
    "HR.var()"
   ]
  },
  {
   "cell_type": "markdown",
   "id": "86f48f26",
   "metadata": {},
   "source": [
    "### 7. Find the average age of employees"
   ]
  },
  {
   "cell_type": "code",
   "execution_count": 21,
   "id": "401533bb",
   "metadata": {},
   "outputs": [
    {
     "data": {
      "text/plain": [
       "42.02893890675241"
      ]
     },
     "execution_count": 21,
     "metadata": {},
     "output_type": "execute_result"
    }
   ],
   "source": [
    "d1=HR['Age'].mean()\n",
    "d1"
   ]
  },
  {
   "cell_type": "markdown",
   "id": "9ed22b46",
   "metadata": {},
   "source": [
    "### 8. Find the minimum age of employees "
   ]
  },
  {
   "cell_type": "code",
   "execution_count": 22,
   "id": "8dbfb586",
   "metadata": {},
   "outputs": [
    {
     "data": {
      "text/plain": [
       "24.0"
      ]
     },
     "execution_count": 22,
     "metadata": {},
     "output_type": "execute_result"
    }
   ],
   "source": [
    "d2=HR['Age'].min()\n",
    "d2"
   ]
  },
  {
   "cell_type": "markdown",
   "id": "b337aa8e",
   "metadata": {},
   "source": [
    "### 9. Find the maximum age of employees"
   ]
  },
  {
   "cell_type": "code",
   "execution_count": 23,
   "id": "2f0e4a14",
   "metadata": {},
   "outputs": [
    {
     "data": {
      "text/plain": [
       "60.0"
      ]
     },
     "execution_count": 23,
     "metadata": {},
     "output_type": "execute_result"
    }
   ],
   "source": [
    "d3=HR['Age'].max()\n",
    "d3"
   ]
  },
  {
   "cell_type": "markdown",
   "id": "9e095348",
   "metadata": {},
   "source": [
    "### 10. Find the descriptive Statistics for the variable Age and identify the Quartiles "
   ]
  },
  {
   "cell_type": "code",
   "execution_count": 33,
   "id": "e79c5424",
   "metadata": {},
   "outputs": [
    {
     "data": {
      "text/plain": [
       "Salary    55501.5\n",
       "Age          33.0\n",
       "Name: 0.25, dtype: float64"
      ]
     },
     "execution_count": 33,
     "metadata": {},
     "output_type": "execute_result"
    }
   ],
   "source": [
    "#Q1\n",
    "HR.quantile(0.25)"
   ]
  },
  {
   "cell_type": "code",
   "execution_count": 32,
   "id": "d1c6c8ec",
   "metadata": {},
   "outputs": [
    {
     "data": {
      "text/plain": [
       "Salary    62810.0\n",
       "Age          42.0\n",
       "Name: 0.5, dtype: float64"
      ]
     },
     "execution_count": 32,
     "metadata": {},
     "output_type": "execute_result"
    }
   ],
   "source": [
    "#Q2\n",
    "HR.quantile(0.5)"
   ]
  },
  {
   "cell_type": "code",
   "execution_count": 31,
   "id": "df29d100",
   "metadata": {},
   "outputs": [
    {
     "data": {
      "text/plain": [
       "Salary    72036.0\n",
       "Age          51.5\n",
       "Name: 0.75, dtype: float64"
      ]
     },
     "execution_count": 31,
     "metadata": {},
     "output_type": "execute_result"
    }
   ],
   "source": [
    "#Q3\n",
    "HR.quantile(0.75)"
   ]
  },
  {
   "cell_type": "code",
   "execution_count": 35,
   "id": "f285155a",
   "metadata": {},
   "outputs": [
    {
     "data": {
      "text/plain": [
       "18.0"
      ]
     },
     "execution_count": 35,
     "metadata": {},
     "output_type": "execute_result"
    }
   ],
   "source": [
    "#Q1 and Q3 Age\n",
    "\n",
    "Q1Age=51.0-33.0\n",
    "Q1Age"
   ]
  },
  {
   "cell_type": "code",
   "execution_count": 36,
   "id": "dfc8c7cb",
   "metadata": {},
   "outputs": [
    {
     "data": {
      "text/plain": [
       "9.0"
      ]
     },
     "execution_count": 36,
     "metadata": {},
     "output_type": "execute_result"
    }
   ],
   "source": [
    "#IQR\n",
    "\n",
    "QdAge=18.0/2\n",
    "QdAge"
   ]
  },
  {
   "cell_type": "markdown",
   "id": "7715b35a",
   "metadata": {},
   "source": [
    "### 11.Find the count of Gender\n"
   ]
  },
  {
   "cell_type": "code",
   "execution_count": 37,
   "id": "9a148132",
   "metadata": {},
   "outputs": [
    {
     "data": {
      "text/plain": [
       "Female    176\n",
       "Male      135\n",
       "Name: Gender, dtype: int64"
      ]
     },
     "execution_count": 37,
     "metadata": {},
     "output_type": "execute_result"
    }
   ],
   "source": [
    "b1=HR['Gender'].value_counts()\n",
    "b1"
   ]
  },
  {
   "cell_type": "markdown",
   "id": "8ad928e4",
   "metadata": {},
   "source": [
    "### 12. Find the Frequency of gender in a Bar Chart. modify the chart\n"
   ]
  },
  {
   "cell_type": "code",
   "execution_count": 43,
   "id": "714e4143",
   "metadata": {},
   "outputs": [
    {
     "data": {
      "text/plain": [
       "Text(0.5, 1.0, 'Gender')"
      ]
     },
     "execution_count": 43,
     "metadata": {},
     "output_type": "execute_result"
    },
    {
     "data": {
      "image/png": "[encoded data removed]",
      "text/plain": [
       "<Figure size 432x288 with 1 Axes>"
      ]
     },
     "metadata": {
      "needs_background": "light"
     },
     "output_type": "display_data"
    }
   ],
   "source": [
    "b1.plot(kind='bar')\n",
    "plt.title('Gender', fontdict= {'fontsize':20, 'fontweight':5, 'color':'darkblue'})"
   ]
  },
  {
   "cell_type": "markdown",
   "id": "63e8fac7",
   "metadata": {},
   "source": [
    "### 13. obtain the percentage value of number of male and female employees \n"
   ]
  },
  {
   "cell_type": "code",
   "execution_count": 48,
   "id": "038c025d",
   "metadata": {},
   "outputs": [
    {
     "data": {
      "text/plain": [
       "Female    0.565916\n",
       "Male      0.434084\n",
       "Name: Gender, dtype: float64"
      ]
     },
     "execution_count": 48,
     "metadata": {},
     "output_type": "execute_result"
    }
   ],
   "source": [
    "b2=HR['Gender'].value_counts(normalize=True)\n",
    "b2"
   ]
  },
  {
   "cell_type": "markdown",
   "id": "62a3c903",
   "metadata": {},
   "source": [
    "### 14. obtain the percentage value of number of male and female employees in a pie chart. modify the chart\n"
   ]
  },
  {
   "cell_type": "code",
   "execution_count": 49,
   "id": "817587bd",
   "metadata": {},
   "outputs": [
    {
     "data": {
      "text/plain": [
       "<AxesSubplot:ylabel='Gender'>"
      ]
     },
     "execution_count": 49,
     "metadata": {},
     "output_type": "execute_result"
    },
    {
     "data": {
      "image/png": "[encoded data removed]",
      "text/plain": [
       "<Figure size 432x288 with 1 Axes>"
      ]
     },
     "metadata": {},
     "output_type": "display_data"
    }
   ],
   "source": [
    "b2.plot(kind='pie',autopct='%1.2f%%')"
   ]
  },
  {
   "cell_type": "markdown",
   "id": "2543b70c",
   "metadata": {},
   "source": [
    "# Conclusion"
   ]
  },
  {
   "cell_type": "raw",
   "id": "540a144b",
   "metadata": {},
   "source": [
    "1. Find the Total Salary - 21465433.0\n",
    "\n",
    "2. Find the average salary given in the company \n",
    "Department\n",
    "Admin Offices            71791.888889\n",
    "Executive Office        250000.000000\n",
    "IT/IS                    97064.640000\n",
    "Production               59953.545455\n",
    "Sales                    69061.258065\n",
    "Software Engineering     94989.454545\n",
    "Name: Salary, dtype: float64\n",
    "\n",
    "3. Find the Maximum salary - 250000.0\n",
    "4. Find the minimum Salary -  45046.0\n",
    "\n",
    "5. Find the range of salary - -204954.0\n",
    "6. Find the descriptive Statistics for the variable Salary and identify the Varience \n",
    "        Salary    6.328564e+08\n",
    "        Age       1.163185e+02\n",
    "        dtype: float64\n",
    "\n",
    "7. Find the average age of employees - 42.02893890675241\n",
    "\n",
    "8. Find the minimum age of employees -  24.0\n",
    "9. Find the maximum age of employees -  60.0\n",
    "10. Find the descriptive Statistics for the variable Age and identify the Quartiles - 9.0\n",
    "11.Find the count of Gender \n",
    "Female    176\n",
    "Male      135\n",
    "Name: Gender, dtype: int64\n",
    "\n",
    "12. Find the Frequency of gender in a Bar Chart. modify the chart \n",
    "In the Human resource data, The most of gender is female 176 and the little gender is male 135 in the bar chart.   \n",
    "\n",
    "13. obtain the percentage value of number of male and female employees \n",
    "Female    0.565916\n",
    "Male      0.434084\n",
    "Name: Gender, dtype: float64\n",
    "\n",
    "14. obtain the percentage value of number of male and female employees in a pie chart. modify the chart\n",
    "\n"
   ]
  }
 ],
 "metadata": {
  "kernelspec": {
   "display_name": "Python 3 (ipykernel)",
   "language": "python",
   "name": "python3"
  },
  "language_info": {
   "codemirror_mode": {
    "name": "ipython",
    "version": 3
   },
   "file_extension": ".py",
   "mimetype": "text/x-python",
   "name": "python",
   "nbconvert_exporter": "python",
   "pygments_lexer": "ipython3",
   "version": "3.9.12"
  }
 },
 "nbformat": 4,
 "nbformat_minor": 5
}
