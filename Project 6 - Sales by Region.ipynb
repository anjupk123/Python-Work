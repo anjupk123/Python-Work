{
 "cells": [
  {
   "cell_type": "code",
   "execution_count": 30,
   "id": "e1ac9db4",
   "metadata": {},
   "outputs": [
    {
     "data": {
      "text/html": [
       "<div>\n",
       "<style scoped>\n",
       "    .dataframe tbody tr th:only-of-type {\n",
       "        vertical-align: middle;\n",
       "    }\n",
       "\n",
       "    .dataframe tbody tr th {\n",
       "        vertical-align: top;\n",
       "    }\n",
       "\n",
       "    .dataframe thead th {\n",
       "        text-align: right;\n",
       "    }\n",
       "</style>\n",
       "<table border=\"1\" class=\"dataframe\">\n",
       "  <thead>\n",
       "    <tr style=\"text-align: right;\">\n",
       "      <th></th>\n",
       "      <th>Order ID</th>\n",
       "      <th>Order Date</th>\n",
       "      <th>Product Name</th>\n",
       "      <th>Category</th>\n",
       "      <th>Quantity</th>\n",
       "      <th>Sales</th>\n",
       "      <th>Region</th>\n",
       "      <th>Customer</th>\n",
       "    </tr>\n",
       "  </thead>\n",
       "  <tbody>\n",
       "    <tr>\n",
       "      <th>0</th>\n",
       "      <td>BN-2011-7407039</td>\n",
       "      <td>2011-01-01</td>\n",
       "      <td>Enermax Note Cards, Premium</td>\n",
       "      <td>Office Supplies</td>\n",
       "      <td>3</td>\n",
       "      <td>45</td>\n",
       "      <td>North</td>\n",
       "      <td>Ruby Patel</td>\n",
       "    </tr>\n",
       "    <tr>\n",
       "      <th>1</th>\n",
       "      <td>AZ-2011-9050313</td>\n",
       "      <td>2011-01-03</td>\n",
       "      <td>Dania Corner Shelving, Traditional</td>\n",
       "      <td>Furniture</td>\n",
       "      <td>7</td>\n",
       "      <td>854</td>\n",
       "      <td>North</td>\n",
       "      <td>Summer Hayward</td>\n",
       "    </tr>\n",
       "    <tr>\n",
       "      <th>2</th>\n",
       "      <td>AZ-2011-6674300</td>\n",
       "      <td>2011-01-04</td>\n",
       "      <td>Binney &amp; Smith Sketch Pad, Easy-Erase</td>\n",
       "      <td>Office Supplies</td>\n",
       "      <td>3</td>\n",
       "      <td>140</td>\n",
       "      <td>Central</td>\n",
       "      <td>Devin Huddleston</td>\n",
       "    </tr>\n",
       "    <tr>\n",
       "      <th>3</th>\n",
       "      <td>BN-2011-2819714</td>\n",
       "      <td>2011-01-04</td>\n",
       "      <td>Boston Markers, Easy-Erase</td>\n",
       "      <td>Office Supplies</td>\n",
       "      <td>2</td>\n",
       "      <td>27</td>\n",
       "      <td>North</td>\n",
       "      <td>Mary Parker</td>\n",
       "    </tr>\n",
       "    <tr>\n",
       "      <th>4</th>\n",
       "      <td>AZ-2011-617423</td>\n",
       "      <td>2011-01-05</td>\n",
       "      <td>Binney &amp; Smith Pencil Sharpener, Water Color</td>\n",
       "      <td>Office Supplies</td>\n",
       "      <td>3</td>\n",
       "      <td>90</td>\n",
       "      <td>Central</td>\n",
       "      <td>Daniel Burke</td>\n",
       "    </tr>\n",
       "  </tbody>\n",
       "</table>\n",
       "</div>"
      ],
      "text/plain": [
       "          Order ID Order Date                                  Product Name  \\\n",
       "0  BN-2011-7407039 2011-01-01                   Enermax Note Cards, Premium   \n",
       "1  AZ-2011-9050313 2011-01-03            Dania Corner Shelving, Traditional   \n",
       "2  AZ-2011-6674300 2011-01-04         Binney & Smith Sketch Pad, Easy-Erase   \n",
       "3  BN-2011-2819714 2011-01-04                    Boston Markers, Easy-Erase   \n",
       "4   AZ-2011-617423 2011-01-05  Binney & Smith Pencil Sharpener, Water Color   \n",
       "\n",
       "          Category  Quantity  Sales   Region          Customer  \n",
       "0  Office Supplies         3     45    North        Ruby Patel  \n",
       "1        Furniture         7    854    North    Summer Hayward  \n",
       "2  Office Supplies         3    140  Central  Devin Huddleston  \n",
       "3  Office Supplies         2     27    North       Mary Parker  \n",
       "4  Office Supplies         3     90  Central      Daniel Burke  "
      ]
     },
     "execution_count": 30,
     "metadata": {},
     "output_type": "execute_result"
    }
   ],
   "source": [
    "#Import library \n",
    "import pandas as pd\n",
    "import numpy as np\n",
    "import seaborn as sns\n",
    "import matplotlib.pyplot as plt\n",
    "\n",
    "#data importing\n",
    "\n",
    "Sale=pd.read_excel('Sales by Region.xlsx')\n",
    "\n",
    "Sale.head(5)"
   ]
  },
  {
   "cell_type": "code",
   "execution_count": 3,
   "id": "585103f9",
   "metadata": {},
   "outputs": [
    {
     "data": {
      "text/plain": [
       "(4117, 8)"
      ]
     },
     "execution_count": 3,
     "metadata": {},
     "output_type": "execute_result"
    }
   ],
   "source": [
    "Sale.shape"
   ]
  },
  {
   "cell_type": "code",
   "execution_count": 4,
   "id": "1ed9df23",
   "metadata": {},
   "outputs": [
    {
     "name": "stdout",
     "output_type": "stream",
     "text": [
      "<class 'pandas.core.frame.DataFrame'>\n",
      "RangeIndex: 4117 entries, 0 to 4116\n",
      "Data columns (total 8 columns):\n",
      " #   Column        Non-Null Count  Dtype         \n",
      "---  ------        --------------  -----         \n",
      " 0   Order ID      4117 non-null   object        \n",
      " 1   Order Date    4117 non-null   datetime64[ns]\n",
      " 2   Product Name  4117 non-null   object        \n",
      " 3   Category      4117 non-null   object        \n",
      " 4   Quantity      4117 non-null   int64         \n",
      " 5   Sales         4117 non-null   int64         \n",
      " 6   Region        4117 non-null   object        \n",
      " 7   Customer      4117 non-null   object        \n",
      "dtypes: datetime64[ns](1), int64(2), object(5)\n",
      "memory usage: 257.4+ KB\n"
     ]
    }
   ],
   "source": [
    "Sale.info()"
   ]
  },
  {
   "cell_type": "markdown",
   "id": "d984e4b8",
   "metadata": {},
   "source": [
    "### 1. Find total Sales"
   ]
  },
  {
   "cell_type": "code",
   "execution_count": 5,
   "id": "728e11a6",
   "metadata": {},
   "outputs": [
    {
     "data": {
      "text/plain": [
       "1267690"
      ]
     },
     "execution_count": 5,
     "metadata": {},
     "output_type": "execute_result"
    }
   ],
   "source": [
    "Sale['Sales'].sum()"
   ]
  },
  {
   "cell_type": "markdown",
   "id": "2847de06",
   "metadata": {},
   "source": [
    "### 2. Find total number of units sold\n"
   ]
  },
  {
   "cell_type": "code",
   "execution_count": 6,
   "id": "d80eaa67",
   "metadata": {},
   "outputs": [
    {
     "data": {
      "text/plain": [
       "15428"
      ]
     },
     "execution_count": 6,
     "metadata": {},
     "output_type": "execute_result"
    }
   ],
   "source": [
    "Sale['Quantity'].sum()"
   ]
  },
  {
   "cell_type": "markdown",
   "id": "73637731",
   "metadata": {},
   "source": [
    "### 3. Find category wise sales"
   ]
  },
  {
   "cell_type": "code",
   "execution_count": 7,
   "id": "689fcc61",
   "metadata": {},
   "outputs": [
    {
     "data": {
      "text/plain": [
       "Category\n",
       "Furniture          568595\n",
       "Office Supplies    421719\n",
       "Technology         277376\n",
       "Name: Sales, dtype: int64"
      ]
     },
     "execution_count": 7,
     "metadata": {},
     "output_type": "execute_result"
    }
   ],
   "source": [
    "h=Sale.groupby('Category').sum()['Sales']\n",
    "h"
   ]
  },
  {
   "cell_type": "markdown",
   "id": "07f1ad5d",
   "metadata": {},
   "source": [
    "### 4. Find category wise units sold\n"
   ]
  },
  {
   "cell_type": "code",
   "execution_count": 8,
   "id": "dd798881",
   "metadata": {},
   "outputs": [
    {
     "data": {
      "text/plain": [
       "Category\n",
       "Furniture          4017\n",
       "Office Supplies    9711\n",
       "Technology         1700\n",
       "Name: Quantity, dtype: int64"
      ]
     },
     "execution_count": 8,
     "metadata": {},
     "output_type": "execute_result"
    }
   ],
   "source": [
    "h=Sale.groupby('Category').sum()['Quantity']\n",
    "h"
   ]
  },
  {
   "cell_type": "markdown",
   "id": "a32d1770",
   "metadata": {},
   "source": [
    "### 5. Find region wise sales"
   ]
  },
  {
   "cell_type": "code",
   "execution_count": 9,
   "id": "6fcc08d1",
   "metadata": {},
   "outputs": [
    {
     "data": {
      "text/plain": [
       "Region\n",
       "Central    698288\n",
       "North      289102\n",
       "South      280300\n",
       "Name: Sales, dtype: int64"
      ]
     },
     "execution_count": 9,
     "metadata": {},
     "output_type": "execute_result"
    }
   ],
   "source": [
    "h=Sale.groupby('Region').sum()['Sales']\n",
    "h"
   ]
  },
  {
   "cell_type": "markdown",
   "id": "a872820c",
   "metadata": {},
   "source": [
    "### 6. Find region wise units sold\n"
   ]
  },
  {
   "cell_type": "code",
   "execution_count": 10,
   "id": "3b643757",
   "metadata": {},
   "outputs": [
    {
     "data": {
      "text/plain": [
       "Region\n",
       "Central    8503\n",
       "North      3506\n",
       "South      3419\n",
       "Name: Quantity, dtype: int64"
      ]
     },
     "execution_count": 10,
     "metadata": {},
     "output_type": "execute_result"
    }
   ],
   "source": [
    "h=Sale.groupby('Region').sum()['Quantity']\n",
    "h"
   ]
  },
  {
   "cell_type": "markdown",
   "id": "65fb3faa",
   "metadata": {},
   "source": [
    "### 7. Find customer wise sales"
   ]
  },
  {
   "cell_type": "code",
   "execution_count": 11,
   "id": "f310918f",
   "metadata": {},
   "outputs": [
    {
     "data": {
      "text/plain": [
       "Customer\n",
       "Aaron Bootman       1635\n",
       "Aaron Cunningham     820\n",
       "Aaron Davey         1862\n",
       "Aaron Macrossan       81\n",
       "Abbie Perry          619\n",
       "                    ... \n",
       "Zara Loton          1570\n",
       "Zara Money           785\n",
       "Zoe Lanigan         2358\n",
       "Zoe Lowin            565\n",
       "Zona Meyer          2490\n",
       "Name: Sales, Length: 792, dtype: int64"
      ]
     },
     "execution_count": 11,
     "metadata": {},
     "output_type": "execute_result"
    }
   ],
   "source": [
    "H=Sale.groupby('Customer').sum()['Sales']\n",
    "H"
   ]
  },
  {
   "cell_type": "markdown",
   "id": "83add84e",
   "metadata": {},
   "source": [
    "### 8. find customer wise units sold\n"
   ]
  },
  {
   "cell_type": "code",
   "execution_count": 12,
   "id": "fe124f73",
   "metadata": {},
   "outputs": [
    {
     "data": {
      "text/plain": [
       "Customer\n",
       "Aaron Bootman       37\n",
       "Aaron Cunningham    25\n",
       "Aaron Davey         22\n",
       "Aaron Macrossan      3\n",
       "Abbie Perry         11\n",
       "                    ..\n",
       "Zara Loton           8\n",
       "Zara Money          26\n",
       "Zoe Lanigan         16\n",
       "Zoe Lowin           14\n",
       "Zona Meyer          41\n",
       "Name: Quantity, Length: 792, dtype: int64"
      ]
     },
     "execution_count": 12,
     "metadata": {},
     "output_type": "execute_result"
    }
   ],
   "source": [
    "H=Sale.groupby('Customer').sum()['Quantity']\n",
    "H"
   ]
  },
  {
   "cell_type": "markdown",
   "id": "abbcd929",
   "metadata": {},
   "source": [
    "### 9. Find date wise sales\n"
   ]
  },
  {
   "cell_type": "code",
   "execution_count": 13,
   "id": "ed08f16f",
   "metadata": {},
   "outputs": [
    {
     "data": {
      "text/plain": [
       "Order Date\n",
       "2011-01-01      45\n",
       "2011-01-03     854\n",
       "2011-01-04     167\n",
       "2011-01-05      90\n",
       "2011-01-07     155\n",
       "              ... \n",
       "2014-12-27    1718\n",
       "2014-12-28     135\n",
       "2014-12-29    2384\n",
       "2014-12-30     457\n",
       "2014-12-31    1414\n",
       "Name: Sales, Length: 1214, dtype: int64"
      ]
     },
     "execution_count": 13,
     "metadata": {},
     "output_type": "execute_result"
    }
   ],
   "source": [
    "H=Sale.groupby('Order Date').sum()['Sales']\n",
    "H"
   ]
  },
  {
   "cell_type": "markdown",
   "id": "7373ad58",
   "metadata": {},
   "source": [
    "### 10. Find date wise units sold\n"
   ]
  },
  {
   "cell_type": "code",
   "execution_count": 14,
   "id": "d9241b96",
   "metadata": {},
   "outputs": [
    {
     "data": {
      "text/plain": [
       "Order Date\n",
       "2011-01-01     3\n",
       "2011-01-03     7\n",
       "2011-01-04     5\n",
       "2011-01-05     3\n",
       "2011-01-07     1\n",
       "              ..\n",
       "2014-12-27    14\n",
       "2014-12-28     5\n",
       "2014-12-29    32\n",
       "2014-12-30    13\n",
       "2014-12-31    23\n",
       "Name: Quantity, Length: 1214, dtype: int64"
      ]
     },
     "execution_count": 14,
     "metadata": {},
     "output_type": "execute_result"
    }
   ],
   "source": [
    "H=Sale.groupby('Order Date').sum()['Quantity']\n",
    "H"
   ]
  },
  {
   "cell_type": "markdown",
   "id": "324f0067",
   "metadata": {},
   "source": [
    "### 11. Find total number of orders\n",
    "\n"
   ]
  },
  {
   "cell_type": "code",
   "execution_count": 15,
   "id": "3a457048",
   "metadata": {},
   "outputs": [
    {
     "data": {
      "text/plain": [
       "4117"
      ]
     },
     "execution_count": 15,
     "metadata": {},
     "output_type": "execute_result"
    }
   ],
   "source": [
    "b1=Sale['Order ID'].count()\n",
    "b1"
   ]
  },
  {
   "cell_type": "markdown",
   "id": "2a05be28",
   "metadata": {},
   "source": [
    "### 12. Find the Q1, Q2 and Q3 of Sales in a Box Plot\n",
    "       \n"
   ]
  },
  {
   "cell_type": "raw",
   "id": "7e2f80b4",
   "metadata": {},
   "source": [
    "\n",
    "Give the Values of Q1, Q2, Q3"
   ]
  },
  {
   "cell_type": "code",
   "execution_count": 16,
   "id": "85e9af88",
   "metadata": {},
   "outputs": [
    {
     "data": {
      "text/plain": [
       "50.0"
      ]
     },
     "execution_count": 16,
     "metadata": {},
     "output_type": "execute_result"
    }
   ],
   "source": [
    "# 1Q\n",
    "Sale[\"Sales\"].quantile(0.25)\n"
   ]
  },
  {
   "cell_type": "code",
   "execution_count": 17,
   "id": "be887f2d",
   "metadata": {},
   "outputs": [
    {
     "data": {
      "text/plain": [
       "120.0"
      ]
     },
     "execution_count": 17,
     "metadata": {},
     "output_type": "execute_result"
    }
   ],
   "source": [
    "# 2Q\n",
    "Sale['Sales'].quantile(0.50)\n"
   ]
  },
  {
   "cell_type": "code",
   "execution_count": 18,
   "id": "53798ea1",
   "metadata": {},
   "outputs": [
    {
     "data": {
      "text/plain": [
       "322.0"
      ]
     },
     "execution_count": 18,
     "metadata": {},
     "output_type": "execute_result"
    }
   ],
   "source": [
    "# 3Q\n",
    "Sale['Sales'].quantile(0.75)"
   ]
  },
  {
   "cell_type": "code",
   "execution_count": 19,
   "id": "ec80cc27",
   "metadata": {},
   "outputs": [
    {
     "data": {
      "image/png": "[encoded data removed]",
      "text/plain": [
       "<Figure size 432x288 with 1 Axes>"
      ]
     },
     "metadata": {
      "needs_background": "light"
     },
     "output_type": "display_data"
    }
   ],
   "source": [
    "Sale.plot(y=['Sales'], kind='box');"
   ]
  },
  {
   "cell_type": "markdown",
   "id": "4afd59f1",
   "metadata": {},
   "source": [
    "### 13. Show the average sales of each region in Pie Chart\n"
   ]
  },
  {
   "cell_type": "code",
   "execution_count": 20,
   "id": "51c4dfc8",
   "metadata": {},
   "outputs": [
    {
     "data": {
      "text/plain": [
       "Region\n",
       "Central    312.572963\n",
       "North      304.317895\n",
       "South      300.428725\n",
       "Name: Sales, dtype: float64"
      ]
     },
     "execution_count": 20,
     "metadata": {},
     "output_type": "execute_result"
    }
   ],
   "source": [
    "n=Sale.groupby('Region').mean()['Sales']\n",
    "n"
   ]
  },
  {
   "cell_type": "code",
   "execution_count": 21,
   "id": "b14ae8b2",
   "metadata": {},
   "outputs": [
    {
     "data": {
      "text/plain": [
       "<AxesSubplot:ylabel='Sales'>"
      ]
     },
     "execution_count": 21,
     "metadata": {},
     "output_type": "execute_result"
    },
    {
     "data": {
      "image/png": "[encoded data removed]",
      "text/plain": [
       "<Figure size 432x288 with 1 Axes>"
      ]
     },
     "metadata": {},
     "output_type": "display_data"
    }
   ],
   "source": [
    "n.plot(kind='pie',autopct='%1.2f%%')"
   ]
  },
  {
   "cell_type": "markdown",
   "id": "5dc48ac9",
   "metadata": {},
   "source": [
    "### 14. Show the Average sales of each category in Bar Chart\n"
   ]
  },
  {
   "cell_type": "code",
   "execution_count": 22,
   "id": "7126dcf5",
   "metadata": {},
   "outputs": [
    {
     "data": {
      "text/plain": [
       "Category\n",
       "Furniture          528.434015\n",
       "Office Supplies    162.386985\n",
       "Technology         624.720721\n",
       "Name: Sales, dtype: float64"
      ]
     },
     "execution_count": 22,
     "metadata": {},
     "output_type": "execute_result"
    }
   ],
   "source": [
    "n2=Sale.groupby('Category').mean()['Sales']\n",
    "n2"
   ]
  },
  {
   "cell_type": "code",
   "execution_count": 23,
   "id": "d2ed148e",
   "metadata": {},
   "outputs": [
    {
     "data": {
      "text/plain": [
       "Text(0.5, 1.0, 'Average sales of each category')"
      ]
     },
     "execution_count": 23,
     "metadata": {},
     "output_type": "execute_result"
    },
    {
     "data": {
      "image/png": "[encoded data removed]",
      "text/plain": [
       "<Figure size 432x288 with 1 Axes>"
      ]
     },
     "metadata": {
      "needs_background": "light"
     },
     "output_type": "display_data"
    }
   ],
   "source": [
    "n2.plot(kind='bar')\n",
    "plt.title('Average sales of each category', fontdict= {'fontsize':20, 'fontweight':5, 'color':'darkblue'})"
   ]
  },
  {
   "cell_type": "markdown",
   "id": "423e19fd",
   "metadata": {},
   "source": [
    "### 15. Find the maximum sales in each region\n"
   ]
  },
  {
   "cell_type": "code",
   "execution_count": 24,
   "id": "56fe995c",
   "metadata": {},
   "outputs": [
    {
     "data": {
      "text/plain": [
       "Region\n",
       "Central    5729\n",
       "North      5725\n",
       "South      6517\n",
       "Name: Sales, dtype: int64"
      ]
     },
     "execution_count": 24,
     "metadata": {},
     "output_type": "execute_result"
    }
   ],
   "source": [
    "n3=Sale.groupby('Region').max()['Sales']\n",
    "n3"
   ]
  },
  {
   "cell_type": "markdown",
   "id": "57a7f0c9",
   "metadata": {},
   "source": [
    "### 16. Find the minimum sales in each region\n"
   ]
  },
  {
   "cell_type": "code",
   "execution_count": 25,
   "id": "323a236d",
   "metadata": {},
   "outputs": [
    {
     "data": {
      "text/plain": [
       "Region\n",
       "Central    5\n",
       "North      3\n",
       "South      8\n",
       "Name: Sales, dtype: int64"
      ]
     },
     "execution_count": 25,
     "metadata": {},
     "output_type": "execute_result"
    }
   ],
   "source": [
    "n4=Sale.groupby('Region').min()['Sales']\n",
    "n4"
   ]
  },
  {
   "cell_type": "markdown",
   "id": "f252c2a5",
   "metadata": {},
   "source": [
    "### 17. Find average sales in each region\n"
   ]
  },
  {
   "cell_type": "code",
   "execution_count": 26,
   "id": "63c70b72",
   "metadata": {},
   "outputs": [
    {
     "data": {
      "text/plain": [
       "Region\n",
       "Central    312.572963\n",
       "North      304.317895\n",
       "South      300.428725\n",
       "Name: Sales, dtype: float64"
      ]
     },
     "execution_count": 26,
     "metadata": {},
     "output_type": "execute_result"
    }
   ],
   "source": [
    "n5=Sale.groupby('Region').mean()['Sales']\n",
    "n5"
   ]
  },
  {
   "cell_type": "markdown",
   "id": "c8f09809",
   "metadata": {},
   "source": [
    "### 18. Find maximum sales by each category\n"
   ]
  },
  {
   "cell_type": "code",
   "execution_count": 27,
   "id": "191bebfa",
   "metadata": {},
   "outputs": [
    {
     "data": {
      "text/plain": [
       "Category\n",
       "Furniture          5729\n",
       "Office Supplies    6517\n",
       "Technology         5725\n",
       "Name: Sales, dtype: int64"
      ]
     },
     "execution_count": 27,
     "metadata": {},
     "output_type": "execute_result"
    }
   ],
   "source": [
    "n5=Sale.groupby('Category').max()['Sales']\n",
    "n5"
   ]
  },
  {
   "cell_type": "markdown",
   "id": "1a75286d",
   "metadata": {},
   "source": [
    "### 19. Find minimum sales by each category\n"
   ]
  },
  {
   "cell_type": "code",
   "execution_count": 28,
   "id": "e8a4a404",
   "metadata": {},
   "outputs": [
    {
     "data": {
      "text/plain": [
       "Category\n",
       "Furniture          11\n",
       "Office Supplies     3\n",
       "Technology         20\n",
       "Name: Sales, dtype: int64"
      ]
     },
     "execution_count": 28,
     "metadata": {},
     "output_type": "execute_result"
    }
   ],
   "source": [
    "n6=Sale.groupby('Category').min()['Sales']\n",
    "n6"
   ]
  },
  {
   "cell_type": "markdown",
   "id": "88359cb5",
   "metadata": {},
   "source": [
    "### 20. Draw a Histogram using the Sales data"
   ]
  },
  {
   "cell_type": "code",
   "execution_count": 29,
   "id": "26d28469",
   "metadata": {},
   "outputs": [
    {
     "data": {
      "image/png": "[encoded data removed]",
      "text/plain": [
       "<Figure size 432x288 with 1 Axes>"
      ]
     },
     "metadata": {
      "needs_background": "light"
     },
     "output_type": "display_data"
    }
   ],
   "source": [
    "Sale.plot(y='Sales',kind='hist',bins=5);"
   ]
  },
  {
   "cell_type": "markdown",
   "id": "ee184176",
   "metadata": {},
   "source": [
    "# Conclusion\n",
    "\n",
    "This is a Sales by Region\n",
    "\n",
    "The data contains 4117 rows and 8 columns\n",
    "\n",
    "There are no null values in this data.\n",
    "\n",
    "The total sale is 1267690 \n",
    "\n",
    "The total number of units sold is 4117\n",
    " \n",
    "Find category wise sales (furniture)-568595\n",
    "\n",
    "Find region wise sales (South)-280300\n",
    "\n",
    "Find region wise units sold(North)-3506\n",
    "\n",
    "Find customer wise sales(Zara Loton)-1570\n",
    "\n",
    "find customer wise units sold (Aaron Davey)-  22\n",
    "\n",
    "Find total number of orders\n",
    "\n",
    "Find the Q1, Q2 and Q3 of Sales in a Box Plot\n",
    "       Give the Values of Q1, Q2, Q3\n",
    "Q1-50\n",
    "\n",
    "Q2-120\n",
    "\n",
    "Q3-322\n",
    "\n",
    "\n",
    "Show the average sales of each region in Pie Chart (Central )-   312.572963\n",
    "\n",
    "Show the Average sales of each category in Bar Chart (Office Supplies)-    162.386985\n",
    "\n",
    "Find the maximum sales in each region(South)-     6517\n",
    "\n",
    "Find the minimum sales in each region(North)-     3\n",
    "\n",
    "Find average sales in each region(Central)-312.572963\n",
    "\n",
    " \n",
    "\n",
    "\n",
    "\n"
   ]
  },
  {
   "cell_type": "code",
   "execution_count": null,
   "id": "11bfd02e",
   "metadata": {},
   "outputs": [],
   "source": []
  }
 ],
 "metadata": {
  "kernelspec": {
   "display_name": "Python 3 (ipykernel)",
   "language": "python",
   "name": "python3"
  },
  "language_info": {
   "codemirror_mode": {
    "name": "ipython",
    "version": 3
   },
   "file_extension": ".py",
   "mimetype": "text/x-python",
   "name": "python",
   "nbconvert_exporter": "python",
   "pygments_lexer": "ipython3",
   "version": "3.9.12"
  }
 },
 "nbformat": 4,
 "nbformat_minor": 5
}
