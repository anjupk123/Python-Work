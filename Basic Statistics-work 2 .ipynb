{
 "cells": [
  {
   "cell_type": "markdown",
   "id": "a5906c95",
   "metadata": {},
   "source": [
    "# Example 1"
   ]
  },
  {
   "cell_type": "markdown",
   "id": "0e4207be",
   "metadata": {},
   "source": [
    "## Measure of central tendency"
   ]
  },
  {
   "cell_type": "code",
   "execution_count": 2360,
   "id": "226c60e8",
   "metadata": {},
   "outputs": [
    {
     "data": {
      "text/html": [
       "<div>\n",
       "<style scoped>\n",
       "    .dataframe tbody tr th:only-of-type {\n",
       "        vertical-align: middle;\n",
       "    }\n",
       "\n",
       "    .dataframe tbody tr th {\n",
       "        vertical-align: top;\n",
       "    }\n",
       "\n",
       "    .dataframe thead th {\n",
       "        text-align: right;\n",
       "    }\n",
       "</style>\n",
       "<table border=\"1\" class=\"dataframe\">\n",
       "  <thead>\n",
       "    <tr style=\"text-align: right;\">\n",
       "      <th></th>\n",
       "      <th>values</th>\n",
       "    </tr>\n",
       "  </thead>\n",
       "  <tbody>\n",
       "    <tr>\n",
       "      <th>0</th>\n",
       "      <td>1</td>\n",
       "    </tr>\n",
       "    <tr>\n",
       "      <th>1</th>\n",
       "      <td>2</td>\n",
       "    </tr>\n",
       "    <tr>\n",
       "      <th>2</th>\n",
       "      <td>3</td>\n",
       "    </tr>\n",
       "    <tr>\n",
       "      <th>3</th>\n",
       "      <td>1</td>\n",
       "    </tr>\n",
       "    <tr>\n",
       "      <th>4</th>\n",
       "      <td>2</td>\n",
       "    </tr>\n",
       "    <tr>\n",
       "      <th>5</th>\n",
       "      <td>3</td>\n",
       "    </tr>\n",
       "    <tr>\n",
       "      <th>6</th>\n",
       "      <td>4</td>\n",
       "    </tr>\n",
       "    <tr>\n",
       "      <th>7</th>\n",
       "      <td>2</td>\n",
       "    </tr>\n",
       "    <tr>\n",
       "      <th>8</th>\n",
       "      <td>3</td>\n",
       "    </tr>\n",
       "    <tr>\n",
       "      <th>9</th>\n",
       "      <td>5</td>\n",
       "    </tr>\n",
       "    <tr>\n",
       "      <th>10</th>\n",
       "      <td>6</td>\n",
       "    </tr>\n",
       "    <tr>\n",
       "      <th>11</th>\n",
       "      <td>7</td>\n",
       "    </tr>\n",
       "    <tr>\n",
       "      <th>12</th>\n",
       "      <td>8</td>\n",
       "    </tr>\n",
       "    <tr>\n",
       "      <th>13</th>\n",
       "      <td>8</td>\n",
       "    </tr>\n",
       "    <tr>\n",
       "      <th>14</th>\n",
       "      <td>9</td>\n",
       "    </tr>\n",
       "    <tr>\n",
       "      <th>15</th>\n",
       "      <td>8</td>\n",
       "    </tr>\n",
       "  </tbody>\n",
       "</table>\n",
       "</div>"
      ],
      "text/plain": [
       "    values\n",
       "0        1\n",
       "1        2\n",
       "2        3\n",
       "3        1\n",
       "4        2\n",
       "5        3\n",
       "6        4\n",
       "7        2\n",
       "8        3\n",
       "9        5\n",
       "10       6\n",
       "11       7\n",
       "12       8\n",
       "13       8\n",
       "14       9\n",
       "15       8"
      ]
     },
     "execution_count": 2360,
     "metadata": {},
     "output_type": "execute_result"
    }
   ],
   "source": [
    "#created the list into a table format\n",
    "import pandas as pd\n",
    "A=pd.DataFrame(data={'values': [1,2,3,1,2,3,4,2,3,5,6,7,8,8,9,8]})\n",
    "A"
   ]
  },
  {
   "cell_type": "code",
   "execution_count": 2361,
   "id": "2f7b759b",
   "metadata": {},
   "outputs": [
    {
     "data": {
      "text/plain": [
       "values    4.5\n",
       "dtype: float64"
      ]
     },
     "execution_count": 2361,
     "metadata": {},
     "output_type": "execute_result"
    }
   ],
   "source": [
    "#mean using pandas\n",
    "A.mean()\n",
    "\n",
    "# To show answer"
   ]
  },
  {
   "cell_type": "code",
   "execution_count": 2362,
   "id": "c2419ea0",
   "metadata": {},
   "outputs": [
    {
     "data": {
      "text/html": [
       "<div>\n",
       "<style scoped>\n",
       "    .dataframe tbody tr th:only-of-type {\n",
       "        vertical-align: middle;\n",
       "    }\n",
       "\n",
       "    .dataframe tbody tr th {\n",
       "        vertical-align: top;\n",
       "    }\n",
       "\n",
       "    .dataframe thead th {\n",
       "        text-align: right;\n",
       "    }\n",
       "</style>\n",
       "<table border=\"1\" class=\"dataframe\">\n",
       "  <thead>\n",
       "    <tr style=\"text-align: right;\">\n",
       "      <th></th>\n",
       "      <th>values</th>\n",
       "    </tr>\n",
       "  </thead>\n",
       "  <tbody>\n",
       "    <tr>\n",
       "      <th>count</th>\n",
       "      <td>16.000000</td>\n",
       "    </tr>\n",
       "    <tr>\n",
       "      <th>mean</th>\n",
       "      <td>4.500000</td>\n",
       "    </tr>\n",
       "    <tr>\n",
       "      <th>std</th>\n",
       "      <td>2.780887</td>\n",
       "    </tr>\n",
       "    <tr>\n",
       "      <th>min</th>\n",
       "      <td>1.000000</td>\n",
       "    </tr>\n",
       "    <tr>\n",
       "      <th>25%</th>\n",
       "      <td>2.000000</td>\n",
       "    </tr>\n",
       "    <tr>\n",
       "      <th>50%</th>\n",
       "      <td>3.500000</td>\n",
       "    </tr>\n",
       "    <tr>\n",
       "      <th>75%</th>\n",
       "      <td>7.250000</td>\n",
       "    </tr>\n",
       "    <tr>\n",
       "      <th>max</th>\n",
       "      <td>9.000000</td>\n",
       "    </tr>\n",
       "  </tbody>\n",
       "</table>\n",
       "</div>"
      ],
      "text/plain": [
       "          values\n",
       "count  16.000000\n",
       "mean    4.500000\n",
       "std     2.780887\n",
       "min     1.000000\n",
       "25%     2.000000\n",
       "50%     3.500000\n",
       "75%     7.250000\n",
       "max     9.000000"
      ]
     },
     "execution_count": 2362,
     "metadata": {},
     "output_type": "execute_result"
    }
   ],
   "source": [
    "A.describe()"
   ]
  },
  {
   "cell_type": "code",
   "execution_count": 2363,
   "id": "b9c28708",
   "metadata": {},
   "outputs": [
    {
     "data": {
      "text/plain": [
       "4.5"
      ]
     },
     "execution_count": 2363,
     "metadata": {},
     "output_type": "execute_result"
    }
   ],
   "source": [
    "#mean \n",
    "\n",
    "import numpy as np\n",
    "B=[1,2,3,1,2,3,4,2,3,5,6,7,8,8,9,8]\n",
    "\n",
    "#using numpy\n",
    "np.mean(B)"
   ]
  },
  {
   "cell_type": "code",
   "execution_count": 2364,
   "id": "29ff878d",
   "metadata": {},
   "outputs": [
    {
     "name": "stdout",
     "output_type": "stream",
     "text": [
      "mean :  4.5\n"
     ]
    }
   ],
   "source": [
    "print(\"mean : \", np.mean(B))"
   ]
  },
  {
   "cell_type": "code",
   "execution_count": 2365,
   "id": "ead633b1",
   "metadata": {},
   "outputs": [
    {
     "data": {
      "text/plain": [
       "values    3.5\n",
       "dtype: float64"
      ]
     },
     "execution_count": 2365,
     "metadata": {},
     "output_type": "execute_result"
    }
   ],
   "source": [
    "#median\n",
    "#using pandas\n",
    "A.median()"
   ]
  },
  {
   "cell_type": "code",
   "execution_count": 2366,
   "id": "9466f1c5",
   "metadata": {},
   "outputs": [
    {
     "data": {
      "text/html": [
       "<div>\n",
       "<style scoped>\n",
       "    .dataframe tbody tr th:only-of-type {\n",
       "        vertical-align: middle;\n",
       "    }\n",
       "\n",
       "    .dataframe tbody tr th {\n",
       "        vertical-align: top;\n",
       "    }\n",
       "\n",
       "    .dataframe thead th {\n",
       "        text-align: right;\n",
       "    }\n",
       "</style>\n",
       "<table border=\"1\" class=\"dataframe\">\n",
       "  <thead>\n",
       "    <tr style=\"text-align: right;\">\n",
       "      <th></th>\n",
       "      <th>values</th>\n",
       "    </tr>\n",
       "  </thead>\n",
       "  <tbody>\n",
       "    <tr>\n",
       "      <th>count</th>\n",
       "      <td>16.000000</td>\n",
       "    </tr>\n",
       "    <tr>\n",
       "      <th>mean</th>\n",
       "      <td>4.500000</td>\n",
       "    </tr>\n",
       "    <tr>\n",
       "      <th>std</th>\n",
       "      <td>2.780887</td>\n",
       "    </tr>\n",
       "    <tr>\n",
       "      <th>min</th>\n",
       "      <td>1.000000</td>\n",
       "    </tr>\n",
       "    <tr>\n",
       "      <th>25%</th>\n",
       "      <td>2.000000</td>\n",
       "    </tr>\n",
       "    <tr>\n",
       "      <th>50%</th>\n",
       "      <td>3.500000</td>\n",
       "    </tr>\n",
       "    <tr>\n",
       "      <th>75%</th>\n",
       "      <td>7.250000</td>\n",
       "    </tr>\n",
       "    <tr>\n",
       "      <th>max</th>\n",
       "      <td>9.000000</td>\n",
       "    </tr>\n",
       "  </tbody>\n",
       "</table>\n",
       "</div>"
      ],
      "text/plain": [
       "          values\n",
       "count  16.000000\n",
       "mean    4.500000\n",
       "std     2.780887\n",
       "min     1.000000\n",
       "25%     2.000000\n",
       "50%     3.500000\n",
       "75%     7.250000\n",
       "max     9.000000"
      ]
     },
     "execution_count": 2366,
     "metadata": {},
     "output_type": "execute_result"
    }
   ],
   "source": [
    "A.describe()"
   ]
  },
  {
   "cell_type": "code",
   "execution_count": 2367,
   "id": "53cad449",
   "metadata": {},
   "outputs": [
    {
     "data": {
      "text/plain": [
       "3.5"
      ]
     },
     "execution_count": 2367,
     "metadata": {},
     "output_type": "execute_result"
    }
   ],
   "source": [
    "#median\n",
    "B=[1,2,3,1,2,3,4,2,3,5,6,7,8,8,9,8]\n",
    "\n",
    "#using numpy\n",
    "np.median(B)"
   ]
  },
  {
   "cell_type": "code",
   "execution_count": 2368,
   "id": "7bf05200",
   "metadata": {},
   "outputs": [
    {
     "name": "stdout",
     "output_type": "stream",
     "text": [
      "median :  3.5\n"
     ]
    }
   ],
   "source": [
    "print(\"median : \", np.median(B))"
   ]
  },
  {
   "cell_type": "code",
   "execution_count": 2369,
   "id": "b4af5ae6",
   "metadata": {},
   "outputs": [
    {
     "data": {
      "text/html": [
       "<div>\n",
       "<style scoped>\n",
       "    .dataframe tbody tr th:only-of-type {\n",
       "        vertical-align: middle;\n",
       "    }\n",
       "\n",
       "    .dataframe tbody tr th {\n",
       "        vertical-align: top;\n",
       "    }\n",
       "\n",
       "    .dataframe thead th {\n",
       "        text-align: right;\n",
       "    }\n",
       "</style>\n",
       "<table border=\"1\" class=\"dataframe\">\n",
       "  <thead>\n",
       "    <tr style=\"text-align: right;\">\n",
       "      <th></th>\n",
       "      <th>values</th>\n",
       "    </tr>\n",
       "  </thead>\n",
       "  <tbody>\n",
       "    <tr>\n",
       "      <th>0</th>\n",
       "      <td>2</td>\n",
       "    </tr>\n",
       "    <tr>\n",
       "      <th>1</th>\n",
       "      <td>3</td>\n",
       "    </tr>\n",
       "    <tr>\n",
       "      <th>2</th>\n",
       "      <td>8</td>\n",
       "    </tr>\n",
       "  </tbody>\n",
       "</table>\n",
       "</div>"
      ],
      "text/plain": [
       "   values\n",
       "0       2\n",
       "1       3\n",
       "2       8"
      ]
     },
     "execution_count": 2369,
     "metadata": {},
     "output_type": "execute_result"
    }
   ],
   "source": [
    "#using pandas\n",
    "A.mode()  "
   ]
  },
  {
   "cell_type": "code",
   "execution_count": 2370,
   "id": "1e067c12",
   "metadata": {},
   "outputs": [],
   "source": [
    "#mode\n",
    "#numpy does not has an attribute mode"
   ]
  },
  {
   "cell_type": "code",
   "execution_count": 2371,
   "id": "840136c5",
   "metadata": {},
   "outputs": [],
   "source": [
    "#descriptive statistics\n",
    "#measure of dispersion\n",
    "#variance and std deviation"
   ]
  },
  {
   "cell_type": "markdown",
   "id": "2ba8d30e",
   "metadata": {},
   "source": [
    "## Measure of Dispersion"
   ]
  },
  {
   "cell_type": "markdown",
   "id": "616c3bfe",
   "metadata": {},
   "source": [
    "### Variance"
   ]
  },
  {
   "cell_type": "code",
   "execution_count": 2372,
   "id": "d81379ad",
   "metadata": {},
   "outputs": [
    {
     "data": {
      "text/plain": [
       "values    7.733333\n",
       "dtype: float64"
      ]
     },
     "execution_count": 2372,
     "metadata": {},
     "output_type": "execute_result"
    }
   ],
   "source": [
    "#variance\n",
    "A.var()"
   ]
  },
  {
   "cell_type": "code",
   "execution_count": 2373,
   "id": "e2bb2ec3",
   "metadata": {},
   "outputs": [
    {
     "data": {
      "text/plain": [
       "7.25"
      ]
     },
     "execution_count": 2373,
     "metadata": {},
     "output_type": "execute_result"
    }
   ],
   "source": [
    "#variance\n",
    "B=[1,2,3,1,2,3,4,2,3,5,6,7,8,8,9,8]\n",
    "\n",
    "#using numpy\n",
    "np.var(B)\n",
    "     "
   ]
  },
  {
   "cell_type": "code",
   "execution_count": 2374,
   "id": "2224fda4",
   "metadata": {},
   "outputs": [
    {
     "name": "stdout",
     "output_type": "stream",
     "text": [
      "Variance :  7.25\n"
     ]
    }
   ],
   "source": [
    "print(\"Variance : \", np.var(B))"
   ]
  },
  {
   "cell_type": "markdown",
   "id": "c6d3b074",
   "metadata": {},
   "source": [
    "## Standard deviation"
   ]
  },
  {
   "cell_type": "code",
   "execution_count": 2375,
   "id": "c2616d9b",
   "metadata": {},
   "outputs": [
    {
     "data": {
      "text/plain": [
       "values    2.780887\n",
       "dtype: float64"
      ]
     },
     "execution_count": 2375,
     "metadata": {},
     "output_type": "execute_result"
    }
   ],
   "source": [
    "#using pandas\n",
    "A.std()"
   ]
  },
  {
   "cell_type": "code",
   "execution_count": 2376,
   "id": "ae684d9f",
   "metadata": {},
   "outputs": [
    {
     "data": {
      "text/plain": [
       "2.692582403567252"
      ]
     },
     "execution_count": 2376,
     "metadata": {},
     "output_type": "execute_result"
    }
   ],
   "source": [
    "\n",
    "#standard deviation\n",
    "B=[1,2,3,1,2,3,4,2,3,5,6,7,8,8,9,8]\n",
    "\n",
    "#using numpy\n",
    "np.std(B)"
   ]
  },
  {
   "cell_type": "code",
   "execution_count": 2377,
   "id": "a026b0fc",
   "metadata": {},
   "outputs": [
    {
     "name": "stdout",
     "output_type": "stream",
     "text": [
      "Variance :  2.692582403567252\n"
     ]
    }
   ],
   "source": [
    "\n",
    "print(\"Variance : \", np.std(B))"
   ]
  },
  {
   "cell_type": "markdown",
   "id": "5f197f7a",
   "metadata": {},
   "source": [
    "# 5 number Summary\n",
    "\n",
    "\n",
    "Minimum\n",
    "\n",
    "\n",
    "1st quartile -Q1\n",
    "\n",
    "\n",
    "2nd quartile -Q2(Median)\n",
    "\n",
    "\n",
    "\n",
    "3rd quartile -Q3\n",
    "\n",
    "\n",
    "Maximum\n"
   ]
  },
  {
   "cell_type": "markdown",
   "id": "981ba152",
   "metadata": {},
   "source": [
    "### Minimum"
   ]
  },
  {
   "cell_type": "code",
   "execution_count": 2378,
   "id": "9ef50ffe",
   "metadata": {},
   "outputs": [
    {
     "data": {
      "text/plain": [
       "values    1\n",
       "dtype: int64"
      ]
     },
     "execution_count": 2378,
     "metadata": {},
     "output_type": "execute_result"
    }
   ],
   "source": [
    "#Minimum using pandas\n",
    "\n",
    "A.min() \n"
   ]
  },
  {
   "cell_type": "code",
   "execution_count": 2379,
   "id": "939f7954",
   "metadata": {},
   "outputs": [
    {
     "data": {
      "text/plain": [
       "1"
      ]
     },
     "execution_count": 2379,
     "metadata": {},
     "output_type": "execute_result"
    }
   ],
   "source": [
    "\n",
    "#Minimum\n",
    "B=[1,2,3,1,2,3,4,5,2,6,7,5,4,8,10]\n",
    "\n",
    "#using numpy\n",
    "np.min(B)"
   ]
  },
  {
   "cell_type": "code",
   "execution_count": 2380,
   "id": "c5b3a84d",
   "metadata": {},
   "outputs": [
    {
     "name": "stdout",
     "output_type": "stream",
     "text": [
      "Minimum :  1\n"
     ]
    }
   ],
   "source": [
    "\n",
    "print(\"Minimum : \", np.min(B))"
   ]
  },
  {
   "cell_type": "markdown",
   "id": "e23bcfca",
   "metadata": {},
   "source": [
    "## Quartiles"
   ]
  },
  {
   "cell_type": "code",
   "execution_count": 2381,
   "id": "73ef1dbc",
   "metadata": {},
   "outputs": [
    {
     "data": {
      "text/html": [
       "<div>\n",
       "<style scoped>\n",
       "    .dataframe tbody tr th:only-of-type {\n",
       "        vertical-align: middle;\n",
       "    }\n",
       "\n",
       "    .dataframe tbody tr th {\n",
       "        vertical-align: top;\n",
       "    }\n",
       "\n",
       "    .dataframe thead th {\n",
       "        text-align: right;\n",
       "    }\n",
       "</style>\n",
       "<table border=\"1\" class=\"dataframe\">\n",
       "  <thead>\n",
       "    <tr style=\"text-align: right;\">\n",
       "      <th></th>\n",
       "      <th>values</th>\n",
       "    </tr>\n",
       "  </thead>\n",
       "  <tbody>\n",
       "    <tr>\n",
       "      <th>0.25</th>\n",
       "      <td>2.00</td>\n",
       "    </tr>\n",
       "    <tr>\n",
       "      <th>0.50</th>\n",
       "      <td>3.50</td>\n",
       "    </tr>\n",
       "    <tr>\n",
       "      <th>0.75</th>\n",
       "      <td>7.25</td>\n",
       "    </tr>\n",
       "  </tbody>\n",
       "</table>\n",
       "</div>"
      ],
      "text/plain": [
       "      values\n",
       "0.25    2.00\n",
       "0.50    3.50\n",
       "0.75    7.25"
      ]
     },
     "execution_count": 2381,
     "metadata": {},
     "output_type": "execute_result"
    }
   ],
   "source": [
    "#using pandas\n",
    "A.quantile([0.25,0.50,0.75]) "
   ]
  },
  {
   "cell_type": "code",
   "execution_count": 2382,
   "id": "38021acb",
   "metadata": {},
   "outputs": [
    {
     "data": {
      "text/html": [
       "<div>\n",
       "<style scoped>\n",
       "    .dataframe tbody tr th:only-of-type {\n",
       "        vertical-align: middle;\n",
       "    }\n",
       "\n",
       "    .dataframe tbody tr th {\n",
       "        vertical-align: top;\n",
       "    }\n",
       "\n",
       "    .dataframe thead th {\n",
       "        text-align: right;\n",
       "    }\n",
       "</style>\n",
       "<table border=\"1\" class=\"dataframe\">\n",
       "  <thead>\n",
       "    <tr style=\"text-align: right;\">\n",
       "      <th></th>\n",
       "      <th>values</th>\n",
       "    </tr>\n",
       "  </thead>\n",
       "  <tbody>\n",
       "    <tr>\n",
       "      <th>count</th>\n",
       "      <td>16.000000</td>\n",
       "    </tr>\n",
       "    <tr>\n",
       "      <th>mean</th>\n",
       "      <td>4.500000</td>\n",
       "    </tr>\n",
       "    <tr>\n",
       "      <th>std</th>\n",
       "      <td>2.780887</td>\n",
       "    </tr>\n",
       "    <tr>\n",
       "      <th>min</th>\n",
       "      <td>1.000000</td>\n",
       "    </tr>\n",
       "    <tr>\n",
       "      <th>25%</th>\n",
       "      <td>2.000000</td>\n",
       "    </tr>\n",
       "    <tr>\n",
       "      <th>50%</th>\n",
       "      <td>3.500000</td>\n",
       "    </tr>\n",
       "    <tr>\n",
       "      <th>75%</th>\n",
       "      <td>7.250000</td>\n",
       "    </tr>\n",
       "    <tr>\n",
       "      <th>max</th>\n",
       "      <td>9.000000</td>\n",
       "    </tr>\n",
       "  </tbody>\n",
       "</table>\n",
       "</div>"
      ],
      "text/plain": [
       "          values\n",
       "count  16.000000\n",
       "mean    4.500000\n",
       "std     2.780887\n",
       "min     1.000000\n",
       "25%     2.000000\n",
       "50%     3.500000\n",
       "75%     7.250000\n",
       "max     9.000000"
      ]
     },
     "execution_count": 2382,
     "metadata": {},
     "output_type": "execute_result"
    }
   ],
   "source": [
    "\n",
    "A.describe()"
   ]
  },
  {
   "cell_type": "code",
   "execution_count": 2383,
   "id": "2facb3e6",
   "metadata": {},
   "outputs": [
    {
     "data": {
      "text/plain": [
       "array([2.  , 3.5 , 7.25])"
      ]
     },
     "execution_count": 2383,
     "metadata": {},
     "output_type": "execute_result"
    }
   ],
   "source": [
    "\n",
    "#quartiles\n",
    "B=[1,2,3,1,2,3,4,2,3,5,6,7,8,8,9,8]\n",
    "\n",
    "#using numpy\n",
    "np.quantile(B,[0.25,0.50,0.75])"
   ]
  },
  {
   "cell_type": "code",
   "execution_count": 2384,
   "id": "b538bb8f",
   "metadata": {},
   "outputs": [
    {
     "name": "stdout",
     "output_type": "stream",
     "text": [
      "Q1 :  2.0 Q2 :  3.5 Q3 :  7.25\n"
     ]
    }
   ],
   "source": [
    "\n",
    "print(\"Q1 : \", np.quantile(B,0.25),\n",
    "      \"Q2 : \", np.quantile(B,0.50),\n",
    "      \"Q3 : \", np.quantile(B,0.75))"
   ]
  },
  {
   "cell_type": "markdown",
   "id": "f622ff8a",
   "metadata": {},
   "source": [
    "## Maximum"
   ]
  },
  {
   "cell_type": "code",
   "execution_count": 2385,
   "id": "b9f84b78",
   "metadata": {},
   "outputs": [
    {
     "data": {
      "text/plain": [
       "values    9\n",
       "dtype: int64"
      ]
     },
     "execution_count": 2385,
     "metadata": {},
     "output_type": "execute_result"
    }
   ],
   "source": [
    "\n",
    "#using pandas\n",
    "A.max()  "
   ]
  },
  {
   "cell_type": "code",
   "execution_count": 2386,
   "id": "22c718f0",
   "metadata": {},
   "outputs": [
    {
     "data": {
      "text/plain": [
       "9"
      ]
     },
     "execution_count": 2386,
     "metadata": {},
     "output_type": "execute_result"
    }
   ],
   "source": [
    "#Maximum\n",
    "B=[1,2,3,1,2,3,4,2,3,5,6,7,8,8,9,8]\n",
    "\n",
    "#using numpy\n",
    "np.max(B)"
   ]
  },
  {
   "cell_type": "code",
   "execution_count": 2387,
   "id": "37844fa2",
   "metadata": {},
   "outputs": [
    {
     "name": "stdout",
     "output_type": "stream",
     "text": [
      "Maximum :  9\n"
     ]
    }
   ],
   "source": [
    "print(\"Maximum : \", np.max(B))"
   ]
  },
  {
   "cell_type": "markdown",
   "id": "426bc10b",
   "metadata": {},
   "source": [
    "## Range"
   ]
  },
  {
   "cell_type": "code",
   "execution_count": 2388,
   "id": "15833402",
   "metadata": {},
   "outputs": [
    {
     "data": {
      "text/plain": [
       "values    8\n",
       "dtype: int64"
      ]
     },
     "execution_count": 2388,
     "metadata": {},
     "output_type": "execute_result"
    }
   ],
   "source": [
    "#using pandas\n",
    "Range = A.max()-A.min()\n",
    "Range\n",
    "     "
   ]
  },
  {
   "cell_type": "code",
   "execution_count": 2389,
   "id": "84604a9c",
   "metadata": {},
   "outputs": [
    {
     "data": {
      "text/plain": [
       "8"
      ]
     },
     "execution_count": 2389,
     "metadata": {},
     "output_type": "execute_result"
    }
   ],
   "source": [
    "\n",
    "#Range\n",
    "#using numpy\n",
    "\n",
    "Ran=np.max(B) - np.min(B)\n",
    "Ran"
   ]
  },
  {
   "cell_type": "markdown",
   "id": "23d63cad",
   "metadata": {},
   "source": [
    "## IQR"
   ]
  },
  {
   "cell_type": "code",
   "execution_count": 2390,
   "id": "ca336946",
   "metadata": {},
   "outputs": [
    {
     "data": {
      "text/plain": [
       "values    5.25\n",
       "dtype: float64"
      ]
     },
     "execution_count": 2390,
     "metadata": {},
     "output_type": "execute_result"
    }
   ],
   "source": [
    "#using pandas\n",
    "iqr=A.quantile(0.75)-A.quantile(0.25)\n",
    "iqr"
   ]
  },
  {
   "cell_type": "code",
   "execution_count": 2391,
   "id": "9aa6fae3",
   "metadata": {},
   "outputs": [
    {
     "data": {
      "text/plain": [
       "5.25"
      ]
     },
     "execution_count": 2391,
     "metadata": {},
     "output_type": "execute_result"
    }
   ],
   "source": [
    "\n",
    "#IQR\n",
    "#using numpy\n",
    "IQR = np.quantile(B,0.75)-np.quantile(B,0.25)\n",
    "IQR"
   ]
  },
  {
   "cell_type": "markdown",
   "id": "533197b2",
   "metadata": {},
   "source": [
    "## QD"
   ]
  },
  {
   "cell_type": "code",
   "execution_count": 2392,
   "id": "a1daeb7a",
   "metadata": {},
   "outputs": [
    {
     "data": {
      "text/plain": [
       "values    2.625\n",
       "dtype: float64"
      ]
     },
     "execution_count": 2392,
     "metadata": {},
     "output_type": "execute_result"
    }
   ],
   "source": [
    "#QD\n",
    "#using pandas\n",
    "qd =iqr/2\n",
    "qd"
   ]
  },
  {
   "cell_type": "code",
   "execution_count": 2393,
   "id": "20f30888",
   "metadata": {},
   "outputs": [
    {
     "data": {
      "text/plain": [
       "2.625"
      ]
     },
     "execution_count": 2393,
     "metadata": {},
     "output_type": "execute_result"
    }
   ],
   "source": [
    "\n",
    "#QD\n",
    "#using numpy\n",
    "QD = IQR/2\n",
    "QD\n"
   ]
  },
  {
   "cell_type": "markdown",
   "id": "62b61464",
   "metadata": {},
   "source": [
    "# Example 2"
   ]
  },
  {
   "cell_type": "markdown",
   "id": "3ce76955",
   "metadata": {},
   "source": [
    "## Measure of central tendency"
   ]
  },
  {
   "cell_type": "code",
   "execution_count": 2394,
   "id": "0e4ac4fb",
   "metadata": {},
   "outputs": [
    {
     "data": {
      "text/html": [
       "<div>\n",
       "<style scoped>\n",
       "    .dataframe tbody tr th:only-of-type {\n",
       "        vertical-align: middle;\n",
       "    }\n",
       "\n",
       "    .dataframe tbody tr th {\n",
       "        vertical-align: top;\n",
       "    }\n",
       "\n",
       "    .dataframe thead th {\n",
       "        text-align: right;\n",
       "    }\n",
       "</style>\n",
       "<table border=\"1\" class=\"dataframe\">\n",
       "  <thead>\n",
       "    <tr style=\"text-align: right;\">\n",
       "      <th></th>\n",
       "      <th>values</th>\n",
       "    </tr>\n",
       "  </thead>\n",
       "  <tbody>\n",
       "    <tr>\n",
       "      <th>0</th>\n",
       "      <td>1</td>\n",
       "    </tr>\n",
       "    <tr>\n",
       "      <th>1</th>\n",
       "      <td>2</td>\n",
       "    </tr>\n",
       "    <tr>\n",
       "      <th>2</th>\n",
       "      <td>3</td>\n",
       "    </tr>\n",
       "    <tr>\n",
       "      <th>3</th>\n",
       "      <td>1</td>\n",
       "    </tr>\n",
       "    <tr>\n",
       "      <th>4</th>\n",
       "      <td>2</td>\n",
       "    </tr>\n",
       "    <tr>\n",
       "      <th>5</th>\n",
       "      <td>3</td>\n",
       "    </tr>\n",
       "    <tr>\n",
       "      <th>6</th>\n",
       "      <td>4</td>\n",
       "    </tr>\n",
       "    <tr>\n",
       "      <th>7</th>\n",
       "      <td>2</td>\n",
       "    </tr>\n",
       "    <tr>\n",
       "      <th>8</th>\n",
       "      <td>3</td>\n",
       "    </tr>\n",
       "    <tr>\n",
       "      <th>9</th>\n",
       "      <td>5</td>\n",
       "    </tr>\n",
       "    <tr>\n",
       "      <th>10</th>\n",
       "      <td>6</td>\n",
       "    </tr>\n",
       "    <tr>\n",
       "      <th>11</th>\n",
       "      <td>7</td>\n",
       "    </tr>\n",
       "    <tr>\n",
       "      <th>12</th>\n",
       "      <td>8</td>\n",
       "    </tr>\n",
       "    <tr>\n",
       "      <th>13</th>\n",
       "      <td>8</td>\n",
       "    </tr>\n",
       "    <tr>\n",
       "      <th>14</th>\n",
       "      <td>9</td>\n",
       "    </tr>\n",
       "    <tr>\n",
       "      <th>15</th>\n",
       "      <td>8</td>\n",
       "    </tr>\n",
       "    <tr>\n",
       "      <th>16</th>\n",
       "      <td>9</td>\n",
       "    </tr>\n",
       "    <tr>\n",
       "      <th>17</th>\n",
       "      <td>10</td>\n",
       "    </tr>\n",
       "  </tbody>\n",
       "</table>\n",
       "</div>"
      ],
      "text/plain": [
       "    values\n",
       "0        1\n",
       "1        2\n",
       "2        3\n",
       "3        1\n",
       "4        2\n",
       "5        3\n",
       "6        4\n",
       "7        2\n",
       "8        3\n",
       "9        5\n",
       "10       6\n",
       "11       7\n",
       "12       8\n",
       "13       8\n",
       "14       9\n",
       "15       8\n",
       "16       9\n",
       "17      10"
      ]
     },
     "execution_count": 2394,
     "metadata": {},
     "output_type": "execute_result"
    }
   ],
   "source": [
    "#created the list into a table format\n",
    "import pandas as pd\n",
    "A=pd.DataFrame(data={'values': [1,2,3,1,2,3,4,2,3,5,6,7,8,8,9,8,9,10]})\n",
    "A"
   ]
  },
  {
   "cell_type": "code",
   "execution_count": 2395,
   "id": "02baafb4",
   "metadata": {},
   "outputs": [
    {
     "data": {
      "text/plain": [
       "values    5.055556\n",
       "dtype: float64"
      ]
     },
     "execution_count": 2395,
     "metadata": {},
     "output_type": "execute_result"
    }
   ],
   "source": [
    "#mean using pandas\n",
    "A.mean()\n",
    "\n",
    "# To show answer"
   ]
  },
  {
   "cell_type": "code",
   "execution_count": 2396,
   "id": "2dce8e7b",
   "metadata": {},
   "outputs": [
    {
     "data": {
      "text/html": [
       "<div>\n",
       "<style scoped>\n",
       "    .dataframe tbody tr th:only-of-type {\n",
       "        vertical-align: middle;\n",
       "    }\n",
       "\n",
       "    .dataframe tbody tr th {\n",
       "        vertical-align: top;\n",
       "    }\n",
       "\n",
       "    .dataframe thead th {\n",
       "        text-align: right;\n",
       "    }\n",
       "</style>\n",
       "<table border=\"1\" class=\"dataframe\">\n",
       "  <thead>\n",
       "    <tr style=\"text-align: right;\">\n",
       "      <th></th>\n",
       "      <th>values</th>\n",
       "    </tr>\n",
       "  </thead>\n",
       "  <tbody>\n",
       "    <tr>\n",
       "      <th>count</th>\n",
       "      <td>18.000000</td>\n",
       "    </tr>\n",
       "    <tr>\n",
       "      <th>mean</th>\n",
       "      <td>5.055556</td>\n",
       "    </tr>\n",
       "    <tr>\n",
       "      <th>std</th>\n",
       "      <td>3.076901</td>\n",
       "    </tr>\n",
       "    <tr>\n",
       "      <th>min</th>\n",
       "      <td>1.000000</td>\n",
       "    </tr>\n",
       "    <tr>\n",
       "      <th>25%</th>\n",
       "      <td>2.250000</td>\n",
       "    </tr>\n",
       "    <tr>\n",
       "      <th>50%</th>\n",
       "      <td>4.500000</td>\n",
       "    </tr>\n",
       "    <tr>\n",
       "      <th>75%</th>\n",
       "      <td>8.000000</td>\n",
       "    </tr>\n",
       "    <tr>\n",
       "      <th>max</th>\n",
       "      <td>10.000000</td>\n",
       "    </tr>\n",
       "  </tbody>\n",
       "</table>\n",
       "</div>"
      ],
      "text/plain": [
       "          values\n",
       "count  18.000000\n",
       "mean    5.055556\n",
       "std     3.076901\n",
       "min     1.000000\n",
       "25%     2.250000\n",
       "50%     4.500000\n",
       "75%     8.000000\n",
       "max    10.000000"
      ]
     },
     "execution_count": 2396,
     "metadata": {},
     "output_type": "execute_result"
    }
   ],
   "source": [
    "A.describe()"
   ]
  },
  {
   "cell_type": "code",
   "execution_count": 2397,
   "id": "60b2b235",
   "metadata": {},
   "outputs": [
    {
     "data": {
      "text/plain": [
       "5.055555555555555"
      ]
     },
     "execution_count": 2397,
     "metadata": {},
     "output_type": "execute_result"
    }
   ],
   "source": [
    "#mean \n",
    "\n",
    "import numpy as np\n",
    "B=[1,2,3,1,2,3,4,2,3,5,6,7,8,8,9,8,9,10]\n",
    "\n",
    "#using numpy\n",
    "np.mean(B)"
   ]
  },
  {
   "cell_type": "code",
   "execution_count": 2398,
   "id": "2a5d434b",
   "metadata": {},
   "outputs": [
    {
     "name": "stdout",
     "output_type": "stream",
     "text": [
      "mean :  5.055555555555555\n"
     ]
    }
   ],
   "source": [
    "print(\"mean : \", np.mean(B))"
   ]
  },
  {
   "cell_type": "code",
   "execution_count": 2399,
   "id": "5bac1389",
   "metadata": {},
   "outputs": [
    {
     "data": {
      "text/plain": [
       "values    4.5\n",
       "dtype: float64"
      ]
     },
     "execution_count": 2399,
     "metadata": {},
     "output_type": "execute_result"
    }
   ],
   "source": [
    "#median\n",
    "#using pandas\n",
    "A.median()"
   ]
  },
  {
   "cell_type": "code",
   "execution_count": 2400,
   "id": "18d0c367",
   "metadata": {},
   "outputs": [
    {
     "data": {
      "text/html": [
       "<div>\n",
       "<style scoped>\n",
       "    .dataframe tbody tr th:only-of-type {\n",
       "        vertical-align: middle;\n",
       "    }\n",
       "\n",
       "    .dataframe tbody tr th {\n",
       "        vertical-align: top;\n",
       "    }\n",
       "\n",
       "    .dataframe thead th {\n",
       "        text-align: right;\n",
       "    }\n",
       "</style>\n",
       "<table border=\"1\" class=\"dataframe\">\n",
       "  <thead>\n",
       "    <tr style=\"text-align: right;\">\n",
       "      <th></th>\n",
       "      <th>values</th>\n",
       "    </tr>\n",
       "  </thead>\n",
       "  <tbody>\n",
       "    <tr>\n",
       "      <th>count</th>\n",
       "      <td>18.000000</td>\n",
       "    </tr>\n",
       "    <tr>\n",
       "      <th>mean</th>\n",
       "      <td>5.055556</td>\n",
       "    </tr>\n",
       "    <tr>\n",
       "      <th>std</th>\n",
       "      <td>3.076901</td>\n",
       "    </tr>\n",
       "    <tr>\n",
       "      <th>min</th>\n",
       "      <td>1.000000</td>\n",
       "    </tr>\n",
       "    <tr>\n",
       "      <th>25%</th>\n",
       "      <td>2.250000</td>\n",
       "    </tr>\n",
       "    <tr>\n",
       "      <th>50%</th>\n",
       "      <td>4.500000</td>\n",
       "    </tr>\n",
       "    <tr>\n",
       "      <th>75%</th>\n",
       "      <td>8.000000</td>\n",
       "    </tr>\n",
       "    <tr>\n",
       "      <th>max</th>\n",
       "      <td>10.000000</td>\n",
       "    </tr>\n",
       "  </tbody>\n",
       "</table>\n",
       "</div>"
      ],
      "text/plain": [
       "          values\n",
       "count  18.000000\n",
       "mean    5.055556\n",
       "std     3.076901\n",
       "min     1.000000\n",
       "25%     2.250000\n",
       "50%     4.500000\n",
       "75%     8.000000\n",
       "max    10.000000"
      ]
     },
     "execution_count": 2400,
     "metadata": {},
     "output_type": "execute_result"
    }
   ],
   "source": [
    "A.describe()"
   ]
  },
  {
   "cell_type": "code",
   "execution_count": 2401,
   "id": "bbfb0d60",
   "metadata": {},
   "outputs": [
    {
     "data": {
      "text/plain": [
       "4.5"
      ]
     },
     "execution_count": 2401,
     "metadata": {},
     "output_type": "execute_result"
    }
   ],
   "source": [
    "#median\n",
    "B=[1,2,3,1,2,3,4,2,3,5,6,7,8,8,9,8,9,10]\n",
    "\n",
    "#using numpy\n",
    "np.median(B)"
   ]
  },
  {
   "cell_type": "code",
   "execution_count": 2402,
   "id": "c72cb717",
   "metadata": {},
   "outputs": [
    {
     "name": "stdout",
     "output_type": "stream",
     "text": [
      "median :  4.5\n"
     ]
    }
   ],
   "source": [
    "print(\"median : \", np.median(B))"
   ]
  },
  {
   "cell_type": "code",
   "execution_count": 2403,
   "id": "39bc6b1f",
   "metadata": {},
   "outputs": [
    {
     "data": {
      "text/html": [
       "<div>\n",
       "<style scoped>\n",
       "    .dataframe tbody tr th:only-of-type {\n",
       "        vertical-align: middle;\n",
       "    }\n",
       "\n",
       "    .dataframe tbody tr th {\n",
       "        vertical-align: top;\n",
       "    }\n",
       "\n",
       "    .dataframe thead th {\n",
       "        text-align: right;\n",
       "    }\n",
       "</style>\n",
       "<table border=\"1\" class=\"dataframe\">\n",
       "  <thead>\n",
       "    <tr style=\"text-align: right;\">\n",
       "      <th></th>\n",
       "      <th>values</th>\n",
       "    </tr>\n",
       "  </thead>\n",
       "  <tbody>\n",
       "    <tr>\n",
       "      <th>0</th>\n",
       "      <td>2</td>\n",
       "    </tr>\n",
       "    <tr>\n",
       "      <th>1</th>\n",
       "      <td>3</td>\n",
       "    </tr>\n",
       "    <tr>\n",
       "      <th>2</th>\n",
       "      <td>8</td>\n",
       "    </tr>\n",
       "  </tbody>\n",
       "</table>\n",
       "</div>"
      ],
      "text/plain": [
       "   values\n",
       "0       2\n",
       "1       3\n",
       "2       8"
      ]
     },
     "execution_count": 2403,
     "metadata": {},
     "output_type": "execute_result"
    }
   ],
   "source": [
    "#using pandas\n",
    "A.mode()  "
   ]
  },
  {
   "cell_type": "code",
   "execution_count": 2404,
   "id": "3028724f",
   "metadata": {},
   "outputs": [],
   "source": [
    "#mode\n",
    "#numpy does not has an attribute mode"
   ]
  },
  {
   "cell_type": "code",
   "execution_count": 2405,
   "id": "bab9e407",
   "metadata": {},
   "outputs": [],
   "source": [
    "#descriptive statistics\n",
    "#measure of dispersion\n",
    "#variance and std deviation"
   ]
  },
  {
   "cell_type": "markdown",
   "id": "24614a01",
   "metadata": {},
   "source": [
    "## Measure of Dispersion"
   ]
  },
  {
   "cell_type": "markdown",
   "id": "a9120569",
   "metadata": {},
   "source": [
    "### Variance"
   ]
  },
  {
   "cell_type": "code",
   "execution_count": 2406,
   "id": "ff58277a",
   "metadata": {},
   "outputs": [
    {
     "data": {
      "text/plain": [
       "values    9.46732\n",
       "dtype: float64"
      ]
     },
     "execution_count": 2406,
     "metadata": {},
     "output_type": "execute_result"
    }
   ],
   "source": [
    "#variance\n",
    "A.var()"
   ]
  },
  {
   "cell_type": "code",
   "execution_count": 2407,
   "id": "b202253b",
   "metadata": {},
   "outputs": [],
   "source": [
    "#variance"
   ]
  },
  {
   "cell_type": "code",
   "execution_count": 2408,
   "id": "0f2e3294",
   "metadata": {},
   "outputs": [
    {
     "data": {
      "text/plain": [
       "8.94135802469136"
      ]
     },
     "execution_count": 2408,
     "metadata": {},
     "output_type": "execute_result"
    }
   ],
   "source": [
    "B=[1,2,3,1,2,3,4,2,3,5,6,7,8,8,9,8,9,10]\n",
    "\n",
    "#using numpy\n",
    "np.var(B)\n",
    "     "
   ]
  },
  {
   "cell_type": "code",
   "execution_count": 2409,
   "id": "49fa23bc",
   "metadata": {},
   "outputs": [
    {
     "name": "stdout",
     "output_type": "stream",
     "text": [
      "Variance :  8.94135802469136\n"
     ]
    }
   ],
   "source": [
    "print(\"Variance : \", np.var(B))"
   ]
  },
  {
   "cell_type": "markdown",
   "id": "1e655c17",
   "metadata": {},
   "source": [
    "## Standard deviation"
   ]
  },
  {
   "cell_type": "code",
   "execution_count": 2410,
   "id": "d754ba11",
   "metadata": {},
   "outputs": [
    {
     "data": {
      "text/plain": [
       "values    3.076901\n",
       "dtype: float64"
      ]
     },
     "execution_count": 2410,
     "metadata": {},
     "output_type": "execute_result"
    }
   ],
   "source": [
    "#using pandas\n",
    "A.std()"
   ]
  },
  {
   "cell_type": "code",
   "execution_count": 2411,
   "id": "81cb569c",
   "metadata": {},
   "outputs": [
    {
     "data": {
      "text/plain": [
       "2.9902103646217535"
      ]
     },
     "execution_count": 2411,
     "metadata": {},
     "output_type": "execute_result"
    }
   ],
   "source": [
    "\n",
    "#standard deviation\n",
    "B=[1,2,3,1,2,3,4,2,3,5,6,7,8,8,9,8,9,10]\n",
    "\n",
    "#using numpy\n",
    "np.std(B)"
   ]
  },
  {
   "cell_type": "code",
   "execution_count": 2412,
   "id": "62c39e89",
   "metadata": {},
   "outputs": [
    {
     "name": "stdout",
     "output_type": "stream",
     "text": [
      "Variance :  2.9902103646217535\n"
     ]
    }
   ],
   "source": [
    "\n",
    "print(\"Variance : \", np.std(B))"
   ]
  },
  {
   "cell_type": "markdown",
   "id": "0edcc7b7",
   "metadata": {},
   "source": [
    "# 5 number Summary\n",
    "\n",
    "\n",
    "Minimum\n",
    "\n",
    "\n",
    "1st quartile -Q1\n",
    "\n",
    "\n",
    "2nd quartile -Q2(Median)\n",
    "\n",
    "\n",
    "\n",
    "3rd quartile -Q3\n",
    "\n",
    "\n",
    "Maximum\n"
   ]
  },
  {
   "cell_type": "markdown",
   "id": "e6f36229",
   "metadata": {},
   "source": [
    "### Minimum"
   ]
  },
  {
   "cell_type": "code",
   "execution_count": 2413,
   "id": "f481ce23",
   "metadata": {},
   "outputs": [
    {
     "data": {
      "text/plain": [
       "values    1\n",
       "dtype: int64"
      ]
     },
     "execution_count": 2413,
     "metadata": {},
     "output_type": "execute_result"
    }
   ],
   "source": [
    "#Minimum using pandas\n",
    "\n",
    "A.min() \n"
   ]
  },
  {
   "cell_type": "code",
   "execution_count": 2414,
   "id": "baa5a140",
   "metadata": {},
   "outputs": [
    {
     "data": {
      "text/plain": [
       "1"
      ]
     },
     "execution_count": 2414,
     "metadata": {},
     "output_type": "execute_result"
    }
   ],
   "source": [
    "\n",
    "#Minimum\n",
    "B=[1,2,3,1,2,3,4,2,3,5,6,7,8,8,9,8,9,10]\n",
    "\n",
    "#using numpy\n",
    "np.min(B)"
   ]
  },
  {
   "cell_type": "code",
   "execution_count": 2415,
   "id": "39e1994d",
   "metadata": {},
   "outputs": [
    {
     "name": "stdout",
     "output_type": "stream",
     "text": [
      "Minimum :  1\n"
     ]
    }
   ],
   "source": [
    "\n",
    "print(\"Minimum : \", np.min(B))"
   ]
  },
  {
   "cell_type": "markdown",
   "id": "851066cc",
   "metadata": {},
   "source": [
    "## Quartiles"
   ]
  },
  {
   "cell_type": "code",
   "execution_count": 2416,
   "id": "82618a31",
   "metadata": {},
   "outputs": [
    {
     "data": {
      "text/html": [
       "<div>\n",
       "<style scoped>\n",
       "    .dataframe tbody tr th:only-of-type {\n",
       "        vertical-align: middle;\n",
       "    }\n",
       "\n",
       "    .dataframe tbody tr th {\n",
       "        vertical-align: top;\n",
       "    }\n",
       "\n",
       "    .dataframe thead th {\n",
       "        text-align: right;\n",
       "    }\n",
       "</style>\n",
       "<table border=\"1\" class=\"dataframe\">\n",
       "  <thead>\n",
       "    <tr style=\"text-align: right;\">\n",
       "      <th></th>\n",
       "      <th>values</th>\n",
       "    </tr>\n",
       "  </thead>\n",
       "  <tbody>\n",
       "    <tr>\n",
       "      <th>0.25</th>\n",
       "      <td>2.25</td>\n",
       "    </tr>\n",
       "    <tr>\n",
       "      <th>0.50</th>\n",
       "      <td>4.50</td>\n",
       "    </tr>\n",
       "    <tr>\n",
       "      <th>0.75</th>\n",
       "      <td>8.00</td>\n",
       "    </tr>\n",
       "  </tbody>\n",
       "</table>\n",
       "</div>"
      ],
      "text/plain": [
       "      values\n",
       "0.25    2.25\n",
       "0.50    4.50\n",
       "0.75    8.00"
      ]
     },
     "execution_count": 2416,
     "metadata": {},
     "output_type": "execute_result"
    }
   ],
   "source": [
    "#using pandas\n",
    "A.quantile([0.25,0.50,0.75]) "
   ]
  },
  {
   "cell_type": "code",
   "execution_count": 2417,
   "id": "853ed3b3",
   "metadata": {},
   "outputs": [
    {
     "data": {
      "text/html": [
       "<div>\n",
       "<style scoped>\n",
       "    .dataframe tbody tr th:only-of-type {\n",
       "        vertical-align: middle;\n",
       "    }\n",
       "\n",
       "    .dataframe tbody tr th {\n",
       "        vertical-align: top;\n",
       "    }\n",
       "\n",
       "    .dataframe thead th {\n",
       "        text-align: right;\n",
       "    }\n",
       "</style>\n",
       "<table border=\"1\" class=\"dataframe\">\n",
       "  <thead>\n",
       "    <tr style=\"text-align: right;\">\n",
       "      <th></th>\n",
       "      <th>values</th>\n",
       "    </tr>\n",
       "  </thead>\n",
       "  <tbody>\n",
       "    <tr>\n",
       "      <th>count</th>\n",
       "      <td>18.000000</td>\n",
       "    </tr>\n",
       "    <tr>\n",
       "      <th>mean</th>\n",
       "      <td>5.055556</td>\n",
       "    </tr>\n",
       "    <tr>\n",
       "      <th>std</th>\n",
       "      <td>3.076901</td>\n",
       "    </tr>\n",
       "    <tr>\n",
       "      <th>min</th>\n",
       "      <td>1.000000</td>\n",
       "    </tr>\n",
       "    <tr>\n",
       "      <th>25%</th>\n",
       "      <td>2.250000</td>\n",
       "    </tr>\n",
       "    <tr>\n",
       "      <th>50%</th>\n",
       "      <td>4.500000</td>\n",
       "    </tr>\n",
       "    <tr>\n",
       "      <th>75%</th>\n",
       "      <td>8.000000</td>\n",
       "    </tr>\n",
       "    <tr>\n",
       "      <th>max</th>\n",
       "      <td>10.000000</td>\n",
       "    </tr>\n",
       "  </tbody>\n",
       "</table>\n",
       "</div>"
      ],
      "text/plain": [
       "          values\n",
       "count  18.000000\n",
       "mean    5.055556\n",
       "std     3.076901\n",
       "min     1.000000\n",
       "25%     2.250000\n",
       "50%     4.500000\n",
       "75%     8.000000\n",
       "max    10.000000"
      ]
     },
     "execution_count": 2417,
     "metadata": {},
     "output_type": "execute_result"
    }
   ],
   "source": [
    "\n",
    "A.describe()"
   ]
  },
  {
   "cell_type": "code",
   "execution_count": 2418,
   "id": "e5dbad2d",
   "metadata": {},
   "outputs": [
    {
     "data": {
      "text/plain": [
       "array([2.25, 4.5 , 8.  ])"
      ]
     },
     "execution_count": 2418,
     "metadata": {},
     "output_type": "execute_result"
    }
   ],
   "source": [
    "\n",
    "#quartiles\n",
    "B=[1,2,3,1,2,3,4,2,3,5,6,7,8,8,9,8,9,10]\n",
    "\n",
    "#using numpy\n",
    "np.quantile(B,[0.25,0.50,0.75])"
   ]
  },
  {
   "cell_type": "code",
   "execution_count": 2419,
   "id": "a993dedd",
   "metadata": {},
   "outputs": [
    {
     "name": "stdout",
     "output_type": "stream",
     "text": [
      "Q1 :  2.25 Q2 :  4.5 Q3 :  8.0\n"
     ]
    }
   ],
   "source": [
    "\n",
    "print(\"Q1 : \", np.quantile(B,0.25),\n",
    "      \"Q2 : \", np.quantile(B,0.50),\n",
    "      \"Q3 : \", np.quantile(B,0.75))"
   ]
  },
  {
   "cell_type": "markdown",
   "id": "31dbac13",
   "metadata": {},
   "source": [
    "## Maximum"
   ]
  },
  {
   "cell_type": "code",
   "execution_count": 2420,
   "id": "7f9cd3e4",
   "metadata": {},
   "outputs": [
    {
     "data": {
      "text/plain": [
       "values    10\n",
       "dtype: int64"
      ]
     },
     "execution_count": 2420,
     "metadata": {},
     "output_type": "execute_result"
    }
   ],
   "source": [
    "\n",
    "#using pandas\n",
    "A.max()  "
   ]
  },
  {
   "cell_type": "code",
   "execution_count": 2421,
   "id": "6be0280d",
   "metadata": {},
   "outputs": [
    {
     "data": {
      "text/plain": [
       "10"
      ]
     },
     "execution_count": 2421,
     "metadata": {},
     "output_type": "execute_result"
    }
   ],
   "source": [
    "#Maximum\n",
    "B=[1,2,3,1,2,3,4,2,3,5,6,7,8,8,9,8,9,10]\n",
    "\n",
    "#using numpy\n",
    "np.max(B)"
   ]
  },
  {
   "cell_type": "code",
   "execution_count": 2422,
   "id": "920bb6ff",
   "metadata": {},
   "outputs": [
    {
     "name": "stdout",
     "output_type": "stream",
     "text": [
      "Maximum :  10\n"
     ]
    }
   ],
   "source": [
    "print(\"Maximum : \", np.max(B))"
   ]
  },
  {
   "cell_type": "markdown",
   "id": "ec7b6eb5",
   "metadata": {},
   "source": [
    "## Range"
   ]
  },
  {
   "cell_type": "code",
   "execution_count": 2423,
   "id": "2f1641ee",
   "metadata": {},
   "outputs": [
    {
     "data": {
      "text/plain": [
       "values    9\n",
       "dtype: int64"
      ]
     },
     "execution_count": 2423,
     "metadata": {},
     "output_type": "execute_result"
    }
   ],
   "source": [
    "#using pandas\n",
    "Range = A.max()-A.min()\n",
    "Range\n",
    "     "
   ]
  },
  {
   "cell_type": "code",
   "execution_count": 2424,
   "id": "ab77e787",
   "metadata": {},
   "outputs": [
    {
     "data": {
      "text/plain": [
       "9"
      ]
     },
     "execution_count": 2424,
     "metadata": {},
     "output_type": "execute_result"
    }
   ],
   "source": [
    "\n",
    "#Range\n",
    "#using numpy\n",
    "\n",
    "Ran=np.max(B) - np.min(B)\n",
    "Ran"
   ]
  },
  {
   "cell_type": "markdown",
   "id": "7ef3332e",
   "metadata": {},
   "source": [
    "## IQR"
   ]
  },
  {
   "cell_type": "code",
   "execution_count": 2425,
   "id": "d6345611",
   "metadata": {},
   "outputs": [
    {
     "data": {
      "text/plain": [
       "values    5.75\n",
       "dtype: float64"
      ]
     },
     "execution_count": 2425,
     "metadata": {},
     "output_type": "execute_result"
    }
   ],
   "source": [
    "#using pandas\n",
    "iqr=A.quantile(0.75)-A.quantile(0.25)\n",
    "iqr"
   ]
  },
  {
   "cell_type": "code",
   "execution_count": 2426,
   "id": "2bbefafa",
   "metadata": {},
   "outputs": [
    {
     "data": {
      "text/plain": [
       "5.75"
      ]
     },
     "execution_count": 2426,
     "metadata": {},
     "output_type": "execute_result"
    }
   ],
   "source": [
    "\n",
    "#IQR\n",
    "#using numpy\n",
    "IQR = np.quantile(B,0.75)-np.quantile(B,0.25)\n",
    "IQR"
   ]
  },
  {
   "cell_type": "markdown",
   "id": "c7503c9a",
   "metadata": {},
   "source": [
    "## QD"
   ]
  },
  {
   "cell_type": "code",
   "execution_count": 2427,
   "id": "535c3720",
   "metadata": {},
   "outputs": [
    {
     "data": {
      "text/plain": [
       "values    2.875\n",
       "dtype: float64"
      ]
     },
     "execution_count": 2427,
     "metadata": {},
     "output_type": "execute_result"
    }
   ],
   "source": [
    "#QD\n",
    "#using pandas\n",
    "qd =iqr/2\n",
    "qd"
   ]
  },
  {
   "cell_type": "code",
   "execution_count": 2428,
   "id": "d2e90dba",
   "metadata": {},
   "outputs": [
    {
     "data": {
      "text/plain": [
       "2.875"
      ]
     },
     "execution_count": 2428,
     "metadata": {},
     "output_type": "execute_result"
    }
   ],
   "source": [
    "\n",
    "#QD\n",
    "#using numpy\n",
    "QD = IQR/2\n",
    "QD\n"
   ]
  },
  {
   "cell_type": "markdown",
   "id": "13398349",
   "metadata": {},
   "source": [
    "# Example 3"
   ]
  },
  {
   "cell_type": "markdown",
   "id": "84fa205d",
   "metadata": {},
   "source": [
    "## Measure of central tendency"
   ]
  },
  {
   "cell_type": "code",
   "execution_count": 2429,
   "id": "37a5e7bb",
   "metadata": {},
   "outputs": [
    {
     "data": {
      "text/html": [
       "<div>\n",
       "<style scoped>\n",
       "    .dataframe tbody tr th:only-of-type {\n",
       "        vertical-align: middle;\n",
       "    }\n",
       "\n",
       "    .dataframe tbody tr th {\n",
       "        vertical-align: top;\n",
       "    }\n",
       "\n",
       "    .dataframe thead th {\n",
       "        text-align: right;\n",
       "    }\n",
       "</style>\n",
       "<table border=\"1\" class=\"dataframe\">\n",
       "  <thead>\n",
       "    <tr style=\"text-align: right;\">\n",
       "      <th></th>\n",
       "      <th>values</th>\n",
       "    </tr>\n",
       "  </thead>\n",
       "  <tbody>\n",
       "    <tr>\n",
       "      <th>0</th>\n",
       "      <td>1</td>\n",
       "    </tr>\n",
       "    <tr>\n",
       "      <th>1</th>\n",
       "      <td>2</td>\n",
       "    </tr>\n",
       "    <tr>\n",
       "      <th>2</th>\n",
       "      <td>3</td>\n",
       "    </tr>\n",
       "    <tr>\n",
       "      <th>3</th>\n",
       "      <td>1</td>\n",
       "    </tr>\n",
       "    <tr>\n",
       "      <th>4</th>\n",
       "      <td>2</td>\n",
       "    </tr>\n",
       "    <tr>\n",
       "      <th>5</th>\n",
       "      <td>3</td>\n",
       "    </tr>\n",
       "    <tr>\n",
       "      <th>6</th>\n",
       "      <td>4</td>\n",
       "    </tr>\n",
       "    <tr>\n",
       "      <th>7</th>\n",
       "      <td>2</td>\n",
       "    </tr>\n",
       "    <tr>\n",
       "      <th>8</th>\n",
       "      <td>3</td>\n",
       "    </tr>\n",
       "    <tr>\n",
       "      <th>9</th>\n",
       "      <td>5</td>\n",
       "    </tr>\n",
       "    <tr>\n",
       "      <th>10</th>\n",
       "      <td>6</td>\n",
       "    </tr>\n",
       "    <tr>\n",
       "      <th>11</th>\n",
       "      <td>7</td>\n",
       "    </tr>\n",
       "    <tr>\n",
       "      <th>12</th>\n",
       "      <td>8</td>\n",
       "    </tr>\n",
       "    <tr>\n",
       "      <th>13</th>\n",
       "      <td>8</td>\n",
       "    </tr>\n",
       "    <tr>\n",
       "      <th>14</th>\n",
       "      <td>9</td>\n",
       "    </tr>\n",
       "    <tr>\n",
       "      <th>15</th>\n",
       "      <td>8</td>\n",
       "    </tr>\n",
       "    <tr>\n",
       "      <th>16</th>\n",
       "      <td>9</td>\n",
       "    </tr>\n",
       "    <tr>\n",
       "      <th>17</th>\n",
       "      <td>10</td>\n",
       "    </tr>\n",
       "    <tr>\n",
       "      <th>18</th>\n",
       "      <td>12</td>\n",
       "    </tr>\n",
       "  </tbody>\n",
       "</table>\n",
       "</div>"
      ],
      "text/plain": [
       "    values\n",
       "0        1\n",
       "1        2\n",
       "2        3\n",
       "3        1\n",
       "4        2\n",
       "5        3\n",
       "6        4\n",
       "7        2\n",
       "8        3\n",
       "9        5\n",
       "10       6\n",
       "11       7\n",
       "12       8\n",
       "13       8\n",
       "14       9\n",
       "15       8\n",
       "16       9\n",
       "17      10\n",
       "18      12"
      ]
     },
     "execution_count": 2429,
     "metadata": {},
     "output_type": "execute_result"
    }
   ],
   "source": [
    "#created the list into a table format\n",
    "import pandas as pd\n",
    "A=pd.DataFrame(data={'values': [1,2,3,1,2,3,4,2,3,5,6,7,8,8,9,8,9,10,12]})\n",
    "A"
   ]
  },
  {
   "cell_type": "code",
   "execution_count": 2430,
   "id": "99f2cc1b",
   "metadata": {},
   "outputs": [
    {
     "data": {
      "text/plain": [
       "values    5.421053\n",
       "dtype: float64"
      ]
     },
     "execution_count": 2430,
     "metadata": {},
     "output_type": "execute_result"
    }
   ],
   "source": [
    "#mean using pandas\n",
    "A.mean()\n",
    "\n",
    "# To show answer"
   ]
  },
  {
   "cell_type": "code",
   "execution_count": 2431,
   "id": "f9436bf3",
   "metadata": {},
   "outputs": [
    {
     "data": {
      "text/html": [
       "<div>\n",
       "<style scoped>\n",
       "    .dataframe tbody tr th:only-of-type {\n",
       "        vertical-align: middle;\n",
       "    }\n",
       "\n",
       "    .dataframe tbody tr th {\n",
       "        vertical-align: top;\n",
       "    }\n",
       "\n",
       "    .dataframe thead th {\n",
       "        text-align: right;\n",
       "    }\n",
       "</style>\n",
       "<table border=\"1\" class=\"dataframe\">\n",
       "  <thead>\n",
       "    <tr style=\"text-align: right;\">\n",
       "      <th></th>\n",
       "      <th>values</th>\n",
       "    </tr>\n",
       "  </thead>\n",
       "  <tbody>\n",
       "    <tr>\n",
       "      <th>count</th>\n",
       "      <td>19.000000</td>\n",
       "    </tr>\n",
       "    <tr>\n",
       "      <th>mean</th>\n",
       "      <td>5.421053</td>\n",
       "    </tr>\n",
       "    <tr>\n",
       "      <th>std</th>\n",
       "      <td>3.388146</td>\n",
       "    </tr>\n",
       "    <tr>\n",
       "      <th>min</th>\n",
       "      <td>1.000000</td>\n",
       "    </tr>\n",
       "    <tr>\n",
       "      <th>25%</th>\n",
       "      <td>2.500000</td>\n",
       "    </tr>\n",
       "    <tr>\n",
       "      <th>50%</th>\n",
       "      <td>5.000000</td>\n",
       "    </tr>\n",
       "    <tr>\n",
       "      <th>75%</th>\n",
       "      <td>8.000000</td>\n",
       "    </tr>\n",
       "    <tr>\n",
       "      <th>max</th>\n",
       "      <td>12.000000</td>\n",
       "    </tr>\n",
       "  </tbody>\n",
       "</table>\n",
       "</div>"
      ],
      "text/plain": [
       "          values\n",
       "count  19.000000\n",
       "mean    5.421053\n",
       "std     3.388146\n",
       "min     1.000000\n",
       "25%     2.500000\n",
       "50%     5.000000\n",
       "75%     8.000000\n",
       "max    12.000000"
      ]
     },
     "execution_count": 2431,
     "metadata": {},
     "output_type": "execute_result"
    }
   ],
   "source": [
    "A.describe()"
   ]
  },
  {
   "cell_type": "code",
   "execution_count": 2432,
   "id": "a9692953",
   "metadata": {},
   "outputs": [
    {
     "data": {
      "text/plain": [
       "5.421052631578948"
      ]
     },
     "execution_count": 2432,
     "metadata": {},
     "output_type": "execute_result"
    }
   ],
   "source": [
    "#mean \n",
    "\n",
    "import numpy as np\n",
    "B=[1,2,3,1,2,3,4,2,3,5,6,7,8,8,9,8,9,10,12]\n",
    "\n",
    "#using numpy\n",
    "np.mean(B)"
   ]
  },
  {
   "cell_type": "code",
   "execution_count": 2433,
   "id": "c4b74ad3",
   "metadata": {},
   "outputs": [
    {
     "name": "stdout",
     "output_type": "stream",
     "text": [
      "mean :  5.421052631578948\n"
     ]
    }
   ],
   "source": [
    "print(\"mean : \", np.mean(B))"
   ]
  },
  {
   "cell_type": "code",
   "execution_count": 2434,
   "id": "0a7ea5de",
   "metadata": {},
   "outputs": [
    {
     "data": {
      "text/plain": [
       "values    5.0\n",
       "dtype: float64"
      ]
     },
     "execution_count": 2434,
     "metadata": {},
     "output_type": "execute_result"
    }
   ],
   "source": [
    "#median\n",
    "#using pandas\n",
    "A.median()"
   ]
  },
  {
   "cell_type": "code",
   "execution_count": 2435,
   "id": "370b9838",
   "metadata": {},
   "outputs": [
    {
     "data": {
      "text/html": [
       "<div>\n",
       "<style scoped>\n",
       "    .dataframe tbody tr th:only-of-type {\n",
       "        vertical-align: middle;\n",
       "    }\n",
       "\n",
       "    .dataframe tbody tr th {\n",
       "        vertical-align: top;\n",
       "    }\n",
       "\n",
       "    .dataframe thead th {\n",
       "        text-align: right;\n",
       "    }\n",
       "</style>\n",
       "<table border=\"1\" class=\"dataframe\">\n",
       "  <thead>\n",
       "    <tr style=\"text-align: right;\">\n",
       "      <th></th>\n",
       "      <th>values</th>\n",
       "    </tr>\n",
       "  </thead>\n",
       "  <tbody>\n",
       "    <tr>\n",
       "      <th>count</th>\n",
       "      <td>19.000000</td>\n",
       "    </tr>\n",
       "    <tr>\n",
       "      <th>mean</th>\n",
       "      <td>5.421053</td>\n",
       "    </tr>\n",
       "    <tr>\n",
       "      <th>std</th>\n",
       "      <td>3.388146</td>\n",
       "    </tr>\n",
       "    <tr>\n",
       "      <th>min</th>\n",
       "      <td>1.000000</td>\n",
       "    </tr>\n",
       "    <tr>\n",
       "      <th>25%</th>\n",
       "      <td>2.500000</td>\n",
       "    </tr>\n",
       "    <tr>\n",
       "      <th>50%</th>\n",
       "      <td>5.000000</td>\n",
       "    </tr>\n",
       "    <tr>\n",
       "      <th>75%</th>\n",
       "      <td>8.000000</td>\n",
       "    </tr>\n",
       "    <tr>\n",
       "      <th>max</th>\n",
       "      <td>12.000000</td>\n",
       "    </tr>\n",
       "  </tbody>\n",
       "</table>\n",
       "</div>"
      ],
      "text/plain": [
       "          values\n",
       "count  19.000000\n",
       "mean    5.421053\n",
       "std     3.388146\n",
       "min     1.000000\n",
       "25%     2.500000\n",
       "50%     5.000000\n",
       "75%     8.000000\n",
       "max    12.000000"
      ]
     },
     "execution_count": 2435,
     "metadata": {},
     "output_type": "execute_result"
    }
   ],
   "source": [
    "A.describe()"
   ]
  },
  {
   "cell_type": "code",
   "execution_count": 2436,
   "id": "c643839f",
   "metadata": {},
   "outputs": [
    {
     "data": {
      "text/plain": [
       "5.0"
      ]
     },
     "execution_count": 2436,
     "metadata": {},
     "output_type": "execute_result"
    }
   ],
   "source": [
    "#median\n",
    "B=[1,2,3,1,2,3,4,2,3,5,6,7,8,8,9,8,9,10,12]\n",
    "\n",
    "#using numpy\n",
    "np.median(B)"
   ]
  },
  {
   "cell_type": "code",
   "execution_count": 2437,
   "id": "4ac3bbed",
   "metadata": {},
   "outputs": [
    {
     "name": "stdout",
     "output_type": "stream",
     "text": [
      "median :  5.0\n"
     ]
    }
   ],
   "source": [
    "print(\"median : \", np.median(B))"
   ]
  },
  {
   "cell_type": "code",
   "execution_count": 2438,
   "id": "76da05f1",
   "metadata": {},
   "outputs": [
    {
     "data": {
      "text/html": [
       "<div>\n",
       "<style scoped>\n",
       "    .dataframe tbody tr th:only-of-type {\n",
       "        vertical-align: middle;\n",
       "    }\n",
       "\n",
       "    .dataframe tbody tr th {\n",
       "        vertical-align: top;\n",
       "    }\n",
       "\n",
       "    .dataframe thead th {\n",
       "        text-align: right;\n",
       "    }\n",
       "</style>\n",
       "<table border=\"1\" class=\"dataframe\">\n",
       "  <thead>\n",
       "    <tr style=\"text-align: right;\">\n",
       "      <th></th>\n",
       "      <th>values</th>\n",
       "    </tr>\n",
       "  </thead>\n",
       "  <tbody>\n",
       "    <tr>\n",
       "      <th>0</th>\n",
       "      <td>2</td>\n",
       "    </tr>\n",
       "    <tr>\n",
       "      <th>1</th>\n",
       "      <td>3</td>\n",
       "    </tr>\n",
       "    <tr>\n",
       "      <th>2</th>\n",
       "      <td>8</td>\n",
       "    </tr>\n",
       "  </tbody>\n",
       "</table>\n",
       "</div>"
      ],
      "text/plain": [
       "   values\n",
       "0       2\n",
       "1       3\n",
       "2       8"
      ]
     },
     "execution_count": 2438,
     "metadata": {},
     "output_type": "execute_result"
    }
   ],
   "source": [
    "#using pandas\n",
    "A.mode()  "
   ]
  },
  {
   "cell_type": "code",
   "execution_count": 2439,
   "id": "ba470881",
   "metadata": {},
   "outputs": [],
   "source": [
    "#mode\n",
    "#numpy does not has an attribute mode"
   ]
  },
  {
   "cell_type": "code",
   "execution_count": 2440,
   "id": "1e9a909d",
   "metadata": {},
   "outputs": [],
   "source": [
    "#descriptive statistics\n",
    "#measure of dispersion\n",
    "#variance and std deviation"
   ]
  },
  {
   "cell_type": "markdown",
   "id": "14f287ec",
   "metadata": {},
   "source": [
    "## Measure of Dispersion"
   ]
  },
  {
   "cell_type": "markdown",
   "id": "95d8b834",
   "metadata": {},
   "source": [
    "### Variance"
   ]
  },
  {
   "cell_type": "code",
   "execution_count": 2441,
   "id": "056bfe47",
   "metadata": {},
   "outputs": [
    {
     "data": {
      "text/plain": [
       "values    11.479532\n",
       "dtype: float64"
      ]
     },
     "execution_count": 2441,
     "metadata": {},
     "output_type": "execute_result"
    }
   ],
   "source": [
    "#variance\n",
    "A.var()"
   ]
  },
  {
   "cell_type": "code",
   "execution_count": 2442,
   "id": "0ae0eb4e",
   "metadata": {},
   "outputs": [],
   "source": [
    "\n",
    "#variance"
   ]
  },
  {
   "cell_type": "code",
   "execution_count": 2443,
   "id": "89db1fc5",
   "metadata": {},
   "outputs": [
    {
     "data": {
      "text/plain": [
       "10.875346260387813"
      ]
     },
     "execution_count": 2443,
     "metadata": {},
     "output_type": "execute_result"
    }
   ],
   "source": [
    "B=[1,2,3,1,2,3,4,2,3,5,6,7,8,8,9,8,9,10,12]\n",
    "\n",
    "#using numpy\n",
    "np.var(B)\n",
    "     "
   ]
  },
  {
   "cell_type": "code",
   "execution_count": 2444,
   "id": "4d67b7f4",
   "metadata": {},
   "outputs": [
    {
     "name": "stdout",
     "output_type": "stream",
     "text": [
      "Variance :  10.875346260387813\n"
     ]
    }
   ],
   "source": [
    "\n",
    "print(\"Variance : \", np.var(B))"
   ]
  },
  {
   "cell_type": "markdown",
   "id": "416c5ff3",
   "metadata": {},
   "source": [
    "## Standard deviation"
   ]
  },
  {
   "cell_type": "code",
   "execution_count": 2445,
   "id": "d84eef3c",
   "metadata": {},
   "outputs": [
    {
     "data": {
      "text/plain": [
       "values    3.388146\n",
       "dtype: float64"
      ]
     },
     "execution_count": 2445,
     "metadata": {},
     "output_type": "execute_result"
    }
   ],
   "source": [
    "#using pandas\n",
    "A.std()"
   ]
  },
  {
   "cell_type": "code",
   "execution_count": 2446,
   "id": "668d1155",
   "metadata": {},
   "outputs": [
    {
     "data": {
      "text/plain": [
       "3.297778989014851"
      ]
     },
     "execution_count": 2446,
     "metadata": {},
     "output_type": "execute_result"
    }
   ],
   "source": [
    "\n",
    "#standard deviation\n",
    "B=[1,2,3,1,2,3,4,2,3,5,6,7,8,8,9,8,9,10,12]\n",
    "\n",
    "#using numpy\n",
    "np.std(B)"
   ]
  },
  {
   "cell_type": "code",
   "execution_count": 2447,
   "id": "ede8bd28",
   "metadata": {},
   "outputs": [
    {
     "name": "stdout",
     "output_type": "stream",
     "text": [
      "Variance :  3.297778989014851\n"
     ]
    }
   ],
   "source": [
    "\n",
    "print(\"Variance : \", np.std(B))"
   ]
  },
  {
   "cell_type": "markdown",
   "id": "83ecb7f7",
   "metadata": {},
   "source": [
    "# 5 number Summary\n",
    "\n",
    "\n",
    "Minimum\n",
    "\n",
    "\n",
    "1st quartile -Q1\n",
    "\n",
    "\n",
    "2nd quartile -Q2(Median)\n",
    "\n",
    "\n",
    "\n",
    "3rd quartile -Q3\n",
    "\n",
    "\n",
    "Maximum\n"
   ]
  },
  {
   "cell_type": "markdown",
   "id": "632b3bf5",
   "metadata": {},
   "source": [
    "### Minimum"
   ]
  },
  {
   "cell_type": "code",
   "execution_count": 2448,
   "id": "35d8de45",
   "metadata": {},
   "outputs": [
    {
     "data": {
      "text/plain": [
       "values    1\n",
       "dtype: int64"
      ]
     },
     "execution_count": 2448,
     "metadata": {},
     "output_type": "execute_result"
    }
   ],
   "source": [
    "#Minimum using pandas\n",
    "\n",
    "A.min() \n"
   ]
  },
  {
   "cell_type": "code",
   "execution_count": 2449,
   "id": "4759c096",
   "metadata": {},
   "outputs": [
    {
     "data": {
      "text/plain": [
       "1"
      ]
     },
     "execution_count": 2449,
     "metadata": {},
     "output_type": "execute_result"
    }
   ],
   "source": [
    "\n",
    "#Minimum\n",
    "B=[1,2,3,1,2,3,4,2,3,5,6,7,8,8,9,8,9,10,12]\n",
    "\n",
    "#using numpy\n",
    "np.min(B)"
   ]
  },
  {
   "cell_type": "code",
   "execution_count": 2450,
   "id": "6df83c1e",
   "metadata": {},
   "outputs": [
    {
     "name": "stdout",
     "output_type": "stream",
     "text": [
      "Minimum :  1\n"
     ]
    }
   ],
   "source": [
    "\n",
    "print(\"Minimum : \", np.min(B))"
   ]
  },
  {
   "cell_type": "markdown",
   "id": "10a0ba20",
   "metadata": {},
   "source": [
    "## Quartiles"
   ]
  },
  {
   "cell_type": "code",
   "execution_count": 2451,
   "id": "016c92fa",
   "metadata": {},
   "outputs": [
    {
     "data": {
      "text/html": [
       "<div>\n",
       "<style scoped>\n",
       "    .dataframe tbody tr th:only-of-type {\n",
       "        vertical-align: middle;\n",
       "    }\n",
       "\n",
       "    .dataframe tbody tr th {\n",
       "        vertical-align: top;\n",
       "    }\n",
       "\n",
       "    .dataframe thead th {\n",
       "        text-align: right;\n",
       "    }\n",
       "</style>\n",
       "<table border=\"1\" class=\"dataframe\">\n",
       "  <thead>\n",
       "    <tr style=\"text-align: right;\">\n",
       "      <th></th>\n",
       "      <th>values</th>\n",
       "    </tr>\n",
       "  </thead>\n",
       "  <tbody>\n",
       "    <tr>\n",
       "      <th>0.25</th>\n",
       "      <td>2.5</td>\n",
       "    </tr>\n",
       "    <tr>\n",
       "      <th>0.50</th>\n",
       "      <td>5.0</td>\n",
       "    </tr>\n",
       "    <tr>\n",
       "      <th>0.75</th>\n",
       "      <td>8.0</td>\n",
       "    </tr>\n",
       "  </tbody>\n",
       "</table>\n",
       "</div>"
      ],
      "text/plain": [
       "      values\n",
       "0.25     2.5\n",
       "0.50     5.0\n",
       "0.75     8.0"
      ]
     },
     "execution_count": 2451,
     "metadata": {},
     "output_type": "execute_result"
    }
   ],
   "source": [
    "#using pandas\n",
    "A.quantile([0.25,0.50,0.75]) "
   ]
  },
  {
   "cell_type": "code",
   "execution_count": 2452,
   "id": "f1765733",
   "metadata": {},
   "outputs": [
    {
     "data": {
      "text/html": [
       "<div>\n",
       "<style scoped>\n",
       "    .dataframe tbody tr th:only-of-type {\n",
       "        vertical-align: middle;\n",
       "    }\n",
       "\n",
       "    .dataframe tbody tr th {\n",
       "        vertical-align: top;\n",
       "    }\n",
       "\n",
       "    .dataframe thead th {\n",
       "        text-align: right;\n",
       "    }\n",
       "</style>\n",
       "<table border=\"1\" class=\"dataframe\">\n",
       "  <thead>\n",
       "    <tr style=\"text-align: right;\">\n",
       "      <th></th>\n",
       "      <th>values</th>\n",
       "    </tr>\n",
       "  </thead>\n",
       "  <tbody>\n",
       "    <tr>\n",
       "      <th>count</th>\n",
       "      <td>19.000000</td>\n",
       "    </tr>\n",
       "    <tr>\n",
       "      <th>mean</th>\n",
       "      <td>5.421053</td>\n",
       "    </tr>\n",
       "    <tr>\n",
       "      <th>std</th>\n",
       "      <td>3.388146</td>\n",
       "    </tr>\n",
       "    <tr>\n",
       "      <th>min</th>\n",
       "      <td>1.000000</td>\n",
       "    </tr>\n",
       "    <tr>\n",
       "      <th>25%</th>\n",
       "      <td>2.500000</td>\n",
       "    </tr>\n",
       "    <tr>\n",
       "      <th>50%</th>\n",
       "      <td>5.000000</td>\n",
       "    </tr>\n",
       "    <tr>\n",
       "      <th>75%</th>\n",
       "      <td>8.000000</td>\n",
       "    </tr>\n",
       "    <tr>\n",
       "      <th>max</th>\n",
       "      <td>12.000000</td>\n",
       "    </tr>\n",
       "  </tbody>\n",
       "</table>\n",
       "</div>"
      ],
      "text/plain": [
       "          values\n",
       "count  19.000000\n",
       "mean    5.421053\n",
       "std     3.388146\n",
       "min     1.000000\n",
       "25%     2.500000\n",
       "50%     5.000000\n",
       "75%     8.000000\n",
       "max    12.000000"
      ]
     },
     "execution_count": 2452,
     "metadata": {},
     "output_type": "execute_result"
    }
   ],
   "source": [
    "\n",
    "A.describe()"
   ]
  },
  {
   "cell_type": "code",
   "execution_count": 2453,
   "id": "23c547e4",
   "metadata": {},
   "outputs": [
    {
     "data": {
      "text/plain": [
       "array([2.5, 5. , 8. ])"
      ]
     },
     "execution_count": 2453,
     "metadata": {},
     "output_type": "execute_result"
    }
   ],
   "source": [
    "\n",
    "#quartiles\n",
    "B=[1,2,3,1,2,3,4,2,3,5,6,7,8,8,9,8,9,10,12]\n",
    "\n",
    "#using numpy\n",
    "np.quantile(B,[0.25,0.50,0.75])"
   ]
  },
  {
   "cell_type": "code",
   "execution_count": 2454,
   "id": "3c199cf9",
   "metadata": {},
   "outputs": [
    {
     "name": "stdout",
     "output_type": "stream",
     "text": [
      "Q1 :  2.5 Q2 :  5.0 Q3 :  8.0\n"
     ]
    }
   ],
   "source": [
    "\n",
    "print(\"Q1 : \", np.quantile(B,0.25),\n",
    "      \"Q2 : \", np.quantile(B,0.50),\n",
    "      \"Q3 : \", np.quantile(B,0.75))"
   ]
  },
  {
   "cell_type": "markdown",
   "id": "58a1d895",
   "metadata": {},
   "source": [
    "## Maximum"
   ]
  },
  {
   "cell_type": "code",
   "execution_count": 2455,
   "id": "ff59a47e",
   "metadata": {},
   "outputs": [
    {
     "data": {
      "text/plain": [
       "values    12\n",
       "dtype: int64"
      ]
     },
     "execution_count": 2455,
     "metadata": {},
     "output_type": "execute_result"
    }
   ],
   "source": [
    "\n",
    "#using pandas\n",
    "A.max()  "
   ]
  },
  {
   "cell_type": "code",
   "execution_count": 2456,
   "id": "d4694fcf",
   "metadata": {},
   "outputs": [
    {
     "data": {
      "text/plain": [
       "12"
      ]
     },
     "execution_count": 2456,
     "metadata": {},
     "output_type": "execute_result"
    }
   ],
   "source": [
    "#Maximum\n",
    "B=[1,2,3,1,2,3,4,2,3,5,6,7,8,8,9,8,9,10,12]\n",
    "\n",
    "#using numpy\n",
    "np.max(B)"
   ]
  },
  {
   "cell_type": "code",
   "execution_count": 2457,
   "id": "0f3877c1",
   "metadata": {},
   "outputs": [
    {
     "name": "stdout",
     "output_type": "stream",
     "text": [
      "Maximum :  12\n"
     ]
    }
   ],
   "source": [
    "print(\"Maximum : \", np.max(B))"
   ]
  },
  {
   "cell_type": "markdown",
   "id": "639983c6",
   "metadata": {},
   "source": [
    "## Range"
   ]
  },
  {
   "cell_type": "code",
   "execution_count": 2458,
   "id": "9ed5c1d8",
   "metadata": {},
   "outputs": [
    {
     "data": {
      "text/plain": [
       "values    11\n",
       "dtype: int64"
      ]
     },
     "execution_count": 2458,
     "metadata": {},
     "output_type": "execute_result"
    }
   ],
   "source": [
    "#using pandas\n",
    "Range = A.max()-A.min()\n",
    "Range\n",
    "     "
   ]
  },
  {
   "cell_type": "code",
   "execution_count": 2459,
   "id": "d20e111f",
   "metadata": {},
   "outputs": [
    {
     "data": {
      "text/plain": [
       "11"
      ]
     },
     "execution_count": 2459,
     "metadata": {},
     "output_type": "execute_result"
    }
   ],
   "source": [
    "\n",
    "#Range\n",
    "#using numpy\n",
    "\n",
    "Ran=np.max(B) - np.min(B)\n",
    "Ran"
   ]
  },
  {
   "cell_type": "markdown",
   "id": "b87a971a",
   "metadata": {},
   "source": [
    "## IQR"
   ]
  },
  {
   "cell_type": "code",
   "execution_count": 2460,
   "id": "5e47d092",
   "metadata": {},
   "outputs": [
    {
     "data": {
      "text/plain": [
       "values    5.5\n",
       "dtype: float64"
      ]
     },
     "execution_count": 2460,
     "metadata": {},
     "output_type": "execute_result"
    }
   ],
   "source": [
    "#using pandas\n",
    "iqr=A.quantile(0.75)-A.quantile(0.25)\n",
    "iqr"
   ]
  },
  {
   "cell_type": "code",
   "execution_count": 2461,
   "id": "c4e9eb25",
   "metadata": {},
   "outputs": [
    {
     "data": {
      "text/plain": [
       "5.5"
      ]
     },
     "execution_count": 2461,
     "metadata": {},
     "output_type": "execute_result"
    }
   ],
   "source": [
    "\n",
    "#IQR\n",
    "#using numpy\n",
    "IQR = np.quantile(B,0.75)-np.quantile(B,0.25)\n",
    "IQR"
   ]
  },
  {
   "cell_type": "markdown",
   "id": "e07aa3f9",
   "metadata": {},
   "source": [
    "## QD"
   ]
  },
  {
   "cell_type": "code",
   "execution_count": 2462,
   "id": "5428b373",
   "metadata": {},
   "outputs": [
    {
     "data": {
      "text/plain": [
       "values    2.75\n",
       "dtype: float64"
      ]
     },
     "execution_count": 2462,
     "metadata": {},
     "output_type": "execute_result"
    }
   ],
   "source": [
    "#QD\n",
    "#using pandas\n",
    "qd =iqr/2\n",
    "qd"
   ]
  },
  {
   "cell_type": "code",
   "execution_count": 2463,
   "id": "581383e9",
   "metadata": {},
   "outputs": [
    {
     "data": {
      "text/plain": [
       "2.75"
      ]
     },
     "execution_count": 2463,
     "metadata": {},
     "output_type": "execute_result"
    }
   ],
   "source": [
    "\n",
    "#QD\n",
    "#using numpy\n",
    "QD = IQR/2\n",
    "QD\n"
   ]
  },
  {
   "cell_type": "markdown",
   "id": "460436fa",
   "metadata": {},
   "source": [
    "# Example 4"
   ]
  },
  {
   "cell_type": "markdown",
   "id": "fb248800",
   "metadata": {},
   "source": [
    "## Measure of central tendency"
   ]
  },
  {
   "cell_type": "code",
   "execution_count": 2464,
   "id": "ac363ed7",
   "metadata": {},
   "outputs": [
    {
     "data": {
      "text/html": [
       "<div>\n",
       "<style scoped>\n",
       "    .dataframe tbody tr th:only-of-type {\n",
       "        vertical-align: middle;\n",
       "    }\n",
       "\n",
       "    .dataframe tbody tr th {\n",
       "        vertical-align: top;\n",
       "    }\n",
       "\n",
       "    .dataframe thead th {\n",
       "        text-align: right;\n",
       "    }\n",
       "</style>\n",
       "<table border=\"1\" class=\"dataframe\">\n",
       "  <thead>\n",
       "    <tr style=\"text-align: right;\">\n",
       "      <th></th>\n",
       "      <th>values</th>\n",
       "    </tr>\n",
       "  </thead>\n",
       "  <tbody>\n",
       "    <tr>\n",
       "      <th>0</th>\n",
       "      <td>1</td>\n",
       "    </tr>\n",
       "    <tr>\n",
       "      <th>1</th>\n",
       "      <td>2</td>\n",
       "    </tr>\n",
       "    <tr>\n",
       "      <th>2</th>\n",
       "      <td>3</td>\n",
       "    </tr>\n",
       "    <tr>\n",
       "      <th>3</th>\n",
       "      <td>1</td>\n",
       "    </tr>\n",
       "    <tr>\n",
       "      <th>4</th>\n",
       "      <td>2</td>\n",
       "    </tr>\n",
       "    <tr>\n",
       "      <th>5</th>\n",
       "      <td>3</td>\n",
       "    </tr>\n",
       "    <tr>\n",
       "      <th>6</th>\n",
       "      <td>4</td>\n",
       "    </tr>\n",
       "    <tr>\n",
       "      <th>7</th>\n",
       "      <td>2</td>\n",
       "    </tr>\n",
       "    <tr>\n",
       "      <th>8</th>\n",
       "      <td>3</td>\n",
       "    </tr>\n",
       "    <tr>\n",
       "      <th>9</th>\n",
       "      <td>5</td>\n",
       "    </tr>\n",
       "    <tr>\n",
       "      <th>10</th>\n",
       "      <td>6</td>\n",
       "    </tr>\n",
       "    <tr>\n",
       "      <th>11</th>\n",
       "      <td>7</td>\n",
       "    </tr>\n",
       "    <tr>\n",
       "      <th>12</th>\n",
       "      <td>8</td>\n",
       "    </tr>\n",
       "    <tr>\n",
       "      <th>13</th>\n",
       "      <td>8</td>\n",
       "    </tr>\n",
       "    <tr>\n",
       "      <th>14</th>\n",
       "      <td>9</td>\n",
       "    </tr>\n",
       "    <tr>\n",
       "      <th>15</th>\n",
       "      <td>8</td>\n",
       "    </tr>\n",
       "    <tr>\n",
       "      <th>16</th>\n",
       "      <td>9</td>\n",
       "    </tr>\n",
       "    <tr>\n",
       "      <th>17</th>\n",
       "      <td>10</td>\n",
       "    </tr>\n",
       "    <tr>\n",
       "      <th>18</th>\n",
       "      <td>12</td>\n",
       "    </tr>\n",
       "    <tr>\n",
       "      <th>19</th>\n",
       "      <td>20</td>\n",
       "    </tr>\n",
       "    <tr>\n",
       "      <th>20</th>\n",
       "      <td>20</td>\n",
       "    </tr>\n",
       "    <tr>\n",
       "      <th>21</th>\n",
       "      <td>20</td>\n",
       "    </tr>\n",
       "    <tr>\n",
       "      <th>22</th>\n",
       "      <td>20</td>\n",
       "    </tr>\n",
       "  </tbody>\n",
       "</table>\n",
       "</div>"
      ],
      "text/plain": [
       "    values\n",
       "0        1\n",
       "1        2\n",
       "2        3\n",
       "3        1\n",
       "4        2\n",
       "5        3\n",
       "6        4\n",
       "7        2\n",
       "8        3\n",
       "9        5\n",
       "10       6\n",
       "11       7\n",
       "12       8\n",
       "13       8\n",
       "14       9\n",
       "15       8\n",
       "16       9\n",
       "17      10\n",
       "18      12\n",
       "19      20\n",
       "20      20\n",
       "21      20\n",
       "22      20"
      ]
     },
     "execution_count": 2464,
     "metadata": {},
     "output_type": "execute_result"
    }
   ],
   "source": [
    "#created the list into a table format\n",
    "import pandas as pd\n",
    "A=pd.DataFrame(data={'values': [1,2,3,1,2,3,4,2,3,5,6,7,8,8,9,8,9,10,12,20,20,20,20]})\n",
    "A"
   ]
  },
  {
   "cell_type": "code",
   "execution_count": 2465,
   "id": "0ef1a23b",
   "metadata": {},
   "outputs": [
    {
     "data": {
      "text/plain": [
       "values    7.956522\n",
       "dtype: float64"
      ]
     },
     "execution_count": 2465,
     "metadata": {},
     "output_type": "execute_result"
    }
   ],
   "source": [
    "#mean using pandas\n",
    "A.mean()\n",
    "\n",
    "# To show answer"
   ]
  },
  {
   "cell_type": "code",
   "execution_count": 2466,
   "id": "b7576db7",
   "metadata": {},
   "outputs": [
    {
     "data": {
      "text/html": [
       "<div>\n",
       "<style scoped>\n",
       "    .dataframe tbody tr th:only-of-type {\n",
       "        vertical-align: middle;\n",
       "    }\n",
       "\n",
       "    .dataframe tbody tr th {\n",
       "        vertical-align: top;\n",
       "    }\n",
       "\n",
       "    .dataframe thead th {\n",
       "        text-align: right;\n",
       "    }\n",
       "</style>\n",
       "<table border=\"1\" class=\"dataframe\">\n",
       "  <thead>\n",
       "    <tr style=\"text-align: right;\">\n",
       "      <th></th>\n",
       "      <th>values</th>\n",
       "    </tr>\n",
       "  </thead>\n",
       "  <tbody>\n",
       "    <tr>\n",
       "      <th>count</th>\n",
       "      <td>23.000000</td>\n",
       "    </tr>\n",
       "    <tr>\n",
       "      <th>mean</th>\n",
       "      <td>7.956522</td>\n",
       "    </tr>\n",
       "    <tr>\n",
       "      <th>std</th>\n",
       "      <td>6.427768</td>\n",
       "    </tr>\n",
       "    <tr>\n",
       "      <th>min</th>\n",
       "      <td>1.000000</td>\n",
       "    </tr>\n",
       "    <tr>\n",
       "      <th>25%</th>\n",
       "      <td>3.000000</td>\n",
       "    </tr>\n",
       "    <tr>\n",
       "      <th>50%</th>\n",
       "      <td>7.000000</td>\n",
       "    </tr>\n",
       "    <tr>\n",
       "      <th>75%</th>\n",
       "      <td>9.500000</td>\n",
       "    </tr>\n",
       "    <tr>\n",
       "      <th>max</th>\n",
       "      <td>20.000000</td>\n",
       "    </tr>\n",
       "  </tbody>\n",
       "</table>\n",
       "</div>"
      ],
      "text/plain": [
       "          values\n",
       "count  23.000000\n",
       "mean    7.956522\n",
       "std     6.427768\n",
       "min     1.000000\n",
       "25%     3.000000\n",
       "50%     7.000000\n",
       "75%     9.500000\n",
       "max    20.000000"
      ]
     },
     "execution_count": 2466,
     "metadata": {},
     "output_type": "execute_result"
    }
   ],
   "source": [
    "A.describe()"
   ]
  },
  {
   "cell_type": "code",
   "execution_count": 2467,
   "id": "8f958291",
   "metadata": {},
   "outputs": [
    {
     "data": {
      "text/plain": [
       "7.956521739130435"
      ]
     },
     "execution_count": 2467,
     "metadata": {},
     "output_type": "execute_result"
    }
   ],
   "source": [
    "#mean \n",
    "\n",
    "import numpy as np\n",
    "B=[1,2,3,1,2,3,4,2,3,5,6,7,8,8,9,8,9,10,12,20,20,20,20]\n",
    "\n",
    "#using numpy\n",
    "np.mean(B)"
   ]
  },
  {
   "cell_type": "code",
   "execution_count": 2468,
   "id": "42ac76a7",
   "metadata": {},
   "outputs": [
    {
     "name": "stdout",
     "output_type": "stream",
     "text": [
      "mean :  7.956521739130435\n"
     ]
    }
   ],
   "source": [
    "print(\"mean : \", np.mean(B))"
   ]
  },
  {
   "cell_type": "code",
   "execution_count": 2469,
   "id": "f2dd37cc",
   "metadata": {},
   "outputs": [
    {
     "data": {
      "text/plain": [
       "values    7.0\n",
       "dtype: float64"
      ]
     },
     "execution_count": 2469,
     "metadata": {},
     "output_type": "execute_result"
    }
   ],
   "source": [
    "#median\n",
    "#using pandas\n",
    "A.median()"
   ]
  },
  {
   "cell_type": "code",
   "execution_count": 2470,
   "id": "bfcc6f15",
   "metadata": {},
   "outputs": [
    {
     "data": {
      "text/html": [
       "<div>\n",
       "<style scoped>\n",
       "    .dataframe tbody tr th:only-of-type {\n",
       "        vertical-align: middle;\n",
       "    }\n",
       "\n",
       "    .dataframe tbody tr th {\n",
       "        vertical-align: top;\n",
       "    }\n",
       "\n",
       "    .dataframe thead th {\n",
       "        text-align: right;\n",
       "    }\n",
       "</style>\n",
       "<table border=\"1\" class=\"dataframe\">\n",
       "  <thead>\n",
       "    <tr style=\"text-align: right;\">\n",
       "      <th></th>\n",
       "      <th>values</th>\n",
       "    </tr>\n",
       "  </thead>\n",
       "  <tbody>\n",
       "    <tr>\n",
       "      <th>count</th>\n",
       "      <td>23.000000</td>\n",
       "    </tr>\n",
       "    <tr>\n",
       "      <th>mean</th>\n",
       "      <td>7.956522</td>\n",
       "    </tr>\n",
       "    <tr>\n",
       "      <th>std</th>\n",
       "      <td>6.427768</td>\n",
       "    </tr>\n",
       "    <tr>\n",
       "      <th>min</th>\n",
       "      <td>1.000000</td>\n",
       "    </tr>\n",
       "    <tr>\n",
       "      <th>25%</th>\n",
       "      <td>3.000000</td>\n",
       "    </tr>\n",
       "    <tr>\n",
       "      <th>50%</th>\n",
       "      <td>7.000000</td>\n",
       "    </tr>\n",
       "    <tr>\n",
       "      <th>75%</th>\n",
       "      <td>9.500000</td>\n",
       "    </tr>\n",
       "    <tr>\n",
       "      <th>max</th>\n",
       "      <td>20.000000</td>\n",
       "    </tr>\n",
       "  </tbody>\n",
       "</table>\n",
       "</div>"
      ],
      "text/plain": [
       "          values\n",
       "count  23.000000\n",
       "mean    7.956522\n",
       "std     6.427768\n",
       "min     1.000000\n",
       "25%     3.000000\n",
       "50%     7.000000\n",
       "75%     9.500000\n",
       "max    20.000000"
      ]
     },
     "execution_count": 2470,
     "metadata": {},
     "output_type": "execute_result"
    }
   ],
   "source": [
    "A.describe()"
   ]
  },
  {
   "cell_type": "code",
   "execution_count": 2471,
   "id": "8ea1cc13",
   "metadata": {},
   "outputs": [
    {
     "data": {
      "text/plain": [
       "7.0"
      ]
     },
     "execution_count": 2471,
     "metadata": {},
     "output_type": "execute_result"
    }
   ],
   "source": [
    "#median\n",
    "B=[1,2,3,1,2,3,4,2,3,5,6,7,8,8,9,8,9,10,12,20,20,20,20]\n",
    "\n",
    "#using numpy\n",
    "np.median(B)"
   ]
  },
  {
   "cell_type": "code",
   "execution_count": 2472,
   "id": "7b6e9fe9",
   "metadata": {},
   "outputs": [
    {
     "name": "stdout",
     "output_type": "stream",
     "text": [
      "median :  7.0\n"
     ]
    }
   ],
   "source": [
    "print(\"median : \", np.median(B))"
   ]
  },
  {
   "cell_type": "code",
   "execution_count": 2473,
   "id": "8cb201ee",
   "metadata": {},
   "outputs": [
    {
     "data": {
      "text/html": [
       "<div>\n",
       "<style scoped>\n",
       "    .dataframe tbody tr th:only-of-type {\n",
       "        vertical-align: middle;\n",
       "    }\n",
       "\n",
       "    .dataframe tbody tr th {\n",
       "        vertical-align: top;\n",
       "    }\n",
       "\n",
       "    .dataframe thead th {\n",
       "        text-align: right;\n",
       "    }\n",
       "</style>\n",
       "<table border=\"1\" class=\"dataframe\">\n",
       "  <thead>\n",
       "    <tr style=\"text-align: right;\">\n",
       "      <th></th>\n",
       "      <th>values</th>\n",
       "    </tr>\n",
       "  </thead>\n",
       "  <tbody>\n",
       "    <tr>\n",
       "      <th>0</th>\n",
       "      <td>20</td>\n",
       "    </tr>\n",
       "  </tbody>\n",
       "</table>\n",
       "</div>"
      ],
      "text/plain": [
       "   values\n",
       "0      20"
      ]
     },
     "execution_count": 2473,
     "metadata": {},
     "output_type": "execute_result"
    }
   ],
   "source": [
    "#using pandas\n",
    "A.mode()  "
   ]
  },
  {
   "cell_type": "code",
   "execution_count": 2474,
   "id": "0d6ffc60",
   "metadata": {},
   "outputs": [],
   "source": [
    "#mode\n",
    "#numpy does not has an attribute mode"
   ]
  },
  {
   "cell_type": "code",
   "execution_count": 2475,
   "id": "2f480045",
   "metadata": {},
   "outputs": [],
   "source": [
    "#descriptive statistics\n",
    "#measure of dispersion\n",
    "#variance and std deviation"
   ]
  },
  {
   "cell_type": "markdown",
   "id": "f0f0829b",
   "metadata": {},
   "source": [
    "## Measure of Dispersion"
   ]
  },
  {
   "cell_type": "markdown",
   "id": "b363a348",
   "metadata": {},
   "source": [
    "### Variance"
   ]
  },
  {
   "cell_type": "code",
   "execution_count": 2476,
   "id": "169402ec",
   "metadata": {},
   "outputs": [
    {
     "data": {
      "text/plain": [
       "values    41.316206\n",
       "dtype: float64"
      ]
     },
     "execution_count": 2476,
     "metadata": {},
     "output_type": "execute_result"
    }
   ],
   "source": [
    "#variance\n",
    "A.var()"
   ]
  },
  {
   "cell_type": "code",
   "execution_count": 2477,
   "id": "a8bf61d0",
   "metadata": {},
   "outputs": [],
   "source": [
    "#variance"
   ]
  },
  {
   "cell_type": "code",
   "execution_count": 2478,
   "id": "9340933b",
   "metadata": {},
   "outputs": [
    {
     "data": {
      "text/plain": [
       "39.519848771266545"
      ]
     },
     "execution_count": 2478,
     "metadata": {},
     "output_type": "execute_result"
    }
   ],
   "source": [
    "B=[1,2,3,1,2,3,4,2,3,5,6,7,8,8,9,8,9,10,12,20,20,20,20]\n",
    "\n",
    "#using numpy\n",
    "np.var(B)\n",
    "     "
   ]
  },
  {
   "cell_type": "code",
   "execution_count": 2479,
   "id": "40e194cc",
   "metadata": {},
   "outputs": [
    {
     "name": "stdout",
     "output_type": "stream",
     "text": [
      "Variance :  39.519848771266545\n"
     ]
    }
   ],
   "source": [
    "\n",
    "print(\"Variance : \", np.var(B))"
   ]
  },
  {
   "cell_type": "markdown",
   "id": "05423d0b",
   "metadata": {},
   "source": [
    "## Standard deviation"
   ]
  },
  {
   "cell_type": "code",
   "execution_count": 2480,
   "id": "0e45ca5b",
   "metadata": {},
   "outputs": [
    {
     "data": {
      "text/plain": [
       "values    6.427768\n",
       "dtype: float64"
      ]
     },
     "execution_count": 2480,
     "metadata": {},
     "output_type": "execute_result"
    }
   ],
   "source": [
    "#using pandas\n",
    "A.std()"
   ]
  },
  {
   "cell_type": "code",
   "execution_count": 2481,
   "id": "f4cb6659",
   "metadata": {},
   "outputs": [
    {
     "data": {
      "text/plain": [
       "6.286481430121825"
      ]
     },
     "execution_count": 2481,
     "metadata": {},
     "output_type": "execute_result"
    }
   ],
   "source": [
    "\n",
    "#standard deviation\n",
    "B=[1,2,3,1,2,3,4,2,3,5,6,7,8,8,9,8,9,10,12,20,20,20,20]\n",
    "\n",
    "#using numpy\n",
    "np.std(B)"
   ]
  },
  {
   "cell_type": "code",
   "execution_count": 2482,
   "id": "a9a22230",
   "metadata": {},
   "outputs": [
    {
     "name": "stdout",
     "output_type": "stream",
     "text": [
      "Variance :  6.286481430121825\n"
     ]
    }
   ],
   "source": [
    "\n",
    "print(\"Variance : \", np.std(B))"
   ]
  },
  {
   "cell_type": "markdown",
   "id": "0945c333",
   "metadata": {},
   "source": [
    "# 5 number Summary\n",
    "\n",
    "\n",
    "Minimum\n",
    "\n",
    "\n",
    "1st quartile -Q1\n",
    "\n",
    "\n",
    "2nd quartile -Q2(Median)\n",
    "\n",
    "\n",
    "\n",
    "3rd quartile -Q3\n",
    "\n",
    "\n",
    "Maximum\n"
   ]
  },
  {
   "cell_type": "markdown",
   "id": "02475554",
   "metadata": {},
   "source": [
    "### Minimum"
   ]
  },
  {
   "cell_type": "code",
   "execution_count": 2483,
   "id": "1475d1c7",
   "metadata": {},
   "outputs": [
    {
     "data": {
      "text/plain": [
       "values    1\n",
       "dtype: int64"
      ]
     },
     "execution_count": 2483,
     "metadata": {},
     "output_type": "execute_result"
    }
   ],
   "source": [
    "#Minimum using pandas\n",
    "\n",
    "A.min() \n"
   ]
  },
  {
   "cell_type": "code",
   "execution_count": 2484,
   "id": "95b6fe27",
   "metadata": {},
   "outputs": [
    {
     "data": {
      "text/plain": [
       "1"
      ]
     },
     "execution_count": 2484,
     "metadata": {},
     "output_type": "execute_result"
    }
   ],
   "source": [
    "\n",
    "#Minimum\n",
    "B=[1,2,3,1,2,3,4,2,3,5,6,7,8,8,9,8,9,10,12,20,20,20,20]\n",
    "\n",
    "#using numpy\n",
    "np.min(B)"
   ]
  },
  {
   "cell_type": "code",
   "execution_count": 2485,
   "id": "80280237",
   "metadata": {},
   "outputs": [
    {
     "name": "stdout",
     "output_type": "stream",
     "text": [
      "Minimum :  1\n"
     ]
    }
   ],
   "source": [
    "\n",
    "print(\"Minimum : \", np.min(B))"
   ]
  },
  {
   "cell_type": "markdown",
   "id": "28c77771",
   "metadata": {},
   "source": [
    "## Quartiles"
   ]
  },
  {
   "cell_type": "code",
   "execution_count": 2486,
   "id": "5e3a4d89",
   "metadata": {},
   "outputs": [
    {
     "data": {
      "text/html": [
       "<div>\n",
       "<style scoped>\n",
       "    .dataframe tbody tr th:only-of-type {\n",
       "        vertical-align: middle;\n",
       "    }\n",
       "\n",
       "    .dataframe tbody tr th {\n",
       "        vertical-align: top;\n",
       "    }\n",
       "\n",
       "    .dataframe thead th {\n",
       "        text-align: right;\n",
       "    }\n",
       "</style>\n",
       "<table border=\"1\" class=\"dataframe\">\n",
       "  <thead>\n",
       "    <tr style=\"text-align: right;\">\n",
       "      <th></th>\n",
       "      <th>values</th>\n",
       "    </tr>\n",
       "  </thead>\n",
       "  <tbody>\n",
       "    <tr>\n",
       "      <th>0.25</th>\n",
       "      <td>3.0</td>\n",
       "    </tr>\n",
       "    <tr>\n",
       "      <th>0.50</th>\n",
       "      <td>7.0</td>\n",
       "    </tr>\n",
       "    <tr>\n",
       "      <th>0.75</th>\n",
       "      <td>9.5</td>\n",
       "    </tr>\n",
       "  </tbody>\n",
       "</table>\n",
       "</div>"
      ],
      "text/plain": [
       "      values\n",
       "0.25     3.0\n",
       "0.50     7.0\n",
       "0.75     9.5"
      ]
     },
     "execution_count": 2486,
     "metadata": {},
     "output_type": "execute_result"
    }
   ],
   "source": [
    "#using pandas\n",
    "A.quantile([0.25,0.50,0.75]) "
   ]
  },
  {
   "cell_type": "code",
   "execution_count": 2487,
   "id": "5d17452b",
   "metadata": {},
   "outputs": [
    {
     "data": {
      "text/html": [
       "<div>\n",
       "<style scoped>\n",
       "    .dataframe tbody tr th:only-of-type {\n",
       "        vertical-align: middle;\n",
       "    }\n",
       "\n",
       "    .dataframe tbody tr th {\n",
       "        vertical-align: top;\n",
       "    }\n",
       "\n",
       "    .dataframe thead th {\n",
       "        text-align: right;\n",
       "    }\n",
       "</style>\n",
       "<table border=\"1\" class=\"dataframe\">\n",
       "  <thead>\n",
       "    <tr style=\"text-align: right;\">\n",
       "      <th></th>\n",
       "      <th>values</th>\n",
       "    </tr>\n",
       "  </thead>\n",
       "  <tbody>\n",
       "    <tr>\n",
       "      <th>count</th>\n",
       "      <td>23.000000</td>\n",
       "    </tr>\n",
       "    <tr>\n",
       "      <th>mean</th>\n",
       "      <td>7.956522</td>\n",
       "    </tr>\n",
       "    <tr>\n",
       "      <th>std</th>\n",
       "      <td>6.427768</td>\n",
       "    </tr>\n",
       "    <tr>\n",
       "      <th>min</th>\n",
       "      <td>1.000000</td>\n",
       "    </tr>\n",
       "    <tr>\n",
       "      <th>25%</th>\n",
       "      <td>3.000000</td>\n",
       "    </tr>\n",
       "    <tr>\n",
       "      <th>50%</th>\n",
       "      <td>7.000000</td>\n",
       "    </tr>\n",
       "    <tr>\n",
       "      <th>75%</th>\n",
       "      <td>9.500000</td>\n",
       "    </tr>\n",
       "    <tr>\n",
       "      <th>max</th>\n",
       "      <td>20.000000</td>\n",
       "    </tr>\n",
       "  </tbody>\n",
       "</table>\n",
       "</div>"
      ],
      "text/plain": [
       "          values\n",
       "count  23.000000\n",
       "mean    7.956522\n",
       "std     6.427768\n",
       "min     1.000000\n",
       "25%     3.000000\n",
       "50%     7.000000\n",
       "75%     9.500000\n",
       "max    20.000000"
      ]
     },
     "execution_count": 2487,
     "metadata": {},
     "output_type": "execute_result"
    }
   ],
   "source": [
    "\n",
    "A.describe()"
   ]
  },
  {
   "cell_type": "code",
   "execution_count": 2488,
   "id": "c7711ba0",
   "metadata": {},
   "outputs": [
    {
     "data": {
      "text/plain": [
       "array([3. , 7. , 9.5])"
      ]
     },
     "execution_count": 2488,
     "metadata": {},
     "output_type": "execute_result"
    }
   ],
   "source": [
    "\n",
    "#quartiles\n",
    "B=[1,2,3,1,2,3,4,2,3,5,6,7,8,8,9,8,9,10,12,20,20,20,20]\n",
    "\n",
    "#using numpy\n",
    "np.quantile(B,[0.25,0.50,0.75])"
   ]
  },
  {
   "cell_type": "code",
   "execution_count": 2489,
   "id": "0ab7dfee",
   "metadata": {},
   "outputs": [
    {
     "name": "stdout",
     "output_type": "stream",
     "text": [
      "Q1 :  3.0 Q2 :  7.0 Q3 :  9.5\n"
     ]
    }
   ],
   "source": [
    "\n",
    "print(\"Q1 : \", np.quantile(B,0.25),\n",
    "      \"Q2 : \", np.quantile(B,0.50),\n",
    "      \"Q3 : \", np.quantile(B,0.75))"
   ]
  },
  {
   "cell_type": "markdown",
   "id": "43480761",
   "metadata": {},
   "source": [
    "## Maximum"
   ]
  },
  {
   "cell_type": "code",
   "execution_count": 2490,
   "id": "d50dafaf",
   "metadata": {},
   "outputs": [
    {
     "data": {
      "text/plain": [
       "values    20\n",
       "dtype: int64"
      ]
     },
     "execution_count": 2490,
     "metadata": {},
     "output_type": "execute_result"
    }
   ],
   "source": [
    "\n",
    "#using pandas\n",
    "A.max()  "
   ]
  },
  {
   "cell_type": "code",
   "execution_count": 2491,
   "id": "1354e0b3",
   "metadata": {},
   "outputs": [
    {
     "data": {
      "text/plain": [
       "20"
      ]
     },
     "execution_count": 2491,
     "metadata": {},
     "output_type": "execute_result"
    }
   ],
   "source": [
    "#Maximum\n",
    "B=[1,2,3,1,2,3,4,2,3,5,6,7,8,8,9,8,9,10,12,20,20,20,20]\n",
    "\n",
    "#using numpy\n",
    "np.max(B)"
   ]
  },
  {
   "cell_type": "code",
   "execution_count": 2492,
   "id": "bb8e0fab",
   "metadata": {},
   "outputs": [
    {
     "name": "stdout",
     "output_type": "stream",
     "text": [
      "Maximum :  20\n"
     ]
    }
   ],
   "source": [
    "print(\"Maximum : \", np.max(B))"
   ]
  },
  {
   "cell_type": "markdown",
   "id": "7fe1cb53",
   "metadata": {},
   "source": [
    "## Range"
   ]
  },
  {
   "cell_type": "code",
   "execution_count": 2493,
   "id": "789fc686",
   "metadata": {},
   "outputs": [
    {
     "data": {
      "text/plain": [
       "values    19\n",
       "dtype: int64"
      ]
     },
     "execution_count": 2493,
     "metadata": {},
     "output_type": "execute_result"
    }
   ],
   "source": [
    "#using pandas\n",
    "Range = A.max()-A.min()\n",
    "Range\n",
    "     "
   ]
  },
  {
   "cell_type": "code",
   "execution_count": 2494,
   "id": "a85a2160",
   "metadata": {},
   "outputs": [
    {
     "data": {
      "text/plain": [
       "19"
      ]
     },
     "execution_count": 2494,
     "metadata": {},
     "output_type": "execute_result"
    }
   ],
   "source": [
    "\n",
    "#Range\n",
    "#using numpy\n",
    "\n",
    "Ran=np.max(B) - np.min(B)\n",
    "Ran"
   ]
  },
  {
   "cell_type": "markdown",
   "id": "724d004c",
   "metadata": {},
   "source": [
    "## IQR"
   ]
  },
  {
   "cell_type": "code",
   "execution_count": 2495,
   "id": "92c5e859",
   "metadata": {},
   "outputs": [
    {
     "data": {
      "text/plain": [
       "values    6.5\n",
       "dtype: float64"
      ]
     },
     "execution_count": 2495,
     "metadata": {},
     "output_type": "execute_result"
    }
   ],
   "source": [
    "#using pandas\n",
    "iqr=A.quantile(0.75)-A.quantile(0.25)\n",
    "iqr"
   ]
  },
  {
   "cell_type": "code",
   "execution_count": 2496,
   "id": "0154e42a",
   "metadata": {},
   "outputs": [
    {
     "data": {
      "text/plain": [
       "6.5"
      ]
     },
     "execution_count": 2496,
     "metadata": {},
     "output_type": "execute_result"
    }
   ],
   "source": [
    "\n",
    "#IQR\n",
    "#using numpy\n",
    "IQR = np.quantile(B,0.75)-np.quantile(B,0.25)\n",
    "IQR"
   ]
  },
  {
   "cell_type": "markdown",
   "id": "2cecf47f",
   "metadata": {},
   "source": [
    "## QD"
   ]
  },
  {
   "cell_type": "code",
   "execution_count": 2497,
   "id": "2c94d69a",
   "metadata": {},
   "outputs": [
    {
     "data": {
      "text/plain": [
       "values    3.25\n",
       "dtype: float64"
      ]
     },
     "execution_count": 2497,
     "metadata": {},
     "output_type": "execute_result"
    }
   ],
   "source": [
    "#QD\n",
    "#using pandas\n",
    "qd =iqr/2\n",
    "qd"
   ]
  },
  {
   "cell_type": "code",
   "execution_count": 2498,
   "id": "a8fe7e07",
   "metadata": {},
   "outputs": [
    {
     "data": {
      "text/plain": [
       "3.25"
      ]
     },
     "execution_count": 2498,
     "metadata": {},
     "output_type": "execute_result"
    }
   ],
   "source": [
    "\n",
    "#QD\n",
    "#using numpy\n",
    "QD = IQR/2\n",
    "QD\n"
   ]
  },
  {
   "cell_type": "markdown",
   "id": "9e85a624",
   "metadata": {},
   "source": [
    "# Example 5"
   ]
  },
  {
   "cell_type": "markdown",
   "id": "c8f3d4ae",
   "metadata": {},
   "source": [
    "## Measure of central tendency"
   ]
  },
  {
   "cell_type": "code",
   "execution_count": 2499,
   "id": "40776993",
   "metadata": {},
   "outputs": [
    {
     "data": {
      "text/html": [
       "<div>\n",
       "<style scoped>\n",
       "    .dataframe tbody tr th:only-of-type {\n",
       "        vertical-align: middle;\n",
       "    }\n",
       "\n",
       "    .dataframe tbody tr th {\n",
       "        vertical-align: top;\n",
       "    }\n",
       "\n",
       "    .dataframe thead th {\n",
       "        text-align: right;\n",
       "    }\n",
       "</style>\n",
       "<table border=\"1\" class=\"dataframe\">\n",
       "  <thead>\n",
       "    <tr style=\"text-align: right;\">\n",
       "      <th></th>\n",
       "      <th>values</th>\n",
       "    </tr>\n",
       "  </thead>\n",
       "  <tbody>\n",
       "    <tr>\n",
       "      <th>0</th>\n",
       "      <td>1</td>\n",
       "    </tr>\n",
       "    <tr>\n",
       "      <th>1</th>\n",
       "      <td>2</td>\n",
       "    </tr>\n",
       "    <tr>\n",
       "      <th>2</th>\n",
       "      <td>3</td>\n",
       "    </tr>\n",
       "    <tr>\n",
       "      <th>3</th>\n",
       "      <td>1</td>\n",
       "    </tr>\n",
       "    <tr>\n",
       "      <th>4</th>\n",
       "      <td>2</td>\n",
       "    </tr>\n",
       "    <tr>\n",
       "      <th>5</th>\n",
       "      <td>3</td>\n",
       "    </tr>\n",
       "    <tr>\n",
       "      <th>6</th>\n",
       "      <td>4</td>\n",
       "    </tr>\n",
       "    <tr>\n",
       "      <th>7</th>\n",
       "      <td>2</td>\n",
       "    </tr>\n",
       "    <tr>\n",
       "      <th>8</th>\n",
       "      <td>3</td>\n",
       "    </tr>\n",
       "    <tr>\n",
       "      <th>9</th>\n",
       "      <td>5</td>\n",
       "    </tr>\n",
       "    <tr>\n",
       "      <th>10</th>\n",
       "      <td>6</td>\n",
       "    </tr>\n",
       "    <tr>\n",
       "      <th>11</th>\n",
       "      <td>7</td>\n",
       "    </tr>\n",
       "    <tr>\n",
       "      <th>12</th>\n",
       "      <td>8</td>\n",
       "    </tr>\n",
       "    <tr>\n",
       "      <th>13</th>\n",
       "      <td>8</td>\n",
       "    </tr>\n",
       "    <tr>\n",
       "      <th>14</th>\n",
       "      <td>9</td>\n",
       "    </tr>\n",
       "    <tr>\n",
       "      <th>15</th>\n",
       "      <td>8</td>\n",
       "    </tr>\n",
       "    <tr>\n",
       "      <th>16</th>\n",
       "      <td>9</td>\n",
       "    </tr>\n",
       "    <tr>\n",
       "      <th>17</th>\n",
       "      <td>10</td>\n",
       "    </tr>\n",
       "    <tr>\n",
       "      <th>18</th>\n",
       "      <td>12</td>\n",
       "    </tr>\n",
       "    <tr>\n",
       "      <th>19</th>\n",
       "      <td>20</td>\n",
       "    </tr>\n",
       "    <tr>\n",
       "      <th>20</th>\n",
       "      <td>20</td>\n",
       "    </tr>\n",
       "    <tr>\n",
       "      <th>21</th>\n",
       "      <td>20</td>\n",
       "    </tr>\n",
       "    <tr>\n",
       "      <th>22</th>\n",
       "      <td>20</td>\n",
       "    </tr>\n",
       "    <tr>\n",
       "      <th>23</th>\n",
       "      <td>35</td>\n",
       "    </tr>\n",
       "  </tbody>\n",
       "</table>\n",
       "</div>"
      ],
      "text/plain": [
       "    values\n",
       "0        1\n",
       "1        2\n",
       "2        3\n",
       "3        1\n",
       "4        2\n",
       "5        3\n",
       "6        4\n",
       "7        2\n",
       "8        3\n",
       "9        5\n",
       "10       6\n",
       "11       7\n",
       "12       8\n",
       "13       8\n",
       "14       9\n",
       "15       8\n",
       "16       9\n",
       "17      10\n",
       "18      12\n",
       "19      20\n",
       "20      20\n",
       "21      20\n",
       "22      20\n",
       "23      35"
      ]
     },
     "execution_count": 2499,
     "metadata": {},
     "output_type": "execute_result"
    }
   ],
   "source": [
    "#created the list into a table format\n",
    "import pandas as pd\n",
    "A=pd.DataFrame(data={'values': [1,2,3,1,2,3,4,2,3,5,6,7,8,8,9,8,9,10,12,20,20,20,20,35]})\n",
    "A"
   ]
  },
  {
   "cell_type": "code",
   "execution_count": 2500,
   "id": "bb01c1bf",
   "metadata": {},
   "outputs": [
    {
     "data": {
      "text/plain": [
       "values    9.083333\n",
       "dtype: float64"
      ]
     },
     "execution_count": 2500,
     "metadata": {},
     "output_type": "execute_result"
    }
   ],
   "source": [
    "#mean using pandas\n",
    "A.mean()\n",
    "\n",
    "# To show answer"
   ]
  },
  {
   "cell_type": "code",
   "execution_count": 2501,
   "id": "5296e4c0",
   "metadata": {},
   "outputs": [
    {
     "data": {
      "text/html": [
       "<div>\n",
       "<style scoped>\n",
       "    .dataframe tbody tr th:only-of-type {\n",
       "        vertical-align: middle;\n",
       "    }\n",
       "\n",
       "    .dataframe tbody tr th {\n",
       "        vertical-align: top;\n",
       "    }\n",
       "\n",
       "    .dataframe thead th {\n",
       "        text-align: right;\n",
       "    }\n",
       "</style>\n",
       "<table border=\"1\" class=\"dataframe\">\n",
       "  <thead>\n",
       "    <tr style=\"text-align: right;\">\n",
       "      <th></th>\n",
       "      <th>values</th>\n",
       "    </tr>\n",
       "  </thead>\n",
       "  <tbody>\n",
       "    <tr>\n",
       "      <th>count</th>\n",
       "      <td>24.000000</td>\n",
       "    </tr>\n",
       "    <tr>\n",
       "      <th>mean</th>\n",
       "      <td>9.083333</td>\n",
       "    </tr>\n",
       "    <tr>\n",
       "      <th>std</th>\n",
       "      <td>8.366167</td>\n",
       "    </tr>\n",
       "    <tr>\n",
       "      <th>min</th>\n",
       "      <td>1.000000</td>\n",
       "    </tr>\n",
       "    <tr>\n",
       "      <th>25%</th>\n",
       "      <td>3.000000</td>\n",
       "    </tr>\n",
       "    <tr>\n",
       "      <th>50%</th>\n",
       "      <td>7.500000</td>\n",
       "    </tr>\n",
       "    <tr>\n",
       "      <th>75%</th>\n",
       "      <td>10.500000</td>\n",
       "    </tr>\n",
       "    <tr>\n",
       "      <th>max</th>\n",
       "      <td>35.000000</td>\n",
       "    </tr>\n",
       "  </tbody>\n",
       "</table>\n",
       "</div>"
      ],
      "text/plain": [
       "          values\n",
       "count  24.000000\n",
       "mean    9.083333\n",
       "std     8.366167\n",
       "min     1.000000\n",
       "25%     3.000000\n",
       "50%     7.500000\n",
       "75%    10.500000\n",
       "max    35.000000"
      ]
     },
     "execution_count": 2501,
     "metadata": {},
     "output_type": "execute_result"
    }
   ],
   "source": [
    "A.describe()"
   ]
  },
  {
   "cell_type": "code",
   "execution_count": 2502,
   "id": "5df5e3af",
   "metadata": {},
   "outputs": [
    {
     "data": {
      "text/plain": [
       "9.083333333333334"
      ]
     },
     "execution_count": 2502,
     "metadata": {},
     "output_type": "execute_result"
    }
   ],
   "source": [
    "#mean \n",
    "\n",
    "import numpy as np\n",
    "B=[1,2,3,1,2,3,4,2,3,5,6,7,8,8,9,8,9,10,12,20,20,20,20,35]\n",
    "\n",
    "#using numpy\n",
    "np.mean(B)"
   ]
  },
  {
   "cell_type": "code",
   "execution_count": 2503,
   "id": "98f5be44",
   "metadata": {},
   "outputs": [
    {
     "name": "stdout",
     "output_type": "stream",
     "text": [
      "mean :  9.083333333333334\n"
     ]
    }
   ],
   "source": [
    "print(\"mean : \", np.mean(B))"
   ]
  },
  {
   "cell_type": "code",
   "execution_count": 2504,
   "id": "a4d6646d",
   "metadata": {},
   "outputs": [
    {
     "data": {
      "text/plain": [
       "values    7.5\n",
       "dtype: float64"
      ]
     },
     "execution_count": 2504,
     "metadata": {},
     "output_type": "execute_result"
    }
   ],
   "source": [
    "#median\n",
    "#using pandas\n",
    "A.median()"
   ]
  },
  {
   "cell_type": "code",
   "execution_count": 2505,
   "id": "ed902761",
   "metadata": {},
   "outputs": [
    {
     "data": {
      "text/html": [
       "<div>\n",
       "<style scoped>\n",
       "    .dataframe tbody tr th:only-of-type {\n",
       "        vertical-align: middle;\n",
       "    }\n",
       "\n",
       "    .dataframe tbody tr th {\n",
       "        vertical-align: top;\n",
       "    }\n",
       "\n",
       "    .dataframe thead th {\n",
       "        text-align: right;\n",
       "    }\n",
       "</style>\n",
       "<table border=\"1\" class=\"dataframe\">\n",
       "  <thead>\n",
       "    <tr style=\"text-align: right;\">\n",
       "      <th></th>\n",
       "      <th>values</th>\n",
       "    </tr>\n",
       "  </thead>\n",
       "  <tbody>\n",
       "    <tr>\n",
       "      <th>count</th>\n",
       "      <td>24.000000</td>\n",
       "    </tr>\n",
       "    <tr>\n",
       "      <th>mean</th>\n",
       "      <td>9.083333</td>\n",
       "    </tr>\n",
       "    <tr>\n",
       "      <th>std</th>\n",
       "      <td>8.366167</td>\n",
       "    </tr>\n",
       "    <tr>\n",
       "      <th>min</th>\n",
       "      <td>1.000000</td>\n",
       "    </tr>\n",
       "    <tr>\n",
       "      <th>25%</th>\n",
       "      <td>3.000000</td>\n",
       "    </tr>\n",
       "    <tr>\n",
       "      <th>50%</th>\n",
       "      <td>7.500000</td>\n",
       "    </tr>\n",
       "    <tr>\n",
       "      <th>75%</th>\n",
       "      <td>10.500000</td>\n",
       "    </tr>\n",
       "    <tr>\n",
       "      <th>max</th>\n",
       "      <td>35.000000</td>\n",
       "    </tr>\n",
       "  </tbody>\n",
       "</table>\n",
       "</div>"
      ],
      "text/plain": [
       "          values\n",
       "count  24.000000\n",
       "mean    9.083333\n",
       "std     8.366167\n",
       "min     1.000000\n",
       "25%     3.000000\n",
       "50%     7.500000\n",
       "75%    10.500000\n",
       "max    35.000000"
      ]
     },
     "execution_count": 2505,
     "metadata": {},
     "output_type": "execute_result"
    }
   ],
   "source": [
    "A.describe()"
   ]
  },
  {
   "cell_type": "code",
   "execution_count": 2506,
   "id": "65d539dc",
   "metadata": {},
   "outputs": [
    {
     "data": {
      "text/plain": [
       "7.5"
      ]
     },
     "execution_count": 2506,
     "metadata": {},
     "output_type": "execute_result"
    }
   ],
   "source": [
    "#median\n",
    "B=[1,2,3,1,2,3,4,2,3,5,6,7,8,8,9,8,9,10,12,20,20,20,20,35]\n",
    "\n",
    "#using numpy\n",
    "np.median(B)"
   ]
  },
  {
   "cell_type": "code",
   "execution_count": 2507,
   "id": "fa7f1fae",
   "metadata": {},
   "outputs": [
    {
     "name": "stdout",
     "output_type": "stream",
     "text": [
      "median :  7.5\n"
     ]
    }
   ],
   "source": [
    "print(\"median : \", np.median(B))"
   ]
  },
  {
   "cell_type": "code",
   "execution_count": 2508,
   "id": "ec00d3d7",
   "metadata": {},
   "outputs": [
    {
     "data": {
      "text/html": [
       "<div>\n",
       "<style scoped>\n",
       "    .dataframe tbody tr th:only-of-type {\n",
       "        vertical-align: middle;\n",
       "    }\n",
       "\n",
       "    .dataframe tbody tr th {\n",
       "        vertical-align: top;\n",
       "    }\n",
       "\n",
       "    .dataframe thead th {\n",
       "        text-align: right;\n",
       "    }\n",
       "</style>\n",
       "<table border=\"1\" class=\"dataframe\">\n",
       "  <thead>\n",
       "    <tr style=\"text-align: right;\">\n",
       "      <th></th>\n",
       "      <th>values</th>\n",
       "    </tr>\n",
       "  </thead>\n",
       "  <tbody>\n",
       "    <tr>\n",
       "      <th>0</th>\n",
       "      <td>20</td>\n",
       "    </tr>\n",
       "  </tbody>\n",
       "</table>\n",
       "</div>"
      ],
      "text/plain": [
       "   values\n",
       "0      20"
      ]
     },
     "execution_count": 2508,
     "metadata": {},
     "output_type": "execute_result"
    }
   ],
   "source": [
    "#using pandas\n",
    "A.mode()  "
   ]
  },
  {
   "cell_type": "code",
   "execution_count": 2509,
   "id": "cf879a29",
   "metadata": {},
   "outputs": [],
   "source": [
    "#mode\n",
    "#numpy does not has an attribute mode"
   ]
  },
  {
   "cell_type": "code",
   "execution_count": 2510,
   "id": "50a4cd94",
   "metadata": {},
   "outputs": [],
   "source": [
    "#descriptive statistics\n",
    "#measure of dispersion\n",
    "#variance and std deviation"
   ]
  },
  {
   "cell_type": "markdown",
   "id": "dc2c99f8",
   "metadata": {},
   "source": [
    "## Measure of Dispersion"
   ]
  },
  {
   "cell_type": "markdown",
   "id": "71611fed",
   "metadata": {},
   "source": [
    "### Variance"
   ]
  },
  {
   "cell_type": "code",
   "execution_count": 2511,
   "id": "94b76b32",
   "metadata": {},
   "outputs": [
    {
     "data": {
      "text/plain": [
       "values    69.992754\n",
       "dtype: float64"
      ]
     },
     "execution_count": 2511,
     "metadata": {},
     "output_type": "execute_result"
    }
   ],
   "source": [
    "#variance\n",
    "A.var()\n",
    "\n",
    "\n"
   ]
  },
  {
   "cell_type": "code",
   "execution_count": 2512,
   "id": "01ac5c93",
   "metadata": {},
   "outputs": [],
   "source": [
    "\n",
    "#variance"
   ]
  },
  {
   "cell_type": "code",
   "execution_count": 2513,
   "id": "9b4b2d24",
   "metadata": {},
   "outputs": [
    {
     "data": {
      "text/plain": [
       "67.07638888888889"
      ]
     },
     "execution_count": 2513,
     "metadata": {},
     "output_type": "execute_result"
    }
   ],
   "source": [
    "B=[1,2,3,1,2,3,4,2,3,5,6,7,8,8,9,8,9,10,12,20,20,20,20,35]\n",
    "\n",
    "#using numpy\n",
    "np.var(B)\n",
    "     "
   ]
  },
  {
   "cell_type": "code",
   "execution_count": 2514,
   "id": "5c8f3d52",
   "metadata": {},
   "outputs": [
    {
     "name": "stdout",
     "output_type": "stream",
     "text": [
      "Variance :  67.07638888888889\n"
     ]
    }
   ],
   "source": [
    "\n",
    "print(\"Variance : \", np.var(B))"
   ]
  },
  {
   "cell_type": "markdown",
   "id": "9a6cca00",
   "metadata": {},
   "source": [
    "## Standard deviation"
   ]
  },
  {
   "cell_type": "code",
   "execution_count": 2515,
   "id": "01b2b876",
   "metadata": {},
   "outputs": [
    {
     "data": {
      "text/plain": [
       "values    8.366167\n",
       "dtype: float64"
      ]
     },
     "execution_count": 2515,
     "metadata": {},
     "output_type": "execute_result"
    }
   ],
   "source": [
    "#using pandas\n",
    "A.std()"
   ]
  },
  {
   "cell_type": "code",
   "execution_count": 2516,
   "id": "9f96f0ae",
   "metadata": {},
   "outputs": [
    {
     "data": {
      "text/plain": [
       "8.190017636665313"
      ]
     },
     "execution_count": 2516,
     "metadata": {},
     "output_type": "execute_result"
    }
   ],
   "source": [
    "\n",
    "#standard deviation\n",
    "B=[1,2,3,1,2,3,4,2,3,5,6,7,8,8,9,8,9,10,12,20,20,20,20,35]\n",
    "\n",
    "#using numpy\n",
    "np.std(B)"
   ]
  },
  {
   "cell_type": "code",
   "execution_count": 2517,
   "id": "253fd10d",
   "metadata": {},
   "outputs": [
    {
     "name": "stdout",
     "output_type": "stream",
     "text": [
      "Variance :  8.190017636665313\n"
     ]
    }
   ],
   "source": [
    "\n",
    "print(\"Variance : \", np.std(B))"
   ]
  },
  {
   "cell_type": "markdown",
   "id": "9276bd04",
   "metadata": {},
   "source": [
    "# 5 number Summary\n",
    "\n",
    "\n",
    "Minimum\n",
    "\n",
    "\n",
    "1st quartile -Q1\n",
    "\n",
    "\n",
    "2nd quartile -Q2(Median)\n",
    "\n",
    "\n",
    "\n",
    "3rd quartile -Q3\n",
    "\n",
    "\n",
    "Maximum\n"
   ]
  },
  {
   "cell_type": "markdown",
   "id": "ac157cd1",
   "metadata": {},
   "source": [
    "### Minimum"
   ]
  },
  {
   "cell_type": "code",
   "execution_count": 2518,
   "id": "f2b134e0",
   "metadata": {},
   "outputs": [
    {
     "data": {
      "text/plain": [
       "values    1\n",
       "dtype: int64"
      ]
     },
     "execution_count": 2518,
     "metadata": {},
     "output_type": "execute_result"
    }
   ],
   "source": [
    "#Minimum using pandas\n",
    "\n",
    "A.min() \n"
   ]
  },
  {
   "cell_type": "code",
   "execution_count": 2519,
   "id": "70b5bde8",
   "metadata": {},
   "outputs": [
    {
     "data": {
      "text/plain": [
       "1"
      ]
     },
     "execution_count": 2519,
     "metadata": {},
     "output_type": "execute_result"
    }
   ],
   "source": [
    "\n",
    "#Minimum\n",
    "B=[1,2,3,1,2,3,4,2,3,5,6,7,8,8,9,8,9,10,12,20,20,20,20,35]\n",
    "\n",
    "#using numpy\n",
    "np.min(B)"
   ]
  },
  {
   "cell_type": "code",
   "execution_count": 2520,
   "id": "f255cd4b",
   "metadata": {},
   "outputs": [
    {
     "name": "stdout",
     "output_type": "stream",
     "text": [
      "Minimum :  1\n"
     ]
    }
   ],
   "source": [
    "\n",
    "print(\"Minimum : \", np.min(B))"
   ]
  },
  {
   "cell_type": "markdown",
   "id": "1ceea4cb",
   "metadata": {},
   "source": [
    "## Quartiles"
   ]
  },
  {
   "cell_type": "code",
   "execution_count": 2521,
   "id": "7bd8b7e5",
   "metadata": {},
   "outputs": [
    {
     "data": {
      "text/html": [
       "<div>\n",
       "<style scoped>\n",
       "    .dataframe tbody tr th:only-of-type {\n",
       "        vertical-align: middle;\n",
       "    }\n",
       "\n",
       "    .dataframe tbody tr th {\n",
       "        vertical-align: top;\n",
       "    }\n",
       "\n",
       "    .dataframe thead th {\n",
       "        text-align: right;\n",
       "    }\n",
       "</style>\n",
       "<table border=\"1\" class=\"dataframe\">\n",
       "  <thead>\n",
       "    <tr style=\"text-align: right;\">\n",
       "      <th></th>\n",
       "      <th>values</th>\n",
       "    </tr>\n",
       "  </thead>\n",
       "  <tbody>\n",
       "    <tr>\n",
       "      <th>0.25</th>\n",
       "      <td>3.0</td>\n",
       "    </tr>\n",
       "    <tr>\n",
       "      <th>0.50</th>\n",
       "      <td>7.5</td>\n",
       "    </tr>\n",
       "    <tr>\n",
       "      <th>0.75</th>\n",
       "      <td>10.5</td>\n",
       "    </tr>\n",
       "  </tbody>\n",
       "</table>\n",
       "</div>"
      ],
      "text/plain": [
       "      values\n",
       "0.25     3.0\n",
       "0.50     7.5\n",
       "0.75    10.5"
      ]
     },
     "execution_count": 2521,
     "metadata": {},
     "output_type": "execute_result"
    }
   ],
   "source": [
    "#using pandas\n",
    "A.quantile([0.25,0.50,0.75]) "
   ]
  },
  {
   "cell_type": "code",
   "execution_count": 2522,
   "id": "f77f1fd5",
   "metadata": {},
   "outputs": [
    {
     "data": {
      "text/html": [
       "<div>\n",
       "<style scoped>\n",
       "    .dataframe tbody tr th:only-of-type {\n",
       "        vertical-align: middle;\n",
       "    }\n",
       "\n",
       "    .dataframe tbody tr th {\n",
       "        vertical-align: top;\n",
       "    }\n",
       "\n",
       "    .dataframe thead th {\n",
       "        text-align: right;\n",
       "    }\n",
       "</style>\n",
       "<table border=\"1\" class=\"dataframe\">\n",
       "  <thead>\n",
       "    <tr style=\"text-align: right;\">\n",
       "      <th></th>\n",
       "      <th>values</th>\n",
       "    </tr>\n",
       "  </thead>\n",
       "  <tbody>\n",
       "    <tr>\n",
       "      <th>count</th>\n",
       "      <td>24.000000</td>\n",
       "    </tr>\n",
       "    <tr>\n",
       "      <th>mean</th>\n",
       "      <td>9.083333</td>\n",
       "    </tr>\n",
       "    <tr>\n",
       "      <th>std</th>\n",
       "      <td>8.366167</td>\n",
       "    </tr>\n",
       "    <tr>\n",
       "      <th>min</th>\n",
       "      <td>1.000000</td>\n",
       "    </tr>\n",
       "    <tr>\n",
       "      <th>25%</th>\n",
       "      <td>3.000000</td>\n",
       "    </tr>\n",
       "    <tr>\n",
       "      <th>50%</th>\n",
       "      <td>7.500000</td>\n",
       "    </tr>\n",
       "    <tr>\n",
       "      <th>75%</th>\n",
       "      <td>10.500000</td>\n",
       "    </tr>\n",
       "    <tr>\n",
       "      <th>max</th>\n",
       "      <td>35.000000</td>\n",
       "    </tr>\n",
       "  </tbody>\n",
       "</table>\n",
       "</div>"
      ],
      "text/plain": [
       "          values\n",
       "count  24.000000\n",
       "mean    9.083333\n",
       "std     8.366167\n",
       "min     1.000000\n",
       "25%     3.000000\n",
       "50%     7.500000\n",
       "75%    10.500000\n",
       "max    35.000000"
      ]
     },
     "execution_count": 2522,
     "metadata": {},
     "output_type": "execute_result"
    }
   ],
   "source": [
    "\n",
    "A.describe()"
   ]
  },
  {
   "cell_type": "code",
   "execution_count": 2523,
   "id": "4717a108",
   "metadata": {},
   "outputs": [
    {
     "data": {
      "text/plain": [
       "array([ 3. ,  7.5, 10.5])"
      ]
     },
     "execution_count": 2523,
     "metadata": {},
     "output_type": "execute_result"
    }
   ],
   "source": [
    "\n",
    "#quartiles\n",
    "B=[1,2,3,1,2,3,4,2,3,5,6,7,8,8,9,8,9,10,12,20,20,20,20,35]\n",
    "\n",
    "#using numpy\n",
    "np.quantile(B,[0.25,0.50,0.75])"
   ]
  },
  {
   "cell_type": "code",
   "execution_count": 2524,
   "id": "a99d85d3",
   "metadata": {},
   "outputs": [
    {
     "name": "stdout",
     "output_type": "stream",
     "text": [
      "Q1 :  3.0 Q2 :  7.5 Q3 :  10.5\n"
     ]
    }
   ],
   "source": [
    "\n",
    "print(\"Q1 : \", np.quantile(B,0.25),\n",
    "      \"Q2 : \", np.quantile(B,0.50),\n",
    "      \"Q3 : \", np.quantile(B,0.75))"
   ]
  },
  {
   "cell_type": "markdown",
   "id": "39d9001e",
   "metadata": {},
   "source": [
    "## Maximum"
   ]
  },
  {
   "cell_type": "code",
   "execution_count": 2525,
   "id": "c6ba2e87",
   "metadata": {},
   "outputs": [
    {
     "data": {
      "text/plain": [
       "values    35\n",
       "dtype: int64"
      ]
     },
     "execution_count": 2525,
     "metadata": {},
     "output_type": "execute_result"
    }
   ],
   "source": [
    "\n",
    "#using pandas\n",
    "A.max()  "
   ]
  },
  {
   "cell_type": "code",
   "execution_count": 2526,
   "id": "4ad26c90",
   "metadata": {},
   "outputs": [
    {
     "data": {
      "text/plain": [
       "35"
      ]
     },
     "execution_count": 2526,
     "metadata": {},
     "output_type": "execute_result"
    }
   ],
   "source": [
    "#Maximum\n",
    "B=[1,2,3,1,2,3,4,2,3,5,6,7,8,8,9,8,9,10,12,20,20,20,20,35]\n",
    "\n",
    "#using numpy\n",
    "np.max(B)"
   ]
  },
  {
   "cell_type": "code",
   "execution_count": 2527,
   "id": "21666eb5",
   "metadata": {},
   "outputs": [
    {
     "name": "stdout",
     "output_type": "stream",
     "text": [
      "Maximum :  35\n"
     ]
    }
   ],
   "source": [
    "print(\"Maximum : \", np.max(B))"
   ]
  },
  {
   "cell_type": "markdown",
   "id": "736abd50",
   "metadata": {},
   "source": [
    "## Range"
   ]
  },
  {
   "cell_type": "code",
   "execution_count": 2528,
   "id": "8992b1f8",
   "metadata": {},
   "outputs": [
    {
     "data": {
      "text/plain": [
       "values    34\n",
       "dtype: int64"
      ]
     },
     "execution_count": 2528,
     "metadata": {},
     "output_type": "execute_result"
    }
   ],
   "source": [
    "#using pandas\n",
    "Range = A.max()-A.min()\n",
    "Range\n",
    "     "
   ]
  },
  {
   "cell_type": "code",
   "execution_count": 2529,
   "id": "60594ef0",
   "metadata": {},
   "outputs": [
    {
     "data": {
      "text/plain": [
       "34"
      ]
     },
     "execution_count": 2529,
     "metadata": {},
     "output_type": "execute_result"
    }
   ],
   "source": [
    "\n",
    "#Range\n",
    "#using numpy\n",
    "\n",
    "Ran=np.max(B) - np.min(B)\n",
    "Ran"
   ]
  },
  {
   "cell_type": "markdown",
   "id": "5725469f",
   "metadata": {},
   "source": [
    "## IQR"
   ]
  },
  {
   "cell_type": "code",
   "execution_count": 2530,
   "id": "0b9f0730",
   "metadata": {},
   "outputs": [
    {
     "data": {
      "text/plain": [
       "values    7.5\n",
       "dtype: float64"
      ]
     },
     "execution_count": 2530,
     "metadata": {},
     "output_type": "execute_result"
    }
   ],
   "source": [
    "#using pandas\n",
    "iqr=A.quantile(0.75)-A.quantile(0.25)\n",
    "iqr"
   ]
  },
  {
   "cell_type": "code",
   "execution_count": 2531,
   "id": "9097186d",
   "metadata": {},
   "outputs": [
    {
     "data": {
      "text/plain": [
       "7.5"
      ]
     },
     "execution_count": 2531,
     "metadata": {},
     "output_type": "execute_result"
    }
   ],
   "source": [
    "\n",
    "#IQR\n",
    "#using numpy\n",
    "IQR = np.quantile(B,0.75)-np.quantile(B,0.25)\n",
    "IQR"
   ]
  },
  {
   "cell_type": "markdown",
   "id": "7317a694",
   "metadata": {},
   "source": [
    "# Example 6"
   ]
  },
  {
   "cell_type": "markdown",
   "id": "c83f0276",
   "metadata": {},
   "source": [
    "## Measure of central tendency"
   ]
  },
  {
   "cell_type": "code",
   "execution_count": 2532,
   "id": "434ac70f",
   "metadata": {},
   "outputs": [
    {
     "data": {
      "text/html": [
       "<div>\n",
       "<style scoped>\n",
       "    .dataframe tbody tr th:only-of-type {\n",
       "        vertical-align: middle;\n",
       "    }\n",
       "\n",
       "    .dataframe tbody tr th {\n",
       "        vertical-align: top;\n",
       "    }\n",
       "\n",
       "    .dataframe thead th {\n",
       "        text-align: right;\n",
       "    }\n",
       "</style>\n",
       "<table border=\"1\" class=\"dataframe\">\n",
       "  <thead>\n",
       "    <tr style=\"text-align: right;\">\n",
       "      <th></th>\n",
       "      <th>values</th>\n",
       "    </tr>\n",
       "  </thead>\n",
       "  <tbody>\n",
       "    <tr>\n",
       "      <th>0</th>\n",
       "      <td>1</td>\n",
       "    </tr>\n",
       "    <tr>\n",
       "      <th>1</th>\n",
       "      <td>2</td>\n",
       "    </tr>\n",
       "    <tr>\n",
       "      <th>2</th>\n",
       "      <td>3</td>\n",
       "    </tr>\n",
       "    <tr>\n",
       "      <th>3</th>\n",
       "      <td>1</td>\n",
       "    </tr>\n",
       "    <tr>\n",
       "      <th>4</th>\n",
       "      <td>2</td>\n",
       "    </tr>\n",
       "    <tr>\n",
       "      <th>5</th>\n",
       "      <td>3</td>\n",
       "    </tr>\n",
       "    <tr>\n",
       "      <th>6</th>\n",
       "      <td>4</td>\n",
       "    </tr>\n",
       "    <tr>\n",
       "      <th>7</th>\n",
       "      <td>2</td>\n",
       "    </tr>\n",
       "    <tr>\n",
       "      <th>8</th>\n",
       "      <td>3</td>\n",
       "    </tr>\n",
       "    <tr>\n",
       "      <th>9</th>\n",
       "      <td>5</td>\n",
       "    </tr>\n",
       "    <tr>\n",
       "      <th>10</th>\n",
       "      <td>6</td>\n",
       "    </tr>\n",
       "    <tr>\n",
       "      <th>11</th>\n",
       "      <td>7</td>\n",
       "    </tr>\n",
       "    <tr>\n",
       "      <th>12</th>\n",
       "      <td>8</td>\n",
       "    </tr>\n",
       "    <tr>\n",
       "      <th>13</th>\n",
       "      <td>8</td>\n",
       "    </tr>\n",
       "    <tr>\n",
       "      <th>14</th>\n",
       "      <td>9</td>\n",
       "    </tr>\n",
       "    <tr>\n",
       "      <th>15</th>\n",
       "      <td>8</td>\n",
       "    </tr>\n",
       "    <tr>\n",
       "      <th>16</th>\n",
       "      <td>9</td>\n",
       "    </tr>\n",
       "    <tr>\n",
       "      <th>17</th>\n",
       "      <td>10</td>\n",
       "    </tr>\n",
       "    <tr>\n",
       "      <th>18</th>\n",
       "      <td>12</td>\n",
       "    </tr>\n",
       "    <tr>\n",
       "      <th>19</th>\n",
       "      <td>20</td>\n",
       "    </tr>\n",
       "    <tr>\n",
       "      <th>20</th>\n",
       "      <td>20</td>\n",
       "    </tr>\n",
       "    <tr>\n",
       "      <th>21</th>\n",
       "      <td>20</td>\n",
       "    </tr>\n",
       "    <tr>\n",
       "      <th>22</th>\n",
       "      <td>20</td>\n",
       "    </tr>\n",
       "    <tr>\n",
       "      <th>23</th>\n",
       "      <td>35</td>\n",
       "    </tr>\n",
       "    <tr>\n",
       "      <th>24</th>\n",
       "      <td>55</td>\n",
       "    </tr>\n",
       "    <tr>\n",
       "      <th>25</th>\n",
       "      <td>55</td>\n",
       "    </tr>\n",
       "  </tbody>\n",
       "</table>\n",
       "</div>"
      ],
      "text/plain": [
       "    values\n",
       "0        1\n",
       "1        2\n",
       "2        3\n",
       "3        1\n",
       "4        2\n",
       "5        3\n",
       "6        4\n",
       "7        2\n",
       "8        3\n",
       "9        5\n",
       "10       6\n",
       "11       7\n",
       "12       8\n",
       "13       8\n",
       "14       9\n",
       "15       8\n",
       "16       9\n",
       "17      10\n",
       "18      12\n",
       "19      20\n",
       "20      20\n",
       "21      20\n",
       "22      20\n",
       "23      35\n",
       "24      55\n",
       "25      55"
      ]
     },
     "execution_count": 2532,
     "metadata": {},
     "output_type": "execute_result"
    }
   ],
   "source": [
    "#created the list into a table format\n",
    "import pandas as pd\n",
    "A=pd.DataFrame(data={'values': [1,2,3,1,2,3,4,2,3,5,6,7,8,8,9,8,9,10,12,20,20,20,20,35,55,55]})\n",
    "A"
   ]
  },
  {
   "cell_type": "code",
   "execution_count": 2533,
   "id": "55d9ab23",
   "metadata": {},
   "outputs": [
    {
     "data": {
      "text/plain": [
       "values    12.615385\n",
       "dtype: float64"
      ]
     },
     "execution_count": 2533,
     "metadata": {},
     "output_type": "execute_result"
    }
   ],
   "source": [
    "#mean using pandas\n",
    "A.mean()\n",
    "\n",
    "# To show answer"
   ]
  },
  {
   "cell_type": "code",
   "execution_count": 2534,
   "id": "fc70e81f",
   "metadata": {},
   "outputs": [
    {
     "data": {
      "text/html": [
       "<div>\n",
       "<style scoped>\n",
       "    .dataframe tbody tr th:only-of-type {\n",
       "        vertical-align: middle;\n",
       "    }\n",
       "\n",
       "    .dataframe tbody tr th {\n",
       "        vertical-align: top;\n",
       "    }\n",
       "\n",
       "    .dataframe thead th {\n",
       "        text-align: right;\n",
       "    }\n",
       "</style>\n",
       "<table border=\"1\" class=\"dataframe\">\n",
       "  <thead>\n",
       "    <tr style=\"text-align: right;\">\n",
       "      <th></th>\n",
       "      <th>values</th>\n",
       "    </tr>\n",
       "  </thead>\n",
       "  <tbody>\n",
       "    <tr>\n",
       "      <th>count</th>\n",
       "      <td>26.000000</td>\n",
       "    </tr>\n",
       "    <tr>\n",
       "      <th>mean</th>\n",
       "      <td>12.615385</td>\n",
       "    </tr>\n",
       "    <tr>\n",
       "      <th>std</th>\n",
       "      <td>14.835301</td>\n",
       "    </tr>\n",
       "    <tr>\n",
       "      <th>min</th>\n",
       "      <td>1.000000</td>\n",
       "    </tr>\n",
       "    <tr>\n",
       "      <th>25%</th>\n",
       "      <td>3.000000</td>\n",
       "    </tr>\n",
       "    <tr>\n",
       "      <th>50%</th>\n",
       "      <td>8.000000</td>\n",
       "    </tr>\n",
       "    <tr>\n",
       "      <th>75%</th>\n",
       "      <td>18.000000</td>\n",
       "    </tr>\n",
       "    <tr>\n",
       "      <th>max</th>\n",
       "      <td>55.000000</td>\n",
       "    </tr>\n",
       "  </tbody>\n",
       "</table>\n",
       "</div>"
      ],
      "text/plain": [
       "          values\n",
       "count  26.000000\n",
       "mean   12.615385\n",
       "std    14.835301\n",
       "min     1.000000\n",
       "25%     3.000000\n",
       "50%     8.000000\n",
       "75%    18.000000\n",
       "max    55.000000"
      ]
     },
     "execution_count": 2534,
     "metadata": {},
     "output_type": "execute_result"
    }
   ],
   "source": [
    "A.describe()"
   ]
  },
  {
   "cell_type": "code",
   "execution_count": 2535,
   "id": "c95e48da",
   "metadata": {},
   "outputs": [
    {
     "name": "stderr",
     "output_type": "stream",
     "text": [
      "C:\\Users\\user\\anaconda3\\lib\\site-packages\\IPython\\core\\displayhook.py:275: UserWarning: Output cache limit (currently 1000 entries) hit.\n",
      "Flushing oldest 200 entries.\n",
      "  warn('Output cache limit (currently {sz} entries) hit.\\n'\n"
     ]
    },
    {
     "data": {
      "text/plain": [
       "12.615384615384615"
      ]
     },
     "execution_count": 2535,
     "metadata": {},
     "output_type": "execute_result"
    }
   ],
   "source": [
    "#mean \n",
    "\n",
    "import numpy as np\n",
    "B=[1,2,3,1,2,3,4,2,3,5,6,7,8,8,9,8,9,10,12,20,20,20,20,35,55,55]\n",
    "\n",
    "#using numpy\n",
    "np.mean(B)"
   ]
  },
  {
   "cell_type": "code",
   "execution_count": 2536,
   "id": "3b8bc035",
   "metadata": {},
   "outputs": [
    {
     "name": "stdout",
     "output_type": "stream",
     "text": [
      "mean :  12.615384615384615\n"
     ]
    }
   ],
   "source": [
    "print(\"mean : \", np.mean(B))"
   ]
  },
  {
   "cell_type": "code",
   "execution_count": 2537,
   "id": "a3c2f9d9",
   "metadata": {},
   "outputs": [
    {
     "data": {
      "text/plain": [
       "values    8.0\n",
       "dtype: float64"
      ]
     },
     "execution_count": 2537,
     "metadata": {},
     "output_type": "execute_result"
    }
   ],
   "source": [
    "#median\n",
    "#using pandas\n",
    "A.median()"
   ]
  },
  {
   "cell_type": "code",
   "execution_count": 2538,
   "id": "69d1c28e",
   "metadata": {},
   "outputs": [
    {
     "data": {
      "text/html": [
       "<div>\n",
       "<style scoped>\n",
       "    .dataframe tbody tr th:only-of-type {\n",
       "        vertical-align: middle;\n",
       "    }\n",
       "\n",
       "    .dataframe tbody tr th {\n",
       "        vertical-align: top;\n",
       "    }\n",
       "\n",
       "    .dataframe thead th {\n",
       "        text-align: right;\n",
       "    }\n",
       "</style>\n",
       "<table border=\"1\" class=\"dataframe\">\n",
       "  <thead>\n",
       "    <tr style=\"text-align: right;\">\n",
       "      <th></th>\n",
       "      <th>values</th>\n",
       "    </tr>\n",
       "  </thead>\n",
       "  <tbody>\n",
       "    <tr>\n",
       "      <th>count</th>\n",
       "      <td>26.000000</td>\n",
       "    </tr>\n",
       "    <tr>\n",
       "      <th>mean</th>\n",
       "      <td>12.615385</td>\n",
       "    </tr>\n",
       "    <tr>\n",
       "      <th>std</th>\n",
       "      <td>14.835301</td>\n",
       "    </tr>\n",
       "    <tr>\n",
       "      <th>min</th>\n",
       "      <td>1.000000</td>\n",
       "    </tr>\n",
       "    <tr>\n",
       "      <th>25%</th>\n",
       "      <td>3.000000</td>\n",
       "    </tr>\n",
       "    <tr>\n",
       "      <th>50%</th>\n",
       "      <td>8.000000</td>\n",
       "    </tr>\n",
       "    <tr>\n",
       "      <th>75%</th>\n",
       "      <td>18.000000</td>\n",
       "    </tr>\n",
       "    <tr>\n",
       "      <th>max</th>\n",
       "      <td>55.000000</td>\n",
       "    </tr>\n",
       "  </tbody>\n",
       "</table>\n",
       "</div>"
      ],
      "text/plain": [
       "          values\n",
       "count  26.000000\n",
       "mean   12.615385\n",
       "std    14.835301\n",
       "min     1.000000\n",
       "25%     3.000000\n",
       "50%     8.000000\n",
       "75%    18.000000\n",
       "max    55.000000"
      ]
     },
     "execution_count": 2538,
     "metadata": {},
     "output_type": "execute_result"
    }
   ],
   "source": [
    "A.describe()"
   ]
  },
  {
   "cell_type": "code",
   "execution_count": 2539,
   "id": "fcac1de7",
   "metadata": {},
   "outputs": [
    {
     "data": {
      "text/plain": [
       "8.0"
      ]
     },
     "execution_count": 2539,
     "metadata": {},
     "output_type": "execute_result"
    }
   ],
   "source": [
    "#median\n",
    "B=[1,2,3,1,2,3,4,2,3,5,6,7,8,8,9,8,9,10,12,20,20,20,20,35,55,55]\n",
    "\n",
    "#using numpy\n",
    "np.median(B)"
   ]
  },
  {
   "cell_type": "code",
   "execution_count": 2540,
   "id": "bdc355ca",
   "metadata": {},
   "outputs": [
    {
     "name": "stdout",
     "output_type": "stream",
     "text": [
      "median :  8.0\n"
     ]
    }
   ],
   "source": [
    "print(\"median : \", np.median(B))"
   ]
  },
  {
   "cell_type": "code",
   "execution_count": 2541,
   "id": "ab501bdc",
   "metadata": {},
   "outputs": [
    {
     "data": {
      "text/html": [
       "<div>\n",
       "<style scoped>\n",
       "    .dataframe tbody tr th:only-of-type {\n",
       "        vertical-align: middle;\n",
       "    }\n",
       "\n",
       "    .dataframe tbody tr th {\n",
       "        vertical-align: top;\n",
       "    }\n",
       "\n",
       "    .dataframe thead th {\n",
       "        text-align: right;\n",
       "    }\n",
       "</style>\n",
       "<table border=\"1\" class=\"dataframe\">\n",
       "  <thead>\n",
       "    <tr style=\"text-align: right;\">\n",
       "      <th></th>\n",
       "      <th>values</th>\n",
       "    </tr>\n",
       "  </thead>\n",
       "  <tbody>\n",
       "    <tr>\n",
       "      <th>0</th>\n",
       "      <td>20</td>\n",
       "    </tr>\n",
       "  </tbody>\n",
       "</table>\n",
       "</div>"
      ],
      "text/plain": [
       "   values\n",
       "0      20"
      ]
     },
     "execution_count": 2541,
     "metadata": {},
     "output_type": "execute_result"
    }
   ],
   "source": [
    "#using pandas\n",
    "A.mode()  "
   ]
  },
  {
   "cell_type": "code",
   "execution_count": 2542,
   "id": "c12f101d",
   "metadata": {},
   "outputs": [],
   "source": [
    "#mode\n",
    "#numpy does not has an attribute mode"
   ]
  },
  {
   "cell_type": "code",
   "execution_count": 2543,
   "id": "4aaee2eb",
   "metadata": {},
   "outputs": [],
   "source": [
    "#descriptive statistics\n",
    "#measure of dispersion\n",
    "#variance and std deviation"
   ]
  },
  {
   "cell_type": "markdown",
   "id": "fb2ae87a",
   "metadata": {},
   "source": [
    "## Measure of Dispersion"
   ]
  },
  {
   "cell_type": "markdown",
   "id": "97813c40",
   "metadata": {},
   "source": [
    "### Variance"
   ]
  },
  {
   "cell_type": "code",
   "execution_count": 2544,
   "id": "2b5717b2",
   "metadata": {},
   "outputs": [
    {
     "data": {
      "text/plain": [
       "values    220.086154\n",
       "dtype: float64"
      ]
     },
     "execution_count": 2544,
     "metadata": {},
     "output_type": "execute_result"
    }
   ],
   "source": [
    "#variance\n",
    "A.var()\n",
    "\n",
    "\n"
   ]
  },
  {
   "cell_type": "code",
   "execution_count": 2545,
   "id": "b6170d23",
   "metadata": {},
   "outputs": [],
   "source": [
    "\n",
    "#variance"
   ]
  },
  {
   "cell_type": "code",
   "execution_count": 2546,
   "id": "2aea2455",
   "metadata": {},
   "outputs": [
    {
     "data": {
      "text/plain": [
       "211.62130177514794"
      ]
     },
     "execution_count": 2546,
     "metadata": {},
     "output_type": "execute_result"
    }
   ],
   "source": [
    "B=[1,2,3,1,2,3,4,2,3,5,6,7,8,8,9,8,9,10,12,20,20,20,20,35,55,55]\n",
    "\n",
    "#using numpy\n",
    "np.var(B)\n",
    "     "
   ]
  },
  {
   "cell_type": "code",
   "execution_count": 2547,
   "id": "4f8c185c",
   "metadata": {},
   "outputs": [
    {
     "name": "stdout",
     "output_type": "stream",
     "text": [
      "Variance :  211.62130177514794\n"
     ]
    }
   ],
   "source": [
    "\n",
    "print(\"Variance : \", np.var(B))"
   ]
  },
  {
   "cell_type": "markdown",
   "id": "cb66f17f",
   "metadata": {},
   "source": [
    "## Standard deviation"
   ]
  },
  {
   "cell_type": "code",
   "execution_count": 2548,
   "id": "195cb74a",
   "metadata": {},
   "outputs": [
    {
     "data": {
      "text/plain": [
       "values    14.835301\n",
       "dtype: float64"
      ]
     },
     "execution_count": 2548,
     "metadata": {},
     "output_type": "execute_result"
    }
   ],
   "source": [
    "#using pandas\n",
    "A.std()"
   ]
  },
  {
   "cell_type": "code",
   "execution_count": 2549,
   "id": "b5a91962",
   "metadata": {},
   "outputs": [
    {
     "data": {
      "text/plain": [
       "14.547209415387817"
      ]
     },
     "execution_count": 2549,
     "metadata": {},
     "output_type": "execute_result"
    }
   ],
   "source": [
    "\n",
    "#standard deviation\n",
    "B=[1,2,3,1,2,3,4,2,3,5,6,7,8,8,9,8,9,10,12,20,20,20,20,35,55,55]\n",
    "\n",
    "#using numpy\n",
    "np.std(B)"
   ]
  },
  {
   "cell_type": "code",
   "execution_count": 2550,
   "id": "8282cdea",
   "metadata": {},
   "outputs": [
    {
     "name": "stdout",
     "output_type": "stream",
     "text": [
      "Variance :  14.547209415387817\n"
     ]
    }
   ],
   "source": [
    "\n",
    "print(\"Variance : \", np.std(B))"
   ]
  },
  {
   "cell_type": "markdown",
   "id": "786785c8",
   "metadata": {},
   "source": [
    "# 5 number Summary\n",
    "\n",
    "\n",
    "Minimum\n",
    "\n",
    "\n",
    "1st quartile -Q1\n",
    "\n",
    "\n",
    "2nd quartile -Q2(Median)\n",
    "\n",
    "\n",
    "\n",
    "3rd quartile -Q3\n",
    "\n",
    "\n",
    "Maximum\n"
   ]
  },
  {
   "cell_type": "markdown",
   "id": "9487428f",
   "metadata": {},
   "source": [
    "### Minimum"
   ]
  },
  {
   "cell_type": "code",
   "execution_count": 2551,
   "id": "960b5e0d",
   "metadata": {},
   "outputs": [
    {
     "data": {
      "text/plain": [
       "values    1\n",
       "dtype: int64"
      ]
     },
     "execution_count": 2551,
     "metadata": {},
     "output_type": "execute_result"
    }
   ],
   "source": [
    "#Minimum using pandas\n",
    "\n",
    "A.min() \n"
   ]
  },
  {
   "cell_type": "code",
   "execution_count": 2552,
   "id": "542f0abf",
   "metadata": {},
   "outputs": [
    {
     "data": {
      "text/plain": [
       "1"
      ]
     },
     "execution_count": 2552,
     "metadata": {},
     "output_type": "execute_result"
    }
   ],
   "source": [
    "\n",
    "#Minimum\n",
    "B=[1,2,3,1,2,3,4,2,3,5,6,7,8,8,9,8,9,10,12,20,20,20,20,35,55,55]\n",
    "\n",
    "#using numpy\n",
    "np.min(B)"
   ]
  },
  {
   "cell_type": "code",
   "execution_count": 2553,
   "id": "7468270f",
   "metadata": {},
   "outputs": [
    {
     "name": "stdout",
     "output_type": "stream",
     "text": [
      "Minimum :  1\n"
     ]
    }
   ],
   "source": [
    "\n",
    "print(\"Minimum : \", np.min(B))"
   ]
  },
  {
   "cell_type": "markdown",
   "id": "a6613cb1",
   "metadata": {},
   "source": [
    "## Quartiles"
   ]
  },
  {
   "cell_type": "code",
   "execution_count": 2554,
   "id": "d4738a9c",
   "metadata": {},
   "outputs": [
    {
     "data": {
      "text/html": [
       "<div>\n",
       "<style scoped>\n",
       "    .dataframe tbody tr th:only-of-type {\n",
       "        vertical-align: middle;\n",
       "    }\n",
       "\n",
       "    .dataframe tbody tr th {\n",
       "        vertical-align: top;\n",
       "    }\n",
       "\n",
       "    .dataframe thead th {\n",
       "        text-align: right;\n",
       "    }\n",
       "</style>\n",
       "<table border=\"1\" class=\"dataframe\">\n",
       "  <thead>\n",
       "    <tr style=\"text-align: right;\">\n",
       "      <th></th>\n",
       "      <th>values</th>\n",
       "    </tr>\n",
       "  </thead>\n",
       "  <tbody>\n",
       "    <tr>\n",
       "      <th>0.25</th>\n",
       "      <td>3.0</td>\n",
       "    </tr>\n",
       "    <tr>\n",
       "      <th>0.50</th>\n",
       "      <td>8.0</td>\n",
       "    </tr>\n",
       "    <tr>\n",
       "      <th>0.75</th>\n",
       "      <td>18.0</td>\n",
       "    </tr>\n",
       "  </tbody>\n",
       "</table>\n",
       "</div>"
      ],
      "text/plain": [
       "      values\n",
       "0.25     3.0\n",
       "0.50     8.0\n",
       "0.75    18.0"
      ]
     },
     "execution_count": 2554,
     "metadata": {},
     "output_type": "execute_result"
    }
   ],
   "source": [
    "#using pandas\n",
    "A.quantile([0.25,0.50,0.75]) "
   ]
  },
  {
   "cell_type": "code",
   "execution_count": 2555,
   "id": "79d1c1fa",
   "metadata": {},
   "outputs": [
    {
     "data": {
      "text/html": [
       "<div>\n",
       "<style scoped>\n",
       "    .dataframe tbody tr th:only-of-type {\n",
       "        vertical-align: middle;\n",
       "    }\n",
       "\n",
       "    .dataframe tbody tr th {\n",
       "        vertical-align: top;\n",
       "    }\n",
       "\n",
       "    .dataframe thead th {\n",
       "        text-align: right;\n",
       "    }\n",
       "</style>\n",
       "<table border=\"1\" class=\"dataframe\">\n",
       "  <thead>\n",
       "    <tr style=\"text-align: right;\">\n",
       "      <th></th>\n",
       "      <th>values</th>\n",
       "    </tr>\n",
       "  </thead>\n",
       "  <tbody>\n",
       "    <tr>\n",
       "      <th>count</th>\n",
       "      <td>26.000000</td>\n",
       "    </tr>\n",
       "    <tr>\n",
       "      <th>mean</th>\n",
       "      <td>12.615385</td>\n",
       "    </tr>\n",
       "    <tr>\n",
       "      <th>std</th>\n",
       "      <td>14.835301</td>\n",
       "    </tr>\n",
       "    <tr>\n",
       "      <th>min</th>\n",
       "      <td>1.000000</td>\n",
       "    </tr>\n",
       "    <tr>\n",
       "      <th>25%</th>\n",
       "      <td>3.000000</td>\n",
       "    </tr>\n",
       "    <tr>\n",
       "      <th>50%</th>\n",
       "      <td>8.000000</td>\n",
       "    </tr>\n",
       "    <tr>\n",
       "      <th>75%</th>\n",
       "      <td>18.000000</td>\n",
       "    </tr>\n",
       "    <tr>\n",
       "      <th>max</th>\n",
       "      <td>55.000000</td>\n",
       "    </tr>\n",
       "  </tbody>\n",
       "</table>\n",
       "</div>"
      ],
      "text/plain": [
       "          values\n",
       "count  26.000000\n",
       "mean   12.615385\n",
       "std    14.835301\n",
       "min     1.000000\n",
       "25%     3.000000\n",
       "50%     8.000000\n",
       "75%    18.000000\n",
       "max    55.000000"
      ]
     },
     "execution_count": 2555,
     "metadata": {},
     "output_type": "execute_result"
    }
   ],
   "source": [
    "\n",
    "A.describe()"
   ]
  },
  {
   "cell_type": "code",
   "execution_count": 2556,
   "id": "09ec9f2f",
   "metadata": {},
   "outputs": [
    {
     "data": {
      "text/plain": [
       "array([ 3.,  8., 18.])"
      ]
     },
     "execution_count": 2556,
     "metadata": {},
     "output_type": "execute_result"
    }
   ],
   "source": [
    "\n",
    "#quartiles\n",
    "B=[1,2,3,1,2,3,4,2,3,5,6,7,8,8,9,8,9,10,12,20,20,20,20,35,55,55]\n",
    "\n",
    "#using numpy\n",
    "np.quantile(B,[0.25,0.50,0.75])"
   ]
  },
  {
   "cell_type": "code",
   "execution_count": 2557,
   "id": "309696c3",
   "metadata": {},
   "outputs": [
    {
     "name": "stdout",
     "output_type": "stream",
     "text": [
      "Q1 :  3.0 Q2 :  8.0 Q3 :  18.0\n"
     ]
    }
   ],
   "source": [
    "\n",
    "print(\"Q1 : \", np.quantile(B,0.25),\n",
    "      \"Q2 : \", np.quantile(B,0.50),\n",
    "      \"Q3 : \", np.quantile(B,0.75))"
   ]
  },
  {
   "cell_type": "markdown",
   "id": "4c1b38ea",
   "metadata": {},
   "source": [
    "## Maximum"
   ]
  },
  {
   "cell_type": "code",
   "execution_count": 2558,
   "id": "0d4a7534",
   "metadata": {},
   "outputs": [
    {
     "data": {
      "text/plain": [
       "values    55\n",
       "dtype: int64"
      ]
     },
     "execution_count": 2558,
     "metadata": {},
     "output_type": "execute_result"
    }
   ],
   "source": [
    "\n",
    "#using pandas\n",
    "A.max()  "
   ]
  },
  {
   "cell_type": "code",
   "execution_count": 2559,
   "id": "ce36c1f1",
   "metadata": {},
   "outputs": [
    {
     "data": {
      "text/plain": [
       "55"
      ]
     },
     "execution_count": 2559,
     "metadata": {},
     "output_type": "execute_result"
    }
   ],
   "source": [
    "#Maximum\n",
    "B=[1,2,3,1,2,3,4,2,3,5,6,7,8,8,9,8,9,10,12,20,20,20,20,35,55,55]\n",
    "\n",
    "#using numpy\n",
    "np.max(B)"
   ]
  },
  {
   "cell_type": "code",
   "execution_count": 2560,
   "id": "ba2ad9b6",
   "metadata": {},
   "outputs": [
    {
     "name": "stdout",
     "output_type": "stream",
     "text": [
      "Maximum :  55\n"
     ]
    }
   ],
   "source": [
    "print(\"Maximum : \", np.max(B))"
   ]
  },
  {
   "cell_type": "markdown",
   "id": "32ae9c34",
   "metadata": {},
   "source": [
    "## Range"
   ]
  },
  {
   "cell_type": "code",
   "execution_count": 2561,
   "id": "cc51fd3b",
   "metadata": {},
   "outputs": [
    {
     "data": {
      "text/plain": [
       "values    54\n",
       "dtype: int64"
      ]
     },
     "execution_count": 2561,
     "metadata": {},
     "output_type": "execute_result"
    }
   ],
   "source": [
    "#using pandas\n",
    "Range = A.max()-A.min()\n",
    "Range\n",
    "     "
   ]
  },
  {
   "cell_type": "code",
   "execution_count": 2562,
   "id": "6bd19811",
   "metadata": {},
   "outputs": [
    {
     "data": {
      "text/plain": [
       "54"
      ]
     },
     "execution_count": 2562,
     "metadata": {},
     "output_type": "execute_result"
    }
   ],
   "source": [
    "\n",
    "#Range\n",
    "#using numpy\n",
    "\n",
    "Ran=np.max(B) - np.min(B)\n",
    "Ran"
   ]
  },
  {
   "cell_type": "markdown",
   "id": "60906015",
   "metadata": {},
   "source": [
    "## IQR"
   ]
  },
  {
   "cell_type": "code",
   "execution_count": 2563,
   "id": "6bbfc00e",
   "metadata": {},
   "outputs": [
    {
     "data": {
      "text/plain": [
       "values    15.0\n",
       "dtype: float64"
      ]
     },
     "execution_count": 2563,
     "metadata": {},
     "output_type": "execute_result"
    }
   ],
   "source": [
    "#using pandas\n",
    "iqr=A.quantile(0.75)-A.quantile(0.25)\n",
    "iqr"
   ]
  },
  {
   "cell_type": "code",
   "execution_count": 2564,
   "id": "9a7243ab",
   "metadata": {},
   "outputs": [
    {
     "data": {
      "text/plain": [
       "15.0"
      ]
     },
     "execution_count": 2564,
     "metadata": {},
     "output_type": "execute_result"
    }
   ],
   "source": [
    "\n",
    "#IQR\n",
    "#using numpy\n",
    "IQR = np.quantile(B,0.75)-np.quantile(B,0.25)\n",
    "IQR"
   ]
  },
  {
   "cell_type": "markdown",
   "id": "243f3ea9",
   "metadata": {},
   "source": [
    "# Example 7"
   ]
  },
  {
   "cell_type": "markdown",
   "id": "baf1a0d0",
   "metadata": {},
   "source": [
    "## Measure of central tendency"
   ]
  },
  {
   "cell_type": "code",
   "execution_count": 2565,
   "id": "c20420ea",
   "metadata": {},
   "outputs": [
    {
     "data": {
      "text/html": [
       "<div>\n",
       "<style scoped>\n",
       "    .dataframe tbody tr th:only-of-type {\n",
       "        vertical-align: middle;\n",
       "    }\n",
       "\n",
       "    .dataframe tbody tr th {\n",
       "        vertical-align: top;\n",
       "    }\n",
       "\n",
       "    .dataframe thead th {\n",
       "        text-align: right;\n",
       "    }\n",
       "</style>\n",
       "<table border=\"1\" class=\"dataframe\">\n",
       "  <thead>\n",
       "    <tr style=\"text-align: right;\">\n",
       "      <th></th>\n",
       "      <th>values</th>\n",
       "    </tr>\n",
       "  </thead>\n",
       "  <tbody>\n",
       "    <tr>\n",
       "      <th>0</th>\n",
       "      <td>1</td>\n",
       "    </tr>\n",
       "    <tr>\n",
       "      <th>1</th>\n",
       "      <td>2</td>\n",
       "    </tr>\n",
       "    <tr>\n",
       "      <th>2</th>\n",
       "      <td>3</td>\n",
       "    </tr>\n",
       "    <tr>\n",
       "      <th>3</th>\n",
       "      <td>1</td>\n",
       "    </tr>\n",
       "    <tr>\n",
       "      <th>4</th>\n",
       "      <td>2</td>\n",
       "    </tr>\n",
       "    <tr>\n",
       "      <th>5</th>\n",
       "      <td>3</td>\n",
       "    </tr>\n",
       "    <tr>\n",
       "      <th>6</th>\n",
       "      <td>4</td>\n",
       "    </tr>\n",
       "    <tr>\n",
       "      <th>7</th>\n",
       "      <td>2</td>\n",
       "    </tr>\n",
       "    <tr>\n",
       "      <th>8</th>\n",
       "      <td>3</td>\n",
       "    </tr>\n",
       "    <tr>\n",
       "      <th>9</th>\n",
       "      <td>5</td>\n",
       "    </tr>\n",
       "    <tr>\n",
       "      <th>10</th>\n",
       "      <td>6</td>\n",
       "    </tr>\n",
       "    <tr>\n",
       "      <th>11</th>\n",
       "      <td>7</td>\n",
       "    </tr>\n",
       "    <tr>\n",
       "      <th>12</th>\n",
       "      <td>8</td>\n",
       "    </tr>\n",
       "    <tr>\n",
       "      <th>13</th>\n",
       "      <td>8</td>\n",
       "    </tr>\n",
       "    <tr>\n",
       "      <th>14</th>\n",
       "      <td>9</td>\n",
       "    </tr>\n",
       "    <tr>\n",
       "      <th>15</th>\n",
       "      <td>8</td>\n",
       "    </tr>\n",
       "    <tr>\n",
       "      <th>16</th>\n",
       "      <td>9</td>\n",
       "    </tr>\n",
       "    <tr>\n",
       "      <th>17</th>\n",
       "      <td>10</td>\n",
       "    </tr>\n",
       "    <tr>\n",
       "      <th>18</th>\n",
       "      <td>12</td>\n",
       "    </tr>\n",
       "    <tr>\n",
       "      <th>19</th>\n",
       "      <td>20</td>\n",
       "    </tr>\n",
       "    <tr>\n",
       "      <th>20</th>\n",
       "      <td>20</td>\n",
       "    </tr>\n",
       "    <tr>\n",
       "      <th>21</th>\n",
       "      <td>20</td>\n",
       "    </tr>\n",
       "    <tr>\n",
       "      <th>22</th>\n",
       "      <td>20</td>\n",
       "    </tr>\n",
       "    <tr>\n",
       "      <th>23</th>\n",
       "      <td>35</td>\n",
       "    </tr>\n",
       "    <tr>\n",
       "      <th>24</th>\n",
       "      <td>55</td>\n",
       "    </tr>\n",
       "    <tr>\n",
       "      <th>25</th>\n",
       "      <td>55</td>\n",
       "    </tr>\n",
       "    <tr>\n",
       "      <th>26</th>\n",
       "      <td>60</td>\n",
       "    </tr>\n",
       "    <tr>\n",
       "      <th>27</th>\n",
       "      <td>65</td>\n",
       "    </tr>\n",
       "  </tbody>\n",
       "</table>\n",
       "</div>"
      ],
      "text/plain": [
       "    values\n",
       "0        1\n",
       "1        2\n",
       "2        3\n",
       "3        1\n",
       "4        2\n",
       "5        3\n",
       "6        4\n",
       "7        2\n",
       "8        3\n",
       "9        5\n",
       "10       6\n",
       "11       7\n",
       "12       8\n",
       "13       8\n",
       "14       9\n",
       "15       8\n",
       "16       9\n",
       "17      10\n",
       "18      12\n",
       "19      20\n",
       "20      20\n",
       "21      20\n",
       "22      20\n",
       "23      35\n",
       "24      55\n",
       "25      55\n",
       "26      60\n",
       "27      65"
      ]
     },
     "execution_count": 2565,
     "metadata": {},
     "output_type": "execute_result"
    }
   ],
   "source": [
    "#created the list into a table format\n",
    "import pandas as pd\n",
    "A=pd.DataFrame(data={'values': [1,2,3,1,2,3,4,2,3,5,6,7,8,8,9,8,9,10,12,20,20,20,20,35,55,55,60,65]})\n",
    "A"
   ]
  },
  {
   "cell_type": "code",
   "execution_count": 2566,
   "id": "437bdd8f",
   "metadata": {},
   "outputs": [
    {
     "data": {
      "text/plain": [
       "values    16.178571\n",
       "dtype: float64"
      ]
     },
     "execution_count": 2566,
     "metadata": {},
     "output_type": "execute_result"
    }
   ],
   "source": [
    "#mean using pandas\n",
    "A.mean()\n",
    "\n",
    "# To show answer"
   ]
  },
  {
   "cell_type": "code",
   "execution_count": 2567,
   "id": "03e1f9cd",
   "metadata": {},
   "outputs": [
    {
     "data": {
      "text/html": [
       "<div>\n",
       "<style scoped>\n",
       "    .dataframe tbody tr th:only-of-type {\n",
       "        vertical-align: middle;\n",
       "    }\n",
       "\n",
       "    .dataframe tbody tr th {\n",
       "        vertical-align: top;\n",
       "    }\n",
       "\n",
       "    .dataframe thead th {\n",
       "        text-align: right;\n",
       "    }\n",
       "</style>\n",
       "<table border=\"1\" class=\"dataframe\">\n",
       "  <thead>\n",
       "    <tr style=\"text-align: right;\">\n",
       "      <th></th>\n",
       "      <th>values</th>\n",
       "    </tr>\n",
       "  </thead>\n",
       "  <tbody>\n",
       "    <tr>\n",
       "      <th>count</th>\n",
       "      <td>28.000000</td>\n",
       "    </tr>\n",
       "    <tr>\n",
       "      <th>mean</th>\n",
       "      <td>16.178571</td>\n",
       "    </tr>\n",
       "    <tr>\n",
       "      <th>std</th>\n",
       "      <td>19.375535</td>\n",
       "    </tr>\n",
       "    <tr>\n",
       "      <th>min</th>\n",
       "      <td>1.000000</td>\n",
       "    </tr>\n",
       "    <tr>\n",
       "      <th>25%</th>\n",
       "      <td>3.000000</td>\n",
       "    </tr>\n",
       "    <tr>\n",
       "      <th>50%</th>\n",
       "      <td>8.000000</td>\n",
       "    </tr>\n",
       "    <tr>\n",
       "      <th>75%</th>\n",
       "      <td>20.000000</td>\n",
       "    </tr>\n",
       "    <tr>\n",
       "      <th>max</th>\n",
       "      <td>65.000000</td>\n",
       "    </tr>\n",
       "  </tbody>\n",
       "</table>\n",
       "</div>"
      ],
      "text/plain": [
       "          values\n",
       "count  28.000000\n",
       "mean   16.178571\n",
       "std    19.375535\n",
       "min     1.000000\n",
       "25%     3.000000\n",
       "50%     8.000000\n",
       "75%    20.000000\n",
       "max    65.000000"
      ]
     },
     "execution_count": 2567,
     "metadata": {},
     "output_type": "execute_result"
    }
   ],
   "source": [
    "A.describe()"
   ]
  },
  {
   "cell_type": "code",
   "execution_count": 2568,
   "id": "aa64837e",
   "metadata": {},
   "outputs": [
    {
     "data": {
      "text/plain": [
       "16.178571428571427"
      ]
     },
     "execution_count": 2568,
     "metadata": {},
     "output_type": "execute_result"
    }
   ],
   "source": [
    "#mean \n",
    "\n",
    "import numpy as np\n",
    "B=[1,2,3,1,2,3,4,2,3,5,6,7,8,8,9,8,9,10,12,20,20,20,20,35,55,55,60,65]\n",
    "\n",
    "#using numpy\n",
    "np.mean(B)"
   ]
  },
  {
   "cell_type": "code",
   "execution_count": 2569,
   "id": "e5b00127",
   "metadata": {},
   "outputs": [
    {
     "name": "stdout",
     "output_type": "stream",
     "text": [
      "mean :  16.178571428571427\n"
     ]
    }
   ],
   "source": [
    "print(\"mean : \", np.mean(B))"
   ]
  },
  {
   "cell_type": "code",
   "execution_count": 2570,
   "id": "ff8fbf84",
   "metadata": {},
   "outputs": [
    {
     "data": {
      "text/plain": [
       "values    8.0\n",
       "dtype: float64"
      ]
     },
     "execution_count": 2570,
     "metadata": {},
     "output_type": "execute_result"
    }
   ],
   "source": [
    "#median\n",
    "#using pandas\n",
    "A.median()"
   ]
  },
  {
   "cell_type": "code",
   "execution_count": 2571,
   "id": "24bc6c70",
   "metadata": {},
   "outputs": [
    {
     "data": {
      "text/html": [
       "<div>\n",
       "<style scoped>\n",
       "    .dataframe tbody tr th:only-of-type {\n",
       "        vertical-align: middle;\n",
       "    }\n",
       "\n",
       "    .dataframe tbody tr th {\n",
       "        vertical-align: top;\n",
       "    }\n",
       "\n",
       "    .dataframe thead th {\n",
       "        text-align: right;\n",
       "    }\n",
       "</style>\n",
       "<table border=\"1\" class=\"dataframe\">\n",
       "  <thead>\n",
       "    <tr style=\"text-align: right;\">\n",
       "      <th></th>\n",
       "      <th>values</th>\n",
       "    </tr>\n",
       "  </thead>\n",
       "  <tbody>\n",
       "    <tr>\n",
       "      <th>count</th>\n",
       "      <td>28.000000</td>\n",
       "    </tr>\n",
       "    <tr>\n",
       "      <th>mean</th>\n",
       "      <td>16.178571</td>\n",
       "    </tr>\n",
       "    <tr>\n",
       "      <th>std</th>\n",
       "      <td>19.375535</td>\n",
       "    </tr>\n",
       "    <tr>\n",
       "      <th>min</th>\n",
       "      <td>1.000000</td>\n",
       "    </tr>\n",
       "    <tr>\n",
       "      <th>25%</th>\n",
       "      <td>3.000000</td>\n",
       "    </tr>\n",
       "    <tr>\n",
       "      <th>50%</th>\n",
       "      <td>8.000000</td>\n",
       "    </tr>\n",
       "    <tr>\n",
       "      <th>75%</th>\n",
       "      <td>20.000000</td>\n",
       "    </tr>\n",
       "    <tr>\n",
       "      <th>max</th>\n",
       "      <td>65.000000</td>\n",
       "    </tr>\n",
       "  </tbody>\n",
       "</table>\n",
       "</div>"
      ],
      "text/plain": [
       "          values\n",
       "count  28.000000\n",
       "mean   16.178571\n",
       "std    19.375535\n",
       "min     1.000000\n",
       "25%     3.000000\n",
       "50%     8.000000\n",
       "75%    20.000000\n",
       "max    65.000000"
      ]
     },
     "execution_count": 2571,
     "metadata": {},
     "output_type": "execute_result"
    }
   ],
   "source": [
    "A.describe()"
   ]
  },
  {
   "cell_type": "code",
   "execution_count": 2572,
   "id": "1e554b33",
   "metadata": {},
   "outputs": [
    {
     "data": {
      "text/plain": [
       "8.0"
      ]
     },
     "execution_count": 2572,
     "metadata": {},
     "output_type": "execute_result"
    }
   ],
   "source": [
    "#median\n",
    "B=[1,2,3,1,2,3,4,2,3,5,6,7,8,8,9,8,9,10,12,20,20,20,20,35,55,55,60,65]\n",
    "\n",
    "#using numpy\n",
    "np.median(B)"
   ]
  },
  {
   "cell_type": "code",
   "execution_count": 2573,
   "id": "79ff10f3",
   "metadata": {},
   "outputs": [
    {
     "name": "stdout",
     "output_type": "stream",
     "text": [
      "median :  8.0\n"
     ]
    }
   ],
   "source": [
    "print(\"median : \", np.median(B))"
   ]
  },
  {
   "cell_type": "code",
   "execution_count": 2574,
   "id": "eca53d80",
   "metadata": {},
   "outputs": [
    {
     "data": {
      "text/html": [
       "<div>\n",
       "<style scoped>\n",
       "    .dataframe tbody tr th:only-of-type {\n",
       "        vertical-align: middle;\n",
       "    }\n",
       "\n",
       "    .dataframe tbody tr th {\n",
       "        vertical-align: top;\n",
       "    }\n",
       "\n",
       "    .dataframe thead th {\n",
       "        text-align: right;\n",
       "    }\n",
       "</style>\n",
       "<table border=\"1\" class=\"dataframe\">\n",
       "  <thead>\n",
       "    <tr style=\"text-align: right;\">\n",
       "      <th></th>\n",
       "      <th>values</th>\n",
       "    </tr>\n",
       "  </thead>\n",
       "  <tbody>\n",
       "    <tr>\n",
       "      <th>0</th>\n",
       "      <td>20</td>\n",
       "    </tr>\n",
       "  </tbody>\n",
       "</table>\n",
       "</div>"
      ],
      "text/plain": [
       "   values\n",
       "0      20"
      ]
     },
     "execution_count": 2574,
     "metadata": {},
     "output_type": "execute_result"
    }
   ],
   "source": [
    "#using pandas\n",
    "A.mode()  "
   ]
  },
  {
   "cell_type": "code",
   "execution_count": 2575,
   "id": "d032c6e4",
   "metadata": {},
   "outputs": [],
   "source": [
    "#mode\n",
    "#numpy does not has an attribute mode"
   ]
  },
  {
   "cell_type": "code",
   "execution_count": 2576,
   "id": "6627a8e7",
   "metadata": {},
   "outputs": [],
   "source": [
    "#descriptive statistics\n",
    "#measure of dispersion\n",
    "#variance and std deviation"
   ]
  },
  {
   "cell_type": "markdown",
   "id": "8886ccfb",
   "metadata": {},
   "source": [
    "## Measure of Dispersion"
   ]
  },
  {
   "cell_type": "markdown",
   "id": "10624d91",
   "metadata": {},
   "source": [
    "### Variance"
   ]
  },
  {
   "cell_type": "code",
   "execution_count": 2577,
   "id": "51a65bba",
   "metadata": {},
   "outputs": [
    {
     "data": {
      "text/plain": [
       "values    375.411376\n",
       "dtype: float64"
      ]
     },
     "execution_count": 2577,
     "metadata": {},
     "output_type": "execute_result"
    }
   ],
   "source": [
    "#variance\n",
    "A.var()\n",
    "\n",
    "\n"
   ]
  },
  {
   "cell_type": "code",
   "execution_count": 2578,
   "id": "d3691cd1",
   "metadata": {},
   "outputs": [],
   "source": [
    "\n",
    "#variance"
   ]
  },
  {
   "cell_type": "code",
   "execution_count": 2579,
   "id": "def79b8c",
   "metadata": {},
   "outputs": [
    {
     "data": {
      "text/plain": [
       "362.0038265306122"
      ]
     },
     "execution_count": 2579,
     "metadata": {},
     "output_type": "execute_result"
    }
   ],
   "source": [
    "B=[1,2,3,1,2,3,4,2,3,5,6,7,8,8,9,8,9,10,12,20,20,20,20,35,55,55,60,65]\n",
    "\n",
    "#using numpy\n",
    "np.var(B)\n",
    "     "
   ]
  },
  {
   "cell_type": "code",
   "execution_count": 2580,
   "id": "612ebb22",
   "metadata": {},
   "outputs": [
    {
     "name": "stdout",
     "output_type": "stream",
     "text": [
      "Variance :  362.0038265306122\n"
     ]
    }
   ],
   "source": [
    "\n",
    "print(\"Variance : \", np.var(B))"
   ]
  },
  {
   "cell_type": "markdown",
   "id": "e2e7c92e",
   "metadata": {},
   "source": [
    "## Standard deviation"
   ]
  },
  {
   "cell_type": "code",
   "execution_count": 2581,
   "id": "37c70a10",
   "metadata": {},
   "outputs": [
    {
     "data": {
      "text/plain": [
       "values    19.375535\n",
       "dtype: float64"
      ]
     },
     "execution_count": 2581,
     "metadata": {},
     "output_type": "execute_result"
    }
   ],
   "source": [
    "#using pandas\n",
    "A.std()"
   ]
  },
  {
   "cell_type": "code",
   "execution_count": 2582,
   "id": "eddee89f",
   "metadata": {},
   "outputs": [
    {
     "data": {
      "text/plain": [
       "19.026398149166653"
      ]
     },
     "execution_count": 2582,
     "metadata": {},
     "output_type": "execute_result"
    }
   ],
   "source": [
    "\n",
    "#standard deviation\n",
    "B=[1,2,3,1,2,3,4,2,3,5,6,7,8,8,9,8,9,10,12,20,20,20,20,35,55,55,60,65]\n",
    "\n",
    "#using numpy\n",
    "np.std(B)"
   ]
  },
  {
   "cell_type": "code",
   "execution_count": 2583,
   "id": "1785bb54",
   "metadata": {},
   "outputs": [
    {
     "name": "stdout",
     "output_type": "stream",
     "text": [
      "Variance :  19.026398149166653\n"
     ]
    }
   ],
   "source": [
    "\n",
    "print(\"Variance : \", np.std(B))"
   ]
  },
  {
   "cell_type": "markdown",
   "id": "f58306ef",
   "metadata": {},
   "source": [
    "# 5 number Summary\n",
    "\n",
    "\n",
    "Minimum\n",
    "\n",
    "\n",
    "1st quartile -Q1\n",
    "\n",
    "\n",
    "2nd quartile -Q2(Median)\n",
    "\n",
    "\n",
    "\n",
    "3rd quartile -Q3\n",
    "\n",
    "\n",
    "Maximum\n"
   ]
  },
  {
   "cell_type": "markdown",
   "id": "6780f1c3",
   "metadata": {},
   "source": [
    "### Minimum"
   ]
  },
  {
   "cell_type": "code",
   "execution_count": 2584,
   "id": "6d852cb1",
   "metadata": {},
   "outputs": [
    {
     "data": {
      "text/plain": [
       "values    1\n",
       "dtype: int64"
      ]
     },
     "execution_count": 2584,
     "metadata": {},
     "output_type": "execute_result"
    }
   ],
   "source": [
    "#Minimum using pandas\n",
    "\n",
    "A.min() \n"
   ]
  },
  {
   "cell_type": "code",
   "execution_count": 2585,
   "id": "398fdc94",
   "metadata": {},
   "outputs": [
    {
     "data": {
      "text/plain": [
       "1"
      ]
     },
     "execution_count": 2585,
     "metadata": {},
     "output_type": "execute_result"
    }
   ],
   "source": [
    "\n",
    "#Minimum\n",
    "B=[1,2,3,1,2,3,4,2,3,5,6,7,8,8,9,8,9,10,12,20,20,20,20,35,55,55,60,65]\n",
    "\n",
    "#using numpy\n",
    "np.min(B)"
   ]
  },
  {
   "cell_type": "code",
   "execution_count": 2586,
   "id": "54b0f685",
   "metadata": {},
   "outputs": [
    {
     "name": "stdout",
     "output_type": "stream",
     "text": [
      "Minimum :  1\n"
     ]
    }
   ],
   "source": [
    "\n",
    "print(\"Minimum : \", np.min(B))"
   ]
  },
  {
   "cell_type": "markdown",
   "id": "24c7f996",
   "metadata": {},
   "source": [
    "## Quartiles"
   ]
  },
  {
   "cell_type": "code",
   "execution_count": 2587,
   "id": "6dba34c2",
   "metadata": {},
   "outputs": [
    {
     "data": {
      "text/html": [
       "<div>\n",
       "<style scoped>\n",
       "    .dataframe tbody tr th:only-of-type {\n",
       "        vertical-align: middle;\n",
       "    }\n",
       "\n",
       "    .dataframe tbody tr th {\n",
       "        vertical-align: top;\n",
       "    }\n",
       "\n",
       "    .dataframe thead th {\n",
       "        text-align: right;\n",
       "    }\n",
       "</style>\n",
       "<table border=\"1\" class=\"dataframe\">\n",
       "  <thead>\n",
       "    <tr style=\"text-align: right;\">\n",
       "      <th></th>\n",
       "      <th>values</th>\n",
       "    </tr>\n",
       "  </thead>\n",
       "  <tbody>\n",
       "    <tr>\n",
       "      <th>0.25</th>\n",
       "      <td>3.0</td>\n",
       "    </tr>\n",
       "    <tr>\n",
       "      <th>0.50</th>\n",
       "      <td>8.0</td>\n",
       "    </tr>\n",
       "    <tr>\n",
       "      <th>0.75</th>\n",
       "      <td>20.0</td>\n",
       "    </tr>\n",
       "  </tbody>\n",
       "</table>\n",
       "</div>"
      ],
      "text/plain": [
       "      values\n",
       "0.25     3.0\n",
       "0.50     8.0\n",
       "0.75    20.0"
      ]
     },
     "execution_count": 2587,
     "metadata": {},
     "output_type": "execute_result"
    }
   ],
   "source": [
    "#using pandas\n",
    "A.quantile([0.25,0.50,0.75]) "
   ]
  },
  {
   "cell_type": "code",
   "execution_count": 2588,
   "id": "162924e4",
   "metadata": {},
   "outputs": [
    {
     "data": {
      "text/html": [
       "<div>\n",
       "<style scoped>\n",
       "    .dataframe tbody tr th:only-of-type {\n",
       "        vertical-align: middle;\n",
       "    }\n",
       "\n",
       "    .dataframe tbody tr th {\n",
       "        vertical-align: top;\n",
       "    }\n",
       "\n",
       "    .dataframe thead th {\n",
       "        text-align: right;\n",
       "    }\n",
       "</style>\n",
       "<table border=\"1\" class=\"dataframe\">\n",
       "  <thead>\n",
       "    <tr style=\"text-align: right;\">\n",
       "      <th></th>\n",
       "      <th>values</th>\n",
       "    </tr>\n",
       "  </thead>\n",
       "  <tbody>\n",
       "    <tr>\n",
       "      <th>count</th>\n",
       "      <td>28.000000</td>\n",
       "    </tr>\n",
       "    <tr>\n",
       "      <th>mean</th>\n",
       "      <td>16.178571</td>\n",
       "    </tr>\n",
       "    <tr>\n",
       "      <th>std</th>\n",
       "      <td>19.375535</td>\n",
       "    </tr>\n",
       "    <tr>\n",
       "      <th>min</th>\n",
       "      <td>1.000000</td>\n",
       "    </tr>\n",
       "    <tr>\n",
       "      <th>25%</th>\n",
       "      <td>3.000000</td>\n",
       "    </tr>\n",
       "    <tr>\n",
       "      <th>50%</th>\n",
       "      <td>8.000000</td>\n",
       "    </tr>\n",
       "    <tr>\n",
       "      <th>75%</th>\n",
       "      <td>20.000000</td>\n",
       "    </tr>\n",
       "    <tr>\n",
       "      <th>max</th>\n",
       "      <td>65.000000</td>\n",
       "    </tr>\n",
       "  </tbody>\n",
       "</table>\n",
       "</div>"
      ],
      "text/plain": [
       "          values\n",
       "count  28.000000\n",
       "mean   16.178571\n",
       "std    19.375535\n",
       "min     1.000000\n",
       "25%     3.000000\n",
       "50%     8.000000\n",
       "75%    20.000000\n",
       "max    65.000000"
      ]
     },
     "execution_count": 2588,
     "metadata": {},
     "output_type": "execute_result"
    }
   ],
   "source": [
    "\n",
    "A.describe()"
   ]
  },
  {
   "cell_type": "code",
   "execution_count": 2589,
   "id": "3ea2d8b2",
   "metadata": {},
   "outputs": [
    {
     "data": {
      "text/plain": [
       "array([ 3.,  8., 20.])"
      ]
     },
     "execution_count": 2589,
     "metadata": {},
     "output_type": "execute_result"
    }
   ],
   "source": [
    "\n",
    "#quartiles\n",
    "B=[1,2,3,1,2,3,4,2,3,5,6,7,8,8,9,8,9,10,12,20,20,20,20,35,55,55,60,65]\n",
    "\n",
    "#using numpy\n",
    "np.quantile(B,[0.25,0.50,0.75])"
   ]
  },
  {
   "cell_type": "code",
   "execution_count": 2590,
   "id": "a683a52d",
   "metadata": {},
   "outputs": [
    {
     "name": "stdout",
     "output_type": "stream",
     "text": [
      "Q1 :  3.0 Q2 :  8.0 Q3 :  20.0\n"
     ]
    }
   ],
   "source": [
    "\n",
    "print(\"Q1 : \", np.quantile(B,0.25),\n",
    "      \"Q2 : \", np.quantile(B,0.50),\n",
    "      \"Q3 : \", np.quantile(B,0.75))"
   ]
  },
  {
   "cell_type": "markdown",
   "id": "0b45f8aa",
   "metadata": {},
   "source": [
    "## Maximum"
   ]
  },
  {
   "cell_type": "code",
   "execution_count": 2591,
   "id": "3fdd5a1e",
   "metadata": {},
   "outputs": [
    {
     "data": {
      "text/plain": [
       "values    65\n",
       "dtype: int64"
      ]
     },
     "execution_count": 2591,
     "metadata": {},
     "output_type": "execute_result"
    }
   ],
   "source": [
    "\n",
    "#using pandas\n",
    "A.max()  "
   ]
  },
  {
   "cell_type": "code",
   "execution_count": 2592,
   "id": "dcc311a7",
   "metadata": {},
   "outputs": [
    {
     "data": {
      "text/plain": [
       "65"
      ]
     },
     "execution_count": 2592,
     "metadata": {},
     "output_type": "execute_result"
    }
   ],
   "source": [
    "#Maximum\n",
    "B=[1,2,3,1,2,3,4,2,3,5,6,7,8,8,9,8,9,10,12,20,20,20,20,35,55,55,60,65]\n",
    "\n",
    "#using numpy\n",
    "np.max(B)"
   ]
  },
  {
   "cell_type": "code",
   "execution_count": 2593,
   "id": "70bdd92d",
   "metadata": {},
   "outputs": [
    {
     "name": "stdout",
     "output_type": "stream",
     "text": [
      "Maximum :  65\n"
     ]
    }
   ],
   "source": [
    "print(\"Maximum : \", np.max(B))"
   ]
  },
  {
   "cell_type": "markdown",
   "id": "9806f9f7",
   "metadata": {},
   "source": [
    "## Range"
   ]
  },
  {
   "cell_type": "code",
   "execution_count": 2594,
   "id": "39b198d5",
   "metadata": {},
   "outputs": [
    {
     "data": {
      "text/plain": [
       "values    64\n",
       "dtype: int64"
      ]
     },
     "execution_count": 2594,
     "metadata": {},
     "output_type": "execute_result"
    }
   ],
   "source": [
    "#using pandas\n",
    "Range = A.max()-A.min()\n",
    "Range\n",
    "     "
   ]
  },
  {
   "cell_type": "code",
   "execution_count": 2595,
   "id": "8db5e73a",
   "metadata": {},
   "outputs": [
    {
     "data": {
      "text/plain": [
       "64"
      ]
     },
     "execution_count": 2595,
     "metadata": {},
     "output_type": "execute_result"
    }
   ],
   "source": [
    "\n",
    "#Range\n",
    "#using numpy\n",
    "\n",
    "Ran=np.max(B) - np.min(B)\n",
    "Ran"
   ]
  },
  {
   "cell_type": "markdown",
   "id": "386186f1",
   "metadata": {},
   "source": [
    "## IQR"
   ]
  },
  {
   "cell_type": "code",
   "execution_count": 2596,
   "id": "9781975c",
   "metadata": {},
   "outputs": [
    {
     "data": {
      "text/plain": [
       "values    17.0\n",
       "dtype: float64"
      ]
     },
     "execution_count": 2596,
     "metadata": {},
     "output_type": "execute_result"
    }
   ],
   "source": [
    "#using pandas\n",
    "iqr=A.quantile(0.75)-A.quantile(0.25)\n",
    "iqr"
   ]
  },
  {
   "cell_type": "code",
   "execution_count": 2597,
   "id": "aca2fe0d",
   "metadata": {},
   "outputs": [
    {
     "data": {
      "text/plain": [
       "17.0"
      ]
     },
     "execution_count": 2597,
     "metadata": {},
     "output_type": "execute_result"
    }
   ],
   "source": [
    "\n",
    "#IQR\n",
    "#using numpy\n",
    "IQR = np.quantile(B,0.75)-np.quantile(B,0.25)\n",
    "IQR"
   ]
  },
  {
   "cell_type": "markdown",
   "id": "f893126b",
   "metadata": {},
   "source": [
    "# Example 8"
   ]
  },
  {
   "cell_type": "markdown",
   "id": "480582fa",
   "metadata": {},
   "source": [
    "## Measure of central tendency"
   ]
  },
  {
   "cell_type": "code",
   "execution_count": 2598,
   "id": "99b71072",
   "metadata": {},
   "outputs": [
    {
     "data": {
      "text/html": [
       "<div>\n",
       "<style scoped>\n",
       "    .dataframe tbody tr th:only-of-type {\n",
       "        vertical-align: middle;\n",
       "    }\n",
       "\n",
       "    .dataframe tbody tr th {\n",
       "        vertical-align: top;\n",
       "    }\n",
       "\n",
       "    .dataframe thead th {\n",
       "        text-align: right;\n",
       "    }\n",
       "</style>\n",
       "<table border=\"1\" class=\"dataframe\">\n",
       "  <thead>\n",
       "    <tr style=\"text-align: right;\">\n",
       "      <th></th>\n",
       "      <th>values</th>\n",
       "    </tr>\n",
       "  </thead>\n",
       "  <tbody>\n",
       "    <tr>\n",
       "      <th>0</th>\n",
       "      <td>1</td>\n",
       "    </tr>\n",
       "    <tr>\n",
       "      <th>1</th>\n",
       "      <td>2</td>\n",
       "    </tr>\n",
       "    <tr>\n",
       "      <th>2</th>\n",
       "      <td>3</td>\n",
       "    </tr>\n",
       "    <tr>\n",
       "      <th>3</th>\n",
       "      <td>1</td>\n",
       "    </tr>\n",
       "    <tr>\n",
       "      <th>4</th>\n",
       "      <td>2</td>\n",
       "    </tr>\n",
       "    <tr>\n",
       "      <th>5</th>\n",
       "      <td>3</td>\n",
       "    </tr>\n",
       "    <tr>\n",
       "      <th>6</th>\n",
       "      <td>4</td>\n",
       "    </tr>\n",
       "    <tr>\n",
       "      <th>7</th>\n",
       "      <td>2</td>\n",
       "    </tr>\n",
       "    <tr>\n",
       "      <th>8</th>\n",
       "      <td>3</td>\n",
       "    </tr>\n",
       "    <tr>\n",
       "      <th>9</th>\n",
       "      <td>5</td>\n",
       "    </tr>\n",
       "    <tr>\n",
       "      <th>10</th>\n",
       "      <td>6</td>\n",
       "    </tr>\n",
       "    <tr>\n",
       "      <th>11</th>\n",
       "      <td>7</td>\n",
       "    </tr>\n",
       "    <tr>\n",
       "      <th>12</th>\n",
       "      <td>8</td>\n",
       "    </tr>\n",
       "    <tr>\n",
       "      <th>13</th>\n",
       "      <td>8</td>\n",
       "    </tr>\n",
       "    <tr>\n",
       "      <th>14</th>\n",
       "      <td>9</td>\n",
       "    </tr>\n",
       "    <tr>\n",
       "      <th>15</th>\n",
       "      <td>8</td>\n",
       "    </tr>\n",
       "    <tr>\n",
       "      <th>16</th>\n",
       "      <td>9</td>\n",
       "    </tr>\n",
       "    <tr>\n",
       "      <th>17</th>\n",
       "      <td>10</td>\n",
       "    </tr>\n",
       "    <tr>\n",
       "      <th>18</th>\n",
       "      <td>12</td>\n",
       "    </tr>\n",
       "    <tr>\n",
       "      <th>19</th>\n",
       "      <td>20</td>\n",
       "    </tr>\n",
       "    <tr>\n",
       "      <th>20</th>\n",
       "      <td>20</td>\n",
       "    </tr>\n",
       "    <tr>\n",
       "      <th>21</th>\n",
       "      <td>20</td>\n",
       "    </tr>\n",
       "    <tr>\n",
       "      <th>22</th>\n",
       "      <td>20</td>\n",
       "    </tr>\n",
       "    <tr>\n",
       "      <th>23</th>\n",
       "      <td>35</td>\n",
       "    </tr>\n",
       "    <tr>\n",
       "      <th>24</th>\n",
       "      <td>55</td>\n",
       "    </tr>\n",
       "    <tr>\n",
       "      <th>25</th>\n",
       "      <td>55</td>\n",
       "    </tr>\n",
       "    <tr>\n",
       "      <th>26</th>\n",
       "      <td>60</td>\n",
       "    </tr>\n",
       "    <tr>\n",
       "      <th>27</th>\n",
       "      <td>65</td>\n",
       "    </tr>\n",
       "    <tr>\n",
       "      <th>28</th>\n",
       "      <td>100</td>\n",
       "    </tr>\n",
       "  </tbody>\n",
       "</table>\n",
       "</div>"
      ],
      "text/plain": [
       "    values\n",
       "0        1\n",
       "1        2\n",
       "2        3\n",
       "3        1\n",
       "4        2\n",
       "5        3\n",
       "6        4\n",
       "7        2\n",
       "8        3\n",
       "9        5\n",
       "10       6\n",
       "11       7\n",
       "12       8\n",
       "13       8\n",
       "14       9\n",
       "15       8\n",
       "16       9\n",
       "17      10\n",
       "18      12\n",
       "19      20\n",
       "20      20\n",
       "21      20\n",
       "22      20\n",
       "23      35\n",
       "24      55\n",
       "25      55\n",
       "26      60\n",
       "27      65\n",
       "28     100"
      ]
     },
     "execution_count": 2598,
     "metadata": {},
     "output_type": "execute_result"
    }
   ],
   "source": [
    "#created the list into a table format\n",
    "import pandas as pd\n",
    "A=pd.DataFrame(data={'values': [1,2,3,1,2,3,4,2,3,5,6,7,8,8,9,8,9,10,12,20,20,20,20,35,55,55,60,65,100]})\n",
    "A"
   ]
  },
  {
   "cell_type": "code",
   "execution_count": 2599,
   "id": "f4ea33d7",
   "metadata": {},
   "outputs": [
    {
     "data": {
      "text/plain": [
       "values    19.068966\n",
       "dtype: float64"
      ]
     },
     "execution_count": 2599,
     "metadata": {},
     "output_type": "execute_result"
    }
   ],
   "source": [
    "#mean using pandas\n",
    "A.mean()\n",
    "\n",
    "# To show answer"
   ]
  },
  {
   "cell_type": "code",
   "execution_count": 2600,
   "id": "cdb6353d",
   "metadata": {},
   "outputs": [
    {
     "data": {
      "text/html": [
       "<div>\n",
       "<style scoped>\n",
       "    .dataframe tbody tr th:only-of-type {\n",
       "        vertical-align: middle;\n",
       "    }\n",
       "\n",
       "    .dataframe tbody tr th {\n",
       "        vertical-align: top;\n",
       "    }\n",
       "\n",
       "    .dataframe thead th {\n",
       "        text-align: right;\n",
       "    }\n",
       "</style>\n",
       "<table border=\"1\" class=\"dataframe\">\n",
       "  <thead>\n",
       "    <tr style=\"text-align: right;\">\n",
       "      <th></th>\n",
       "      <th>values</th>\n",
       "    </tr>\n",
       "  </thead>\n",
       "  <tbody>\n",
       "    <tr>\n",
       "      <th>count</th>\n",
       "      <td>29.000000</td>\n",
       "    </tr>\n",
       "    <tr>\n",
       "      <th>mean</th>\n",
       "      <td>19.068966</td>\n",
       "    </tr>\n",
       "    <tr>\n",
       "      <th>std</th>\n",
       "      <td>24.582123</td>\n",
       "    </tr>\n",
       "    <tr>\n",
       "      <th>min</th>\n",
       "      <td>1.000000</td>\n",
       "    </tr>\n",
       "    <tr>\n",
       "      <th>25%</th>\n",
       "      <td>3.000000</td>\n",
       "    </tr>\n",
       "    <tr>\n",
       "      <th>50%</th>\n",
       "      <td>8.000000</td>\n",
       "    </tr>\n",
       "    <tr>\n",
       "      <th>75%</th>\n",
       "      <td>20.000000</td>\n",
       "    </tr>\n",
       "    <tr>\n",
       "      <th>max</th>\n",
       "      <td>100.000000</td>\n",
       "    </tr>\n",
       "  </tbody>\n",
       "</table>\n",
       "</div>"
      ],
      "text/plain": [
       "           values\n",
       "count   29.000000\n",
       "mean    19.068966\n",
       "std     24.582123\n",
       "min      1.000000\n",
       "25%      3.000000\n",
       "50%      8.000000\n",
       "75%     20.000000\n",
       "max    100.000000"
      ]
     },
     "execution_count": 2600,
     "metadata": {},
     "output_type": "execute_result"
    }
   ],
   "source": [
    "A.describe()"
   ]
  },
  {
   "cell_type": "code",
   "execution_count": 2601,
   "id": "e2c8d156",
   "metadata": {},
   "outputs": [
    {
     "data": {
      "text/plain": [
       "19.06896551724138"
      ]
     },
     "execution_count": 2601,
     "metadata": {},
     "output_type": "execute_result"
    }
   ],
   "source": [
    "#mean \n",
    "\n",
    "import numpy as np\n",
    "B=[1,2,3,1,2,3,4,2,3,5,6,7,8,8,9,8,9,10,12,20,20,20,20,35,55,55,60,65,100]\n",
    "\n",
    "#using numpy\n",
    "np.mean(B)"
   ]
  },
  {
   "cell_type": "code",
   "execution_count": 2602,
   "id": "7a34771c",
   "metadata": {},
   "outputs": [
    {
     "name": "stdout",
     "output_type": "stream",
     "text": [
      "mean :  19.06896551724138\n"
     ]
    }
   ],
   "source": [
    "print(\"mean : \", np.mean(B))"
   ]
  },
  {
   "cell_type": "code",
   "execution_count": 2603,
   "id": "68bf9f52",
   "metadata": {},
   "outputs": [
    {
     "data": {
      "text/plain": [
       "values    8.0\n",
       "dtype: float64"
      ]
     },
     "execution_count": 2603,
     "metadata": {},
     "output_type": "execute_result"
    }
   ],
   "source": [
    "#median\n",
    "#using pandas\n",
    "A.median()"
   ]
  },
  {
   "cell_type": "code",
   "execution_count": 2604,
   "id": "23503daf",
   "metadata": {},
   "outputs": [
    {
     "data": {
      "text/html": [
       "<div>\n",
       "<style scoped>\n",
       "    .dataframe tbody tr th:only-of-type {\n",
       "        vertical-align: middle;\n",
       "    }\n",
       "\n",
       "    .dataframe tbody tr th {\n",
       "        vertical-align: top;\n",
       "    }\n",
       "\n",
       "    .dataframe thead th {\n",
       "        text-align: right;\n",
       "    }\n",
       "</style>\n",
       "<table border=\"1\" class=\"dataframe\">\n",
       "  <thead>\n",
       "    <tr style=\"text-align: right;\">\n",
       "      <th></th>\n",
       "      <th>values</th>\n",
       "    </tr>\n",
       "  </thead>\n",
       "  <tbody>\n",
       "    <tr>\n",
       "      <th>count</th>\n",
       "      <td>29.000000</td>\n",
       "    </tr>\n",
       "    <tr>\n",
       "      <th>mean</th>\n",
       "      <td>19.068966</td>\n",
       "    </tr>\n",
       "    <tr>\n",
       "      <th>std</th>\n",
       "      <td>24.582123</td>\n",
       "    </tr>\n",
       "    <tr>\n",
       "      <th>min</th>\n",
       "      <td>1.000000</td>\n",
       "    </tr>\n",
       "    <tr>\n",
       "      <th>25%</th>\n",
       "      <td>3.000000</td>\n",
       "    </tr>\n",
       "    <tr>\n",
       "      <th>50%</th>\n",
       "      <td>8.000000</td>\n",
       "    </tr>\n",
       "    <tr>\n",
       "      <th>75%</th>\n",
       "      <td>20.000000</td>\n",
       "    </tr>\n",
       "    <tr>\n",
       "      <th>max</th>\n",
       "      <td>100.000000</td>\n",
       "    </tr>\n",
       "  </tbody>\n",
       "</table>\n",
       "</div>"
      ],
      "text/plain": [
       "           values\n",
       "count   29.000000\n",
       "mean    19.068966\n",
       "std     24.582123\n",
       "min      1.000000\n",
       "25%      3.000000\n",
       "50%      8.000000\n",
       "75%     20.000000\n",
       "max    100.000000"
      ]
     },
     "execution_count": 2604,
     "metadata": {},
     "output_type": "execute_result"
    }
   ],
   "source": [
    "A.describe()"
   ]
  },
  {
   "cell_type": "code",
   "execution_count": 2605,
   "id": "f0dec4e4",
   "metadata": {},
   "outputs": [
    {
     "data": {
      "text/plain": [
       "8.0"
      ]
     },
     "execution_count": 2605,
     "metadata": {},
     "output_type": "execute_result"
    }
   ],
   "source": [
    "#median\n",
    "B=[1,2,3,1,2,3,4,2,3,5,6,7,8,8,9,8,9,10,12,20,20,20,20,35,55,55,60,65,100]\n",
    "\n",
    "#using numpy\n",
    "np.median(B)"
   ]
  },
  {
   "cell_type": "code",
   "execution_count": 2606,
   "id": "c5fa0f6e",
   "metadata": {},
   "outputs": [
    {
     "name": "stdout",
     "output_type": "stream",
     "text": [
      "median :  8.0\n"
     ]
    }
   ],
   "source": [
    "print(\"median : \", np.median(B))"
   ]
  },
  {
   "cell_type": "code",
   "execution_count": 2607,
   "id": "99a3c656",
   "metadata": {},
   "outputs": [
    {
     "data": {
      "text/html": [
       "<div>\n",
       "<style scoped>\n",
       "    .dataframe tbody tr th:only-of-type {\n",
       "        vertical-align: middle;\n",
       "    }\n",
       "\n",
       "    .dataframe tbody tr th {\n",
       "        vertical-align: top;\n",
       "    }\n",
       "\n",
       "    .dataframe thead th {\n",
       "        text-align: right;\n",
       "    }\n",
       "</style>\n",
       "<table border=\"1\" class=\"dataframe\">\n",
       "  <thead>\n",
       "    <tr style=\"text-align: right;\">\n",
       "      <th></th>\n",
       "      <th>values</th>\n",
       "    </tr>\n",
       "  </thead>\n",
       "  <tbody>\n",
       "    <tr>\n",
       "      <th>0</th>\n",
       "      <td>20</td>\n",
       "    </tr>\n",
       "  </tbody>\n",
       "</table>\n",
       "</div>"
      ],
      "text/plain": [
       "   values\n",
       "0      20"
      ]
     },
     "execution_count": 2607,
     "metadata": {},
     "output_type": "execute_result"
    }
   ],
   "source": [
    "#using pandas\n",
    "A.mode()  "
   ]
  },
  {
   "cell_type": "code",
   "execution_count": 2608,
   "id": "10526ccc",
   "metadata": {},
   "outputs": [],
   "source": [
    "#mode\n",
    "#numpy does not has an attribute mode"
   ]
  },
  {
   "cell_type": "code",
   "execution_count": 2609,
   "id": "e3e984b8",
   "metadata": {},
   "outputs": [],
   "source": [
    "#descriptive statistics\n",
    "#measure of dispersion\n",
    "#variance and std deviation"
   ]
  },
  {
   "cell_type": "markdown",
   "id": "e569dcc1",
   "metadata": {},
   "source": [
    "## Measure of Dispersion"
   ]
  },
  {
   "cell_type": "markdown",
   "id": "b9cc993f",
   "metadata": {},
   "source": [
    "### Variance"
   ]
  },
  {
   "cell_type": "code",
   "execution_count": 2610,
   "id": "c3d094f9",
   "metadata": {},
   "outputs": [
    {
     "data": {
      "text/plain": [
       "values    604.280788\n",
       "dtype: float64"
      ]
     },
     "execution_count": 2610,
     "metadata": {},
     "output_type": "execute_result"
    }
   ],
   "source": [
    "#variance\n",
    "A.var()\n",
    "\n",
    "\n"
   ]
  },
  {
   "cell_type": "code",
   "execution_count": 2611,
   "id": "4a44cbf9",
   "metadata": {},
   "outputs": [],
   "source": [
    "\n",
    "#variance"
   ]
  },
  {
   "cell_type": "code",
   "execution_count": 2612,
   "id": "315c9c7d",
   "metadata": {},
   "outputs": [
    {
     "data": {
      "text/plain": [
       "583.4435196195006"
      ]
     },
     "execution_count": 2612,
     "metadata": {},
     "output_type": "execute_result"
    }
   ],
   "source": [
    "B=[1,2,3,1,2,3,4,2,3,5,6,7,8,8,9,8,9,10,12,20,20,20,20,35,55,55,60,65,100]\n",
    "\n",
    "#using numpy\n",
    "np.var(B)\n",
    "     "
   ]
  },
  {
   "cell_type": "code",
   "execution_count": 2613,
   "id": "ca07c77c",
   "metadata": {},
   "outputs": [
    {
     "name": "stdout",
     "output_type": "stream",
     "text": [
      "Variance :  583.4435196195006\n"
     ]
    }
   ],
   "source": [
    "\n",
    "print(\"Variance : \", np.var(B))"
   ]
  },
  {
   "cell_type": "markdown",
   "id": "1f69e946",
   "metadata": {},
   "source": [
    "## Standard deviation"
   ]
  },
  {
   "cell_type": "code",
   "execution_count": 2614,
   "id": "076aeaa3",
   "metadata": {},
   "outputs": [
    {
     "data": {
      "text/plain": [
       "values    24.582123\n",
       "dtype: float64"
      ]
     },
     "execution_count": 2614,
     "metadata": {},
     "output_type": "execute_result"
    }
   ],
   "source": [
    "#using pandas\n",
    "A.std()"
   ]
  },
  {
   "cell_type": "code",
   "execution_count": 2615,
   "id": "188ca4f8",
   "metadata": {},
   "outputs": [
    {
     "data": {
      "text/plain": [
       "24.15457554211004"
      ]
     },
     "execution_count": 2615,
     "metadata": {},
     "output_type": "execute_result"
    }
   ],
   "source": [
    "\n",
    "#standard deviation\n",
    "B=[1,2,3,1,2,3,4,2,3,5,6,7,8,8,9,8,9,10,12,20,20,20,20,35,55,55,60,65,100]\n",
    "\n",
    "#using numpy\n",
    "np.std(B)"
   ]
  },
  {
   "cell_type": "code",
   "execution_count": 2616,
   "id": "6788584d",
   "metadata": {},
   "outputs": [
    {
     "name": "stdout",
     "output_type": "stream",
     "text": [
      "Variance :  24.15457554211004\n"
     ]
    }
   ],
   "source": [
    "\n",
    "print(\"Variance : \", np.std(B))"
   ]
  },
  {
   "cell_type": "markdown",
   "id": "2408efbd",
   "metadata": {},
   "source": [
    "# 5 number Summary\n",
    "\n",
    "\n",
    "Minimum\n",
    "\n",
    "\n",
    "1st quartile -Q1\n",
    "\n",
    "\n",
    "2nd quartile -Q2(Median)\n",
    "\n",
    "\n",
    "\n",
    "3rd quartile -Q3\n",
    "\n",
    "\n",
    "Maximum\n"
   ]
  },
  {
   "cell_type": "markdown",
   "id": "f1f6d425",
   "metadata": {},
   "source": [
    "### Minimum"
   ]
  },
  {
   "cell_type": "code",
   "execution_count": 2617,
   "id": "392568e0",
   "metadata": {},
   "outputs": [
    {
     "data": {
      "text/plain": [
       "values    1\n",
       "dtype: int64"
      ]
     },
     "execution_count": 2617,
     "metadata": {},
     "output_type": "execute_result"
    }
   ],
   "source": [
    "#Minimum using pandas\n",
    "\n",
    "A.min() \n"
   ]
  },
  {
   "cell_type": "code",
   "execution_count": 2618,
   "id": "ec461ec5",
   "metadata": {},
   "outputs": [
    {
     "data": {
      "text/plain": [
       "1"
      ]
     },
     "execution_count": 2618,
     "metadata": {},
     "output_type": "execute_result"
    }
   ],
   "source": [
    "\n",
    "#Minimum\n",
    "B=[1,2,3,1,2,3,4,2,3,5,6,7,8,8,9,8,9,10,12,20,20,20,20,35,55,55,60,65,100]\n",
    "\n",
    "#using numpy\n",
    "np.min(B)"
   ]
  },
  {
   "cell_type": "code",
   "execution_count": 2619,
   "id": "23a40a4e",
   "metadata": {},
   "outputs": [
    {
     "name": "stdout",
     "output_type": "stream",
     "text": [
      "Minimum :  1\n"
     ]
    }
   ],
   "source": [
    "\n",
    "print(\"Minimum : \", np.min(B))"
   ]
  },
  {
   "cell_type": "markdown",
   "id": "40d09784",
   "metadata": {},
   "source": [
    "## Quartiles"
   ]
  },
  {
   "cell_type": "code",
   "execution_count": 2620,
   "id": "16dd532d",
   "metadata": {},
   "outputs": [
    {
     "data": {
      "text/html": [
       "<div>\n",
       "<style scoped>\n",
       "    .dataframe tbody tr th:only-of-type {\n",
       "        vertical-align: middle;\n",
       "    }\n",
       "\n",
       "    .dataframe tbody tr th {\n",
       "        vertical-align: top;\n",
       "    }\n",
       "\n",
       "    .dataframe thead th {\n",
       "        text-align: right;\n",
       "    }\n",
       "</style>\n",
       "<table border=\"1\" class=\"dataframe\">\n",
       "  <thead>\n",
       "    <tr style=\"text-align: right;\">\n",
       "      <th></th>\n",
       "      <th>values</th>\n",
       "    </tr>\n",
       "  </thead>\n",
       "  <tbody>\n",
       "    <tr>\n",
       "      <th>0.25</th>\n",
       "      <td>3.0</td>\n",
       "    </tr>\n",
       "    <tr>\n",
       "      <th>0.50</th>\n",
       "      <td>8.0</td>\n",
       "    </tr>\n",
       "    <tr>\n",
       "      <th>0.75</th>\n",
       "      <td>20.0</td>\n",
       "    </tr>\n",
       "  </tbody>\n",
       "</table>\n",
       "</div>"
      ],
      "text/plain": [
       "      values\n",
       "0.25     3.0\n",
       "0.50     8.0\n",
       "0.75    20.0"
      ]
     },
     "execution_count": 2620,
     "metadata": {},
     "output_type": "execute_result"
    }
   ],
   "source": [
    "#using pandas\n",
    "A.quantile([0.25,0.50,0.75]) "
   ]
  },
  {
   "cell_type": "code",
   "execution_count": 2621,
   "id": "57635c2e",
   "metadata": {},
   "outputs": [
    {
     "data": {
      "text/html": [
       "<div>\n",
       "<style scoped>\n",
       "    .dataframe tbody tr th:only-of-type {\n",
       "        vertical-align: middle;\n",
       "    }\n",
       "\n",
       "    .dataframe tbody tr th {\n",
       "        vertical-align: top;\n",
       "    }\n",
       "\n",
       "    .dataframe thead th {\n",
       "        text-align: right;\n",
       "    }\n",
       "</style>\n",
       "<table border=\"1\" class=\"dataframe\">\n",
       "  <thead>\n",
       "    <tr style=\"text-align: right;\">\n",
       "      <th></th>\n",
       "      <th>values</th>\n",
       "    </tr>\n",
       "  </thead>\n",
       "  <tbody>\n",
       "    <tr>\n",
       "      <th>count</th>\n",
       "      <td>29.000000</td>\n",
       "    </tr>\n",
       "    <tr>\n",
       "      <th>mean</th>\n",
       "      <td>19.068966</td>\n",
       "    </tr>\n",
       "    <tr>\n",
       "      <th>std</th>\n",
       "      <td>24.582123</td>\n",
       "    </tr>\n",
       "    <tr>\n",
       "      <th>min</th>\n",
       "      <td>1.000000</td>\n",
       "    </tr>\n",
       "    <tr>\n",
       "      <th>25%</th>\n",
       "      <td>3.000000</td>\n",
       "    </tr>\n",
       "    <tr>\n",
       "      <th>50%</th>\n",
       "      <td>8.000000</td>\n",
       "    </tr>\n",
       "    <tr>\n",
       "      <th>75%</th>\n",
       "      <td>20.000000</td>\n",
       "    </tr>\n",
       "    <tr>\n",
       "      <th>max</th>\n",
       "      <td>100.000000</td>\n",
       "    </tr>\n",
       "  </tbody>\n",
       "</table>\n",
       "</div>"
      ],
      "text/plain": [
       "           values\n",
       "count   29.000000\n",
       "mean    19.068966\n",
       "std     24.582123\n",
       "min      1.000000\n",
       "25%      3.000000\n",
       "50%      8.000000\n",
       "75%     20.000000\n",
       "max    100.000000"
      ]
     },
     "execution_count": 2621,
     "metadata": {},
     "output_type": "execute_result"
    }
   ],
   "source": [
    "\n",
    "A.describe()"
   ]
  },
  {
   "cell_type": "code",
   "execution_count": 2622,
   "id": "b0bcfb10",
   "metadata": {},
   "outputs": [
    {
     "data": {
      "text/plain": [
       "array([ 3.,  8., 20.])"
      ]
     },
     "execution_count": 2622,
     "metadata": {},
     "output_type": "execute_result"
    }
   ],
   "source": [
    "\n",
    "#quartiles\n",
    "B=[1,2,3,1,2,3,4,2,3,5,6,7,8,8,9,8,9,10,12,20,20,20,20,35,55,55,60,65,100]\n",
    "\n",
    "#using numpy\n",
    "np.quantile(B,[0.25,0.50,0.75])"
   ]
  },
  {
   "cell_type": "code",
   "execution_count": 2623,
   "id": "4be972d1",
   "metadata": {},
   "outputs": [
    {
     "name": "stdout",
     "output_type": "stream",
     "text": [
      "Q1 :  3.0 Q2 :  8.0 Q3 :  20.0\n"
     ]
    }
   ],
   "source": [
    "\n",
    "print(\"Q1 : \", np.quantile(B,0.25),\n",
    "      \"Q2 : \", np.quantile(B,0.50),\n",
    "      \"Q3 : \", np.quantile(B,0.75))"
   ]
  },
  {
   "cell_type": "markdown",
   "id": "efad8f45",
   "metadata": {},
   "source": [
    "## Maximum"
   ]
  },
  {
   "cell_type": "code",
   "execution_count": 2624,
   "id": "3fb49d34",
   "metadata": {},
   "outputs": [
    {
     "data": {
      "text/plain": [
       "values    100\n",
       "dtype: int64"
      ]
     },
     "execution_count": 2624,
     "metadata": {},
     "output_type": "execute_result"
    }
   ],
   "source": [
    "\n",
    "#using pandas\n",
    "A.max()  "
   ]
  },
  {
   "cell_type": "code",
   "execution_count": 2625,
   "id": "63a3b437",
   "metadata": {},
   "outputs": [
    {
     "data": {
      "text/plain": [
       "100"
      ]
     },
     "execution_count": 2625,
     "metadata": {},
     "output_type": "execute_result"
    }
   ],
   "source": [
    "#Maximum\n",
    "B=[1,2,3,1,2,3,4,2,3,5,6,7,8,8,9,8,9,10,12,20,20,20,20,35,55,55,60,65,100]\n",
    "\n",
    "#using numpy\n",
    "np.max(B)"
   ]
  },
  {
   "cell_type": "code",
   "execution_count": 2626,
   "id": "3735749e",
   "metadata": {},
   "outputs": [
    {
     "name": "stdout",
     "output_type": "stream",
     "text": [
      "Maximum :  100\n"
     ]
    }
   ],
   "source": [
    "print(\"Maximum : \", np.max(B))"
   ]
  },
  {
   "cell_type": "markdown",
   "id": "35cf4a2d",
   "metadata": {},
   "source": [
    "## Range"
   ]
  },
  {
   "cell_type": "code",
   "execution_count": 2627,
   "id": "86a2e177",
   "metadata": {},
   "outputs": [
    {
     "data": {
      "text/plain": [
       "values    99\n",
       "dtype: int64"
      ]
     },
     "execution_count": 2627,
     "metadata": {},
     "output_type": "execute_result"
    }
   ],
   "source": [
    "#using pandas\n",
    "Range = A.max()-A.min()\n",
    "Range\n",
    "     "
   ]
  },
  {
   "cell_type": "code",
   "execution_count": 2628,
   "id": "3866769e",
   "metadata": {},
   "outputs": [
    {
     "data": {
      "text/plain": [
       "99"
      ]
     },
     "execution_count": 2628,
     "metadata": {},
     "output_type": "execute_result"
    }
   ],
   "source": [
    "\n",
    "#Range\n",
    "#using numpy\n",
    "\n",
    "Ran=np.max(B) - np.min(B)\n",
    "Ran"
   ]
  },
  {
   "cell_type": "markdown",
   "id": "5c6c416d",
   "metadata": {},
   "source": [
    "## IQR"
   ]
  },
  {
   "cell_type": "code",
   "execution_count": 2629,
   "id": "5e9382fc",
   "metadata": {},
   "outputs": [
    {
     "data": {
      "text/plain": [
       "values    17.0\n",
       "dtype: float64"
      ]
     },
     "execution_count": 2629,
     "metadata": {},
     "output_type": "execute_result"
    }
   ],
   "source": [
    "#using pandas\n",
    "iqr=A.quantile(0.75)-A.quantile(0.25)\n",
    "iqr"
   ]
  },
  {
   "cell_type": "code",
   "execution_count": 2630,
   "id": "96075b11",
   "metadata": {},
   "outputs": [
    {
     "data": {
      "text/plain": [
       "17.0"
      ]
     },
     "execution_count": 2630,
     "metadata": {},
     "output_type": "execute_result"
    }
   ],
   "source": [
    "\n",
    "#IQR\n",
    "#using numpy\n",
    "IQR = np.quantile(B,0.75)-np.quantile(B,0.25)\n",
    "IQR"
   ]
  },
  {
   "cell_type": "code",
   "execution_count": null,
   "id": "d2a7bd34",
   "metadata": {},
   "outputs": [],
   "source": []
  }
 ],
 "metadata": {
  "kernelspec": {
   "display_name": "Python 3 (ipykernel)",
   "language": "python",
   "name": "python3"
  },
  "language_info": {
   "codemirror_mode": {
    "name": "ipython",
    "version": 3
   },
   "file_extension": ".py",
   "mimetype": "text/x-python",
   "name": "python",
   "nbconvert_exporter": "python",
   "pygments_lexer": "ipython3",
   "version": "3.9.12"
  }
 },
 "nbformat": 4,
 "nbformat_minor": 5
}
