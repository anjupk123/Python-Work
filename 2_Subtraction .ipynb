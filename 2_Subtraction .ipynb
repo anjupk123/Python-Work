{
 "cells": [
  {
   "cell_type": "markdown",
   "metadata": {
    "id": "qrpk13cQZYT5"
   },
   "source": [
    "### To Subtract 2 numbers \n",
    "1st assign data into string\\\n",
    "input a number"
   ]
  },
  {
   "cell_type": "code",
   "execution_count": 1,
   "metadata": {
    "colab": {
     "base_uri": "https://localhost:8080/"
    },
    "id": "IzUiZK81baNl",
    "outputId": "24f159c1-4703-4f1f-8fe6-1005d33773f5"
   },
   "outputs": [
    {
     "data": {
      "text/plain": [
       "8"
      ]
     },
     "execution_count": 1,
     "metadata": {},
     "output_type": "execute_result"
    }
   ],
   "source": [
    "a=2\n",
    "b=10\n",
    "c=b-a\n",
    "c"
   ]
  },
  {
   "cell_type": "markdown",
   "metadata": {
    "id": "y8Gj_tTNbhyt"
   },
   "source": [
    "## or"
   ]
  },
  {
   "cell_type": "code",
   "execution_count": 2,
   "metadata": {
    "colab": {
     "base_uri": "https://localhost:8080/"
    },
    "id": "jOAyb4x8ZzWF",
    "outputId": "a68fea42-7dcd-42be-a22c-c45412905f4d"
   },
   "outputs": [
    {
     "name": "stdout",
     "output_type": "stream",
     "text": [
      "first number:20\n"
     ]
    }
   ],
   "source": [
    "num1=input('first number:')\n"
   ]
  },
  {
   "cell_type": "code",
   "execution_count": 3,
   "metadata": {
    "colab": {
     "base_uri": "https://localhost:8080/"
    },
    "id": "EF1foG_YZ6HA",
    "outputId": "233f382d-ce70-4838-bacb-3a14409ae8bb"
   },
   "outputs": [
    {
     "name": "stdout",
     "output_type": "stream",
     "text": [
      "\n",
      "Second number:40\n"
     ]
    }
   ],
   "source": [
    "#back slash is given to come to next line\n",
    "num2=input('\\nSecond number:')"
   ]
  },
  {
   "cell_type": "code",
   "execution_count": 4,
   "metadata": {
    "colab": {
     "base_uri": "https://localhost:8080/"
    },
    "id": "h6OF2SGvaCj1",
    "outputId": "73ede4cf-ba7d-49ed-8b60-3df41a68a40d"
   },
   "outputs": [
    {
     "data": {
      "text/plain": [
       "-20.0"
      ]
     },
     "execution_count": 4,
     "metadata": {},
     "output_type": "execute_result"
    }
   ],
   "source": [
    "#string converting to float\n",
    "sub=float(num1)-float(num2)\n",
    "sub"
   ]
  },
  {
   "cell_type": "code",
   "execution_count": 5,
   "metadata": {
    "colab": {
     "base_uri": "https://localhost:8080/"
    },
    "id": "JrxdLtvBaQz2",
    "outputId": "598cb39d-54b5-4f5a-ae9f-00c63ac10cfb"
   },
   "outputs": [
    {
     "name": "stdout",
     "output_type": "stream",
     "text": [
      "the subracted value of 20 and 40 is -20.0\n"
     ]
    }
   ],
   "source": [
    "#to convert float into string format we give .format\n",
    "#here inside the curly brackets we give the index numbers of each code\n",
    "\n",
    "print('the subracted value of {0} and {1} is {2}' .format(num1,num2,sub))"
   ]
  }
 ],
 "metadata": {
  "colab": {
   "name": "2.Subtraction.ipynb",
   "provenance": []
  },
  "kernelspec": {
   "display_name": "Python 3 (ipykernel)",
   "language": "python",
   "name": "python3"
  },
  "language_info": {
   "codemirror_mode": {
    "name": "ipython",
    "version": 3
   },
   "file_extension": ".py",
   "mimetype": "text/x-python",
   "name": "python",
   "nbconvert_exporter": "python",
   "pygments_lexer": "ipython3",
   "version": "3.9.12"
  }
 },
 "nbformat": 4,
 "nbformat_minor": 1
}
