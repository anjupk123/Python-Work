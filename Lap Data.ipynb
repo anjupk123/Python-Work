{
 "cells": [
  {
   "cell_type": "markdown",
   "id": "467e0e6a",
   "metadata": {},
   "source": [
    "# Rivision"
   ]
  },
  {
   "cell_type": "markdown",
   "id": "47dd9476",
   "metadata": {},
   "source": [
    "### Q1. print 6 lessthan  10 if 6 <10"
   ]
  },
  {
   "cell_type": "code",
   "execution_count": 1,
   "id": "8217c563",
   "metadata": {},
   "outputs": [
    {
     "name": "stdout",
     "output_type": "stream",
     "text": [
      "6 less than 10\n"
     ]
    }
   ],
   "source": [
    "a=6\n",
    "b=10\n",
    "\n",
    "if a<b:\n",
    "\n",
    " print(\"6 less than 10\");"
   ]
  },
  {
   "cell_type": "markdown",
   "id": "fa621368",
   "metadata": {},
   "source": [
    "### Q2. print the data type of 6.9"
   ]
  },
  {
   "cell_type": "code",
   "execution_count": 2,
   "id": "36ffec69",
   "metadata": {},
   "outputs": [
    {
     "name": "stdout",
     "output_type": "stream",
     "text": [
      "6.9\n"
     ]
    }
   ],
   "source": [
    "q = 6.9\n",
    "\n",
    "print(q)"
   ]
  },
  {
   "cell_type": "code",
   "execution_count": 3,
   "id": "49ab8295",
   "metadata": {},
   "outputs": [
    {
     "name": "stdout",
     "output_type": "stream",
     "text": [
      "<class 'float'>\n"
     ]
    }
   ],
   "source": [
    "F=6.9\n",
    "print(type(F))"
   ]
  },
  {
   "cell_type": "markdown",
   "id": "84cf907b",
   "metadata": {},
   "source": [
    "### Q3. t= Niya,  y =Filo,  z= and , x= are good friends   print Niya and Filo are Good Friends"
   ]
  },
  {
   "cell_type": "code",
   "execution_count": 4,
   "id": "c597beb5",
   "metadata": {},
   "outputs": [
    {
     "name": "stdout",
     "output_type": "stream",
     "text": [
      "Niya and Filo are good friends\n"
     ]
    }
   ],
   "source": [
    "t=\"Niya\"\n",
    "y=\"Filo\"\n",
    "z=\"and\"\n",
    "x=\"are good friends\"\n",
    "print(t,z,y,x)"
   ]
  },
  {
   "cell_type": "markdown",
   "id": "2339f12e",
   "metadata": {},
   "source": [
    "### Q4. Multiply X=20 and y = 40, you can use input fuction for this"
   ]
  },
  {
   "cell_type": "code",
   "execution_count": 6,
   "id": "b82d318c",
   "metadata": {},
   "outputs": [
    {
     "name": "stdout",
     "output_type": "stream",
     "text": [
      "first number:20\n",
      "\n",
      "Second number:40\n",
      "the multiplied value of 20 and 40 is 800\n"
     ]
    }
   ],
   "source": [
    "x=input('first number:')\n",
    "y=input('\\nSecond number:')\n",
    "Mul=(20*40)\n",
    "Mul\n",
    "print('the multiplied value of {0} and {1} is {2}'.format(x,y,Mul))"
   ]
  },
  {
   "cell_type": "markdown",
   "id": "af302ade",
   "metadata": {},
   "source": [
    "# Or"
   ]
  },
  {
   "cell_type": "code",
   "execution_count": 9,
   "id": "e3256fee",
   "metadata": {},
   "outputs": [
    {
     "name": "stdout",
     "output_type": "stream",
     "text": [
      "first number:20\n"
     ]
    }
   ],
   "source": [
    "x=input('first number:')"
   ]
  },
  {
   "cell_type": "code",
   "execution_count": 10,
   "id": "df8fe562",
   "metadata": {},
   "outputs": [
    {
     "name": "stdout",
     "output_type": "stream",
     "text": [
      "\n",
      "Second number:40\n"
     ]
    }
   ],
   "source": [
    "y=input('\\nSecond number:')"
   ]
  },
  {
   "cell_type": "code",
   "execution_count": 11,
   "id": "f3cdc5d7",
   "metadata": {},
   "outputs": [
    {
     "data": {
      "text/plain": [
       "800.0"
      ]
     },
     "execution_count": 11,
     "metadata": {},
     "output_type": "execute_result"
    }
   ],
   "source": [
    "Mul=float(x)*float(y)\n",
    "Mul"
   ]
  },
  {
   "cell_type": "code",
   "execution_count": 12,
   "id": "7428a077",
   "metadata": {},
   "outputs": [
    {
     "name": "stdout",
     "output_type": "stream",
     "text": [
      "Multiply:800.0\n"
     ]
    }
   ],
   "source": [
    "print(\"Multiply:{0}\".format(Mul))"
   ]
  },
  {
   "cell_type": "markdown",
   "id": "01230bbd",
   "metadata": {},
   "source": [
    "### Q5. create a list of data a=[100, 234, 120, 111, 121, 201], then create dataframe using this data, Also find the mean and median of this numbers"
   ]
  },
  {
   "cell_type": "code",
   "execution_count": 13,
   "id": "82676788",
   "metadata": {},
   "outputs": [
    {
     "data": {
      "text/plain": [
       "{'data': [100, 234, 120, 111, 121, 201]}"
      ]
     },
     "execution_count": 13,
     "metadata": {},
     "output_type": "execute_result"
    }
   ],
   "source": [
    "import pandas as pd\n",
    "\n",
    "dict={\"data\":[100,234,120,111,121,201]}\n",
    "dict"
   ]
  },
  {
   "cell_type": "code",
   "execution_count": 14,
   "id": "38b4e04e",
   "metadata": {},
   "outputs": [],
   "source": [
    "dict1=pd.DataFrame(dict)"
   ]
  },
  {
   "cell_type": "code",
   "execution_count": 15,
   "id": "28221171",
   "metadata": {},
   "outputs": [
    {
     "data": {
      "text/html": [
       "<div>\n",
       "<style scoped>\n",
       "    .dataframe tbody tr th:only-of-type {\n",
       "        vertical-align: middle;\n",
       "    }\n",
       "\n",
       "    .dataframe tbody tr th {\n",
       "        vertical-align: top;\n",
       "    }\n",
       "\n",
       "    .dataframe thead th {\n",
       "        text-align: right;\n",
       "    }\n",
       "</style>\n",
       "<table border=\"1\" class=\"dataframe\">\n",
       "  <thead>\n",
       "    <tr style=\"text-align: right;\">\n",
       "      <th></th>\n",
       "      <th>data</th>\n",
       "    </tr>\n",
       "  </thead>\n",
       "  <tbody>\n",
       "    <tr>\n",
       "      <th>0</th>\n",
       "      <td>100</td>\n",
       "    </tr>\n",
       "    <tr>\n",
       "      <th>1</th>\n",
       "      <td>234</td>\n",
       "    </tr>\n",
       "    <tr>\n",
       "      <th>2</th>\n",
       "      <td>120</td>\n",
       "    </tr>\n",
       "    <tr>\n",
       "      <th>3</th>\n",
       "      <td>111</td>\n",
       "    </tr>\n",
       "    <tr>\n",
       "      <th>4</th>\n",
       "      <td>121</td>\n",
       "    </tr>\n",
       "    <tr>\n",
       "      <th>5</th>\n",
       "      <td>201</td>\n",
       "    </tr>\n",
       "  </tbody>\n",
       "</table>\n",
       "</div>"
      ],
      "text/plain": [
       "   data\n",
       "0   100\n",
       "1   234\n",
       "2   120\n",
       "3   111\n",
       "4   121\n",
       "5   201"
      ]
     },
     "execution_count": 15,
     "metadata": {},
     "output_type": "execute_result"
    }
   ],
   "source": [
    "dict1"
   ]
  },
  {
   "cell_type": "code",
   "execution_count": 16,
   "id": "28054e0f",
   "metadata": {},
   "outputs": [
    {
     "data": {
      "text/plain": [
       "data    147.833333\n",
       "dtype: float64"
      ]
     },
     "execution_count": 16,
     "metadata": {},
     "output_type": "execute_result"
    }
   ],
   "source": [
    "dict1.mean()"
   ]
  },
  {
   "cell_type": "code",
   "execution_count": 17,
   "id": "62747702",
   "metadata": {},
   "outputs": [
    {
     "data": {
      "text/plain": [
       "data    120.5\n",
       "dtype: float64"
      ]
     },
     "execution_count": 17,
     "metadata": {},
     "output_type": "execute_result"
    }
   ],
   "source": [
    "dict1.median()"
   ]
  },
  {
   "cell_type": "code",
   "execution_count": null,
   "id": "804e5562",
   "metadata": {},
   "outputs": [],
   "source": []
  },
  {
   "cell_type": "code",
   "execution_count": 18,
   "id": "d4b23d29",
   "metadata": {},
   "outputs": [
    {
     "data": {
      "text/html": [
       "<div>\n",
       "<style scoped>\n",
       "    .dataframe tbody tr th:only-of-type {\n",
       "        vertical-align: middle;\n",
       "    }\n",
       "\n",
       "    .dataframe tbody tr th {\n",
       "        vertical-align: top;\n",
       "    }\n",
       "\n",
       "    .dataframe thead th {\n",
       "        text-align: right;\n",
       "    }\n",
       "</style>\n",
       "<table border=\"1\" class=\"dataframe\">\n",
       "  <thead>\n",
       "    <tr style=\"text-align: right;\">\n",
       "      <th></th>\n",
       "      <th>Name of products</th>\n",
       "      <th>Model</th>\n",
       "      <th>colour</th>\n",
       "      <th>date</th>\n",
       "      <th>price</th>\n",
       "    </tr>\n",
       "  </thead>\n",
       "  <tbody>\n",
       "    <tr>\n",
       "      <th>0</th>\n",
       "      <td>LG</td>\n",
       "      <td>i5</td>\n",
       "      <td>black</td>\n",
       "      <td>2020-06-01 00:00:00</td>\n",
       "      <td>66100</td>\n",
       "    </tr>\n",
       "    <tr>\n",
       "      <th>1</th>\n",
       "      <td>DELL</td>\n",
       "      <td>i3</td>\n",
       "      <td>black</td>\n",
       "      <td>01/23/2020</td>\n",
       "      <td>37500</td>\n",
       "    </tr>\n",
       "    <tr>\n",
       "      <th>2</th>\n",
       "      <td>DELL</td>\n",
       "      <td>i5</td>\n",
       "      <td>black</td>\n",
       "      <td>2020-09-02 00:00:00</td>\n",
       "      <td>86800</td>\n",
       "    </tr>\n",
       "    <tr>\n",
       "      <th>3</th>\n",
       "      <td>LG</td>\n",
       "      <td>i7</td>\n",
       "      <td>black</td>\n",
       "      <td>2020-09-03 00:00:00</td>\n",
       "      <td>90500</td>\n",
       "    </tr>\n",
       "    <tr>\n",
       "      <th>4</th>\n",
       "      <td>HP</td>\n",
       "      <td>i7</td>\n",
       "      <td>silver</td>\n",
       "      <td>2020-09-04 00:00:00</td>\n",
       "      <td>99200</td>\n",
       "    </tr>\n",
       "    <tr>\n",
       "      <th>5</th>\n",
       "      <td>DELL</td>\n",
       "      <td>i5</td>\n",
       "      <td>matt</td>\n",
       "      <td>2020-09-05 00:00:00</td>\n",
       "      <td>48900</td>\n",
       "    </tr>\n",
       "    <tr>\n",
       "      <th>6</th>\n",
       "      <td>ASUS</td>\n",
       "      <td>i3</td>\n",
       "      <td>silver</td>\n",
       "      <td>2020-09-06 00:00:00</td>\n",
       "      <td>36000</td>\n",
       "    </tr>\n",
       "    <tr>\n",
       "      <th>7</th>\n",
       "      <td>ACER</td>\n",
       "      <td>i5</td>\n",
       "      <td>black</td>\n",
       "      <td>2020-09-07 00:00:00</td>\n",
       "      <td>55200</td>\n",
       "    </tr>\n",
       "    <tr>\n",
       "      <th>8</th>\n",
       "      <td>DELL</td>\n",
       "      <td>i5</td>\n",
       "      <td>red</td>\n",
       "      <td>2020-09-08 00:00:00</td>\n",
       "      <td>77000</td>\n",
       "    </tr>\n",
       "    <tr>\n",
       "      <th>9</th>\n",
       "      <td>HP</td>\n",
       "      <td>i5</td>\n",
       "      <td>silver</td>\n",
       "      <td>2020-09-09 00:00:00</td>\n",
       "      <td>68000</td>\n",
       "    </tr>\n",
       "    <tr>\n",
       "      <th>10</th>\n",
       "      <td>LG</td>\n",
       "      <td>i7</td>\n",
       "      <td>silver</td>\n",
       "      <td>2020-09-10 00:00:00</td>\n",
       "      <td>77600</td>\n",
       "    </tr>\n",
       "    <tr>\n",
       "      <th>11</th>\n",
       "      <td>DELL</td>\n",
       "      <td>i3</td>\n",
       "      <td>black</td>\n",
       "      <td>2020-09-11 00:00:00</td>\n",
       "      <td>39900</td>\n",
       "    </tr>\n",
       "    <tr>\n",
       "      <th>12</th>\n",
       "      <td>HP</td>\n",
       "      <td>i5</td>\n",
       "      <td>matt</td>\n",
       "      <td>2020-09-12 00:00:00</td>\n",
       "      <td>63500</td>\n",
       "    </tr>\n",
       "    <tr>\n",
       "      <th>13</th>\n",
       "      <td>HP</td>\n",
       "      <td>i5</td>\n",
       "      <td>silver</td>\n",
       "      <td>2020-09-13 00:00:00</td>\n",
       "      <td>68500</td>\n",
       "    </tr>\n",
       "    <tr>\n",
       "      <th>14</th>\n",
       "      <td>HP</td>\n",
       "      <td>i5</td>\n",
       "      <td>matt</td>\n",
       "      <td>2020-09-14 00:00:00</td>\n",
       "      <td>65400</td>\n",
       "    </tr>\n",
       "    <tr>\n",
       "      <th>15</th>\n",
       "      <td>ASUS</td>\n",
       "      <td>i5</td>\n",
       "      <td>silver</td>\n",
       "      <td>2020-09-15 00:00:00</td>\n",
       "      <td>42500</td>\n",
       "    </tr>\n",
       "    <tr>\n",
       "      <th>16</th>\n",
       "      <td>ASUS</td>\n",
       "      <td>i7</td>\n",
       "      <td>silver</td>\n",
       "      <td>2020-09-16 00:00:00</td>\n",
       "      <td>83640</td>\n",
       "    </tr>\n",
       "    <tr>\n",
       "      <th>17</th>\n",
       "      <td>HP</td>\n",
       "      <td>i7</td>\n",
       "      <td>silver</td>\n",
       "      <td>2020-09-17 00:00:00</td>\n",
       "      <td>83200</td>\n",
       "    </tr>\n",
       "    <tr>\n",
       "      <th>18</th>\n",
       "      <td>HP</td>\n",
       "      <td>i3</td>\n",
       "      <td>black</td>\n",
       "      <td>2020-09-18 00:00:00</td>\n",
       "      <td>32200</td>\n",
       "    </tr>\n",
       "    <tr>\n",
       "      <th>19</th>\n",
       "      <td>HP</td>\n",
       "      <td>i5</td>\n",
       "      <td>black</td>\n",
       "      <td>2020-09-19 00:00:00</td>\n",
       "      <td>62600</td>\n",
       "    </tr>\n",
       "    <tr>\n",
       "      <th>20</th>\n",
       "      <td>LG</td>\n",
       "      <td>i5</td>\n",
       "      <td>black</td>\n",
       "      <td>2020-09-20 00:00:00</td>\n",
       "      <td>52300</td>\n",
       "    </tr>\n",
       "    <tr>\n",
       "      <th>21</th>\n",
       "      <td>DELL</td>\n",
       "      <td>i7</td>\n",
       "      <td>black</td>\n",
       "      <td>2020-09-21 00:00:00</td>\n",
       "      <td>88200</td>\n",
       "    </tr>\n",
       "  </tbody>\n",
       "</table>\n",
       "</div>"
      ],
      "text/plain": [
       "   Name of products Model  colour                 date  price\n",
       "0                LG    i5   black  2020-06-01 00:00:00  66100\n",
       "1              DELL    i3   black           01/23/2020  37500\n",
       "2              DELL    i5   black  2020-09-02 00:00:00  86800\n",
       "3                LG    i7   black  2020-09-03 00:00:00  90500\n",
       "4                HP    i7  silver  2020-09-04 00:00:00  99200\n",
       "5              DELL    i5    matt  2020-09-05 00:00:00  48900\n",
       "6              ASUS    i3  silver  2020-09-06 00:00:00  36000\n",
       "7              ACER    i5   black  2020-09-07 00:00:00  55200\n",
       "8              DELL    i5     red  2020-09-08 00:00:00  77000\n",
       "9                HP    i5  silver  2020-09-09 00:00:00  68000\n",
       "10               LG    i7  silver  2020-09-10 00:00:00  77600\n",
       "11             DELL    i3   black  2020-09-11 00:00:00  39900\n",
       "12               HP    i5    matt  2020-09-12 00:00:00  63500\n",
       "13               HP    i5  silver  2020-09-13 00:00:00  68500\n",
       "14               HP    i5    matt  2020-09-14 00:00:00  65400\n",
       "15             ASUS    i5  silver  2020-09-15 00:00:00  42500\n",
       "16             ASUS    i7  silver  2020-09-16 00:00:00  83640\n",
       "17               HP    i7  silver  2020-09-17 00:00:00  83200\n",
       "18               HP    i3   black  2020-09-18 00:00:00  32200\n",
       "19               HP    i5   black  2020-09-19 00:00:00  62600\n",
       "20               LG    i5   black  2020-09-20 00:00:00  52300\n",
       "21             DELL    i7   black  2020-09-21 00:00:00  88200"
      ]
     },
     "execution_count": 18,
     "metadata": {},
     "output_type": "execute_result"
    }
   ],
   "source": [
    "#Import library \n",
    "import pandas as pd\n",
    "import numpy as np\n",
    "import seaborn as sns\n",
    "import matplotlib.pyplot as plt\n",
    "\n",
    "\n",
    "data=pd.read_excel('Lap Data.xlsx')\n",
    "data"
   ]
  },
  {
   "cell_type": "code",
   "execution_count": 19,
   "id": "18e63910",
   "metadata": {},
   "outputs": [
    {
     "data": {
      "text/plain": [
       "(22, 5)"
      ]
     },
     "execution_count": 19,
     "metadata": {},
     "output_type": "execute_result"
    }
   ],
   "source": [
    "#There are rows and columns\n",
    "data.shape"
   ]
  },
  {
   "cell_type": "code",
   "execution_count": 21,
   "id": "94144ac8",
   "metadata": {},
   "outputs": [
    {
     "data": {
      "text/plain": [
       "Index(['Name of products', 'Model', 'colour', 'date', 'price'], dtype='object')"
      ]
     },
     "execution_count": 21,
     "metadata": {},
     "output_type": "execute_result"
    }
   ],
   "source": [
    "data.columns"
   ]
  },
  {
   "cell_type": "code",
   "execution_count": 22,
   "id": "1021f7b7",
   "metadata": {},
   "outputs": [
    {
     "name": "stdout",
     "output_type": "stream",
     "text": [
      "<class 'pandas.core.frame.DataFrame'>\n",
      "RangeIndex: 22 entries, 0 to 21\n",
      "Data columns (total 5 columns):\n",
      " #   Column            Non-Null Count  Dtype \n",
      "---  ------            --------------  ----- \n",
      " 0   Name of products  22 non-null     object\n",
      " 1   Model             22 non-null     object\n",
      " 2   colour            22 non-null     object\n",
      " 3   date              22 non-null     object\n",
      " 4   price             22 non-null     int64 \n",
      "dtypes: int64(1), object(4)\n",
      "memory usage: 1008.0+ bytes\n"
     ]
    }
   ],
   "source": [
    "data.info()"
   ]
  },
  {
   "cell_type": "code",
   "execution_count": 23,
   "id": "56ba224d",
   "metadata": {},
   "outputs": [
    {
     "data": {
      "text/plain": [
       "Name of products    False\n",
       "Model               False\n",
       "colour              False\n",
       "date                False\n",
       "price               False\n",
       "dtype: bool"
      ]
     },
     "execution_count": 23,
     "metadata": {},
     "output_type": "execute_result"
    }
   ],
   "source": [
    "data.isnull().any()"
   ]
  },
  {
   "cell_type": "code",
   "execution_count": 24,
   "id": "a6b4c824",
   "metadata": {},
   "outputs": [
    {
     "data": {
      "text/html": [
       "<div>\n",
       "<style scoped>\n",
       "    .dataframe tbody tr th:only-of-type {\n",
       "        vertical-align: middle;\n",
       "    }\n",
       "\n",
       "    .dataframe tbody tr th {\n",
       "        vertical-align: top;\n",
       "    }\n",
       "\n",
       "    .dataframe thead th {\n",
       "        text-align: right;\n",
       "    }\n",
       "</style>\n",
       "<table border=\"1\" class=\"dataframe\">\n",
       "  <thead>\n",
       "    <tr style=\"text-align: right;\">\n",
       "      <th></th>\n",
       "      <th>Name of products</th>\n",
       "      <th>Model</th>\n",
       "    </tr>\n",
       "  </thead>\n",
       "  <tbody>\n",
       "    <tr>\n",
       "      <th>0</th>\n",
       "      <td>LG</td>\n",
       "      <td>i5</td>\n",
       "    </tr>\n",
       "    <tr>\n",
       "      <th>1</th>\n",
       "      <td>DELL</td>\n",
       "      <td>i3</td>\n",
       "    </tr>\n",
       "    <tr>\n",
       "      <th>2</th>\n",
       "      <td>DELL</td>\n",
       "      <td>i5</td>\n",
       "    </tr>\n",
       "    <tr>\n",
       "      <th>3</th>\n",
       "      <td>LG</td>\n",
       "      <td>i7</td>\n",
       "    </tr>\n",
       "    <tr>\n",
       "      <th>4</th>\n",
       "      <td>HP</td>\n",
       "      <td>i7</td>\n",
       "    </tr>\n",
       "    <tr>\n",
       "      <th>5</th>\n",
       "      <td>DELL</td>\n",
       "      <td>i5</td>\n",
       "    </tr>\n",
       "    <tr>\n",
       "      <th>6</th>\n",
       "      <td>ASUS</td>\n",
       "      <td>i3</td>\n",
       "    </tr>\n",
       "    <tr>\n",
       "      <th>7</th>\n",
       "      <td>ACER</td>\n",
       "      <td>i5</td>\n",
       "    </tr>\n",
       "    <tr>\n",
       "      <th>8</th>\n",
       "      <td>DELL</td>\n",
       "      <td>i5</td>\n",
       "    </tr>\n",
       "    <tr>\n",
       "      <th>9</th>\n",
       "      <td>HP</td>\n",
       "      <td>i5</td>\n",
       "    </tr>\n",
       "    <tr>\n",
       "      <th>10</th>\n",
       "      <td>LG</td>\n",
       "      <td>i7</td>\n",
       "    </tr>\n",
       "    <tr>\n",
       "      <th>11</th>\n",
       "      <td>DELL</td>\n",
       "      <td>i3</td>\n",
       "    </tr>\n",
       "    <tr>\n",
       "      <th>12</th>\n",
       "      <td>HP</td>\n",
       "      <td>i5</td>\n",
       "    </tr>\n",
       "    <tr>\n",
       "      <th>13</th>\n",
       "      <td>HP</td>\n",
       "      <td>i5</td>\n",
       "    </tr>\n",
       "    <tr>\n",
       "      <th>14</th>\n",
       "      <td>HP</td>\n",
       "      <td>i5</td>\n",
       "    </tr>\n",
       "    <tr>\n",
       "      <th>15</th>\n",
       "      <td>ASUS</td>\n",
       "      <td>i5</td>\n",
       "    </tr>\n",
       "    <tr>\n",
       "      <th>16</th>\n",
       "      <td>ASUS</td>\n",
       "      <td>i7</td>\n",
       "    </tr>\n",
       "    <tr>\n",
       "      <th>17</th>\n",
       "      <td>HP</td>\n",
       "      <td>i7</td>\n",
       "    </tr>\n",
       "    <tr>\n",
       "      <th>18</th>\n",
       "      <td>HP</td>\n",
       "      <td>i3</td>\n",
       "    </tr>\n",
       "    <tr>\n",
       "      <th>19</th>\n",
       "      <td>HP</td>\n",
       "      <td>i5</td>\n",
       "    </tr>\n",
       "    <tr>\n",
       "      <th>20</th>\n",
       "      <td>LG</td>\n",
       "      <td>i5</td>\n",
       "    </tr>\n",
       "    <tr>\n",
       "      <th>21</th>\n",
       "      <td>DELL</td>\n",
       "      <td>i7</td>\n",
       "    </tr>\n",
       "  </tbody>\n",
       "</table>\n",
       "</div>"
      ],
      "text/plain": [
       "   Name of products Model\n",
       "0                LG    i5\n",
       "1              DELL    i3\n",
       "2              DELL    i5\n",
       "3                LG    i7\n",
       "4                HP    i7\n",
       "5              DELL    i5\n",
       "6              ASUS    i3\n",
       "7              ACER    i5\n",
       "8              DELL    i5\n",
       "9                HP    i5\n",
       "10               LG    i7\n",
       "11             DELL    i3\n",
       "12               HP    i5\n",
       "13               HP    i5\n",
       "14               HP    i5\n",
       "15             ASUS    i5\n",
       "16             ASUS    i7\n",
       "17               HP    i7\n",
       "18               HP    i3\n",
       "19               HP    i5\n",
       "20               LG    i5\n",
       "21             DELL    i7"
      ]
     },
     "execution_count": 24,
     "metadata": {},
     "output_type": "execute_result"
    }
   ],
   "source": [
    "data[['Name of products','Model']]"
   ]
  },
  {
   "cell_type": "markdown",
   "id": "78b50d12",
   "metadata": {},
   "source": [
    "### Find the total price"
   ]
  },
  {
   "cell_type": "code",
   "execution_count": 25,
   "id": "8c2a9678",
   "metadata": {},
   "outputs": [
    {
     "data": {
      "text/plain": [
       "1424740"
      ]
     },
     "execution_count": 25,
     "metadata": {},
     "output_type": "execute_result"
    }
   ],
   "source": [
    "B=data['price'].sum()\n",
    "B"
   ]
  },
  {
   "cell_type": "markdown",
   "id": "71c311b6",
   "metadata": {},
   "source": [
    "### Find the maximum price"
   ]
  },
  {
   "cell_type": "code",
   "execution_count": 26,
   "id": "243f804a",
   "metadata": {},
   "outputs": [
    {
     "data": {
      "text/plain": [
       "99200"
      ]
     },
     "execution_count": 26,
     "metadata": {},
     "output_type": "execute_result"
    }
   ],
   "source": [
    "A=data['price'].max()\n",
    "A"
   ]
  },
  {
   "cell_type": "markdown",
   "id": "31ba1bc7",
   "metadata": {},
   "source": [
    "### Find the minimum price"
   ]
  },
  {
   "cell_type": "code",
   "execution_count": 27,
   "id": "f5712884",
   "metadata": {},
   "outputs": [
    {
     "data": {
      "text/plain": [
       "32200"
      ]
     },
     "execution_count": 27,
     "metadata": {},
     "output_type": "execute_result"
    }
   ],
   "source": [
    "D=data['price'].min()\n",
    "D"
   ]
  },
  {
   "cell_type": "markdown",
   "id": "133f3c94",
   "metadata": {},
   "source": [
    "### Find the range of price"
   ]
  },
  {
   "cell_type": "code",
   "execution_count": 28,
   "id": "e18b509c",
   "metadata": {},
   "outputs": [
    {
     "data": {
      "text/plain": [
       "67000"
      ]
     },
     "execution_count": 28,
     "metadata": {},
     "output_type": "execute_result"
    }
   ],
   "source": [
    "# Max-Min of PRICE\n",
    "F=A-D\n",
    "F"
   ]
  },
  {
   "cell_type": "markdown",
   "id": "02b64684",
   "metadata": {},
   "source": [
    "### Find the average price"
   ]
  },
  {
   "cell_type": "code",
   "execution_count": 29,
   "id": "13226167",
   "metadata": {},
   "outputs": [
    {
     "data": {
      "text/plain": [
       "64760.90909090909"
      ]
     },
     "execution_count": 29,
     "metadata": {},
     "output_type": "execute_result"
    }
   ],
   "source": [
    "B=data['price'].mean()\n",
    "B"
   ]
  },
  {
   "cell_type": "markdown",
   "id": "c19a6e4a",
   "metadata": {},
   "source": [
    "### Total number of name of products"
   ]
  },
  {
   "cell_type": "code",
   "execution_count": 30,
   "id": "5e5d380e",
   "metadata": {},
   "outputs": [
    {
     "data": {
      "text/plain": [
       "22"
      ]
     },
     "execution_count": 30,
     "metadata": {},
     "output_type": "execute_result"
    }
   ],
   "source": [
    "B=data[\"Name of products\"].count().sum()\n",
    "B"
   ]
  },
  {
   "cell_type": "code",
   "execution_count": 31,
   "id": "d4ab872c",
   "metadata": {},
   "outputs": [
    {
     "data": {
      "text/plain": [
       "HP      8\n",
       "DELL    6\n",
       "LG      4\n",
       "ASUS    3\n",
       "ACER    1\n",
       "Name: Name of products, dtype: int64"
      ]
     },
     "execution_count": 31,
     "metadata": {},
     "output_type": "execute_result"
    }
   ],
   "source": [
    "B2=data[\"Name of products\"].value_counts()\n",
    "B2"
   ]
  },
  {
   "cell_type": "code",
   "execution_count": 32,
   "id": "d8cdf74f",
   "metadata": {},
   "outputs": [
    {
     "data": {
      "text/plain": [
       "HP      0.363636\n",
       "DELL    0.272727\n",
       "LG      0.181818\n",
       "ASUS    0.136364\n",
       "ACER    0.045455\n",
       "Name: Name of products, dtype: float64"
      ]
     },
     "execution_count": 32,
     "metadata": {},
     "output_type": "execute_result"
    }
   ],
   "source": [
    "B1=data[\"Name of products\"].value_counts(normalize=True)\n",
    "B1"
   ]
  },
  {
   "cell_type": "code",
   "execution_count": 33,
   "id": "a1d6ec68",
   "metadata": {},
   "outputs": [
    {
     "data": {
      "text/plain": [
       "<AxesSubplot:ylabel='Name of products'>"
      ]
     },
     "execution_count": 33,
     "metadata": {},
     "output_type": "execute_result"
    },
    {
     "data": {
      "image/png": "[encoded data removed]",
      "text/plain": [
       "<Figure size 432x288 with 1 Axes>"
      ]
     },
     "metadata": {},
     "output_type": "display_data"
    }
   ],
   "source": [
    "B1.plot(kind=\"pie\",autopct=\"%1.2f%%\")"
   ]
  },
  {
   "cell_type": "code",
   "execution_count": 34,
   "id": "c233dd5d",
   "metadata": {},
   "outputs": [
    {
     "data": {
      "text/plain": [
       "<AxesSubplot:>"
      ]
     },
     "execution_count": 34,
     "metadata": {},
     "output_type": "execute_result"
    },
    {
     "data": {
      "image/png": "[encoded data removed]",
      "text/plain": [
       "<Figure size 432x288 with 1 Axes>"
      ]
     },
     "metadata": {
      "needs_background": "light"
     },
     "output_type": "display_data"
    }
   ],
   "source": [
    "B2.plot(kind=\"bar\")"
   ]
  },
  {
   "cell_type": "code",
   "execution_count": 35,
   "id": "88fa7f36",
   "metadata": {},
   "outputs": [
    {
     "data": {
      "text/plain": [
       "i5    12\n",
       "i7     6\n",
       "i3     4\n",
       "Name: Model, dtype: int64"
      ]
     },
     "execution_count": 35,
     "metadata": {},
     "output_type": "execute_result"
    }
   ],
   "source": [
    "B2=data[\"Model\"].value_counts()\n",
    "B2"
   ]
  },
  {
   "cell_type": "code",
   "execution_count": 36,
   "id": "92917a74",
   "metadata": {},
   "outputs": [
    {
     "data": {
      "text/plain": [
       "<AxesSubplot:ylabel='Model'>"
      ]
     },
     "execution_count": 36,
     "metadata": {},
     "output_type": "execute_result"
    },
    {
     "data": {
      "image/png": "[encoded data removed]",
      "text/plain": [
       "<Figure size 432x288 with 1 Axes>"
      ]
     },
     "metadata": {},
     "output_type": "display_data"
    }
   ],
   "source": [
    "B2.plot(kind=\"pie\",autopct=\"%1.2f%%\")"
   ]
  },
  {
   "cell_type": "code",
   "execution_count": 37,
   "id": "d0b693db",
   "metadata": {},
   "outputs": [
    {
     "data": {
      "text/plain": [
       "<AxesSubplot:>"
      ]
     },
     "execution_count": 37,
     "metadata": {},
     "output_type": "execute_result"
    },
    {
     "data": {
      "image/png": "[encoded data removed]",
      "text/plain": [
       "<Figure size 432x288 with 1 Axes>"
      ]
     },
     "metadata": {
      "needs_background": "light"
     },
     "output_type": "display_data"
    }
   ],
   "source": [
    "B2.plot(kind=\"bar\")"
   ]
  },
  {
   "cell_type": "code",
   "execution_count": 38,
   "id": "da92b42d",
   "metadata": {},
   "outputs": [
    {
     "data": {
      "text/plain": [
       "Name of products\n",
       "ACER     55200\n",
       "ASUS    162140\n",
       "DELL    378300\n",
       "HP      542600\n",
       "LG      286500\n",
       "Name: price, dtype: int64"
      ]
     },
     "execution_count": 38,
     "metadata": {},
     "output_type": "execute_result"
    }
   ],
   "source": [
    "a1=data.groupby(\"Name of products\").sum()['price']\n",
    "a1"
   ]
  },
  {
   "cell_type": "code",
   "execution_count": 39,
   "id": "3d4090a0",
   "metadata": {},
   "outputs": [
    {
     "name": "stderr",
     "output_type": "stream",
     "text": [
      "C:\\Users\\user\\AppData\\Local\\Temp\\ipykernel_4176\\3030633398.py:1: FutureWarning: Dropping invalid columns in DataFrameGroupBy.max is deprecated. In a future version, a TypeError will be raised. Before calling .max, select only columns which should be valid for the function.\n",
      "  a1=data.groupby(\"Name of products\").max()['price']\n"
     ]
    },
    {
     "data": {
      "text/plain": [
       "Name of products\n",
       "ACER    55200\n",
       "ASUS    83640\n",
       "DELL    88200\n",
       "HP      99200\n",
       "LG      90500\n",
       "Name: price, dtype: int64"
      ]
     },
     "execution_count": 39,
     "metadata": {},
     "output_type": "execute_result"
    }
   ],
   "source": [
    "a1=data.groupby(\"Name of products\").max()['price']\n",
    "a1"
   ]
  },
  {
   "cell_type": "code",
   "execution_count": 40,
   "id": "03c2f473",
   "metadata": {},
   "outputs": [
    {
     "name": "stderr",
     "output_type": "stream",
     "text": [
      "C:\\Users\\user\\AppData\\Local\\Temp\\ipykernel_4176\\4066342180.py:1: FutureWarning: Dropping invalid columns in DataFrameGroupBy.min is deprecated. In a future version, a TypeError will be raised. Before calling .min, select only columns which should be valid for the function.\n",
      "  data.groupby(\"Name of products\").min()['price']\n"
     ]
    },
    {
     "data": {
      "text/plain": [
       "Name of products\n",
       "ACER    55200\n",
       "ASUS    36000\n",
       "DELL    37500\n",
       "HP      32200\n",
       "LG      52300\n",
       "Name: price, dtype: int64"
      ]
     },
     "execution_count": 40,
     "metadata": {},
     "output_type": "execute_result"
    }
   ],
   "source": [
    "data.groupby(\"Name of products\").min()['price']\n"
   ]
  },
  {
   "cell_type": "code",
   "execution_count": 41,
   "id": "81d2c1bd",
   "metadata": {},
   "outputs": [
    {
     "data": {
      "text/plain": [
       "Name of products\n",
       "ACER    55200.000000\n",
       "ASUS    54046.666667\n",
       "DELL    63050.000000\n",
       "HP      67825.000000\n",
       "LG      71625.000000\n",
       "Name: price, dtype: float64"
      ]
     },
     "execution_count": 41,
     "metadata": {},
     "output_type": "execute_result"
    }
   ],
   "source": [
    "a1=data.groupby(\"Name of products\").mean()['price']\n",
    "a1"
   ]
  },
  {
   "cell_type": "code",
   "execution_count": 42,
   "id": "65ba965e",
   "metadata": {},
   "outputs": [
    {
     "data": {
      "text/plain": [
       "Model\n",
       "i3    145600\n",
       "i5    756800\n",
       "i7    522340\n",
       "Name: price, dtype: int64"
      ]
     },
     "execution_count": 42,
     "metadata": {},
     "output_type": "execute_result"
    }
   ],
   "source": [
    "b1=data.groupby(\"Model\").sum()['price']\n",
    "b1"
   ]
  },
  {
   "cell_type": "code",
   "execution_count": 43,
   "id": "53e873df",
   "metadata": {},
   "outputs": [
    {
     "data": {
      "text/plain": [
       "Model\n",
       "i3    36400.000000\n",
       "i5    63066.666667\n",
       "i7    87056.666667\n",
       "Name: price, dtype: float64"
      ]
     },
     "execution_count": 43,
     "metadata": {},
     "output_type": "execute_result"
    }
   ],
   "source": [
    "data.groupby(\"Model\").mean()['price']"
   ]
  },
  {
   "cell_type": "code",
   "execution_count": 44,
   "id": "cc43c650",
   "metadata": {},
   "outputs": [
    {
     "name": "stderr",
     "output_type": "stream",
     "text": [
      "C:\\Users\\user\\AppData\\Local\\Temp\\ipykernel_4176\\1010294055.py:1: FutureWarning: Dropping invalid columns in DataFrameGroupBy.max is deprecated. In a future version, a TypeError will be raised. Before calling .max, select only columns which should be valid for the function.\n",
      "  data.groupby(\"Model\").max()['price']\n"
     ]
    },
    {
     "data": {
      "text/plain": [
       "Model\n",
       "i3    39900\n",
       "i5    86800\n",
       "i7    99200\n",
       "Name: price, dtype: int64"
      ]
     },
     "execution_count": 44,
     "metadata": {},
     "output_type": "execute_result"
    }
   ],
   "source": [
    "data.groupby(\"Model\").max()['price']\n"
   ]
  },
  {
   "cell_type": "code",
   "execution_count": 45,
   "id": "8faefca1",
   "metadata": {},
   "outputs": [
    {
     "name": "stderr",
     "output_type": "stream",
     "text": [
      "C:\\Users\\user\\AppData\\Local\\Temp\\ipykernel_4176\\4153748334.py:1: FutureWarning: Dropping invalid columns in DataFrameGroupBy.min is deprecated. In a future version, a TypeError will be raised. Before calling .min, select only columns which should be valid for the function.\n",
      "  data.groupby(\"Model\").min()['price']\n"
     ]
    },
    {
     "data": {
      "text/plain": [
       "Model\n",
       "i3    32200\n",
       "i5    42500\n",
       "i7    77600\n",
       "Name: price, dtype: int64"
      ]
     },
     "execution_count": 45,
     "metadata": {},
     "output_type": "execute_result"
    }
   ],
   "source": [
    "data.groupby(\"Model\").min()['price']\n"
   ]
  },
  {
   "cell_type": "code",
   "execution_count": 46,
   "id": "1a9ff90e",
   "metadata": {},
   "outputs": [
    {
     "data": {
      "text/plain": [
       "colour\n",
       "black     611300\n",
       "matt      177800\n",
       "red        77000\n",
       "silver    558640\n",
       "Name: price, dtype: int64"
      ]
     },
     "execution_count": 46,
     "metadata": {},
     "output_type": "execute_result"
    }
   ],
   "source": [
    "data.groupby(\"colour\").sum()['price']"
   ]
  },
  {
   "cell_type": "code",
   "execution_count": 47,
   "id": "264ef556",
   "metadata": {},
   "outputs": [],
   "source": [
    "#data.groupby(\"colour\").mean()['price']"
   ]
  },
  {
   "cell_type": "code",
   "execution_count": 48,
   "id": "026a3a9e",
   "metadata": {},
   "outputs": [],
   "source": [
    "#data.groupby(\"colour\").max()['price']"
   ]
  },
  {
   "cell_type": "code",
   "execution_count": 49,
   "id": "5a45020d",
   "metadata": {},
   "outputs": [
    {
     "data": {
      "text/plain": [
       "Text(0.5, 1.0, 'Date wise model')"
      ]
     },
     "execution_count": 49,
     "metadata": {},
     "output_type": "execute_result"
    },
    {
     "data": {
      "image/png": "[encoded data removed]",
      "text/plain": [
       "<Figure size 432x288 with 1 Axes>"
      ]
     },
     "metadata": {
      "needs_background": "light"
     },
     "output_type": "display_data"
    }
   ],
   "source": [
    "# Date wise model\n",
    "data.groupby('date').count()['Model']\n",
    "data.plot(x='date',kind='line',fontsize=7,linewidth=4)\n",
    "plt.title(\"Date wise model\")"
   ]
  },
  {
   "cell_type": "code",
   "execution_count": 50,
   "id": "dbc54fd4",
   "metadata": {},
   "outputs": [
    {
     "data": {
      "text/plain": [
       "Text(0.5, 1.0, 'Date wise product')"
      ]
     },
     "execution_count": 50,
     "metadata": {},
     "output_type": "execute_result"
    },
    {
     "data": {
      "image/png": "[encoded data removed]",
      "text/plain": [
       "<Figure size 432x288 with 1 Axes>"
      ]
     },
     "metadata": {
      "needs_background": "light"
     },
     "output_type": "display_data"
    }
   ],
   "source": [
    "# Date wise product\n",
    "data.groupby('date').count()['Name of products']\n",
    "data.plot(x='date',kind='line',fontsize=7,linewidth=4)\n",
    "plt.title(\"Date wise product\")"
   ]
  },
  {
   "cell_type": "code",
   "execution_count": 51,
   "id": "31dc79f0",
   "metadata": {},
   "outputs": [
    {
     "data": {
      "image/png": "[encoded data removed]",
      "text/plain": [
       "<Figure size 432x288 with 1 Axes>"
      ]
     },
     "metadata": {
      "needs_background": "light"
     },
     "output_type": "display_data"
    }
   ],
   "source": [
    "data.plot(y=['price'], kind='box');"
   ]
  },
  {
   "cell_type": "markdown",
   "id": "76dc82ff",
   "metadata": {},
   "source": [
    "# Inference\n",
    "\n",
    "\n",
    "This is a Lap Data.\n",
    "\n",
    "The data contains 22 rows and 5 columns\n",
    "\n",
    "There is No null values in this data.\n",
    "\n",
    "data contains the Name of products, Model, color, dates, and prices.\n",
    "\n",
    "The total price is 1424740.\n",
    "\n",
    "The maximum price is 99200\n",
    "\n",
    "The range of price is 67000.\n",
    "\n",
    "Average of price is 64760.909010\n",
    "\n",
    "HP is the most product in the data.\n",
    "\n",
    "ACER is the least product in the data.\n",
    "\n",
    "i5 is the most model in the data.\n",
    "\n",
    "i3 is the least model in the data.\n",
    "\n"
   ]
  },
  {
   "cell_type": "code",
   "execution_count": null,
   "id": "3f8adba9",
   "metadata": {},
   "outputs": [],
   "source": []
  }
 ],
 "metadata": {
  "kernelspec": {
   "display_name": "Python 3 (ipykernel)",
   "language": "python",
   "name": "python3"
  },
  "language_info": {
   "codemirror_mode": {
    "name": "ipython",
    "version": 3
   },
   "file_extension": ".py",
   "mimetype": "text/x-python",
   "name": "python",
   "nbconvert_exporter": "python",
   "pygments_lexer": "ipython3",
   "version": "3.9.12"
  }
 },
 "nbformat": 4,
 "nbformat_minor": 5
}
