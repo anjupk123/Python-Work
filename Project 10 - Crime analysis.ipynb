{
 "cells": [
  {
   "cell_type": "code",
   "execution_count": 2,
   "id": "01afbdc7",
   "metadata": {},
   "outputs": [
    {
     "data": {
      "text/html": [
       "<div>\n",
       "<style scoped>\n",
       "    .dataframe tbody tr th:only-of-type {\n",
       "        vertical-align: middle;\n",
       "    }\n",
       "\n",
       "    .dataframe tbody tr th {\n",
       "        vertical-align: top;\n",
       "    }\n",
       "\n",
       "    .dataframe thead th {\n",
       "        text-align: right;\n",
       "    }\n",
       "</style>\n",
       "<table border=\"1\" class=\"dataframe\">\n",
       "  <thead>\n",
       "    <tr style=\"text-align: right;\">\n",
       "      <th></th>\n",
       "      <th>Record ID</th>\n",
       "      <th>Agency Code</th>\n",
       "      <th>Agency Name</th>\n",
       "      <th>Agency Type</th>\n",
       "      <th>City</th>\n",
       "      <th>State</th>\n",
       "      <th>Year</th>\n",
       "      <th>Month</th>\n",
       "      <th>Incident</th>\n",
       "      <th>Crime Type</th>\n",
       "      <th>...</th>\n",
       "      <th>Victim Ethnicity</th>\n",
       "      <th>Perpetrator Sex</th>\n",
       "      <th>Perpetrator Age</th>\n",
       "      <th>Perpetrator Race</th>\n",
       "      <th>Perpetrator Ethnicity</th>\n",
       "      <th>Relationship</th>\n",
       "      <th>Weapon</th>\n",
       "      <th>Victim Count</th>\n",
       "      <th>Perpetrator Count</th>\n",
       "      <th>Record Source</th>\n",
       "    </tr>\n",
       "  </thead>\n",
       "  <tbody>\n",
       "    <tr>\n",
       "      <th>0</th>\n",
       "      <td>1</td>\n",
       "      <td>AK00101</td>\n",
       "      <td>Anchorage</td>\n",
       "      <td>Municipal Police</td>\n",
       "      <td>Anchorage</td>\n",
       "      <td>Alaska</td>\n",
       "      <td>2000</td>\n",
       "      <td>January</td>\n",
       "      <td>NaN</td>\n",
       "      <td>Murder or Manslaughter</td>\n",
       "      <td>...</td>\n",
       "      <td>Unknown</td>\n",
       "      <td>Male</td>\n",
       "      <td>28</td>\n",
       "      <td>Black</td>\n",
       "      <td>Unknown</td>\n",
       "      <td>Wife</td>\n",
       "      <td>Handgun</td>\n",
       "      <td>0</td>\n",
       "      <td>0</td>\n",
       "      <td>FBI</td>\n",
       "    </tr>\n",
       "    <tr>\n",
       "      <th>1</th>\n",
       "      <td>2</td>\n",
       "      <td>AK00101</td>\n",
       "      <td>Anchorage</td>\n",
       "      <td>Municipal Police</td>\n",
       "      <td>Anchorage</td>\n",
       "      <td>Alaska</td>\n",
       "      <td>2000</td>\n",
       "      <td>January</td>\n",
       "      <td>NaN</td>\n",
       "      <td>Murder or Manslaughter</td>\n",
       "      <td>...</td>\n",
       "      <td>Unknown</td>\n",
       "      <td>Male</td>\n",
       "      <td>18</td>\n",
       "      <td>Native American/Alaska Native</td>\n",
       "      <td>Unknown</td>\n",
       "      <td>Unknown</td>\n",
       "      <td>Handgun</td>\n",
       "      <td>0</td>\n",
       "      <td>1</td>\n",
       "      <td>FBI</td>\n",
       "    </tr>\n",
       "    <tr>\n",
       "      <th>2</th>\n",
       "      <td>3</td>\n",
       "      <td>AK00101</td>\n",
       "      <td>Anchorage</td>\n",
       "      <td>Municipal Police</td>\n",
       "      <td>Anchorage</td>\n",
       "      <td>Alaska</td>\n",
       "      <td>2000</td>\n",
       "      <td>January</td>\n",
       "      <td>NaN</td>\n",
       "      <td>Manslaughter by Negligence</td>\n",
       "      <td>...</td>\n",
       "      <td>Unknown</td>\n",
       "      <td>Male</td>\n",
       "      <td>12</td>\n",
       "      <td>Asian/Pacific Islander</td>\n",
       "      <td>Unknown</td>\n",
       "      <td>Family</td>\n",
       "      <td>Blunt Object</td>\n",
       "      <td>0</td>\n",
       "      <td>0</td>\n",
       "      <td>FBI</td>\n",
       "    </tr>\n",
       "    <tr>\n",
       "      <th>3</th>\n",
       "      <td>4</td>\n",
       "      <td>AK00101</td>\n",
       "      <td>Anchorage</td>\n",
       "      <td>Municipal Police</td>\n",
       "      <td>Anchorage</td>\n",
       "      <td>Alaska</td>\n",
       "      <td>2000</td>\n",
       "      <td>February</td>\n",
       "      <td>NaN</td>\n",
       "      <td>Manslaughter by Negligence</td>\n",
       "      <td>...</td>\n",
       "      <td>Unknown</td>\n",
       "      <td>Female</td>\n",
       "      <td>39</td>\n",
       "      <td>Asian/Pacific Islander</td>\n",
       "      <td>Unknown</td>\n",
       "      <td>Acquaintance</td>\n",
       "      <td>Blunt Object</td>\n",
       "      <td>0</td>\n",
       "      <td>0</td>\n",
       "      <td>FBI</td>\n",
       "    </tr>\n",
       "    <tr>\n",
       "      <th>4</th>\n",
       "      <td>5</td>\n",
       "      <td>AK00101</td>\n",
       "      <td>Anchorage</td>\n",
       "      <td>Municipal Police</td>\n",
       "      <td>Anchorage</td>\n",
       "      <td>Alaska</td>\n",
       "      <td>2000</td>\n",
       "      <td>March</td>\n",
       "      <td>NaN</td>\n",
       "      <td>Murder or Manslaughter</td>\n",
       "      <td>...</td>\n",
       "      <td>Unknown</td>\n",
       "      <td>Unknown</td>\n",
       "      <td>0</td>\n",
       "      <td>Unknown</td>\n",
       "      <td>Unknown</td>\n",
       "      <td>Unknown</td>\n",
       "      <td>Knife</td>\n",
       "      <td>0</td>\n",
       "      <td>0</td>\n",
       "      <td>FBI</td>\n",
       "    </tr>\n",
       "  </tbody>\n",
       "</table>\n",
       "<p>5 rows × 24 columns</p>\n",
       "</div>"
      ],
      "text/plain": [
       "   Record ID Agency Code Agency Name       Agency Type       City   State  \\\n",
       "0          1     AK00101   Anchorage  Municipal Police  Anchorage  Alaska   \n",
       "1          2     AK00101   Anchorage  Municipal Police  Anchorage  Alaska   \n",
       "2          3     AK00101   Anchorage  Municipal Police  Anchorage  Alaska   \n",
       "3          4     AK00101   Anchorage  Municipal Police  Anchorage  Alaska   \n",
       "4          5     AK00101   Anchorage  Municipal Police  Anchorage  Alaska   \n",
       "\n",
       "   Year     Month  Incident                  Crime Type  ... Victim Ethnicity  \\\n",
       "0  2000   January       NaN      Murder or Manslaughter  ...          Unknown   \n",
       "1  2000   January       NaN      Murder or Manslaughter  ...          Unknown   \n",
       "2  2000   January       NaN  Manslaughter by Negligence  ...          Unknown   \n",
       "3  2000  February       NaN  Manslaughter by Negligence  ...          Unknown   \n",
       "4  2000     March       NaN      Murder or Manslaughter  ...          Unknown   \n",
       "\n",
       "  Perpetrator Sex  Perpetrator Age               Perpetrator Race  \\\n",
       "0            Male               28                          Black   \n",
       "1            Male               18  Native American/Alaska Native   \n",
       "2            Male               12         Asian/Pacific Islander   \n",
       "3          Female               39         Asian/Pacific Islander   \n",
       "4         Unknown                0                        Unknown   \n",
       "\n",
       "  Perpetrator Ethnicity  Relationship        Weapon Victim Count  \\\n",
       "0               Unknown          Wife       Handgun            0   \n",
       "1               Unknown       Unknown       Handgun            0   \n",
       "2               Unknown        Family  Blunt Object            0   \n",
       "3               Unknown  Acquaintance  Blunt Object            0   \n",
       "4               Unknown       Unknown         Knife            0   \n",
       "\n",
       "  Perpetrator Count Record Source  \n",
       "0                 0           FBI  \n",
       "1                 1           FBI  \n",
       "2                 0           FBI  \n",
       "3                 0           FBI  \n",
       "4                 0           FBI  \n",
       "\n",
       "[5 rows x 24 columns]"
      ]
     },
     "execution_count": 2,
     "metadata": {},
     "output_type": "execute_result"
    }
   ],
   "source": [
    "#Import library \n",
    "import pandas as pd\n",
    "import numpy as np\n",
    "import seaborn as sns\n",
    "import matplotlib.pyplot as plt\n",
    "\n",
    "#data importing\n",
    "\n",
    "Crime=pd.read_csv('crime data.csv')\n",
    "\n",
    "Crime.head(5)"
   ]
  },
  {
   "cell_type": "code",
   "execution_count": 3,
   "id": "855e2b98",
   "metadata": {},
   "outputs": [
    {
     "data": {
      "text/plain": [
       "(221691, 24)"
      ]
     },
     "execution_count": 3,
     "metadata": {},
     "output_type": "execute_result"
    }
   ],
   "source": [
    "Crime.shape"
   ]
  },
  {
   "cell_type": "code",
   "execution_count": 4,
   "id": "e3a67dcc",
   "metadata": {},
   "outputs": [
    {
     "data": {
      "text/plain": [
       "Index(['Record ID', 'Agency Code', 'Agency Name', 'Agency Type', 'City',\n",
       "       'State', 'Year', 'Month', 'Incident', 'Crime Type', 'Crime Solved',\n",
       "       'Victim Sex', 'Victim Age', 'Victim Race', 'Victim Ethnicity',\n",
       "       'Perpetrator Sex', 'Perpetrator Age', 'Perpetrator Race',\n",
       "       'Perpetrator Ethnicity', 'Relationship', 'Weapon', 'Victim Count',\n",
       "       'Perpetrator Count', 'Record Source'],\n",
       "      dtype='object')"
      ]
     },
     "execution_count": 4,
     "metadata": {},
     "output_type": "execute_result"
    }
   ],
   "source": [
    "Crime.columns"
   ]
  },
  {
   "cell_type": "code",
   "execution_count": 5,
   "id": "c01bb8a7",
   "metadata": {},
   "outputs": [
    {
     "name": "stdout",
     "output_type": "stream",
     "text": [
      "<class 'pandas.core.frame.DataFrame'>\n",
      "RangeIndex: 221691 entries, 0 to 221690\n",
      "Data columns (total 24 columns):\n",
      " #   Column                 Non-Null Count   Dtype  \n",
      "---  ------                 --------------   -----  \n",
      " 0   Record ID              221691 non-null  int64  \n",
      " 1   Agency Code            221691 non-null  object \n",
      " 2   Agency Name            221691 non-null  object \n",
      " 3   Agency Type            221691 non-null  object \n",
      " 4   City                   221691 non-null  object \n",
      " 5   State                  221691 non-null  object \n",
      " 6   Year                   221691 non-null  int64  \n",
      " 7   Month                  221691 non-null  object \n",
      " 8   Incident               0 non-null       float64\n",
      " 9   Crime Type             221691 non-null  object \n",
      " 10  Crime Solved           221691 non-null  object \n",
      " 11  Victim Sex             221691 non-null  object \n",
      " 12  Victim Age             221691 non-null  int64  \n",
      " 13  Victim Race            221691 non-null  object \n",
      " 14  Victim Ethnicity       221691 non-null  object \n",
      " 15  Perpetrator Sex        221691 non-null  object \n",
      " 16  Perpetrator Age        221691 non-null  int64  \n",
      " 17  Perpetrator Race       221691 non-null  object \n",
      " 18  Perpetrator Ethnicity  221691 non-null  object \n",
      " 19  Relationship           221691 non-null  object \n",
      " 20  Weapon                 221691 non-null  object \n",
      " 21  Victim Count           221691 non-null  int64  \n",
      " 22  Perpetrator Count      221691 non-null  int64  \n",
      " 23  Record Source          221691 non-null  object \n",
      "dtypes: float64(1), int64(6), object(17)\n",
      "memory usage: 40.6+ MB\n"
     ]
    }
   ],
   "source": [
    "Crime.info()"
   ]
  },
  {
   "cell_type": "code",
   "execution_count": 6,
   "id": "60f1f224",
   "metadata": {},
   "outputs": [],
   "source": [
    "Crime.drop(['Incident'],axis=1, inplace=True)"
   ]
  },
  {
   "cell_type": "code",
   "execution_count": 7,
   "id": "8e17e7a0",
   "metadata": {},
   "outputs": [
    {
     "data": {
      "text/html": [
       "<div>\n",
       "<style scoped>\n",
       "    .dataframe tbody tr th:only-of-type {\n",
       "        vertical-align: middle;\n",
       "    }\n",
       "\n",
       "    .dataframe tbody tr th {\n",
       "        vertical-align: top;\n",
       "    }\n",
       "\n",
       "    .dataframe thead th {\n",
       "        text-align: right;\n",
       "    }\n",
       "</style>\n",
       "<table border=\"1\" class=\"dataframe\">\n",
       "  <thead>\n",
       "    <tr style=\"text-align: right;\">\n",
       "      <th></th>\n",
       "      <th>Record ID</th>\n",
       "      <th>Agency Code</th>\n",
       "      <th>Agency Name</th>\n",
       "      <th>Agency Type</th>\n",
       "      <th>City</th>\n",
       "      <th>State</th>\n",
       "      <th>Year</th>\n",
       "      <th>Month</th>\n",
       "      <th>Crime Type</th>\n",
       "      <th>Crime Solved</th>\n",
       "      <th>...</th>\n",
       "      <th>Victim Ethnicity</th>\n",
       "      <th>Perpetrator Sex</th>\n",
       "      <th>Perpetrator Age</th>\n",
       "      <th>Perpetrator Race</th>\n",
       "      <th>Perpetrator Ethnicity</th>\n",
       "      <th>Relationship</th>\n",
       "      <th>Weapon</th>\n",
       "      <th>Victim Count</th>\n",
       "      <th>Perpetrator Count</th>\n",
       "      <th>Record Source</th>\n",
       "    </tr>\n",
       "  </thead>\n",
       "  <tbody>\n",
       "    <tr>\n",
       "      <th>0</th>\n",
       "      <td>1</td>\n",
       "      <td>AK00101</td>\n",
       "      <td>Anchorage</td>\n",
       "      <td>Municipal Police</td>\n",
       "      <td>Anchorage</td>\n",
       "      <td>Alaska</td>\n",
       "      <td>2000</td>\n",
       "      <td>January</td>\n",
       "      <td>Murder or Manslaughter</td>\n",
       "      <td>Yes</td>\n",
       "      <td>...</td>\n",
       "      <td>Unknown</td>\n",
       "      <td>Male</td>\n",
       "      <td>28</td>\n",
       "      <td>Black</td>\n",
       "      <td>Unknown</td>\n",
       "      <td>Wife</td>\n",
       "      <td>Handgun</td>\n",
       "      <td>0</td>\n",
       "      <td>0</td>\n",
       "      <td>FBI</td>\n",
       "    </tr>\n",
       "    <tr>\n",
       "      <th>1</th>\n",
       "      <td>2</td>\n",
       "      <td>AK00101</td>\n",
       "      <td>Anchorage</td>\n",
       "      <td>Municipal Police</td>\n",
       "      <td>Anchorage</td>\n",
       "      <td>Alaska</td>\n",
       "      <td>2000</td>\n",
       "      <td>January</td>\n",
       "      <td>Murder or Manslaughter</td>\n",
       "      <td>Yes</td>\n",
       "      <td>...</td>\n",
       "      <td>Unknown</td>\n",
       "      <td>Male</td>\n",
       "      <td>18</td>\n",
       "      <td>Native American/Alaska Native</td>\n",
       "      <td>Unknown</td>\n",
       "      <td>Unknown</td>\n",
       "      <td>Handgun</td>\n",
       "      <td>0</td>\n",
       "      <td>1</td>\n",
       "      <td>FBI</td>\n",
       "    </tr>\n",
       "    <tr>\n",
       "      <th>2</th>\n",
       "      <td>3</td>\n",
       "      <td>AK00101</td>\n",
       "      <td>Anchorage</td>\n",
       "      <td>Municipal Police</td>\n",
       "      <td>Anchorage</td>\n",
       "      <td>Alaska</td>\n",
       "      <td>2000</td>\n",
       "      <td>January</td>\n",
       "      <td>Manslaughter by Negligence</td>\n",
       "      <td>Yes</td>\n",
       "      <td>...</td>\n",
       "      <td>Unknown</td>\n",
       "      <td>Male</td>\n",
       "      <td>12</td>\n",
       "      <td>Asian/Pacific Islander</td>\n",
       "      <td>Unknown</td>\n",
       "      <td>Family</td>\n",
       "      <td>Blunt Object</td>\n",
       "      <td>0</td>\n",
       "      <td>0</td>\n",
       "      <td>FBI</td>\n",
       "    </tr>\n",
       "    <tr>\n",
       "      <th>3</th>\n",
       "      <td>4</td>\n",
       "      <td>AK00101</td>\n",
       "      <td>Anchorage</td>\n",
       "      <td>Municipal Police</td>\n",
       "      <td>Anchorage</td>\n",
       "      <td>Alaska</td>\n",
       "      <td>2000</td>\n",
       "      <td>February</td>\n",
       "      <td>Manslaughter by Negligence</td>\n",
       "      <td>Yes</td>\n",
       "      <td>...</td>\n",
       "      <td>Unknown</td>\n",
       "      <td>Female</td>\n",
       "      <td>39</td>\n",
       "      <td>Asian/Pacific Islander</td>\n",
       "      <td>Unknown</td>\n",
       "      <td>Acquaintance</td>\n",
       "      <td>Blunt Object</td>\n",
       "      <td>0</td>\n",
       "      <td>0</td>\n",
       "      <td>FBI</td>\n",
       "    </tr>\n",
       "    <tr>\n",
       "      <th>4</th>\n",
       "      <td>5</td>\n",
       "      <td>AK00101</td>\n",
       "      <td>Anchorage</td>\n",
       "      <td>Municipal Police</td>\n",
       "      <td>Anchorage</td>\n",
       "      <td>Alaska</td>\n",
       "      <td>2000</td>\n",
       "      <td>March</td>\n",
       "      <td>Murder or Manslaughter</td>\n",
       "      <td>No</td>\n",
       "      <td>...</td>\n",
       "      <td>Unknown</td>\n",
       "      <td>Unknown</td>\n",
       "      <td>0</td>\n",
       "      <td>Unknown</td>\n",
       "      <td>Unknown</td>\n",
       "      <td>Unknown</td>\n",
       "      <td>Knife</td>\n",
       "      <td>0</td>\n",
       "      <td>0</td>\n",
       "      <td>FBI</td>\n",
       "    </tr>\n",
       "  </tbody>\n",
       "</table>\n",
       "<p>5 rows × 23 columns</p>\n",
       "</div>"
      ],
      "text/plain": [
       "   Record ID Agency Code Agency Name       Agency Type       City   State  \\\n",
       "0          1     AK00101   Anchorage  Municipal Police  Anchorage  Alaska   \n",
       "1          2     AK00101   Anchorage  Municipal Police  Anchorage  Alaska   \n",
       "2          3     AK00101   Anchorage  Municipal Police  Anchorage  Alaska   \n",
       "3          4     AK00101   Anchorage  Municipal Police  Anchorage  Alaska   \n",
       "4          5     AK00101   Anchorage  Municipal Police  Anchorage  Alaska   \n",
       "\n",
       "   Year     Month                  Crime Type Crime Solved  ...  \\\n",
       "0  2000   January      Murder or Manslaughter          Yes  ...   \n",
       "1  2000   January      Murder or Manslaughter          Yes  ...   \n",
       "2  2000   January  Manslaughter by Negligence          Yes  ...   \n",
       "3  2000  February  Manslaughter by Negligence          Yes  ...   \n",
       "4  2000     March      Murder or Manslaughter           No  ...   \n",
       "\n",
       "  Victim Ethnicity  Perpetrator Sex Perpetrator Age  \\\n",
       "0          Unknown             Male              28   \n",
       "1          Unknown             Male              18   \n",
       "2          Unknown             Male              12   \n",
       "3          Unknown           Female              39   \n",
       "4          Unknown          Unknown               0   \n",
       "\n",
       "                Perpetrator Race Perpetrator Ethnicity  Relationship  \\\n",
       "0                          Black               Unknown          Wife   \n",
       "1  Native American/Alaska Native               Unknown       Unknown   \n",
       "2         Asian/Pacific Islander               Unknown        Family   \n",
       "3         Asian/Pacific Islander               Unknown  Acquaintance   \n",
       "4                        Unknown               Unknown       Unknown   \n",
       "\n",
       "         Weapon Victim Count Perpetrator Count Record Source  \n",
       "0       Handgun            0                 0           FBI  \n",
       "1       Handgun            0                 1           FBI  \n",
       "2  Blunt Object            0                 0           FBI  \n",
       "3  Blunt Object            0                 0           FBI  \n",
       "4         Knife            0                 0           FBI  \n",
       "\n",
       "[5 rows x 23 columns]"
      ]
     },
     "execution_count": 7,
     "metadata": {},
     "output_type": "execute_result"
    }
   ],
   "source": [
    "Crime.head(5)"
   ]
  },
  {
   "cell_type": "code",
   "execution_count": 8,
   "id": "58b6a554",
   "metadata": {},
   "outputs": [
    {
     "data": {
      "text/html": [
       "<div>\n",
       "<style scoped>\n",
       "    .dataframe tbody tr th:only-of-type {\n",
       "        vertical-align: middle;\n",
       "    }\n",
       "\n",
       "    .dataframe tbody tr th {\n",
       "        vertical-align: top;\n",
       "    }\n",
       "\n",
       "    .dataframe thead th {\n",
       "        text-align: right;\n",
       "    }\n",
       "</style>\n",
       "<table border=\"1\" class=\"dataframe\">\n",
       "  <thead>\n",
       "    <tr style=\"text-align: right;\">\n",
       "      <th></th>\n",
       "      <th>Record ID</th>\n",
       "      <th>Agency Code</th>\n",
       "      <th>Agency Name</th>\n",
       "      <th>Agency Type</th>\n",
       "      <th>City</th>\n",
       "      <th>State</th>\n",
       "      <th>Year</th>\n",
       "      <th>Month</th>\n",
       "      <th>Crime Type</th>\n",
       "      <th>Crime Solved</th>\n",
       "      <th>...</th>\n",
       "      <th>Victim Ethnicity</th>\n",
       "      <th>Perpetrator Sex</th>\n",
       "      <th>Perpetrator Age</th>\n",
       "      <th>Perpetrator Race</th>\n",
       "      <th>Perpetrator Ethnicity</th>\n",
       "      <th>Relationship</th>\n",
       "      <th>Weapon</th>\n",
       "      <th>Victim Count</th>\n",
       "      <th>Perpetrator Count</th>\n",
       "      <th>Record Source</th>\n",
       "    </tr>\n",
       "  </thead>\n",
       "  <tbody>\n",
       "    <tr>\n",
       "      <th>221686</th>\n",
       "      <td>221687</td>\n",
       "      <td>WY01501</td>\n",
       "      <td>Cody</td>\n",
       "      <td>Municipal Police</td>\n",
       "      <td>Park</td>\n",
       "      <td>Wyoming</td>\n",
       "      <td>2012</td>\n",
       "      <td>February</td>\n",
       "      <td>Murder or Manslaughter</td>\n",
       "      <td>Yes</td>\n",
       "      <td>...</td>\n",
       "      <td>Unknown</td>\n",
       "      <td>Male</td>\n",
       "      <td>28</td>\n",
       "      <td>Native American/Alaska Native</td>\n",
       "      <td>Unknown</td>\n",
       "      <td>Wife</td>\n",
       "      <td>Knife</td>\n",
       "      <td>0</td>\n",
       "      <td>0</td>\n",
       "      <td>FBI</td>\n",
       "    </tr>\n",
       "    <tr>\n",
       "      <th>221687</th>\n",
       "      <td>221688</td>\n",
       "      <td>WY01701</td>\n",
       "      <td>Sheridan</td>\n",
       "      <td>Municipal Police</td>\n",
       "      <td>Sheridan</td>\n",
       "      <td>Wyoming</td>\n",
       "      <td>2012</td>\n",
       "      <td>September</td>\n",
       "      <td>Murder or Manslaughter</td>\n",
       "      <td>Yes</td>\n",
       "      <td>...</td>\n",
       "      <td>Unknown</td>\n",
       "      <td>Female</td>\n",
       "      <td>51</td>\n",
       "      <td>White</td>\n",
       "      <td>Unknown</td>\n",
       "      <td>Mother</td>\n",
       "      <td>Blunt Object</td>\n",
       "      <td>0</td>\n",
       "      <td>0</td>\n",
       "      <td>FBI</td>\n",
       "    </tr>\n",
       "    <tr>\n",
       "      <th>221688</th>\n",
       "      <td>221689</td>\n",
       "      <td>WY01900</td>\n",
       "      <td>Sweetwater County</td>\n",
       "      <td>Sheriff</td>\n",
       "      <td>Sweetwater</td>\n",
       "      <td>Wyoming</td>\n",
       "      <td>2012</td>\n",
       "      <td>August</td>\n",
       "      <td>Murder or Manslaughter</td>\n",
       "      <td>Yes</td>\n",
       "      <td>...</td>\n",
       "      <td>Unknown</td>\n",
       "      <td>Male</td>\n",
       "      <td>17</td>\n",
       "      <td>Asian/Pacific Islander</td>\n",
       "      <td>Unknown</td>\n",
       "      <td>Friend</td>\n",
       "      <td>Blunt Object</td>\n",
       "      <td>0</td>\n",
       "      <td>2</td>\n",
       "      <td>FBI</td>\n",
       "    </tr>\n",
       "    <tr>\n",
       "      <th>221689</th>\n",
       "      <td>221690</td>\n",
       "      <td>WY01902</td>\n",
       "      <td>Rock Springs</td>\n",
       "      <td>Municipal Police</td>\n",
       "      <td>Sweetwater</td>\n",
       "      <td>Wyoming</td>\n",
       "      <td>2012</td>\n",
       "      <td>February</td>\n",
       "      <td>Murder or Manslaughter</td>\n",
       "      <td>Yes</td>\n",
       "      <td>...</td>\n",
       "      <td>Unknown</td>\n",
       "      <td>Male</td>\n",
       "      <td>32</td>\n",
       "      <td>White</td>\n",
       "      <td>Unknown</td>\n",
       "      <td>Friend</td>\n",
       "      <td>Blunt Object</td>\n",
       "      <td>0</td>\n",
       "      <td>0</td>\n",
       "      <td>FBI</td>\n",
       "    </tr>\n",
       "    <tr>\n",
       "      <th>221690</th>\n",
       "      <td>221691</td>\n",
       "      <td>WY01902</td>\n",
       "      <td>Rock Springs</td>\n",
       "      <td>Municipal Police</td>\n",
       "      <td>Sweetwater</td>\n",
       "      <td>Wyoming</td>\n",
       "      <td>2012</td>\n",
       "      <td>July</td>\n",
       "      <td>Murder or Manslaughter</td>\n",
       "      <td>Yes</td>\n",
       "      <td>...</td>\n",
       "      <td>Unknown</td>\n",
       "      <td>Male</td>\n",
       "      <td>22</td>\n",
       "      <td>White</td>\n",
       "      <td>Unknown</td>\n",
       "      <td>Neighbor</td>\n",
       "      <td>Firearm</td>\n",
       "      <td>0</td>\n",
       "      <td>0</td>\n",
       "      <td>FBI</td>\n",
       "    </tr>\n",
       "  </tbody>\n",
       "</table>\n",
       "<p>5 rows × 23 columns</p>\n",
       "</div>"
      ],
      "text/plain": [
       "        Record ID Agency Code        Agency Name       Agency Type  \\\n",
       "221686     221687     WY01501               Cody  Municipal Police   \n",
       "221687     221688     WY01701           Sheridan  Municipal Police   \n",
       "221688     221689     WY01900  Sweetwater County           Sheriff   \n",
       "221689     221690     WY01902       Rock Springs  Municipal Police   \n",
       "221690     221691     WY01902       Rock Springs  Municipal Police   \n",
       "\n",
       "              City    State  Year      Month              Crime Type  \\\n",
       "221686        Park  Wyoming  2012   February  Murder or Manslaughter   \n",
       "221687    Sheridan  Wyoming  2012  September  Murder or Manslaughter   \n",
       "221688  Sweetwater  Wyoming  2012     August  Murder or Manslaughter   \n",
       "221689  Sweetwater  Wyoming  2012   February  Murder or Manslaughter   \n",
       "221690  Sweetwater  Wyoming  2012       July  Murder or Manslaughter   \n",
       "\n",
       "       Crime Solved  ... Victim Ethnicity  Perpetrator Sex Perpetrator Age  \\\n",
       "221686          Yes  ...          Unknown             Male              28   \n",
       "221687          Yes  ...          Unknown           Female              51   \n",
       "221688          Yes  ...          Unknown             Male              17   \n",
       "221689          Yes  ...          Unknown             Male              32   \n",
       "221690          Yes  ...          Unknown             Male              22   \n",
       "\n",
       "                     Perpetrator Race Perpetrator Ethnicity  Relationship  \\\n",
       "221686  Native American/Alaska Native               Unknown          Wife   \n",
       "221687                          White               Unknown        Mother   \n",
       "221688         Asian/Pacific Islander               Unknown        Friend   \n",
       "221689                          White               Unknown        Friend   \n",
       "221690                          White               Unknown      Neighbor   \n",
       "\n",
       "              Weapon Victim Count Perpetrator Count Record Source  \n",
       "221686         Knife            0                 0           FBI  \n",
       "221687  Blunt Object            0                 0           FBI  \n",
       "221688  Blunt Object            0                 2           FBI  \n",
       "221689  Blunt Object            0                 0           FBI  \n",
       "221690       Firearm            0                 0           FBI  \n",
       "\n",
       "[5 rows x 23 columns]"
      ]
     },
     "execution_count": 8,
     "metadata": {},
     "output_type": "execute_result"
    }
   ],
   "source": [
    "Crime.tail(5)"
   ]
  },
  {
   "cell_type": "code",
   "execution_count": 9,
   "id": "c4ba48fc",
   "metadata": {},
   "outputs": [
    {
     "data": {
      "text/plain": [
       "Record ID                0\n",
       "Agency Code              0\n",
       "Agency Name              0\n",
       "Agency Type              0\n",
       "City                     0\n",
       "State                    0\n",
       "Year                     0\n",
       "Month                    0\n",
       "Crime Type               0\n",
       "Crime Solved             0\n",
       "Victim Sex               0\n",
       "Victim Age               0\n",
       "Victim Race              0\n",
       "Victim Ethnicity         0\n",
       "Perpetrator Sex          0\n",
       "Perpetrator Age          0\n",
       "Perpetrator Race         0\n",
       "Perpetrator Ethnicity    0\n",
       "Relationship             0\n",
       "Weapon                   0\n",
       "Victim Count             0\n",
       "Perpetrator Count        0\n",
       "Record Source            0\n",
       "dtype: int64"
      ]
     },
     "execution_count": 9,
     "metadata": {},
     "output_type": "execute_result"
    }
   ],
   "source": [
    "Crime.isnull().sum()"
   ]
  },
  {
   "cell_type": "markdown",
   "id": "70773122",
   "metadata": {},
   "source": [
    "### 1. Find the total number of crimes"
   ]
  },
  {
   "cell_type": "code",
   "execution_count": 10,
   "id": "d5faa952",
   "metadata": {
    "scrolled": true
   },
   "outputs": [
    {
     "data": {
      "text/plain": [
       "221691"
      ]
     },
     "execution_count": 10,
     "metadata": {},
     "output_type": "execute_result"
    }
   ],
   "source": [
    "a=Crime['Crime Type'].count()\n",
    "a"
   ]
  },
  {
   "cell_type": "markdown",
   "id": "1ff62cdb",
   "metadata": {},
   "source": [
    "### 2. Find the Unique number of Investigation Agency"
   ]
  },
  {
   "cell_type": "code",
   "execution_count": 11,
   "id": "1aa7027f",
   "metadata": {},
   "outputs": [
    {
     "data": {
      "text/plain": [
       "Los Angeles                 7798\n",
       "New York                    7704\n",
       "Chicago                     7368\n",
       "Detroit                     5355\n",
       "Philadelphia                4868\n",
       "                            ... \n",
       "Pataskala                      1\n",
       "Camillus Town and Villag       1\n",
       "Bainbridge Township            1\n",
       "Wauseon                        1\n",
       "Sweetwater County              1\n",
       "Name: Agency Name, Length: 7142, dtype: int64"
      ]
     },
     "execution_count": 11,
     "metadata": {},
     "output_type": "execute_result"
    }
   ],
   "source": [
    "a1=Crime['Agency Name'].value_counts()\n",
    "a1"
   ]
  },
  {
   "cell_type": "markdown",
   "id": "0d9d545f",
   "metadata": {},
   "source": [
    "### 3. Find the total number of crimes reported by each Investigation Agency."
   ]
  },
  {
   "cell_type": "code",
   "execution_count": 12,
   "id": "01b3aba2",
   "metadata": {},
   "outputs": [
    {
     "data": {
      "text/plain": [
       "Agency Name\n",
       "Abbeville            29\n",
       "Abbeville County      3\n",
       "Aberdeen             27\n",
       "Aberdeen Township     2\n",
       "Abernathy             2\n",
       "                     ..\n",
       "Zeeland               3\n",
       "Zephyrhills           7\n",
       "Zolfo Springs         2\n",
       "Zumbrota              1\n",
       "Zuni Tribal           1\n",
       "Name: Crime Type, Length: 7142, dtype: int64"
      ]
     },
     "execution_count": 12,
     "metadata": {},
     "output_type": "execute_result"
    }
   ],
   "source": [
    "a2=Crime.groupby('Agency Name').count()['Crime Type']\n",
    "a2"
   ]
  },
  {
   "cell_type": "markdown",
   "id": "13260ea8",
   "metadata": {},
   "source": [
    "### 4. Find the unique number of Investigation Agency Type\n"
   ]
  },
  {
   "cell_type": "code",
   "execution_count": 13,
   "id": "dadaec1c",
   "metadata": {},
   "outputs": [
    {
     "data": {
      "text/plain": [
       "Municipal Police    168696\n",
       "Sheriff              37442\n",
       "County Police         9553\n",
       "State Police          4624\n",
       "Special Police        1244\n",
       "Regional Police        104\n",
       "Tribal Police           28\n",
       "Name: Agency Type, dtype: int64"
      ]
     },
     "execution_count": 13,
     "metadata": {},
     "output_type": "execute_result"
    }
   ],
   "source": [
    "a3=Crime['Agency Type'].value_counts()\n",
    "a3"
   ]
  },
  {
   "cell_type": "markdown",
   "id": "866f78da",
   "metadata": {},
   "source": [
    "### 5. Find the total number of crimes by Investigation Agency Type"
   ]
  },
  {
   "cell_type": "code",
   "execution_count": 14,
   "id": "7c69ae7f",
   "metadata": {},
   "outputs": [
    {
     "data": {
      "text/plain": [
       "Agency Type\n",
       "County Police         9553\n",
       "Municipal Police    168696\n",
       "Regional Police        104\n",
       "Sheriff              37442\n",
       "Special Police        1244\n",
       "State Police          4624\n",
       "Tribal Police           28\n",
       "Name: Crime Type, dtype: int64"
      ]
     },
     "execution_count": 14,
     "metadata": {},
     "output_type": "execute_result"
    }
   ],
   "source": [
    "a4=Crime.groupby('Agency Type').count()['Crime Type']\n",
    "a4"
   ]
  },
  {
   "cell_type": "markdown",
   "id": "7e3f8097",
   "metadata": {},
   "source": [
    "### 6. Find the total number of crimes reported in each state\n"
   ]
  },
  {
   "cell_type": "code",
   "execution_count": 15,
   "id": "3a1e5665",
   "metadata": {},
   "outputs": [
    {
     "data": {
      "text/plain": [
       "State\n",
       "Alabama                  3350\n",
       "Alaska                    558\n",
       "Arizona                  6017\n",
       "Arkansas                 2320\n",
       "California              32130\n",
       "Colorado                 2376\n",
       "Connecticut              1584\n",
       "Delaware                  556\n",
       "District of Columbia     1734\n",
       "Florida                 15231\n",
       "Georgia                  8168\n",
       "Hawaii                    375\n",
       "Idaho                     429\n",
       "Illinois                 7528\n",
       "Indiana                  4576\n",
       "Iowa                      691\n",
       "Kansas                   1376\n",
       "Kentucky                 2206\n",
       "Louisiana                7296\n",
       "Maine                     341\n",
       "Maryland                 6947\n",
       "Massachusetts            2309\n",
       "Michigan                 9268\n",
       "Minnesota                1576\n",
       "Mississippi              2473\n",
       "Missouri                 5532\n",
       "Montana                   294\n",
       "Nebraska                  495\n",
       "Nevada                   2567\n",
       "New Hampshire             206\n",
       "New Jersey               5439\n",
       "New Mexico               1857\n",
       "New York                11849\n",
       "North Carolina           7485\n",
       "North Dakota              125\n",
       "Ohio                     6834\n",
       "Oklahoma                 3066\n",
       "Oregon                   1263\n",
       "Pennsylvania             9879\n",
       "Rhodes Island             443\n",
       "South Carolina           4497\n",
       "South Dakota              205\n",
       "Tennessee                6015\n",
       "Texas                   19453\n",
       "Utah                      791\n",
       "Vermont                   162\n",
       "Virginia                 5415\n",
       "Washington               2807\n",
       "West Virginia             939\n",
       "Wisconsin                2461\n",
       "Wyoming                   197\n",
       "Name: Crime Type, dtype: int64"
      ]
     },
     "execution_count": 15,
     "metadata": {},
     "output_type": "execute_result"
    }
   ],
   "source": [
    "a5=Crime.groupby('State').count()['Crime Type']\n",
    "a5"
   ]
  },
  {
   "cell_type": "markdown",
   "id": "ead05c80",
   "metadata": {},
   "source": [
    "### 7. Find the total number of crimes in each year"
   ]
  },
  {
   "cell_type": "code",
   "execution_count": 16,
   "id": "f4c558a3",
   "metadata": {},
   "outputs": [
    {
     "data": {
      "text/plain": [
       "Year\n",
       "2000    14671\n",
       "2001    15803\n",
       "2002    16268\n",
       "2003    16512\n",
       "2004    16233\n",
       "2005    16836\n",
       "2006    17275\n",
       "2007    17303\n",
       "2008    15595\n",
       "2009    15840\n",
       "2010    15121\n",
       "2011    14756\n",
       "2012    15033\n",
       "2013    14445\n",
       "Name: Crime Type, dtype: int64"
      ]
     },
     "execution_count": 16,
     "metadata": {},
     "output_type": "execute_result"
    }
   ],
   "source": [
    "a5=Crime.groupby('Year').count()['Crime Type']\n",
    "a5"
   ]
  },
  {
   "cell_type": "markdown",
   "id": "fb51fe99",
   "metadata": {},
   "source": [
    "### 8. Find the total number of crimes in each month and year"
   ]
  },
  {
   "cell_type": "code",
   "execution_count": 17,
   "id": "8c305580",
   "metadata": {},
   "outputs": [
    {
     "data": {
      "text/plain": [
       "Year  Month    \n",
       "2000  April        1114\n",
       "      August       1327\n",
       "      December     1499\n",
       "      February     1074\n",
       "      January      1238\n",
       "                   ... \n",
       "2013  March        1131\n",
       "      May          1201\n",
       "      November     1190\n",
       "      October      1195\n",
       "      September    1169\n",
       "Name: Crime Type, Length: 168, dtype: int64"
      ]
     },
     "execution_count": 17,
     "metadata": {},
     "output_type": "execute_result"
    }
   ],
   "source": [
    "a6=Crime.groupby(['Year','Month']).count()['Crime Type']\n",
    "a6"
   ]
  },
  {
   "cell_type": "markdown",
   "id": "8488d705",
   "metadata": {},
   "source": [
    "### 9. Find the total number of crimes by crime type"
   ]
  },
  {
   "cell_type": "code",
   "execution_count": 18,
   "id": "4732ff1e",
   "metadata": {},
   "outputs": [
    {
     "data": {
      "text/plain": [
       "Murder or Manslaughter        218242\n",
       "Manslaughter by Negligence      3449\n",
       "Name: Crime Type, dtype: int64"
      ]
     },
     "execution_count": 18,
     "metadata": {},
     "output_type": "execute_result"
    }
   ],
   "source": [
    "a7=Crime['Crime Type'].value_counts()\n",
    "a7"
   ]
  },
  {
   "cell_type": "markdown",
   "id": "bcd1f494",
   "metadata": {},
   "source": [
    "### 10. Find the total number of crime type and Investigation agency"
   ]
  },
  {
   "cell_type": "code",
   "execution_count": 19,
   "id": "821e2a82",
   "metadata": {},
   "outputs": [
    {
     "data": {
      "text/plain": [
       "Agency Name\n",
       "Abbeville            29\n",
       "Abbeville County      3\n",
       "Aberdeen             27\n",
       "Aberdeen Township     2\n",
       "Abernathy             2\n",
       "                     ..\n",
       "Zeeland               3\n",
       "Zephyrhills           7\n",
       "Zolfo Springs         2\n",
       "Zumbrota              1\n",
       "Zuni Tribal           1\n",
       "Name: Crime Type, Length: 7142, dtype: int64"
      ]
     },
     "execution_count": 19,
     "metadata": {},
     "output_type": "execute_result"
    }
   ],
   "source": [
    "a7=Crime.groupby('Agency Name').count()['Crime Type']\n",
    "a7"
   ]
  },
  {
   "cell_type": "markdown",
   "id": "5c7495da",
   "metadata": {},
   "source": [
    "### 11. Find the total number of solved crimes."
   ]
  },
  {
   "cell_type": "code",
   "execution_count": 20,
   "id": "7643a427",
   "metadata": {},
   "outputs": [
    {
     "data": {
      "text/plain": [
       "221691"
      ]
     },
     "execution_count": 20,
     "metadata": {},
     "output_type": "execute_result"
    }
   ],
   "source": [
    "a8=Crime['Crime Solved'].count()\n",
    "a8"
   ]
  },
  {
   "cell_type": "markdown",
   "id": "3dcb967e",
   "metadata": {},
   "source": [
    "### 12. Find the total number of solved crimes by investigation agency\n"
   ]
  },
  {
   "cell_type": "code",
   "execution_count": 21,
   "id": "7aa098bb",
   "metadata": {},
   "outputs": [
    {
     "data": {
      "text/plain": [
       "Agency Name\n",
       "Abbeville            29\n",
       "Abbeville County      3\n",
       "Aberdeen             27\n",
       "Aberdeen Township     2\n",
       "Abernathy             2\n",
       "                     ..\n",
       "Zeeland               3\n",
       "Zephyrhills           7\n",
       "Zolfo Springs         2\n",
       "Zumbrota              1\n",
       "Zuni Tribal           1\n",
       "Name: Crime Solved, Length: 7142, dtype: int64"
      ]
     },
     "execution_count": 21,
     "metadata": {},
     "output_type": "execute_result"
    }
   ],
   "source": [
    "B=Crime.groupby('Agency Name').count()['Crime Solved']\n",
    "B"
   ]
  },
  {
   "cell_type": "markdown",
   "id": "84814dfd",
   "metadata": {},
   "source": [
    "### 13. Find the total number of victims by gender"
   ]
  },
  {
   "cell_type": "code",
   "execution_count": 22,
   "id": "0c9c77b8",
   "metadata": {},
   "outputs": [
    {
     "data": {
      "text/plain": [
       "Victim Sex\n",
       "Female      48269\n",
       "Male       172999\n",
       "Unknown       423\n",
       "Name: Victim Race, dtype: int64"
      ]
     },
     "execution_count": 22,
     "metadata": {},
     "output_type": "execute_result"
    }
   ],
   "source": [
    "B=Crime.groupby('Victim Sex').count()['Victim Race']\n",
    "B"
   ]
  },
  {
   "cell_type": "markdown",
   "id": "0fca231d",
   "metadata": {},
   "source": [
    "### 14. Find the total number of crimes by victim race"
   ]
  },
  {
   "cell_type": "code",
   "execution_count": 23,
   "id": "f56f00c5",
   "metadata": {},
   "outputs": [
    {
     "data": {
      "text/plain": [
       "Victim Race\n",
       "Asian/Pacific Islander             3868\n",
       "Black                            106752\n",
       "Native American/Alaska Native      1591\n",
       "Unknown                            2767\n",
       "White                            106713\n",
       "Name: Crime Type, dtype: int64"
      ]
     },
     "execution_count": 23,
     "metadata": {},
     "output_type": "execute_result"
    }
   ],
   "source": [
    "a7=Crime.groupby('Victim Race').count()['Crime Type']\n",
    "a7"
   ]
  },
  {
   "cell_type": "markdown",
   "id": "4adfe5b3",
   "metadata": {},
   "source": [
    "### 15. Find the total number of solved crimes by victim sex and Investigation Agency"
   ]
  },
  {
   "cell_type": "code",
   "execution_count": 24,
   "id": "3ecfd275",
   "metadata": {},
   "outputs": [
    {
     "data": {
      "text/plain": [
       "Victim Sex  Agency Name      \n",
       "Female      Abbeville             4\n",
       "            Aberdeen              8\n",
       "            Aberdeen Township     1\n",
       "            Abernathy             1\n",
       "            Abilene              18\n",
       "                                 ..\n",
       "Unknown     Winter Garden         1\n",
       "            Woodbury              1\n",
       "            Wooster               1\n",
       "            Wytheville            1\n",
       "            Yakima                1\n",
       "Name: Crime Solved, Length: 11860, dtype: int64"
      ]
     },
     "execution_count": 24,
     "metadata": {},
     "output_type": "execute_result"
    }
   ],
   "source": [
    "a6=Crime.groupby(['Victim Sex','Agency Name']).count()['Crime Solved']\n",
    "a6"
   ]
  },
  {
   "cell_type": "markdown",
   "id": "92adb647",
   "metadata": {},
   "source": [
    "### 16. Find the total number of Perpetrator by gender"
   ]
  },
  {
   "cell_type": "code",
   "execution_count": 60,
   "id": "55ba0f6b",
   "metadata": {},
   "outputs": [
    {
     "data": {
      "text/plain": [
       "Perpetrator Sex\n",
       "Female      14204\n",
       "Male       139446\n",
       "Unknown     68041\n",
       "Name: Perpetrator Race, dtype: int64"
      ]
     },
     "execution_count": 60,
     "metadata": {},
     "output_type": "execute_result"
    }
   ],
   "source": [
    "b1=Crime.groupby('Perpetrator Sex').count()['Perpetrator Race']\n",
    "b1"
   ]
  },
  {
   "cell_type": "markdown",
   "id": "e5dca6a3",
   "metadata": {},
   "source": [
    "### 17. Find the total number of Perpetrator by perpetrator race"
   ]
  },
  {
   "cell_type": "code",
   "execution_count": 26,
   "id": "b4c57cb4",
   "metadata": {},
   "outputs": [
    {
     "data": {
      "text/plain": [
       "Perpetrator Ethnicity\n",
       "Hispanic         15773\n",
       "Not Hispanic     36410\n",
       "Unknown         169508\n",
       "Name: Perpetrator Race, dtype: int64"
      ]
     },
     "execution_count": 26,
     "metadata": {},
     "output_type": "execute_result"
    }
   ],
   "source": [
    "b1=Crime.groupby('Perpetrator Ethnicity').count()['Perpetrator Race']\n",
    "b1"
   ]
  },
  {
   "cell_type": "markdown",
   "id": "806425ff",
   "metadata": {},
   "source": [
    "### 18. Find the total number of crimes by relationship between perpetrator and the victim"
   ]
  },
  {
   "cell_type": "code",
   "execution_count": 27,
   "id": "5de92d6a",
   "metadata": {},
   "outputs": [
    {
     "data": {
      "text/plain": [
       "Perpetrator Race               Victim Race                  \n",
       "Asian/Pacific Islander         Asian/Pacific Islander            1460\n",
       "                               Black                              225\n",
       "                               Native American/Alaska Native       14\n",
       "                               Unknown                             42\n",
       "                               White                              610\n",
       "Black                          Asian/Pacific Islander             549\n",
       "                               Black                            59043\n",
       "                               Native American/Alaska Native      177\n",
       "                               Unknown                            498\n",
       "                               White                            12407\n",
       "Native American/Alaska Native  Asian/Pacific Islander              18\n",
       "                               Black                               71\n",
       "                               Native American/Alaska Native      701\n",
       "                               Unknown                             11\n",
       "                               White                              458\n",
       "Unknown                        Asian/Pacific Islander            1095\n",
       "                               Black                            40892\n",
       "                               Native American/Alaska Native      313\n",
       "                               Unknown                           1546\n",
       "                               White                            26449\n",
       "White                          Asian/Pacific Islander             746\n",
       "                               Black                             6521\n",
       "                               Native American/Alaska Native      386\n",
       "                               Unknown                            670\n",
       "                               White                            66789\n",
       "Name: Crime Type, dtype: int64"
      ]
     },
     "execution_count": 27,
     "metadata": {},
     "output_type": "execute_result"
    }
   ],
   "source": [
    "b2=Crime.groupby(['Perpetrator Race','Victim Race']).count()['Crime Type']\n",
    "b2"
   ]
  },
  {
   "cell_type": "markdown",
   "id": "397b0f0b",
   "metadata": {},
   "source": [
    "### 19. Find the mostly use weapon"
   ]
  },
  {
   "cell_type": "code",
   "execution_count": 28,
   "id": "da2e890a",
   "metadata": {},
   "outputs": [
    {
     "data": {
      "text/plain": [
       "Handgun          109611\n",
       "Knife             27371\n",
       "Firearm           25551\n",
       "Blunt Object      22654\n",
       "Unknown           15185\n",
       "Shotgun            6881\n",
       "Rifle              6524\n",
       "Strangulation      1814\n",
       "Fire               1696\n",
       "Suffocation        1532\n",
       "Gun                1395\n",
       "Drugs               886\n",
       "Drowning            299\n",
       "Poison              174\n",
       "Explosives           74\n",
       "Fall                 44\n",
       "Name: Weapon, dtype: int64"
      ]
     },
     "execution_count": 28,
     "metadata": {},
     "output_type": "execute_result"
    }
   ],
   "source": [
    "b3=Crime['Weapon'].value_counts()\n",
    "b3"
   ]
  },
  {
   "cell_type": "markdown",
   "id": "6c2c662b",
   "metadata": {},
   "source": [
    "### 20. Find the total number of crimes by state and city"
   ]
  },
  {
   "cell_type": "code",
   "execution_count": 29,
   "id": "84164493",
   "metadata": {},
   "outputs": [
    {
     "data": {
      "text/plain": [
       "State    City      \n",
       "Alabama  Autauga       13\n",
       "         Baldwin       52\n",
       "         Barbour       10\n",
       "         Bibb           1\n",
       "         Blount         6\n",
       "                       ..\n",
       "Wyoming  Sweetwater    19\n",
       "         Teton          2\n",
       "         Uinta          6\n",
       "         Washakie       2\n",
       "         Weston         2\n",
       "Name: Crime Type, Length: 2728, dtype: int64"
      ]
     },
     "execution_count": 29,
     "metadata": {},
     "output_type": "execute_result"
    }
   ],
   "source": [
    "b2=Crime.groupby(['State','City']).count()['Crime Type']\n",
    "b2"
   ]
  },
  {
   "cell_type": "markdown",
   "id": "1418aa9c",
   "metadata": {},
   "source": [
    "### 21. Find the total number of crimes by state and city and investigation agency"
   ]
  },
  {
   "cell_type": "code",
   "execution_count": 30,
   "id": "b5f1b86e",
   "metadata": {},
   "outputs": [
    {
     "data": {
      "text/plain": [
       "State    City      Agency Name\n",
       "Alabama  Autauga   Autauga        6\n",
       "                   Prattville     7\n",
       "         Baldwin   Baldwin        9\n",
       "                   Bay Minette    3\n",
       "                   Daphne         7\n",
       "                                 ..\n",
       "Wyoming  Uinta     Uinta          1\n",
       "         Washakie  Washakie       1\n",
       "                   Worland        1\n",
       "         Weston    Newcastle      1\n",
       "                   Weston         1\n",
       "Name: Crime Type, Length: 9728, dtype: int64"
      ]
     },
     "execution_count": 30,
     "metadata": {},
     "output_type": "execute_result"
    }
   ],
   "source": [
    "b3=Crime.groupby(['State','City','Agency Name']).count()['Crime Type']\n",
    "b3"
   ]
  },
  {
   "cell_type": "markdown",
   "id": "f638fdea",
   "metadata": {},
   "source": [
    "### 22. Find the total number of crimes by state and city by Crime Types"
   ]
  },
  {
   "cell_type": "code",
   "execution_count": 31,
   "id": "8e57d2a9",
   "metadata": {},
   "outputs": [
    {
     "data": {
      "text/plain": [
       "State    City      \n",
       "Alabama  Autauga       13\n",
       "         Baldwin       52\n",
       "         Barbour       10\n",
       "         Bibb           1\n",
       "         Blount         6\n",
       "                       ..\n",
       "Wyoming  Sweetwater    19\n",
       "         Teton          2\n",
       "         Uinta          6\n",
       "         Washakie       2\n",
       "         Weston         2\n",
       "Name: Crime Type, Length: 2728, dtype: int64"
      ]
     },
     "execution_count": 31,
     "metadata": {},
     "output_type": "execute_result"
    }
   ],
   "source": [
    "b4=Crime.groupby(['State','City']).count()['Crime Type']\n",
    "b4"
   ]
  },
  {
   "cell_type": "markdown",
   "id": "b383e30c",
   "metadata": {},
   "source": [
    "### 23. Find the average age of victim in each crime type"
   ]
  },
  {
   "cell_type": "code",
   "execution_count": 32,
   "id": "fa5279d7",
   "metadata": {},
   "outputs": [
    {
     "data": {
      "text/plain": [
       "Crime Type\n",
       "Manslaughter by Negligence    27.423601\n",
       "Murder or Manslaughter        33.531355\n",
       "Name: Victim Age, dtype: float64"
      ]
     },
     "execution_count": 32,
     "metadata": {},
     "output_type": "execute_result"
    }
   ],
   "source": [
    "b4=Crime.groupby('Crime Type').mean()['Victim Age']\n",
    "b4"
   ]
  },
  {
   "cell_type": "markdown",
   "id": "9f293550",
   "metadata": {},
   "source": [
    "### 24. Find the average age of victim in Manslaughter by Negligence crime."
   ]
  },
  {
   "cell_type": "code",
   "execution_count": 33,
   "id": "074a7132",
   "metadata": {},
   "outputs": [
    {
     "data": {
      "text/plain": [
       "Crime Type\n",
       "Manslaughter by Negligence    27.423601\n",
       "Murder or Manslaughter        33.531355\n",
       "Name: Victim Age, dtype: float64"
      ]
     },
     "execution_count": 33,
     "metadata": {},
     "output_type": "execute_result"
    }
   ],
   "source": [
    "b4=Crime.groupby('Crime Type').mean()['Victim Age']\n",
    "b4"
   ]
  },
  {
   "cell_type": "markdown",
   "id": "4cb7bece",
   "metadata": {},
   "source": [
    "### 25. Find the average age of Perpetrator in each crime type"
   ]
  },
  {
   "cell_type": "code",
   "execution_count": 34,
   "id": "75584f8f",
   "metadata": {},
   "outputs": [
    {
     "data": {
      "text/plain": [
       "Crime Type\n",
       "Manslaughter by Negligence    28.013627\n",
       "Murder or Manslaughter        19.933991\n",
       "Name: Perpetrator Age, dtype: float64"
      ]
     },
     "execution_count": 34,
     "metadata": {},
     "output_type": "execute_result"
    }
   ],
   "source": [
    "b4=Crime.groupby('Crime Type').mean()['Perpetrator Age']\n",
    "b4"
   ]
  },
  {
   "cell_type": "markdown",
   "id": "c9066ae3",
   "metadata": {},
   "source": [
    "### 26. Find the average age of Perpetrator in Murder or Manslaughter crime"
   ]
  },
  {
   "cell_type": "code",
   "execution_count": 35,
   "id": "1597e9d7",
   "metadata": {},
   "outputs": [
    {
     "data": {
      "text/plain": [
       "Crime Type\n",
       "Manslaughter by Negligence    28.013627\n",
       "Murder or Manslaughter        19.933991\n",
       "Name: Perpetrator Age, dtype: float64"
      ]
     },
     "execution_count": 35,
     "metadata": {},
     "output_type": "execute_result"
    }
   ],
   "source": [
    "b4=Crime.groupby('Crime Type').mean()['Perpetrator Age']\n",
    "b4"
   ]
  },
  {
   "cell_type": "markdown",
   "id": "6be5dc89",
   "metadata": {},
   "source": [
    "### 27. Create a pie chart to show most weapons used in the crime."
   ]
  },
  {
   "cell_type": "code",
   "execution_count": 36,
   "id": "691a738b",
   "metadata": {},
   "outputs": [
    {
     "data": {
      "text/plain": [
       "Handgun          109611\n",
       "Knife             27371\n",
       "Firearm           25551\n",
       "Blunt Object      22654\n",
       "Unknown           15185\n",
       "Shotgun            6881\n",
       "Rifle              6524\n",
       "Strangulation      1814\n",
       "Fire               1696\n",
       "Suffocation        1532\n",
       "Gun                1395\n",
       "Drugs               886\n",
       "Drowning            299\n",
       "Poison              174\n",
       "Explosives           74\n",
       "Fall                 44\n",
       "Name: Weapon, dtype: int64"
      ]
     },
     "execution_count": 36,
     "metadata": {},
     "output_type": "execute_result"
    }
   ],
   "source": [
    "B=Crime['Weapon'].value_counts()\n",
    "B"
   ]
  },
  {
   "cell_type": "code",
   "execution_count": 37,
   "id": "e5bd693e",
   "metadata": {},
   "outputs": [
    {
     "data": {
      "text/plain": [
       "<AxesSubplot:ylabel='Weapon'>"
      ]
     },
     "execution_count": 37,
     "metadata": {},
     "output_type": "execute_result"
    },
    {
     "data": {
      "image/png": "[encoded data removed]",
      "text/plain": [
       "<Figure size 432x288 with 1 Axes>"
      ]
     },
     "metadata": {},
     "output_type": "display_data"
    }
   ],
   "source": [
    "B.plot(kind=\"pie\", autopct='%1.2f%%')"
   ]
  },
  {
   "cell_type": "markdown",
   "id": "4c6ca115",
   "metadata": {},
   "source": [
    "### 28. Create visualization plots for all the possible questions. (bring appropriate charts, charts should be modified and it should be readable)"
   ]
  },
  {
   "cell_type": "code",
   "execution_count": 38,
   "id": "72ecb8b3",
   "metadata": {},
   "outputs": [
    {
     "data": {
      "text/plain": [
       "Text(0.5, 1.0, 'Weapon')"
      ]
     },
     "execution_count": 38,
     "metadata": {},
     "output_type": "execute_result"
    },
    {
     "data": {
      "image/png": "[encoded data removed]",
      "text/plain": [
       "<Figure size 432x288 with 1 Axes>"
      ]
     },
     "metadata": {
      "needs_background": "light"
     },
     "output_type": "display_data"
    }
   ],
   "source": [
    "# Bar plot of Weapon\n",
    "B.plot(kind='bar', color='blue')\n",
    "plt.title('Weapon')"
   ]
  },
  {
   "cell_type": "code",
   "execution_count": 39,
   "id": "c866b75b",
   "metadata": {},
   "outputs": [
    {
     "data": {
      "text/plain": [
       "Murder or Manslaughter        218242\n",
       "Manslaughter by Negligence      3449\n",
       "Name: Crime Type, dtype: int64"
      ]
     },
     "execution_count": 39,
     "metadata": {},
     "output_type": "execute_result"
    }
   ],
   "source": [
    "# Bar plot\n",
    "\n",
    "d=Crime['Crime Type'].value_counts()\n",
    "d"
   ]
  },
  {
   "cell_type": "code",
   "execution_count": 40,
   "id": "b24ba9c4",
   "metadata": {},
   "outputs": [
    {
     "data": {
      "text/plain": [
       "Text(0.5, 1.0, 'Crime Type')"
      ]
     },
     "execution_count": 40,
     "metadata": {},
     "output_type": "execute_result"
    },
    {
     "data": {
      "image/png": "[encoded data removed]",
      "text/plain": [
       "<Figure size 432x288 with 1 Axes>"
      ]
     },
     "metadata": {
      "needs_background": "light"
     },
     "output_type": "display_data"
    }
   ],
   "source": [
    "d.plot(kind='bar', color='orange')\n",
    "plt.title('Crime Type')"
   ]
  },
  {
   "cell_type": "code",
   "execution_count": 41,
   "id": "eee952fb",
   "metadata": {},
   "outputs": [
    {
     "data": {
      "image/png": "[encoded data removed]",
      "text/plain": [
       "<Figure size 432x288 with 1 Axes>"
      ]
     },
     "metadata": {
      "needs_background": "light"
     },
     "output_type": "display_data"
    }
   ],
   "source": [
    "#Bar Plot\n",
    "\n",
    "s1=Crime['Perpetrator Sex'].value_counts(dropna = False).plot.bar(color = 'green')\n",
    "plt.title('Perpetrator Sex of Males and Females')\n",
    "plt.xlabel('Perpetrator Sex')\n",
    "plt.ylabel('count')\n",
    "plt.show()"
   ]
  },
  {
   "cell_type": "code",
   "execution_count": 42,
   "id": "235be4a8",
   "metadata": {},
   "outputs": [
    {
     "data": {
      "text/plain": [
       "<AxesSubplot:ylabel='Perpetrator Sex'>"
      ]
     },
     "execution_count": 42,
     "metadata": {},
     "output_type": "execute_result"
    },
    {
     "data": {
      "image/png": "[encoded data removed]",
      "text/plain": [
       "<Figure size 432x288 with 1 Axes>"
      ]
     },
     "metadata": {},
     "output_type": "display_data"
    }
   ],
   "source": [
    "# Pie plot of perpertrator Sex\n",
    "\n",
    "s=Crime['Perpetrator Sex'].value_counts(normalize = True)\n",
    "s.plot(kind=\"pie\", colors=['lawngreen', 'cyan'], autopct='%1.2f%%')"
   ]
  },
  {
   "cell_type": "code",
   "execution_count": 43,
   "id": "4e6c126c",
   "metadata": {},
   "outputs": [
    {
     "data": {
      "text/plain": [
       "<AxesSubplot:>"
      ]
     },
     "execution_count": 43,
     "metadata": {},
     "output_type": "execute_result"
    },
    {
     "data": {
      "image/png": "[encoded data removed]",
      "text/plain": [
       "<Figure size 432x288 with 2 Axes>"
      ]
     },
     "metadata": {
      "needs_background": "light"
     },
     "output_type": "display_data"
    }
   ],
   "source": [
    "#heatmap \n",
    "sns.heatmap(Crime.corr(), annot=True, cmap='RdYlGn', square=True) "
   ]
  },
  {
   "cell_type": "code",
   "execution_count": 44,
   "id": "a7d2d8ba",
   "metadata": {},
   "outputs": [
    {
     "data": {
      "text/plain": [
       "Black                            106752\n",
       "White                            106713\n",
       "Asian/Pacific Islander             3868\n",
       "Unknown                            2767\n",
       "Native American/Alaska Native      1591\n",
       "Name: Victim Race, dtype: int64"
      ]
     },
     "execution_count": 44,
     "metadata": {},
     "output_type": "execute_result"
    }
   ],
   "source": [
    "D1=Crime['Victim Race'].value_counts()\n",
    "D1"
   ]
  },
  {
   "cell_type": "code",
   "execution_count": 45,
   "id": "a213f8c9",
   "metadata": {},
   "outputs": [
    {
     "data": {
      "text/plain": [
       "Text(0.5, 1.0, 'Victim Race')"
      ]
     },
     "execution_count": 45,
     "metadata": {},
     "output_type": "execute_result"
    },
    {
     "data": {
      "image/png": "[encoded data removed]",
      "text/plain": [
       "<Figure size 432x288 with 1 Axes>"
      ]
     },
     "metadata": {
      "needs_background": "light"
     },
     "output_type": "display_data"
    }
   ],
   "source": [
    "D1.plot(kind='bar', color='blue')\n",
    "plt.title('Victim Race')"
   ]
  },
  {
   "cell_type": "code",
   "execution_count": 46,
   "id": "2c5087d3",
   "metadata": {},
   "outputs": [
    {
     "data": {
      "text/plain": [
       "FBI     205251\n",
       "FOIA     16440\n",
       "Name: Record Source, dtype: int64"
      ]
     },
     "execution_count": 46,
     "metadata": {},
     "output_type": "execute_result"
    }
   ],
   "source": [
    "D2=Crime['Record Source'].value_counts()\n",
    "D2"
   ]
  },
  {
   "cell_type": "code",
   "execution_count": 47,
   "id": "4e49f1ed",
   "metadata": {},
   "outputs": [
    {
     "data": {
      "text/plain": [
       "Text(0.5, 1.0, 'Record Source')"
      ]
     },
     "execution_count": 47,
     "metadata": {},
     "output_type": "execute_result"
    },
    {
     "data": {
      "image/png": "[encoded data removed]",
      "text/plain": [
       "<Figure size 432x288 with 1 Axes>"
      ]
     },
     "metadata": {
      "needs_background": "light"
     },
     "output_type": "display_data"
    }
   ],
   "source": [
    "D2.plot(kind='bar', color='blue')\n",
    "plt.title('Record Source')"
   ]
  },
  {
   "cell_type": "code",
   "execution_count": 48,
   "id": "14129603",
   "metadata": {},
   "outputs": [
    {
     "data": {
      "text/plain": [
       "<AxesSubplot:ylabel='Record Source'>"
      ]
     },
     "execution_count": 48,
     "metadata": {},
     "output_type": "execute_result"
    },
    {
     "data": {
      "image/png": "[encoded data removed]",
      "text/plain": [
       "<Figure size 432x288 with 1 Axes>"
      ]
     },
     "metadata": {},
     "output_type": "display_data"
    }
   ],
   "source": [
    "D2.plot(kind='pie', colors=['blue', 'cyan'],autopct='%1.2f%%')"
   ]
  },
  {
   "cell_type": "code",
   "execution_count": 49,
   "id": "a22a82a8",
   "metadata": {},
   "outputs": [
    {
     "data": {
      "text/plain": [
       "Unknown         169508\n",
       "Not Hispanic     36410\n",
       "Hispanic         15773\n",
       "Name: Perpetrator Ethnicity, dtype: int64"
      ]
     },
     "execution_count": 49,
     "metadata": {},
     "output_type": "execute_result"
    }
   ],
   "source": [
    "D3=Crime['Perpetrator Ethnicity'].value_counts()\n",
    "D3"
   ]
  },
  {
   "cell_type": "code",
   "execution_count": 50,
   "id": "d58ff827",
   "metadata": {},
   "outputs": [
    {
     "data": {
      "text/plain": [
       "Text(0.5, 1.0, 'Perpetrator Ethnicity')"
      ]
     },
     "execution_count": 50,
     "metadata": {},
     "output_type": "execute_result"
    },
    {
     "data": {
      "image/png": "[encoded data removed]",
      "text/plain": [
       "<Figure size 432x288 with 1 Axes>"
      ]
     },
     "metadata": {
      "needs_background": "light"
     },
     "output_type": "display_data"
    }
   ],
   "source": [
    "D3.plot(kind='bar', color='blue')\n",
    "plt.title('Perpetrator Ethnicity')"
   ]
  },
  {
   "cell_type": "code",
   "execution_count": 51,
   "id": "dabab676",
   "metadata": {},
   "outputs": [
    {
     "data": {
      "text/plain": [
       "<AxesSubplot:ylabel='Perpetrator Ethnicity'>"
      ]
     },
     "execution_count": 51,
     "metadata": {},
     "output_type": "execute_result"
    },
    {
     "data": {
      "image/png": "[encoded data removed]",
      "text/plain": [
       "<Figure size 432x288 with 1 Axes>"
      ]
     },
     "metadata": {},
     "output_type": "display_data"
    }
   ],
   "source": [
    "D3.plot(kind='pie', colors=['blue', 'cyan'],autopct='%1.2f%%')"
   ]
  },
  {
   "cell_type": "code",
   "execution_count": 52,
   "id": "025213a4",
   "metadata": {},
   "outputs": [
    {
     "data": {
      "text/plain": [
       "Yes    153778\n",
       "No      67913\n",
       "Name: Crime Solved, dtype: int64"
      ]
     },
     "execution_count": 52,
     "metadata": {},
     "output_type": "execute_result"
    }
   ],
   "source": [
    "D4=Crime['Crime Solved'].value_counts()\n",
    "D4"
   ]
  },
  {
   "cell_type": "code",
   "execution_count": 53,
   "id": "ef689c7e",
   "metadata": {},
   "outputs": [
    {
     "data": {
      "text/plain": [
       "Text(0.5, 1.0, 'Crime Solved')"
      ]
     },
     "execution_count": 53,
     "metadata": {},
     "output_type": "execute_result"
    },
    {
     "data": {
      "image/png": "[encoded data removed]",
      "text/plain": [
       "<Figure size 432x288 with 1 Axes>"
      ]
     },
     "metadata": {
      "needs_background": "light"
     },
     "output_type": "display_data"
    }
   ],
   "source": [
    "D4.plot(kind='bar', color='blue')\n",
    "plt.title('Crime Solved')"
   ]
  },
  {
   "cell_type": "code",
   "execution_count": 54,
   "id": "d725c046",
   "metadata": {},
   "outputs": [
    {
     "data": {
      "text/plain": [
       "<AxesSubplot:ylabel='Crime Solved'>"
      ]
     },
     "execution_count": 54,
     "metadata": {},
     "output_type": "execute_result"
    },
    {
     "data": {
      "image/png": "[encoded data removed]",
      "text/plain": [
       "<Figure size 432x288 with 1 Axes>"
      ]
     },
     "metadata": {},
     "output_type": "display_data"
    }
   ],
   "source": [
    "D4.plot(kind='pie', colors=['blue', 'cyan'],autopct='%1.2f%%')"
   ]
  },
  {
   "cell_type": "code",
   "execution_count": null,
   "id": "ee3f0fc1",
   "metadata": {},
   "outputs": [],
   "source": []
  }
 ],
 "metadata": {
  "kernelspec": {
   "display_name": "Python 3 (ipykernel)",
   "language": "python",
   "name": "python3"
  },
  "language_info": {
   "codemirror_mode": {
    "name": "ipython",
    "version": 3
   },
   "file_extension": ".py",
   "mimetype": "text/x-python",
   "name": "python",
   "nbconvert_exporter": "python",
   "pygments_lexer": "ipython3",
   "version": "3.9.12"
  }
 },
 "nbformat": 4,
 "nbformat_minor": 5
}
