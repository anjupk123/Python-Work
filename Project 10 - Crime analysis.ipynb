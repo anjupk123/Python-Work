{
 "cells": [
  {
   "cell_type": "code",
   "execution_count": 1,
   "id": "01afbdc7",
   "metadata": {},
   "outputs": [
    {
     "data": {
      "text/html": [
       "<div>\n",
       "<style scoped>\n",
       "    .dataframe tbody tr th:only-of-type {\n",
       "        vertical-align: middle;\n",
       "    }\n",
       "\n",
       "    .dataframe tbody tr th {\n",
       "        vertical-align: top;\n",
       "    }\n",
       "\n",
       "    .dataframe thead th {\n",
       "        text-align: right;\n",
       "    }\n",
       "</style>\n",
       "<table border=\"1\" class=\"dataframe\">\n",
       "  <thead>\n",
       "    <tr style=\"text-align: right;\">\n",
       "      <th></th>\n",
       "      <th>Record ID</th>\n",
       "      <th>Agency Code</th>\n",
       "      <th>Agency Name</th>\n",
       "      <th>Agency Type</th>\n",
       "      <th>City</th>\n",
       "      <th>State</th>\n",
       "      <th>Year</th>\n",
       "      <th>Month</th>\n",
       "      <th>Incident</th>\n",
       "      <th>Crime Type</th>\n",
       "      <th>...</th>\n",
       "      <th>Victim Ethnicity</th>\n",
       "      <th>Perpetrator Sex</th>\n",
       "      <th>Perpetrator Age</th>\n",
       "      <th>Perpetrator Race</th>\n",
       "      <th>Perpetrator Ethnicity</th>\n",
       "      <th>Relationship</th>\n",
       "      <th>Weapon</th>\n",
       "      <th>Victim Count</th>\n",
       "      <th>Perpetrator Count</th>\n",
       "      <th>Record Source</th>\n",
       "    </tr>\n",
       "  </thead>\n",
       "  <tbody>\n",
       "    <tr>\n",
       "      <th>0</th>\n",
       "      <td>1</td>\n",
       "      <td>AK00101</td>\n",
       "      <td>Anchorage</td>\n",
       "      <td>Municipal Police</td>\n",
       "      <td>Anchorage</td>\n",
       "      <td>Alaska</td>\n",
       "      <td>2000</td>\n",
       "      <td>January</td>\n",
       "      <td>NaN</td>\n",
       "      <td>Murder or Manslaughter</td>\n",
       "      <td>...</td>\n",
       "      <td>Unknown</td>\n",
       "      <td>Male</td>\n",
       "      <td>28</td>\n",
       "      <td>Black</td>\n",
       "      <td>Unknown</td>\n",
       "      <td>Wife</td>\n",
       "      <td>Handgun</td>\n",
       "      <td>0</td>\n",
       "      <td>0</td>\n",
       "      <td>FBI</td>\n",
       "    </tr>\n",
       "    <tr>\n",
       "      <th>1</th>\n",
       "      <td>2</td>\n",
       "      <td>AK00101</td>\n",
       "      <td>Anchorage</td>\n",
       "      <td>Municipal Police</td>\n",
       "      <td>Anchorage</td>\n",
       "      <td>Alaska</td>\n",
       "      <td>2000</td>\n",
       "      <td>January</td>\n",
       "      <td>NaN</td>\n",
       "      <td>Murder or Manslaughter</td>\n",
       "      <td>...</td>\n",
       "      <td>Unknown</td>\n",
       "      <td>Male</td>\n",
       "      <td>18</td>\n",
       "      <td>Native American/Alaska Native</td>\n",
       "      <td>Unknown</td>\n",
       "      <td>Unknown</td>\n",
       "      <td>Handgun</td>\n",
       "      <td>0</td>\n",
       "      <td>1</td>\n",
       "      <td>FBI</td>\n",
       "    </tr>\n",
       "    <tr>\n",
       "      <th>2</th>\n",
       "      <td>3</td>\n",
       "      <td>AK00101</td>\n",
       "      <td>Anchorage</td>\n",
       "      <td>Municipal Police</td>\n",
       "      <td>Anchorage</td>\n",
       "      <td>Alaska</td>\n",
       "      <td>2000</td>\n",
       "      <td>January</td>\n",
       "      <td>NaN</td>\n",
       "      <td>Manslaughter by Negligence</td>\n",
       "      <td>...</td>\n",
       "      <td>Unknown</td>\n",
       "      <td>Male</td>\n",
       "      <td>12</td>\n",
       "      <td>Asian/Pacific Islander</td>\n",
       "      <td>Unknown</td>\n",
       "      <td>Family</td>\n",
       "      <td>Blunt Object</td>\n",
       "      <td>0</td>\n",
       "      <td>0</td>\n",
       "      <td>FBI</td>\n",
       "    </tr>\n",
       "    <tr>\n",
       "      <th>3</th>\n",
       "      <td>4</td>\n",
       "      <td>AK00101</td>\n",
       "      <td>Anchorage</td>\n",
       "      <td>Municipal Police</td>\n",
       "      <td>Anchorage</td>\n",
       "      <td>Alaska</td>\n",
       "      <td>2000</td>\n",
       "      <td>February</td>\n",
       "      <td>NaN</td>\n",
       "      <td>Manslaughter by Negligence</td>\n",
       "      <td>...</td>\n",
       "      <td>Unknown</td>\n",
       "      <td>Female</td>\n",
       "      <td>39</td>\n",
       "      <td>Asian/Pacific Islander</td>\n",
       "      <td>Unknown</td>\n",
       "      <td>Acquaintance</td>\n",
       "      <td>Blunt Object</td>\n",
       "      <td>0</td>\n",
       "      <td>0</td>\n",
       "      <td>FBI</td>\n",
       "    </tr>\n",
       "    <tr>\n",
       "      <th>4</th>\n",
       "      <td>5</td>\n",
       "      <td>AK00101</td>\n",
       "      <td>Anchorage</td>\n",
       "      <td>Municipal Police</td>\n",
       "      <td>Anchorage</td>\n",
       "      <td>Alaska</td>\n",
       "      <td>2000</td>\n",
       "      <td>March</td>\n",
       "      <td>NaN</td>\n",
       "      <td>Murder or Manslaughter</td>\n",
       "      <td>...</td>\n",
       "      <td>Unknown</td>\n",
       "      <td>Unknown</td>\n",
       "      <td>0</td>\n",
       "      <td>Unknown</td>\n",
       "      <td>Unknown</td>\n",
       "      <td>Unknown</td>\n",
       "      <td>Knife</td>\n",
       "      <td>0</td>\n",
       "      <td>0</td>\n",
       "      <td>FBI</td>\n",
       "    </tr>\n",
       "  </tbody>\n",
       "</table>\n",
       "<p>5 rows × 24 columns</p>\n",
       "</div>"
      ],
      "text/plain": [
       "   Record ID Agency Code Agency Name       Agency Type       City   State  \\\n",
       "0          1     AK00101   Anchorage  Municipal Police  Anchorage  Alaska   \n",
       "1          2     AK00101   Anchorage  Municipal Police  Anchorage  Alaska   \n",
       "2          3     AK00101   Anchorage  Municipal Police  Anchorage  Alaska   \n",
       "3          4     AK00101   Anchorage  Municipal Police  Anchorage  Alaska   \n",
       "4          5     AK00101   Anchorage  Municipal Police  Anchorage  Alaska   \n",
       "\n",
       "   Year     Month  Incident                  Crime Type  ... Victim Ethnicity  \\\n",
       "0  2000   January       NaN      Murder or Manslaughter  ...          Unknown   \n",
       "1  2000   January       NaN      Murder or Manslaughter  ...          Unknown   \n",
       "2  2000   January       NaN  Manslaughter by Negligence  ...          Unknown   \n",
       "3  2000  February       NaN  Manslaughter by Negligence  ...          Unknown   \n",
       "4  2000     March       NaN      Murder or Manslaughter  ...          Unknown   \n",
       "\n",
       "  Perpetrator Sex  Perpetrator Age               Perpetrator Race  \\\n",
       "0            Male               28                          Black   \n",
       "1            Male               18  Native American/Alaska Native   \n",
       "2            Male               12         Asian/Pacific Islander   \n",
       "3          Female               39         Asian/Pacific Islander   \n",
       "4         Unknown                0                        Unknown   \n",
       "\n",
       "  Perpetrator Ethnicity  Relationship        Weapon Victim Count  \\\n",
       "0               Unknown          Wife       Handgun            0   \n",
       "1               Unknown       Unknown       Handgun            0   \n",
       "2               Unknown        Family  Blunt Object            0   \n",
       "3               Unknown  Acquaintance  Blunt Object            0   \n",
       "4               Unknown       Unknown         Knife            0   \n",
       "\n",
       "  Perpetrator Count Record Source  \n",
       "0                 0           FBI  \n",
       "1                 1           FBI  \n",
       "2                 0           FBI  \n",
       "3                 0           FBI  \n",
       "4                 0           FBI  \n",
       "\n",
       "[5 rows x 24 columns]"
      ]
     },
     "execution_count": 1,
     "metadata": {},
     "output_type": "execute_result"
    }
   ],
   "source": [
    "#Import library \n",
    "import pandas as pd\n",
    "import numpy as np\n",
    "import seaborn as sns\n",
    "import matplotlib.pyplot as plt\n",
    "\n",
    "#data importing\n",
    "\n",
    "Crime=pd.read_csv('crime data.csv')\n",
    "\n",
    "Crime.head(5)"
   ]
  },
  {
   "cell_type": "code",
   "execution_count": 2,
   "id": "855e2b98",
   "metadata": {},
   "outputs": [
    {
     "data": {
      "text/plain": [
       "(221691, 24)"
      ]
     },
     "execution_count": 2,
     "metadata": {},
     "output_type": "execute_result"
    }
   ],
   "source": [
    "Crime.shape"
   ]
  },
  {
   "cell_type": "code",
   "execution_count": 3,
   "id": "e3a67dcc",
   "metadata": {
    "scrolled": true
   },
   "outputs": [
    {
     "data": {
      "text/plain": [
       "Index(['Record ID', 'Agency Code', 'Agency Name', 'Agency Type', 'City',\n",
       "       'State', 'Year', 'Month', 'Incident', 'Crime Type', 'Crime Solved',\n",
       "       'Victim Sex', 'Victim Age', 'Victim Race', 'Victim Ethnicity',\n",
       "       'Perpetrator Sex', 'Perpetrator Age', 'Perpetrator Race',\n",
       "       'Perpetrator Ethnicity', 'Relationship', 'Weapon', 'Victim Count',\n",
       "       'Perpetrator Count', 'Record Source'],\n",
       "      dtype='object')"
      ]
     },
     "execution_count": 3,
     "metadata": {},
     "output_type": "execute_result"
    }
   ],
   "source": [
    "Crime.columns"
   ]
  },
  {
   "cell_type": "code",
   "execution_count": 4,
   "id": "c01bb8a7",
   "metadata": {},
   "outputs": [
    {
     "name": "stdout",
     "output_type": "stream",
     "text": [
      "<class 'pandas.core.frame.DataFrame'>\n",
      "RangeIndex: 221691 entries, 0 to 221690\n",
      "Data columns (total 24 columns):\n",
      " #   Column                 Non-Null Count   Dtype  \n",
      "---  ------                 --------------   -----  \n",
      " 0   Record ID              221691 non-null  int64  \n",
      " 1   Agency Code            221691 non-null  object \n",
      " 2   Agency Name            221691 non-null  object \n",
      " 3   Agency Type            221691 non-null  object \n",
      " 4   City                   221691 non-null  object \n",
      " 5   State                  221691 non-null  object \n",
      " 6   Year                   221691 non-null  int64  \n",
      " 7   Month                  221691 non-null  object \n",
      " 8   Incident               0 non-null       float64\n",
      " 9   Crime Type             221691 non-null  object \n",
      " 10  Crime Solved           221691 non-null  object \n",
      " 11  Victim Sex             221691 non-null  object \n",
      " 12  Victim Age             221691 non-null  int64  \n",
      " 13  Victim Race            221691 non-null  object \n",
      " 14  Victim Ethnicity       221691 non-null  object \n",
      " 15  Perpetrator Sex        221691 non-null  object \n",
      " 16  Perpetrator Age        221691 non-null  int64  \n",
      " 17  Perpetrator Race       221691 non-null  object \n",
      " 18  Perpetrator Ethnicity  221691 non-null  object \n",
      " 19  Relationship           221691 non-null  object \n",
      " 20  Weapon                 221691 non-null  object \n",
      " 21  Victim Count           221691 non-null  int64  \n",
      " 22  Perpetrator Count      221691 non-null  int64  \n",
      " 23  Record Source          221691 non-null  object \n",
      "dtypes: float64(1), int64(6), object(17)\n",
      "memory usage: 40.6+ MB\n"
     ]
    }
   ],
   "source": [
    "Crime.info()"
   ]
  },
  {
   "cell_type": "code",
   "execution_count": 5,
   "id": "60f1f224",
   "metadata": {},
   "outputs": [],
   "source": [
    "Crime.drop(['Incident'],axis=1, inplace=True)"
   ]
  },
  {
   "cell_type": "code",
   "execution_count": 6,
   "id": "8e17e7a0",
   "metadata": {},
   "outputs": [
    {
     "data": {
      "text/html": [
       "<div>\n",
       "<style scoped>\n",
       "    .dataframe tbody tr th:only-of-type {\n",
       "        vertical-align: middle;\n",
       "    }\n",
       "\n",
       "    .dataframe tbody tr th {\n",
       "        vertical-align: top;\n",
       "    }\n",
       "\n",
       "    .dataframe thead th {\n",
       "        text-align: right;\n",
       "    }\n",
       "</style>\n",
       "<table border=\"1\" class=\"dataframe\">\n",
       "  <thead>\n",
       "    <tr style=\"text-align: right;\">\n",
       "      <th></th>\n",
       "      <th>Record ID</th>\n",
       "      <th>Agency Code</th>\n",
       "      <th>Agency Name</th>\n",
       "      <th>Agency Type</th>\n",
       "      <th>City</th>\n",
       "      <th>State</th>\n",
       "      <th>Year</th>\n",
       "      <th>Month</th>\n",
       "      <th>Crime Type</th>\n",
       "      <th>Crime Solved</th>\n",
       "      <th>...</th>\n",
       "      <th>Victim Ethnicity</th>\n",
       "      <th>Perpetrator Sex</th>\n",
       "      <th>Perpetrator Age</th>\n",
       "      <th>Perpetrator Race</th>\n",
       "      <th>Perpetrator Ethnicity</th>\n",
       "      <th>Relationship</th>\n",
       "      <th>Weapon</th>\n",
       "      <th>Victim Count</th>\n",
       "      <th>Perpetrator Count</th>\n",
       "      <th>Record Source</th>\n",
       "    </tr>\n",
       "  </thead>\n",
       "  <tbody>\n",
       "    <tr>\n",
       "      <th>0</th>\n",
       "      <td>1</td>\n",
       "      <td>AK00101</td>\n",
       "      <td>Anchorage</td>\n",
       "      <td>Municipal Police</td>\n",
       "      <td>Anchorage</td>\n",
       "      <td>Alaska</td>\n",
       "      <td>2000</td>\n",
       "      <td>January</td>\n",
       "      <td>Murder or Manslaughter</td>\n",
       "      <td>Yes</td>\n",
       "      <td>...</td>\n",
       "      <td>Unknown</td>\n",
       "      <td>Male</td>\n",
       "      <td>28</td>\n",
       "      <td>Black</td>\n",
       "      <td>Unknown</td>\n",
       "      <td>Wife</td>\n",
       "      <td>Handgun</td>\n",
       "      <td>0</td>\n",
       "      <td>0</td>\n",
       "      <td>FBI</td>\n",
       "    </tr>\n",
       "    <tr>\n",
       "      <th>1</th>\n",
       "      <td>2</td>\n",
       "      <td>AK00101</td>\n",
       "      <td>Anchorage</td>\n",
       "      <td>Municipal Police</td>\n",
       "      <td>Anchorage</td>\n",
       "      <td>Alaska</td>\n",
       "      <td>2000</td>\n",
       "      <td>January</td>\n",
       "      <td>Murder or Manslaughter</td>\n",
       "      <td>Yes</td>\n",
       "      <td>...</td>\n",
       "      <td>Unknown</td>\n",
       "      <td>Male</td>\n",
       "      <td>18</td>\n",
       "      <td>Native American/Alaska Native</td>\n",
       "      <td>Unknown</td>\n",
       "      <td>Unknown</td>\n",
       "      <td>Handgun</td>\n",
       "      <td>0</td>\n",
       "      <td>1</td>\n",
       "      <td>FBI</td>\n",
       "    </tr>\n",
       "    <tr>\n",
       "      <th>2</th>\n",
       "      <td>3</td>\n",
       "      <td>AK00101</td>\n",
       "      <td>Anchorage</td>\n",
       "      <td>Municipal Police</td>\n",
       "      <td>Anchorage</td>\n",
       "      <td>Alaska</td>\n",
       "      <td>2000</td>\n",
       "      <td>January</td>\n",
       "      <td>Manslaughter by Negligence</td>\n",
       "      <td>Yes</td>\n",
       "      <td>...</td>\n",
       "      <td>Unknown</td>\n",
       "      <td>Male</td>\n",
       "      <td>12</td>\n",
       "      <td>Asian/Pacific Islander</td>\n",
       "      <td>Unknown</td>\n",
       "      <td>Family</td>\n",
       "      <td>Blunt Object</td>\n",
       "      <td>0</td>\n",
       "      <td>0</td>\n",
       "      <td>FBI</td>\n",
       "    </tr>\n",
       "    <tr>\n",
       "      <th>3</th>\n",
       "      <td>4</td>\n",
       "      <td>AK00101</td>\n",
       "      <td>Anchorage</td>\n",
       "      <td>Municipal Police</td>\n",
       "      <td>Anchorage</td>\n",
       "      <td>Alaska</td>\n",
       "      <td>2000</td>\n",
       "      <td>February</td>\n",
       "      <td>Manslaughter by Negligence</td>\n",
       "      <td>Yes</td>\n",
       "      <td>...</td>\n",
       "      <td>Unknown</td>\n",
       "      <td>Female</td>\n",
       "      <td>39</td>\n",
       "      <td>Asian/Pacific Islander</td>\n",
       "      <td>Unknown</td>\n",
       "      <td>Acquaintance</td>\n",
       "      <td>Blunt Object</td>\n",
       "      <td>0</td>\n",
       "      <td>0</td>\n",
       "      <td>FBI</td>\n",
       "    </tr>\n",
       "    <tr>\n",
       "      <th>4</th>\n",
       "      <td>5</td>\n",
       "      <td>AK00101</td>\n",
       "      <td>Anchorage</td>\n",
       "      <td>Municipal Police</td>\n",
       "      <td>Anchorage</td>\n",
       "      <td>Alaska</td>\n",
       "      <td>2000</td>\n",
       "      <td>March</td>\n",
       "      <td>Murder or Manslaughter</td>\n",
       "      <td>No</td>\n",
       "      <td>...</td>\n",
       "      <td>Unknown</td>\n",
       "      <td>Unknown</td>\n",
       "      <td>0</td>\n",
       "      <td>Unknown</td>\n",
       "      <td>Unknown</td>\n",
       "      <td>Unknown</td>\n",
       "      <td>Knife</td>\n",
       "      <td>0</td>\n",
       "      <td>0</td>\n",
       "      <td>FBI</td>\n",
       "    </tr>\n",
       "  </tbody>\n",
       "</table>\n",
       "<p>5 rows × 23 columns</p>\n",
       "</div>"
      ],
      "text/plain": [
       "   Record ID Agency Code Agency Name       Agency Type       City   State  \\\n",
       "0          1     AK00101   Anchorage  Municipal Police  Anchorage  Alaska   \n",
       "1          2     AK00101   Anchorage  Municipal Police  Anchorage  Alaska   \n",
       "2          3     AK00101   Anchorage  Municipal Police  Anchorage  Alaska   \n",
       "3          4     AK00101   Anchorage  Municipal Police  Anchorage  Alaska   \n",
       "4          5     AK00101   Anchorage  Municipal Police  Anchorage  Alaska   \n",
       "\n",
       "   Year     Month                  Crime Type Crime Solved  ...  \\\n",
       "0  2000   January      Murder or Manslaughter          Yes  ...   \n",
       "1  2000   January      Murder or Manslaughter          Yes  ...   \n",
       "2  2000   January  Manslaughter by Negligence          Yes  ...   \n",
       "3  2000  February  Manslaughter by Negligence          Yes  ...   \n",
       "4  2000     March      Murder or Manslaughter           No  ...   \n",
       "\n",
       "  Victim Ethnicity  Perpetrator Sex Perpetrator Age  \\\n",
       "0          Unknown             Male              28   \n",
       "1          Unknown             Male              18   \n",
       "2          Unknown             Male              12   \n",
       "3          Unknown           Female              39   \n",
       "4          Unknown          Unknown               0   \n",
       "\n",
       "                Perpetrator Race Perpetrator Ethnicity  Relationship  \\\n",
       "0                          Black               Unknown          Wife   \n",
       "1  Native American/Alaska Native               Unknown       Unknown   \n",
       "2         Asian/Pacific Islander               Unknown        Family   \n",
       "3         Asian/Pacific Islander               Unknown  Acquaintance   \n",
       "4                        Unknown               Unknown       Unknown   \n",
       "\n",
       "         Weapon Victim Count Perpetrator Count Record Source  \n",
       "0       Handgun            0                 0           FBI  \n",
       "1       Handgun            0                 1           FBI  \n",
       "2  Blunt Object            0                 0           FBI  \n",
       "3  Blunt Object            0                 0           FBI  \n",
       "4         Knife            0                 0           FBI  \n",
       "\n",
       "[5 rows x 23 columns]"
      ]
     },
     "execution_count": 6,
     "metadata": {},
     "output_type": "execute_result"
    }
   ],
   "source": [
    "Crime.head(5)"
   ]
  },
  {
   "cell_type": "code",
   "execution_count": 7,
   "id": "58b6a554",
   "metadata": {},
   "outputs": [
    {
     "data": {
      "text/html": [
       "<div>\n",
       "<style scoped>\n",
       "    .dataframe tbody tr th:only-of-type {\n",
       "        vertical-align: middle;\n",
       "    }\n",
       "\n",
       "    .dataframe tbody tr th {\n",
       "        vertical-align: top;\n",
       "    }\n",
       "\n",
       "    .dataframe thead th {\n",
       "        text-align: right;\n",
       "    }\n",
       "</style>\n",
       "<table border=\"1\" class=\"dataframe\">\n",
       "  <thead>\n",
       "    <tr style=\"text-align: right;\">\n",
       "      <th></th>\n",
       "      <th>Record ID</th>\n",
       "      <th>Agency Code</th>\n",
       "      <th>Agency Name</th>\n",
       "      <th>Agency Type</th>\n",
       "      <th>City</th>\n",
       "      <th>State</th>\n",
       "      <th>Year</th>\n",
       "      <th>Month</th>\n",
       "      <th>Crime Type</th>\n",
       "      <th>Crime Solved</th>\n",
       "      <th>...</th>\n",
       "      <th>Victim Ethnicity</th>\n",
       "      <th>Perpetrator Sex</th>\n",
       "      <th>Perpetrator Age</th>\n",
       "      <th>Perpetrator Race</th>\n",
       "      <th>Perpetrator Ethnicity</th>\n",
       "      <th>Relationship</th>\n",
       "      <th>Weapon</th>\n",
       "      <th>Victim Count</th>\n",
       "      <th>Perpetrator Count</th>\n",
       "      <th>Record Source</th>\n",
       "    </tr>\n",
       "  </thead>\n",
       "  <tbody>\n",
       "    <tr>\n",
       "      <th>221686</th>\n",
       "      <td>221687</td>\n",
       "      <td>WY01501</td>\n",
       "      <td>Cody</td>\n",
       "      <td>Municipal Police</td>\n",
       "      <td>Park</td>\n",
       "      <td>Wyoming</td>\n",
       "      <td>2012</td>\n",
       "      <td>February</td>\n",
       "      <td>Murder or Manslaughter</td>\n",
       "      <td>Yes</td>\n",
       "      <td>...</td>\n",
       "      <td>Unknown</td>\n",
       "      <td>Male</td>\n",
       "      <td>28</td>\n",
       "      <td>Native American/Alaska Native</td>\n",
       "      <td>Unknown</td>\n",
       "      <td>Wife</td>\n",
       "      <td>Knife</td>\n",
       "      <td>0</td>\n",
       "      <td>0</td>\n",
       "      <td>FBI</td>\n",
       "    </tr>\n",
       "    <tr>\n",
       "      <th>221687</th>\n",
       "      <td>221688</td>\n",
       "      <td>WY01701</td>\n",
       "      <td>Sheridan</td>\n",
       "      <td>Municipal Police</td>\n",
       "      <td>Sheridan</td>\n",
       "      <td>Wyoming</td>\n",
       "      <td>2012</td>\n",
       "      <td>September</td>\n",
       "      <td>Murder or Manslaughter</td>\n",
       "      <td>Yes</td>\n",
       "      <td>...</td>\n",
       "      <td>Unknown</td>\n",
       "      <td>Female</td>\n",
       "      <td>51</td>\n",
       "      <td>White</td>\n",
       "      <td>Unknown</td>\n",
       "      <td>Mother</td>\n",
       "      <td>Blunt Object</td>\n",
       "      <td>0</td>\n",
       "      <td>0</td>\n",
       "      <td>FBI</td>\n",
       "    </tr>\n",
       "    <tr>\n",
       "      <th>221688</th>\n",
       "      <td>221689</td>\n",
       "      <td>WY01900</td>\n",
       "      <td>Sweetwater County</td>\n",
       "      <td>Sheriff</td>\n",
       "      <td>Sweetwater</td>\n",
       "      <td>Wyoming</td>\n",
       "      <td>2012</td>\n",
       "      <td>August</td>\n",
       "      <td>Murder or Manslaughter</td>\n",
       "      <td>Yes</td>\n",
       "      <td>...</td>\n",
       "      <td>Unknown</td>\n",
       "      <td>Male</td>\n",
       "      <td>17</td>\n",
       "      <td>Asian/Pacific Islander</td>\n",
       "      <td>Unknown</td>\n",
       "      <td>Friend</td>\n",
       "      <td>Blunt Object</td>\n",
       "      <td>0</td>\n",
       "      <td>2</td>\n",
       "      <td>FBI</td>\n",
       "    </tr>\n",
       "    <tr>\n",
       "      <th>221689</th>\n",
       "      <td>221690</td>\n",
       "      <td>WY01902</td>\n",
       "      <td>Rock Springs</td>\n",
       "      <td>Municipal Police</td>\n",
       "      <td>Sweetwater</td>\n",
       "      <td>Wyoming</td>\n",
       "      <td>2012</td>\n",
       "      <td>February</td>\n",
       "      <td>Murder or Manslaughter</td>\n",
       "      <td>Yes</td>\n",
       "      <td>...</td>\n",
       "      <td>Unknown</td>\n",
       "      <td>Male</td>\n",
       "      <td>32</td>\n",
       "      <td>White</td>\n",
       "      <td>Unknown</td>\n",
       "      <td>Friend</td>\n",
       "      <td>Blunt Object</td>\n",
       "      <td>0</td>\n",
       "      <td>0</td>\n",
       "      <td>FBI</td>\n",
       "    </tr>\n",
       "    <tr>\n",
       "      <th>221690</th>\n",
       "      <td>221691</td>\n",
       "      <td>WY01902</td>\n",
       "      <td>Rock Springs</td>\n",
       "      <td>Municipal Police</td>\n",
       "      <td>Sweetwater</td>\n",
       "      <td>Wyoming</td>\n",
       "      <td>2012</td>\n",
       "      <td>July</td>\n",
       "      <td>Murder or Manslaughter</td>\n",
       "      <td>Yes</td>\n",
       "      <td>...</td>\n",
       "      <td>Unknown</td>\n",
       "      <td>Male</td>\n",
       "      <td>22</td>\n",
       "      <td>White</td>\n",
       "      <td>Unknown</td>\n",
       "      <td>Neighbor</td>\n",
       "      <td>Firearm</td>\n",
       "      <td>0</td>\n",
       "      <td>0</td>\n",
       "      <td>FBI</td>\n",
       "    </tr>\n",
       "  </tbody>\n",
       "</table>\n",
       "<p>5 rows × 23 columns</p>\n",
       "</div>"
      ],
      "text/plain": [
       "        Record ID Agency Code        Agency Name       Agency Type  \\\n",
       "221686     221687     WY01501               Cody  Municipal Police   \n",
       "221687     221688     WY01701           Sheridan  Municipal Police   \n",
       "221688     221689     WY01900  Sweetwater County           Sheriff   \n",
       "221689     221690     WY01902       Rock Springs  Municipal Police   \n",
       "221690     221691     WY01902       Rock Springs  Municipal Police   \n",
       "\n",
       "              City    State  Year      Month              Crime Type  \\\n",
       "221686        Park  Wyoming  2012   February  Murder or Manslaughter   \n",
       "221687    Sheridan  Wyoming  2012  September  Murder or Manslaughter   \n",
       "221688  Sweetwater  Wyoming  2012     August  Murder or Manslaughter   \n",
       "221689  Sweetwater  Wyoming  2012   February  Murder or Manslaughter   \n",
       "221690  Sweetwater  Wyoming  2012       July  Murder or Manslaughter   \n",
       "\n",
       "       Crime Solved  ... Victim Ethnicity  Perpetrator Sex Perpetrator Age  \\\n",
       "221686          Yes  ...          Unknown             Male              28   \n",
       "221687          Yes  ...          Unknown           Female              51   \n",
       "221688          Yes  ...          Unknown             Male              17   \n",
       "221689          Yes  ...          Unknown             Male              32   \n",
       "221690          Yes  ...          Unknown             Male              22   \n",
       "\n",
       "                     Perpetrator Race Perpetrator Ethnicity  Relationship  \\\n",
       "221686  Native American/Alaska Native               Unknown          Wife   \n",
       "221687                          White               Unknown        Mother   \n",
       "221688         Asian/Pacific Islander               Unknown        Friend   \n",
       "221689                          White               Unknown        Friend   \n",
       "221690                          White               Unknown      Neighbor   \n",
       "\n",
       "              Weapon Victim Count Perpetrator Count Record Source  \n",
       "221686         Knife            0                 0           FBI  \n",
       "221687  Blunt Object            0                 0           FBI  \n",
       "221688  Blunt Object            0                 2           FBI  \n",
       "221689  Blunt Object            0                 0           FBI  \n",
       "221690       Firearm            0                 0           FBI  \n",
       "\n",
       "[5 rows x 23 columns]"
      ]
     },
     "execution_count": 7,
     "metadata": {},
     "output_type": "execute_result"
    }
   ],
   "source": [
    "Crime.tail(5)"
   ]
  },
  {
   "cell_type": "code",
   "execution_count": 8,
   "id": "c4ba48fc",
   "metadata": {},
   "outputs": [
    {
     "data": {
      "text/plain": [
       "Record ID                0\n",
       "Agency Code              0\n",
       "Agency Name              0\n",
       "Agency Type              0\n",
       "City                     0\n",
       "State                    0\n",
       "Year                     0\n",
       "Month                    0\n",
       "Crime Type               0\n",
       "Crime Solved             0\n",
       "Victim Sex               0\n",
       "Victim Age               0\n",
       "Victim Race              0\n",
       "Victim Ethnicity         0\n",
       "Perpetrator Sex          0\n",
       "Perpetrator Age          0\n",
       "Perpetrator Race         0\n",
       "Perpetrator Ethnicity    0\n",
       "Relationship             0\n",
       "Weapon                   0\n",
       "Victim Count             0\n",
       "Perpetrator Count        0\n",
       "Record Source            0\n",
       "dtype: int64"
      ]
     },
     "execution_count": 8,
     "metadata": {},
     "output_type": "execute_result"
    }
   ],
   "source": [
    "Crime.isnull().sum()"
   ]
  },
  {
   "cell_type": "markdown",
   "id": "70773122",
   "metadata": {},
   "source": [
    "### 1. Find the total number of crimes"
   ]
  },
  {
   "cell_type": "code",
   "execution_count": 9,
   "id": "d5faa952",
   "metadata": {
    "scrolled": true
   },
   "outputs": [
    {
     "data": {
      "text/plain": [
       "221691"
      ]
     },
     "execution_count": 9,
     "metadata": {},
     "output_type": "execute_result"
    }
   ],
   "source": [
    "a=Crime['Crime Type'].count()\n",
    "a"
   ]
  },
  {
   "cell_type": "markdown",
   "id": "1ff62cdb",
   "metadata": {},
   "source": [
    "### 2. Find the Unique number of Investigation Agency"
   ]
  },
  {
   "cell_type": "code",
   "execution_count": 10,
   "id": "1aa7027f",
   "metadata": {},
   "outputs": [
    {
     "data": {
      "text/plain": [
       "Los Angeles                 7798\n",
       "New York                    7704\n",
       "Chicago                     7368\n",
       "Detroit                     5355\n",
       "Philadelphia                4868\n",
       "                            ... \n",
       "Pataskala                      1\n",
       "Camillus Town and Villag       1\n",
       "Bainbridge Township            1\n",
       "Wauseon                        1\n",
       "Sweetwater County              1\n",
       "Name: Agency Name, Length: 7142, dtype: int64"
      ]
     },
     "execution_count": 10,
     "metadata": {},
     "output_type": "execute_result"
    }
   ],
   "source": [
    "a1=Crime['Agency Name'].value_counts()\n",
    "a1"
   ]
  },
  {
   "cell_type": "code",
   "execution_count": 11,
   "id": "72bfe8dd",
   "metadata": {},
   "outputs": [
    {
     "data": {
      "text/plain": [
       "7142"
      ]
     },
     "execution_count": 11,
     "metadata": {},
     "output_type": "execute_result"
    }
   ],
   "source": [
    "u1=Crime['Agency Name'].unique()\n",
    "len(np.unique(u1))"
   ]
  },
  {
   "cell_type": "markdown",
   "id": "0d9d545f",
   "metadata": {},
   "source": [
    "### 3. Find the total number of crimes reported by each Investigation Agency."
   ]
  },
  {
   "cell_type": "code",
   "execution_count": 12,
   "id": "4022004c",
   "metadata": {},
   "outputs": [
    {
     "data": {
      "text/plain": [
       "Los Angeles                 7798\n",
       "New York                    7704\n",
       "Chicago                     7368\n",
       "Detroit                     5355\n",
       "Philadelphia                4868\n",
       "                            ... \n",
       "Pataskala                      1\n",
       "Camillus Town and Villag       1\n",
       "Bainbridge Township            1\n",
       "Wauseon                        1\n",
       "Sweetwater County              1\n",
       "Name: Agency Name, Length: 7142, dtype: int64"
      ]
     },
     "execution_count": 12,
     "metadata": {},
     "output_type": "execute_result"
    }
   ],
   "source": [
    "c2=Crime['Agency Name'].value_counts()\n",
    "c2"
   ]
  },
  {
   "cell_type": "markdown",
   "id": "13260ea8",
   "metadata": {},
   "source": [
    "### 4. Find the unique number of Investigation Agency Type\n"
   ]
  },
  {
   "cell_type": "code",
   "execution_count": 13,
   "id": "dadaec1c",
   "metadata": {},
   "outputs": [
    {
     "data": {
      "text/plain": [
       "Municipal Police    168696\n",
       "Sheriff              37442\n",
       "County Police         9553\n",
       "State Police          4624\n",
       "Special Police        1244\n",
       "Regional Police        104\n",
       "Tribal Police           28\n",
       "Name: Agency Type, dtype: int64"
      ]
     },
     "execution_count": 13,
     "metadata": {},
     "output_type": "execute_result"
    }
   ],
   "source": [
    "a3=Crime['Agency Type'].value_counts()\n",
    "a3"
   ]
  },
  {
   "cell_type": "code",
   "execution_count": 14,
   "id": "57314ba7",
   "metadata": {},
   "outputs": [
    {
     "data": {
      "text/plain": [
       "7142"
      ]
     },
     "execution_count": 14,
     "metadata": {},
     "output_type": "execute_result"
    }
   ],
   "source": [
    "c3=Crime['Agency Name'].unique()\n",
    "len(np.unique(c3))"
   ]
  },
  {
   "cell_type": "markdown",
   "id": "866f78da",
   "metadata": {},
   "source": [
    "### 5. Find the total number of crimes by Investigation Agency Type"
   ]
  },
  {
   "cell_type": "code",
   "execution_count": 15,
   "id": "7c69ae7f",
   "metadata": {},
   "outputs": [
    {
     "data": {
      "text/plain": [
       "Municipal Police    168696\n",
       "Sheriff              37442\n",
       "County Police         9553\n",
       "State Police          4624\n",
       "Special Police        1244\n",
       "Regional Police        104\n",
       "Tribal Police           28\n",
       "Name: Agency Type, dtype: int64"
      ]
     },
     "execution_count": 15,
     "metadata": {},
     "output_type": "execute_result"
    }
   ],
   "source": [
    "c4=Crime['Agency Type'].value_counts()\n",
    "c4"
   ]
  },
  {
   "cell_type": "markdown",
   "id": "7e3f8097",
   "metadata": {},
   "source": [
    "### 6. Find the total number of crimes reported in each state\n"
   ]
  },
  {
   "cell_type": "code",
   "execution_count": 16,
   "id": "3a1e5665",
   "metadata": {},
   "outputs": [
    {
     "data": {
      "text/plain": [
       "California              32130\n",
       "Texas                   19453\n",
       "Florida                 15231\n",
       "New York                11849\n",
       "Pennsylvania             9879\n",
       "Michigan                 9268\n",
       "Georgia                  8168\n",
       "Illinois                 7528\n",
       "North Carolina           7485\n",
       "Louisiana                7296\n",
       "Maryland                 6947\n",
       "Ohio                     6834\n",
       "Arizona                  6017\n",
       "Tennessee                6015\n",
       "Missouri                 5532\n",
       "New Jersey               5439\n",
       "Virginia                 5415\n",
       "Indiana                  4576\n",
       "South Carolina           4497\n",
       "Alabama                  3350\n",
       "Oklahoma                 3066\n",
       "Washington               2807\n",
       "Nevada                   2567\n",
       "Mississippi              2473\n",
       "Wisconsin                2461\n",
       "Colorado                 2376\n",
       "Arkansas                 2320\n",
       "Massachusetts            2309\n",
       "Kentucky                 2206\n",
       "New Mexico               1857\n",
       "District of Columbia     1734\n",
       "Connecticut              1584\n",
       "Minnesota                1576\n",
       "Kansas                   1376\n",
       "Oregon                   1263\n",
       "West Virginia             939\n",
       "Utah                      791\n",
       "Iowa                      691\n",
       "Alaska                    558\n",
       "Delaware                  556\n",
       "Nebraska                  495\n",
       "Rhodes Island             443\n",
       "Idaho                     429\n",
       "Hawaii                    375\n",
       "Maine                     341\n",
       "Montana                   294\n",
       "New Hampshire             206\n",
       "South Dakota              205\n",
       "Wyoming                   197\n",
       "Vermont                   162\n",
       "North Dakota              125\n",
       "Name: State, dtype: int64"
      ]
     },
     "execution_count": 16,
     "metadata": {},
     "output_type": "execute_result"
    }
   ],
   "source": [
    "M=Crime['State'].value_counts()\n",
    "M"
   ]
  },
  {
   "cell_type": "markdown",
   "id": "ead05c80",
   "metadata": {},
   "source": [
    "### 7. Find the total number of crimes in each year"
   ]
  },
  {
   "cell_type": "code",
   "execution_count": 17,
   "id": "f4c558a3",
   "metadata": {},
   "outputs": [
    {
     "data": {
      "text/plain": [
       "2007    17303\n",
       "2006    17275\n",
       "2005    16836\n",
       "2003    16512\n",
       "2002    16268\n",
       "2004    16233\n",
       "2009    15840\n",
       "2001    15803\n",
       "2008    15595\n",
       "2010    15121\n",
       "2012    15033\n",
       "2011    14756\n",
       "2000    14671\n",
       "2013    14445\n",
       "Name: Year, dtype: int64"
      ]
     },
     "execution_count": 17,
     "metadata": {},
     "output_type": "execute_result"
    }
   ],
   "source": [
    "a5=Crime['Year'].value_counts()\n",
    "a5"
   ]
  },
  {
   "cell_type": "markdown",
   "id": "fb51fe99",
   "metadata": {},
   "source": [
    "### 8. Find the total number of crimes in each month and year"
   ]
  },
  {
   "cell_type": "code",
   "execution_count": 18,
   "id": "8c305580",
   "metadata": {},
   "outputs": [
    {
     "data": {
      "text/plain": [
       "Year  Month   \n",
       "2001  March       1155\n",
       "2010  December    1152\n",
       "2008  February    1141\n",
       "2011  March       1136\n",
       "2004  February    1135\n",
       "2013  March       1131\n",
       "2002  February    1124\n",
       "2007  February    1123\n",
       "2006  February    1117\n",
       "2000  April       1114\n",
       "      March       1104\n",
       "      November    1100\n",
       "      February    1074\n",
       "2009  February    1069\n",
       "2001  February    1026\n",
       "2012  February     981\n",
       "2010  February     974\n",
       "2013  February     972\n",
       "2011  February     926\n",
       "dtype: int64"
      ]
     },
     "execution_count": 18,
     "metadata": {},
     "output_type": "execute_result"
    }
   ],
   "source": [
    "a6=Crime[['Year','Month']].value_counts().tail(19)\n",
    "a6"
   ]
  },
  {
   "cell_type": "markdown",
   "id": "5c08bc67",
   "metadata": {},
   "source": [
    "# OR"
   ]
  },
  {
   "cell_type": "code",
   "execution_count": 19,
   "id": "322e52c1",
   "metadata": {},
   "outputs": [
    {
     "data": {
      "text/plain": [
       "Year  Month    \n",
       "2012  July         1461\n",
       "      June         1254\n",
       "      March        1213\n",
       "      May          1280\n",
       "      November     1186\n",
       "      October      1247\n",
       "      September    1308\n",
       "2013  April        1157\n",
       "      August       1292\n",
       "      December     1193\n",
       "      February      972\n",
       "      January      1232\n",
       "      July         1410\n",
       "      June         1303\n",
       "      March        1131\n",
       "      May          1201\n",
       "      November     1190\n",
       "      October      1195\n",
       "      September    1169\n",
       "Name: Record ID, dtype: int64"
      ]
     },
     "execution_count": 19,
     "metadata": {},
     "output_type": "execute_result"
    }
   ],
   "source": [
    "f1=Crime.groupby(['Year','Month']).count()['Record ID'].tail(19)\n",
    "f1"
   ]
  },
  {
   "cell_type": "markdown",
   "id": "8488d705",
   "metadata": {},
   "source": [
    "### 9. Find the total number of crimes by crime type"
   ]
  },
  {
   "cell_type": "code",
   "execution_count": 20,
   "id": "4732ff1e",
   "metadata": {},
   "outputs": [
    {
     "data": {
      "text/plain": [
       "Murder or Manslaughter        218242\n",
       "Manslaughter by Negligence      3449\n",
       "Name: Crime Type, dtype: int64"
      ]
     },
     "execution_count": 20,
     "metadata": {},
     "output_type": "execute_result"
    }
   ],
   "source": [
    "a7=Crime['Crime Type'].value_counts()\n",
    "a7"
   ]
  },
  {
   "cell_type": "markdown",
   "id": "bcd1f494",
   "metadata": {},
   "source": [
    "### 10. Find the total number of crime type and Investigation agency"
   ]
  },
  {
   "cell_type": "code",
   "execution_count": 21,
   "id": "8aebf551",
   "metadata": {},
   "outputs": [
    {
     "data": {
      "text/html": [
       "<div>\n",
       "<style scoped>\n",
       "    .dataframe tbody tr th:only-of-type {\n",
       "        vertical-align: middle;\n",
       "    }\n",
       "\n",
       "    .dataframe tbody tr th {\n",
       "        vertical-align: top;\n",
       "    }\n",
       "\n",
       "    .dataframe thead th {\n",
       "        text-align: right;\n",
       "    }\n",
       "</style>\n",
       "<table border=\"1\" class=\"dataframe\">\n",
       "  <thead>\n",
       "    <tr style=\"text-align: right;\">\n",
       "      <th>Crime Type</th>\n",
       "      <th>Manslaughter by Negligence</th>\n",
       "      <th>Murder or Manslaughter</th>\n",
       "    </tr>\n",
       "    <tr>\n",
       "      <th>Agency Name</th>\n",
       "      <th></th>\n",
       "      <th></th>\n",
       "    </tr>\n",
       "  </thead>\n",
       "  <tbody>\n",
       "    <tr>\n",
       "      <th>Abbeville</th>\n",
       "      <td>0</td>\n",
       "      <td>29</td>\n",
       "    </tr>\n",
       "    <tr>\n",
       "      <th>Abbeville County</th>\n",
       "      <td>0</td>\n",
       "      <td>3</td>\n",
       "    </tr>\n",
       "    <tr>\n",
       "      <th>Aberdeen</th>\n",
       "      <td>0</td>\n",
       "      <td>27</td>\n",
       "    </tr>\n",
       "    <tr>\n",
       "      <th>Aberdeen Township</th>\n",
       "      <td>0</td>\n",
       "      <td>2</td>\n",
       "    </tr>\n",
       "    <tr>\n",
       "      <th>Abernathy</th>\n",
       "      <td>0</td>\n",
       "      <td>2</td>\n",
       "    </tr>\n",
       "    <tr>\n",
       "      <th>...</th>\n",
       "      <td>...</td>\n",
       "      <td>...</td>\n",
       "    </tr>\n",
       "    <tr>\n",
       "      <th>Zeeland</th>\n",
       "      <td>0</td>\n",
       "      <td>3</td>\n",
       "    </tr>\n",
       "    <tr>\n",
       "      <th>Zephyrhills</th>\n",
       "      <td>0</td>\n",
       "      <td>7</td>\n",
       "    </tr>\n",
       "    <tr>\n",
       "      <th>Zolfo Springs</th>\n",
       "      <td>1</td>\n",
       "      <td>1</td>\n",
       "    </tr>\n",
       "    <tr>\n",
       "      <th>Zumbrota</th>\n",
       "      <td>0</td>\n",
       "      <td>1</td>\n",
       "    </tr>\n",
       "    <tr>\n",
       "      <th>Zuni Tribal</th>\n",
       "      <td>0</td>\n",
       "      <td>1</td>\n",
       "    </tr>\n",
       "  </tbody>\n",
       "</table>\n",
       "<p>7142 rows × 2 columns</p>\n",
       "</div>"
      ],
      "text/plain": [
       "Crime Type         Manslaughter by Negligence  Murder or Manslaughter\n",
       "Agency Name                                                          \n",
       "Abbeville                                   0                      29\n",
       "Abbeville County                            0                       3\n",
       "Aberdeen                                    0                      27\n",
       "Aberdeen Township                           0                       2\n",
       "Abernathy                                   0                       2\n",
       "...                                       ...                     ...\n",
       "Zeeland                                     0                       3\n",
       "Zephyrhills                                 0                       7\n",
       "Zolfo Springs                               1                       1\n",
       "Zumbrota                                    0                       1\n",
       "Zuni Tribal                                 0                       1\n",
       "\n",
       "[7142 rows x 2 columns]"
      ]
     },
     "execution_count": 21,
     "metadata": {},
     "output_type": "execute_result"
    }
   ],
   "source": [
    "c5=pd.crosstab(Crime['Agency Name'],Crime['Crime Type'])\n",
    "c5\n"
   ]
  },
  {
   "cell_type": "markdown",
   "id": "af7a1cec",
   "metadata": {},
   "source": [
    "# OR"
   ]
  },
  {
   "cell_type": "code",
   "execution_count": 22,
   "id": "3c573b22",
   "metadata": {},
   "outputs": [
    {
     "data": {
      "text/plain": [
       "Agency Name    Crime Type                \n",
       "Yuba County    Manslaughter by Negligence     1\n",
       "               Murder or Manslaughter         9\n",
       "Yucaipa        Murder or Manslaughter        24\n",
       "Yucca Valley   Murder or Manslaughter        19\n",
       "Yukon          Murder or Manslaughter         6\n",
       "Yuma           Manslaughter by Negligence     3\n",
       "               Murder or Manslaughter        96\n",
       "Yuma County    Murder or Manslaughter        11\n",
       "Zachary        Murder or Manslaughter         4\n",
       "Zanesville     Manslaughter by Negligence     1\n",
       "               Murder or Manslaughter        23\n",
       "Zapata         Murder or Manslaughter         6\n",
       "Zavala         Murder or Manslaughter         6\n",
       "Zeeland        Murder or Manslaughter         3\n",
       "Zephyrhills    Murder or Manslaughter         7\n",
       "Zolfo Springs  Manslaughter by Negligence     1\n",
       "               Murder or Manslaughter         1\n",
       "Zumbrota       Murder or Manslaughter         1\n",
       "Zuni Tribal    Murder or Manslaughter         1\n",
       "Name: Record ID, dtype: int64"
      ]
     },
     "execution_count": 22,
     "metadata": {},
     "output_type": "execute_result"
    }
   ],
   "source": [
    "c6=Crime.groupby(['Agency Name','Crime Type']).count()['Record ID'].tail(19)\n",
    "c6"
   ]
  },
  {
   "cell_type": "markdown",
   "id": "5c7495da",
   "metadata": {},
   "source": [
    "### 11. Find the total number of solved crimes."
   ]
  },
  {
   "cell_type": "code",
   "execution_count": 23,
   "id": "7643a427",
   "metadata": {},
   "outputs": [
    {
     "data": {
      "text/plain": [
       "Yes    153778\n",
       "No      67913\n",
       "Name: Crime Solved, dtype: int64"
      ]
     },
     "execution_count": 23,
     "metadata": {},
     "output_type": "execute_result"
    }
   ],
   "source": [
    "a8=Crime['Crime Solved'].value_counts()\n",
    "a8"
   ]
  },
  {
   "cell_type": "markdown",
   "id": "3dcb967e",
   "metadata": {},
   "source": [
    "### 12. Find the total number of solved crimes by investigation agency\n"
   ]
  },
  {
   "cell_type": "code",
   "execution_count": 24,
   "id": "7aa098bb",
   "metadata": {},
   "outputs": [
    {
     "data": {
      "text/plain": [
       "Agency Name       Crime Solved\n",
       "Abbeville         No               7\n",
       "                  Yes             22\n",
       "Abbeville County  No               1\n",
       "                  Yes              2\n",
       "Aberdeen          No               1\n",
       "                                  ..\n",
       "Zeeland           Yes              3\n",
       "Zephyrhills       Yes              7\n",
       "Zolfo Springs     Yes              2\n",
       "Zumbrota          Yes              1\n",
       "Zuni Tribal       Yes              1\n",
       "Name: Record ID, Length: 10176, dtype: int64"
      ]
     },
     "execution_count": 24,
     "metadata": {},
     "output_type": "execute_result"
    }
   ],
   "source": [
    "B=Crime.groupby(['Agency Name','Crime Solved']).count()['Record ID']\n",
    "B"
   ]
  },
  {
   "cell_type": "markdown",
   "id": "0cf37912",
   "metadata": {},
   "source": [
    "# OR"
   ]
  },
  {
   "cell_type": "code",
   "execution_count": 25,
   "id": "8a243a04",
   "metadata": {},
   "outputs": [
    {
     "data": {
      "text/html": [
       "<div>\n",
       "<style scoped>\n",
       "    .dataframe tbody tr th:only-of-type {\n",
       "        vertical-align: middle;\n",
       "    }\n",
       "\n",
       "    .dataframe tbody tr th {\n",
       "        vertical-align: top;\n",
       "    }\n",
       "\n",
       "    .dataframe thead th {\n",
       "        text-align: right;\n",
       "    }\n",
       "</style>\n",
       "<table border=\"1\" class=\"dataframe\">\n",
       "  <thead>\n",
       "    <tr style=\"text-align: right;\">\n",
       "      <th>Crime Solved</th>\n",
       "      <th>No</th>\n",
       "      <th>Yes</th>\n",
       "    </tr>\n",
       "    <tr>\n",
       "      <th>Agency Name</th>\n",
       "      <th></th>\n",
       "      <th></th>\n",
       "    </tr>\n",
       "  </thead>\n",
       "  <tbody>\n",
       "    <tr>\n",
       "      <th>Abbeville</th>\n",
       "      <td>7</td>\n",
       "      <td>22</td>\n",
       "    </tr>\n",
       "    <tr>\n",
       "      <th>Abbeville County</th>\n",
       "      <td>1</td>\n",
       "      <td>2</td>\n",
       "    </tr>\n",
       "    <tr>\n",
       "      <th>Aberdeen</th>\n",
       "      <td>1</td>\n",
       "      <td>26</td>\n",
       "    </tr>\n",
       "    <tr>\n",
       "      <th>Aberdeen Township</th>\n",
       "      <td>0</td>\n",
       "      <td>2</td>\n",
       "    </tr>\n",
       "    <tr>\n",
       "      <th>Abernathy</th>\n",
       "      <td>0</td>\n",
       "      <td>2</td>\n",
       "    </tr>\n",
       "    <tr>\n",
       "      <th>...</th>\n",
       "      <td>...</td>\n",
       "      <td>...</td>\n",
       "    </tr>\n",
       "    <tr>\n",
       "      <th>Zeeland</th>\n",
       "      <td>0</td>\n",
       "      <td>3</td>\n",
       "    </tr>\n",
       "    <tr>\n",
       "      <th>Zephyrhills</th>\n",
       "      <td>0</td>\n",
       "      <td>7</td>\n",
       "    </tr>\n",
       "    <tr>\n",
       "      <th>Zolfo Springs</th>\n",
       "      <td>0</td>\n",
       "      <td>2</td>\n",
       "    </tr>\n",
       "    <tr>\n",
       "      <th>Zumbrota</th>\n",
       "      <td>0</td>\n",
       "      <td>1</td>\n",
       "    </tr>\n",
       "    <tr>\n",
       "      <th>Zuni Tribal</th>\n",
       "      <td>0</td>\n",
       "      <td>1</td>\n",
       "    </tr>\n",
       "  </tbody>\n",
       "</table>\n",
       "<p>7142 rows × 2 columns</p>\n",
       "</div>"
      ],
      "text/plain": [
       "Crime Solved       No  Yes\n",
       "Agency Name               \n",
       "Abbeville           7   22\n",
       "Abbeville County    1    2\n",
       "Aberdeen            1   26\n",
       "Aberdeen Township   0    2\n",
       "Abernathy           0    2\n",
       "...                ..  ...\n",
       "Zeeland             0    3\n",
       "Zephyrhills         0    7\n",
       "Zolfo Springs       0    2\n",
       "Zumbrota            0    1\n",
       "Zuni Tribal         0    1\n",
       "\n",
       "[7142 rows x 2 columns]"
      ]
     },
     "execution_count": 25,
     "metadata": {},
     "output_type": "execute_result"
    }
   ],
   "source": [
    "c7=pd.crosstab(Crime['Agency Name'],Crime['Crime Solved'])\n",
    "c7\n"
   ]
  },
  {
   "cell_type": "markdown",
   "id": "84814dfd",
   "metadata": {},
   "source": [
    "### 13. Find the total number of victims by gender"
   ]
  },
  {
   "cell_type": "code",
   "execution_count": 26,
   "id": "0c9c77b8",
   "metadata": {},
   "outputs": [
    {
     "data": {
      "text/plain": [
       "Male       172999\n",
       "Female      48269\n",
       "Unknown       423\n",
       "Name: Victim Sex, dtype: int64"
      ]
     },
     "execution_count": 26,
     "metadata": {},
     "output_type": "execute_result"
    }
   ],
   "source": [
    "B=Crime['Victim Sex'].value_counts()\n",
    "B"
   ]
  },
  {
   "cell_type": "markdown",
   "id": "0fca231d",
   "metadata": {},
   "source": [
    "### 14. Find the total number of crimes by victim race"
   ]
  },
  {
   "cell_type": "code",
   "execution_count": 27,
   "id": "f56f00c5",
   "metadata": {},
   "outputs": [
    {
     "data": {
      "text/plain": [
       "Black                            106752\n",
       "White                            106713\n",
       "Asian/Pacific Islander             3868\n",
       "Unknown                            2767\n",
       "Native American/Alaska Native      1591\n",
       "Name: Victim Race, dtype: int64"
      ]
     },
     "execution_count": 27,
     "metadata": {},
     "output_type": "execute_result"
    }
   ],
   "source": [
    "a7=Crime['Victim Race'].value_counts()\n",
    "a7"
   ]
  },
  {
   "cell_type": "markdown",
   "id": "4adfe5b3",
   "metadata": {},
   "source": [
    "### 15. Find the total number of solved crimes by victim sex and Investigation Agency"
   ]
  },
  {
   "cell_type": "code",
   "execution_count": 28,
   "id": "3ecfd275",
   "metadata": {},
   "outputs": [],
   "source": [
    "# Question is wrong\n",
    "\n",
    "#a6=Crime.groupby(['Victim Sex','Agency Name']).count()['Crime Solved']"
   ]
  },
  {
   "cell_type": "markdown",
   "id": "92adb647",
   "metadata": {},
   "source": [
    "### 16. Find the total number of Perpetrator by gender"
   ]
  },
  {
   "cell_type": "code",
   "execution_count": 29,
   "id": "55ba0f6b",
   "metadata": {},
   "outputs": [
    {
     "data": {
      "text/plain": [
       "Male       139446\n",
       "Unknown     68041\n",
       "Female      14204\n",
       "Name: Perpetrator Sex, dtype: int64"
      ]
     },
     "execution_count": 29,
     "metadata": {},
     "output_type": "execute_result"
    }
   ],
   "source": [
    "b1=Crime['Perpetrator Sex'].value_counts()\n",
    "b1"
   ]
  },
  {
   "cell_type": "markdown",
   "id": "e5dca6a3",
   "metadata": {},
   "source": [
    "### 17. Find the total number of Perpetrator by perpetrator race"
   ]
  },
  {
   "cell_type": "code",
   "execution_count": 30,
   "id": "b4c57cb4",
   "metadata": {},
   "outputs": [
    {
     "data": {
      "text/plain": [
       "White                            75112\n",
       "Black                            72674\n",
       "Unknown                          70295\n",
       "Asian/Pacific Islander            2351\n",
       "Native American/Alaska Native     1259\n",
       "Name: Perpetrator Race, dtype: int64"
      ]
     },
     "execution_count": 30,
     "metadata": {},
     "output_type": "execute_result"
    }
   ],
   "source": [
    "b1=Crime['Perpetrator Race'].value_counts()\n",
    "b1"
   ]
  },
  {
   "cell_type": "markdown",
   "id": "806425ff",
   "metadata": {},
   "source": [
    "### 18. Find the total number of crimes by relationship between perpetrator and the victim"
   ]
  },
  {
   "cell_type": "code",
   "execution_count": 31,
   "id": "5de92d6a",
   "metadata": {},
   "outputs": [
    {
     "data": {
      "text/plain": [
       "Unknown                 112111\n",
       "Acquaintance             33290\n",
       "Stranger                 30797\n",
       "Wife                      7995\n",
       "Girlfriend                6753\n",
       "Friend                    5713\n",
       "Son                       3695\n",
       "Family                    3532\n",
       "Daughter                  2889\n",
       "Boyfriend                 2233\n",
       "Mother                    1717\n",
       "Husband                   1684\n",
       "Neighbor                  1652\n",
       "Father                    1510\n",
       "Brother                   1484\n",
       "In-Law                     861\n",
       "Ex-Wife                    634\n",
       "Common-Law Wife            586\n",
       "Sister                     418\n",
       "Stepson                    407\n",
       "Stepfather                 393\n",
       "Boyfriend/Girlfriend       346\n",
       "Stepdaughter               293\n",
       "Common-Law Husband         222\n",
       "Employer                   168\n",
       "Ex-Husband                 126\n",
       "Employee                   114\n",
       "Stepmother                  68\n",
       "Name: Relationship, dtype: int64"
      ]
     },
     "execution_count": 31,
     "metadata": {},
     "output_type": "execute_result"
    }
   ],
   "source": [
    "N=Crime['Relationship'].value_counts()\n",
    "N"
   ]
  },
  {
   "cell_type": "markdown",
   "id": "397b0f0b",
   "metadata": {},
   "source": [
    "### 19. Find the mostly use weapon"
   ]
  },
  {
   "cell_type": "code",
   "execution_count": 32,
   "id": "da2e890a",
   "metadata": {},
   "outputs": [
    {
     "data": {
      "text/plain": [
       "Handgun          109611\n",
       "Knife             27371\n",
       "Firearm           25551\n",
       "Blunt Object      22654\n",
       "Unknown           15185\n",
       "Shotgun            6881\n",
       "Rifle              6524\n",
       "Strangulation      1814\n",
       "Fire               1696\n",
       "Suffocation        1532\n",
       "Gun                1395\n",
       "Drugs               886\n",
       "Drowning            299\n",
       "Poison              174\n",
       "Explosives           74\n",
       "Fall                 44\n",
       "Name: Weapon, dtype: int64"
      ]
     },
     "execution_count": 32,
     "metadata": {},
     "output_type": "execute_result"
    }
   ],
   "source": [
    "b3=Crime['Weapon'].value_counts()\n",
    "b3"
   ]
  },
  {
   "cell_type": "markdown",
   "id": "6c2c662b",
   "metadata": {},
   "source": [
    "### 20. Find the total number of crimes by state and city"
   ]
  },
  {
   "cell_type": "code",
   "execution_count": 33,
   "id": "84164493",
   "metadata": {},
   "outputs": [
    {
     "data": {
      "text/plain": [
       "State    City       \n",
       "Wyoming  Converse        4\n",
       "         Crook           2\n",
       "         Fremont        22\n",
       "         Goshen          3\n",
       "         Hot Springs     2\n",
       "         Johnson         2\n",
       "         Laramie        30\n",
       "         Lincoln         6\n",
       "         Natrona        42\n",
       "         Niobrara        1\n",
       "         Park            6\n",
       "         Platte          6\n",
       "         Sheridan        7\n",
       "         Sublette        3\n",
       "         Sweetwater     19\n",
       "         Teton           2\n",
       "         Uinta           6\n",
       "         Washakie        2\n",
       "         Weston          2\n",
       "Name: Record ID, dtype: int64"
      ]
     },
     "execution_count": 33,
     "metadata": {},
     "output_type": "execute_result"
    }
   ],
   "source": [
    "b2=Crime.groupby(['State','City']).count()['Record ID'].tail(19)\n",
    "b2"
   ]
  },
  {
   "cell_type": "markdown",
   "id": "1418aa9c",
   "metadata": {},
   "source": [
    "### 21. Find the total number of crimes by state and city and investigation agency"
   ]
  },
  {
   "cell_type": "code",
   "execution_count": 34,
   "id": "b5f1b86e",
   "metadata": {},
   "outputs": [
    {
     "data": {
      "text/plain": [
       "State    City        Agency Name      \n",
       "Wyoming  Natrona     Natrona               5\n",
       "                     Natrona County        1\n",
       "         Niobrara    Niobrara County       1\n",
       "         Park        Cody                  2\n",
       "                     Park County           3\n",
       "                     Powell                1\n",
       "         Platte      Wheatland             6\n",
       "         Sheridan    Sheridan              7\n",
       "         Sublette    Sublette              3\n",
       "         Sweetwater  Rock Springs         13\n",
       "                     Sweetwater            5\n",
       "                     Sweetwater County     1\n",
       "         Teton       Teton                 2\n",
       "         Uinta       Evanston              5\n",
       "                     Uinta                 1\n",
       "         Washakie    Washakie              1\n",
       "                     Worland               1\n",
       "         Weston      Newcastle             1\n",
       "                     Weston                1\n",
       "Name: Record ID, dtype: int64"
      ]
     },
     "execution_count": 34,
     "metadata": {},
     "output_type": "execute_result"
    }
   ],
   "source": [
    "b3=Crime.groupby(['State','City','Agency Name']).count()['Record ID'].tail(19)\n",
    "b3"
   ]
  },
  {
   "cell_type": "markdown",
   "id": "f638fdea",
   "metadata": {},
   "source": [
    "### 22. Find the total number of crimes by state and city by Crime Types"
   ]
  },
  {
   "cell_type": "code",
   "execution_count": 35,
   "id": "8e57d2a9",
   "metadata": {},
   "outputs": [
    {
     "data": {
      "text/plain": [
       "State    City        Crime Type            \n",
       "Alabama  Autauga     Murder or Manslaughter    13\n",
       "         Baldwin     Murder or Manslaughter    52\n",
       "         Barbour     Murder or Manslaughter    10\n",
       "         Bibb        Murder or Manslaughter     1\n",
       "         Blount      Murder or Manslaughter     6\n",
       "                                               ..\n",
       "Wyoming  Sweetwater  Murder or Manslaughter    18\n",
       "         Teton       Murder or Manslaughter     2\n",
       "         Uinta       Murder or Manslaughter     6\n",
       "         Washakie    Murder or Manslaughter     2\n",
       "         Weston      Murder or Manslaughter     2\n",
       "Name: Record ID, Length: 3494, dtype: int64"
      ]
     },
     "execution_count": 35,
     "metadata": {},
     "output_type": "execute_result"
    }
   ],
   "source": [
    "b4=Crime.groupby(['State','City','Crime Type']).count()['Record ID']\n",
    "b4"
   ]
  },
  {
   "cell_type": "markdown",
   "id": "b383e30c",
   "metadata": {},
   "source": [
    "### 23. Find the average age of victim in each crime type"
   ]
  },
  {
   "cell_type": "code",
   "execution_count": 36,
   "id": "fa5279d7",
   "metadata": {},
   "outputs": [
    {
     "data": {
      "text/plain": [
       "Crime Type\n",
       "Manslaughter by Negligence    27.423601\n",
       "Murder or Manslaughter        33.531355\n",
       "Name: Victim Age, dtype: float64"
      ]
     },
     "execution_count": 36,
     "metadata": {},
     "output_type": "execute_result"
    }
   ],
   "source": [
    "b4=Crime.groupby('Crime Type').mean()['Victim Age']\n",
    "b4"
   ]
  },
  {
   "cell_type": "markdown",
   "id": "9f293550",
   "metadata": {},
   "source": [
    "### 24. Find the average age of victim in Manslaughter by Negligence crime."
   ]
  },
  {
   "cell_type": "code",
   "execution_count": 37,
   "id": "074a7132",
   "metadata": {},
   "outputs": [
    {
     "data": {
      "text/plain": [
       "27.423601043780806"
      ]
     },
     "execution_count": 37,
     "metadata": {},
     "output_type": "execute_result"
    }
   ],
   "source": [
    "Crime.groupby('Crime Type').mean()['Victim Age'][0]\n"
   ]
  },
  {
   "cell_type": "markdown",
   "id": "4cb7bece",
   "metadata": {},
   "source": [
    "### 25. Find the average age of Perpetrator in each crime type"
   ]
  },
  {
   "cell_type": "code",
   "execution_count": 38,
   "id": "75584f8f",
   "metadata": {},
   "outputs": [
    {
     "data": {
      "text/plain": [
       "Crime Type\n",
       "Manslaughter by Negligence    28.013627\n",
       "Murder or Manslaughter        19.933991\n",
       "Name: Perpetrator Age, dtype: float64"
      ]
     },
     "execution_count": 38,
     "metadata": {},
     "output_type": "execute_result"
    }
   ],
   "source": [
    "b4=Crime.groupby('Crime Type').mean()['Perpetrator Age']\n",
    "b4"
   ]
  },
  {
   "cell_type": "markdown",
   "id": "c9066ae3",
   "metadata": {},
   "source": [
    "### 26. Find the average age of Perpetrator in Murder or Manslaughter crime"
   ]
  },
  {
   "cell_type": "code",
   "execution_count": 39,
   "id": "1597e9d7",
   "metadata": {},
   "outputs": [
    {
     "data": {
      "text/plain": [
       "28.013627138300958"
      ]
     },
     "execution_count": 39,
     "metadata": {},
     "output_type": "execute_result"
    }
   ],
   "source": [
    "Crime.groupby('Crime Type').mean()['Perpetrator Age'][0]\n"
   ]
  },
  {
   "cell_type": "markdown",
   "id": "6be5dc89",
   "metadata": {},
   "source": [
    "### 27. Create a pie chart to show most weapons used in the crime."
   ]
  },
  {
   "cell_type": "code",
   "execution_count": 40,
   "id": "691a738b",
   "metadata": {},
   "outputs": [
    {
     "data": {
      "text/plain": [
       "Handgun          109611\n",
       "Knife             27371\n",
       "Firearm           25551\n",
       "Blunt Object      22654\n",
       "Unknown           15185\n",
       "Shotgun            6881\n",
       "Rifle              6524\n",
       "Strangulation      1814\n",
       "Fire               1696\n",
       "Suffocation        1532\n",
       "Gun                1395\n",
       "Drugs               886\n",
       "Drowning            299\n",
       "Poison              174\n",
       "Explosives           74\n",
       "Fall                 44\n",
       "Name: Weapon, dtype: int64"
      ]
     },
     "execution_count": 40,
     "metadata": {},
     "output_type": "execute_result"
    }
   ],
   "source": [
    "B=Crime['Weapon'].value_counts()\n",
    "B"
   ]
  },
  {
   "cell_type": "code",
   "execution_count": 41,
   "id": "1d3abc74",
   "metadata": {},
   "outputs": [
    {
     "data": {
      "text/plain": [
       "Index(['Handgun', 'Knife', 'Firearm', 'Blunt Object', 'Unknown', 'Shotgun',\n",
       "       'Rifle', 'Strangulation', 'Fire', 'Suffocation', 'Gun', 'Drugs',\n",
       "       'Drowning', 'Poison', 'Explosives', 'Fall'],\n",
       "      dtype='object')"
      ]
     },
     "execution_count": 41,
     "metadata": {},
     "output_type": "execute_result"
    }
   ],
   "source": [
    "B3=Crime.Weapon.value_counts().index\n",
    "B3"
   ]
  },
  {
   "cell_type": "code",
   "execution_count": 42,
   "id": "547f025e",
   "metadata": {},
   "outputs": [
    {
     "data": {
      "text/plain": [
       "Index(['Handgun', 'Knife', 'Firearm', 'Blunt Object', 'Unknown', 'Shotgun',\n",
       "       'Rifle', 'Strangulation', 'Fire', 'Suffocation', 'Gun', 'Drugs',\n",
       "       'Drowning', 'Poison', 'Explosives', 'Fall'],\n",
       "      dtype='object')"
      ]
     },
     "execution_count": 42,
     "metadata": {},
     "output_type": "execute_result"
    },
    {
     "data": {
      "image/png": "[encoded data removed]",
      "text/plain": [
       "<Figure size 432x288 with 1 Axes>"
      ]
     },
     "metadata": {},
     "output_type": "display_data"
    }
   ],
   "source": [
    "# Top 5 of Weapon\n",
    "\n",
    "B3=Crime.Weapon.value_counts().index\n",
    "pie_val=Crime.Weapon.value_counts().values\n",
    "plt.pie(pie_val[:5],labels=B3[:5],autopct='%1.2f%%')\n",
    "B3\n"
   ]
  },
  {
   "cell_type": "code",
   "execution_count": 43,
   "id": "d6cb595c",
   "metadata": {},
   "outputs": [
    {
     "data": {
      "text/plain": [
       "Index(['Handgun', 'Knife', 'Firearm', 'Blunt Object', 'Unknown', 'Shotgun',\n",
       "       'Rifle', 'Strangulation', 'Fire', 'Suffocation', 'Gun', 'Drugs',\n",
       "       'Drowning', 'Poison', 'Explosives', 'Fall'],\n",
       "      dtype='object')"
      ]
     },
     "execution_count": 43,
     "metadata": {},
     "output_type": "execute_result"
    },
    {
     "data": {
      "image/png": "[encoded data removed]",
      "text/plain": [
       "<Figure size 432x288 with 1 Axes>"
      ]
     },
     "metadata": {},
     "output_type": "display_data"
    }
   ],
   "source": [
    "# Bottom 10 of Weapon\n",
    "\n",
    "B3=Crime.Weapon.value_counts().index\n",
    "pie_val=Crime.Weapon.value_counts().values\n",
    "plt.pie(pie_val[10:],labels=B3[10:],autopct='%1.2f%%')\n",
    "B3\n"
   ]
  },
  {
   "cell_type": "markdown",
   "id": "4c6ca115",
   "metadata": {},
   "source": [
    "### 28. Create visualization plots for all the possible questions. (bring appropriate charts, charts should be modified and it should be readable)"
   ]
  },
  {
   "cell_type": "code",
   "execution_count": 44,
   "id": "1aaa98f4",
   "metadata": {},
   "outputs": [
    {
     "data": {
      "text/plain": [
       "<AxesSubplot:title={'center':'Relationship'}>"
      ]
     },
     "execution_count": 44,
     "metadata": {},
     "output_type": "execute_result"
    },
    {
     "data": {
      "image/png": "[encoded data removed]",
      "text/plain": [
       "<Figure size 1440x360 with 1 Axes>"
      ]
     },
     "metadata": {
      "needs_background": "light"
     },
     "output_type": "display_data"
    }
   ],
   "source": [
    "# Bar plot of Relationship\n",
    "\n",
    "plt.title('Relationship',color='black')\n",
    "N.plot(kind='bar',figsize=(20,5),color='black')"
   ]
  },
  {
   "cell_type": "code",
   "execution_count": 45,
   "id": "44d0b1ad",
   "metadata": {},
   "outputs": [
    {
     "data": {
      "text/plain": [
       "<AxesSubplot:title={'center':'State'}>"
      ]
     },
     "execution_count": 45,
     "metadata": {},
     "output_type": "execute_result"
    },
    {
     "data": {
      "image/png": "[encoded data removed]",
      "text/plain": [
       "<Figure size 1440x360 with 1 Axes>"
      ]
     },
     "metadata": {
      "needs_background": "light"
     },
     "output_type": "display_data"
    }
   ],
   "source": [
    "# Bar plot of State\n",
    "\n",
    "plt.title('State',color='brown')\n",
    "M.plot(kind='bar',figsize=(20,5),color='brown')"
   ]
  },
  {
   "cell_type": "code",
   "execution_count": 46,
   "id": "759f9cd4",
   "metadata": {},
   "outputs": [
    {
     "data": {
      "text/plain": [
       "<AxesSubplot:title={'center':'Agency Type'}>"
      ]
     },
     "execution_count": 46,
     "metadata": {},
     "output_type": "execute_result"
    },
    {
     "data": {
      "image/png": "[encoded data removed]",
      "text/plain": [
       "<Figure size 1440x360 with 1 Axes>"
      ]
     },
     "metadata": {
      "needs_background": "light"
     },
     "output_type": "display_data"
    }
   ],
   "source": [
    "# Bar plot of Agency Type\n",
    "\n",
    "plt.title('Agency Type',color='Green')\n",
    "a5.plot(kind='bar',figsize=(20,5),color='orange')"
   ]
  },
  {
   "cell_type": "code",
   "execution_count": 47,
   "id": "72ecb8b3",
   "metadata": {},
   "outputs": [
    {
     "data": {
      "text/plain": [
       "Text(0.5, 1.0, 'Weapon')"
      ]
     },
     "execution_count": 47,
     "metadata": {},
     "output_type": "execute_result"
    },
    {
     "data": {
      "image/png": "[encoded data removed]",
      "text/plain": [
       "<Figure size 432x288 with 1 Axes>"
      ]
     },
     "metadata": {
      "needs_background": "light"
     },
     "output_type": "display_data"
    }
   ],
   "source": [
    "# Bar plot of Weapon\n",
    "B.plot(kind='bar', color='blue')\n",
    "plt.title('Weapon')"
   ]
  },
  {
   "cell_type": "code",
   "execution_count": 48,
   "id": "c866b75b",
   "metadata": {},
   "outputs": [
    {
     "data": {
      "text/plain": [
       "Murder or Manslaughter        218242\n",
       "Manslaughter by Negligence      3449\n",
       "Name: Crime Type, dtype: int64"
      ]
     },
     "execution_count": 48,
     "metadata": {},
     "output_type": "execute_result"
    }
   ],
   "source": [
    "# Bar plot of Crime Type\n",
    "\n",
    "d=Crime['Crime Type'].value_counts()\n",
    "d"
   ]
  },
  {
   "cell_type": "code",
   "execution_count": 49,
   "id": "b24ba9c4",
   "metadata": {},
   "outputs": [
    {
     "data": {
      "text/plain": [
       "Text(0.5, 1.0, 'Crime Type')"
      ]
     },
     "execution_count": 49,
     "metadata": {},
     "output_type": "execute_result"
    },
    {
     "data": {
      "image/png": "[encoded data removed]",
      "text/plain": [
       "<Figure size 432x288 with 1 Axes>"
      ]
     },
     "metadata": {
      "needs_background": "light"
     },
     "output_type": "display_data"
    }
   ],
   "source": [
    "# Bar plot of Crime Type\n",
    "\n",
    "d.plot(kind='bar', color='orange')\n",
    "plt.title('Crime Type')"
   ]
  },
  {
   "cell_type": "code",
   "execution_count": 50,
   "id": "eee952fb",
   "metadata": {},
   "outputs": [
    {
     "data": {
      "image/png": "[encoded data removed]",
      "text/plain": [
       "<Figure size 432x288 with 1 Axes>"
      ]
     },
     "metadata": {
      "needs_background": "light"
     },
     "output_type": "display_data"
    }
   ],
   "source": [
    "#Bar Plot of Perpetrator Sex\n",
    "\n",
    "s1=Crime['Perpetrator Sex'].value_counts(dropna = False).plot.bar(color = 'green')\n",
    "plt.title('Perpetrator Sex of Males and Females')\n",
    "plt.xlabel('Perpetrator Sex')\n",
    "plt.ylabel('count')\n",
    "plt.show()"
   ]
  },
  {
   "cell_type": "code",
   "execution_count": 51,
   "id": "235be4a8",
   "metadata": {},
   "outputs": [
    {
     "data": {
      "text/plain": [
       "<AxesSubplot:ylabel='Perpetrator Sex'>"
      ]
     },
     "execution_count": 51,
     "metadata": {},
     "output_type": "execute_result"
    },
    {
     "data": {
      "image/png": "[encoded data removed]",
      "text/plain": [
       "<Figure size 432x288 with 1 Axes>"
      ]
     },
     "metadata": {},
     "output_type": "display_data"
    }
   ],
   "source": [
    "# Pie plot of perpertrator Sex\n",
    "\n",
    "s=Crime['Perpetrator Sex'].value_counts(normalize = True)\n",
    "s.plot(kind=\"pie\", colors=['lawngreen', 'cyan'], autopct='%1.2f%%')"
   ]
  },
  {
   "cell_type": "code",
   "execution_count": 52,
   "id": "4e6c126c",
   "metadata": {},
   "outputs": [
    {
     "data": {
      "text/plain": [
       "<AxesSubplot:>"
      ]
     },
     "execution_count": 52,
     "metadata": {},
     "output_type": "execute_result"
    },
    {
     "data": {
      "image/png": "[encoded data removed]",
      "text/plain": [
       "<Figure size 432x288 with 2 Axes>"
      ]
     },
     "metadata": {
      "needs_background": "light"
     },
     "output_type": "display_data"
    }
   ],
   "source": [
    "#heatmap \n",
    "sns.heatmap(Crime.corr(), annot=True, cmap='RdYlGn', square=True) "
   ]
  },
  {
   "cell_type": "code",
   "execution_count": 53,
   "id": "a7d2d8ba",
   "metadata": {},
   "outputs": [
    {
     "data": {
      "text/plain": [
       "Black                            106752\n",
       "White                            106713\n",
       "Asian/Pacific Islander             3868\n",
       "Unknown                            2767\n",
       "Native American/Alaska Native      1591\n",
       "Name: Victim Race, dtype: int64"
      ]
     },
     "execution_count": 53,
     "metadata": {},
     "output_type": "execute_result"
    }
   ],
   "source": [
    "D1=Crime['Victim Race'].value_counts()\n",
    "D1"
   ]
  },
  {
   "cell_type": "code",
   "execution_count": 54,
   "id": "a213f8c9",
   "metadata": {},
   "outputs": [
    {
     "data": {
      "text/plain": [
       "Text(0.5, 1.0, 'Victim Race')"
      ]
     },
     "execution_count": 54,
     "metadata": {},
     "output_type": "execute_result"
    },
    {
     "data": {
      "image/png": "[encoded data removed]",
      "text/plain": [
       "<Figure size 432x288 with 1 Axes>"
      ]
     },
     "metadata": {
      "needs_background": "light"
     },
     "output_type": "display_data"
    }
   ],
   "source": [
    "D1.plot(kind='bar', color='blue')\n",
    "plt.title('Victim Race')"
   ]
  },
  {
   "cell_type": "code",
   "execution_count": 55,
   "id": "2c5087d3",
   "metadata": {},
   "outputs": [
    {
     "data": {
      "text/plain": [
       "FBI     205251\n",
       "FOIA     16440\n",
       "Name: Record Source, dtype: int64"
      ]
     },
     "execution_count": 55,
     "metadata": {},
     "output_type": "execute_result"
    }
   ],
   "source": [
    "D2=Crime['Record Source'].value_counts()\n",
    "D2"
   ]
  },
  {
   "cell_type": "code",
   "execution_count": 56,
   "id": "4e49f1ed",
   "metadata": {},
   "outputs": [
    {
     "data": {
      "text/plain": [
       "Text(0.5, 1.0, 'Record Source')"
      ]
     },
     "execution_count": 56,
     "metadata": {},
     "output_type": "execute_result"
    },
    {
     "data": {
      "image/png": "[encoded data removed]",
      "text/plain": [
       "<Figure size 432x288 with 1 Axes>"
      ]
     },
     "metadata": {
      "needs_background": "light"
     },
     "output_type": "display_data"
    }
   ],
   "source": [
    "# Bar plot of Record Source\n",
    "\n",
    "D2.plot(kind='bar', color='red')\n",
    "plt.title('Record Source')"
   ]
  },
  {
   "cell_type": "code",
   "execution_count": 57,
   "id": "14129603",
   "metadata": {},
   "outputs": [
    {
     "data": {
      "text/plain": [
       "<AxesSubplot:ylabel='Record Source'>"
      ]
     },
     "execution_count": 57,
     "metadata": {},
     "output_type": "execute_result"
    },
    {
     "data": {
      "image/png": "[encoded data removed]",
      "text/plain": [
       "<Figure size 432x288 with 1 Axes>"
      ]
     },
     "metadata": {},
     "output_type": "display_data"
    }
   ],
   "source": [
    "# Pie plot of Record Source\n",
    "\n",
    "D2.plot(kind='pie', colors=['blue', 'cyan'],autopct='%1.2f%%')"
   ]
  },
  {
   "cell_type": "code",
   "execution_count": 58,
   "id": "a22a82a8",
   "metadata": {},
   "outputs": [
    {
     "data": {
      "text/plain": [
       "Unknown         169508\n",
       "Not Hispanic     36410\n",
       "Hispanic         15773\n",
       "Name: Perpetrator Ethnicity, dtype: int64"
      ]
     },
     "execution_count": 58,
     "metadata": {},
     "output_type": "execute_result"
    }
   ],
   "source": [
    "\n",
    "D3=Crime['Perpetrator Ethnicity'].value_counts()\n",
    "D3"
   ]
  },
  {
   "cell_type": "code",
   "execution_count": 59,
   "id": "d58ff827",
   "metadata": {},
   "outputs": [
    {
     "data": {
      "text/plain": [
       "Text(0.5, 1.0, 'Perpetrator Ethnicity')"
      ]
     },
     "execution_count": 59,
     "metadata": {},
     "output_type": "execute_result"
    },
    {
     "data": {
      "image/png": "[encoded data removed]",
      "text/plain": [
       "<Figure size 432x288 with 1 Axes>"
      ]
     },
     "metadata": {
      "needs_background": "light"
     },
     "output_type": "display_data"
    }
   ],
   "source": [
    "# Bar plot of Perpetrator Ethnicity\n",
    "\n",
    "D3.plot(kind='bar', color='blue')\n",
    "plt.title('Perpetrator Ethnicity')"
   ]
  },
  {
   "cell_type": "code",
   "execution_count": 60,
   "id": "dabab676",
   "metadata": {},
   "outputs": [
    {
     "data": {
      "text/plain": [
       "<AxesSubplot:ylabel='Perpetrator Ethnicity'>"
      ]
     },
     "execution_count": 60,
     "metadata": {},
     "output_type": "execute_result"
    },
    {
     "data": {
      "image/png": "[encoded data removed]",
      "text/plain": [
       "<Figure size 432x288 with 1 Axes>"
      ]
     },
     "metadata": {},
     "output_type": "display_data"
    }
   ],
   "source": [
    "# Pie plot of Perpetrator Ethnicity\n",
    "\n",
    "D3.plot(kind='pie', colors=['blue', 'cyan'],autopct='%1.2f%%')"
   ]
  },
  {
   "cell_type": "code",
   "execution_count": 61,
   "id": "025213a4",
   "metadata": {},
   "outputs": [
    {
     "data": {
      "text/plain": [
       "Yes    153778\n",
       "No      67913\n",
       "Name: Crime Solved, dtype: int64"
      ]
     },
     "execution_count": 61,
     "metadata": {},
     "output_type": "execute_result"
    }
   ],
   "source": [
    "D4=Crime['Crime Solved'].value_counts()\n",
    "D4"
   ]
  },
  {
   "cell_type": "code",
   "execution_count": 62,
   "id": "ef689c7e",
   "metadata": {},
   "outputs": [
    {
     "data": {
      "text/plain": [
       "Text(0.5, 1.0, 'Crime Solved')"
      ]
     },
     "execution_count": 62,
     "metadata": {},
     "output_type": "execute_result"
    },
    {
     "data": {
      "image/png": "[encoded data removed]",
      "text/plain": [
       "<Figure size 432x288 with 1 Axes>"
      ]
     },
     "metadata": {
      "needs_background": "light"
     },
     "output_type": "display_data"
    }
   ],
   "source": [
    "# Bar plot of Crime Solved\n",
    "\n",
    "\n",
    "D4.plot(kind='bar', color='blue')\n",
    "plt.title('Crime Solved')"
   ]
  },
  {
   "cell_type": "code",
   "execution_count": 63,
   "id": "d725c046",
   "metadata": {},
   "outputs": [
    {
     "data": {
      "text/plain": [
       "<AxesSubplot:ylabel='Crime Solved'>"
      ]
     },
     "execution_count": 63,
     "metadata": {},
     "output_type": "execute_result"
    },
    {
     "data": {
      "image/png": "[encoded data removed]",
      "text/plain": [
       "<Figure size 432x288 with 1 Axes>"
      ]
     },
     "metadata": {},
     "output_type": "display_data"
    }
   ],
   "source": [
    "# Pie plot of 'Crime Solved\n",
    "\n",
    "a8.plot(kind=\"pie\", colors=['lawngreen', 'cyan'], autopct='%1.2f%%')"
   ]
  },
  {
   "cell_type": "code",
   "execution_count": 64,
   "id": "ee3f0fc1",
   "metadata": {},
   "outputs": [
    {
     "data": {
      "text/plain": [
       "<AxesSubplot:title={'center':'Victim Sex'}>"
      ]
     },
     "execution_count": 64,
     "metadata": {},
     "output_type": "execute_result"
    },
    {
     "data": {
      "image/png": "[encoded data removed]",
      "text/plain": [
       "<Figure size 432x288 with 1 Axes>"
      ]
     },
     "metadata": {
      "needs_background": "light"
     },
     "output_type": "display_data"
    }
   ],
   "source": [
    "# Bar plot of Victim Sex\n",
    "\n",
    "plt.title('Victim Sex',color='Green')\n",
    "B.plot(kind='bar')"
   ]
  },
  {
   "cell_type": "markdown",
   "id": "21f819b1",
   "metadata": {},
   "source": [
    "# Conclusion\n",
    "\n",
    "This is Crime Analysis.\n",
    "\n",
    "There are 221691 rows and 24 columns.\n",
    "\n",
    "Total number of crimes is 221691.\n",
    "\n",
    "7142 is the unique number of the Investigation Agency.\n",
    "\n",
    "A total number of crimes reported by each Investigation Agency: Los Angeles-(7798)\n",
    "\n",
    "7142 is the unique number of the Agency Type.\n",
    "\n",
    "The total number of crimes by Investigation Agency Type is (Municipal Police – 168696).\n",
    "\n",
    "The total number of crimes reported in each state is California (32130).\n",
    "\n",
    "The total number of crimes in each year is 2007 - (17303).\n",
    "\n",
    "The total number of crimes by crime type is Murder or Manslaughter -218242\n",
    "and Manslaughter by Negligence -3449.\n",
    "\n",
    "The total number of solved crimes is yes (153778) and No (67913).\n",
    " \n",
    "The number of victims by gender in the number of males (172999) is greater than the number of females 48269.\n",
    "\n",
    "The total number of crimes by victim race is Black (106752).\n",
    "\n",
    "Total number of Perpetrator by gender in Male (139446), Unknown (68041) and Female (14204).\n",
    "\n",
    "Maximum relationship is Unknown (112111).\n",
    "\n",
    "Minimum of relationship is Stepmother (68).\n",
    "\n",
    "Maximum of Weapon is Handgun (109611).\n",
    "\n",
    "Minimum of Weapon is Fall (44).\n",
    "\n",
    "Total number of crimes by state and city in Laramie (30).\n",
    "\n",
    "The average age of victim in each crime type in Manslaughter by Negligence: 27.423601 and\n",
    "\n",
    "Murder or Manslaughter: 33.531355.\n",
    "\n",
    "Average age of victim in Manslaughter by Negligence crime-27.423601.\n",
    "\n",
    "The average age of Perpetrator in each crime type in Manslaughter by Negligence:  28.013627 and \n",
    "Murder or Manslaughter:  19.933991.\n",
    "\n",
    "The average age of Perpetrator in Murder or Manslaughter crime-28.013627138300958\n",
    "\n",
    "\n",
    "\n",
    "\n",
    "\n",
    "\n",
    "\n"
   ]
  },
  {
   "cell_type": "code",
   "execution_count": null,
   "id": "1be31ac4",
   "metadata": {},
   "outputs": [],
   "source": []
  }
 ],
 "metadata": {
  "kernelspec": {
   "display_name": "Python 3 (ipykernel)",
   "language": "python",
   "name": "python3"
  },
  "language_info": {
   "codemirror_mode": {
    "name": "ipython",
    "version": 3
   },
   "file_extension": ".py",
   "mimetype": "text/x-python",
   "name": "python",
   "nbconvert_exporter": "python",
   "pygments_lexer": "ipython3",
   "version": "3.9.12"
  }
 },
 "nbformat": 4,
 "nbformat_minor": 5
}
